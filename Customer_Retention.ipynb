{
 "cells": [
  {
   "cell_type": "code",
   "execution_count": 2,
   "metadata": {},
   "outputs": [],
   "source": [
    "import numpy as np \n",
    "import pandas as pd \n",
    "import matplotlib.pyplot as plt\n",
    "import seaborn as sns\n",
    "%matplotlib inline\n",
    "import warnings\n",
    "warnings.filterwarnings('ignore')\n",
    "from sklearn.preprocessing import LabelEncoder"
   ]
  },
  {
   "cell_type": "markdown",
   "metadata": {},
   "source": [
    "Read the data"
   ]
  },
  {
   "cell_type": "code",
   "execution_count": 3,
   "metadata": {},
   "outputs": [
    {
     "data": {
      "text/html": [
       "<div>\n",
       "<style scoped>\n",
       "    .dataframe tbody tr th:only-of-type {\n",
       "        vertical-align: middle;\n",
       "    }\n",
       "\n",
       "    .dataframe tbody tr th {\n",
       "        vertical-align: top;\n",
       "    }\n",
       "\n",
       "    .dataframe thead th {\n",
       "        text-align: right;\n",
       "    }\n",
       "</style>\n",
       "<table border=\"1\" class=\"dataframe\">\n",
       "  <thead>\n",
       "    <tr style=\"text-align: right;\">\n",
       "      <th></th>\n",
       "      <th>1Gender of respondent</th>\n",
       "      <th>2 How old are you?</th>\n",
       "      <th>3 Which city do you shop online from?</th>\n",
       "      <th>4 What is the Pin Code of where you shop online from?</th>\n",
       "      <th>5 Since How Long You are Shopping Online ?</th>\n",
       "      <th>6 How many times you have made an online purchase in the past 1 year?</th>\n",
       "      <th>7 How do you access the internet while shopping on-line?</th>\n",
       "      <th>8 Which device do you use to access the online shopping?</th>\n",
       "      <th>9 What is the screen size of your mobile device?\\t\\t\\t\\t\\t\\t</th>\n",
       "      <th>10 What is the operating system (OS) of your device?\\t\\t\\t\\t</th>\n",
       "      <th>...</th>\n",
       "      <th>Longer time to get logged in (promotion, sales period)</th>\n",
       "      <th>Longer time in displaying graphics and photos (promotion, sales period)</th>\n",
       "      <th>Late declaration of price (promotion, sales period)</th>\n",
       "      <th>Longer page loading time (promotion, sales period)</th>\n",
       "      <th>Limited mode of payment on most products (promotion, sales period)</th>\n",
       "      <th>Longer delivery period</th>\n",
       "      <th>Change in website/Application design</th>\n",
       "      <th>Frequent disruption when moving from one page to another</th>\n",
       "      <th>Website is as efficient as before</th>\n",
       "      <th>Which of the Indian online retailer would you recommend to a friend?</th>\n",
       "    </tr>\n",
       "  </thead>\n",
       "  <tbody>\n",
       "    <tr>\n",
       "      <th>0</th>\n",
       "      <td>Male</td>\n",
       "      <td>31-40 years</td>\n",
       "      <td>Delhi</td>\n",
       "      <td>110009</td>\n",
       "      <td>Above 4 years</td>\n",
       "      <td>31-40 times</td>\n",
       "      <td>Dial-up</td>\n",
       "      <td>Desktop</td>\n",
       "      <td>Others</td>\n",
       "      <td>Window/windows Mobile</td>\n",
       "      <td>...</td>\n",
       "      <td>Amazon.in</td>\n",
       "      <td>Amazon.in</td>\n",
       "      <td>Flipkart.com</td>\n",
       "      <td>Flipkart.com</td>\n",
       "      <td>Amazon.in</td>\n",
       "      <td>Paytm.com</td>\n",
       "      <td>Flipkart.com</td>\n",
       "      <td>Amazon.in</td>\n",
       "      <td>Amazon.in</td>\n",
       "      <td>Flipkart.com</td>\n",
       "    </tr>\n",
       "    <tr>\n",
       "      <th>1</th>\n",
       "      <td>Female</td>\n",
       "      <td>21-30 years</td>\n",
       "      <td>Delhi</td>\n",
       "      <td>110030</td>\n",
       "      <td>Above 4 years</td>\n",
       "      <td>41 times and above</td>\n",
       "      <td>Wi-Fi</td>\n",
       "      <td>Smartphone</td>\n",
       "      <td>4.7 inches</td>\n",
       "      <td>IOS/Mac</td>\n",
       "      <td>...</td>\n",
       "      <td>Amazon.in, Flipkart.com</td>\n",
       "      <td>Myntra.com</td>\n",
       "      <td>snapdeal.com</td>\n",
       "      <td>Snapdeal.com</td>\n",
       "      <td>Snapdeal.com</td>\n",
       "      <td>Snapdeal.com</td>\n",
       "      <td>Amazon.in</td>\n",
       "      <td>Myntra.com</td>\n",
       "      <td>Amazon.in, Flipkart.com</td>\n",
       "      <td>Amazon.in, Myntra.com</td>\n",
       "    </tr>\n",
       "    <tr>\n",
       "      <th>2</th>\n",
       "      <td>Female</td>\n",
       "      <td>21-30 years</td>\n",
       "      <td>Greater Noida</td>\n",
       "      <td>201308</td>\n",
       "      <td>3-4 years</td>\n",
       "      <td>41 times and above</td>\n",
       "      <td>Mobile Internet</td>\n",
       "      <td>Smartphone</td>\n",
       "      <td>5.5 inches</td>\n",
       "      <td>Android</td>\n",
       "      <td>...</td>\n",
       "      <td>Myntra.com</td>\n",
       "      <td>Myntra.com</td>\n",
       "      <td>Myntra.com</td>\n",
       "      <td>Myntra.com</td>\n",
       "      <td>Amazon.in</td>\n",
       "      <td>Paytm.com</td>\n",
       "      <td>Paytm.com</td>\n",
       "      <td>Paytm.com</td>\n",
       "      <td>Amazon.in</td>\n",
       "      <td>Amazon.in, Paytm.com, Myntra.com</td>\n",
       "    </tr>\n",
       "    <tr>\n",
       "      <th>3</th>\n",
       "      <td>Male</td>\n",
       "      <td>21-30 years</td>\n",
       "      <td>Karnal</td>\n",
       "      <td>132001</td>\n",
       "      <td>3-4 years</td>\n",
       "      <td>Less than 10 times</td>\n",
       "      <td>Mobile Internet</td>\n",
       "      <td>Smartphone</td>\n",
       "      <td>5.5 inches</td>\n",
       "      <td>IOS/Mac</td>\n",
       "      <td>...</td>\n",
       "      <td>Snapdeal.com</td>\n",
       "      <td>Myntra.com, Snapdeal.com</td>\n",
       "      <td>Myntra.com</td>\n",
       "      <td>Paytm.com</td>\n",
       "      <td>Paytm.com</td>\n",
       "      <td>Paytm.com</td>\n",
       "      <td>Amazon.in, Flipkart.com</td>\n",
       "      <td>Amazon.in, Flipkart.com</td>\n",
       "      <td>Amazon.in, Flipkart.com, Paytm.com</td>\n",
       "      <td>Amazon.in, Flipkart.com</td>\n",
       "    </tr>\n",
       "    <tr>\n",
       "      <th>4</th>\n",
       "      <td>Female</td>\n",
       "      <td>21-30 years</td>\n",
       "      <td>Bangalore</td>\n",
       "      <td>530068</td>\n",
       "      <td>2-3 years</td>\n",
       "      <td>11-20 times</td>\n",
       "      <td>Wi-Fi</td>\n",
       "      <td>Smartphone</td>\n",
       "      <td>4.7 inches</td>\n",
       "      <td>IOS/Mac</td>\n",
       "      <td>...</td>\n",
       "      <td>Flipkart.com, Paytm.com</td>\n",
       "      <td>Paytm.com</td>\n",
       "      <td>Paytm.com</td>\n",
       "      <td>Paytm.com</td>\n",
       "      <td>Snapdeal.com</td>\n",
       "      <td>Paytm.com</td>\n",
       "      <td>Amazon.in</td>\n",
       "      <td>Snapdeal.com</td>\n",
       "      <td>Paytm.com</td>\n",
       "      <td>Amazon.in, Myntra.com</td>\n",
       "    </tr>\n",
       "  </tbody>\n",
       "</table>\n",
       "<p>5 rows × 71 columns</p>\n",
       "</div>"
      ],
      "text/plain": [
       "  1Gender of respondent 2 How old are you?   \\\n",
       "0                  Male         31-40 years   \n",
       "1                Female         21-30 years   \n",
       "2                Female         21-30 years   \n",
       "3                  Male         21-30 years   \n",
       "4                Female         21-30 years   \n",
       "\n",
       "  3 Which city do you shop online from?  \\\n",
       "0                                 Delhi   \n",
       "1                                 Delhi   \n",
       "2                         Greater Noida   \n",
       "3                               Karnal    \n",
       "4                            Bangalore    \n",
       "\n",
       "   4 What is the Pin Code of where you shop online from?  \\\n",
       "0                                             110009       \n",
       "1                                             110030       \n",
       "2                                             201308       \n",
       "3                                             132001       \n",
       "4                                             530068       \n",
       "\n",
       "  5 Since How Long You are Shopping Online ?  \\\n",
       "0                              Above 4 years   \n",
       "1                              Above 4 years   \n",
       "2                                  3-4 years   \n",
       "3                                  3-4 years   \n",
       "4                                  2-3 years   \n",
       "\n",
       "  6 How many times you have made an online purchase in the past 1 year?  \\\n",
       "0                                        31-40 times                      \n",
       "1                                 41 times and above                      \n",
       "2                                 41 times and above                      \n",
       "3                                 Less than 10 times                      \n",
       "4                                        11-20 times                      \n",
       "\n",
       "  7 How do you access the internet while shopping on-line?  \\\n",
       "0                                            Dial-up         \n",
       "1                                              Wi-Fi         \n",
       "2                                    Mobile Internet         \n",
       "3                                    Mobile Internet         \n",
       "4                                              Wi-Fi         \n",
       "\n",
       "  8 Which device do you use to access the online shopping?  \\\n",
       "0                                            Desktop         \n",
       "1                                         Smartphone         \n",
       "2                                         Smartphone         \n",
       "3                                         Smartphone         \n",
       "4                                         Smartphone         \n",
       "\n",
       "  9 What is the screen size of your mobile device?\\t\\t\\t\\t\\t\\t                                          \\\n",
       "0                                             Others                                                     \n",
       "1                                         4.7 inches                                                     \n",
       "2                                         5.5 inches                                                     \n",
       "3                                         5.5 inches                                                     \n",
       "4                                         4.7 inches                                                     \n",
       "\n",
       "  10 What is the operating system (OS) of your device?\\t\\t\\t\\t                                            \\\n",
       "0                              Window/windows Mobile                                                       \n",
       "1                                            IOS/Mac                                                       \n",
       "2                                            Android                                                       \n",
       "3                                            IOS/Mac                                                       \n",
       "4                                            IOS/Mac                                                       \n",
       "\n",
       "   ... Longer time to get logged in (promotion, sales period)  \\\n",
       "0  ...                                          Amazon.in       \n",
       "1  ...                            Amazon.in, Flipkart.com       \n",
       "2  ...                                         Myntra.com       \n",
       "3  ...                                       Snapdeal.com       \n",
       "4  ...                            Flipkart.com, Paytm.com       \n",
       "\n",
       "  Longer time in displaying graphics and photos (promotion, sales period)  \\\n",
       "0                                          Amazon.in                        \n",
       "1                                         Myntra.com                        \n",
       "2                                         Myntra.com                        \n",
       "3                           Myntra.com, Snapdeal.com                        \n",
       "4                                          Paytm.com                        \n",
       "\n",
       "  Late declaration of price (promotion, sales period)  \\\n",
       "0                                       Flipkart.com    \n",
       "1                                       snapdeal.com    \n",
       "2                                         Myntra.com    \n",
       "3                                         Myntra.com    \n",
       "4                                          Paytm.com    \n",
       "\n",
       "  Longer page loading time (promotion, sales period)  \\\n",
       "0                                       Flipkart.com   \n",
       "1                                       Snapdeal.com   \n",
       "2                                         Myntra.com   \n",
       "3                                          Paytm.com   \n",
       "4                                          Paytm.com   \n",
       "\n",
       "  Limited mode of payment on most products (promotion, sales period)  \\\n",
       "0                                          Amazon.in                   \n",
       "1                                       Snapdeal.com                   \n",
       "2                                          Amazon.in                   \n",
       "3                                          Paytm.com                   \n",
       "4                                       Snapdeal.com                   \n",
       "\n",
       "  Longer delivery period Change in website/Application design  \\\n",
       "0              Paytm.com                         Flipkart.com   \n",
       "1           Snapdeal.com                            Amazon.in   \n",
       "2              Paytm.com                            Paytm.com   \n",
       "3              Paytm.com              Amazon.in, Flipkart.com   \n",
       "4              Paytm.com                            Amazon.in   \n",
       "\n",
       "  Frequent disruption when moving from one page to another  \\\n",
       "0                                          Amazon.in         \n",
       "1                                         Myntra.com         \n",
       "2                                          Paytm.com         \n",
       "3                            Amazon.in, Flipkart.com         \n",
       "4                                       Snapdeal.com         \n",
       "\n",
       "    Website is as efficient as before  \\\n",
       "0                           Amazon.in   \n",
       "1             Amazon.in, Flipkart.com   \n",
       "2                           Amazon.in   \n",
       "3  Amazon.in, Flipkart.com, Paytm.com   \n",
       "4                           Paytm.com   \n",
       "\n",
       "  Which of the Indian online retailer would you recommend to a friend?  \n",
       "0                                       Flipkart.com                    \n",
       "1                              Amazon.in, Myntra.com                    \n",
       "2                   Amazon.in, Paytm.com, Myntra.com                    \n",
       "3                            Amazon.in, Flipkart.com                    \n",
       "4                              Amazon.in, Myntra.com                    \n",
       "\n",
       "[5 rows x 71 columns]"
      ]
     },
     "execution_count": 3,
     "metadata": {},
     "output_type": "execute_result"
    }
   ],
   "source": [
    "df=pd.read_excel('customer_detail.xlsx')\n",
    "# The first five rows of data in a tabular format\n",
    "df.head()"
   ]
  },
  {
   "cell_type": "code",
   "execution_count": 27,
   "metadata": {},
   "outputs": [
    {
     "data": {
      "text/html": [
       "<div>\n",
       "<style scoped>\n",
       "    .dataframe tbody tr th:only-of-type {\n",
       "        vertical-align: middle;\n",
       "    }\n",
       "\n",
       "    .dataframe tbody tr th {\n",
       "        vertical-align: top;\n",
       "    }\n",
       "\n",
       "    .dataframe thead th {\n",
       "        text-align: right;\n",
       "    }\n",
       "</style>\n",
       "<table border=\"1\" class=\"dataframe\">\n",
       "  <thead>\n",
       "    <tr style=\"text-align: right;\">\n",
       "      <th></th>\n",
       "      <th>1Gender of respondent</th>\n",
       "      <th>2 How old are you?</th>\n",
       "      <th>3 Which city do you shop online from?</th>\n",
       "      <th>4 What is the Pin Code of where you shop online from?</th>\n",
       "      <th>5 Since How Long You are Shopping Online ?</th>\n",
       "      <th>6 How many times you have made an online purchase in the past 1 year?</th>\n",
       "      <th>7 How do you access the internet while shopping on-line?</th>\n",
       "      <th>8 Which device do you use to access the online shopping?</th>\n",
       "      <th>9 What is the screen size of your mobile device?\\t\\t\\t\\t\\t\\t</th>\n",
       "      <th>10 What is the operating system (OS) of your device?\\t\\t\\t\\t</th>\n",
       "      <th>...</th>\n",
       "      <th>Longer time to get logged in (promotion, sales period)</th>\n",
       "      <th>Longer time in displaying graphics and photos (promotion, sales period)</th>\n",
       "      <th>Late declaration of price (promotion, sales period)</th>\n",
       "      <th>Longer page loading time (promotion, sales period)</th>\n",
       "      <th>Limited mode of payment on most products (promotion, sales period)</th>\n",
       "      <th>Longer delivery period</th>\n",
       "      <th>Change in website/Application design</th>\n",
       "      <th>Frequent disruption when moving from one page to another</th>\n",
       "      <th>Website is as efficient as before</th>\n",
       "      <th>Which of the Indian online retailer would you recommend to a friend?</th>\n",
       "    </tr>\n",
       "  </thead>\n",
       "  <tbody>\n",
       "    <tr>\n",
       "      <th>0</th>\n",
       "      <td>0</td>\n",
       "      <td>3</td>\n",
       "      <td>Delhi</td>\n",
       "      <td>110009</td>\n",
       "      <td>5</td>\n",
       "      <td>4</td>\n",
       "      <td>4</td>\n",
       "      <td>3</td>\n",
       "      <td>5</td>\n",
       "      <td>1</td>\n",
       "      <td>...</td>\n",
       "      <td>Amazon.in</td>\n",
       "      <td>Amazon.in</td>\n",
       "      <td>Flipkart.com</td>\n",
       "      <td>Flipkart.com</td>\n",
       "      <td>Amazon.in</td>\n",
       "      <td>Paytm.com</td>\n",
       "      <td>Flipkart.com</td>\n",
       "      <td>Amazon.in</td>\n",
       "      <td>Amazon.in</td>\n",
       "      <td>Flipkart.com</td>\n",
       "    </tr>\n",
       "    <tr>\n",
       "      <th>1</th>\n",
       "      <td>1</td>\n",
       "      <td>2</td>\n",
       "      <td>Delhi</td>\n",
       "      <td>110030</td>\n",
       "      <td>5</td>\n",
       "      <td>5</td>\n",
       "      <td>2</td>\n",
       "      <td>1</td>\n",
       "      <td>2</td>\n",
       "      <td>3</td>\n",
       "      <td>...</td>\n",
       "      <td>Amazon.in, Flipkart.com</td>\n",
       "      <td>Myntra.com</td>\n",
       "      <td>snapdeal.com</td>\n",
       "      <td>Snapdeal.com</td>\n",
       "      <td>Snapdeal.com</td>\n",
       "      <td>Snapdeal.com</td>\n",
       "      <td>Amazon.in</td>\n",
       "      <td>Myntra.com</td>\n",
       "      <td>Amazon.in, Flipkart.com</td>\n",
       "      <td>Amazon.in, Myntra.com</td>\n",
       "    </tr>\n",
       "    <tr>\n",
       "      <th>2</th>\n",
       "      <td>1</td>\n",
       "      <td>2</td>\n",
       "      <td>Greater Noida</td>\n",
       "      <td>201308</td>\n",
       "      <td>4</td>\n",
       "      <td>5</td>\n",
       "      <td>3</td>\n",
       "      <td>1</td>\n",
       "      <td>4</td>\n",
       "      <td>2</td>\n",
       "      <td>...</td>\n",
       "      <td>Myntra.com</td>\n",
       "      <td>Myntra.com</td>\n",
       "      <td>Myntra.com</td>\n",
       "      <td>Myntra.com</td>\n",
       "      <td>Amazon.in</td>\n",
       "      <td>Paytm.com</td>\n",
       "      <td>Paytm.com</td>\n",
       "      <td>Paytm.com</td>\n",
       "      <td>Amazon.in</td>\n",
       "      <td>Amazon.in, Paytm.com, Myntra.com</td>\n",
       "    </tr>\n",
       "    <tr>\n",
       "      <th>3</th>\n",
       "      <td>0</td>\n",
       "      <td>2</td>\n",
       "      <td>Karnal</td>\n",
       "      <td>132001</td>\n",
       "      <td>4</td>\n",
       "      <td>1</td>\n",
       "      <td>3</td>\n",
       "      <td>1</td>\n",
       "      <td>4</td>\n",
       "      <td>3</td>\n",
       "      <td>...</td>\n",
       "      <td>Snapdeal.com</td>\n",
       "      <td>Myntra.com, Snapdeal.com</td>\n",
       "      <td>Myntra.com</td>\n",
       "      <td>Paytm.com</td>\n",
       "      <td>Paytm.com</td>\n",
       "      <td>Paytm.com</td>\n",
       "      <td>Amazon.in, Flipkart.com</td>\n",
       "      <td>Amazon.in, Flipkart.com</td>\n",
       "      <td>Amazon.in, Flipkart.com, Paytm.com</td>\n",
       "      <td>Amazon.in, Flipkart.com</td>\n",
       "    </tr>\n",
       "    <tr>\n",
       "      <th>4</th>\n",
       "      <td>1</td>\n",
       "      <td>2</td>\n",
       "      <td>Bangalore</td>\n",
       "      <td>530068</td>\n",
       "      <td>3</td>\n",
       "      <td>2</td>\n",
       "      <td>2</td>\n",
       "      <td>1</td>\n",
       "      <td>2</td>\n",
       "      <td>3</td>\n",
       "      <td>...</td>\n",
       "      <td>Flipkart.com, Paytm.com</td>\n",
       "      <td>Paytm.com</td>\n",
       "      <td>Paytm.com</td>\n",
       "      <td>Paytm.com</td>\n",
       "      <td>Snapdeal.com</td>\n",
       "      <td>Paytm.com</td>\n",
       "      <td>Amazon.in</td>\n",
       "      <td>Snapdeal.com</td>\n",
       "      <td>Paytm.com</td>\n",
       "      <td>Amazon.in, Myntra.com</td>\n",
       "    </tr>\n",
       "  </tbody>\n",
       "</table>\n",
       "<p>5 rows × 71 columns</p>\n",
       "</div>"
      ],
      "text/plain": [
       "   1Gender of respondent  2 How old are you?   \\\n",
       "0                      0                    3   \n",
       "1                      1                    2   \n",
       "2                      1                    2   \n",
       "3                      0                    2   \n",
       "4                      1                    2   \n",
       "\n",
       "  3 Which city do you shop online from?  \\\n",
       "0                                 Delhi   \n",
       "1                                 Delhi   \n",
       "2                         Greater Noida   \n",
       "3                               Karnal    \n",
       "4                            Bangalore    \n",
       "\n",
       "   4 What is the Pin Code of where you shop online from?  \\\n",
       "0                                             110009       \n",
       "1                                             110030       \n",
       "2                                             201308       \n",
       "3                                             132001       \n",
       "4                                             530068       \n",
       "\n",
       "   5 Since How Long You are Shopping Online ?  \\\n",
       "0                                           5   \n",
       "1                                           5   \n",
       "2                                           4   \n",
       "3                                           4   \n",
       "4                                           3   \n",
       "\n",
       "   6 How many times you have made an online purchase in the past 1 year?  \\\n",
       "0                                                  4                       \n",
       "1                                                  5                       \n",
       "2                                                  5                       \n",
       "3                                                  1                       \n",
       "4                                                  2                       \n",
       "\n",
       "   7 How do you access the internet while shopping on-line?  \\\n",
       "0                                                  4          \n",
       "1                                                  2          \n",
       "2                                                  3          \n",
       "3                                                  3          \n",
       "4                                                  2          \n",
       "\n",
       "   8 Which device do you use to access the online shopping?  \\\n",
       "0                                                  3          \n",
       "1                                                  1          \n",
       "2                                                  1          \n",
       "3                                                  1          \n",
       "4                                                  1          \n",
       "\n",
       "   9 What is the screen size of your mobile device?\\t\\t\\t\\t\\t\\t                                          \\\n",
       "0                                                  5                                                      \n",
       "1                                                  2                                                      \n",
       "2                                                  4                                                      \n",
       "3                                                  4                                                      \n",
       "4                                                  2                                                      \n",
       "\n",
       "   10 What is the operating system (OS) of your device?\\t\\t\\t\\t                                            \\\n",
       "0                                                  1                                                        \n",
       "1                                                  3                                                        \n",
       "2                                                  2                                                        \n",
       "3                                                  3                                                        \n",
       "4                                                  3                                                        \n",
       "\n",
       "   ...  Longer time to get logged in (promotion, sales period)  \\\n",
       "0  ...                                          Amazon.in        \n",
       "1  ...                            Amazon.in, Flipkart.com        \n",
       "2  ...                                         Myntra.com        \n",
       "3  ...                                       Snapdeal.com        \n",
       "4  ...                            Flipkart.com, Paytm.com        \n",
       "\n",
       "   Longer time in displaying graphics and photos (promotion, sales period)  \\\n",
       "0                                          Amazon.in                         \n",
       "1                                         Myntra.com                         \n",
       "2                                         Myntra.com                         \n",
       "3                           Myntra.com, Snapdeal.com                         \n",
       "4                                          Paytm.com                         \n",
       "\n",
       "   Late declaration of price (promotion, sales period)  \\\n",
       "0                                       Flipkart.com     \n",
       "1                                       snapdeal.com     \n",
       "2                                         Myntra.com     \n",
       "3                                         Myntra.com     \n",
       "4                                          Paytm.com     \n",
       "\n",
       "   Longer page loading time (promotion, sales period)  \\\n",
       "0                                       Flipkart.com    \n",
       "1                                       Snapdeal.com    \n",
       "2                                         Myntra.com    \n",
       "3                                          Paytm.com    \n",
       "4                                          Paytm.com    \n",
       "\n",
       "   Limited mode of payment on most products (promotion, sales period)  \\\n",
       "0                                          Amazon.in                    \n",
       "1                                       Snapdeal.com                    \n",
       "2                                          Amazon.in                    \n",
       "3                                          Paytm.com                    \n",
       "4                                       Snapdeal.com                    \n",
       "\n",
       "   Longer delivery period  Change in website/Application design  \\\n",
       "0               Paytm.com                          Flipkart.com   \n",
       "1            Snapdeal.com                             Amazon.in   \n",
       "2               Paytm.com                             Paytm.com   \n",
       "3               Paytm.com               Amazon.in, Flipkart.com   \n",
       "4               Paytm.com                             Amazon.in   \n",
       "\n",
       "   Frequent disruption when moving from one page to another  \\\n",
       "0                                          Amazon.in          \n",
       "1                                         Myntra.com          \n",
       "2                                          Paytm.com          \n",
       "3                            Amazon.in, Flipkart.com          \n",
       "4                                       Snapdeal.com          \n",
       "\n",
       "    Website is as efficient as before  \\\n",
       "0                           Amazon.in   \n",
       "1             Amazon.in, Flipkart.com   \n",
       "2                           Amazon.in   \n",
       "3  Amazon.in, Flipkart.com, Paytm.com   \n",
       "4                           Paytm.com   \n",
       "\n",
       "   Which of the Indian online retailer would you recommend to a friend?  \n",
       "0                                       Flipkart.com                     \n",
       "1                              Amazon.in, Myntra.com                     \n",
       "2                   Amazon.in, Paytm.com, Myntra.com                     \n",
       "3                            Amazon.in, Flipkart.com                     \n",
       "4                              Amazon.in, Myntra.com                     \n",
       "\n",
       "[5 rows x 71 columns]"
      ]
     },
     "execution_count": 27,
     "metadata": {},
     "output_type": "execute_result"
    }
   ],
   "source": [
    "df1=pd.read_excel('customer_codesheet.xlsx')\n",
    "# The first five rows of data in a tabular format\n",
    "df1.head()"
   ]
  },
  {
   "cell_type": "markdown",
   "metadata": {},
   "source": [
    "Data Transformation and cleaning"
   ]
  },
  {
   "cell_type": "code",
   "execution_count": 4,
   "metadata": {},
   "outputs": [
    {
     "data": {
      "text/html": [
       "<div>\n",
       "<style scoped>\n",
       "    .dataframe tbody tr th:only-of-type {\n",
       "        vertical-align: middle;\n",
       "    }\n",
       "\n",
       "    .dataframe tbody tr th {\n",
       "        vertical-align: top;\n",
       "    }\n",
       "\n",
       "    .dataframe thead th {\n",
       "        text-align: right;\n",
       "    }\n",
       "</style>\n",
       "<table border=\"1\" class=\"dataframe\">\n",
       "  <thead>\n",
       "    <tr style=\"text-align: right;\">\n",
       "      <th></th>\n",
       "      <th>Size</th>\n",
       "    </tr>\n",
       "  </thead>\n",
       "  <tbody>\n",
       "    <tr>\n",
       "      <th>Records</th>\n",
       "      <td>269</td>\n",
       "    </tr>\n",
       "    <tr>\n",
       "      <th>Variables</th>\n",
       "      <td>71</td>\n",
       "    </tr>\n",
       "  </tbody>\n",
       "</table>\n",
       "</div>"
      ],
      "text/plain": [
       "           Size\n",
       "Records     269\n",
       "Variables    71"
      ]
     },
     "execution_count": 4,
     "metadata": {},
     "output_type": "execute_result"
    }
   ],
   "source": [
    "# Row, column count of data\n",
    "data = df.shape\n",
    "pd.DataFrame(data, index = [\"Records\",\"Variables\"],columns = [\"Size\"])"
   ]
  },
  {
   "cell_type": "code",
   "execution_count": 5,
   "metadata": {},
   "outputs": [
    {
     "data": {
      "text/html": [
       "<div>\n",
       "<style scoped>\n",
       "    .dataframe tbody tr th:only-of-type {\n",
       "        vertical-align: middle;\n",
       "    }\n",
       "\n",
       "    .dataframe tbody tr th {\n",
       "        vertical-align: top;\n",
       "    }\n",
       "\n",
       "    .dataframe thead th {\n",
       "        text-align: right;\n",
       "    }\n",
       "</style>\n",
       "<table border=\"1\" class=\"dataframe\">\n",
       "  <thead>\n",
       "    <tr style=\"text-align: right;\">\n",
       "      <th></th>\n",
       "      <th>Data Type</th>\n",
       "    </tr>\n",
       "  </thead>\n",
       "  <tbody>\n",
       "    <tr>\n",
       "      <th>1Gender of respondent</th>\n",
       "      <td>object</td>\n",
       "    </tr>\n",
       "    <tr>\n",
       "      <th>2 How old are you?</th>\n",
       "      <td>object</td>\n",
       "    </tr>\n",
       "    <tr>\n",
       "      <th>3 Which city do you shop online from?</th>\n",
       "      <td>object</td>\n",
       "    </tr>\n",
       "    <tr>\n",
       "      <th>4 What is the Pin Code of where you shop online from?</th>\n",
       "      <td>int64</td>\n",
       "    </tr>\n",
       "    <tr>\n",
       "      <th>5 Since How Long You are Shopping Online ?</th>\n",
       "      <td>object</td>\n",
       "    </tr>\n",
       "    <tr>\n",
       "      <th>...</th>\n",
       "      <td>...</td>\n",
       "    </tr>\n",
       "    <tr>\n",
       "      <th>Longer delivery period</th>\n",
       "      <td>object</td>\n",
       "    </tr>\n",
       "    <tr>\n",
       "      <th>Change in website/Application design</th>\n",
       "      <td>object</td>\n",
       "    </tr>\n",
       "    <tr>\n",
       "      <th>Frequent disruption when moving from one page to another</th>\n",
       "      <td>object</td>\n",
       "    </tr>\n",
       "    <tr>\n",
       "      <th>Website is as efficient as before</th>\n",
       "      <td>object</td>\n",
       "    </tr>\n",
       "    <tr>\n",
       "      <th>Which of the Indian online retailer would you recommend to a friend?</th>\n",
       "      <td>object</td>\n",
       "    </tr>\n",
       "  </tbody>\n",
       "</table>\n",
       "<p>71 rows × 1 columns</p>\n",
       "</div>"
      ],
      "text/plain": [
       "                                                   Data Type\n",
       "1Gender of respondent                                 object\n",
       "2 How old are you?                                    object\n",
       "3 Which city do you shop online from?                 object\n",
       "4 What is the Pin Code of where you shop online...     int64\n",
       "5 Since How Long You are Shopping Online ?            object\n",
       "...                                                      ...\n",
       "Longer delivery period                                object\n",
       "Change in website/Application design                  object\n",
       "Frequent disruption when moving from one page t...    object\n",
       "Website is as efficient as before                     object\n",
       "Which of the Indian online retailer would you r...    object\n",
       "\n",
       "[71 rows x 1 columns]"
      ]
     },
     "execution_count": 5,
     "metadata": {},
     "output_type": "execute_result"
    }
   ],
   "source": [
    "# Check data type of columns/attributes\n",
    "pd.DataFrame(df.dtypes, columns = [\"Data Type\"])"
   ]
  },
  {
   "cell_type": "code",
   "execution_count": 6,
   "metadata": {},
   "outputs": [],
   "source": [
    "#Generally, the columns tied with data type “int64” and “float64” denotes numerical data while data type “object” and \"datetime64[ns]\" denotes categorical data."
   ]
  },
  {
   "cell_type": "markdown",
   "metadata": {},
   "source": [
    "Renaming columns to something meaningful for analysis"
   ]
  },
  {
   "cell_type": "code",
   "execution_count": 14,
   "metadata": {},
   "outputs": [],
   "source": [
    "df.rename(columns={'1Gender of respondent':'Gender',\n",
    "                          '2 How old are you? ':'Age',\n",
    "                          '3 Which city do you shop online from?':'City',\n",
    "                  '4 What is the Pin Code of where you shop online from?':'Pincode',\n",
    "                 '5 Since How Long You are Shopping Online ?' :'No. of years shopping',\n",
    "                  '6 How many times you have made an online purchase in the past 1 year?':'No of online purchases last year',\n",
    "                  '7 How do you access the internet while shopping on-line?':'Internet Access',\n",
    "                  '8 Which device do you use to access the online shopping?':'Device',\n",
    "'9 What is the screen size of your mobile device?':'Mobile Screen size',\n",
    "                  '10 What is the operating system (OS) of your device?':'OS','11 What browser do you run on your device to access the website?':'Browser',\n",
    "                   '12 Which channel did you follow to arrive at your favorite online store for the first time?':'Channel accessed',                                                                  \n",
    "'13 After first visit, how do you reach the online retail store?':'Medium online retail store',\n",
    "'14 How much time do you explore the e- retail store before making a purchase decision?':' Time spent on e-retail store',\n",
    "                   '15 What is your preferred payment Option?':'Preferred Payment',\n",
    "                   '16 How frequently do you abandon (selecting an items and leaving without making payment) your shopping cart?':'Frequency of abandoning items',\n",
    "                   '17 Why did you abandon the “Bag”, “Shopping Cart\"?':'Reason of abandoning item',\n",
    "                   '18 The content on the website must be easy to read and understand':'Content on website',\n",
    "                   '19 Information on similar product to the one highlighted  is important for product comparison':'Information on similar product',\n",
    "                   '20 Complete information on listed seller and product being offered is important for purchase decision':'Seller and product info',\n",
    "                   '21 All relevant information on listed products must be stated clearly':'Product Information',\n",
    "                   '22 Ease of navigation in website':'Ease of navigation',\n",
    "                   '23 Loading and processing speed':'Loading and processing speed',\n",
    "                   '24 User friendly Interface of the website':'User friendly interface',\n",
    "                   '25 Convenient Payment methods':'Convinient Payment methods',\n",
    "                   '26 Trust that the online retail store will fulfill its part of the transaction at the stipulated time':'Trust',\n",
    "                   '27 Empathy (readiness to assist with queries) towards the customers':'Empathy with customers',\n",
    "                   '28 Being able to guarantee the privacy of the customer':'Customer Privacy',\n",
    "                   '29 Responsiveness, availability of several communication channels (email, online rep, twitter, phone etc.)':'Responsiveness &availability',\n",
    "                   '30 Online shopping gives monetary benefit and discounts':'Monetary gifts & discounts',\n",
    "                   '31 Enjoyment is derived from shopping online':'Enjoyment factor',\n",
    "                   '32 Shopping online is convenient and flexible':'Shopping online',\n",
    "                   '33 Return and replacement policy of the e-tailer is important for purchase decision':'Return & Replacement',\n",
    "                   '34 Gaining access to loyalty programs is a benefit of shopping online':'Access to loyalty program',\n",
    "                   '35 Displaying quality Information on the website improves satisfaction of customers':'quality information improves satisfaction of customers',\n",
    "                   '36 User derive satisfaction while shopping on a good quality website or application':'User derive satisfaction',\n",
    "                   '37 Net Benefit derived from shopping online can lead to users satisfaction':'Net benefit',\n",
    "                   '38 User satisfaction cannot exist without trust':'User satisfaction without trust',\n",
    "                   '39 Offering a wide variety of listed product in several category':'Offering variety',\n",
    "                   '40 Provision of complete and relevant product information':'Complete and relevant product Info',\n",
    "                   '41 Monetary savings':'Monetary savings',\n",
    "                   '42 The Convenience of patronizing the online retailer':'patronizing the online retailer',\n",
    "                   '43 Shopping on the website gives you the sense of adventure':'Adventure factor',\n",
    "                   '44 Shopping on your preferred e-tailer enhances your social status':'Social status',\n",
    "                   '45 You feel gratification shopping on your favorite e-tailer':'Gratification',\n",
    "                   '46 Shopping on the website helps you fulfill certain roles':'Fufill roles',\n",
    "                   '47 Getting value for money spent':'Value for money'}, inplace=True)"
   ]
  },
  {
   "cell_type": "code",
   "execution_count": 30,
   "metadata": {},
   "outputs": [],
   "source": [
    "#Renaming the columns in codesheet"
   ]
  },
  {
   "cell_type": "code",
   "execution_count": 28,
   "metadata": {},
   "outputs": [],
   "source": [
    "df1.rename(columns={'1Gender of respondent':'Gender',\n",
    "                          '2 How old are you? ':'Age',\n",
    "                          '3 Which city do you shop online from?':'City',\n",
    "                  '4 What is the Pin Code of where you shop online from?':'Pincode',\n",
    "                 '5 Since How Long You are Shopping Online ?' :'No. of years shopping',\n",
    "                  '6 How many times you have made an online purchase in the past 1 year?':'No of online purchases last year',\n",
    "                  '7 How do you access the internet while shopping on-line?':'Internet Access',\n",
    "                  '8 Which device do you use to access the online shopping?':'Device',\n",
    "'9 What is the screen size of your mobile device?':'Mobile Screen size',\n",
    "                  '10 What is the operating system (OS) of your device?':'OS','11 What browser do you run on your device to access the website?':'Browser',\n",
    "                   '12 Which channel did you follow to arrive at your favorite online store for the first time?':'Channel accessed',                                                                  \n",
    "'13 After first visit, how do you reach the online retail store?':'Medium online retail store',\n",
    "'14 How much time do you explore the e- retail store before making a purchase decision?':' Time spent on e-retail store',\n",
    "                   '15 What is your preferred payment Option?':'Preferred Payment',\n",
    "                   '16 How frequently do you abandon (selecting an items and leaving without making payment) your shopping cart?':'Frequency of abandoning items',\n",
    "                   '17 Why did you abandon the “Bag”, “Shopping Cart\"?':'Reason of abandoning item',\n",
    "                   '18 The content on the website must be easy to read and understand':'Content on website',\n",
    "                   '19 Information on similar product to the one highlighted  is important for product comparison':'Information on similar product',\n",
    "                   '20 Complete information on listed seller and product being offered is important for purchase decision':'Seller and product info',\n",
    "                   '21 All relevant information on listed products must be stated clearly':'Product Information',\n",
    "                   '22 Ease of navigation in website':'Ease of navigation',\n",
    "                   '23 Loading and processing speed':'Loading and processing speed',\n",
    "                   '24 User friendly Interface of the website':'User friendly interface',\n",
    "                   '25 Convenient Payment methods':'Convinient Payment methods',\n",
    "                   '26 Trust that the online retail store will fulfill its part of the transaction at the stipulated time':'Trust',\n",
    "                   '27 Empathy (readiness to assist with queries) towards the customers':'Empathy with customers',\n",
    "                   '28 Being able to guarantee the privacy of the customer':'Customer Privacy',\n",
    "                   '29 Responsiveness, availability of several communication channels (email, online rep, twitter, phone etc.)':'Responsiveness &availability',\n",
    "                   '30 Online shopping gives monetary benefit and discounts':'Monetary gifts & discounts',\n",
    "                   '31 Enjoyment is derived from shopping online':'Enjoyment factor',\n",
    "                   '32 Shopping online is convenient and flexible':'Shopping online',\n",
    "                   '33 Return and replacement policy of the e-tailer is important for purchase decision':'Return & Replacement',\n",
    "                   '34 Gaining access to loyalty programs is a benefit of shopping online':'Access to loyalty program',\n",
    "                   '35 Displaying quality Information on the website improves satisfaction of customers':'quality information improves satisfaction of customers',\n",
    "                   '36 User derive satisfaction while shopping on a good quality website or application':'User derive satisfaction',\n",
    "                   '37 Net Benefit derived from shopping online can lead to users satisfaction':'Net benefit',\n",
    "                   '38 User satisfaction cannot exist without trust':'User satisfaction without trust',\n",
    "                   '39 Offering a wide variety of listed product in several category':'Offering variety',\n",
    "                   '40 Provision of complete and relevant product information':'Complete and relevant product Info',\n",
    "                   '41 Monetary savings':'Monetary savings',\n",
    "                   '42 The Convenience of patronizing the online retailer':'patronizing the online retailer',\n",
    "                   '43 Shopping on the website gives you the sense of adventure':'Adventure factor',\n",
    "                   '44 Shopping on your preferred e-tailer enhances your social status':'Social status',\n",
    "                   '45 You feel gratification shopping on your favorite e-tailer':'Gratification',\n",
    "                   '46 Shopping on the website helps you fulfill certain roles':'Fufill roles',\n",
    "                   '47 Getting value for money spent':'Value for money'}, inplace=True)"
   ]
  },
  {
   "cell_type": "code",
   "execution_count": 15,
   "metadata": {},
   "outputs": [
    {
     "data": {
      "text/html": [
       "<div>\n",
       "<style scoped>\n",
       "    .dataframe tbody tr th:only-of-type {\n",
       "        vertical-align: middle;\n",
       "    }\n",
       "\n",
       "    .dataframe tbody tr th {\n",
       "        vertical-align: top;\n",
       "    }\n",
       "\n",
       "    .dataframe thead th {\n",
       "        text-align: right;\n",
       "    }\n",
       "</style>\n",
       "<table border=\"1\" class=\"dataframe\">\n",
       "  <thead>\n",
       "    <tr style=\"text-align: right;\">\n",
       "      <th></th>\n",
       "      <th>Gender</th>\n",
       "      <th>Age</th>\n",
       "      <th>City</th>\n",
       "      <th>Pincode</th>\n",
       "      <th>No. of years shopping</th>\n",
       "      <th>No of online purchases last year</th>\n",
       "      <th>Internet Access</th>\n",
       "      <th>Device</th>\n",
       "      <th>9 What is the screen size of your mobile device?\\t\\t\\t\\t\\t\\t</th>\n",
       "      <th>10 What is the operating system (OS) of your device?\\t\\t\\t\\t</th>\n",
       "      <th>...</th>\n",
       "      <th>Longer time to get logged in (promotion, sales period)</th>\n",
       "      <th>Longer time in displaying graphics and photos (promotion, sales period)</th>\n",
       "      <th>Late declaration of price (promotion, sales period)</th>\n",
       "      <th>Longer page loading time (promotion, sales period)</th>\n",
       "      <th>Limited mode of payment on most products (promotion, sales period)</th>\n",
       "      <th>Longer delivery period</th>\n",
       "      <th>Change in website/Application design</th>\n",
       "      <th>Frequent disruption when moving from one page to another</th>\n",
       "      <th>Website is as efficient as before</th>\n",
       "      <th>Which of the Indian online retailer would you recommend to a friend?</th>\n",
       "    </tr>\n",
       "  </thead>\n",
       "  <tbody>\n",
       "    <tr>\n",
       "      <th>0</th>\n",
       "      <td>Male</td>\n",
       "      <td>31-40 years</td>\n",
       "      <td>Delhi</td>\n",
       "      <td>110009</td>\n",
       "      <td>Above 4 years</td>\n",
       "      <td>31-40 times</td>\n",
       "      <td>Dial-up</td>\n",
       "      <td>Desktop</td>\n",
       "      <td>Others</td>\n",
       "      <td>Window/windows Mobile</td>\n",
       "      <td>...</td>\n",
       "      <td>Amazon.in</td>\n",
       "      <td>Amazon.in</td>\n",
       "      <td>Flipkart.com</td>\n",
       "      <td>Flipkart.com</td>\n",
       "      <td>Amazon.in</td>\n",
       "      <td>Paytm.com</td>\n",
       "      <td>Flipkart.com</td>\n",
       "      <td>Amazon.in</td>\n",
       "      <td>Amazon.in</td>\n",
       "      <td>Flipkart.com</td>\n",
       "    </tr>\n",
       "    <tr>\n",
       "      <th>1</th>\n",
       "      <td>Female</td>\n",
       "      <td>21-30 years</td>\n",
       "      <td>Delhi</td>\n",
       "      <td>110030</td>\n",
       "      <td>Above 4 years</td>\n",
       "      <td>41 times and above</td>\n",
       "      <td>Wi-Fi</td>\n",
       "      <td>Smartphone</td>\n",
       "      <td>4.7 inches</td>\n",
       "      <td>IOS/Mac</td>\n",
       "      <td>...</td>\n",
       "      <td>Amazon.in, Flipkart.com</td>\n",
       "      <td>Myntra.com</td>\n",
       "      <td>snapdeal.com</td>\n",
       "      <td>Snapdeal.com</td>\n",
       "      <td>Snapdeal.com</td>\n",
       "      <td>Snapdeal.com</td>\n",
       "      <td>Amazon.in</td>\n",
       "      <td>Myntra.com</td>\n",
       "      <td>Amazon.in, Flipkart.com</td>\n",
       "      <td>Amazon.in, Myntra.com</td>\n",
       "    </tr>\n",
       "    <tr>\n",
       "      <th>2</th>\n",
       "      <td>Female</td>\n",
       "      <td>21-30 years</td>\n",
       "      <td>Greater Noida</td>\n",
       "      <td>201308</td>\n",
       "      <td>3-4 years</td>\n",
       "      <td>41 times and above</td>\n",
       "      <td>Mobile Internet</td>\n",
       "      <td>Smartphone</td>\n",
       "      <td>5.5 inches</td>\n",
       "      <td>Android</td>\n",
       "      <td>...</td>\n",
       "      <td>Myntra.com</td>\n",
       "      <td>Myntra.com</td>\n",
       "      <td>Myntra.com</td>\n",
       "      <td>Myntra.com</td>\n",
       "      <td>Amazon.in</td>\n",
       "      <td>Paytm.com</td>\n",
       "      <td>Paytm.com</td>\n",
       "      <td>Paytm.com</td>\n",
       "      <td>Amazon.in</td>\n",
       "      <td>Amazon.in, Paytm.com, Myntra.com</td>\n",
       "    </tr>\n",
       "    <tr>\n",
       "      <th>3</th>\n",
       "      <td>Male</td>\n",
       "      <td>21-30 years</td>\n",
       "      <td>Karnal</td>\n",
       "      <td>132001</td>\n",
       "      <td>3-4 years</td>\n",
       "      <td>Less than 10 times</td>\n",
       "      <td>Mobile Internet</td>\n",
       "      <td>Smartphone</td>\n",
       "      <td>5.5 inches</td>\n",
       "      <td>IOS/Mac</td>\n",
       "      <td>...</td>\n",
       "      <td>Snapdeal.com</td>\n",
       "      <td>Myntra.com, Snapdeal.com</td>\n",
       "      <td>Myntra.com</td>\n",
       "      <td>Paytm.com</td>\n",
       "      <td>Paytm.com</td>\n",
       "      <td>Paytm.com</td>\n",
       "      <td>Amazon.in, Flipkart.com</td>\n",
       "      <td>Amazon.in, Flipkart.com</td>\n",
       "      <td>Amazon.in, Flipkart.com, Paytm.com</td>\n",
       "      <td>Amazon.in, Flipkart.com</td>\n",
       "    </tr>\n",
       "    <tr>\n",
       "      <th>4</th>\n",
       "      <td>Female</td>\n",
       "      <td>21-30 years</td>\n",
       "      <td>Bangalore</td>\n",
       "      <td>530068</td>\n",
       "      <td>2-3 years</td>\n",
       "      <td>11-20 times</td>\n",
       "      <td>Wi-Fi</td>\n",
       "      <td>Smartphone</td>\n",
       "      <td>4.7 inches</td>\n",
       "      <td>IOS/Mac</td>\n",
       "      <td>...</td>\n",
       "      <td>Flipkart.com, Paytm.com</td>\n",
       "      <td>Paytm.com</td>\n",
       "      <td>Paytm.com</td>\n",
       "      <td>Paytm.com</td>\n",
       "      <td>Snapdeal.com</td>\n",
       "      <td>Paytm.com</td>\n",
       "      <td>Amazon.in</td>\n",
       "      <td>Snapdeal.com</td>\n",
       "      <td>Paytm.com</td>\n",
       "      <td>Amazon.in, Myntra.com</td>\n",
       "    </tr>\n",
       "    <tr>\n",
       "      <th>...</th>\n",
       "      <td>...</td>\n",
       "      <td>...</td>\n",
       "      <td>...</td>\n",
       "      <td>...</td>\n",
       "      <td>...</td>\n",
       "      <td>...</td>\n",
       "      <td>...</td>\n",
       "      <td>...</td>\n",
       "      <td>...</td>\n",
       "      <td>...</td>\n",
       "      <td>...</td>\n",
       "      <td>...</td>\n",
       "      <td>...</td>\n",
       "      <td>...</td>\n",
       "      <td>...</td>\n",
       "      <td>...</td>\n",
       "      <td>...</td>\n",
       "      <td>...</td>\n",
       "      <td>...</td>\n",
       "      <td>...</td>\n",
       "      <td>...</td>\n",
       "    </tr>\n",
       "    <tr>\n",
       "      <th>264</th>\n",
       "      <td>Female</td>\n",
       "      <td>21-30 years</td>\n",
       "      <td>Solan</td>\n",
       "      <td>173212</td>\n",
       "      <td>1-2 years</td>\n",
       "      <td>Less than 10 times</td>\n",
       "      <td>Mobile Internet</td>\n",
       "      <td>Smartphone</td>\n",
       "      <td>5.5 inches</td>\n",
       "      <td>Android</td>\n",
       "      <td>...</td>\n",
       "      <td>Amazon.in</td>\n",
       "      <td>Amazon.in</td>\n",
       "      <td>Amazon.in</td>\n",
       "      <td>Amazon.in</td>\n",
       "      <td>Amazon.in</td>\n",
       "      <td>Amazon.in</td>\n",
       "      <td>Amazon.in</td>\n",
       "      <td>Amazon.in</td>\n",
       "      <td>Amazon.in</td>\n",
       "      <td>Amazon.in</td>\n",
       "    </tr>\n",
       "    <tr>\n",
       "      <th>265</th>\n",
       "      <td>Female</td>\n",
       "      <td>31-40 years</td>\n",
       "      <td>Ghaziabad</td>\n",
       "      <td>201008</td>\n",
       "      <td>1-2 years</td>\n",
       "      <td>31-40 times</td>\n",
       "      <td>Mobile Internet</td>\n",
       "      <td>Smartphone</td>\n",
       "      <td>Others</td>\n",
       "      <td>Android</td>\n",
       "      <td>...</td>\n",
       "      <td>Flipkart.com</td>\n",
       "      <td>Flipkart.com</td>\n",
       "      <td>Flipkart.com</td>\n",
       "      <td>Flipkart.com</td>\n",
       "      <td>Flipkart.com</td>\n",
       "      <td>Flipkart.com</td>\n",
       "      <td>Flipkart.com</td>\n",
       "      <td>Flipkart.com</td>\n",
       "      <td>Flipkart.com</td>\n",
       "      <td>Flipkart.com</td>\n",
       "    </tr>\n",
       "    <tr>\n",
       "      <th>266</th>\n",
       "      <td>Female</td>\n",
       "      <td>41-50 yaers</td>\n",
       "      <td>Bangalore</td>\n",
       "      <td>560010</td>\n",
       "      <td>2-3 years</td>\n",
       "      <td>Less than 10 times</td>\n",
       "      <td>Mobile internet</td>\n",
       "      <td>Laptop</td>\n",
       "      <td>Others</td>\n",
       "      <td>Window/windows Mobile</td>\n",
       "      <td>...</td>\n",
       "      <td>Amazon.in</td>\n",
       "      <td>Snapdeal.com</td>\n",
       "      <td>Amazon.in</td>\n",
       "      <td>Snapdeal.com</td>\n",
       "      <td>Snapdeal.com</td>\n",
       "      <td>Snapdeal.com</td>\n",
       "      <td>Snapdeal.com</td>\n",
       "      <td>Snapdeal.com</td>\n",
       "      <td>Amazon.in</td>\n",
       "      <td>Amazon.in</td>\n",
       "    </tr>\n",
       "    <tr>\n",
       "      <th>267</th>\n",
       "      <td>Female</td>\n",
       "      <td>Less than 20 years</td>\n",
       "      <td>Solan</td>\n",
       "      <td>173229</td>\n",
       "      <td>2-3 years</td>\n",
       "      <td>Less than 10 times</td>\n",
       "      <td>Wi-Fi</td>\n",
       "      <td>Smartphone</td>\n",
       "      <td>5.5 inches</td>\n",
       "      <td>Android</td>\n",
       "      <td>...</td>\n",
       "      <td>Amazon.in</td>\n",
       "      <td>Amazon.in, Myntra.com, Snapdeal.com</td>\n",
       "      <td>Amazon.in</td>\n",
       "      <td>Amazon.in, Snapdeal.com</td>\n",
       "      <td>Amazon.in</td>\n",
       "      <td>Amazon.in</td>\n",
       "      <td>Amazon.in</td>\n",
       "      <td>Myntra.com, Snapdeal.com</td>\n",
       "      <td>Myntra.com, Snapdeal.com</td>\n",
       "      <td>Amazon.in</td>\n",
       "    </tr>\n",
       "    <tr>\n",
       "      <th>268</th>\n",
       "      <td>Female</td>\n",
       "      <td>41-50 yaers</td>\n",
       "      <td>Ghaziabad</td>\n",
       "      <td>201009</td>\n",
       "      <td>2-3 years</td>\n",
       "      <td>31-40 times</td>\n",
       "      <td>Mobile Internet</td>\n",
       "      <td>Smartphone</td>\n",
       "      <td>5.5 inches</td>\n",
       "      <td>Android</td>\n",
       "      <td>...</td>\n",
       "      <td>Amazon.in</td>\n",
       "      <td>Amazon.in</td>\n",
       "      <td>Amazon.in</td>\n",
       "      <td>Amazon.in</td>\n",
       "      <td>Amazon.in</td>\n",
       "      <td>Amazon.in</td>\n",
       "      <td>Amazon.in</td>\n",
       "      <td>Amazon.in</td>\n",
       "      <td>Amazon.in</td>\n",
       "      <td>Amazon.in</td>\n",
       "    </tr>\n",
       "  </tbody>\n",
       "</table>\n",
       "<p>269 rows × 71 columns</p>\n",
       "</div>"
      ],
      "text/plain": [
       "     Gender                 Age           City  Pincode No. of years shopping  \\\n",
       "0      Male         31-40 years          Delhi   110009         Above 4 years   \n",
       "1    Female         21-30 years          Delhi   110030         Above 4 years   \n",
       "2    Female         21-30 years  Greater Noida   201308             3-4 years   \n",
       "3      Male         21-30 years        Karnal    132001             3-4 years   \n",
       "4    Female         21-30 years     Bangalore    530068             2-3 years   \n",
       "..      ...                 ...            ...      ...                   ...   \n",
       "264  Female         21-30 years          Solan   173212             1-2 years   \n",
       "265  Female         31-40 years      Ghaziabad   201008             1-2 years   \n",
       "266  Female         41-50 yaers     Bangalore    560010             2-3 years   \n",
       "267  Female  Less than 20 years          Solan   173229             2-3 years   \n",
       "268  Female         41-50 yaers      Ghaziabad   201009             2-3 years   \n",
       "\n",
       "    No of online purchases last year  Internet Access      Device  \\\n",
       "0                        31-40 times          Dial-up     Desktop   \n",
       "1                 41 times and above            Wi-Fi  Smartphone   \n",
       "2                 41 times and above  Mobile Internet  Smartphone   \n",
       "3                 Less than 10 times  Mobile Internet  Smartphone   \n",
       "4                        11-20 times            Wi-Fi  Smartphone   \n",
       "..                               ...              ...         ...   \n",
       "264               Less than 10 times  Mobile Internet  Smartphone   \n",
       "265                      31-40 times  Mobile Internet  Smartphone   \n",
       "266               Less than 10 times  Mobile internet      Laptop   \n",
       "267               Less than 10 times            Wi-Fi  Smartphone   \n",
       "268                      31-40 times  Mobile Internet  Smartphone   \n",
       "\n",
       "    9 What is the screen size of your mobile device?\\t\\t\\t\\t\\t\\t                                          \\\n",
       "0                                               Others                                                     \n",
       "1                                           4.7 inches                                                     \n",
       "2                                           5.5 inches                                                     \n",
       "3                                           5.5 inches                                                     \n",
       "4                                           4.7 inches                                                     \n",
       "..                                                 ...                                                     \n",
       "264                                         5.5 inches                                                     \n",
       "265                                             Others                                                     \n",
       "266                                             Others                                                     \n",
       "267                                         5.5 inches                                                     \n",
       "268                                         5.5 inches                                                     \n",
       "\n",
       "    10 What is the operating system (OS) of your device?\\t\\t\\t\\t                                            \\\n",
       "0                                Window/windows Mobile                                                       \n",
       "1                                              IOS/Mac                                                       \n",
       "2                                              Android                                                       \n",
       "3                                              IOS/Mac                                                       \n",
       "4                                              IOS/Mac                                                       \n",
       "..                                                 ...                                                       \n",
       "264                                            Android                                                       \n",
       "265                                            Android                                                       \n",
       "266                              Window/windows Mobile                                                       \n",
       "267                                            Android                                                       \n",
       "268                                            Android                                                       \n",
       "\n",
       "     ... Longer time to get logged in (promotion, sales period)  \\\n",
       "0    ...                                          Amazon.in       \n",
       "1    ...                            Amazon.in, Flipkart.com       \n",
       "2    ...                                         Myntra.com       \n",
       "3    ...                                       Snapdeal.com       \n",
       "4    ...                            Flipkart.com, Paytm.com       \n",
       "..   ...                                                ...       \n",
       "264  ...                                          Amazon.in       \n",
       "265  ...                                       Flipkart.com       \n",
       "266  ...                                          Amazon.in       \n",
       "267  ...                                          Amazon.in       \n",
       "268  ...                                          Amazon.in       \n",
       "\n",
       "    Longer time in displaying graphics and photos (promotion, sales period)  \\\n",
       "0                                            Amazon.in                        \n",
       "1                                           Myntra.com                        \n",
       "2                                           Myntra.com                        \n",
       "3                             Myntra.com, Snapdeal.com                        \n",
       "4                                            Paytm.com                        \n",
       "..                                                 ...                        \n",
       "264                                          Amazon.in                        \n",
       "265                                       Flipkart.com                        \n",
       "266                                       Snapdeal.com                        \n",
       "267                Amazon.in, Myntra.com, Snapdeal.com                        \n",
       "268                                          Amazon.in                        \n",
       "\n",
       "    Late declaration of price (promotion, sales period)  \\\n",
       "0                                         Flipkart.com    \n",
       "1                                         snapdeal.com    \n",
       "2                                           Myntra.com    \n",
       "3                                           Myntra.com    \n",
       "4                                            Paytm.com    \n",
       "..                                                 ...    \n",
       "264                                          Amazon.in    \n",
       "265                                       Flipkart.com    \n",
       "266                                          Amazon.in    \n",
       "267                                          Amazon.in    \n",
       "268                                          Amazon.in    \n",
       "\n",
       "    Longer page loading time (promotion, sales period)  \\\n",
       "0                                         Flipkart.com   \n",
       "1                                         Snapdeal.com   \n",
       "2                                           Myntra.com   \n",
       "3                                            Paytm.com   \n",
       "4                                            Paytm.com   \n",
       "..                                                 ...   \n",
       "264                                          Amazon.in   \n",
       "265                                       Flipkart.com   \n",
       "266                                       Snapdeal.com   \n",
       "267                            Amazon.in, Snapdeal.com   \n",
       "268                                          Amazon.in   \n",
       "\n",
       "    Limited mode of payment on most products (promotion, sales period)  \\\n",
       "0                                            Amazon.in                   \n",
       "1                                         Snapdeal.com                   \n",
       "2                                            Amazon.in                   \n",
       "3                                            Paytm.com                   \n",
       "4                                         Snapdeal.com                   \n",
       "..                                                 ...                   \n",
       "264                                          Amazon.in                   \n",
       "265                                       Flipkart.com                   \n",
       "266                                       Snapdeal.com                   \n",
       "267                                          Amazon.in                   \n",
       "268                                          Amazon.in                   \n",
       "\n",
       "    Longer delivery period Change in website/Application design  \\\n",
       "0                Paytm.com                         Flipkart.com   \n",
       "1             Snapdeal.com                            Amazon.in   \n",
       "2                Paytm.com                            Paytm.com   \n",
       "3                Paytm.com              Amazon.in, Flipkart.com   \n",
       "4                Paytm.com                            Amazon.in   \n",
       "..                     ...                                  ...   \n",
       "264              Amazon.in                            Amazon.in   \n",
       "265           Flipkart.com                         Flipkart.com   \n",
       "266           Snapdeal.com                         Snapdeal.com   \n",
       "267              Amazon.in                            Amazon.in   \n",
       "268              Amazon.in                            Amazon.in   \n",
       "\n",
       "    Frequent disruption when moving from one page to another  \\\n",
       "0                                            Amazon.in         \n",
       "1                                           Myntra.com         \n",
       "2                                            Paytm.com         \n",
       "3                              Amazon.in, Flipkart.com         \n",
       "4                                         Snapdeal.com         \n",
       "..                                                 ...         \n",
       "264                                          Amazon.in         \n",
       "265                                       Flipkart.com         \n",
       "266                                       Snapdeal.com         \n",
       "267                           Myntra.com, Snapdeal.com         \n",
       "268                                          Amazon.in         \n",
       "\n",
       "      Website is as efficient as before  \\\n",
       "0                             Amazon.in   \n",
       "1               Amazon.in, Flipkart.com   \n",
       "2                             Amazon.in   \n",
       "3    Amazon.in, Flipkart.com, Paytm.com   \n",
       "4                             Paytm.com   \n",
       "..                                  ...   \n",
       "264                           Amazon.in   \n",
       "265                        Flipkart.com   \n",
       "266                           Amazon.in   \n",
       "267            Myntra.com, Snapdeal.com   \n",
       "268                           Amazon.in   \n",
       "\n",
       "    Which of the Indian online retailer would you recommend to a friend?  \n",
       "0                                         Flipkart.com                    \n",
       "1                                Amazon.in, Myntra.com                    \n",
       "2                     Amazon.in, Paytm.com, Myntra.com                    \n",
       "3                              Amazon.in, Flipkart.com                    \n",
       "4                                Amazon.in, Myntra.com                    \n",
       "..                                                 ...                    \n",
       "264                                          Amazon.in                    \n",
       "265                                       Flipkart.com                    \n",
       "266                                          Amazon.in                    \n",
       "267                                          Amazon.in                    \n",
       "268                                          Amazon.in                    \n",
       "\n",
       "[269 rows x 71 columns]"
      ]
     },
     "execution_count": 15,
     "metadata": {},
     "output_type": "execute_result"
    }
   ],
   "source": [
    "df"
   ]
  },
  {
   "cell_type": "code",
   "execution_count": 16,
   "metadata": {},
   "outputs": [
    {
     "data": {
      "text/html": [
       "<div>\n",
       "<style scoped>\n",
       "    .dataframe tbody tr th:only-of-type {\n",
       "        vertical-align: middle;\n",
       "    }\n",
       "\n",
       "    .dataframe tbody tr th {\n",
       "        vertical-align: top;\n",
       "    }\n",
       "\n",
       "    .dataframe thead th {\n",
       "        text-align: right;\n",
       "    }\n",
       "</style>\n",
       "<table border=\"1\" class=\"dataframe\">\n",
       "  <thead>\n",
       "    <tr style=\"text-align: right;\">\n",
       "      <th></th>\n",
       "      <th>Missing values</th>\n",
       "    </tr>\n",
       "  </thead>\n",
       "  <tbody>\n",
       "    <tr>\n",
       "      <th>Gender</th>\n",
       "      <td>0</td>\n",
       "    </tr>\n",
       "    <tr>\n",
       "      <th>Age</th>\n",
       "      <td>0</td>\n",
       "    </tr>\n",
       "    <tr>\n",
       "      <th>City</th>\n",
       "      <td>0</td>\n",
       "    </tr>\n",
       "    <tr>\n",
       "      <th>Pincode</th>\n",
       "      <td>0</td>\n",
       "    </tr>\n",
       "    <tr>\n",
       "      <th>No. of years shopping</th>\n",
       "      <td>0</td>\n",
       "    </tr>\n",
       "    <tr>\n",
       "      <th>...</th>\n",
       "      <td>...</td>\n",
       "    </tr>\n",
       "    <tr>\n",
       "      <th>Longer delivery period</th>\n",
       "      <td>0</td>\n",
       "    </tr>\n",
       "    <tr>\n",
       "      <th>Change in website/Application design</th>\n",
       "      <td>0</td>\n",
       "    </tr>\n",
       "    <tr>\n",
       "      <th>Frequent disruption when moving from one page to another</th>\n",
       "      <td>0</td>\n",
       "    </tr>\n",
       "    <tr>\n",
       "      <th>Website is as efficient as before</th>\n",
       "      <td>0</td>\n",
       "    </tr>\n",
       "    <tr>\n",
       "      <th>Which of the Indian online retailer would you recommend to a friend?</th>\n",
       "      <td>0</td>\n",
       "    </tr>\n",
       "  </tbody>\n",
       "</table>\n",
       "<p>71 rows × 1 columns</p>\n",
       "</div>"
      ],
      "text/plain": [
       "                                                    Missing values\n",
       "Gender                                                           0\n",
       "Age                                                              0\n",
       "City                                                             0\n",
       "Pincode                                                          0\n",
       "No. of years shopping                                            0\n",
       "...                                                            ...\n",
       "Longer delivery period                                           0\n",
       "Change in website/Application design                             0\n",
       "Frequent disruption when moving from one page t...               0\n",
       "Website is as efficient as before                                0\n",
       "Which of the Indian online retailer would you r...               0\n",
       "\n",
       "[71 rows x 1 columns]"
      ]
     },
     "execution_count": 16,
     "metadata": {},
     "output_type": "execute_result"
    }
   ],
   "source": [
    "# Check if there are any missing values in the data\n",
    "pd.DataFrame(df.isnull().sum(), columns = [\"Missing values\"])"
   ]
  },
  {
   "cell_type": "code",
   "execution_count": 20,
   "metadata": {},
   "outputs": [
    {
     "data": {
      "text/plain": [
       "False"
      ]
     },
     "execution_count": 20,
     "metadata": {},
     "output_type": "execute_result"
    }
   ],
   "source": [
    "df.isnull().values.any()"
   ]
  },
  {
   "cell_type": "code",
   "execution_count": 18,
   "metadata": {},
   "outputs": [
    {
     "name": "stdout",
     "output_type": "stream",
     "text": [
      "<class 'pandas.core.frame.DataFrame'>\n",
      "RangeIndex: 269 entries, 0 to 268\n",
      "Data columns (total 71 columns):\n",
      " #   Column                                                                                                                                                                                                          Non-Null Count  Dtype \n",
      "---  ------                                                                                                                                                                                                          --------------  ----- \n",
      " 0   Gender                                                                                                                                                                                                          269 non-null    object\n",
      " 1   Age                                                                                                                                                                                                             269 non-null    object\n",
      " 2   City                                                                                                                                                                                                            269 non-null    object\n",
      " 3   Pincode                                                                                                                                                                                                         269 non-null    int64 \n",
      " 4   No. of years shopping                                                                                                                                                                                           269 non-null    object\n",
      " 5   No of online purchases last year                                                                                                                                                                                269 non-null    object\n",
      " 6   Internet Access                                                                                                                                                                                                 269 non-null    object\n",
      " 7   Device                                                                                                                                                                                                          269 non-null    object\n",
      " 8   9 What is the screen size of your mobile device?\t\t\t\t\t\t                                                                                                                                                          269 non-null    object\n",
      " 9   10 What is the operating system (OS) of your device?\t\t\t\t                                                                                                                                                        269 non-null    object\n",
      " 10  11 What browser do you run on your device to access the website?\t\t\t                                                                                                                                             269 non-null    object\n",
      " 11  12 Which channel did you follow to arrive at your favorite online store for the first time?                                                                                                                     269 non-null    object\n",
      " 12  13 After first visit, how do you reach the online retail store?\t\t\t\t                                                                                                                                             269 non-null    object\n",
      " 13  14 How much time do you explore the e- retail store before making a purchase decision?                                                                                                                          269 non-null    object\n",
      " 14  15 What is your preferred payment Option?\t\t\t\t\t                                                                                                                                                                  269 non-null    object\n",
      " 15  16 How frequently do you abandon (selecting an items and leaving without making payment) your shopping cart?\t\t\t\t\t\t\t                                                                                             269 non-null    object\n",
      " 16  17 Why did you abandon the “Bag”, “Shopping Cart”?\t\t\t\t\t                                                                                                                                                         269 non-null    object\n",
      " 17  Content on website                                                                                                                                                                                              269 non-null    object\n",
      " 18  Information on similar product                                                                                                                                                                                  269 non-null    object\n",
      " 19  20 Complete information on listed seller and product being offered is important for purchase decision.                                                                                                          269 non-null    object\n",
      " 20  Product Information                                                                                                                                                                                             269 non-null    object\n",
      " 21  Ease of navigation                                                                                                                                                                                              269 non-null    object\n",
      " 22  Loading and processing speed                                                                                                                                                                                    269 non-null    object\n",
      " 23  User friendly interface                                                                                                                                                                                         269 non-null    object\n",
      " 24  Convinient Payment methods                                                                                                                                                                                      269 non-null    object\n",
      " 25  Trust                                                                                                                                                                                                           269 non-null    object\n",
      " 26  Empathy with customers                                                                                                                                                                                          269 non-null    object\n",
      " 27  Customer Privacy                                                                                                                                                                                                269 non-null    object\n",
      " 28  Responsiveness &availability                                                                                                                                                                                    269 non-null    object\n",
      " 29  Monetary gifts & discounts                                                                                                                                                                                      269 non-null    object\n",
      " 30  Enjoyment factor                                                                                                                                                                                                269 non-null    object\n",
      " 31  Shopping online                                                                                                                                                                                                 269 non-null    object\n",
      " 32  Return & Replacement                                                                                                                                                                                            269 non-null    object\n",
      " 33  Access to loyalty program                                                                                                                                                                                       269 non-null    object\n",
      " 34  quality information improves satisfaction of customers                                                                                                                                                          269 non-null    object\n",
      " 35  User derive satisfaction                                                                                                                                                                                        269 non-null    object\n",
      " 36  Net benefit                                                                                                                                                                                                     269 non-null    object\n",
      " 37  User satisfaction without trust                                                                                                                                                                                 269 non-null    object\n",
      " 38  Offering variety                                                                                                                                                                                                269 non-null    object\n",
      " 39  Complete and relevant product Info                                                                                                                                                                              269 non-null    object\n",
      " 40  Monetary savings                                                                                                                                                                                                269 non-null    object\n",
      " 41  patronizing the online retailer                                                                                                                                                                                 269 non-null    object\n",
      " 42  Adventure factor                                                                                                                                                                                                269 non-null    object\n",
      " 43  Social status                                                                                                                                                                                                   269 non-null    object\n",
      " 44  Gratification                                                                                                                                                                                                   269 non-null    object\n",
      " 45  Fufill roles                                                                                                                                                                                                    269 non-null    object\n",
      " 46  Value for money                                                                                                                                                                                                 269 non-null    object\n",
      " 47  From the following, tick any (or all) of the online retailers you have shopped from;                                                                                                                            269 non-null    object\n",
      " 48  Easy to use website or application                                                                                                                                                                              269 non-null    object\n",
      " 49  Visual appealing web-page layout                                                                                                                                                                                269 non-null    object\n",
      " 50  Wild variety of product on offer                                                                                                                                                                                269 non-null    object\n",
      " 51  Complete, relevant description information of products                                                                                                                                                          269 non-null    object\n",
      " 52  Fast loading website speed of website and application                                                                                                                                                           269 non-null    object\n",
      " 53  Reliability of the website or application                                                                                                                                                                       269 non-null    object\n",
      " 54  Quickness to complete purchase                                                                                                                                                                                  269 non-null    object\n",
      " 55  Availability of several payment options                                                                                                                                                                         269 non-null    object\n",
      " 56  Speedy order delivery                                                                                                                                                                                           269 non-null    object\n",
      " 57  Privacy of customers’ information                                                                                                                                                                               269 non-null    object\n",
      " 58  Security of customer financial information                                                                                                                                                                      269 non-null    object\n",
      " 59  Perceived Trustworthiness                                                                                                                                                                                       269 non-null    object\n",
      " 60  Presence of online assistance through multi-channel                                                                                                                                                             269 non-null    object\n",
      " 61  Longer time to get logged in (promotion, sales period)                                                                                                                                                          269 non-null    object\n",
      " 62  Longer time in displaying graphics and photos (promotion, sales period)                                                                                                                                         269 non-null    object\n",
      " 63  Late declaration of price (promotion, sales period)                                                                                                                                                             269 non-null    object\n",
      " 64  Longer page loading time (promotion, sales period)                                                                                                                                                              269 non-null    object\n",
      " 65  Limited mode of payment on most products (promotion, sales period)                                                                                                                                              269 non-null    object\n",
      " 66  Longer delivery period                                                                                                                                                                                          269 non-null    object\n",
      " 67  Change in website/Application design                                                                                                                                                                            269 non-null    object\n",
      " 68  Frequent disruption when moving from one page to another                                                                                                                                                        269 non-null    object\n",
      " 69  Website is as efficient as before                                                                                                                                                                               269 non-null    object\n",
      " 70  Which of the Indian online retailer would you recommend to a friend?                                                                                                                                            269 non-null    object\n",
      "dtypes: int64(1), object(70)\n",
      "memory usage: 149.3+ KB\n"
     ]
    }
   ],
   "source": [
    "# Details of data tyoes for each variable in our dataset\n",
    "df.info()"
   ]
  },
  {
   "cell_type": "markdown",
   "metadata": {},
   "source": [
    "DESCRIPTIVE DATA ANALYSIS"
   ]
  },
  {
   "cell_type": "markdown",
   "metadata": {},
   "source": [
    "Numerical data"
   ]
  },
  {
   "cell_type": "code",
   "execution_count": 21,
   "metadata": {},
   "outputs": [
    {
     "data": {
      "text/html": [
       "<div>\n",
       "<style scoped>\n",
       "    .dataframe tbody tr th:only-of-type {\n",
       "        vertical-align: middle;\n",
       "    }\n",
       "\n",
       "    .dataframe tbody tr th {\n",
       "        vertical-align: top;\n",
       "    }\n",
       "\n",
       "    .dataframe thead th {\n",
       "        text-align: right;\n",
       "    }\n",
       "</style>\n",
       "<table border=\"1\" class=\"dataframe\">\n",
       "  <thead>\n",
       "    <tr style=\"text-align: right;\">\n",
       "      <th></th>\n",
       "      <th>Pincode</th>\n",
       "    </tr>\n",
       "  </thead>\n",
       "  <tbody>\n",
       "    <tr>\n",
       "      <th>count</th>\n",
       "      <td>269.000000</td>\n",
       "    </tr>\n",
       "    <tr>\n",
       "      <th>mean</th>\n",
       "      <td>220465.747212</td>\n",
       "    </tr>\n",
       "    <tr>\n",
       "      <th>std</th>\n",
       "      <td>140524.341051</td>\n",
       "    </tr>\n",
       "    <tr>\n",
       "      <th>min</th>\n",
       "      <td>110008.000000</td>\n",
       "    </tr>\n",
       "    <tr>\n",
       "      <th>25%</th>\n",
       "      <td>122018.000000</td>\n",
       "    </tr>\n",
       "    <tr>\n",
       "      <th>50%</th>\n",
       "      <td>201303.000000</td>\n",
       "    </tr>\n",
       "    <tr>\n",
       "      <th>75%</th>\n",
       "      <td>201310.000000</td>\n",
       "    </tr>\n",
       "    <tr>\n",
       "      <th>max</th>\n",
       "      <td>560037.000000</td>\n",
       "    </tr>\n",
       "  </tbody>\n",
       "</table>\n",
       "</div>"
      ],
      "text/plain": [
       "             Pincode\n",
       "count     269.000000\n",
       "mean   220465.747212\n",
       "std    140524.341051\n",
       "min    110008.000000\n",
       "25%    122018.000000\n",
       "50%    201303.000000\n",
       "75%    201310.000000\n",
       "max    560037.000000"
      ]
     },
     "execution_count": 21,
     "metadata": {},
     "output_type": "execute_result"
    }
   ],
   "source": [
    "df.describe()"
   ]
  },
  {
   "cell_type": "code",
   "execution_count": 23,
   "metadata": {},
   "outputs": [],
   "source": [
    "#Other than pincode all values are categorical and the values in pincode does not make sense to calculate mean/standard deviation on them"
   ]
  },
  {
   "cell_type": "markdown",
   "metadata": {},
   "source": [
    "CATEGORICAL DATA"
   ]
  },
  {
   "cell_type": "code",
   "execution_count": 24,
   "metadata": {},
   "outputs": [
    {
     "data": {
      "text/html": [
       "<div>\n",
       "<style scoped>\n",
       "    .dataframe tbody tr th:only-of-type {\n",
       "        vertical-align: middle;\n",
       "    }\n",
       "\n",
       "    .dataframe tbody tr th {\n",
       "        vertical-align: top;\n",
       "    }\n",
       "\n",
       "    .dataframe thead th {\n",
       "        text-align: right;\n",
       "    }\n",
       "</style>\n",
       "<table border=\"1\" class=\"dataframe\">\n",
       "  <thead>\n",
       "    <tr style=\"text-align: right;\">\n",
       "      <th></th>\n",
       "      <th>Gender</th>\n",
       "      <th>Age</th>\n",
       "      <th>City</th>\n",
       "      <th>No. of years shopping</th>\n",
       "      <th>No of online purchases last year</th>\n",
       "      <th>Internet Access</th>\n",
       "      <th>Device</th>\n",
       "      <th>9 What is the screen size of your mobile device?\\t\\t\\t\\t\\t\\t</th>\n",
       "      <th>10 What is the operating system (OS) of your device?\\t\\t\\t\\t</th>\n",
       "      <th>11 What browser do you run on your device to access the website?\\t\\t\\t</th>\n",
       "      <th>...</th>\n",
       "      <th>Longer time to get logged in (promotion, sales period)</th>\n",
       "      <th>Longer time in displaying graphics and photos (promotion, sales period)</th>\n",
       "      <th>Late declaration of price (promotion, sales period)</th>\n",
       "      <th>Longer page loading time (promotion, sales period)</th>\n",
       "      <th>Limited mode of payment on most products (promotion, sales period)</th>\n",
       "      <th>Longer delivery period</th>\n",
       "      <th>Change in website/Application design</th>\n",
       "      <th>Frequent disruption when moving from one page to another</th>\n",
       "      <th>Website is as efficient as before</th>\n",
       "      <th>Which of the Indian online retailer would you recommend to a friend?</th>\n",
       "    </tr>\n",
       "  </thead>\n",
       "  <tbody>\n",
       "    <tr>\n",
       "      <th>count</th>\n",
       "      <td>269</td>\n",
       "      <td>269</td>\n",
       "      <td>269</td>\n",
       "      <td>269</td>\n",
       "      <td>269</td>\n",
       "      <td>269</td>\n",
       "      <td>269</td>\n",
       "      <td>269</td>\n",
       "      <td>269</td>\n",
       "      <td>269</td>\n",
       "      <td>...</td>\n",
       "      <td>269</td>\n",
       "      <td>269</td>\n",
       "      <td>269</td>\n",
       "      <td>269</td>\n",
       "      <td>269</td>\n",
       "      <td>269</td>\n",
       "      <td>269</td>\n",
       "      <td>269</td>\n",
       "      <td>269</td>\n",
       "      <td>269</td>\n",
       "    </tr>\n",
       "    <tr>\n",
       "      <th>unique</th>\n",
       "      <td>2</td>\n",
       "      <td>5</td>\n",
       "      <td>11</td>\n",
       "      <td>5</td>\n",
       "      <td>6</td>\n",
       "      <td>4</td>\n",
       "      <td>4</td>\n",
       "      <td>4</td>\n",
       "      <td>3</td>\n",
       "      <td>4</td>\n",
       "      <td>...</td>\n",
       "      <td>10</td>\n",
       "      <td>10</td>\n",
       "      <td>8</td>\n",
       "      <td>11</td>\n",
       "      <td>8</td>\n",
       "      <td>6</td>\n",
       "      <td>7</td>\n",
       "      <td>8</td>\n",
       "      <td>8</td>\n",
       "      <td>8</td>\n",
       "    </tr>\n",
       "    <tr>\n",
       "      <th>top</th>\n",
       "      <td>Female</td>\n",
       "      <td>31-40 years</td>\n",
       "      <td>Delhi</td>\n",
       "      <td>Above 4 years</td>\n",
       "      <td>Less than 10 times</td>\n",
       "      <td>Mobile internet</td>\n",
       "      <td>Smartphone</td>\n",
       "      <td>Others</td>\n",
       "      <td>Window/windows Mobile</td>\n",
       "      <td>Google chrome</td>\n",
       "      <td>...</td>\n",
       "      <td>Amazon.in</td>\n",
       "      <td>Amazon.in, Flipkart.com</td>\n",
       "      <td>Myntra.com</td>\n",
       "      <td>Myntra.com</td>\n",
       "      <td>Snapdeal.com</td>\n",
       "      <td>Paytm.com</td>\n",
       "      <td>Amazon.in</td>\n",
       "      <td>Amazon.in</td>\n",
       "      <td>Amazon.in</td>\n",
       "      <td>Amazon.in</td>\n",
       "    </tr>\n",
       "    <tr>\n",
       "      <th>freq</th>\n",
       "      <td>181</td>\n",
       "      <td>81</td>\n",
       "      <td>58</td>\n",
       "      <td>98</td>\n",
       "      <td>114</td>\n",
       "      <td>142</td>\n",
       "      <td>141</td>\n",
       "      <td>134</td>\n",
       "      <td>122</td>\n",
       "      <td>216</td>\n",
       "      <td>...</td>\n",
       "      <td>57</td>\n",
       "      <td>60</td>\n",
       "      <td>75</td>\n",
       "      <td>61</td>\n",
       "      <td>87</td>\n",
       "      <td>72</td>\n",
       "      <td>96</td>\n",
       "      <td>53</td>\n",
       "      <td>94</td>\n",
       "      <td>79</td>\n",
       "    </tr>\n",
       "  </tbody>\n",
       "</table>\n",
       "<p>4 rows × 70 columns</p>\n",
       "</div>"
      ],
      "text/plain": [
       "        Gender          Age   City No. of years shopping  \\\n",
       "count      269          269    269                   269   \n",
       "unique       2            5     11                     5   \n",
       "top     Female  31-40 years  Delhi         Above 4 years   \n",
       "freq       181           81     58                    98   \n",
       "\n",
       "       No of online purchases last year  Internet Access      Device  \\\n",
       "count                               269              269         269   \n",
       "unique                                6                4           4   \n",
       "top                  Less than 10 times  Mobile internet  Smartphone   \n",
       "freq                                114              142         141   \n",
       "\n",
       "       9 What is the screen size of your mobile device?\\t\\t\\t\\t\\t\\t                                          \\\n",
       "count                                                 269                                                     \n",
       "unique                                                  4                                                     \n",
       "top                                                Others                                                     \n",
       "freq                                                  134                                                     \n",
       "\n",
       "       10 What is the operating system (OS) of your device?\\t\\t\\t\\t                                            \\\n",
       "count                                                 269                                                       \n",
       "unique                                                  3                                                       \n",
       "top                                 Window/windows Mobile                                                       \n",
       "freq                                                  122                                                       \n",
       "\n",
       "       11 What browser do you run on your device to access the website?\\t\\t\\t                                                            \\\n",
       "count                                                 269                                                                                 \n",
       "unique                                                  4                                                                                 \n",
       "top                                         Google chrome                                                                                 \n",
       "freq                                                  216                                                                                 \n",
       "\n",
       "        ... Longer time to get logged in (promotion, sales period)  \\\n",
       "count   ...                                                269       \n",
       "unique  ...                                                 10       \n",
       "top     ...                                          Amazon.in       \n",
       "freq    ...                                                 57       \n",
       "\n",
       "       Longer time in displaying graphics and photos (promotion, sales period)  \\\n",
       "count                                                 269                        \n",
       "unique                                                 10                        \n",
       "top                               Amazon.in, Flipkart.com                        \n",
       "freq                                                   60                        \n",
       "\n",
       "       Late declaration of price (promotion, sales period)  \\\n",
       "count                                                 269    \n",
       "unique                                                  8    \n",
       "top                                            Myntra.com    \n",
       "freq                                                   75    \n",
       "\n",
       "       Longer page loading time (promotion, sales period)  \\\n",
       "count                                                 269   \n",
       "unique                                                 11   \n",
       "top                                            Myntra.com   \n",
       "freq                                                   61   \n",
       "\n",
       "       Limited mode of payment on most products (promotion, sales period)  \\\n",
       "count                                                 269                   \n",
       "unique                                                  8                   \n",
       "top                                          Snapdeal.com                   \n",
       "freq                                                   87                   \n",
       "\n",
       "       Longer delivery period Change in website/Application design  \\\n",
       "count                     269                                  269   \n",
       "unique                      6                                    7   \n",
       "top                 Paytm.com                            Amazon.in   \n",
       "freq                       72                                   96   \n",
       "\n",
       "       Frequent disruption when moving from one page to another  \\\n",
       "count                                                 269         \n",
       "unique                                                  8         \n",
       "top                                             Amazon.in         \n",
       "freq                                                   53         \n",
       "\n",
       "       Website is as efficient as before  \\\n",
       "count                                269   \n",
       "unique                                 8   \n",
       "top                            Amazon.in   \n",
       "freq                                  94   \n",
       "\n",
       "       Which of the Indian online retailer would you recommend to a friend?  \n",
       "count                                                 269                    \n",
       "unique                                                  8                    \n",
       "top                                             Amazon.in                    \n",
       "freq                                                   79                    \n",
       "\n",
       "[4 rows x 70 columns]"
      ]
     },
     "execution_count": 24,
     "metadata": {},
     "output_type": "execute_result"
    }
   ],
   "source": [
    "df.describe(include=['object'])"
   ]
  },
  {
   "cell_type": "markdown",
   "metadata": {},
   "source": [
    "EXPLORATORY DATA ANALYSIS"
   ]
  },
  {
   "cell_type": "code",
   "execution_count": 29,
   "metadata": {},
   "outputs": [
    {
     "data": {
      "text/plain": [
       "<matplotlib.axes._subplots.AxesSubplot at 0x1f63bdaeb20>"
      ]
     },
     "execution_count": 29,
     "metadata": {},
     "output_type": "execute_result"
    },
    {
     "data": {
      "image/png": "[encoded data removed]",
      "text/plain": [
       "<Figure size 432x288 with 1 Axes>"
      ]
     },
     "metadata": {
      "needs_background": "light"
     },
     "output_type": "display_data"
    }
   ],
   "source": [
    "sns.barplot(x='Gender', y='No of online purchases last year', data=df1)"
   ]
  },
  {
   "cell_type": "code",
   "execution_count": 31,
   "metadata": {},
   "outputs": [],
   "source": [
    "#0- Male , 1-Female as per details in detailsheet and used the codesheet to plot the graph.This shows that number of females using ecommerce are more than the Men so gender also does play a role"
   ]
  },
  {
   "cell_type": "markdown",
   "metadata": {},
   "source": [
    "AGE"
   ]
  },
  {
   "cell_type": "markdown",
   "metadata": {},
   "source": [
    "Lets Take a look if Age plays an important role"
   ]
  },
  {
   "cell_type": "code",
   "execution_count": 32,
   "metadata": {},
   "outputs": [
    {
     "data": {
      "text/plain": [
       "31-40 years           81\n",
       "21-30 years           79\n",
       "41-50 yaers           70\n",
       "Less than 20 years    20\n",
       "51 years and above    19\n",
       "Name: Age, dtype: int64"
      ]
     },
     "execution_count": 32,
     "metadata": {},
     "output_type": "execute_result"
    }
   ],
   "source": [
    "df['Age'].value_counts()"
   ]
  },
  {
   "cell_type": "code",
   "execution_count": 33,
   "metadata": {},
   "outputs": [
    {
     "data": {
      "text/plain": [
       "3    81\n",
       "2    79\n",
       "4    70\n",
       "1    20\n",
       "5    19\n",
       "Name: Age, dtype: int64"
      ]
     },
     "execution_count": 33,
     "metadata": {},
     "output_type": "execute_result"
    }
   ],
   "source": [
    "df1['Age'].value_counts()"
   ]
  },
  {
   "cell_type": "markdown",
   "metadata": {},
   "source": [
    "Lets plot a graph and see how a particular age group was involved in purchases last year"
   ]
  },
  {
   "cell_type": "code",
   "execution_count": 34,
   "metadata": {},
   "outputs": [
    {
     "data": {
      "text/plain": [
       "<matplotlib.axes._subplots.AxesSubplot at 0x1f63c064f70>"
      ]
     },
     "execution_count": 34,
     "metadata": {},
     "output_type": "execute_result"
    },
    {
     "data": {
      "image/png": "[encoded data removed]",
      "text/plain": [
       "<Figure size 432x288 with 1 Axes>"
      ]
     },
     "metadata": {
      "needs_background": "light"
     },
     "output_type": "display_data"
    }
   ],
   "source": [
    "sns.barplot(x='Age', y='No of online purchases last year', data=df1)"
   ]
  },
  {
   "cell_type": "code",
   "execution_count": 35,
   "metadata": {},
   "outputs": [],
   "source": [
    "#Looks like the age group of 21-30 Years, followed by 31-40 yrs,41-50 yrs,51+ and last but not the least less than 20 years is the most involved in purchases usually.We just tried to analyse by keeping in mind the purchases made last year"
   ]
  },
  {
   "cell_type": "markdown",
   "metadata": {},
   "source": [
    "As seen in the graph above we can see that the maximum number of purchases made in the last year are in the age group 21-30 years  followed by 31-40 yrs,41-50 yrs,51+ and last but not the least less than 20 years.This may be due to a lot of factors involving the socio economic status of the working population, ease of using latest technologies,convinience,lack of time etc"
   ]
  },
  {
   "cell_type": "markdown",
   "metadata": {},
   "source": [
    "CITY"
   ]
  },
  {
   "cell_type": "code",
   "execution_count": 37,
   "metadata": {},
   "outputs": [
    {
     "data": {
      "text/plain": [
       "Delhi            58\n",
       "Greater Noida    43\n",
       "Noida            40\n",
       "Bangalore        37\n",
       "Karnal           27\n",
       "Solan            18\n",
       "Ghaziabad        18\n",
       "Gurgaon          12\n",
       "Merrut            9\n",
       "Moradabad         5\n",
       "Bulandshahr       2\n",
       "Name: City, dtype: int64"
      ]
     },
     "execution_count": 37,
     "metadata": {},
     "output_type": "execute_result"
    }
   ],
   "source": [
    "#From the detailsheet\n",
    "df['City'].value_counts()"
   ]
  },
  {
   "cell_type": "code",
   "execution_count": 38,
   "metadata": {},
   "outputs": [
    {
     "data": {
      "text/plain": [
       "Delhi            58\n",
       "Greater Noida    43\n",
       "Noida            40\n",
       "Bangalore        37\n",
       "Karnal           27\n",
       "Solan            18\n",
       "Ghaziabad        18\n",
       "Gurgaon          12\n",
       "Merrut            9\n",
       "Moradabad         5\n",
       "Bulandshahr       2\n",
       "Name: City, dtype: int64"
      ]
     },
     "execution_count": 38,
     "metadata": {},
     "output_type": "execute_result"
    }
   ],
   "source": [
    "#From the codesheet\n",
    "df1['City'].value_counts()"
   ]
  },
  {
   "cell_type": "code",
   "execution_count": 40,
   "metadata": {},
   "outputs": [
    {
     "data": {
      "text/plain": [
       "<matplotlib.axes._subplots.AxesSubplot at 0x1f63c04f730>"
      ]
     },
     "execution_count": 40,
     "metadata": {},
     "output_type": "execute_result"
    },
    {
     "data": {
      "image/png": "[encoded data removed]",
      "text/plain": [
       "<Figure size 1080x720 with 1 Axes>"
      ]
     },
     "metadata": {
      "needs_background": "light"
     },
     "output_type": "display_data"
    }
   ],
   "source": [
    "f, ax = plt. subplots(1, 1, figsize = (15, 10))\n",
    "sns.barplot(x='City', y='No of online purchases last year', data=df1,ax=ax)"
   ]
  },
  {
   "cell_type": "code",
   "execution_count": 41,
   "metadata": {},
   "outputs": [],
   "source": [
    "#This describes the online purchases in last year based on city and we could see distribution of purchases across city .Ecommerce being prevalent in any city \n",
    "#depends on many factors ,for example the convinience of shopping,range of products available,options,money savings, rewards "
   ]
  },
  {
   "cell_type": "markdown",
   "metadata": {},
   "source": [
    "HOW LONG YOU ARE SHOPPING"
   ]
  },
  {
   "cell_type": "code",
   "execution_count": 43,
   "metadata": {},
   "outputs": [
    {
     "data": {
      "text/plain": [
       "Above 4 years       98\n",
       "2-3 years           65\n",
       "3-4 years           47\n",
       "Less than 1 year    43\n",
       "1-2 years           16\n",
       "Name: No. of years shopping, dtype: int64"
      ]
     },
     "execution_count": 43,
     "metadata": {},
     "output_type": "execute_result"
    }
   ],
   "source": [
    "df['No. of years shopping'].value_counts()"
   ]
  },
  {
   "cell_type": "code",
   "execution_count": 44,
   "metadata": {},
   "outputs": [
    {
     "data": {
      "text/plain": [
       "5    98\n",
       "3    65\n",
       "4    47\n",
       "1    43\n",
       "2    16\n",
       "Name: No. of years shopping, dtype: int64"
      ]
     },
     "execution_count": 44,
     "metadata": {},
     "output_type": "execute_result"
    }
   ],
   "source": [
    "df1['No. of years shopping'].value_counts()"
   ]
  },
  {
   "cell_type": "code",
   "execution_count": 45,
   "metadata": {},
   "outputs": [
    {
     "data": {
      "text/plain": [
       "<matplotlib.axes._subplots.AxesSubplot at 0x1f63c220ee0>"
      ]
     },
     "execution_count": 45,
     "metadata": {},
     "output_type": "execute_result"
    },
    {
     "data": {
      "image/png": "[encoded data removed]",
      "text/plain": [
       "<Figure size 432x288 with 1 Axes>"
      ]
     },
     "metadata": {
      "needs_background": "light"
     },
     "output_type": "display_data"
    }
   ],
   "source": [
    "sns.barplot(x='No. of years shopping', y='No of online purchases last year', data=df1)"
   ]
  },
  {
   "cell_type": "markdown",
   "metadata": {},
   "source": [
    "People who are shopping more number of years have shopped the maximum in last year shows that customer trust,reliability,convinience plays an important role in purchases"
   ]
  },
  {
   "attachments": {},
   "cell_type": "markdown",
   "metadata": {},
   "source": [
    "How do you access the internet while shopping on-line?\n"
   ]
  },
  {
   "cell_type": "markdown",
   "metadata": {},
   "source": [
    "Lets check on how internet access plays an important role in online purchases"
   ]
  },
  {
   "cell_type": "code",
   "execution_count": 51,
   "metadata": {},
   "outputs": [
    {
     "data": {
      "text/plain": [
       "Mobile internet    189\n",
       "Wi-Fi               76\n",
       "Dial-up              4\n",
       "Name: Internet Access, dtype: int64"
      ]
     },
     "execution_count": 51,
     "metadata": {},
     "output_type": "execute_result"
    }
   ],
   "source": [
    "df['Internet Access'].value_counts()"
   ]
  },
  {
   "cell_type": "code",
   "execution_count": 47,
   "metadata": {},
   "outputs": [
    {
     "data": {
      "text/plain": [
       "3    118\n",
       "2     76\n",
       "5     71\n",
       "4      4\n",
       "Name: Internet Access, dtype: int64"
      ]
     },
     "execution_count": 47,
     "metadata": {},
     "output_type": "execute_result"
    }
   ],
   "source": [
    "df1['Internet Access'].value_counts()"
   ]
  },
  {
   "cell_type": "code",
   "execution_count": 48,
   "metadata": {},
   "outputs": [],
   "source": [
    "#This shows that we have the same value in two fonts hence  will process it for better analysis"
   ]
  },
  {
   "cell_type": "code",
   "execution_count": 50,
   "metadata": {},
   "outputs": [],
   "source": [
    "df['Internet Access'] = df['Internet Access'].replace({\"Mobile Internet\": \"Mobile internet\"})"
   ]
  },
  {
   "cell_type": "code",
   "execution_count": 52,
   "metadata": {},
   "outputs": [
    {
     "data": {
      "text/plain": [
       "Mobile internet    189\n",
       "Wi-Fi               76\n",
       "Dial-up              4\n",
       "Name: Internet Access, dtype: int64"
      ]
     },
     "execution_count": 52,
     "metadata": {},
     "output_type": "execute_result"
    }
   ],
   "source": [
    "df['Internet Access'].value_counts()"
   ]
  },
  {
   "cell_type": "code",
   "execution_count": 55,
   "metadata": {},
   "outputs": [],
   "source": [
    "df1['Internet Access'] = df1['Internet Access'].replace({5: 3})"
   ]
  },
  {
   "cell_type": "code",
   "execution_count": 56,
   "metadata": {},
   "outputs": [
    {
     "data": {
      "text/plain": [
       "3    189\n",
       "2     76\n",
       "4      4\n",
       "Name: Internet Access, dtype: int64"
      ]
     },
     "execution_count": 56,
     "metadata": {},
     "output_type": "execute_result"
    }
   ],
   "source": [
    "df1['Internet Access'].value_counts()"
   ]
  },
  {
   "cell_type": "code",
   "execution_count": 57,
   "metadata": {},
   "outputs": [
    {
     "data": {
      "text/plain": [
       "<matplotlib.axes._subplots.AxesSubplot at 0x1f63c2b7a30>"
      ]
     },
     "execution_count": 57,
     "metadata": {},
     "output_type": "execute_result"
    },
    {
     "data": {
      "image/png": "[encoded data removed]",
      "text/plain": [
       "<Figure size 432x288 with 1 Axes>"
      ]
     },
     "metadata": {
      "needs_background": "light"
     },
     "output_type": "display_data"
    }
   ],
   "source": [
    "sns.barplot(x='Internet Access', y='No of online purchases last year', data=df1)"
   ]
  },
  {
   "cell_type": "markdown",
   "metadata": {},
   "source": [
    "This shows that people who used dial ups have made max purchases in last year which may be due to various factors ie the device they are using ,convinience,trust,privacy etc so lets see what device is used most often by users "
   ]
  },
  {
   "cell_type": "markdown",
   "metadata": {},
   "source": [
    "DEVICE"
   ]
  },
  {
   "cell_type": "code",
   "execution_count": 60,
   "metadata": {},
   "outputs": [
    {
     "data": {
      "text/plain": [
       "Smartphone    141\n",
       "Laptop         86\n",
       "Desktop        30\n",
       "Tablet         12\n",
       "Name: Device, dtype: int64"
      ]
     },
     "execution_count": 60,
     "metadata": {},
     "output_type": "execute_result"
    }
   ],
   "source": [
    "df['Device'].value_counts()"
   ]
  },
  {
   "cell_type": "code",
   "execution_count": 61,
   "metadata": {},
   "outputs": [
    {
     "data": {
      "text/plain": [
       "1    141\n",
       "2     86\n",
       "3     30\n",
       "4     12\n",
       "Name: Device, dtype: int64"
      ]
     },
     "execution_count": 61,
     "metadata": {},
     "output_type": "execute_result"
    }
   ],
   "source": [
    "df1['Device'].value_counts()"
   ]
  },
  {
   "cell_type": "code",
   "execution_count": 62,
   "metadata": {},
   "outputs": [
    {
     "data": {
      "text/plain": [
       "<matplotlib.axes._subplots.AxesSubplot at 0x1f63c486f40>"
      ]
     },
     "execution_count": 62,
     "metadata": {},
     "output_type": "execute_result"
    },
    {
     "data": {
      "image/png": "[encoded data removed]",
      "text/plain": [
       "<Figure size 432x288 with 1 Axes>"
      ]
     },
     "metadata": {
      "needs_background": "light"
     },
     "output_type": "display_data"
    }
   ],
   "source": [
    "sns.barplot(x='Device', y='No of online purchases last year', data=df1)"
   ]
  },
  {
   "cell_type": "markdown",
   "metadata": {},
   "source": [
    "People are more comfortable shopping online when using desktop or tablet when compared to mobile phones,laptops"
   ]
  },
  {
   "cell_type": "markdown",
   "metadata": {},
   "source": [
    "9 What is the screen size of your mobile device?\t\t\t\t\t\t                                        \"\n"
   ]
  },
  {
   "cell_type": "code",
   "execution_count": 63,
   "metadata": {},
   "outputs": [
    {
     "data": {
      "text/plain": [
       "Others        134\n",
       "5.5 inches     99\n",
       "4.7 inches     29\n",
       "5 inches        7\n",
       "Name: 9 What is the screen size of your mobile device?\\t\\t\\t\\t\\t\\t                                        , dtype: int64"
      ]
     },
     "execution_count": 63,
     "metadata": {},
     "output_type": "execute_result"
    }
   ],
   "source": [
    "df['9 What is the screen size of your mobile device?\t\t\t\t\t\t                                        '].value_counts()"
   ]
  },
  {
   "cell_type": "code",
   "execution_count": 64,
   "metadata": {},
   "outputs": [
    {
     "data": {
      "text/plain": [
       "5    134\n",
       "4    106\n",
       "2     29\n",
       "Name: 9 What is the screen size of your mobile device?\\t\\t\\t\\t\\t\\t                                        , dtype: int64"
      ]
     },
     "execution_count": 64,
     "metadata": {},
     "output_type": "execute_result"
    }
   ],
   "source": [
    "df1['9 What is the screen size of your mobile device?\t\t\t\t\t\t                                        '].value_counts()"
   ]
  },
  {
   "cell_type": "code",
   "execution_count": 66,
   "metadata": {},
   "outputs": [
    {
     "data": {
      "text/plain": [
       "<matplotlib.axes._subplots.AxesSubplot at 0x1f63c4ec3a0>"
      ]
     },
     "execution_count": 66,
     "metadata": {},
     "output_type": "execute_result"
    },
    {
     "data": {
      "image/png": "[encoded data removed]",
      "text/plain": [
       "<Figure size 432x288 with 1 Axes>"
      ]
     },
     "metadata": {
      "needs_background": "light"
     },
     "output_type": "display_data"
    }
   ],
   "source": [
    "sns.barplot(x='9 What is the screen size of your mobile device?\t\t\t\t\t\t                                        ', y='No of online purchases last year', data=df1)"
   ]
  },
  {
   "cell_type": "markdown",
   "metadata": {},
   "source": [
    "Smaller screen sizes  are preferred however there is not a huge difference and various devices are used .The difference may be just due to the mere fact that mobile sizes 4.7 inches standard are available with almost everybody and hence it is being extensively used and also the convinience of being using it anyehere anytime"
   ]
  },
  {
   "cell_type": "markdown",
   "metadata": {},
   "source": [
    "OPERATING SYSTEM                                       \"\n"
   ]
  },
  {
   "cell_type": "code",
   "execution_count": 67,
   "metadata": {},
   "outputs": [
    {
     "data": {
      "text/plain": [
       "Window/windows Mobile    122\n",
       "Android                   85\n",
       "IOS/Mac                   62\n",
       "Name: 10 What is the operating system (OS) of your device?\\t\\t\\t\\t                                          , dtype: int64"
      ]
     },
     "execution_count": 67,
     "metadata": {},
     "output_type": "execute_result"
    }
   ],
   "source": [
    "df['10 What is the operating system (OS) of your device?\t\t\t\t                                          '].value_counts()"
   ]
  },
  {
   "cell_type": "code",
   "execution_count": 68,
   "metadata": {},
   "outputs": [
    {
     "data": {
      "text/plain": [
       "1    122\n",
       "2     85\n",
       "3     62\n",
       "Name: 10 What is the operating system (OS) of your device?\\t\\t\\t\\t                                          , dtype: int64"
      ]
     },
     "execution_count": 68,
     "metadata": {},
     "output_type": "execute_result"
    }
   ],
   "source": [
    "df1['10 What is the operating system (OS) of your device?\t\t\t\t                                          '].value_counts()"
   ]
  },
  {
   "cell_type": "markdown",
   "metadata": {},
   "source": [
    "Lets see how the devices are related to purchases"
   ]
  },
  {
   "cell_type": "code",
   "execution_count": 69,
   "metadata": {},
   "outputs": [
    {
     "data": {
      "text/plain": [
       "<matplotlib.axes._subplots.AxesSubplot at 0x1f63c54aca0>"
      ]
     },
     "execution_count": 69,
     "metadata": {},
     "output_type": "execute_result"
    },
    {
     "data": {
      "image/png": "[encoded data removed]",
      "text/plain": [
       "<Figure size 432x288 with 1 Axes>"
      ]
     },
     "metadata": {
      "needs_background": "light"
     },
     "output_type": "display_data"
    }
   ],
   "source": [
    "sns.barplot(x='10 What is the operating system (OS) of your device?\t\t\t\t                                          ', y='No of online purchases last year', data=df1)"
   ]
  },
  {
   "cell_type": "markdown",
   "metadata": {},
   "source": [
    "This clearly indicates that the most online purchases are done from android cause it may be so because mobile/tablets as we saw is one of popular methods and this might be the operating system which is available even in mobiles which are relatively cheaper than ios/mac and is most extensively used by thed population"
   ]
  },
  {
   "cell_type": "markdown",
   "metadata": {},
   "source": [
    "BROWSERS USED"
   ]
  },
  {
   "cell_type": "markdown",
   "metadata": {},
   "source": [
    "Lets explore the browsers which have been used and try to see what was most majorly used in the last year purchases just to know whats commonly used or preferred"
   ]
  },
  {
   "cell_type": "code",
   "execution_count": 70,
   "metadata": {},
   "outputs": [
    {
     "data": {
      "text/plain": [
       "Google chrome      216\n",
       "Safari              40\n",
       "Opera                8\n",
       "Mozilla Firefox      5\n",
       "Name: 11 What browser do you run on your device to access the website?\\t\\t\\t                                                          , dtype: int64"
      ]
     },
     "execution_count": 70,
     "metadata": {},
     "output_type": "execute_result"
    }
   ],
   "source": [
    "df['11 What browser do you run on your device to access the website?\t\t\t                                                          '].value_counts()"
   ]
  },
  {
   "cell_type": "code",
   "execution_count": 71,
   "metadata": {},
   "outputs": [
    {
     "data": {
      "text/plain": [
       "1    216\n",
       "2     40\n",
       "4      8\n",
       "3      5\n",
       "Name: 11 What browser do you run on your device to access the website?\\t\\t\\t                                                          , dtype: int64"
      ]
     },
     "execution_count": 71,
     "metadata": {},
     "output_type": "execute_result"
    }
   ],
   "source": [
    "df1['11 What browser do you run on your device to access the website?\t\t\t                                                          '].value_counts()"
   ]
  },
  {
   "cell_type": "markdown",
   "metadata": {},
   "source": [
    "LETS TAKE A LOOK AT IT WHICH BROWSERS ARE USED MOST COMMONLY OVER LAST YEAR PURCHASES"
   ]
  },
  {
   "cell_type": "code",
   "execution_count": 72,
   "metadata": {},
   "outputs": [
    {
     "data": {
      "text/plain": [
       "<matplotlib.axes._subplots.AxesSubplot at 0x1f63c7b8760>"
      ]
     },
     "execution_count": 72,
     "metadata": {},
     "output_type": "execute_result"
    },
    {
     "data": {
      "image/png": "[encoded data removed]",
      "text/plain": [
       "<Figure size 432x288 with 1 Axes>"
      ]
     },
     "metadata": {
      "needs_background": "light"
     },
     "output_type": "display_data"
    }
   ],
   "source": [
    "sns.barplot(x='11 What browser do you run on your device to access the website?\t\t\t                                                          ', y='No of online purchases last year', data=df1)"
   ]
  },
  {
   "cell_type": "markdown",
   "metadata": {},
   "source": [
    "FROM THE ABOVE LOOKS LIKE Google chrome,followed by Safari, Opera and mozilla firefox are  the most sought after depending on easy availability,accessibility"
   ]
  },
  {
   "cell_type": "markdown",
   "metadata": {},
   "source": [
    "Lets Explore the variable Time spent on e-retail store"
   ]
  },
  {
   "cell_type": "code",
   "execution_count": 74,
   "metadata": {},
   "outputs": [
    {
     "data": {
      "text/plain": [
       "more than 15 mins    123\n",
       "6-10 mins             71\n",
       "11-15 mins            46\n",
       "Less than 1 min       15\n",
       "1-5 mins              14\n",
       "Name: 14 How much time do you explore the e- retail store before making a purchase decision?                                                                   , dtype: int64"
      ]
     },
     "execution_count": 74,
     "metadata": {},
     "output_type": "execute_result"
    }
   ],
   "source": [
    "df['14 How much time do you explore the e- retail store before making a purchase decision?                                                                   '].value_counts()"
   ]
  },
  {
   "cell_type": "code",
   "execution_count": 75,
   "metadata": {},
   "outputs": [
    {
     "data": {
      "text/plain": [
       "5    123\n",
       "3     71\n",
       "4     46\n",
       "1     15\n",
       "2     14\n",
       "Name: 14 How much time do you explore the e- retail store before making a purchase decision?                                                                   , dtype: int64"
      ]
     },
     "execution_count": 75,
     "metadata": {},
     "output_type": "execute_result"
    }
   ],
   "source": [
    "df1['14 How much time do you explore the e- retail store before making a purchase decision?                                                                   '].value_counts()"
   ]
  },
  {
   "cell_type": "code",
   "execution_count": 76,
   "metadata": {},
   "outputs": [
    {
     "data": {
      "text/plain": [
       "<matplotlib.axes._subplots.AxesSubplot at 0x1f63c81b040>"
      ]
     },
     "execution_count": 76,
     "metadata": {},
     "output_type": "execute_result"
    },
    {
     "data": {
      "image/png": "[encoded data removed]",
      "text/plain": [
       "<Figure size 432x288 with 1 Axes>"
      ]
     },
     "metadata": {
      "needs_background": "light"
     },
     "output_type": "display_data"
    }
   ],
   "source": [
    "sns.barplot(x='14 How much time do you explore the e- retail store before making a purchase decision?                                                                   ', y='No of online purchases last year', data=df1)"
   ]
  },
  {
   "cell_type": "markdown",
   "metadata": {},
   "source": [
    "The above graph clearly shows that spending more time has nothing to do really with purchases as last year most purchases have been done by people who spend less than 1 min"
   ]
  },
  {
   "cell_type": "code",
   "execution_count": 77,
   "metadata": {},
   "outputs": [
    {
     "data": {
      "text/plain": [
       "Credit/Debit cards                    148\n",
       "Cash on delivery (CoD)                 76\n",
       "E-wallets (Paytm, Freecharge etc.)     45\n",
       "Name: 15 What is your preferred payment Option?\\t\\t\\t\\t\\t                                                                                                                               , dtype: int64"
      ]
     },
     "execution_count": 77,
     "metadata": {},
     "output_type": "execute_result"
    }
   ],
   "source": [
    "df['15 What is your preferred payment Option?\t\t\t\t\t                                                                                                                               '].value_counts()\n"
   ]
  },
  {
   "cell_type": "code",
   "execution_count": 78,
   "metadata": {},
   "outputs": [
    {
     "data": {
      "text/plain": [
       "1    148\n",
       "2     76\n",
       "4     45\n",
       "Name: 15 What is your preferred payment Option?\\t\\t\\t\\t\\t                                                                                                                               , dtype: int64"
      ]
     },
     "execution_count": 78,
     "metadata": {},
     "output_type": "execute_result"
    }
   ],
   "source": [
    "df1['15 What is your preferred payment Option?\t\t\t\t\t                                                                                                                               '].value_counts()\n"
   ]
  },
  {
   "cell_type": "markdown",
   "metadata": {},
   "source": [
    "Lets see what payment options are most likely preferred.Lets see what methods were used over last year purchases mostly"
   ]
  },
  {
   "cell_type": "code",
   "execution_count": 79,
   "metadata": {},
   "outputs": [
    {
     "data": {
      "text/plain": [
       "<matplotlib.axes._subplots.AxesSubplot at 0x1f63c88d3a0>"
      ]
     },
     "execution_count": 79,
     "metadata": {},
     "output_type": "execute_result"
    },
    {
     "data": {
      "image/png": "[encoded data removed]",
      "text/plain": [
       "<Figure size 432x288 with 1 Axes>"
      ]
     },
     "metadata": {
      "needs_background": "light"
     },
     "output_type": "display_data"
    }
   ],
   "source": [
    "sns.barplot(x='15 What is your preferred payment Option?\t\t\t\t\t                                                                                                                               ', y='No of online purchases last year', data=df1)"
   ]
  },
  {
   "cell_type": "markdown",
   "metadata": {},
   "source": [
    "Clearly shows that online payment methods are mostly preferred like E-wallets (Paytm, Freecharge etc., followed by credit/debit cards .Cash on delivery is the least preferred "
   ]
  },
  {
   "attachments": {},
   "cell_type": "markdown",
   "metadata": {},
   "source": [
    "How frequently do you abandon (selecting an items and leaving without making payment) your shopping cart\t\t\t\t\t\t\t                                                   "
   ]
  },
  {
   "cell_type": "markdown",
   "metadata": {},
   "source": [
    "Lets explore the variable"
   ]
  },
  {
   "cell_type": "code",
   "execution_count": 81,
   "metadata": {},
   "outputs": [
    {
     "data": {
      "text/plain": [
       "Sometimes          171\n",
       "Never               48\n",
       "Frequently          35\n",
       "Very frequently     15\n",
       "Name: 16 How frequently do you abandon (selecting an items and leaving without making payment) your shopping cart?\\t\\t\\t\\t\\t\\t\\t                                                   , dtype: int64"
      ]
     },
     "execution_count": 81,
     "metadata": {},
     "output_type": "execute_result"
    }
   ],
   "source": [
    "df['16 How frequently do you abandon (selecting an items and leaving without making payment) your shopping cart?\t\t\t\t\t\t\t                                                   '].value_counts()"
   ]
  },
  {
   "cell_type": "markdown",
   "metadata": {},
   "source": [
    "From the above we can see that there are very few people who abandon items in the cart very frequently"
   ]
  },
  {
   "cell_type": "markdown",
   "metadata": {},
   "source": [
    "Why did you abandon the “Bag”, “Shopping Cart”?\n"
   ]
  },
  {
   "cell_type": "markdown",
   "metadata": {},
   "source": [
    "Lets explore the variable on reasons why the shopping cart is abandoned usually by customers"
   ]
  },
  {
   "cell_type": "code",
   "execution_count": 83,
   "metadata": {},
   "outputs": [
    {
     "data": {
      "text/plain": [
       "Better alternative offer        133\n",
       "Promo code not applicable        54\n",
       "Change in price                  37\n",
       "Lack of trust                    31\n",
       "No preferred mode of payment     14\n",
       "Name: 17 Why did you abandon the “Bag”, “Shopping Cart”?\\t\\t\\t\\t\\t                                                                                                                                                       , dtype: int64"
      ]
     },
     "execution_count": 83,
     "metadata": {},
     "output_type": "execute_result"
    }
   ],
   "source": [
    "df['17 Why did you abandon the “Bag”, “Shopping Cart”?\t\t\t\t\t                                                                                                                                                       '].value_counts()"
   ]
  },
  {
   "cell_type": "markdown",
   "metadata": {},
   "source": [
    "The most prevalent reason  of abandoning bag  is finding better alternative offer, followed by promo code not available,price change,lack of trust, mode of payment . This clearly indicates that customers pay more attention to better pricing / deals , offers available, price and trust "
   ]
  },
  {
   "attachments": {},
   "cell_type": "markdown",
   "metadata": {},
   "source": [
    "18 The content on the website must be easy to read and understand.Lets explore the variable in both the dataframes(details as well as codesheet to understand the relationship and know more about what customers think\n"
   ]
  },
  {
   "cell_type": "code",
   "execution_count": 85,
   "metadata": {},
   "outputs": [
    {
     "data": {
      "text/plain": [
       "Strongly agree (5)       164\n",
       "Agree (4)                 80\n",
       "Strongly disagree (1)     18\n",
       "Indifferent (3)            7\n",
       "Name: Content on website, dtype: int64"
      ]
     },
     "execution_count": 85,
     "metadata": {},
     "output_type": "execute_result"
    }
   ],
   "source": [
    "df['Content on website'].value_counts()"
   ]
  },
  {
   "cell_type": "code",
   "execution_count": 86,
   "metadata": {},
   "outputs": [
    {
     "data": {
      "text/plain": [
       "5    164\n",
       "4     80\n",
       "1     18\n",
       "3      7\n",
       "Name: Content on website, dtype: int64"
      ]
     },
     "execution_count": 86,
     "metadata": {},
     "output_type": "execute_result"
    }
   ],
   "source": [
    "df1['Content on website'].value_counts()"
   ]
  },
  {
   "cell_type": "markdown",
   "metadata": {},
   "source": [
    "The cell clearly shows that users prefer the content on the website which is easy to use and understand.A very small percentage of people are indifferent or diagree.Lets also see how the purchases made last year "
   ]
  },
  {
   "cell_type": "code",
   "execution_count": 92,
   "metadata": {},
   "outputs": [],
   "source": [
    "content_on_website = df['Content on website'].value_counts()"
   ]
  },
  {
   "cell_type": "code",
   "execution_count": 93,
   "metadata": {},
   "outputs": [
    {
     "name": "stdout",
     "output_type": "stream",
     "text": [
      "Strongly agree (5)       164\n",
      "Agree (4)                 80\n",
      "Strongly disagree (1)     18\n",
      "Indifferent (3)            7\n",
      "Name: Content on website, dtype: int64\n"
     ]
    }
   ],
   "source": [
    "print(content_on_website)"
   ]
  },
  {
   "cell_type": "code",
   "execution_count": 94,
   "metadata": {},
   "outputs": [
    {
     "data": {
      "text/plain": [
       "<matplotlib.axes._subplots.AxesSubplot at 0x1f63de0f4f0>"
      ]
     },
     "execution_count": 94,
     "metadata": {},
     "output_type": "execute_result"
    },
    {
     "data": {
      "image/png": "[encoded data removed]",
      "text/plain": [
       "<Figure size 432x288 with 1 Axes>"
      ]
     },
     "metadata": {},
     "output_type": "display_data"
    }
   ],
   "source": [
    "content_on_website.plot(kind='pie')"
   ]
  },
  {
   "attachments": {},
   "cell_type": "markdown",
   "metadata": {},
   "source": [
    "19 Information on similar product to the one highlighted  is important for product comparison\n"
   ]
  },
  {
   "cell_type": "code",
   "execution_count": 95,
   "metadata": {},
   "outputs": [
    {
     "data": {
      "text/plain": [
       "Strongly agree (5)    116\n",
       "Agree (4)              92\n",
       "Indifferent (3)        43\n",
       "Dis-agree (2)          18\n",
       "Name: Information on similar product, dtype: int64"
      ]
     },
     "execution_count": 95,
     "metadata": {},
     "output_type": "execute_result"
    }
   ],
   "source": [
    "df['Information on similar product'].value_counts()"
   ]
  },
  {
   "cell_type": "code",
   "execution_count": 96,
   "metadata": {},
   "outputs": [
    {
     "data": {
      "text/plain": [
       "5    116\n",
       "4     92\n",
       "3     43\n",
       "2     18\n",
       "Name: Information on similar product, dtype: int64"
      ]
     },
     "execution_count": 96,
     "metadata": {},
     "output_type": "execute_result"
    }
   ],
   "source": [
    "df1['Information on similar product'].value_counts()"
   ]
  },
  {
   "cell_type": "code",
   "execution_count": 97,
   "metadata": {},
   "outputs": [],
   "source": [
    "Information_on_similar_product=df['Information on similar product'].value_counts()"
   ]
  },
  {
   "cell_type": "code",
   "execution_count": 98,
   "metadata": {},
   "outputs": [
    {
     "data": {
      "text/plain": [
       "<matplotlib.axes._subplots.AxesSubplot at 0x1f63de38d00>"
      ]
     },
     "execution_count": 98,
     "metadata": {},
     "output_type": "execute_result"
    },
    {
     "data": {
      "image/png": "[encoded data removed]",
      "text/plain": [
       "<Figure size 432x288 with 1 Axes>"
      ]
     },
     "metadata": {},
     "output_type": "display_data"
    }
   ],
   "source": [
    "Information_on_similar_product.plot(kind='pie')"
   ]
  },
  {
   "cell_type": "markdown",
   "metadata": {},
   "source": [
    "As per the above graph we can see that people prefer information on similar products to understand what are the various options available and the best one can be chosen . "
   ]
  },
  {
   "cell_type": "markdown",
   "metadata": {},
   "source": [
    "20 Complete information on listed seller and product being offered is important for purchase decision.\n"
   ]
  },
  {
   "cell_type": "code",
   "execution_count": 100,
   "metadata": {},
   "outputs": [
    {
     "data": {
      "text/plain": [
       "Agree (4)                101\n",
       "Strongly agree (5)        87\n",
       "Indifferent (3)           52\n",
       "Dis-agree (2)             18\n",
       "Strongly disagree (1)     11\n",
       "Name: 20 Complete information on listed seller and product being offered is important for purchase decision., dtype: int64"
      ]
     },
     "execution_count": 100,
     "metadata": {},
     "output_type": "execute_result"
    }
   ],
   "source": [
    "df['20 Complete information on listed seller and product being offered is important for purchase decision.'].value_counts()"
   ]
  },
  {
   "cell_type": "code",
   "execution_count": 101,
   "metadata": {
    "scrolled": true
   },
   "outputs": [
    {
     "data": {
      "text/plain": [
       "4    101\n",
       "5     87\n",
       "3     52\n",
       "2     18\n",
       "1     11\n",
       "Name: 20 Complete information on listed seller and product being offered is important for purchase decision., dtype: int64"
      ]
     },
     "execution_count": 101,
     "metadata": {},
     "output_type": "execute_result"
    }
   ],
   "source": [
    "df1['20 Complete information on listed seller and product being offered is important for purchase decision.'].value_counts()"
   ]
  },
  {
   "cell_type": "code",
   "execution_count": 102,
   "metadata": {},
   "outputs": [],
   "source": [
    "Seller_and_product_info=df['20 Complete information on listed seller and product being offered is important for purchase decision.'].value_counts()"
   ]
  },
  {
   "cell_type": "code",
   "execution_count": 104,
   "metadata": {},
   "outputs": [
    {
     "data": {
      "text/plain": [
       "Text(0.5, 1.0, 'Seller and product info')"
      ]
     },
     "execution_count": 104,
     "metadata": {},
     "output_type": "execute_result"
    },
    {
     "data": {
      "image/png": "[encoded data removed]",
      "text/plain": [
       "<Figure size 432x288 with 1 Axes>"
      ]
     },
     "metadata": {},
     "output_type": "display_data"
    }
   ],
   "source": [
    "ax=Seller_and_product_info.plot(kind='pie')\n",
    "ax.set_title(\"Seller and product info\")"
   ]
  },
  {
   "cell_type": "markdown",
   "metadata": {},
   "source": [
    "This clearly shows that majority people would like to have complete information on seller and product being offered since it helps customers to make better purchase decision"
   ]
  },
  {
   "cell_type": "markdown",
   "metadata": {},
   "source": [
    "21 All relevant information on listed products must be stated clearly\n"
   ]
  },
  {
   "cell_type": "code",
   "execution_count": 106,
   "metadata": {},
   "outputs": [
    {
     "data": {
      "text/plain": [
       "Agree (4)                132\n",
       "Strongly agree (5)       107\n",
       "Strongly disagree (1)     18\n",
       "Dis-agree (2)             12\n",
       "Name: Product Information, dtype: int64"
      ]
     },
     "execution_count": 106,
     "metadata": {},
     "output_type": "execute_result"
    }
   ],
   "source": [
    "df['Product Information'].value_counts()"
   ]
  },
  {
   "cell_type": "code",
   "execution_count": 107,
   "metadata": {},
   "outputs": [
    {
     "data": {
      "text/plain": [
       "4    132\n",
       "5    107\n",
       "1     18\n",
       "2     12\n",
       "Name: Product Information, dtype: int64"
      ]
     },
     "execution_count": 107,
     "metadata": {},
     "output_type": "execute_result"
    }
   ],
   "source": [
    "df1['Product Information'].value_counts()"
   ]
  },
  {
   "cell_type": "code",
   "execution_count": 108,
   "metadata": {},
   "outputs": [],
   "source": [
    "Product_information=df['Product Information'].value_counts()"
   ]
  },
  {
   "cell_type": "code",
   "execution_count": 109,
   "metadata": {},
   "outputs": [
    {
     "data": {
      "text/plain": [
       "Text(0.5, 1.0, 'Product information')"
      ]
     },
     "execution_count": 109,
     "metadata": {},
     "output_type": "execute_result"
    },
    {
     "data": {
      "image/png": "[encoded data removed]",
      "text/plain": [
       "<Figure size 432x288 with 1 Axes>"
      ]
     },
     "metadata": {},
     "output_type": "display_data"
    }
   ],
   "source": [
    "ax=Product_information.plot(kind='pie')\n",
    "ax.set_title(\"Product information\")"
   ]
  },
  {
   "cell_type": "markdown",
   "metadata": {},
   "source": [
    "This clearly shows that majority of people prefer to have all relevant information to be stated clearly cause that helps them to make better purchase decision"
   ]
  },
  {
   "cell_type": "markdown",
   "metadata": {},
   "source": [
    "22 Ease of navigation in website\n"
   ]
  },
  {
   "cell_type": "code",
   "execution_count": 110,
   "metadata": {},
   "outputs": [
    {
     "data": {
      "text/plain": [
       "Strongly agree (5)       141\n",
       "Agree (4)                105\n",
       "Strongly disagree (1)     18\n",
       "Dis-agree (2)              5\n",
       "Name: Ease of navigation, dtype: int64"
      ]
     },
     "execution_count": 110,
     "metadata": {},
     "output_type": "execute_result"
    }
   ],
   "source": [
    "df['Ease of navigation'].value_counts()"
   ]
  },
  {
   "cell_type": "code",
   "execution_count": 111,
   "metadata": {},
   "outputs": [
    {
     "data": {
      "text/plain": [
       "5    141\n",
       "4    105\n",
       "1     18\n",
       "2      5\n",
       "Name: Ease of navigation, dtype: int64"
      ]
     },
     "execution_count": 111,
     "metadata": {},
     "output_type": "execute_result"
    }
   ],
   "source": [
    "df1['Ease of navigation'].value_counts()"
   ]
  },
  {
   "cell_type": "code",
   "execution_count": 112,
   "metadata": {},
   "outputs": [],
   "source": [
    "Ease_of_navigation=df['Ease of navigation'].value_counts()"
   ]
  },
  {
   "cell_type": "code",
   "execution_count": 113,
   "metadata": {},
   "outputs": [
    {
     "data": {
      "text/plain": [
       "Text(0.5, 1.0, 'Ease of navigation')"
      ]
     },
     "execution_count": 113,
     "metadata": {},
     "output_type": "execute_result"
    },
    {
     "data": {
      "image/png": "[encoded data removed]",
      "text/plain": [
       "<Figure size 432x288 with 1 Axes>"
      ]
     },
     "metadata": {},
     "output_type": "display_data"
    }
   ],
   "source": [
    "ax=Ease_of_navigation.plot(kind='pie')\n",
    "ax.set_title(\"Ease of navigation\")"
   ]
  },
  {
   "cell_type": "markdown",
   "metadata": {},
   "source": [
    "The graph above clearly shows that most users agree that they prefer websites which provide ease of navigation"
   ]
  },
  {
   "attachments": {},
   "cell_type": "markdown",
   "metadata": {},
   "source": [
    "23 Loading and processing speed\n"
   ]
  },
  {
   "cell_type": "code",
   "execution_count": 114,
   "metadata": {},
   "outputs": [
    {
     "data": {
      "text/plain": [
       "Strongly agree (5)       115\n",
       "Agree (4)                112\n",
       "Dis-agree (2)             18\n",
       "Indifferent (3)           12\n",
       "Strongly disagree (1)     12\n",
       "Name: Loading and processing speed, dtype: int64"
      ]
     },
     "execution_count": 114,
     "metadata": {},
     "output_type": "execute_result"
    }
   ],
   "source": [
    "df['Loading and processing speed'].value_counts()"
   ]
  },
  {
   "cell_type": "code",
   "execution_count": 115,
   "metadata": {},
   "outputs": [],
   "source": [
    "Loading_and_processing_speed=df['Loading and processing speed'].value_counts()"
   ]
  },
  {
   "cell_type": "code",
   "execution_count": 116,
   "metadata": {},
   "outputs": [
    {
     "data": {
      "text/plain": [
       "Text(0.5, 1.0, 'Loading and processing speed')"
      ]
     },
     "execution_count": 116,
     "metadata": {},
     "output_type": "execute_result"
    },
    {
     "data": {
      "image/png": "[encoded data removed]",
      "text/plain": [
       "<Figure size 432x288 with 1 Axes>"
      ]
     },
     "metadata": {},
     "output_type": "display_data"
    }
   ],
   "source": [
    "ax=Loading_and_processing_speed.plot(kind='pie')\n",
    "ax.set_title(\"Loading and processing speed\")"
   ]
  },
  {
   "cell_type": "markdown",
   "metadata": {},
   "source": [
    "As the above graph shows people mostly either strongly agree or agree that loading and processing speed is imperative for the best experience of online shopping"
   ]
  },
  {
   "cell_type": "markdown",
   "metadata": {},
   "source": [
    "User Friendly interface of website"
   ]
  },
  {
   "cell_type": "markdown",
   "metadata": {},
   "source": [
    "Lets check how many users prefer userfriendliness for wsebsites they use to shop"
   ]
  },
  {
   "cell_type": "code",
   "execution_count": 117,
   "metadata": {},
   "outputs": [
    {
     "data": {
      "text/plain": [
       "Strongly agree (5)       189\n",
       "Agree (4)                 45\n",
       "Strongly disagree (1)     18\n",
       "Dis-agree (2)             12\n",
       "Indifferent (3)            5\n",
       "Name: User friendly interface, dtype: int64"
      ]
     },
     "execution_count": 117,
     "metadata": {},
     "output_type": "execute_result"
    }
   ],
   "source": [
    "df['User friendly interface'].value_counts()"
   ]
  },
  {
   "cell_type": "code",
   "execution_count": 118,
   "metadata": {},
   "outputs": [],
   "source": [
    "User_friendly_interface=df['User friendly interface'].value_counts()"
   ]
  },
  {
   "cell_type": "code",
   "execution_count": 119,
   "metadata": {},
   "outputs": [
    {
     "data": {
      "text/plain": [
       "<matplotlib.axes._subplots.AxesSubplot at 0x1f63cd44340>"
      ]
     },
     "execution_count": 119,
     "metadata": {},
     "output_type": "execute_result"
    },
    {
     "data": {
      "image/png": "[encoded data removed]",
      "text/plain": [
       "<Figure size 432x288 with 1 Axes>"
      ]
     },
     "metadata": {},
     "output_type": "display_data"
    }
   ],
   "source": [
    "User_friendly_interface.plot(kind='pie')"
   ]
  },
  {
   "cell_type": "markdown",
   "metadata": {},
   "source": [
    "From the graph above it clearly shows that people across ages, location prefer user friendly behaviour of the websites used for ecommerce"
   ]
  },
  {
   "cell_type": "markdown",
   "metadata": {},
   "source": [
    "Convinient Payment methods"
   ]
  },
  {
   "cell_type": "code",
   "execution_count": 120,
   "metadata": {},
   "outputs": [
    {
     "data": {
      "text/plain": [
       "Strongly agree (5)    159\n",
       "Agree (4)              80\n",
       "Dis-agree (2)          30\n",
       "Name: Convinient Payment methods, dtype: int64"
      ]
     },
     "execution_count": 120,
     "metadata": {},
     "output_type": "execute_result"
    }
   ],
   "source": [
    "df['Convinient Payment methods'].value_counts()"
   ]
  },
  {
   "cell_type": "code",
   "execution_count": 121,
   "metadata": {},
   "outputs": [],
   "source": [
    "Convinient_payment_methods=df['Convinient Payment methods'].value_counts()"
   ]
  },
  {
   "cell_type": "code",
   "execution_count": 122,
   "metadata": {},
   "outputs": [
    {
     "data": {
      "text/plain": [
       "<matplotlib.axes._subplots.AxesSubplot at 0x1f63cd89f10>"
      ]
     },
     "execution_count": 122,
     "metadata": {},
     "output_type": "execute_result"
    },
    {
     "data": {
      "image/png": "[encoded data removed]",
      "text/plain": [
       "<Figure size 432x288 with 1 Axes>"
      ]
     },
     "metadata": {},
     "output_type": "display_data"
    }
   ],
   "source": [
    "Convinient_payment_methods.plot(kind='pie')"
   ]
  },
  {
   "cell_type": "markdown",
   "metadata": {},
   "source": [
    "The above pie chart clearly shows that people prefer convinient payment methods . only a very small  portion of the population disagree on this"
   ]
  },
  {
   "cell_type": "markdown",
   "metadata": {},
   "source": [
    "TRUST"
   ]
  },
  {
   "cell_type": "code",
   "execution_count": 124,
   "metadata": {},
   "outputs": [
    {
     "data": {
      "text/plain": [
       "Strongly agree (5)    141\n",
       "Agree (4)              86\n",
       "Disagree (2)           30\n",
       "indifferent  (3)       12\n",
       "Name: Trust, dtype: int64"
      ]
     },
     "execution_count": 124,
     "metadata": {},
     "output_type": "execute_result"
    }
   ],
   "source": [
    "df['Trust'].value_counts()"
   ]
  },
  {
   "cell_type": "code",
   "execution_count": 125,
   "metadata": {},
   "outputs": [],
   "source": [
    "Trust=df['Trust'].value_counts()"
   ]
  },
  {
   "cell_type": "code",
   "execution_count": 126,
   "metadata": {},
   "outputs": [
    {
     "data": {
      "text/plain": [
       "<matplotlib.axes._subplots.AxesSubplot at 0x1f63de0a1c0>"
      ]
     },
     "execution_count": 126,
     "metadata": {},
     "output_type": "execute_result"
    },
    {
     "data": {
      "image/png": "[encoded data removed]",
      "text/plain": [
       "<Figure size 432x288 with 1 Axes>"
      ]
     },
     "metadata": {},
     "output_type": "display_data"
    }
   ],
   "source": [
    "Trust.plot(kind='pie')"
   ]
  },
  {
   "cell_type": "markdown",
   "metadata": {},
   "source": [
    "As per the above pie chart ,it is clearly evident that people prefer trustworthy websites .Trust is one of the major factors of customer satisfaction "
   ]
  },
  {
   "cell_type": "markdown",
   "metadata": {},
   "source": [
    "Empathy with customer"
   ]
  },
  {
   "cell_type": "code",
   "execution_count": 128,
   "metadata": {},
   "outputs": [
    {
     "data": {
      "text/plain": [
       "Strongly agree (5)       194\n",
       "Agree (4)                 42\n",
       "Strongly disagree (1)     18\n",
       "indifferent (3)           15\n",
       "Name: Empathy with customers, dtype: int64"
      ]
     },
     "execution_count": 128,
     "metadata": {},
     "output_type": "execute_result"
    }
   ],
   "source": [
    "df['Empathy with customers'].value_counts()"
   ]
  },
  {
   "cell_type": "code",
   "execution_count": 129,
   "metadata": {},
   "outputs": [],
   "source": [
    "Empathy_with_customers=df['Empathy with customers'].value_counts()"
   ]
  },
  {
   "cell_type": "code",
   "execution_count": 130,
   "metadata": {},
   "outputs": [
    {
     "data": {
      "text/plain": [
       "<matplotlib.axes._subplots.AxesSubplot at 0x1f63e05bbb0>"
      ]
     },
     "execution_count": 130,
     "metadata": {},
     "output_type": "execute_result"
    },
    {
     "data": {
      "image/png": "[encoded data removed]",
      "text/plain": [
       "<Figure size 432x288 with 1 Axes>"
      ]
     },
     "metadata": {},
     "output_type": "display_data"
    }
   ],
   "source": [
    "Empathy_with_customers.plot(kind='pie')"
   ]
  },
  {
   "cell_type": "markdown",
   "metadata": {},
   "source": [
    "Above pie chart clearly shows that customers prefer sellers/websites who have empathy towards cujstomers, have proper employee assistance channels "
   ]
  },
  {
   "cell_type": "markdown",
   "metadata": {},
   "source": [
    "Customer Privacy"
   ]
  },
  {
   "cell_type": "code",
   "execution_count": 132,
   "metadata": {},
   "outputs": [
    {
     "data": {
      "text/plain": [
       "Strongly agree (5)    185\n",
       "Agree (4)              58\n",
       "indifferent (3)        26\n",
       "Name: Customer Privacy, dtype: int64"
      ]
     },
     "execution_count": 132,
     "metadata": {},
     "output_type": "execute_result"
    }
   ],
   "source": [
    "df['Customer Privacy'].value_counts()"
   ]
  },
  {
   "cell_type": "code",
   "execution_count": 133,
   "metadata": {},
   "outputs": [],
   "source": [
    "Customer_privacy=df['Customer Privacy'].value_counts()"
   ]
  },
  {
   "cell_type": "code",
   "execution_count": 134,
   "metadata": {},
   "outputs": [
    {
     "data": {
      "text/plain": [
       "<matplotlib.axes._subplots.AxesSubplot at 0x1f63e0ae430>"
      ]
     },
     "execution_count": 134,
     "metadata": {},
     "output_type": "execute_result"
    },
    {
     "data": {
      "image/png": "[encoded data removed]",
      "text/plain": [
       "<Figure size 432x288 with 1 Axes>"
      ]
     },
     "metadata": {},
     "output_type": "display_data"
    }
   ],
   "source": [
    "Customer_privacy.plot(kind='pie')"
   ]
  },
  {
   "attachments": {},
   "cell_type": "markdown",
   "metadata": {},
   "source": [
    "As per the above pie chart customer privacy is of utmost importance to customers.Being able to guarantee the privacy of the customer is one of the most important factors in user satisfaction\n"
   ]
  },
  {
   "cell_type": "markdown",
   "metadata": {},
   "source": [
    "Responsiveness &availability"
   ]
  },
  {
   "cell_type": "markdown",
   "metadata": {},
   "source": [
    "29 Responsiveness, availability of several communication channels (email, online rep, twitter, phone etc.).Lets explore the variable to see how the customers respond to responsiveness and availability\n"
   ]
  },
  {
   "cell_type": "code",
   "execution_count": 135,
   "metadata": {},
   "outputs": [
    {
     "data": {
      "text/plain": [
       "Strongly agree (5)       149\n",
       "Agree (4)                 94\n",
       "indifferent (3)           15\n",
       "Strongly disagree (1)     11\n",
       "Name: Responsiveness &availability, dtype: int64"
      ]
     },
     "execution_count": 135,
     "metadata": {},
     "output_type": "execute_result"
    }
   ],
   "source": [
    "df['Responsiveness &availability'].value_counts()"
   ]
  },
  {
   "cell_type": "code",
   "execution_count": 136,
   "metadata": {},
   "outputs": [],
   "source": [
    "Responsiveness_availability=df['Responsiveness &availability'].value_counts()"
   ]
  },
  {
   "cell_type": "code",
   "execution_count": 137,
   "metadata": {},
   "outputs": [
    {
     "data": {
      "text/plain": [
       "<matplotlib.axes._subplots.AxesSubplot at 0x1f63e0e9610>"
      ]
     },
     "execution_count": 137,
     "metadata": {},
     "output_type": "execute_result"
    },
    {
     "data": {
      "image/png": "[encoded data removed]",
      "text/plain": [
       "<Figure size 432x288 with 1 Axes>"
      ]
     },
     "metadata": {},
     "output_type": "display_data"
    }
   ],
   "source": [
    "Responsiveness_availability.plot(kind='pie')"
   ]
  },
  {
   "cell_type": "markdown",
   "metadata": {},
   "source": [
    "30 Online shopping gives monetary benefit and discounts\n"
   ]
  },
  {
   "cell_type": "markdown",
   "metadata": {},
   "source": [
    "Lets explore the variable to understand that how consumers are affected because of this. Do maximum customers beleive that online shopping gives monetary benefit and discounts"
   ]
  },
  {
   "cell_type": "code",
   "execution_count": 139,
   "metadata": {},
   "outputs": [
    {
     "data": {
      "text/plain": [
       "Strongly agree (5)       105\n",
       "Agree (4)                 85\n",
       "indifferent (3)           50\n",
       "Strongly disagree (1)     18\n",
       "Dis-agree (2)             11\n",
       "Name: Monetary gifts & discounts, dtype: int64"
      ]
     },
     "execution_count": 139,
     "metadata": {},
     "output_type": "execute_result"
    }
   ],
   "source": [
    "df['Monetary gifts & discounts'].value_counts()"
   ]
  },
  {
   "cell_type": "code",
   "execution_count": 140,
   "metadata": {},
   "outputs": [],
   "source": [
    "opinion_monetary_gifts_discounts_onlineshopping=df['Monetary gifts & discounts'].value_counts()"
   ]
  },
  {
   "cell_type": "code",
   "execution_count": 141,
   "metadata": {},
   "outputs": [
    {
     "data": {
      "text/plain": [
       "<matplotlib.axes._subplots.AxesSubplot at 0x1f63e0ebf70>"
      ]
     },
     "execution_count": 141,
     "metadata": {},
     "output_type": "execute_result"
    },
    {
     "data": {
      "image/png": "[encoded data removed]",
      "text/plain": [
       "<Figure size 432x288 with 1 Axes>"
      ]
     },
     "metadata": {},
     "output_type": "display_data"
    }
   ],
   "source": [
    "opinion_monetary_gifts_discounts_onlineshopping.plot(kind='pie')"
   ]
  },
  {
   "cell_type": "markdown",
   "metadata": {},
   "source": [
    "People strongly beleive that online shopping gives monetary benefits and discounts"
   ]
  },
  {
   "cell_type": "markdown",
   "metadata": {},
   "source": [
    "Lets also try to see how it is related to the purchases made last year"
   ]
  },
  {
   "cell_type": "markdown",
   "metadata": {},
   "source": [
    "31 Enjoyment is derived from shopping online.Lets explore the variable and see that what does the majority of population surveyed thinks. Does online shopping also give a sense of enjoyment"
   ]
  },
  {
   "cell_type": "code",
   "execution_count": 144,
   "metadata": {},
   "outputs": [
    {
     "data": {
      "text/plain": [
       "Strongly agree (5)       86\n",
       "indifferent (3)          75\n",
       "Agree (4)                59\n",
       "Strongly disagree (1)    30\n",
       "Dis-agree (2)            19\n",
       "Name: Enjoyment factor, dtype: int64"
      ]
     },
     "execution_count": 144,
     "metadata": {},
     "output_type": "execute_result"
    }
   ],
   "source": [
    "df['Enjoyment factor'].value_counts()"
   ]
  },
  {
   "cell_type": "code",
   "execution_count": 145,
   "metadata": {},
   "outputs": [],
   "source": [
    "Enjoyment_factor=df['Enjoyment factor'].value_counts()"
   ]
  },
  {
   "cell_type": "code",
   "execution_count": 146,
   "metadata": {},
   "outputs": [
    {
     "data": {
      "text/plain": [
       "<matplotlib.axes._subplots.AxesSubplot at 0x1f63e1d5220>"
      ]
     },
     "execution_count": 146,
     "metadata": {},
     "output_type": "execute_result"
    },
    {
     "data": {
      "image/png": "[encoded data removed]",
      "text/plain": [
       "<Figure size 432x288 with 1 Axes>"
      ]
     },
     "metadata": {},
     "output_type": "display_data"
    }
   ],
   "source": [
    "Enjoyment_factor.plot(kind='pie')"
   ]
  },
  {
   "cell_type": "markdown",
   "metadata": {},
   "source": [
    "Majority population agree that they do find enjoyment on shopping online."
   ]
  },
  {
   "cell_type": "markdown",
   "metadata": {},
   "source": [
    "32 Shopping online is convenient and flexible':'Shopping online'.Lets explore the variable and see what majority customers think. Do majority of the customers  beleive that shopping online is convinient and flexible?"
   ]
  },
  {
   "cell_type": "code",
   "execution_count": 148,
   "metadata": {},
   "outputs": [
    {
     "data": {
      "text/plain": [
       "Strongly agree (5)    146\n",
       "Agree (4)              78\n",
       "indifferent (3)        33\n",
       "Dis-agree (2)          12\n",
       "Name: Shopping online, dtype: int64"
      ]
     },
     "execution_count": 148,
     "metadata": {},
     "output_type": "execute_result"
    }
   ],
   "source": [
    "df['Shopping online'].value_counts()"
   ]
  },
  {
   "cell_type": "code",
   "execution_count": 149,
   "metadata": {},
   "outputs": [],
   "source": [
    "Shopping_online_convinience=df['Shopping online'].value_counts()"
   ]
  },
  {
   "cell_type": "code",
   "execution_count": 150,
   "metadata": {},
   "outputs": [
    {
     "data": {
      "text/plain": [
       "<matplotlib.axes._subplots.AxesSubplot at 0x1f63e22f7f0>"
      ]
     },
     "execution_count": 150,
     "metadata": {},
     "output_type": "execute_result"
    },
    {
     "data": {
      "image/png": "[encoded data removed]",
      "text/plain": [
       "<Figure size 432x288 with 1 Axes>"
      ]
     },
     "metadata": {},
     "output_type": "display_data"
    }
   ],
   "source": [
    "Shopping_online_convinience.plot(kind='pie')"
   ]
  },
  {
   "cell_type": "markdown",
   "metadata": {},
   "source": [
    "Majority of the people do agree that shopping online gives lot of convinience and is flexible . It does releive the customers from travelling long distances,gives them better pricing,monetary benefits ,also com plete information on similar products and hence convinient too"
   ]
  },
  {
   "cell_type": "markdown",
   "metadata": {},
   "source": [
    "33 Return and replacement policy of the e-tailer is important for purchase decision:'Return & Replacement'.Lets explore this variable to understand how does this aspect regulate the customer behaviour and purchase decision\n"
   ]
  },
  {
   "cell_type": "code",
   "execution_count": 152,
   "metadata": {},
   "outputs": [
    {
     "data": {
      "text/plain": [
       "Strongly agree (5)    198\n",
       "Agree (4)              51\n",
       "Dis-agree (2)          20\n",
       "Name: Return & Replacement, dtype: int64"
      ]
     },
     "execution_count": 152,
     "metadata": {},
     "output_type": "execute_result"
    }
   ],
   "source": [
    "df['Return & Replacement'].value_counts()"
   ]
  },
  {
   "cell_type": "code",
   "execution_count": 153,
   "metadata": {},
   "outputs": [],
   "source": [
    "Return_and_replacement=df['Return & Replacement'].value_counts()"
   ]
  },
  {
   "cell_type": "code",
   "execution_count": 154,
   "metadata": {},
   "outputs": [
    {
     "data": {
      "text/plain": [
       "<matplotlib.axes._subplots.AxesSubplot at 0x1f63e285160>"
      ]
     },
     "execution_count": 154,
     "metadata": {},
     "output_type": "execute_result"
    },
    {
     "data": {
      "image/png": "[encoded data removed]",
      "text/plain": [
       "<Figure size 432x288 with 1 Axes>"
      ]
     },
     "metadata": {},
     "output_type": "display_data"
    }
   ],
   "source": [
    "Return_and_replacement.plot(kind='pie')"
   ]
  },
  {
   "cell_type": "markdown",
   "metadata": {},
   "source": [
    "Majority of customers who shop online do consider  thatthe Return and replacement policy of the e-tailer is important for purchase decision"
   ]
  },
  {
   "cell_type": "markdown",
   "metadata": {},
   "source": [
    "34 Gaining access to loyalty programs is a benefit of shopping online.Lets explore the variable tounderstand what the customers think? Do they consider it as a benefit?\n"
   ]
  },
  {
   "cell_type": "code",
   "execution_count": 155,
   "metadata": {},
   "outputs": [
    {
     "data": {
      "text/plain": [
       "Strongly agree (5)       115\n",
       "indifferent (3)           64\n",
       "Agree (4)                 64\n",
       "Dis-agree (2)             15\n",
       "Strongly disagree (1)     11\n",
       "Name: Access to loyalty program, dtype: int64"
      ]
     },
     "execution_count": 155,
     "metadata": {},
     "output_type": "execute_result"
    }
   ],
   "source": [
    "df['Access to loyalty program'].value_counts()"
   ]
  },
  {
   "cell_type": "code",
   "execution_count": 156,
   "metadata": {},
   "outputs": [],
   "source": [
    "Access_to_loyalty_programs=df['Access to loyalty program'].value_counts()"
   ]
  },
  {
   "cell_type": "code",
   "execution_count": 157,
   "metadata": {},
   "outputs": [
    {
     "data": {
      "text/plain": [
       "<matplotlib.axes._subplots.AxesSubplot at 0x1f63e2c5220>"
      ]
     },
     "execution_count": 157,
     "metadata": {},
     "output_type": "execute_result"
    },
    {
     "data": {
      "image/png": "[encoded data removed]",
      "text/plain": [
       "<Figure size 432x288 with 1 Axes>"
      ]
     },
     "metadata": {},
     "output_type": "display_data"
    }
   ],
   "source": [
    "Access_to_loyalty_programs.plot(kind='pie')"
   ]
  },
  {
   "cell_type": "markdown",
   "metadata": {},
   "source": [
    "Customers beleive that access to loyalty programs is  benefit of shopping online"
   ]
  },
  {
   "cell_type": "markdown",
   "metadata": {},
   "source": [
    "35 Displaying quality Information on the website improves satisfaction of customers.Lets explore the data and see what customers think\n"
   ]
  },
  {
   "cell_type": "code",
   "execution_count": 158,
   "metadata": {},
   "outputs": [
    {
     "data": {
      "text/plain": [
       "Strongly agree (5)    133\n",
       "Agree (4)              80\n",
       "indifferent (3)        56\n",
       "Name: quality information improves satisfaction of customers, dtype: int64"
      ]
     },
     "execution_count": 158,
     "metadata": {},
     "output_type": "execute_result"
    }
   ],
   "source": [
    "df['quality information improves satisfaction of customers'].value_counts()"
   ]
  },
  {
   "cell_type": "code",
   "execution_count": 159,
   "metadata": {},
   "outputs": [],
   "source": [
    "quality_information_improves_satisfaction=df['quality information improves satisfaction of customers'].value_counts()"
   ]
  },
  {
   "cell_type": "code",
   "execution_count": 160,
   "metadata": {},
   "outputs": [
    {
     "data": {
      "text/plain": [
       "<matplotlib.axes._subplots.AxesSubplot at 0x1f63e2c3f70>"
      ]
     },
     "execution_count": 160,
     "metadata": {},
     "output_type": "execute_result"
    },
    {
     "data": {
      "image/png": "[encoded data removed]",
      "text/plain": [
       "<Figure size 432x288 with 1 Axes>"
      ]
     },
     "metadata": {},
     "output_type": "display_data"
    }
   ],
   "source": [
    "quality_information_improves_satisfaction.plot(kind='pie')"
   ]
  },
  {
   "cell_type": "markdown",
   "metadata": {},
   "source": [
    "Majority of customers beleive that quality information does improve customer satisfaction and can play a big role in customer retention"
   ]
  },
  {
   "attachments": {},
   "cell_type": "markdown",
   "metadata": {},
   "source": [
    "36 User derive satisfaction while shopping on a good quality website or application.Lets explore the variable to see what the customers think\n"
   ]
  },
  {
   "cell_type": "code",
   "execution_count": 161,
   "metadata": {},
   "outputs": [
    {
     "data": {
      "text/plain": [
       "Strongly agree (5)    175\n",
       "Agree (4)              86\n",
       "Dis-agree (2)           8\n",
       "Name: User derive satisfaction, dtype: int64"
      ]
     },
     "execution_count": 161,
     "metadata": {},
     "output_type": "execute_result"
    }
   ],
   "source": [
    "df['User derive satisfaction'].value_counts()"
   ]
  },
  {
   "cell_type": "code",
   "execution_count": 162,
   "metadata": {},
   "outputs": [],
   "source": [
    "User_satisfaction=df['User derive satisfaction'].value_counts()"
   ]
  },
  {
   "cell_type": "code",
   "execution_count": 163,
   "metadata": {},
   "outputs": [
    {
     "data": {
      "text/plain": [
       "<matplotlib.axes._subplots.AxesSubplot at 0x1f63e351280>"
      ]
     },
     "execution_count": 163,
     "metadata": {},
     "output_type": "execute_result"
    },
    {
     "data": {
      "image/png": "[encoded data removed]",
      "text/plain": [
       "<Figure size 432x288 with 1 Axes>"
      ]
     },
     "metadata": {},
     "output_type": "display_data"
    }
   ],
   "source": [
    "User_satisfaction.plot(kind='pie')"
   ]
  },
  {
   "cell_type": "markdown",
   "metadata": {},
   "source": [
    "Majority of users confirmed that they derive satisfaction while shopping on a good quality website or application"
   ]
  },
  {
   "cell_type": "markdown",
   "metadata": {},
   "source": [
    "37 Net Benefit derived from shopping online can lead to users satisfaction.Lets explore on the variable to see how many users agree that net benefit from shopping online leads to customer satisfaction\n"
   ]
  },
  {
   "cell_type": "code",
   "execution_count": 164,
   "metadata": {},
   "outputs": [
    {
     "data": {
      "text/plain": [
       "Strongly agree (5)    164\n",
       "Agree (4)              54\n",
       "indifferent (3)        40\n",
       "Dis-agree (2)          11\n",
       "Name: Net benefit, dtype: int64"
      ]
     },
     "execution_count": 164,
     "metadata": {},
     "output_type": "execute_result"
    }
   ],
   "source": [
    "df['Net benefit'].value_counts()"
   ]
  },
  {
   "cell_type": "code",
   "execution_count": 165,
   "metadata": {},
   "outputs": [],
   "source": [
    "Net_benefit=df['Net benefit'].value_counts()"
   ]
  },
  {
   "cell_type": "code",
   "execution_count": 166,
   "metadata": {},
   "outputs": [
    {
     "data": {
      "text/plain": [
       "<matplotlib.axes._subplots.AxesSubplot at 0x1f63e38f670>"
      ]
     },
     "execution_count": 166,
     "metadata": {},
     "output_type": "execute_result"
    },
    {
     "data": {
      "image/png": "[encoded data removed]",
      "text/plain": [
       "<Figure size 432x288 with 1 Axes>"
      ]
     },
     "metadata": {},
     "output_type": "display_data"
    }
   ],
   "source": [
    "Net_benefit.plot(kind='pie')"
   ]
  },
  {
   "cell_type": "markdown",
   "metadata": {},
   "source": [
    "The pie chart clearly shows that majority of customers beleive that net benefit does impact customer satisfaction and that Net Benefit derived from shopping online  leads to users satisfaction"
   ]
  },
  {
   "attachments": {},
   "cell_type": "markdown",
   "metadata": {},
   "source": [
    "38 User satisfaction cannot exist without trust.Lets explore the variable to see how many users give importance to trust as in how many of them beleive that trust is of utmost importance when we talk about user satisfaction\n"
   ]
  },
  {
   "cell_type": "code",
   "execution_count": 167,
   "metadata": {},
   "outputs": [
    {
     "data": {
      "text/plain": [
       "Strongly agree (5)       122\n",
       "Agree (4)                117\n",
       "Strongly disagree (1)     18\n",
       "Dis-agree (2)              7\n",
       "indifferent (3)            5\n",
       "Name: User satisfaction without trust, dtype: int64"
      ]
     },
     "execution_count": 167,
     "metadata": {},
     "output_type": "execute_result"
    }
   ],
   "source": [
    "df['User satisfaction without trust'].value_counts()"
   ]
  },
  {
   "cell_type": "code",
   "execution_count": 168,
   "metadata": {},
   "outputs": [],
   "source": [
    "User_satisfaction_without_trust=df['User satisfaction without trust'].value_counts()"
   ]
  },
  {
   "cell_type": "code",
   "execution_count": 169,
   "metadata": {},
   "outputs": [
    {
     "data": {
      "text/plain": [
       "<matplotlib.axes._subplots.AxesSubplot at 0x1f63e3d1d00>"
      ]
     },
     "execution_count": 169,
     "metadata": {},
     "output_type": "execute_result"
    },
    {
     "data": {
      "image/png": "[encoded data removed]",
      "text/plain": [
       "<Figure size 432x288 with 1 Axes>"
      ]
     },
     "metadata": {},
     "output_type": "display_data"
    }
   ],
   "source": [
    "User_satisfaction_without_trust.plot(kind='pie')"
   ]
  },
  {
   "cell_type": "markdown",
   "metadata": {},
   "source": [
    "Most of the users beleive that user satisfaction does build upon trust"
   ]
  },
  {
   "cell_type": "markdown",
   "metadata": {},
   "source": [
    "39 Offering a wide variety of listed product in several category.Lets explore the variable to understand how it plays an important role as in if a website gives more offering of listed products , do customers find it better to shop on such websites \n"
   ]
  },
  {
   "cell_type": "code",
   "execution_count": 170,
   "metadata": {},
   "outputs": [
    {
     "data": {
      "text/plain": [
       "Strongly agree (5)    111\n",
       "Agree (4)              94\n",
       "indifferent (3)        57\n",
       "Dis-agree (2)           7\n",
       "Name: Offering variety, dtype: int64"
      ]
     },
     "execution_count": 170,
     "metadata": {},
     "output_type": "execute_result"
    }
   ],
   "source": [
    "df['Offering variety'].value_counts()"
   ]
  },
  {
   "cell_type": "code",
   "execution_count": 171,
   "metadata": {},
   "outputs": [],
   "source": [
    "Offering_variety=df['Offering variety'].value_counts()"
   ]
  },
  {
   "cell_type": "code",
   "execution_count": 172,
   "metadata": {},
   "outputs": [
    {
     "data": {
      "text/plain": [
       "<matplotlib.axes._subplots.AxesSubplot at 0x1f63e41ec10>"
      ]
     },
     "execution_count": 172,
     "metadata": {},
     "output_type": "execute_result"
    },
    {
     "data": {
      "image/png": "[encoded data removed]",
      "text/plain": [
       "<Figure size 432x288 with 1 Axes>"
      ]
     },
     "metadata": {},
     "output_type": "display_data"
    }
   ],
   "source": [
    "Offering_variety.plot(kind='pie')"
   ]
  },
  {
   "cell_type": "markdown",
   "metadata": {},
   "source": [
    "The above pie chart shows that majority of people agree with the fact .Also it is indeed a wonderful experience to have offerings of various listed products under several category to be under the same website for being able to serve various needs at one place and making it more convinient"
   ]
  },
  {
   "cell_type": "markdown",
   "metadata": {},
   "source": [
    "40 Provision of complete and relevant product information\n"
   ]
  },
  {
   "cell_type": "code",
   "execution_count": 173,
   "metadata": {},
   "outputs": [
    {
     "data": {
      "text/plain": [
       "Strongly agree (5)    135\n",
       "Agree (4)              98\n",
       "indifferent (3)        31\n",
       "Disagree (2)            5\n",
       "Name: Complete and relevant product Info, dtype: int64"
      ]
     },
     "execution_count": 173,
     "metadata": {},
     "output_type": "execute_result"
    }
   ],
   "source": [
    "df['Complete and relevant product Info'].value_counts()"
   ]
  },
  {
   "cell_type": "code",
   "execution_count": 174,
   "metadata": {},
   "outputs": [],
   "source": [
    "Complete_product_info=df['Complete and relevant product Info'].value_counts()"
   ]
  },
  {
   "cell_type": "code",
   "execution_count": 175,
   "metadata": {},
   "outputs": [
    {
     "data": {
      "text/plain": [
       "<matplotlib.axes._subplots.AxesSubplot at 0x1f63e46c280>"
      ]
     },
     "execution_count": 175,
     "metadata": {},
     "output_type": "execute_result"
    },
    {
     "data": {
      "image/png": "[encoded data removed]",
      "text/plain": [
       "<Figure size 432x288 with 1 Axes>"
      ]
     },
     "metadata": {},
     "output_type": "display_data"
    }
   ],
   "source": [
    "Complete_product_info.plot(kind='pie')"
   ]
  },
  {
   "cell_type": "markdown",
   "metadata": {},
   "source": [
    "Majority of customers agree on the fact that it helps them when we have complete product information on website "
   ]
  },
  {
   "cell_type": "code",
   "execution_count": null,
   "metadata": {},
   "outputs": [],
   "source": []
  }
 ],
 "metadata": {
  "kernelspec": {
   "display_name": "Python 3",
   "language": "python",
   "name": "python3"
  },
  "language_info": {
   "codemirror_mode": {
    "name": "ipython",
    "version": 3
   },
   "file_extension": ".py",
   "mimetype": "text/x-python",
   "name": "python",
   "nbconvert_exporter": "python",
   "pygments_lexer": "ipython3",
   "version": "3.8.3"
  }
 },
 "nbformat": 4,
 "nbformat_minor": 4
}
