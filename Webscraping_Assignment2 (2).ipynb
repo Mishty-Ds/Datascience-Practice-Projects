{
 "cells": [
  {
   "cell_type": "markdown",
   "metadata": {},
   "source": [
    "Q1: Write a python program to scrape data for “Data Analyst” Job position in \n",
    "“Bangalore” location. You have to scrape the job-title, job-location, company_name,\n",
    "experience_required. You have to scrape first 10 jobs data."
   ]
  },
  {
   "cell_type": "code",
   "execution_count": 1,
   "metadata": {},
   "outputs": [],
   "source": [
    "import selenium\n",
    "import pandas as pd\n",
    "from selenium import webdriver"
   ]
  },
  {
   "cell_type": "code",
   "execution_count": 2,
   "metadata": {},
   "outputs": [],
   "source": [
    "#Lets connect to webdriver\n",
    "driver=webdriver.Chrome(r\"C:/chromedriver\")"
   ]
  },
  {
   "cell_type": "code",
   "execution_count": 6,
   "metadata": {},
   "outputs": [],
   "source": [
    "#Opening the homepage\n",
    "driver.get(\"https://www.naukri.com/\")"
   ]
  },
  {
   "cell_type": "code",
   "execution_count": 7,
   "metadata": {},
   "outputs": [
    {
     "data": {
      "text/plain": [
       "<selenium.webdriver.remote.webelement.WebElement (session=\"de71de05128097819bb957e52aac7502\", element=\"05f8c572-88ec-4874-9e1a-fe2ae1cdc432\")>"
      ]
     },
     "execution_count": 7,
     "metadata": {},
     "output_type": "execute_result"
    }
   ],
   "source": [
    "#finding element for job search bar\n",
    "search_job=driver.find_element_by_id('qsb-keyword-sugg')\n",
    "search_job"
   ]
  },
  {
   "cell_type": "code",
   "execution_count": 8,
   "metadata": {},
   "outputs": [],
   "source": [
    "#write on search bar\n",
    "search_job.send_keys(\"Data Analyst\")"
   ]
  },
  {
   "cell_type": "code",
   "execution_count": 10,
   "metadata": {},
   "outputs": [
    {
     "data": {
      "text/plain": [
       "<selenium.webdriver.remote.webelement.WebElement (session=\"de71de05128097819bb957e52aac7502\", element=\"e68d6c36-6b2d-4f4e-b6cb-ebcfd91a1061\")>"
      ]
     },
     "execution_count": 10,
     "metadata": {},
     "output_type": "execute_result"
    }
   ],
   "source": [
    "#find element by job location bar\n",
    "search_loc=driver.find_element_by_id('qsb-location-sugg')\n",
    "search_loc"
   ]
  },
  {
   "cell_type": "code",
   "execution_count": 11,
   "metadata": {},
   "outputs": [],
   "source": [
    "search_loc.send_keys(\"Bangalore\")"
   ]
  },
  {
   "cell_type": "code",
   "execution_count": 13,
   "metadata": {},
   "outputs": [],
   "source": [
    "# click using xpath function\n",
    "search_button=driver.find_element_by_xpath(\"//button[@class='btn']\")\n",
    "search_button.click()"
   ]
  },
  {
   "cell_type": "code",
   "execution_count": 78,
   "metadata": {},
   "outputs": [],
   "source": [
    "#Now extracting the job titles \n",
    "title_tags=driver.find_elements_by_xpath(\"//a[@class='title fw500 ellipsis']\")[:10]"
   ]
  },
  {
   "cell_type": "code",
   "execution_count": 79,
   "metadata": {},
   "outputs": [
    {
     "data": {
      "text/plain": [
       "[<selenium.webdriver.remote.webelement.WebElement (session=\"de71de05128097819bb957e52aac7502\", element=\"7f0c427e-defb-45af-91a8-1b274b02493c\")>,\n",
       " <selenium.webdriver.remote.webelement.WebElement (session=\"de71de05128097819bb957e52aac7502\", element=\"f5b968e8-747e-4ef9-b27f-a8f5d1fa8624\")>,\n",
       " <selenium.webdriver.remote.webelement.WebElement (session=\"de71de05128097819bb957e52aac7502\", element=\"977048fd-499c-42b7-8c03-d8f322a95221\")>,\n",
       " <selenium.webdriver.remote.webelement.WebElement (session=\"de71de05128097819bb957e52aac7502\", element=\"ade6c53a-ba7e-430c-8a33-860092abe760\")>,\n",
       " <selenium.webdriver.remote.webelement.WebElement (session=\"de71de05128097819bb957e52aac7502\", element=\"08f67038-2664-4abf-ab2a-c59837945064\")>,\n",
       " <selenium.webdriver.remote.webelement.WebElement (session=\"de71de05128097819bb957e52aac7502\", element=\"11675c66-400e-40f5-82b4-fbc101f5d821\")>,\n",
       " <selenium.webdriver.remote.webelement.WebElement (session=\"de71de05128097819bb957e52aac7502\", element=\"06f1df88-7c3b-4d63-8d73-a2ac2022ddb9\")>,\n",
       " <selenium.webdriver.remote.webelement.WebElement (session=\"de71de05128097819bb957e52aac7502\", element=\"92f8deb0-bd52-452a-a528-356636636f87\")>,\n",
       " <selenium.webdriver.remote.webelement.WebElement (session=\"de71de05128097819bb957e52aac7502\", element=\"ef22e664-479d-4f57-9a6f-7eb071b31d4b\")>,\n",
       " <selenium.webdriver.remote.webelement.WebElement (session=\"de71de05128097819bb957e52aac7502\", element=\"31e90a8b-e6be-405f-8112-fd074f3fb035\")>]"
      ]
     },
     "execution_count": 79,
     "metadata": {},
     "output_type": "execute_result"
    }
   ],
   "source": [
    "title_tags"
   ]
  },
  {
   "cell_type": "code",
   "execution_count": 80,
   "metadata": {},
   "outputs": [],
   "source": [
    "#Now the text of job title is inside the title tag extracted above and hence lets run a loop to iterate over the extracted tags\n",
    "\n",
    "job_title=[]\n",
    "for i in title_tags:\n",
    "    job_title.append(i.text)"
   ]
  },
  {
   "cell_type": "code",
   "execution_count": 81,
   "metadata": {},
   "outputs": [
    {
     "data": {
      "text/plain": [
       "['Data Scientist / Data Analyst -Business Analyst',\n",
       " 'Data Analyst',\n",
       " 'Data Analyst',\n",
       " 'Data Analyst',\n",
       " 'Hiring For Data Analyst/ MIS Reporting Analyst - Bangalore',\n",
       " 'Hiring Data Analysts For E commerce Platform || WFH',\n",
       " 'DA - Urgent Opening For Data Analyst BFSI Domain - Pan India',\n",
       " 'Data Analyst - Informatica MDM',\n",
       " 'Data Analyst',\n",
       " 'Assistant Vice President - MIS & Reporting ( Business Data Analyst)']"
      ]
     },
     "execution_count": 81,
     "metadata": {},
     "output_type": "execute_result"
    }
   ],
   "source": [
    "job_title"
   ]
  },
  {
   "cell_type": "code",
   "execution_count": 75,
   "metadata": {},
   "outputs": [
    {
     "data": {
      "text/plain": [
       "[<selenium.webdriver.remote.webelement.WebElement (session=\"de71de05128097819bb957e52aac7502\", element=\"f9eefaf0-32f2-45e1-a54a-8c7f9c99b03b\")>,\n",
       " <selenium.webdriver.remote.webelement.WebElement (session=\"de71de05128097819bb957e52aac7502\", element=\"7e599f4c-fb5f-47fd-a184-70bec7dc448b\")>,\n",
       " <selenium.webdriver.remote.webelement.WebElement (session=\"de71de05128097819bb957e52aac7502\", element=\"14f3f167-1b5e-4d0b-8c47-b87e9d874c46\")>,\n",
       " <selenium.webdriver.remote.webelement.WebElement (session=\"de71de05128097819bb957e52aac7502\", element=\"a5768c84-b6a9-4601-bd9e-1938cbaa9f08\")>,\n",
       " <selenium.webdriver.remote.webelement.WebElement (session=\"de71de05128097819bb957e52aac7502\", element=\"384f95cf-0945-46d1-984c-37bd26d83836\")>,\n",
       " <selenium.webdriver.remote.webelement.WebElement (session=\"de71de05128097819bb957e52aac7502\", element=\"31acf090-7964-42aa-b526-b5763f8edc13\")>,\n",
       " <selenium.webdriver.remote.webelement.WebElement (session=\"de71de05128097819bb957e52aac7502\", element=\"4b65006b-4450-4f4e-832d-bf40ab3c21e8\")>,\n",
       " <selenium.webdriver.remote.webelement.WebElement (session=\"de71de05128097819bb957e52aac7502\", element=\"1675d448-f688-4b2f-b189-791740d29abc\")>,\n",
       " <selenium.webdriver.remote.webelement.WebElement (session=\"de71de05128097819bb957e52aac7502\", element=\"21373667-75c9-471a-b565-920f2505ee33\")>,\n",
       " <selenium.webdriver.remote.webelement.WebElement (session=\"de71de05128097819bb957e52aac7502\", element=\"b89318e9-156e-44aa-9b38-2567cdc799d6\")>]"
      ]
     },
     "execution_count": 75,
     "metadata": {},
     "output_type": "execute_result"
    }
   ],
   "source": [
    "#Extracting the first 10 company_tags\n",
    "company_tags=driver.find_elements_by_xpath(\"//a[@class='subTitle ellipsis fleft']\")[:10]\n",
    "company_tags"
   ]
  },
  {
   "cell_type": "code",
   "execution_count": 76,
   "metadata": {},
   "outputs": [],
   "source": [
    "company_name=[]\n",
    "for i in company_tags:\n",
    "    company_name.append(i.text)"
   ]
  },
  {
   "cell_type": "code",
   "execution_count": 77,
   "metadata": {},
   "outputs": [
    {
     "data": {
      "text/plain": [
       "['Inflexion Analytix Private Limited',\n",
       " 'GlaxoSmithKline Pharmaceuticals Limited',\n",
       " 'Shell India Markets Private Limited',\n",
       " 'Applied Materials',\n",
       " 'PHARMACEUTICAL RESEARCH ASSOCIATES INDIA Pvt Ltd',\n",
       " 'Allegis Services India Pvt. Ltd.',\n",
       " 'Tata Consultancy Services Ltd.',\n",
       " 'Shell India Markets Private Limited',\n",
       " 'Shell India Markets Private Limited',\n",
       " 'INTERTRUSTVITEOS CORPORATE AND FUND SERVICES PVT. LTD.']"
      ]
     },
     "execution_count": 77,
     "metadata": {},
     "output_type": "execute_result"
    }
   ],
   "source": [
    "company_name"
   ]
  },
  {
   "cell_type": "code",
   "execution_count": 71,
   "metadata": {},
   "outputs": [],
   "source": [
    "#lets extract all the tags having experience related data\n",
    "experience_tags=driver.find_elements_by_xpath(\"//li[@class='fleft grey-text br2 placeHolderLi experience']//span\")[:10]"
   ]
  },
  {
   "cell_type": "code",
   "execution_count": 72,
   "metadata": {},
   "outputs": [
    {
     "data": {
      "text/plain": [
       "[<selenium.webdriver.remote.webelement.WebElement (session=\"de71de05128097819bb957e52aac7502\", element=\"0a8b9b15-a7cf-4079-9d7a-c4b1debaa393\")>,\n",
       " <selenium.webdriver.remote.webelement.WebElement (session=\"de71de05128097819bb957e52aac7502\", element=\"316fec7e-ada3-459e-9443-5ca888a5048d\")>,\n",
       " <selenium.webdriver.remote.webelement.WebElement (session=\"de71de05128097819bb957e52aac7502\", element=\"b782ffac-6877-43cf-904e-05b424d0f260\")>,\n",
       " <selenium.webdriver.remote.webelement.WebElement (session=\"de71de05128097819bb957e52aac7502\", element=\"5740dd9f-1118-4ae9-92d6-9dbdd396a078\")>,\n",
       " <selenium.webdriver.remote.webelement.WebElement (session=\"de71de05128097819bb957e52aac7502\", element=\"244137e0-8af6-473d-bacd-78790261faf9\")>,\n",
       " <selenium.webdriver.remote.webelement.WebElement (session=\"de71de05128097819bb957e52aac7502\", element=\"137ecaf6-47c5-40a3-bf65-46c518ed4ca5\")>,\n",
       " <selenium.webdriver.remote.webelement.WebElement (session=\"de71de05128097819bb957e52aac7502\", element=\"e76ccb29-7f42-4ede-b433-cf4e42c9344c\")>,\n",
       " <selenium.webdriver.remote.webelement.WebElement (session=\"de71de05128097819bb957e52aac7502\", element=\"657290e6-4764-477a-8068-e8e4fb12316b\")>,\n",
       " <selenium.webdriver.remote.webelement.WebElement (session=\"de71de05128097819bb957e52aac7502\", element=\"00c4223e-9445-44de-98dc-f1977ef77fd7\")>,\n",
       " <selenium.webdriver.remote.webelement.WebElement (session=\"de71de05128097819bb957e52aac7502\", element=\"0a441f6b-72a2-4507-8e79-6389614a0476\")>]"
      ]
     },
     "execution_count": 72,
     "metadata": {},
     "output_type": "execute_result"
    }
   ],
   "source": [
    "experience_tags"
   ]
  },
  {
   "cell_type": "code",
   "execution_count": 73,
   "metadata": {},
   "outputs": [],
   "source": [
    "#To extract the experience related text from the experience tags extracted above\n",
    "experience=[]\n",
    "for i in experience_tags:\n",
    "    experience.append(i.text)"
   ]
  },
  {
   "cell_type": "code",
   "execution_count": 74,
   "metadata": {},
   "outputs": [
    {
     "data": {
      "text/plain": [
       "['0-3 Yrs',\n",
       " '0-2 Yrs',\n",
       " '5-8 Yrs',\n",
       " '7-10 Yrs',\n",
       " '2-4 Yrs',\n",
       " '0-5 Yrs',\n",
       " '4-9 Yrs',\n",
       " '6-9 Yrs',\n",
       " '5-8 Yrs',\n",
       " '12-18 Yrs']"
      ]
     },
     "execution_count": 74,
     "metadata": {},
     "output_type": "execute_result"
    }
   ],
   "source": [
    "experience"
   ]
  },
  {
   "cell_type": "code",
   "execution_count": 34,
   "metadata": {},
   "outputs": [
    {
     "data": {
      "text/plain": [
       "['0-3 Yrs',\n",
       " '0-2 Yrs',\n",
       " '5-8 Yrs',\n",
       " '7-10 Yrs',\n",
       " '2-4 Yrs',\n",
       " '0-5 Yrs',\n",
       " '4-9 Yrs',\n",
       " '6-9 Yrs',\n",
       " '5-8 Yrs',\n",
       " '12-18 Yrs']"
      ]
     },
     "execution_count": 34,
     "metadata": {},
     "output_type": "execute_result"
    }
   ],
   "source": [
    "experience"
   ]
  },
  {
   "cell_type": "code",
   "execution_count": 65,
   "metadata": {},
   "outputs": [],
   "source": [
    "# to extract all html tags where we have location of job data\n",
    "location_tags=driver.find_elements_by_xpath(\"//li[@class='fleft grey-text br2 placeHolderLi location']/span\")[:10]"
   ]
  },
  {
   "cell_type": "code",
   "execution_count": 66,
   "metadata": {},
   "outputs": [
    {
     "data": {
      "text/plain": [
       "[<selenium.webdriver.remote.webelement.WebElement (session=\"de71de05128097819bb957e52aac7502\", element=\"157bd952-c534-4357-a77d-ccf2f760c75a\")>,\n",
       " <selenium.webdriver.remote.webelement.WebElement (session=\"de71de05128097819bb957e52aac7502\", element=\"345a50e7-2f5a-48ab-a630-d6446faf2c0d\")>,\n",
       " <selenium.webdriver.remote.webelement.WebElement (session=\"de71de05128097819bb957e52aac7502\", element=\"e2e844cf-6905-4679-8750-577a5f277a15\")>,\n",
       " <selenium.webdriver.remote.webelement.WebElement (session=\"de71de05128097819bb957e52aac7502\", element=\"aa9568a6-8e00-4803-bb7d-ac10d457f256\")>,\n",
       " <selenium.webdriver.remote.webelement.WebElement (session=\"de71de05128097819bb957e52aac7502\", element=\"11d0780b-d3f2-49af-b22d-e520deae9b48\")>,\n",
       " <selenium.webdriver.remote.webelement.WebElement (session=\"de71de05128097819bb957e52aac7502\", element=\"a57f1802-fbf4-49ae-9493-8f1070679b2b\")>,\n",
       " <selenium.webdriver.remote.webelement.WebElement (session=\"de71de05128097819bb957e52aac7502\", element=\"447092c0-6d29-4543-ac8b-24ddedbafa4c\")>,\n",
       " <selenium.webdriver.remote.webelement.WebElement (session=\"de71de05128097819bb957e52aac7502\", element=\"9f49ed22-ebfc-4052-8e64-f709586909b2\")>,\n",
       " <selenium.webdriver.remote.webelement.WebElement (session=\"de71de05128097819bb957e52aac7502\", element=\"a7ba9ad5-1528-4d6f-b35b-f126f40ffa6b\")>,\n",
       " <selenium.webdriver.remote.webelement.WebElement (session=\"de71de05128097819bb957e52aac7502\", element=\"ae71a31a-8452-4ef1-8f34-bf7014bcd96c\")>]"
      ]
     },
     "execution_count": 66,
     "metadata": {},
     "output_type": "execute_result"
    }
   ],
   "source": [
    "location_tags"
   ]
  },
  {
   "cell_type": "code",
   "execution_count": 69,
   "metadata": {},
   "outputs": [],
   "source": [
    "#to extract the text from the above extracted tags\n",
    "location=[]\n",
    "for i in location_tags:\n",
    "    location.append(i.text)"
   ]
  },
  {
   "cell_type": "code",
   "execution_count": 70,
   "metadata": {},
   "outputs": [
    {
     "data": {
      "text/plain": [
       "['Mumbai, Hyderabad/Secunderabad, Pune, Gurgaon/Gurugram, Chennai, Bangalore/Bengaluru',\n",
       " 'Bangalore/Bengaluru',\n",
       " 'Bangalore/Bengaluru',\n",
       " 'Bangalore/Bengaluru',\n",
       " 'Bangalore/Bengaluru',\n",
       " 'Bangalore/Bengaluru',\n",
       " 'Kolkata, Hyderabad/Secunderabad, Pune, Ahmedabad, Chennai, Bangalore/Bengaluru, Delhi / NCR, Mumbai (All Areas)',\n",
       " 'Bangalore/Bengaluru',\n",
       " 'Bangalore/Bengaluru',\n",
       " 'Mumbai, Bangalore/Bengaluru']"
      ]
     },
     "execution_count": 70,
     "metadata": {},
     "output_type": "execute_result"
    }
   ],
   "source": [
    "location"
   ]
  },
  {
   "cell_type": "code",
   "execution_count": 82,
   "metadata": {},
   "outputs": [],
   "source": [
    "#to put it in a dataframe\n",
    "jobs=pd.DataFrame({})"
   ]
  },
  {
   "cell_type": "code",
   "execution_count": 83,
   "metadata": {},
   "outputs": [],
   "source": [
    "jobs['job_title']=job_title"
   ]
  },
  {
   "cell_type": "code",
   "execution_count": 84,
   "metadata": {},
   "outputs": [],
   "source": [
    "jobs['company_name']=company_name"
   ]
  },
  {
   "cell_type": "code",
   "execution_count": 85,
   "metadata": {},
   "outputs": [],
   "source": [
    "jobs['experience required']=experience"
   ]
  },
  {
   "cell_type": "code",
   "execution_count": 86,
   "metadata": {},
   "outputs": [],
   "source": [
    "jobs['location']=location"
   ]
  },
  {
   "cell_type": "code",
   "execution_count": 87,
   "metadata": {},
   "outputs": [
    {
     "data": {
      "text/html": [
       "<div>\n",
       "<style scoped>\n",
       "    .dataframe tbody tr th:only-of-type {\n",
       "        vertical-align: middle;\n",
       "    }\n",
       "\n",
       "    .dataframe tbody tr th {\n",
       "        vertical-align: top;\n",
       "    }\n",
       "\n",
       "    .dataframe thead th {\n",
       "        text-align: right;\n",
       "    }\n",
       "</style>\n",
       "<table border=\"1\" class=\"dataframe\">\n",
       "  <thead>\n",
       "    <tr style=\"text-align: right;\">\n",
       "      <th></th>\n",
       "      <th>job_title</th>\n",
       "      <th>company_name</th>\n",
       "      <th>experience required</th>\n",
       "      <th>location</th>\n",
       "    </tr>\n",
       "  </thead>\n",
       "  <tbody>\n",
       "    <tr>\n",
       "      <th>0</th>\n",
       "      <td>Data Scientist / Data Analyst -Business Analyst</td>\n",
       "      <td>Inflexion Analytix Private Limited</td>\n",
       "      <td>0-3 Yrs</td>\n",
       "      <td>Mumbai, Hyderabad/Secunderabad, Pune, Gurgaon/...</td>\n",
       "    </tr>\n",
       "    <tr>\n",
       "      <th>1</th>\n",
       "      <td>Data Analyst</td>\n",
       "      <td>GlaxoSmithKline Pharmaceuticals Limited</td>\n",
       "      <td>0-2 Yrs</td>\n",
       "      <td>Bangalore/Bengaluru</td>\n",
       "    </tr>\n",
       "    <tr>\n",
       "      <th>2</th>\n",
       "      <td>Data Analyst</td>\n",
       "      <td>Shell India Markets Private Limited</td>\n",
       "      <td>5-8 Yrs</td>\n",
       "      <td>Bangalore/Bengaluru</td>\n",
       "    </tr>\n",
       "    <tr>\n",
       "      <th>3</th>\n",
       "      <td>Data Analyst</td>\n",
       "      <td>Applied Materials</td>\n",
       "      <td>7-10 Yrs</td>\n",
       "      <td>Bangalore/Bengaluru</td>\n",
       "    </tr>\n",
       "    <tr>\n",
       "      <th>4</th>\n",
       "      <td>Hiring For Data Analyst/ MIS Reporting Analyst...</td>\n",
       "      <td>PHARMACEUTICAL RESEARCH ASSOCIATES INDIA Pvt Ltd</td>\n",
       "      <td>2-4 Yrs</td>\n",
       "      <td>Bangalore/Bengaluru</td>\n",
       "    </tr>\n",
       "    <tr>\n",
       "      <th>5</th>\n",
       "      <td>Hiring Data Analysts For E commerce Platform |...</td>\n",
       "      <td>Allegis Services India Pvt. Ltd.</td>\n",
       "      <td>0-5 Yrs</td>\n",
       "      <td>Bangalore/Bengaluru</td>\n",
       "    </tr>\n",
       "    <tr>\n",
       "      <th>6</th>\n",
       "      <td>DA - Urgent Opening For Data Analyst BFSI Doma...</td>\n",
       "      <td>Tata Consultancy Services Ltd.</td>\n",
       "      <td>4-9 Yrs</td>\n",
       "      <td>Kolkata, Hyderabad/Secunderabad, Pune, Ahmedab...</td>\n",
       "    </tr>\n",
       "    <tr>\n",
       "      <th>7</th>\n",
       "      <td>Data Analyst - Informatica MDM</td>\n",
       "      <td>Shell India Markets Private Limited</td>\n",
       "      <td>6-9 Yrs</td>\n",
       "      <td>Bangalore/Bengaluru</td>\n",
       "    </tr>\n",
       "    <tr>\n",
       "      <th>8</th>\n",
       "      <td>Data Analyst</td>\n",
       "      <td>Shell India Markets Private Limited</td>\n",
       "      <td>5-8 Yrs</td>\n",
       "      <td>Bangalore/Bengaluru</td>\n",
       "    </tr>\n",
       "    <tr>\n",
       "      <th>9</th>\n",
       "      <td>Assistant Vice President - MIS &amp; Reporting ( B...</td>\n",
       "      <td>INTERTRUSTVITEOS CORPORATE AND FUND SERVICES P...</td>\n",
       "      <td>12-18 Yrs</td>\n",
       "      <td>Mumbai, Bangalore/Bengaluru</td>\n",
       "    </tr>\n",
       "  </tbody>\n",
       "</table>\n",
       "</div>"
      ],
      "text/plain": [
       "                                           job_title  \\\n",
       "0    Data Scientist / Data Analyst -Business Analyst   \n",
       "1                                       Data Analyst   \n",
       "2                                       Data Analyst   \n",
       "3                                       Data Analyst   \n",
       "4  Hiring For Data Analyst/ MIS Reporting Analyst...   \n",
       "5  Hiring Data Analysts For E commerce Platform |...   \n",
       "6  DA - Urgent Opening For Data Analyst BFSI Doma...   \n",
       "7                     Data Analyst - Informatica MDM   \n",
       "8                                       Data Analyst   \n",
       "9  Assistant Vice President - MIS & Reporting ( B...   \n",
       "\n",
       "                                        company_name experience required  \\\n",
       "0                 Inflexion Analytix Private Limited             0-3 Yrs   \n",
       "1            GlaxoSmithKline Pharmaceuticals Limited             0-2 Yrs   \n",
       "2                Shell India Markets Private Limited             5-8 Yrs   \n",
       "3                                  Applied Materials            7-10 Yrs   \n",
       "4   PHARMACEUTICAL RESEARCH ASSOCIATES INDIA Pvt Ltd             2-4 Yrs   \n",
       "5                   Allegis Services India Pvt. Ltd.             0-5 Yrs   \n",
       "6                     Tata Consultancy Services Ltd.             4-9 Yrs   \n",
       "7                Shell India Markets Private Limited             6-9 Yrs   \n",
       "8                Shell India Markets Private Limited             5-8 Yrs   \n",
       "9  INTERTRUSTVITEOS CORPORATE AND FUND SERVICES P...           12-18 Yrs   \n",
       "\n",
       "                                            location  \n",
       "0  Mumbai, Hyderabad/Secunderabad, Pune, Gurgaon/...  \n",
       "1                                Bangalore/Bengaluru  \n",
       "2                                Bangalore/Bengaluru  \n",
       "3                                Bangalore/Bengaluru  \n",
       "4                                Bangalore/Bengaluru  \n",
       "5                                Bangalore/Bengaluru  \n",
       "6  Kolkata, Hyderabad/Secunderabad, Pune, Ahmedab...  \n",
       "7                                Bangalore/Bengaluru  \n",
       "8                                Bangalore/Bengaluru  \n",
       "9                        Mumbai, Bangalore/Bengaluru  "
      ]
     },
     "execution_count": 87,
     "metadata": {},
     "output_type": "execute_result"
    }
   ],
   "source": [
    "jobs.head(10)"
   ]
  },
  {
   "cell_type": "markdown",
   "metadata": {},
   "source": [
    " Q2 Write a python program to scrape data for “Data Scientist” Job position in \n",
    "“Bangalore” location. You have to scrape the job-title, job-location,\n",
    "company_name, full job-description. You have to scrape first 10 jobs data"
   ]
  },
  {
   "cell_type": "code",
   "execution_count": 14,
   "metadata": {},
   "outputs": [],
   "source": [
    "#Opening the homepage\n",
    "driver.get(\"https://www.naukri.com/\")"
   ]
  },
  {
   "cell_type": "code",
   "execution_count": 15,
   "metadata": {},
   "outputs": [
    {
     "data": {
      "text/plain": [
       "<selenium.webdriver.remote.webelement.WebElement (session=\"a495c85929ff1eb84b8ee9f178e991c9\", element=\"fcb07be3-1321-4dd4-bed3-cd251e8c7a3b\")>"
      ]
     },
     "execution_count": 15,
     "metadata": {},
     "output_type": "execute_result"
    }
   ],
   "source": [
    "#finding element for job search bar\n",
    "search_job=driver.find_element_by_id('qsb-keyword-sugg')\n",
    "search_job"
   ]
  },
  {
   "cell_type": "code",
   "execution_count": 16,
   "metadata": {},
   "outputs": [],
   "source": [
    "#write on search bar for Data scientist\n",
    "search_job.send_keys(\"Data Scientist\")"
   ]
  },
  {
   "cell_type": "code",
   "execution_count": 17,
   "metadata": {},
   "outputs": [
    {
     "data": {
      "text/plain": [
       "<selenium.webdriver.remote.webelement.WebElement (session=\"a495c85929ff1eb84b8ee9f178e991c9\", element=\"6b6ab8fa-dae3-4fe5-a9b8-c0aadf4c3b1b\")>"
      ]
     },
     "execution_count": 17,
     "metadata": {},
     "output_type": "execute_result"
    }
   ],
   "source": [
    "#find element by job location bar\n",
    "search_loc=driver.find_element_by_id('qsb-location-sugg')\n",
    "search_loc"
   ]
  },
  {
   "cell_type": "code",
   "execution_count": 18,
   "metadata": {},
   "outputs": [],
   "source": [
    "search_loc.send_keys(\"Bangalore\")"
   ]
  },
  {
   "cell_type": "code",
   "execution_count": 23,
   "metadata": {},
   "outputs": [
    {
     "ename": "NoSuchElementException",
     "evalue": "Message: no such element: Unable to locate element: {\"method\":\"xpath\",\"selector\":\"//button[@class='btn']\"}\n  (Session info: chrome=90.0.4430.93)\n",
     "output_type": "error",
     "traceback": [
      "\u001b[1;31m---------------------------------------------------------------------------\u001b[0m",
      "\u001b[1;31mNoSuchElementException\u001b[0m                    Traceback (most recent call last)",
      "\u001b[1;32m<ipython-input-23-ff0336dfa5a5>\u001b[0m in \u001b[0;36m<module>\u001b[1;34m\u001b[0m\n\u001b[0;32m      1\u001b[0m \u001b[1;31m# click using xpath function\u001b[0m\u001b[1;33m\u001b[0m\u001b[1;33m\u001b[0m\u001b[1;33m\u001b[0m\u001b[0m\n\u001b[1;32m----> 2\u001b[1;33m \u001b[0msearch_button\u001b[0m\u001b[1;33m=\u001b[0m\u001b[0mdriver\u001b[0m\u001b[1;33m.\u001b[0m\u001b[0mfind_element_by_xpath\u001b[0m\u001b[1;33m(\u001b[0m\u001b[1;34m\"//button[@class='btn']\"\u001b[0m\u001b[1;33m)\u001b[0m\u001b[1;33m\u001b[0m\u001b[1;33m\u001b[0m\u001b[0m\n\u001b[0m\u001b[0;32m      3\u001b[0m \u001b[0msearch_button\u001b[0m\u001b[1;33m.\u001b[0m\u001b[0mclick\u001b[0m\u001b[1;33m(\u001b[0m\u001b[1;33m)\u001b[0m\u001b[1;33m\u001b[0m\u001b[1;33m\u001b[0m\u001b[0m\n",
      "\u001b[1;32m~\\anaconda3\\lib\\site-packages\\selenium\\webdriver\\remote\\webdriver.py\u001b[0m in \u001b[0;36mfind_element_by_xpath\u001b[1;34m(self, xpath)\u001b[0m\n\u001b[0;32m    392\u001b[0m             \u001b[0melement\u001b[0m \u001b[1;33m=\u001b[0m \u001b[0mdriver\u001b[0m\u001b[1;33m.\u001b[0m\u001b[0mfind_element_by_xpath\u001b[0m\u001b[1;33m(\u001b[0m\u001b[1;34m'//div/td[1]'\u001b[0m\u001b[1;33m)\u001b[0m\u001b[1;33m\u001b[0m\u001b[1;33m\u001b[0m\u001b[0m\n\u001b[0;32m    393\u001b[0m         \"\"\"\n\u001b[1;32m--> 394\u001b[1;33m         \u001b[1;32mreturn\u001b[0m \u001b[0mself\u001b[0m\u001b[1;33m.\u001b[0m\u001b[0mfind_element\u001b[0m\u001b[1;33m(\u001b[0m\u001b[0mby\u001b[0m\u001b[1;33m=\u001b[0m\u001b[0mBy\u001b[0m\u001b[1;33m.\u001b[0m\u001b[0mXPATH\u001b[0m\u001b[1;33m,\u001b[0m \u001b[0mvalue\u001b[0m\u001b[1;33m=\u001b[0m\u001b[0mxpath\u001b[0m\u001b[1;33m)\u001b[0m\u001b[1;33m\u001b[0m\u001b[1;33m\u001b[0m\u001b[0m\n\u001b[0m\u001b[0;32m    395\u001b[0m \u001b[1;33m\u001b[0m\u001b[0m\n\u001b[0;32m    396\u001b[0m     \u001b[1;32mdef\u001b[0m \u001b[0mfind_elements_by_xpath\u001b[0m\u001b[1;33m(\u001b[0m\u001b[0mself\u001b[0m\u001b[1;33m,\u001b[0m \u001b[0mxpath\u001b[0m\u001b[1;33m)\u001b[0m\u001b[1;33m:\u001b[0m\u001b[1;33m\u001b[0m\u001b[1;33m\u001b[0m\u001b[0m\n",
      "\u001b[1;32m~\\anaconda3\\lib\\site-packages\\selenium\\webdriver\\remote\\webdriver.py\u001b[0m in \u001b[0;36mfind_element\u001b[1;34m(self, by, value)\u001b[0m\n\u001b[0;32m    974\u001b[0m                 \u001b[0mby\u001b[0m \u001b[1;33m=\u001b[0m \u001b[0mBy\u001b[0m\u001b[1;33m.\u001b[0m\u001b[0mCSS_SELECTOR\u001b[0m\u001b[1;33m\u001b[0m\u001b[1;33m\u001b[0m\u001b[0m\n\u001b[0;32m    975\u001b[0m                 \u001b[0mvalue\u001b[0m \u001b[1;33m=\u001b[0m \u001b[1;34m'[name=\"%s\"]'\u001b[0m \u001b[1;33m%\u001b[0m \u001b[0mvalue\u001b[0m\u001b[1;33m\u001b[0m\u001b[1;33m\u001b[0m\u001b[0m\n\u001b[1;32m--> 976\u001b[1;33m         return self.execute(Command.FIND_ELEMENT, {\n\u001b[0m\u001b[0;32m    977\u001b[0m             \u001b[1;34m'using'\u001b[0m\u001b[1;33m:\u001b[0m \u001b[0mby\u001b[0m\u001b[1;33m,\u001b[0m\u001b[1;33m\u001b[0m\u001b[1;33m\u001b[0m\u001b[0m\n\u001b[0;32m    978\u001b[0m             'value': value})['value']\n",
      "\u001b[1;32m~\\anaconda3\\lib\\site-packages\\selenium\\webdriver\\remote\\webdriver.py\u001b[0m in \u001b[0;36mexecute\u001b[1;34m(self, driver_command, params)\u001b[0m\n\u001b[0;32m    319\u001b[0m         \u001b[0mresponse\u001b[0m \u001b[1;33m=\u001b[0m \u001b[0mself\u001b[0m\u001b[1;33m.\u001b[0m\u001b[0mcommand_executor\u001b[0m\u001b[1;33m.\u001b[0m\u001b[0mexecute\u001b[0m\u001b[1;33m(\u001b[0m\u001b[0mdriver_command\u001b[0m\u001b[1;33m,\u001b[0m \u001b[0mparams\u001b[0m\u001b[1;33m)\u001b[0m\u001b[1;33m\u001b[0m\u001b[1;33m\u001b[0m\u001b[0m\n\u001b[0;32m    320\u001b[0m         \u001b[1;32mif\u001b[0m \u001b[0mresponse\u001b[0m\u001b[1;33m:\u001b[0m\u001b[1;33m\u001b[0m\u001b[1;33m\u001b[0m\u001b[0m\n\u001b[1;32m--> 321\u001b[1;33m             \u001b[0mself\u001b[0m\u001b[1;33m.\u001b[0m\u001b[0merror_handler\u001b[0m\u001b[1;33m.\u001b[0m\u001b[0mcheck_response\u001b[0m\u001b[1;33m(\u001b[0m\u001b[0mresponse\u001b[0m\u001b[1;33m)\u001b[0m\u001b[1;33m\u001b[0m\u001b[1;33m\u001b[0m\u001b[0m\n\u001b[0m\u001b[0;32m    322\u001b[0m             response['value'] = self._unwrap_value(\n\u001b[0;32m    323\u001b[0m                 response.get('value', None))\n",
      "\u001b[1;32m~\\anaconda3\\lib\\site-packages\\selenium\\webdriver\\remote\\errorhandler.py\u001b[0m in \u001b[0;36mcheck_response\u001b[1;34m(self, response)\u001b[0m\n\u001b[0;32m    240\u001b[0m                 \u001b[0malert_text\u001b[0m \u001b[1;33m=\u001b[0m \u001b[0mvalue\u001b[0m\u001b[1;33m[\u001b[0m\u001b[1;34m'alert'\u001b[0m\u001b[1;33m]\u001b[0m\u001b[1;33m.\u001b[0m\u001b[0mget\u001b[0m\u001b[1;33m(\u001b[0m\u001b[1;34m'text'\u001b[0m\u001b[1;33m)\u001b[0m\u001b[1;33m\u001b[0m\u001b[1;33m\u001b[0m\u001b[0m\n\u001b[0;32m    241\u001b[0m             \u001b[1;32mraise\u001b[0m \u001b[0mexception_class\u001b[0m\u001b[1;33m(\u001b[0m\u001b[0mmessage\u001b[0m\u001b[1;33m,\u001b[0m \u001b[0mscreen\u001b[0m\u001b[1;33m,\u001b[0m \u001b[0mstacktrace\u001b[0m\u001b[1;33m,\u001b[0m \u001b[0malert_text\u001b[0m\u001b[1;33m)\u001b[0m\u001b[1;33m\u001b[0m\u001b[1;33m\u001b[0m\u001b[0m\n\u001b[1;32m--> 242\u001b[1;33m         \u001b[1;32mraise\u001b[0m \u001b[0mexception_class\u001b[0m\u001b[1;33m(\u001b[0m\u001b[0mmessage\u001b[0m\u001b[1;33m,\u001b[0m \u001b[0mscreen\u001b[0m\u001b[1;33m,\u001b[0m \u001b[0mstacktrace\u001b[0m\u001b[1;33m)\u001b[0m\u001b[1;33m\u001b[0m\u001b[1;33m\u001b[0m\u001b[0m\n\u001b[0m\u001b[0;32m    243\u001b[0m \u001b[1;33m\u001b[0m\u001b[0m\n\u001b[0;32m    244\u001b[0m     \u001b[1;32mdef\u001b[0m \u001b[0m_value_or_default\u001b[0m\u001b[1;33m(\u001b[0m\u001b[0mself\u001b[0m\u001b[1;33m,\u001b[0m \u001b[0mobj\u001b[0m\u001b[1;33m,\u001b[0m \u001b[0mkey\u001b[0m\u001b[1;33m,\u001b[0m \u001b[0mdefault\u001b[0m\u001b[1;33m)\u001b[0m\u001b[1;33m:\u001b[0m\u001b[1;33m\u001b[0m\u001b[1;33m\u001b[0m\u001b[0m\n",
      "\u001b[1;31mNoSuchElementException\u001b[0m: Message: no such element: Unable to locate element: {\"method\":\"xpath\",\"selector\":\"//button[@class='btn']\"}\n  (Session info: chrome=90.0.4430.93)\n"
     ]
    }
   ],
   "source": [
    "# click using xpath function\n",
    "search_button=driver.find_element_by_xpath(\"//button[@class='btn']\")\n",
    "search_button.click()"
   ]
  },
  {
   "cell_type": "code",
   "execution_count": 29,
   "metadata": {},
   "outputs": [],
   "source": [
    "#Now extracting the job titles \n",
    "title_tags=driver.find_elements_by_xpath(\"//a[@class='title fw500 ellipsis']\")[:10]"
   ]
  },
  {
   "cell_type": "code",
   "execution_count": 30,
   "metadata": {},
   "outputs": [],
   "source": [
    "#Now the text of job title is inside the title tag extracted above and hence lets run a loop to iterate over the extracted tags\n",
    "\n",
    "job_title=[]\n",
    "for i in title_tags:\n",
    "    job_title.append(i.text)"
   ]
  },
  {
   "cell_type": "code",
   "execution_count": 31,
   "metadata": {},
   "outputs": [
    {
     "data": {
      "text/plain": [
       "['Data Scientist / Data Analyst -Business Analyst',\n",
       " 'Senior Data Scientist | CES IT LTD | CMMI Level 5',\n",
       " 'Senior Data Scientist | CES IT LTD | CMMI Level 5',\n",
       " 'Analytics & AI Product Mgmt - Sr. Data Scientist',\n",
       " 'Senior Data Scientist',\n",
       " 'Senior Data Scientist, Modeling',\n",
       " 'Data Scientist - IBM Garage',\n",
       " 'Data Scientist',\n",
       " 'Data Scientist',\n",
       " 'Senior Data Scientist - Credit risk']"
      ]
     },
     "execution_count": 31,
     "metadata": {},
     "output_type": "execute_result"
    }
   ],
   "source": [
    "job_title"
   ]
  },
  {
   "cell_type": "code",
   "execution_count": 98,
   "metadata": {},
   "outputs": [],
   "source": [
    "# to extract first 10 html tags where we have location of job data for first 10 records\n",
    "location_tags=driver.find_elements_by_xpath(\"//li[@class='fleft grey-text br2 placeHolderLi location']/span\")[:10]"
   ]
  },
  {
   "cell_type": "code",
   "execution_count": 99,
   "metadata": {},
   "outputs": [],
   "source": [
    "#to extract the text from the above extracted tags\n",
    "location=[]\n",
    "for i in location_tags:\n",
    "    location.append(i.text)"
   ]
  },
  {
   "cell_type": "code",
   "execution_count": 100,
   "metadata": {},
   "outputs": [
    {
     "data": {
      "text/plain": [
       "['Mumbai, Hyderabad/Secunderabad, Pune, Gurgaon/Gurugram, Chennai, Bangalore/Bengaluru',\n",
       " 'Kolkata, Mumbai, Hyderabad/Secunderabad, Pune, Chennai, Bangalore/Bengaluru, Delhi / NCR',\n",
       " 'Kolkata, Mumbai, Hyderabad/Secunderabad, Pune, Chennai, Bangalore/Bengaluru, Delhi / NCR',\n",
       " 'Bangalore/Bengaluru',\n",
       " 'Pune, Chennai, Bangalore/Bengaluru',\n",
       " 'Kolkata, Gurgaon/Gurugram, Bangalore/Bengaluru, Vadodara, Mumbai (All Areas)',\n",
       " 'Noida, Hyderabad/Secunderabad, Bangalore/Bengaluru',\n",
       " 'Noida, Hyderabad/Secunderabad, Bangalore/Bengaluru',\n",
       " 'Noida, Hyderabad/Secunderabad, Bangalore/Bengaluru',\n",
       " 'Bangalore/Bengaluru']"
      ]
     },
     "execution_count": 100,
     "metadata": {},
     "output_type": "execute_result"
    }
   ],
   "source": [
    "location"
   ]
  },
  {
   "cell_type": "code",
   "execution_count": 101,
   "metadata": {},
   "outputs": [
    {
     "data": {
      "text/plain": [
       "[<selenium.webdriver.remote.webelement.WebElement (session=\"de71de05128097819bb957e52aac7502\", element=\"525d8743-419e-43d0-a2f9-a6fe711bd982\")>,\n",
       " <selenium.webdriver.remote.webelement.WebElement (session=\"de71de05128097819bb957e52aac7502\", element=\"44dbccb8-eb28-4f21-9def-fd2ec2e710b3\")>,\n",
       " <selenium.webdriver.remote.webelement.WebElement (session=\"de71de05128097819bb957e52aac7502\", element=\"9f31e114-a42c-4fd5-b215-4653f13fc503\")>,\n",
       " <selenium.webdriver.remote.webelement.WebElement (session=\"de71de05128097819bb957e52aac7502\", element=\"3729ab98-76ec-4743-94cc-31f3592868a6\")>,\n",
       " <selenium.webdriver.remote.webelement.WebElement (session=\"de71de05128097819bb957e52aac7502\", element=\"e3b2d81d-1fe5-4812-8820-d41f981a70f8\")>,\n",
       " <selenium.webdriver.remote.webelement.WebElement (session=\"de71de05128097819bb957e52aac7502\", element=\"cea27ae6-2d29-4d63-805e-f5b122cb5f11\")>,\n",
       " <selenium.webdriver.remote.webelement.WebElement (session=\"de71de05128097819bb957e52aac7502\", element=\"aaf288e2-6133-499f-8502-da19fe625960\")>,\n",
       " <selenium.webdriver.remote.webelement.WebElement (session=\"de71de05128097819bb957e52aac7502\", element=\"20a7e72a-18b1-4247-b038-0de55ef4a731\")>,\n",
       " <selenium.webdriver.remote.webelement.WebElement (session=\"de71de05128097819bb957e52aac7502\", element=\"a58bd1c9-8779-4116-91f4-f1655e3ca938\")>,\n",
       " <selenium.webdriver.remote.webelement.WebElement (session=\"de71de05128097819bb957e52aac7502\", element=\"21a2152d-95ba-4484-bc80-2216ecb5ef66\")>]"
      ]
     },
     "execution_count": 101,
     "metadata": {},
     "output_type": "execute_result"
    }
   ],
   "source": [
    "#Extracting the first 10 company_tags\n",
    "company_tags=driver.find_elements_by_xpath(\"//a[@class='subTitle ellipsis fleft']\")[:10]\n",
    "company_tags"
   ]
  },
  {
   "cell_type": "code",
   "execution_count": 102,
   "metadata": {},
   "outputs": [],
   "source": [
    "company_name=[]\n",
    "for i in company_tags:\n",
    "    company_name.append(i.text)"
   ]
  },
  {
   "cell_type": "code",
   "execution_count": 103,
   "metadata": {},
   "outputs": [
    {
     "data": {
      "text/plain": [
       "['Inflexion Analytix Private Limited',\n",
       " 'CES Ltd.',\n",
       " 'CES Ltd.',\n",
       " 'GlaxoSmithKline Pharmaceuticals Limited',\n",
       " 'Vijaya Management Services',\n",
       " 'Nielsen',\n",
       " 'IBM India Pvt. Limited',\n",
       " 'IBM India Pvt. Limited',\n",
       " 'IBM India Pvt. Limited',\n",
       " 'Scienaptic Systems']"
      ]
     },
     "execution_count": 103,
     "metadata": {},
     "output_type": "execute_result"
    }
   ],
   "source": [
    "company_name"
   ]
  },
  {
   "cell_type": "code",
   "execution_count": 43,
   "metadata": {},
   "outputs": [
    {
     "data": {
      "text/plain": [
       "[<selenium.webdriver.remote.webelement.WebElement (session=\"a495c85929ff1eb84b8ee9f178e991c9\", element=\"ec67739e-11af-4141-8718-c0c9a1273555\")>,\n",
       " <selenium.webdriver.remote.webelement.WebElement (session=\"a495c85929ff1eb84b8ee9f178e991c9\", element=\"80026a44-77db-4da0-a16f-f6049bd4bdb8\")>,\n",
       " <selenium.webdriver.remote.webelement.WebElement (session=\"a495c85929ff1eb84b8ee9f178e991c9\", element=\"794912af-15e3-41ca-854f-02927192f7ff\")>,\n",
       " <selenium.webdriver.remote.webelement.WebElement (session=\"a495c85929ff1eb84b8ee9f178e991c9\", element=\"95080a12-2130-40b8-91ff-21aa7f4c2c25\")>,\n",
       " <selenium.webdriver.remote.webelement.WebElement (session=\"a495c85929ff1eb84b8ee9f178e991c9\", element=\"967ca22f-cfc0-4492-878a-703145a79186\")>,\n",
       " <selenium.webdriver.remote.webelement.WebElement (session=\"a495c85929ff1eb84b8ee9f178e991c9\", element=\"509c22f6-f1fc-4cd4-ba69-26c28e473cfe\")>,\n",
       " <selenium.webdriver.remote.webelement.WebElement (session=\"a495c85929ff1eb84b8ee9f178e991c9\", element=\"f2386cfe-2d59-4224-a0db-33874d7e7ab7\")>,\n",
       " <selenium.webdriver.remote.webelement.WebElement (session=\"a495c85929ff1eb84b8ee9f178e991c9\", element=\"644d2581-a5e1-4818-b68e-d26b2a284f70\")>,\n",
       " <selenium.webdriver.remote.webelement.WebElement (session=\"a495c85929ff1eb84b8ee9f178e991c9\", element=\"bc79a250-f0f2-4059-a8a7-96c02b9125b4\")>,\n",
       " <selenium.webdriver.remote.webelement.WebElement (session=\"a495c85929ff1eb84b8ee9f178e991c9\", element=\"3106d6bf-ca48-4760-923e-5e20503d9a37\")>]"
      ]
     },
     "execution_count": 43,
     "metadata": {},
     "output_type": "execute_result"
    }
   ],
   "source": [
    "#Extracting the first 10 jobdescription_tags\n",
    "jobdescription_tags=driver.find_elements_by_xpath(\"//div[@class='job-description fs12 grey-text']\")[:10]\n",
    "jobdescription_tags"
   ]
  },
  {
   "cell_type": "code",
   "execution_count": 45,
   "metadata": {},
   "outputs": [],
   "source": [
    "Job_Description=[]\n",
    "for i in jobdescription_tags:\n",
    "    Job_Description.append(i.text)"
   ]
  },
  {
   "cell_type": "code",
   "execution_count": 46,
   "metadata": {},
   "outputs": [
    {
     "data": {
      "text/plain": [
       "['Applications invited from all Freshers and experienced candidates (0-3 yrs) aspiring to...',\n",
       " 'Must be extremely detail and technology-oriented and possess excellent communications s...',\n",
       " 'Must be extremely detail and technology-oriented and possess excellent communications s...',\n",
       " 'A higher degree (PhD preferred) in Engineering, Statistics, Data Science, Applied Mathe...',\n",
       " '3+ years practical experience with advanced machine learning techniques and big data te...',\n",
       " 'Masters degree in Economics, Mathematics, Statistics, Engineering 5 years of relevant e...',\n",
       " 'Required Technical and Professional ExpertisePreferred Technical and Professional Exper...',\n",
       " 'Should have hired and nurtured talent and grow them in market facing specialists and co...',\n",
       " 'Should have hired and nurtured talent and grow them in market facing specialists and co...',\n",
       " 'Responsibilities and duties Focus on developing clear and concise analytical approach f...']"
      ]
     },
     "execution_count": 46,
     "metadata": {},
     "output_type": "execute_result"
    }
   ],
   "source": [
    "Job_Description"
   ]
  },
  {
   "cell_type": "code",
   "execution_count": 119,
   "metadata": {},
   "outputs": [],
   "source": [
    "#To put the scraped data of first 10 records in dataframe\n",
    "Datascience_jobs=pd.DataFrame({})"
   ]
  },
  {
   "cell_type": "code",
   "execution_count": 120,
   "metadata": {},
   "outputs": [],
   "source": [
    "Datascience_jobs['job_title']=job_title"
   ]
  },
  {
   "cell_type": "code",
   "execution_count": 121,
   "metadata": {},
   "outputs": [],
   "source": [
    "Datascience_jobs['job-location']=location"
   ]
  },
  {
   "cell_type": "code",
   "execution_count": 122,
   "metadata": {},
   "outputs": [],
   "source": [
    "Datascience_jobs['company_name']=company_name"
   ]
  },
  {
   "cell_type": "code",
   "execution_count": 123,
   "metadata": {},
   "outputs": [],
   "source": [
    "Datascience_jobs['Full job description']=Job_Description"
   ]
  },
  {
   "cell_type": "code",
   "execution_count": 124,
   "metadata": {},
   "outputs": [
    {
     "data": {
      "text/html": [
       "<div>\n",
       "<style scoped>\n",
       "    .dataframe tbody tr th:only-of-type {\n",
       "        vertical-align: middle;\n",
       "    }\n",
       "\n",
       "    .dataframe tbody tr th {\n",
       "        vertical-align: top;\n",
       "    }\n",
       "\n",
       "    .dataframe thead th {\n",
       "        text-align: right;\n",
       "    }\n",
       "</style>\n",
       "<table border=\"1\" class=\"dataframe\">\n",
       "  <thead>\n",
       "    <tr style=\"text-align: right;\">\n",
       "      <th></th>\n",
       "      <th>job_title</th>\n",
       "      <th>job-location</th>\n",
       "      <th>company_name</th>\n",
       "      <th>Full job description</th>\n",
       "    </tr>\n",
       "  </thead>\n",
       "  <tbody>\n",
       "    <tr>\n",
       "      <th>0</th>\n",
       "      <td>Data Scientist / Data Analyst -Business Analyst</td>\n",
       "      <td>Mumbai, Hyderabad/Secunderabad, Pune, Gurgaon/...</td>\n",
       "      <td>Inflexion Analytix Private Limited</td>\n",
       "      <td>Applications invited from all Freshers and exp...</td>\n",
       "    </tr>\n",
       "    <tr>\n",
       "      <th>1</th>\n",
       "      <td>Senior Data Scientist | CES IT LTD | CMMI Level 5</td>\n",
       "      <td>Kolkata, Mumbai, Hyderabad/Secunderabad, Pune,...</td>\n",
       "      <td>CES Ltd.</td>\n",
       "      <td>Must be extremely detail and technology-orient...</td>\n",
       "    </tr>\n",
       "    <tr>\n",
       "      <th>2</th>\n",
       "      <td>Senior Data Scientist | CES IT LTD | CMMI Level 5</td>\n",
       "      <td>Kolkata, Mumbai, Hyderabad/Secunderabad, Pune,...</td>\n",
       "      <td>CES Ltd.</td>\n",
       "      <td>Must be extremely detail and technology-orient...</td>\n",
       "    </tr>\n",
       "    <tr>\n",
       "      <th>3</th>\n",
       "      <td>Analytics &amp; AI Product Mgmt - Sr. Data Scientist</td>\n",
       "      <td>Bangalore/Bengaluru</td>\n",
       "      <td>GlaxoSmithKline Pharmaceuticals Limited</td>\n",
       "      <td>A higher degree (PhD preferred) in Engineering...</td>\n",
       "    </tr>\n",
       "    <tr>\n",
       "      <th>4</th>\n",
       "      <td>Senior Data Scientist</td>\n",
       "      <td>Pune, Chennai, Bangalore/Bengaluru</td>\n",
       "      <td>Vijaya Management Services</td>\n",
       "      <td>3+ years practical experience with advanced ma...</td>\n",
       "    </tr>\n",
       "    <tr>\n",
       "      <th>5</th>\n",
       "      <td>Senior Data Scientist, Modeling</td>\n",
       "      <td>Kolkata, Gurgaon/Gurugram, Bangalore/Bengaluru...</td>\n",
       "      <td>Nielsen</td>\n",
       "      <td>Masters degree in Economics, Mathematics, Stat...</td>\n",
       "    </tr>\n",
       "    <tr>\n",
       "      <th>6</th>\n",
       "      <td>Data Scientist - IBM Garage</td>\n",
       "      <td>Noida, Hyderabad/Secunderabad, Bangalore/Benga...</td>\n",
       "      <td>IBM India Pvt. Limited</td>\n",
       "      <td>Required Technical and Professional ExpertiseP...</td>\n",
       "    </tr>\n",
       "    <tr>\n",
       "      <th>7</th>\n",
       "      <td>Data Scientist</td>\n",
       "      <td>Noida, Hyderabad/Secunderabad, Bangalore/Benga...</td>\n",
       "      <td>IBM India Pvt. Limited</td>\n",
       "      <td>Should have hired and nurtured talent and grow...</td>\n",
       "    </tr>\n",
       "    <tr>\n",
       "      <th>8</th>\n",
       "      <td>Data Scientist</td>\n",
       "      <td>Noida, Hyderabad/Secunderabad, Bangalore/Benga...</td>\n",
       "      <td>IBM India Pvt. Limited</td>\n",
       "      <td>Should have hired and nurtured talent and grow...</td>\n",
       "    </tr>\n",
       "    <tr>\n",
       "      <th>9</th>\n",
       "      <td>Senior Data Scientist - Credit risk</td>\n",
       "      <td>Bangalore/Bengaluru</td>\n",
       "      <td>Scienaptic Systems</td>\n",
       "      <td>Responsibilities and duties Focus on developin...</td>\n",
       "    </tr>\n",
       "  </tbody>\n",
       "</table>\n",
       "</div>"
      ],
      "text/plain": [
       "                                           job_title  \\\n",
       "0    Data Scientist / Data Analyst -Business Analyst   \n",
       "1  Senior Data Scientist | CES IT LTD | CMMI Level 5   \n",
       "2  Senior Data Scientist | CES IT LTD | CMMI Level 5   \n",
       "3   Analytics & AI Product Mgmt - Sr. Data Scientist   \n",
       "4                              Senior Data Scientist   \n",
       "5                    Senior Data Scientist, Modeling   \n",
       "6                        Data Scientist - IBM Garage   \n",
       "7                                     Data Scientist   \n",
       "8                                     Data Scientist   \n",
       "9                Senior Data Scientist - Credit risk   \n",
       "\n",
       "                                        job-location  \\\n",
       "0  Mumbai, Hyderabad/Secunderabad, Pune, Gurgaon/...   \n",
       "1  Kolkata, Mumbai, Hyderabad/Secunderabad, Pune,...   \n",
       "2  Kolkata, Mumbai, Hyderabad/Secunderabad, Pune,...   \n",
       "3                                Bangalore/Bengaluru   \n",
       "4                 Pune, Chennai, Bangalore/Bengaluru   \n",
       "5  Kolkata, Gurgaon/Gurugram, Bangalore/Bengaluru...   \n",
       "6  Noida, Hyderabad/Secunderabad, Bangalore/Benga...   \n",
       "7  Noida, Hyderabad/Secunderabad, Bangalore/Benga...   \n",
       "8  Noida, Hyderabad/Secunderabad, Bangalore/Benga...   \n",
       "9                                Bangalore/Bengaluru   \n",
       "\n",
       "                              company_name  \\\n",
       "0       Inflexion Analytix Private Limited   \n",
       "1                                 CES Ltd.   \n",
       "2                                 CES Ltd.   \n",
       "3  GlaxoSmithKline Pharmaceuticals Limited   \n",
       "4               Vijaya Management Services   \n",
       "5                                  Nielsen   \n",
       "6                   IBM India Pvt. Limited   \n",
       "7                   IBM India Pvt. Limited   \n",
       "8                   IBM India Pvt. Limited   \n",
       "9                       Scienaptic Systems   \n",
       "\n",
       "                                Full job description  \n",
       "0  Applications invited from all Freshers and exp...  \n",
       "1  Must be extremely detail and technology-orient...  \n",
       "2  Must be extremely detail and technology-orient...  \n",
       "3  A higher degree (PhD preferred) in Engineering...  \n",
       "4  3+ years practical experience with advanced ma...  \n",
       "5  Masters degree in Economics, Mathematics, Stat...  \n",
       "6  Required Technical and Professional ExpertiseP...  \n",
       "7  Should have hired and nurtured talent and grow...  \n",
       "8  Should have hired and nurtured talent and grow...  \n",
       "9  Responsibilities and duties Focus on developin...  "
      ]
     },
     "execution_count": 124,
     "metadata": {},
     "output_type": "execute_result"
    }
   ],
   "source": [
    "Datascience_jobs"
   ]
  },
  {
   "cell_type": "markdown",
   "metadata": {},
   "source": [
    "Q3: In this question you have to scrape data using the filters available on the \n",
    "webpage as shown below:"
   ]
  },
  {
   "cell_type": "code",
   "execution_count": 109,
   "metadata": {},
   "outputs": [],
   "source": [
    "#Opening the homepage\n",
    "driver.get(\"https://www.naukri.com/\")"
   ]
  },
  {
   "cell_type": "code",
   "execution_count": 110,
   "metadata": {},
   "outputs": [
    {
     "data": {
      "text/plain": [
       "<selenium.webdriver.remote.webelement.WebElement (session=\"934a2a8a1dccc0bd09a8954d571d07af\", element=\"ddc2d910-a950-4a60-af6b-cc7d5f2512c3\")>"
      ]
     },
     "execution_count": 110,
     "metadata": {},
     "output_type": "execute_result"
    }
   ],
   "source": [
    "#finding element for job search bar\n",
    "search_job=driver.find_element_by_id('qsb-keyword-sugg')\n",
    "search_job"
   ]
  },
  {
   "cell_type": "code",
   "execution_count": 111,
   "metadata": {},
   "outputs": [],
   "source": [
    "#write on search bar for Data scientist\n",
    "search_job.send_keys(\"Data Scientist\")"
   ]
  },
  {
   "cell_type": "code",
   "execution_count": 112,
   "metadata": {},
   "outputs": [],
   "source": [
    "# click using xpath function\n",
    "search_button=driver.find_element_by_xpath(\"//button[@class='btn']\")\n",
    "search_button.click()"
   ]
  },
  {
   "cell_type": "code",
   "execution_count": 113,
   "metadata": {},
   "outputs": [],
   "source": [
    "#To apply for filter using delhi/NCR \n",
    "Filter_button_location=driver.find_element_by_xpath(\"//span[@title='Delhi / NCR']\")"
   ]
  },
  {
   "cell_type": "code",
   "execution_count": 114,
   "metadata": {},
   "outputs": [],
   "source": [
    "Filter_button_location.click()"
   ]
  },
  {
   "cell_type": "code",
   "execution_count": 115,
   "metadata": {},
   "outputs": [],
   "source": [
    "#To Filter salary as '3-6 'Lakhs\n",
    "Filter_button_salary=driver.find_element_by_xpath(\"//span[@title='3-6 Lakhs']\")"
   ]
  },
  {
   "cell_type": "code",
   "execution_count": 116,
   "metadata": {},
   "outputs": [],
   "source": [
    "Filter_button_salary.click()"
   ]
  },
  {
   "cell_type": "code",
   "execution_count": 117,
   "metadata": {},
   "outputs": [],
   "source": [
    "#Now extracting the job titles \n",
    "title_tags=driver.find_elements_by_xpath(\"//a[@class='title fw500 ellipsis']\")[:10]"
   ]
  },
  {
   "cell_type": "code",
   "execution_count": 118,
   "metadata": {},
   "outputs": [],
   "source": [
    "#Now the text of job title is inside the title tag extracted above and hence lets run a loop to iterate over the extracted tags\n",
    "\n",
    "job_title=[]\n",
    "for i in title_tags:\n",
    "    job_title.append(i.text)"
   ]
  },
  {
   "cell_type": "code",
   "execution_count": 119,
   "metadata": {},
   "outputs": [
    {
     "data": {
      "text/plain": [
       "['Data Scientist / Data Analyst -Business Analyst',\n",
       " 'Data Scientist',\n",
       " 'Data Scientist - High growth VC backed Influencer Marketplace',\n",
       " 'Excellent opportunity For Data Scientist',\n",
       " \"Data Scientist - Noida/ B'lore\",\n",
       " 'Data Scientist',\n",
       " 'Data Scientist',\n",
       " 'DATA Scientist – Gurgaon (Exp 3-6 years)',\n",
       " 'DATA Scientist – Gurgaon (Exp 3-6 years)',\n",
       " 'Data Scientist - Noida']"
      ]
     },
     "execution_count": 119,
     "metadata": {},
     "output_type": "execute_result"
    }
   ],
   "source": [
    "job_title"
   ]
  },
  {
   "cell_type": "code",
   "execution_count": 120,
   "metadata": {},
   "outputs": [],
   "source": [
    "# to extract first 10 html tags where we have location of job data for first 10 records\n",
    "location_tags=driver.find_elements_by_xpath(\"//li[@class='fleft grey-text br2 placeHolderLi location']/span\")[:10]"
   ]
  },
  {
   "cell_type": "code",
   "execution_count": 121,
   "metadata": {},
   "outputs": [],
   "source": [
    "#to extract the text from the above extracted tags\n",
    "location=[]\n",
    "for i in location_tags:\n",
    "    location.append(i.text)"
   ]
  },
  {
   "cell_type": "code",
   "execution_count": 122,
   "metadata": {},
   "outputs": [
    {
     "data": {
      "text/plain": [
       "['Mumbai, Hyderabad/Secunderabad, Pune, Gurgaon/Gurugram, Chennai, Bangalore/Bengaluru',\n",
       " 'Noida, Hyderabad/Secunderabad, Bangalore/Bengaluru',\n",
       " 'Bangalore/Bengaluru, Delhi / NCR, Mumbai (All Areas)',\n",
       " 'Noida, Bangalore/Bengaluru',\n",
       " 'Noida, Bangalore/Bengaluru',\n",
       " 'Bangalore/Bengaluru, Delhi / NCR, Mumbai (All Areas)',\n",
       " 'New Delhi, Gurgaon/Gurugram, Delhi / NCR',\n",
       " 'Gurgaon/Gurugram, Delhi / NCR',\n",
       " 'Gurgaon/Gurugram, Delhi / NCR',\n",
       " 'Noida']"
      ]
     },
     "execution_count": 122,
     "metadata": {},
     "output_type": "execute_result"
    }
   ],
   "source": [
    "location"
   ]
  },
  {
   "cell_type": "code",
   "execution_count": 123,
   "metadata": {},
   "outputs": [
    {
     "data": {
      "text/plain": [
       "[<selenium.webdriver.remote.webelement.WebElement (session=\"934a2a8a1dccc0bd09a8954d571d07af\", element=\"d4bf0eb6-a475-4a5a-89cc-3e0be6879eef\")>,\n",
       " <selenium.webdriver.remote.webelement.WebElement (session=\"934a2a8a1dccc0bd09a8954d571d07af\", element=\"330228e0-6fc4-401f-ad00-37d136eefc73\")>,\n",
       " <selenium.webdriver.remote.webelement.WebElement (session=\"934a2a8a1dccc0bd09a8954d571d07af\", element=\"0667a6bc-21f6-4181-8ff3-1bee58a5af2e\")>,\n",
       " <selenium.webdriver.remote.webelement.WebElement (session=\"934a2a8a1dccc0bd09a8954d571d07af\", element=\"127caf4d-06a3-4809-8a1f-3a6e8c026ea5\")>,\n",
       " <selenium.webdriver.remote.webelement.WebElement (session=\"934a2a8a1dccc0bd09a8954d571d07af\", element=\"4411d031-ce56-4263-b5b6-ac2a866dfbe3\")>,\n",
       " <selenium.webdriver.remote.webelement.WebElement (session=\"934a2a8a1dccc0bd09a8954d571d07af\", element=\"242e8e0f-d2c4-47eb-825a-46d2bfcac01f\")>,\n",
       " <selenium.webdriver.remote.webelement.WebElement (session=\"934a2a8a1dccc0bd09a8954d571d07af\", element=\"632e358c-d9a9-452f-9b20-8c902e89e1cf\")>,\n",
       " <selenium.webdriver.remote.webelement.WebElement (session=\"934a2a8a1dccc0bd09a8954d571d07af\", element=\"b67f0f51-da5a-40d8-9d6f-7ef865ff57ef\")>,\n",
       " <selenium.webdriver.remote.webelement.WebElement (session=\"934a2a8a1dccc0bd09a8954d571d07af\", element=\"82173492-d310-4f5d-8972-9e5490f34c55\")>,\n",
       " <selenium.webdriver.remote.webelement.WebElement (session=\"934a2a8a1dccc0bd09a8954d571d07af\", element=\"e0221179-14cb-45c9-ae78-9375c5c368a9\")>]"
      ]
     },
     "execution_count": 123,
     "metadata": {},
     "output_type": "execute_result"
    }
   ],
   "source": [
    "#Extracting the first 10 company_tags\n",
    "company_tags=driver.find_elements_by_xpath(\"//a[@class='subTitle ellipsis fleft']\")[:10]\n",
    "company_tags"
   ]
  },
  {
   "cell_type": "code",
   "execution_count": 124,
   "metadata": {},
   "outputs": [],
   "source": [
    "company_name=[]\n",
    "for i in company_tags:\n",
    "    company_name.append(i.text)"
   ]
  },
  {
   "cell_type": "code",
   "execution_count": 125,
   "metadata": {},
   "outputs": [
    {
     "data": {
      "text/plain": [
       "['Inflexion Analytix Private Limited',\n",
       " 'IBM India Pvt. Limited',\n",
       " 'Ravgins International Pvt. Ltd.',\n",
       " 'NEC CORPORATION INDIA PRIVATE LIMITED',\n",
       " 'NEC CORPORATION INDIA PRIVATE LIMITED',\n",
       " 'Cloudstrats Technologies Private Limited',\n",
       " 'Mobikwik',\n",
       " 'CRESCENDO GLOBAL LEADERSHIP HIRING INDIA PRIVATE L IMITED',\n",
       " 'CRESCENDO GLOBAL LEADERSHIP HIRING INDIA PRIVATE L IMITED',\n",
       " 'Optum Global Solutions (India) Private Limited']"
      ]
     },
     "execution_count": 125,
     "metadata": {},
     "output_type": "execute_result"
    }
   ],
   "source": [
    "company_name"
   ]
  },
  {
   "cell_type": "code",
   "execution_count": 126,
   "metadata": {},
   "outputs": [],
   "source": [
    "#lets extract all the tags having experience related data\n",
    "experience_tags=driver.find_elements_by_xpath(\"//li[@class='fleft grey-text br2 placeHolderLi experience']//span\")[:10]"
   ]
  },
  {
   "cell_type": "code",
   "execution_count": 127,
   "metadata": {},
   "outputs": [],
   "source": [
    "#To extract the experience related text from the experience tags extracted above\n",
    "experience=[]\n",
    "for i in experience_tags:\n",
    "    experience.append(i.text)"
   ]
  },
  {
   "cell_type": "code",
   "execution_count": 128,
   "metadata": {},
   "outputs": [
    {
     "data": {
      "text/plain": [
       "['0-3 Yrs',\n",
       " '4-9 Yrs',\n",
       " '3-5 Yrs',\n",
       " '3-7 Yrs',\n",
       " '3-8 Yrs',\n",
       " '5-8 Yrs',\n",
       " '3-5 Yrs',\n",
       " '3-6 Yrs',\n",
       " '3-6 Yrs',\n",
       " '3-5 Yrs']"
      ]
     },
     "execution_count": 128,
     "metadata": {},
     "output_type": "execute_result"
    }
   ],
   "source": [
    "experience"
   ]
  },
  {
   "cell_type": "code",
   "execution_count": 129,
   "metadata": {},
   "outputs": [],
   "source": [
    "#To create dataframe of datascience jobs in Delhi/NCR location and 3-6 lakhs\n",
    "Datascience_jobs_1=pd.DataFrame({})\n"
   ]
  },
  {
   "cell_type": "code",
   "execution_count": 131,
   "metadata": {},
   "outputs": [],
   "source": [
    "Datascience_jobs_1['job_title']=job_title"
   ]
  },
  {
   "cell_type": "code",
   "execution_count": 132,
   "metadata": {},
   "outputs": [],
   "source": [
    "Datascience_jobs_1['job-location']=location"
   ]
  },
  {
   "cell_type": "code",
   "execution_count": 133,
   "metadata": {},
   "outputs": [],
   "source": [
    "Datascience_jobs_1['company_name']=company_name"
   ]
  },
  {
   "cell_type": "code",
   "execution_count": 134,
   "metadata": {},
   "outputs": [],
   "source": [
    "Datascience_jobs_1['Experience_Required']=experience"
   ]
  },
  {
   "cell_type": "code",
   "execution_count": 135,
   "metadata": {},
   "outputs": [
    {
     "data": {
      "text/html": [
       "<div>\n",
       "<style scoped>\n",
       "    .dataframe tbody tr th:only-of-type {\n",
       "        vertical-align: middle;\n",
       "    }\n",
       "\n",
       "    .dataframe tbody tr th {\n",
       "        vertical-align: top;\n",
       "    }\n",
       "\n",
       "    .dataframe thead th {\n",
       "        text-align: right;\n",
       "    }\n",
       "</style>\n",
       "<table border=\"1\" class=\"dataframe\">\n",
       "  <thead>\n",
       "    <tr style=\"text-align: right;\">\n",
       "      <th></th>\n",
       "      <th>job_title</th>\n",
       "      <th>job-location</th>\n",
       "      <th>company_name</th>\n",
       "      <th>Experience_Required</th>\n",
       "    </tr>\n",
       "  </thead>\n",
       "  <tbody>\n",
       "    <tr>\n",
       "      <th>0</th>\n",
       "      <td>Data Scientist / Data Analyst -Business Analyst</td>\n",
       "      <td>Mumbai, Hyderabad/Secunderabad, Pune, Gurgaon/...</td>\n",
       "      <td>Inflexion Analytix Private Limited</td>\n",
       "      <td>0-3 Yrs</td>\n",
       "    </tr>\n",
       "    <tr>\n",
       "      <th>1</th>\n",
       "      <td>Data Scientist</td>\n",
       "      <td>Noida, Hyderabad/Secunderabad, Bangalore/Benga...</td>\n",
       "      <td>IBM India Pvt. Limited</td>\n",
       "      <td>4-9 Yrs</td>\n",
       "    </tr>\n",
       "    <tr>\n",
       "      <th>2</th>\n",
       "      <td>Data Scientist - High growth VC backed Influen...</td>\n",
       "      <td>Bangalore/Bengaluru, Delhi / NCR, Mumbai (All ...</td>\n",
       "      <td>Ravgins International Pvt. Ltd.</td>\n",
       "      <td>3-5 Yrs</td>\n",
       "    </tr>\n",
       "    <tr>\n",
       "      <th>3</th>\n",
       "      <td>Excellent opportunity For Data Scientist</td>\n",
       "      <td>Noida, Bangalore/Bengaluru</td>\n",
       "      <td>NEC CORPORATION INDIA PRIVATE LIMITED</td>\n",
       "      <td>3-7 Yrs</td>\n",
       "    </tr>\n",
       "    <tr>\n",
       "      <th>4</th>\n",
       "      <td>Data Scientist - Noida/ B'lore</td>\n",
       "      <td>Noida, Bangalore/Bengaluru</td>\n",
       "      <td>NEC CORPORATION INDIA PRIVATE LIMITED</td>\n",
       "      <td>3-8 Yrs</td>\n",
       "    </tr>\n",
       "    <tr>\n",
       "      <th>5</th>\n",
       "      <td>Data Scientist</td>\n",
       "      <td>Bangalore/Bengaluru, Delhi / NCR, Mumbai (All ...</td>\n",
       "      <td>Cloudstrats Technologies Private Limited</td>\n",
       "      <td>5-8 Yrs</td>\n",
       "    </tr>\n",
       "    <tr>\n",
       "      <th>6</th>\n",
       "      <td>Data Scientist</td>\n",
       "      <td>New Delhi, Gurgaon/Gurugram, Delhi / NCR</td>\n",
       "      <td>Mobikwik</td>\n",
       "      <td>3-5 Yrs</td>\n",
       "    </tr>\n",
       "    <tr>\n",
       "      <th>7</th>\n",
       "      <td>DATA Scientist – Gurgaon (Exp 3-6 years)</td>\n",
       "      <td>Gurgaon/Gurugram, Delhi / NCR</td>\n",
       "      <td>CRESCENDO GLOBAL LEADERSHIP HIRING INDIA PRIVA...</td>\n",
       "      <td>3-6 Yrs</td>\n",
       "    </tr>\n",
       "    <tr>\n",
       "      <th>8</th>\n",
       "      <td>DATA Scientist – Gurgaon (Exp 3-6 years)</td>\n",
       "      <td>Gurgaon/Gurugram, Delhi / NCR</td>\n",
       "      <td>CRESCENDO GLOBAL LEADERSHIP HIRING INDIA PRIVA...</td>\n",
       "      <td>3-6 Yrs</td>\n",
       "    </tr>\n",
       "    <tr>\n",
       "      <th>9</th>\n",
       "      <td>Data Scientist - Noida</td>\n",
       "      <td>Noida</td>\n",
       "      <td>Optum Global Solutions (India) Private Limited</td>\n",
       "      <td>3-5 Yrs</td>\n",
       "    </tr>\n",
       "  </tbody>\n",
       "</table>\n",
       "</div>"
      ],
      "text/plain": [
       "                                           job_title  \\\n",
       "0    Data Scientist / Data Analyst -Business Analyst   \n",
       "1                                     Data Scientist   \n",
       "2  Data Scientist - High growth VC backed Influen...   \n",
       "3           Excellent opportunity For Data Scientist   \n",
       "4                     Data Scientist - Noida/ B'lore   \n",
       "5                                     Data Scientist   \n",
       "6                                     Data Scientist   \n",
       "7           DATA Scientist – Gurgaon (Exp 3-6 years)   \n",
       "8           DATA Scientist – Gurgaon (Exp 3-6 years)   \n",
       "9                             Data Scientist - Noida   \n",
       "\n",
       "                                        job-location  \\\n",
       "0  Mumbai, Hyderabad/Secunderabad, Pune, Gurgaon/...   \n",
       "1  Noida, Hyderabad/Secunderabad, Bangalore/Benga...   \n",
       "2  Bangalore/Bengaluru, Delhi / NCR, Mumbai (All ...   \n",
       "3                         Noida, Bangalore/Bengaluru   \n",
       "4                         Noida, Bangalore/Bengaluru   \n",
       "5  Bangalore/Bengaluru, Delhi / NCR, Mumbai (All ...   \n",
       "6           New Delhi, Gurgaon/Gurugram, Delhi / NCR   \n",
       "7                      Gurgaon/Gurugram, Delhi / NCR   \n",
       "8                      Gurgaon/Gurugram, Delhi / NCR   \n",
       "9                                              Noida   \n",
       "\n",
       "                                        company_name Experience_Required  \n",
       "0                 Inflexion Analytix Private Limited             0-3 Yrs  \n",
       "1                             IBM India Pvt. Limited             4-9 Yrs  \n",
       "2                    Ravgins International Pvt. Ltd.             3-5 Yrs  \n",
       "3              NEC CORPORATION INDIA PRIVATE LIMITED             3-7 Yrs  \n",
       "4              NEC CORPORATION INDIA PRIVATE LIMITED             3-8 Yrs  \n",
       "5           Cloudstrats Technologies Private Limited             5-8 Yrs  \n",
       "6                                           Mobikwik             3-5 Yrs  \n",
       "7  CRESCENDO GLOBAL LEADERSHIP HIRING INDIA PRIVA...             3-6 Yrs  \n",
       "8  CRESCENDO GLOBAL LEADERSHIP HIRING INDIA PRIVA...             3-6 Yrs  \n",
       "9     Optum Global Solutions (India) Private Limited             3-5 Yrs  "
      ]
     },
     "execution_count": 135,
     "metadata": {},
     "output_type": "execute_result"
    }
   ],
   "source": [
    "Datascience_jobs_1"
   ]
  },
  {
   "cell_type": "markdown",
   "metadata": {},
   "source": [
    "Q4: Write a python program to scrape data for first 10 job results for Data scientist \n",
    "Designation in Noida location. You have to scrape company_name, No. of days \n",
    "ago when job was posted, Rating of the company"
   ]
  },
  {
   "cell_type": "code",
   "execution_count": 10,
   "metadata": {},
   "outputs": [],
   "source": [
    "#Lets connect to webdriver\n",
    "driver=webdriver.Chrome(r\"C:/chromedriver\")"
   ]
  },
  {
   "cell_type": "code",
   "execution_count": 11,
   "metadata": {},
   "outputs": [],
   "source": [
    "#Opening the homepage\n",
    "driver.get(\"https://www.glassdoor.co.in/index.htm\")"
   ]
  },
  {
   "cell_type": "code",
   "execution_count": 12,
   "metadata": {},
   "outputs": [
    {
     "data": {
      "text/plain": [
       "<selenium.webdriver.remote.webelement.WebElement (session=\"3e8630fceee3ce750d0491f09cb8650a\", element=\"29b2468c-bc0f-47db-9d66-14f5b6adabd4\")>"
      ]
     },
     "execution_count": 12,
     "metadata": {},
     "output_type": "execute_result"
    }
   ],
   "source": [
    "#finding element for job search bar\n",
    "search_job=driver.find_element_by_id('sc.keyword')\n",
    "search_job"
   ]
  },
  {
   "cell_type": "code",
   "execution_count": 13,
   "metadata": {},
   "outputs": [],
   "source": [
    "#write on search bar for Data scientist\n",
    "search_job.send_keys(\"Data Scientist\")"
   ]
  },
  {
   "cell_type": "code",
   "execution_count": 14,
   "metadata": {},
   "outputs": [
    {
     "data": {
      "text/plain": [
       "<selenium.webdriver.remote.webelement.WebElement (session=\"3e8630fceee3ce750d0491f09cb8650a\", element=\"27af330a-91f8-4748-97da-771fe92d42c6\")>"
      ]
     },
     "execution_count": 14,
     "metadata": {},
     "output_type": "execute_result"
    }
   ],
   "source": [
    "#finding element for location search bar\n",
    "search_location=driver.find_element_by_id('sc.location')\n",
    "search_location"
   ]
  },
  {
   "cell_type": "code",
   "execution_count": 15,
   "metadata": {},
   "outputs": [],
   "source": [
    "search_location.send_keys(\"Noida\")"
   ]
  },
  {
   "cell_type": "code",
   "execution_count": 16,
   "metadata": {},
   "outputs": [],
   "source": [
    "# click using xpath function\n",
    "search_button=driver.find_element_by_xpath(\"//button[@class='gd-ui-button ml-std col-auto SearchStyles__newSearchButton css-iixdfr']\")\n",
    "search_button.click()"
   ]
  },
  {
   "cell_type": "code",
   "execution_count": 18,
   "metadata": {},
   "outputs": [
    {
     "data": {
      "text/plain": [
       "[<selenium.webdriver.remote.webelement.WebElement (session=\"3e8630fceee3ce750d0491f09cb8650a\", element=\"366234ca-b138-4793-bbe6-e41576f11ad3\")>,\n",
       " <selenium.webdriver.remote.webelement.WebElement (session=\"3e8630fceee3ce750d0491f09cb8650a\", element=\"bc517616-19f1-42c2-bc9f-b4084ee1d50e\")>,\n",
       " <selenium.webdriver.remote.webelement.WebElement (session=\"3e8630fceee3ce750d0491f09cb8650a\", element=\"d7e719c8-9f39-4cb8-a380-eadb26eff65e\")>,\n",
       " <selenium.webdriver.remote.webelement.WebElement (session=\"3e8630fceee3ce750d0491f09cb8650a\", element=\"c256491c-c380-4bab-9609-9e5bbf21eb21\")>,\n",
       " <selenium.webdriver.remote.webelement.WebElement (session=\"3e8630fceee3ce750d0491f09cb8650a\", element=\"0ed40e44-9f61-4d18-a7f2-ef2f9924afa9\")>,\n",
       " <selenium.webdriver.remote.webelement.WebElement (session=\"3e8630fceee3ce750d0491f09cb8650a\", element=\"7c013989-0599-4259-ad99-b6737d3cdaa6\")>,\n",
       " <selenium.webdriver.remote.webelement.WebElement (session=\"3e8630fceee3ce750d0491f09cb8650a\", element=\"366b434a-a660-4203-9a2f-05fce6f13e2d\")>,\n",
       " <selenium.webdriver.remote.webelement.WebElement (session=\"3e8630fceee3ce750d0491f09cb8650a\", element=\"138b7237-3d93-48ee-bf56-bba9758135c3\")>,\n",
       " <selenium.webdriver.remote.webelement.WebElement (session=\"3e8630fceee3ce750d0491f09cb8650a\", element=\"b92941ac-d5a3-471d-a4bb-a5737c8ea0e8\")>,\n",
       " <selenium.webdriver.remote.webelement.WebElement (session=\"3e8630fceee3ce750d0491f09cb8650a\", element=\"22ae0267-85ce-4fe1-bb7c-e5e4b2659dbc\")>]"
      ]
     },
     "execution_count": 18,
     "metadata": {},
     "output_type": "execute_result"
    }
   ],
   "source": [
    "#Extracting the first 10 company_tags\n",
    "company_tags=driver.find_elements_by_xpath(\"//div[@class='d-flex justify-content-between align-items-start']\")[:10]\n",
    "company_tags"
   ]
  },
  {
   "cell_type": "code",
   "execution_count": 19,
   "metadata": {},
   "outputs": [],
   "source": [
    "company_name=[]\n",
    "for i in company_tags:\n",
    "    company_name.append(i.text)"
   ]
  },
  {
   "cell_type": "code",
   "execution_count": 20,
   "metadata": {},
   "outputs": [
    {
     "data": {
      "text/plain": [
       "['BlackRock',\n",
       " 'Bechtel',\n",
       " 'Skyjobs hr services',\n",
       " 'Mansha Solutions',\n",
       " 'MasterCard',\n",
       " 'Lantern Digital Services',\n",
       " 'Ericsson',\n",
       " 'Sparkbpl',\n",
       " 'Biz2Credit Inc',\n",
       " 'Boston Consulting Group']"
      ]
     },
     "execution_count": 20,
     "metadata": {},
     "output_type": "execute_result"
    }
   ],
   "source": [
    "company_name"
   ]
  },
  {
   "cell_type": "code",
   "execution_count": 21,
   "metadata": {},
   "outputs": [
    {
     "data": {
      "text/plain": [
       "[<selenium.webdriver.remote.webelement.WebElement (session=\"3e8630fceee3ce750d0491f09cb8650a\", element=\"d37e29ef-5851-48a9-800c-9d752fff646d\")>,\n",
       " <selenium.webdriver.remote.webelement.WebElement (session=\"3e8630fceee3ce750d0491f09cb8650a\", element=\"1eb97699-27cd-4ca4-80d9-37b3a1b5f7be\")>,\n",
       " <selenium.webdriver.remote.webelement.WebElement (session=\"3e8630fceee3ce750d0491f09cb8650a\", element=\"2bbe2576-c5e8-4b8d-8bfd-78c8bff9e87c\")>,\n",
       " <selenium.webdriver.remote.webelement.WebElement (session=\"3e8630fceee3ce750d0491f09cb8650a\", element=\"8a81aa3e-31c4-4710-8096-09d750fe3e6e\")>,\n",
       " <selenium.webdriver.remote.webelement.WebElement (session=\"3e8630fceee3ce750d0491f09cb8650a\", element=\"59503f09-c8fa-4aec-8e19-f8e0485c4e2d\")>,\n",
       " <selenium.webdriver.remote.webelement.WebElement (session=\"3e8630fceee3ce750d0491f09cb8650a\", element=\"04f056d0-49b4-4eb4-a727-9baff2ac29b8\")>,\n",
       " <selenium.webdriver.remote.webelement.WebElement (session=\"3e8630fceee3ce750d0491f09cb8650a\", element=\"385af8ef-bbdc-44f6-99f8-ef0d1c8880d0\")>,\n",
       " <selenium.webdriver.remote.webelement.WebElement (session=\"3e8630fceee3ce750d0491f09cb8650a\", element=\"3ac84613-cff5-4f32-b933-2fb7db6fe501\")>,\n",
       " <selenium.webdriver.remote.webelement.WebElement (session=\"3e8630fceee3ce750d0491f09cb8650a\", element=\"89950b2f-e143-4887-8b02-fb716cdb6a34\")>,\n",
       " <selenium.webdriver.remote.webelement.WebElement (session=\"3e8630fceee3ce750d0491f09cb8650a\", element=\"b4043160-eeaa-4db6-a118-b1d3615c5d98\")>]"
      ]
     },
     "execution_count": 21,
     "metadata": {},
     "output_type": "execute_result"
    }
   ],
   "source": [
    "#Extracting the tags for first 10 records for no. of days ago job was posted \n",
    "\n",
    "jobage_tags=driver.find_elements_by_xpath(\"//div[@class='d-flex align-items-end pl-std css-mi55ob']\")[:10]\n",
    "jobage_tags"
   ]
  },
  {
   "cell_type": "code",
   "execution_count": 22,
   "metadata": {},
   "outputs": [],
   "source": [
    "No_ofdays_ago_job_posted=[]\n",
    "for i in jobage_tags:\n",
    "    No_ofdays_ago_job_posted.append(i.text)"
   ]
  },
  {
   "cell_type": "code",
   "execution_count": 23,
   "metadata": {},
   "outputs": [
    {
     "data": {
      "text/plain": [
       "['2d', '11d', '2d', '4d', '17d', '3d', '9d', '9d', '17d', '23d']"
      ]
     },
     "execution_count": 23,
     "metadata": {},
     "output_type": "execute_result"
    }
   ],
   "source": [
    "No_ofdays_ago_job_posted"
   ]
  },
  {
   "cell_type": "code",
   "execution_count": 24,
   "metadata": {},
   "outputs": [
    {
     "data": {
      "text/plain": [
       "[<selenium.webdriver.remote.webelement.WebElement (session=\"3e8630fceee3ce750d0491f09cb8650a\", element=\"6db61950-a07a-4bd1-b5ab-1ea9a8722fa6\")>,\n",
       " <selenium.webdriver.remote.webelement.WebElement (session=\"3e8630fceee3ce750d0491f09cb8650a\", element=\"8cfa0e7e-ad53-4a88-97e3-58ef9f420c41\")>,\n",
       " <selenium.webdriver.remote.webelement.WebElement (session=\"3e8630fceee3ce750d0491f09cb8650a\", element=\"c0624c4b-56eb-4531-9e51-45c363f171e5\")>,\n",
       " <selenium.webdriver.remote.webelement.WebElement (session=\"3e8630fceee3ce750d0491f09cb8650a\", element=\"30df3872-bf8a-42f6-b077-112707c89123\")>,\n",
       " <selenium.webdriver.remote.webelement.WebElement (session=\"3e8630fceee3ce750d0491f09cb8650a\", element=\"1f5ff6b7-dac1-46e6-b476-afcd551a0d3b\")>,\n",
       " <selenium.webdriver.remote.webelement.WebElement (session=\"3e8630fceee3ce750d0491f09cb8650a\", element=\"8723fa9a-aa4a-48d8-aa85-b64713012b81\")>,\n",
       " <selenium.webdriver.remote.webelement.WebElement (session=\"3e8630fceee3ce750d0491f09cb8650a\", element=\"15e55cc0-4c04-40c5-aa25-5b227443b736\")>,\n",
       " <selenium.webdriver.remote.webelement.WebElement (session=\"3e8630fceee3ce750d0491f09cb8650a\", element=\"301caddd-f1f2-4c26-9d8f-2791a4020ebf\")>,\n",
       " <selenium.webdriver.remote.webelement.WebElement (session=\"3e8630fceee3ce750d0491f09cb8650a\", element=\"dde2a972-c40f-4aa2-9ef4-86720827cb1e\")>,\n",
       " <selenium.webdriver.remote.webelement.WebElement (session=\"3e8630fceee3ce750d0491f09cb8650a\", element=\"08e7e641-035a-40c6-bc57-1cd6a03f698c\")>]"
      ]
     },
     "execution_count": 24,
     "metadata": {},
     "output_type": "execute_result"
    }
   ],
   "source": [
    "##Extracting the tags for first 10 records for rating of the company\n",
    "\n",
    "review_tags=driver.find_elements_by_xpath(\"//span[@class='css-19pjha7 e1cjmv6j1']\")[:10]\n",
    "review_tags\n"
   ]
  },
  {
   "cell_type": "code",
   "execution_count": 25,
   "metadata": {},
   "outputs": [],
   "source": [
    "#Extract review from the review tags\n",
    "review=[]\n",
    "for i in review_tags:\n",
    "    review.append(i.text)"
   ]
  },
  {
   "cell_type": "code",
   "execution_count": 26,
   "metadata": {},
   "outputs": [
    {
     "data": {
      "text/plain": [
       "['4.1', '4.0', '4.1', '3.8', '4.1', '3.7', '3.1', '5.0', '3.8', '4.1']"
      ]
     },
     "execution_count": 26,
     "metadata": {},
     "output_type": "execute_result"
    }
   ],
   "source": [
    "review"
   ]
  },
  {
   "cell_type": "code",
   "execution_count": 27,
   "metadata": {},
   "outputs": [],
   "source": [
    "#Lets create the dataframe"
   ]
  },
  {
   "cell_type": "code",
   "execution_count": 28,
   "metadata": {},
   "outputs": [],
   "source": [
    "Datascience_jobs_glassdoor=pd.DataFrame({})"
   ]
  },
  {
   "cell_type": "code",
   "execution_count": 29,
   "metadata": {},
   "outputs": [],
   "source": [
    "Datascience_jobs_glassdoor['company_name']=company_name"
   ]
  },
  {
   "cell_type": "code",
   "execution_count": 30,
   "metadata": {},
   "outputs": [],
   "source": [
    "Datascience_jobs_glassdoor['No. of days ago when job was posted']=No_ofdays_ago_job_posted"
   ]
  },
  {
   "cell_type": "code",
   "execution_count": 31,
   "metadata": {},
   "outputs": [],
   "source": [
    "Datascience_jobs_glassdoor['Rating of the company']=review"
   ]
  },
  {
   "cell_type": "code",
   "execution_count": 32,
   "metadata": {},
   "outputs": [
    {
     "data": {
      "text/html": [
       "<div>\n",
       "<style scoped>\n",
       "    .dataframe tbody tr th:only-of-type {\n",
       "        vertical-align: middle;\n",
       "    }\n",
       "\n",
       "    .dataframe tbody tr th {\n",
       "        vertical-align: top;\n",
       "    }\n",
       "\n",
       "    .dataframe thead th {\n",
       "        text-align: right;\n",
       "    }\n",
       "</style>\n",
       "<table border=\"1\" class=\"dataframe\">\n",
       "  <thead>\n",
       "    <tr style=\"text-align: right;\">\n",
       "      <th></th>\n",
       "      <th>company_name</th>\n",
       "      <th>No. of days ago when job was posted</th>\n",
       "      <th>Rating of the company</th>\n",
       "    </tr>\n",
       "  </thead>\n",
       "  <tbody>\n",
       "    <tr>\n",
       "      <th>0</th>\n",
       "      <td>BlackRock</td>\n",
       "      <td>2d</td>\n",
       "      <td>4.1</td>\n",
       "    </tr>\n",
       "    <tr>\n",
       "      <th>1</th>\n",
       "      <td>Bechtel</td>\n",
       "      <td>11d</td>\n",
       "      <td>4.0</td>\n",
       "    </tr>\n",
       "    <tr>\n",
       "      <th>2</th>\n",
       "      <td>Skyjobs hr services</td>\n",
       "      <td>2d</td>\n",
       "      <td>4.1</td>\n",
       "    </tr>\n",
       "    <tr>\n",
       "      <th>3</th>\n",
       "      <td>Mansha Solutions</td>\n",
       "      <td>4d</td>\n",
       "      <td>3.8</td>\n",
       "    </tr>\n",
       "    <tr>\n",
       "      <th>4</th>\n",
       "      <td>MasterCard</td>\n",
       "      <td>17d</td>\n",
       "      <td>4.1</td>\n",
       "    </tr>\n",
       "    <tr>\n",
       "      <th>5</th>\n",
       "      <td>Lantern Digital Services</td>\n",
       "      <td>3d</td>\n",
       "      <td>3.7</td>\n",
       "    </tr>\n",
       "    <tr>\n",
       "      <th>6</th>\n",
       "      <td>Ericsson</td>\n",
       "      <td>9d</td>\n",
       "      <td>3.1</td>\n",
       "    </tr>\n",
       "    <tr>\n",
       "      <th>7</th>\n",
       "      <td>Sparkbpl</td>\n",
       "      <td>9d</td>\n",
       "      <td>5.0</td>\n",
       "    </tr>\n",
       "    <tr>\n",
       "      <th>8</th>\n",
       "      <td>Biz2Credit Inc</td>\n",
       "      <td>17d</td>\n",
       "      <td>3.8</td>\n",
       "    </tr>\n",
       "    <tr>\n",
       "      <th>9</th>\n",
       "      <td>Boston Consulting Group</td>\n",
       "      <td>23d</td>\n",
       "      <td>4.1</td>\n",
       "    </tr>\n",
       "  </tbody>\n",
       "</table>\n",
       "</div>"
      ],
      "text/plain": [
       "               company_name No. of days ago when job was posted  \\\n",
       "0                 BlackRock                                  2d   \n",
       "1                   Bechtel                                 11d   \n",
       "2       Skyjobs hr services                                  2d   \n",
       "3          Mansha Solutions                                  4d   \n",
       "4                MasterCard                                 17d   \n",
       "5  Lantern Digital Services                                  3d   \n",
       "6                  Ericsson                                  9d   \n",
       "7                  Sparkbpl                                  9d   \n",
       "8            Biz2Credit Inc                                 17d   \n",
       "9   Boston Consulting Group                                 23d   \n",
       "\n",
       "  Rating of the company  \n",
       "0                   4.1  \n",
       "1                   4.0  \n",
       "2                   4.1  \n",
       "3                   3.8  \n",
       "4                   4.1  \n",
       "5                   3.7  \n",
       "6                   3.1  \n",
       "7                   5.0  \n",
       "8                   3.8  \n",
       "9                   4.1  "
      ]
     },
     "execution_count": 32,
     "metadata": {},
     "output_type": "execute_result"
    }
   ],
   "source": [
    "Datascience_jobs_glassdoor"
   ]
  },
  {
   "cell_type": "markdown",
   "metadata": {},
   "source": [
    "Q5: Write a python program to scrape the salary data for Data Scientist designation \n",
    "in Noida location."
   ]
  },
  {
   "cell_type": "code",
   "execution_count": 108,
   "metadata": {},
   "outputs": [],
   "source": [
    "#Lets connect to webdriver\n",
    "driver=webdriver.Chrome(r\"C:/chromedriver\")"
   ]
  },
  {
   "cell_type": "code",
   "execution_count": 109,
   "metadata": {},
   "outputs": [],
   "source": [
    "#Opening the homepage\n",
    "driver.get(\"https://www.glassdoor.co.in/Salaries/index.htm\")"
   ]
  },
  {
   "cell_type": "code",
   "execution_count": 110,
   "metadata": {},
   "outputs": [
    {
     "data": {
      "text/plain": [
       "<selenium.webdriver.remote.webelement.WebElement (session=\"c78d681062989df877cb7aca223460c2\", element=\"55a8e3b8-927d-4712-a64d-c68d55b60ad6\")>"
      ]
     },
     "execution_count": 110,
     "metadata": {},
     "output_type": "execute_result"
    }
   ],
   "source": [
    "#finding element for job search bar\n",
    "search_job=driver.find_element_by_id('KeywordSearch')\n",
    "search_job"
   ]
  },
  {
   "cell_type": "code",
   "execution_count": 111,
   "metadata": {},
   "outputs": [],
   "source": [
    "#write on search bar for Data scientist\n",
    "search_job.send_keys(\"Data Scientist\")"
   ]
  },
  {
   "cell_type": "code",
   "execution_count": 112,
   "metadata": {},
   "outputs": [
    {
     "data": {
      "text/plain": [
       "<selenium.webdriver.remote.webelement.WebElement (session=\"c78d681062989df877cb7aca223460c2\", element=\"f0954ec2-cc6d-4408-a764-a4841864462e\")>"
      ]
     },
     "execution_count": 112,
     "metadata": {},
     "output_type": "execute_result"
    }
   ],
   "source": [
    "#finding element for location search bar\n",
    "search_location=driver.find_element_by_id('LocationSearch')\n",
    "search_location"
   ]
  },
  {
   "cell_type": "code",
   "execution_count": 117,
   "metadata": {},
   "outputs": [],
   "source": [
    "#write on search bar for location Noida\n",
    "search_location.send_keys(\"Noida\")"
   ]
  },
  {
   "cell_type": "code",
   "execution_count": 120,
   "metadata": {},
   "outputs": [],
   "source": [
    "# click using xpath function\n",
    "search_button=driver.find_element_by_xpath(\"//button[@class='gd-btn-mkt']\")\n",
    "search_button.click()"
   ]
  },
  {
   "cell_type": "code",
   "execution_count": 121,
   "metadata": {},
   "outputs": [
    {
     "data": {
      "text/plain": [
       "[<selenium.webdriver.remote.webelement.WebElement (session=\"c78d681062989df877cb7aca223460c2\", element=\"7df2f44b-94de-4c23-b373-fbec18dd19aa\")>,\n",
       " <selenium.webdriver.remote.webelement.WebElement (session=\"c78d681062989df877cb7aca223460c2\", element=\"453c05ef-48c4-4683-9feb-15857391e3a0\")>,\n",
       " <selenium.webdriver.remote.webelement.WebElement (session=\"c78d681062989df877cb7aca223460c2\", element=\"9cb3c45c-9be7-4599-9ce3-acf743e8d4c4\")>,\n",
       " <selenium.webdriver.remote.webelement.WebElement (session=\"c78d681062989df877cb7aca223460c2\", element=\"18cf295c-5fbe-4441-912f-e1501d2404bc\")>,\n",
       " <selenium.webdriver.remote.webelement.WebElement (session=\"c78d681062989df877cb7aca223460c2\", element=\"f75a274d-a5f9-4fa7-b47a-48a3b92a2e17\")>,\n",
       " <selenium.webdriver.remote.webelement.WebElement (session=\"c78d681062989df877cb7aca223460c2\", element=\"e93fc11b-a1da-4765-9499-db6c83120b89\")>,\n",
       " <selenium.webdriver.remote.webelement.WebElement (session=\"c78d681062989df877cb7aca223460c2\", element=\"6d27ecb5-4d9d-4c02-8576-10ea9a82f446\")>,\n",
       " <selenium.webdriver.remote.webelement.WebElement (session=\"c78d681062989df877cb7aca223460c2\", element=\"08068664-4b37-4666-b632-eec3df65c2cd\")>,\n",
       " <selenium.webdriver.remote.webelement.WebElement (session=\"c78d681062989df877cb7aca223460c2\", element=\"f0035e4a-eb2b-4880-ba12-7753351a7003\")>,\n",
       " <selenium.webdriver.remote.webelement.WebElement (session=\"c78d681062989df877cb7aca223460c2\", element=\"9476a402-f41c-4fcc-af28-acd04ad112ad\")>]"
      ]
     },
     "execution_count": 121,
     "metadata": {},
     "output_type": "execute_result"
    }
   ],
   "source": [
    "#Extracting the first 10 company_tags\n",
    "company_tags=driver.find_elements_by_xpath(\"//p[@class='m-0 ']\")[:10]\n",
    "company_tags"
   ]
  },
  {
   "cell_type": "code",
   "execution_count": 122,
   "metadata": {},
   "outputs": [],
   "source": [
    "company_name=[]\n",
    "for i in company_tags:\n",
    "    company_name.append(i.text)"
   ]
  },
  {
   "cell_type": "code",
   "execution_count": 123,
   "metadata": {},
   "outputs": [
    {
     "data": {
      "text/plain": [
       "['Tata Consultancy Services',\n",
       " 'Accenture',\n",
       " 'IBM',\n",
       " 'Ericsson-Worldwide',\n",
       " 'Delhivery',\n",
       " 'UnitedHealth Group',\n",
       " 'Valiance Solutions',\n",
       " 'ZS Associates',\n",
       " 'EXL Service',\n",
       " 'Optum Global Solutions']"
      ]
     },
     "execution_count": 123,
     "metadata": {},
     "output_type": "execute_result"
    }
   ],
   "source": [
    "company_name"
   ]
  },
  {
   "cell_type": "code",
   "execution_count": 124,
   "metadata": {},
   "outputs": [
    {
     "data": {
      "text/plain": [
       "[<selenium.webdriver.remote.webelement.WebElement (session=\"c78d681062989df877cb7aca223460c2\", element=\"61abe036-78c4-4006-92e0-f53aa789b382\")>,\n",
       " <selenium.webdriver.remote.webelement.WebElement (session=\"c78d681062989df877cb7aca223460c2\", element=\"eeee5a51-fe6c-4980-b4a4-204da84b328b\")>,\n",
       " <selenium.webdriver.remote.webelement.WebElement (session=\"c78d681062989df877cb7aca223460c2\", element=\"2286ffbb-b51d-4c26-bd7d-2900be1a5e9c\")>,\n",
       " <selenium.webdriver.remote.webelement.WebElement (session=\"c78d681062989df877cb7aca223460c2\", element=\"b3eacda8-0d05-4942-a94b-27cbbebbb1f2\")>,\n",
       " <selenium.webdriver.remote.webelement.WebElement (session=\"c78d681062989df877cb7aca223460c2\", element=\"645a3077-0e47-4fe5-bcbc-f1165d4e0a53\")>,\n",
       " <selenium.webdriver.remote.webelement.WebElement (session=\"c78d681062989df877cb7aca223460c2\", element=\"db72ff12-0eed-4650-b8a9-fdd7549ef9b6\")>,\n",
       " <selenium.webdriver.remote.webelement.WebElement (session=\"c78d681062989df877cb7aca223460c2\", element=\"331ceebd-2378-4f9f-84ab-f894554cc2ee\")>,\n",
       " <selenium.webdriver.remote.webelement.WebElement (session=\"c78d681062989df877cb7aca223460c2\", element=\"c99cd406-a183-44bf-9dda-b3dbea7598ff\")>,\n",
       " <selenium.webdriver.remote.webelement.WebElement (session=\"c78d681062989df877cb7aca223460c2\", element=\"74f97132-bffb-42b8-9791-03508a0053c7\")>,\n",
       " <selenium.webdriver.remote.webelement.WebElement (session=\"c78d681062989df877cb7aca223460c2\", element=\"4dbc9494-b813-49da-a4e5-0dfd23dcbbd6\")>]"
      ]
     },
     "execution_count": 124,
     "metadata": {},
     "output_type": "execute_result"
    }
   ],
   "source": [
    "#Extracting total number of salary tags for first 10 records \n",
    "Noofsalary_tags=driver.find_elements_by_xpath(\"//p[@class='css-1uyte9r css-1kuy7z7 m-0 ']\")[:10]\n",
    "Noofsalary_tags"
   ]
  },
  {
   "cell_type": "code",
   "execution_count": 125,
   "metadata": {},
   "outputs": [],
   "source": [
    "No_of_salaries=[]\n",
    "for i in Noofsalary_tags:\n",
    "    No_of_salaries.append(i.text)"
   ]
  },
  {
   "cell_type": "code",
   "execution_count": 126,
   "metadata": {},
   "outputs": [
    {
     "data": {
      "text/plain": [
       "['16 salaries',\n",
       " '14 salaries',\n",
       " '14 salaries',\n",
       " '14 salaries',\n",
       " '14 salaries',\n",
       " '11 salaries',\n",
       " '9 salaries',\n",
       " '8 salaries',\n",
       " '8 salaries',\n",
       " '8 salaries']"
      ]
     },
     "execution_count": 126,
     "metadata": {},
     "output_type": "execute_result"
    }
   ],
   "source": [
    "No_of_salaries"
   ]
  },
  {
   "cell_type": "code",
   "execution_count": 127,
   "metadata": {},
   "outputs": [
    {
     "data": {
      "text/plain": [
       "[<selenium.webdriver.remote.webelement.WebElement (session=\"c78d681062989df877cb7aca223460c2\", element=\"54c11426-8c49-4820-8e72-c4fa60070fae\")>,\n",
       " <selenium.webdriver.remote.webelement.WebElement (session=\"c78d681062989df877cb7aca223460c2\", element=\"45a10262-5a91-4ac5-89ca-cfae7e1cad11\")>,\n",
       " <selenium.webdriver.remote.webelement.WebElement (session=\"c78d681062989df877cb7aca223460c2\", element=\"ab573b65-d3b5-40c1-a205-7a8120e22cdd\")>,\n",
       " <selenium.webdriver.remote.webelement.WebElement (session=\"c78d681062989df877cb7aca223460c2\", element=\"243109e3-045f-49cf-81fd-d57ef8c2fc31\")>,\n",
       " <selenium.webdriver.remote.webelement.WebElement (session=\"c78d681062989df877cb7aca223460c2\", element=\"356fb68f-723d-4ff3-8f36-5e356e8f0dcd\")>,\n",
       " <selenium.webdriver.remote.webelement.WebElement (session=\"c78d681062989df877cb7aca223460c2\", element=\"4fd861c2-8da5-4f97-bb3c-5dadbf2f2b75\")>,\n",
       " <selenium.webdriver.remote.webelement.WebElement (session=\"c78d681062989df877cb7aca223460c2\", element=\"6dcfa19e-8f2b-453a-b2d0-4b04e5ee1b9c\")>,\n",
       " <selenium.webdriver.remote.webelement.WebElement (session=\"c78d681062989df877cb7aca223460c2\", element=\"b4c0f2b8-a400-4b77-a056-4229ee6b8ea4\")>,\n",
       " <selenium.webdriver.remote.webelement.WebElement (session=\"c78d681062989df877cb7aca223460c2\", element=\"ec91d100-8f0a-4f68-92f5-2af6f34899cd\")>,\n",
       " <selenium.webdriver.remote.webelement.WebElement (session=\"c78d681062989df877cb7aca223460c2\", element=\"77b6c614-ef56-45e0-bfa9-e32def162474\")>]"
      ]
     },
     "execution_count": 127,
     "metadata": {},
     "output_type": "execute_result"
    }
   ],
   "source": [
    "#Extracting averagesalary tags for first 10 records \n",
    "averagesalary_tags=driver.find_elements_by_xpath(\"//div[@class='col-2 d-none d-md-flex flex-row justify-content-end']\")[:10]\n",
    "averagesalary_tags"
   ]
  },
  {
   "cell_type": "code",
   "execution_count": 128,
   "metadata": {},
   "outputs": [],
   "source": [
    "Average_salary=[]\n",
    "for i in averagesalary_tags:\n",
    "    Average_salary.append(i.text)"
   ]
  },
  {
   "cell_type": "code",
   "execution_count": 129,
   "metadata": {},
   "outputs": [
    {
     "data": {
      "text/plain": [
       "['₹ 6,11,228\\n/yr',\n",
       " '₹ 11,46,533\\n/yr',\n",
       " '₹ 8,97,795\\n/yr',\n",
       " '₹ 7,38,057\\n/yr',\n",
       " '₹ 12,39,781\\n/yr',\n",
       " '₹ 13,36,142\\n/yr',\n",
       " '₹ 8,15,192\\n/yr',\n",
       " '₹ 11,35,221\\n/yr',\n",
       " '₹ 11,44,243\\n/yr',\n",
       " '₹ 14,13,288\\n/yr']"
      ]
     },
     "execution_count": 129,
     "metadata": {},
     "output_type": "execute_result"
    }
   ],
   "source": [
    "Average_salary"
   ]
  },
  {
   "cell_type": "code",
   "execution_count": 130,
   "metadata": {},
   "outputs": [
    {
     "data": {
      "text/plain": [
       "[<selenium.webdriver.remote.webelement.WebElement (session=\"c78d681062989df877cb7aca223460c2\", element=\"e763f89e-d172-4064-8bcb-da4da2486b34\")>,\n",
       " <selenium.webdriver.remote.webelement.WebElement (session=\"c78d681062989df877cb7aca223460c2\", element=\"a1ea01e8-5ec5-4647-bb51-c32ba6a575a3\")>,\n",
       " <selenium.webdriver.remote.webelement.WebElement (session=\"c78d681062989df877cb7aca223460c2\", element=\"03b7fdd8-c1e6-46c8-80a8-474a4ee1cf1e\")>,\n",
       " <selenium.webdriver.remote.webelement.WebElement (session=\"c78d681062989df877cb7aca223460c2\", element=\"267ff655-c932-468d-861b-62161821cc64\")>,\n",
       " <selenium.webdriver.remote.webelement.WebElement (session=\"c78d681062989df877cb7aca223460c2\", element=\"96344b18-9971-4433-a573-31ebdee56448\")>,\n",
       " <selenium.webdriver.remote.webelement.WebElement (session=\"c78d681062989df877cb7aca223460c2\", element=\"df338730-f170-4838-a768-c4c4075150c2\")>,\n",
       " <selenium.webdriver.remote.webelement.WebElement (session=\"c78d681062989df877cb7aca223460c2\", element=\"89c4c51d-1099-4ad1-93b4-6acf1a7b87dc\")>,\n",
       " <selenium.webdriver.remote.webelement.WebElement (session=\"c78d681062989df877cb7aca223460c2\", element=\"a37b5b6c-820e-4dc0-9179-efdbae57fdc4\")>,\n",
       " <selenium.webdriver.remote.webelement.WebElement (session=\"c78d681062989df877cb7aca223460c2\", element=\"f44061b9-0beb-43d0-9419-ffb8798888d9\")>,\n",
       " <selenium.webdriver.remote.webelement.WebElement (session=\"c78d681062989df877cb7aca223460c2\", element=\"c907ca6f-9ce6-4069-a429-5502482bd34e\")>]"
      ]
     },
     "execution_count": 130,
     "metadata": {},
     "output_type": "execute_result"
    }
   ],
   "source": [
    "#Extracting the tags for salary for first 10 records\n",
    "salary_tags=driver.find_elements_by_xpath(\"//div[@class='common__RangeBarStyle__values d-flex justify-content-between ']\")[:10]\n",
    "salary_tags\n"
   ]
  },
  {
   "cell_type": "code",
   "execution_count": 131,
   "metadata": {},
   "outputs": [],
   "source": [
    "salaries=[]\n",
    "for i in salary_tags:\n",
    "    salaries.append(i.text)"
   ]
  },
  {
   "cell_type": "code",
   "execution_count": 132,
   "metadata": {},
   "outputs": [
    {
     "data": {
      "text/plain": [
       "['₹343K\\n₹1,095K',\n",
       " '₹577K\\n₹2,213K',\n",
       " '₹586K\\n₹2,730K',\n",
       " '₹355K\\n₹1,613K',\n",
       " '₹450K\\n₹11,622K',\n",
       " '₹1,069K\\n₹1,520K',\n",
       " '₹502K\\n₹1,465K',\n",
       " '₹202K\\n₹1,809K',\n",
       " '₹575K\\n₹1,520K',\n",
       " '₹1,014K\\n₹2,149K']"
      ]
     },
     "execution_count": 132,
     "metadata": {},
     "output_type": "execute_result"
    }
   ],
   "source": [
    "salaries"
   ]
  },
  {
   "cell_type": "code",
   "execution_count": 133,
   "metadata": {},
   "outputs": [],
   "source": [
    "min_sal=[i.split('\\n', 1)[0] for i in salaries]\n"
   ]
  },
  {
   "cell_type": "code",
   "execution_count": 134,
   "metadata": {},
   "outputs": [
    {
     "data": {
      "text/plain": [
       "['₹343K',\n",
       " '₹577K',\n",
       " '₹586K',\n",
       " '₹355K',\n",
       " '₹450K',\n",
       " '₹1,069K',\n",
       " '₹502K',\n",
       " '₹202K',\n",
       " '₹575K',\n",
       " '₹1,014K']"
      ]
     },
     "execution_count": 134,
     "metadata": {},
     "output_type": "execute_result"
    }
   ],
   "source": [
    "min_sal"
   ]
  },
  {
   "cell_type": "code",
   "execution_count": 135,
   "metadata": {},
   "outputs": [],
   "source": [
    "max_sal=[i.split('\\n', 1)[1] for i in salaries]"
   ]
  },
  {
   "cell_type": "code",
   "execution_count": 107,
   "metadata": {},
   "outputs": [
    {
     "data": {
      "text/plain": [
       "['₹1,095K',\n",
       " '₹2,213K',\n",
       " '₹2,730K',\n",
       " '₹1,613K',\n",
       " '₹11,622K',\n",
       " '₹1,520K',\n",
       " '₹1,465K',\n",
       " '₹1,809K',\n",
       " '₹1,520K',\n",
       " '₹2,149K']"
      ]
     },
     "execution_count": 107,
     "metadata": {},
     "output_type": "execute_result"
    }
   ],
   "source": [
    "max_sal"
   ]
  },
  {
   "cell_type": "code",
   "execution_count": 136,
   "metadata": {},
   "outputs": [],
   "source": [
    "#Lets create the dataframe for the first 10 records"
   ]
  },
  {
   "cell_type": "code",
   "execution_count": 137,
   "metadata": {},
   "outputs": [],
   "source": [
    "Datascience_salaries_glassdoor=pd.DataFrame({})"
   ]
  },
  {
   "cell_type": "code",
   "execution_count": 138,
   "metadata": {},
   "outputs": [],
   "source": [
    "Datascience_salaries_glassdoor['company_name']=company_name"
   ]
  },
  {
   "cell_type": "code",
   "execution_count": 139,
   "metadata": {},
   "outputs": [],
   "source": [
    "Datascience_salaries_glassdoor['No_of_salaries']=No_of_salaries"
   ]
  },
  {
   "cell_type": "code",
   "execution_count": 140,
   "metadata": {},
   "outputs": [],
   "source": [
    "Datascience_salaries_glassdoor['Average_salary']=Average_salary"
   ]
  },
  {
   "cell_type": "code",
   "execution_count": 141,
   "metadata": {},
   "outputs": [],
   "source": [
    "Datascience_salaries_glassdoor['Min_salary']=min_sal"
   ]
  },
  {
   "cell_type": "code",
   "execution_count": 142,
   "metadata": {},
   "outputs": [],
   "source": [
    "Datascience_salaries_glassdoor['Max_salary']=max_sal"
   ]
  },
  {
   "cell_type": "code",
   "execution_count": 143,
   "metadata": {},
   "outputs": [
    {
     "data": {
      "text/html": [
       "<div>\n",
       "<style scoped>\n",
       "    .dataframe tbody tr th:only-of-type {\n",
       "        vertical-align: middle;\n",
       "    }\n",
       "\n",
       "    .dataframe tbody tr th {\n",
       "        vertical-align: top;\n",
       "    }\n",
       "\n",
       "    .dataframe thead th {\n",
       "        text-align: right;\n",
       "    }\n",
       "</style>\n",
       "<table border=\"1\" class=\"dataframe\">\n",
       "  <thead>\n",
       "    <tr style=\"text-align: right;\">\n",
       "      <th></th>\n",
       "      <th>company_name</th>\n",
       "      <th>No_of_salaries</th>\n",
       "      <th>Average_salary</th>\n",
       "      <th>Min_salary</th>\n",
       "      <th>Max_salary</th>\n",
       "    </tr>\n",
       "  </thead>\n",
       "  <tbody>\n",
       "    <tr>\n",
       "      <th>0</th>\n",
       "      <td>Tata Consultancy Services</td>\n",
       "      <td>16 salaries</td>\n",
       "      <td>₹ 6,11,228\\n/yr</td>\n",
       "      <td>₹343K</td>\n",
       "      <td>₹1,095K</td>\n",
       "    </tr>\n",
       "    <tr>\n",
       "      <th>1</th>\n",
       "      <td>Accenture</td>\n",
       "      <td>14 salaries</td>\n",
       "      <td>₹ 11,46,533\\n/yr</td>\n",
       "      <td>₹577K</td>\n",
       "      <td>₹2,213K</td>\n",
       "    </tr>\n",
       "    <tr>\n",
       "      <th>2</th>\n",
       "      <td>IBM</td>\n",
       "      <td>14 salaries</td>\n",
       "      <td>₹ 8,97,795\\n/yr</td>\n",
       "      <td>₹586K</td>\n",
       "      <td>₹2,730K</td>\n",
       "    </tr>\n",
       "    <tr>\n",
       "      <th>3</th>\n",
       "      <td>Ericsson-Worldwide</td>\n",
       "      <td>14 salaries</td>\n",
       "      <td>₹ 7,38,057\\n/yr</td>\n",
       "      <td>₹355K</td>\n",
       "      <td>₹1,613K</td>\n",
       "    </tr>\n",
       "    <tr>\n",
       "      <th>4</th>\n",
       "      <td>Delhivery</td>\n",
       "      <td>14 salaries</td>\n",
       "      <td>₹ 12,39,781\\n/yr</td>\n",
       "      <td>₹450K</td>\n",
       "      <td>₹11,622K</td>\n",
       "    </tr>\n",
       "    <tr>\n",
       "      <th>5</th>\n",
       "      <td>UnitedHealth Group</td>\n",
       "      <td>11 salaries</td>\n",
       "      <td>₹ 13,36,142\\n/yr</td>\n",
       "      <td>₹1,069K</td>\n",
       "      <td>₹1,520K</td>\n",
       "    </tr>\n",
       "    <tr>\n",
       "      <th>6</th>\n",
       "      <td>Valiance Solutions</td>\n",
       "      <td>9 salaries</td>\n",
       "      <td>₹ 8,15,192\\n/yr</td>\n",
       "      <td>₹502K</td>\n",
       "      <td>₹1,465K</td>\n",
       "    </tr>\n",
       "    <tr>\n",
       "      <th>7</th>\n",
       "      <td>ZS Associates</td>\n",
       "      <td>8 salaries</td>\n",
       "      <td>₹ 11,35,221\\n/yr</td>\n",
       "      <td>₹202K</td>\n",
       "      <td>₹1,809K</td>\n",
       "    </tr>\n",
       "    <tr>\n",
       "      <th>8</th>\n",
       "      <td>EXL Service</td>\n",
       "      <td>8 salaries</td>\n",
       "      <td>₹ 11,44,243\\n/yr</td>\n",
       "      <td>₹575K</td>\n",
       "      <td>₹1,520K</td>\n",
       "    </tr>\n",
       "    <tr>\n",
       "      <th>9</th>\n",
       "      <td>Optum Global Solutions</td>\n",
       "      <td>8 salaries</td>\n",
       "      <td>₹ 14,13,288\\n/yr</td>\n",
       "      <td>₹1,014K</td>\n",
       "      <td>₹2,149K</td>\n",
       "    </tr>\n",
       "  </tbody>\n",
       "</table>\n",
       "</div>"
      ],
      "text/plain": [
       "                company_name No_of_salaries    Average_salary Min_salary  \\\n",
       "0  Tata Consultancy Services    16 salaries   ₹ 6,11,228\\n/yr      ₹343K   \n",
       "1                  Accenture    14 salaries  ₹ 11,46,533\\n/yr      ₹577K   \n",
       "2                        IBM    14 salaries   ₹ 8,97,795\\n/yr      ₹586K   \n",
       "3         Ericsson-Worldwide    14 salaries   ₹ 7,38,057\\n/yr      ₹355K   \n",
       "4                  Delhivery    14 salaries  ₹ 12,39,781\\n/yr      ₹450K   \n",
       "5         UnitedHealth Group    11 salaries  ₹ 13,36,142\\n/yr    ₹1,069K   \n",
       "6         Valiance Solutions     9 salaries   ₹ 8,15,192\\n/yr      ₹502K   \n",
       "7              ZS Associates     8 salaries  ₹ 11,35,221\\n/yr      ₹202K   \n",
       "8                EXL Service     8 salaries  ₹ 11,44,243\\n/yr      ₹575K   \n",
       "9     Optum Global Solutions     8 salaries  ₹ 14,13,288\\n/yr    ₹1,014K   \n",
       "\n",
       "  Max_salary  \n",
       "0    ₹1,095K  \n",
       "1    ₹2,213K  \n",
       "2    ₹2,730K  \n",
       "3    ₹1,613K  \n",
       "4   ₹11,622K  \n",
       "5    ₹1,520K  \n",
       "6    ₹1,465K  \n",
       "7    ₹1,809K  \n",
       "8    ₹1,520K  \n",
       "9    ₹2,149K  "
      ]
     },
     "execution_count": 143,
     "metadata": {},
     "output_type": "execute_result"
    }
   ],
   "source": [
    "Datascience_salaries_glassdoor"
   ]
  },
  {
   "cell_type": "markdown",
   "metadata": {},
   "source": [
    "Q6 : Scrape data of first 100 sunglasses listings on flipkart.com. You have to \n",
    "scrape four attributes:"
   ]
  },
  {
   "cell_type": "code",
   "execution_count": 144,
   "metadata": {},
   "outputs": [],
   "source": [
    "#Lets connect to webdriver\n",
    "driver=webdriver.Chrome(r\"C:/chromedriver\")"
   ]
  },
  {
   "cell_type": "code",
   "execution_count": 145,
   "metadata": {},
   "outputs": [],
   "source": [
    "#Opening the homepage\n",
    "driver.get(\"https://www.flipkart.com\")"
   ]
  },
  {
   "cell_type": "code",
   "execution_count": 149,
   "metadata": {},
   "outputs": [
    {
     "data": {
      "text/plain": [
       "<selenium.webdriver.remote.webelement.WebElement (session=\"9fa421f3250f2a5b61878103bb08d80e\", element=\"6f580509-0c71-470a-958a-066b9d9c269b\")>"
      ]
     },
     "execution_count": 149,
     "metadata": {},
     "output_type": "execute_result"
    }
   ],
   "source": [
    "#finding element for  search bar by xpath\n",
    "search_ele=driver.find_element_by_xpath(\"//input[@class='_3704LK']\")\n",
    "search_ele"
   ]
  },
  {
   "cell_type": "code",
   "execution_count": 150,
   "metadata": {},
   "outputs": [],
   "source": [
    "search_ele.send_keys(\"sunglasses\")"
   ]
  },
  {
   "cell_type": "code",
   "execution_count": 151,
   "metadata": {},
   "outputs": [],
   "source": [
    "# click using xpath function\n",
    "search_button=driver.find_element_by_xpath(\"//button[@class='L0Z3Pu']\")\n",
    "search_button.click()"
   ]
  },
  {
   "cell_type": "code",
   "execution_count": 154,
   "metadata": {},
   "outputs": [],
   "source": [
    "#To find the elements, Brand,product description,price, discount%\n",
    "Brand=[]\n",
    "Product_Description=[]\n",
    "Price=[]\n",
    "Discount=[]\n"
   ]
  },
  {
   "cell_type": "code",
   "execution_count": 162,
   "metadata": {},
   "outputs": [],
   "source": [
    "#fetching urls\n",
    "url=[]\n",
    "for i in range(0,10):\n",
    "    for j in driver.find_elements_by_xpath(\"//div[@class='_2WkVRV']\"):\n",
    "        Brand.append(j.text)\n",
    "    for k in driver.find_elements_by_xpath(\"//a[@class='IRpwTa']\"):\n",
    "        Product_Description.append(k.text)    \n",
    "    for m in driver.find_elements_by_xpath(\"//div[@class='_30jeq3']\"):\n",
    "        Price.append(m.text)\n",
    "    for n in driver.find_elements_by_xpath(\"//div[@class='_3Ay6Sb']/span\"):\n",
    "         Discount.append(n.text)\n",
    "            \n",
    "search_button=driver.find_element_by_xpath(\"//a[@class='_1LKTO3']\")\n",
    "search_button.click()\n",
    "\n"
   ]
  },
  {
   "cell_type": "code",
   "execution_count": 167,
   "metadata": {},
   "outputs": [],
   "source": [
    "Brandname=Brand[:100]"
   ]
  },
  {
   "cell_type": "code",
   "execution_count": 168,
   "metadata": {},
   "outputs": [],
   "source": [
    "product_description=Product_Description[:100]"
   ]
  },
  {
   "cell_type": "code",
   "execution_count": 169,
   "metadata": {},
   "outputs": [],
   "source": [
    "price=Price[:100]"
   ]
  },
  {
   "cell_type": "code",
   "execution_count": 170,
   "metadata": {},
   "outputs": [],
   "source": [
    "discount=Discount[:100]"
   ]
  },
  {
   "cell_type": "code",
   "execution_count": 174,
   "metadata": {},
   "outputs": [],
   "source": [
    "Sunglasses=pd.DataFrame({})"
   ]
  },
  {
   "cell_type": "code",
   "execution_count": 175,
   "metadata": {},
   "outputs": [],
   "source": [
    "Sunglasses['Brand_name']=Brandname\n",
    "Sunglasses['product_description']=product_description\n",
    "Sunglasses['price']=price\n",
    "Sunglasses['discount']=discount"
   ]
  },
  {
   "cell_type": "code",
   "execution_count": 176,
   "metadata": {},
   "outputs": [
    {
     "data": {
      "text/html": [
       "<div>\n",
       "<style scoped>\n",
       "    .dataframe tbody tr th:only-of-type {\n",
       "        vertical-align: middle;\n",
       "    }\n",
       "\n",
       "    .dataframe tbody tr th {\n",
       "        vertical-align: top;\n",
       "    }\n",
       "\n",
       "    .dataframe thead th {\n",
       "        text-align: right;\n",
       "    }\n",
       "</style>\n",
       "<table border=\"1\" class=\"dataframe\">\n",
       "  <thead>\n",
       "    <tr style=\"text-align: right;\">\n",
       "      <th></th>\n",
       "      <th>Brand_name</th>\n",
       "      <th>product_description</th>\n",
       "      <th>price</th>\n",
       "      <th>discount</th>\n",
       "    </tr>\n",
       "  </thead>\n",
       "  <tbody>\n",
       "    <tr>\n",
       "      <th>0</th>\n",
       "      <td>hipe</td>\n",
       "      <td>UV Protection, Mirrored Aviator Sunglasses (Fr...</td>\n",
       "      <td>₹199</td>\n",
       "      <td>80% off</td>\n",
       "    </tr>\n",
       "    <tr>\n",
       "      <th>1</th>\n",
       "      <td>AISLIN</td>\n",
       "      <td>UV Protection, Gradient Oval Sunglasses (58)</td>\n",
       "      <td>₹500</td>\n",
       "      <td>67% off</td>\n",
       "    </tr>\n",
       "    <tr>\n",
       "      <th>2</th>\n",
       "      <td>NuVew</td>\n",
       "      <td>UV Protection, Mirrored Clubmaster Sunglasses ...</td>\n",
       "      <td>₹185</td>\n",
       "      <td>78% off</td>\n",
       "    </tr>\n",
       "    <tr>\n",
       "      <th>3</th>\n",
       "      <td>ROYAL SON</td>\n",
       "      <td>Mirrored Aviator Sunglasses (55)</td>\n",
       "      <td>₹379</td>\n",
       "      <td>74% off</td>\n",
       "    </tr>\n",
       "    <tr>\n",
       "      <th>4</th>\n",
       "      <td>Silver Kartz</td>\n",
       "      <td>UV Protection Wayfarer, Aviator Sunglasses (88)</td>\n",
       "      <td>₹279</td>\n",
       "      <td>76% off</td>\n",
       "    </tr>\n",
       "    <tr>\n",
       "      <th>...</th>\n",
       "      <td>...</td>\n",
       "      <td>...</td>\n",
       "      <td>...</td>\n",
       "      <td>...</td>\n",
       "    </tr>\n",
       "    <tr>\n",
       "      <th>95</th>\n",
       "      <td>AISLIN</td>\n",
       "      <td>UV Protection, Night Vision, Riding Glasses Wa...</td>\n",
       "      <td>₹679</td>\n",
       "      <td>72% off</td>\n",
       "    </tr>\n",
       "    <tr>\n",
       "      <th>96</th>\n",
       "      <td>elegante</td>\n",
       "      <td>UV Protection Oval Sunglasses (56)</td>\n",
       "      <td>₹349</td>\n",
       "      <td>76% off</td>\n",
       "    </tr>\n",
       "    <tr>\n",
       "      <th>97</th>\n",
       "      <td>NuVew</td>\n",
       "      <td>UV Protection Wayfarer Sunglasses (55)</td>\n",
       "      <td>₹469</td>\n",
       "      <td>71% off</td>\n",
       "    </tr>\n",
       "    <tr>\n",
       "      <th>98</th>\n",
       "      <td>Silver Kartz</td>\n",
       "      <td>UV Protection Wayfarer Sunglasses (Free Size)</td>\n",
       "      <td>₹299</td>\n",
       "      <td>75% off</td>\n",
       "    </tr>\n",
       "    <tr>\n",
       "      <th>99</th>\n",
       "      <td>ROYAL SON</td>\n",
       "      <td>UV Protection, Gradient Round Sunglasses (Free...</td>\n",
       "      <td>₹265</td>\n",
       "      <td>79% off</td>\n",
       "    </tr>\n",
       "  </tbody>\n",
       "</table>\n",
       "<p>100 rows × 4 columns</p>\n",
       "</div>"
      ],
      "text/plain": [
       "      Brand_name                                product_description price  \\\n",
       "0           hipe  UV Protection, Mirrored Aviator Sunglasses (Fr...  ₹199   \n",
       "1         AISLIN       UV Protection, Gradient Oval Sunglasses (58)  ₹500   \n",
       "2          NuVew  UV Protection, Mirrored Clubmaster Sunglasses ...  ₹185   \n",
       "3      ROYAL SON                   Mirrored Aviator Sunglasses (55)  ₹379   \n",
       "4   Silver Kartz    UV Protection Wayfarer, Aviator Sunglasses (88)  ₹279   \n",
       "..           ...                                                ...   ...   \n",
       "95        AISLIN  UV Protection, Night Vision, Riding Glasses Wa...  ₹679   \n",
       "96      elegante                 UV Protection Oval Sunglasses (56)  ₹349   \n",
       "97         NuVew             UV Protection Wayfarer Sunglasses (55)  ₹469   \n",
       "98  Silver Kartz      UV Protection Wayfarer Sunglasses (Free Size)  ₹299   \n",
       "99     ROYAL SON  UV Protection, Gradient Round Sunglasses (Free...  ₹265   \n",
       "\n",
       "   discount  \n",
       "0   80% off  \n",
       "1   67% off  \n",
       "2   78% off  \n",
       "3   74% off  \n",
       "4   76% off  \n",
       "..      ...  \n",
       "95  72% off  \n",
       "96  76% off  \n",
       "97  71% off  \n",
       "98  75% off  \n",
       "99  79% off  \n",
       "\n",
       "[100 rows x 4 columns]"
      ]
     },
     "execution_count": 176,
     "metadata": {},
     "output_type": "execute_result"
    }
   ],
   "source": [
    "Sunglasses"
   ]
  },
  {
   "cell_type": "code",
   "execution_count": null,
   "metadata": {},
   "outputs": [],
   "source": []
  }
 ],
 "metadata": {
  "kernelspec": {
   "display_name": "Python 3",
   "language": "python",
   "name": "python3"
  },
  "language_info": {
   "codemirror_mode": {
    "name": "ipython",
    "version": 3
   },
   "file_extension": ".py",
   "mimetype": "text/x-python",
   "name": "python",
   "nbconvert_exporter": "python",
   "pygments_lexer": "ipython3",
   "version": "3.8.3"
  }
 },
 "nbformat": 4,
 "nbformat_minor": 4
}
