{
 "cells": [
  {
   "cell_type": "markdown",
   "metadata": {},
   "source": [
    "Write a python program which searches all the product under a particular product vertical\n",
    "from www.amazon.in. The product verticals to be searched will be taken as input from user.\n",
    "For e.g. If user input is ‘guitar’. Then search for guitars.\"Brand Name\", \"Name of the Product\", \"Rating\", \"No. of \n",
    "Ratings\", \"Price\", \"Return/Exchange\", \"Expected Delivery\", \"Availability\", \"Other Details\" \n",
    "and “Product URL”. In case, if any of the details are missing for any of the product then \n",
    "replace it by “-“"
   ]
  },
  {
   "cell_type": "code",
   "execution_count": 5,
   "metadata": {},
   "outputs": [],
   "source": [
    "import selenium\n",
    "import pandas as pd\n",
    "from selenium import webdriver\n",
    "from selenium.common.exceptions import NoSuchElementException"
   ]
  },
  {
   "cell_type": "code",
   "execution_count": 366,
   "metadata": {},
   "outputs": [],
   "source": [
    "#Lets connect to webdriver\n",
    "driver=webdriver.Chrome(r\"C:/chromedriver\")"
   ]
  },
  {
   "cell_type": "code",
   "execution_count": 121,
   "metadata": {},
   "outputs": [],
   "source": [
    "#Opening the homepage\n",
    "driver.get(\"https://www.amazon.in/\")"
   ]
  },
  {
   "cell_type": "code",
   "execution_count": 122,
   "metadata": {},
   "outputs": [
    {
     "name": "stdout",
     "output_type": "stream",
     "text": [
      "Enter the product you want to search:phones under 20000\n"
     ]
    }
   ],
   "source": [
    "#Checking with the user to input the keywords he/she wants to search\n",
    "\n",
    "user_inp=input('Enter the product you want to search:')"
   ]
  },
  {
   "cell_type": "code",
   "execution_count": 123,
   "metadata": {},
   "outputs": [],
   "source": [
    "search_bar=driver.find_element_by_id(\"twotabsearchtextbox\")"
   ]
  },
  {
   "cell_type": "code",
   "execution_count": 124,
   "metadata": {},
   "outputs": [],
   "source": [
    "import time"
   ]
  },
  {
   "cell_type": "code",
   "execution_count": 125,
   "metadata": {},
   "outputs": [],
   "source": [
    "#clearing the searchbar if any input is already there\n",
    "search_bar.clear()\n",
    "search_bar.send_keys(user_inp)\n",
    "time.sleep(4)\n",
    "search_button=driver.find_element_by_xpath('/html/body/div[1]/header/div/div[1]/div[2]/div/form/div[3]/div/span/input')\n",
    "search_button.click()"
   ]
  },
  {
   "cell_type": "markdown",
   "metadata": {},
   "source": [
    "2.In the above question, now scrape the following details of each product listed in first 3 pages \n",
    "of your search results and save it in a dataframe and csv. In case if any product vertical has \n",
    "less than 3 pages in search results then scrape all the products available under that product \n",
    "vertical. Details to be scraped are: \"Brand Name\", \"Name of the Product\", \"Rating\", \"No. of \n",
    "Ratings\", \"Price\", \"Return/Exchange\", \"Expected Delivery\", \"Availability\", \"Other Details\" \n",
    "and “Product URL”. In case, if any of the details are missing for any of the product then \n",
    "replace it by “-“."
   ]
  },
  {
   "cell_type": "code",
   "execution_count": 126,
   "metadata": {},
   "outputs": [],
   "source": [
    "#Fetch all the urls\n",
    "Product_urls=[]\n",
    "for i in range(0,3):\n",
    "    for j in driver.find_elements_by_xpath('//a[@class=\"a-link-normal a-text-normal\"]'):\n",
    "        Product_urls.append(j.get_attribute('href'))\n",
    "    driver.find_element_by_xpath('//li[@class=\"a-last\"]').click()\n",
    "    time.sleep(2)"
   ]
  },
  {
   "cell_type": "code",
   "execution_count": 127,
   "metadata": {},
   "outputs": [
    {
     "data": {
      "text/plain": [
       "66"
      ]
     },
     "execution_count": 127,
     "metadata": {},
     "output_type": "execute_result"
    }
   ],
   "source": [
    "len(Product_urls)"
   ]
  },
  {
   "cell_type": "code",
   "execution_count": 134,
   "metadata": {},
   "outputs": [],
   "source": [
    "Product_name=[]\n",
    "Brand_name=[]\n",
    "Ratings=[]\n",
    "No_Ratings=[]\n",
    "Price=[]\n",
    "Expected_delivery=[]\n",
    "Return_Exchange=[]\n",
    "Availability=[]\n",
    "Other_details=[]\n",
    "for i in Product_urls:\n",
    "    driver.get(i)\n",
    "    time.sleep(2)\n",
    "    try:\n",
    "        Product_name.append(driver.find_element_by_xpath('//span[@class=\"a-size-large product-title-word-break\"]').text)\n",
    "    except NoSuchElementException:\n",
    "        Product_name.append(\"-\")\n",
    "        \n",
    "    try:\n",
    "        Brand_name.append(driver.find_element_by_id('bylineInfo').text)\n",
    "    except NoSuchElementException:\n",
    "        brand_name.append(\"-\")\n",
    "        \n",
    "    try:\n",
    "        Ratings.append(driver.find_element_by_xpath('//span[@data-hook=\"rating-out-of-text\"]').text)\n",
    "    except NoSuchElementException:\n",
    "        Ratings.append(\"-\")\n",
    "        \n",
    "    try:\n",
    "        No_Ratings.append(driver.find_element_by_id('acrCustomerReviewText').text)\n",
    "    except NoSuchElementException:\n",
    "        No_Ratings.append(\"-\")\n",
    "    try:\n",
    "        Price.append(driver.find_element_by_xpath('//span[@class=\"a-size-medium a-color-price priceBlockDealPriceString\"]').text)\n",
    "    except NoSuchElementException:\n",
    "        Price.append(\"-\")\n",
    "        \n",
    "    try:\n",
    "        Expected_delivery.append(driver.find_element_by_xpath('//div[@class=\"a-section a-spacing-mini\"]/b').text)\n",
    "    except NoSuchElementException:\n",
    "        Expected_delivery.append(\"-\")\n",
    "        \n",
    "    try:\n",
    "        Return_Exchange.append(driver.find_element_by_xpath('//a[@class=\"a-size-small a-link-normal a-text-normal\"]').text)\n",
    "    except NoSuchElementException:\n",
    "        Return_Exchange.append(\"-\")\n",
    "        \n",
    "    try:\n",
    "        Availability.append(driver.find_element_by_xpath('//span[@class=\"a-size-medium a-color-success\"]').text)\n",
    "    except NoSuchElementException:\n",
    "        Availability.append(\"-\")\n",
    "        \n",
    "    try:\n",
    "        Other_details.append(driver.find_element_by_id('feature-bullets').text)\n",
    "    except NoSuchElementException:\n",
    "        Other_details.append(\"-\")\n",
    "        \n",
    "        "
   ]
  },
  {
   "cell_type": "code",
   "execution_count": 135,
   "metadata": {},
   "outputs": [
    {
     "data": {
      "text/plain": [
       "['Samsung Galaxy M42 5G (Prism Dot Black, 6GB RAM, 128GB Storage)',\n",
       " 'Samsung Galaxy M31 (Ocean Blue, 6GB RAM, 128GB Storage)',\n",
       " 'Samsung Galaxy M31 (Ocean Blue, 6GB RAM, 128GB Storage)',\n",
       " 'Redmi 9 (Sky Blue, 4GB RAM, 64GB Storage)| 5000 mAh| 2.3GHz Mediatek Helio G35 Octa core Processor',\n",
       " 'Redmi 9A (Nature Green, 2GB RAM, 32GB Storage) | 2GHz Octa-core Helio G25 Processor | 5000 mAh Battery',\n",
       " 'Samsung Galaxy M31 (Space Black, 6GB RAM, 128GB Storage)',\n",
       " 'Panasonic Eluga i7 (2GB RAM, 16GB Storage, Finger Print Sensor, 4000mAh Battery) (Black)',\n",
       " 'Oppo A31 (Mystery Black, 6GB RAM, 128GB Storage) with No Cost EMI/Additional Exchange Offers',\n",
       " 'Samsung Galaxy M31s (Mirage Blue, 6GB RAM, 128GB Storage)',\n",
       " 'Redmi 9 Power (Mighty Black, 6GB RAM, 128GB Storage) - 6000mAh Battery |FHD+ Screen| 48MP Quad Camera | Snapdragon 662 Processor',\n",
       " 'Oppo F19 (Prism Black, 6GB RAM, 128GB Storage) with Free 12 Months Damage Protection',\n",
       " 'OPPO F19 Pro (Fluid Black, 8GB RAM, 128GB Storage) with No Cost EMI/Additional Exchange Offers',\n",
       " 'Oppo A31 (Fantasy White, 6GB RAM, 128GB Storage) with No Cost EMI/Additional Exchange Offers',\n",
       " 'Redmi Note 9 (Pebble Grey, 4GB RAM 64GB Storage) - 48MP Quad Camera & Full HD+ Display',\n",
       " 'Samsung Galaxy M21 (Midnight Blue, 4GB RAM, 64GB Storage)',\n",
       " 'Redmi 9A (Nature Green, 3GB Ram, 32GB Storage) | 2GHz Octa-core Helio G25 Processor',\n",
       " 'Redmi 9 Prime (Sunrise Flare, 4GB RAM, 64GB Storage)- Full HD+ Display & AI Quad Camera',\n",
       " 'Redmi 9 (Sporty Orange, 4GB RAM, 128GB Storage) | 5000 mAh| 2.3GHz Mediatek Helio G35 Octa core Processor',\n",
       " 'Redmi 9A(Midnight Black 3GB RAM 32GB Storage) | 2GHz Octa-core Helio G25 Processor | 5000 mAh Battery',\n",
       " 'Redmi Note 10 (Shadow Black, 6GB RAM, 128GB Storage)',\n",
       " 'OPPO F19 Pro+ 5G (Fluid Black, 8GB RAM, 128GB Storage) with No Cost EMI/Additional Exchange Offers',\n",
       " 'OPPO A74 5G (Fantastic Purple, 6GB RAM, 128GB Storage)',\n",
       " 'Samsung Galaxy M42 5G (Prism Dot Black, 8GB RAM, 128GB Storage)',\n",
       " 'OPPO F19 Pro+ 5G (Space Silver, 8GB RAM, 128GB Storage) with No Cost EMI/Additional Exchange Offers',\n",
       " 'Samsung Galaxy M12 (Blue,6GB RAM, 128GB Storage) 6000 mAh with 8nm Processor | True 48 MP Quad Camera | 90Hz Refresh Rate',\n",
       " 'Redmi 9A (Sea Blue 3GB RAM 32GB Storage)| 2GHz Octa-core Helio G25 Processor | 5000 mAh Battery',\n",
       " 'Samsung Galaxy M12 (Blue,4GB RAM, 64GB Storage) 6000 mAh with 8nm Processor | True 48 MP Quad Camera | 90Hz Refresh Rate',\n",
       " 'Oppo F17 (Navy Blue, 6GB RAM, 128GB Storage) with No Cost EMI/Additional Exchange Offers',\n",
       " 'Samsung Galaxy M21 (Raven Black, 4GB RAM, 64GB Storage)',\n",
       " 'Samsung Galaxy M02 (Blue,3GB RAM, 32GB Storage)',\n",
       " 'Redmi 9 (Carbon Black, 4GB RAM, 64GB Storage) | 5000 mAh| 2.3GHz Mediatek Helio G35 Octa core Processor',\n",
       " 'Samsung Galaxy M12 (White,6GB RAM, 128GB Storage) 6000 mAh with 8nm Processor | True 48 MP Quad Camera | 90Hz Refresh Rate',\n",
       " 'OPPO A74 5G (Fluid Black, 6GB RAM, 128GB Storage)',\n",
       " 'TECNO Spark 7 (Spruce Green, 3GB RAM, 64 GB Storage) - 6000mAh Battery|16 MP Dual Camera| 6.52” Dot Notch Display',\n",
       " 'Samsung Galaxy M12 (Black,6GB RAM, 128GB Storage) 6000 mAh with 8nm Processor | True 48 MP Quad Camera | 90Hz Refresh Rate',\n",
       " 'TECNO Spark 7 (Spruce Green, 3GB RAM, 64 GB Storage) - 6000mAh Battery|16 MP Dual Camera| 6.52” Dot Notch Display',\n",
       " 'Redmi Note 10 (Aqua Green, 6GB RAM, 128GB Storage) - Amoled Dot Display | 48MP Sony Sensor IMX582 | Snapdragon 678 Processor',\n",
       " 'Redmi 9 Power (Blazing Blue, 4GB RAM, 64GB Storage) - 6000mAh Battery |FHD+ Screen| 48MP Quad Camera',\n",
       " 'Vivo Y51A (Titanium Sapphire, 8GB, 128GB Storage) with No Cost EMI/Additional Exchange Offers',\n",
       " 'Vivo Y31 (Ocean Blue, 6GB, 128GB Storage) with No Cost EMI/Additional Exchange Offers',\n",
       " 'itel A48 (Gradation Green, 2GB RAM, 32GB Storage)',\n",
       " 'Micromax X741 (Grey Ultra Bright LED Light, 1750mAh)',\n",
       " 'Samsung Galaxy M12 (Blue,6GB RAM, 128GB Storage) 6000 mAh with 8nm Processor | True 48 MP Quad Camera | 90Hz Refresh Rate',\n",
       " 'Mi 11X Pro 5G (Lunar White, 8GB RAM, 128GB Storage) | Snapdragon 888 | 108MP Camera | No Cost EMI',\n",
       " 'Samsung Galaxy M42 5G (Prism Dot Gray, 6GB RAM, 128GB Storage)',\n",
       " 'Samsung Galaxy M12 (Blue,4GB RAM, 64GB Storage) 6000 mAh with 8nm Processor | True 48 MP Quad Camera | 90Hz Refresh Rate',\n",
       " 'Redmi Note 10 (Shadow Black, 4GB RAM, 64GB Storage) - Amoled Dot Display | 48MP Sony Sensor IMX582 | Snapdragon 678 Processor',\n",
       " 'Oppo A54 (Moonlight Gold, 4GB RAM, 128GB Storage) with No Cost EMI/Additional Exchange Offers, Large',\n",
       " 'Nokia C3 Android 10 Smartphone with 2GB RAM 16GB Storage, All-Day Battery and Fingerprint Sensor – Sand',\n",
       " 'Oppo A54 (Crystal Black, 4GB RAM, 64GB Storage) with No Cost EMI/Additional Exchange Offers, Large',\n",
       " 'Samsung Galaxy M11 (Metallic Blue, 4GB RAM, 64GB Storage) with No Cost EMI/Additional Exchange Offers',\n",
       " 'Redmi Note 9 Pro (Interstellar Black, 4GB RAM, 64GB Storage)- Latest 8nm Snapdragon 720G & Alexa Hands-Free',\n",
       " 'Redmi 9 Prime (Matte Black, 4GB RAM, 64GB Storage) - Full HD+ Display & AI Quad Camera',\n",
       " 'Panasonic Eluga I6 (Black, 2GB Ram, 16GB Storage) - 3 Month No Cost EMI',\n",
       " 'Mi 11X Pro 5G (Cosmic Black, 8GB RAM, 128GB Storage) | Snapdragon 888 | 108MP Camera | No Cost EMI',\n",
       " 'Oppo A54 (Moonlight Gold, 4GB RAM, 128GB Storage) with No Cost EMI/Additional Exchange Offers, Large',\n",
       " 'Samsung Galaxy M02 (Gray,2GB RAM, 32GB Storage)',\n",
       " 'OPPO A31 (Lake Green, 4GB RAM, 64GB Storage) with No Cost EMI/Additional Exchange Offers',\n",
       " 'Oppo A54 (Crystal Black, 4GB RAM, 128GB Storage) with No Cost EMI/Additional Exchange Offers',\n",
       " 'KECHAODA K33 Slim Card Size Dual Sim Phone with External Memory Slot 1.44 inch Display(Gold)',\n",
       " 'Redmi 9A (Midnight Black 2GB RAM 32GB Storage) | 2GHz Octa-core Helio G25 Processor | 5000 mAh Battery',\n",
       " 'Redmi 9 (Sporty Orange, 4GB RAM, 64GB Storage) | 5000 mAh| 2.3GHz Mediatek Helio G35 Octa core Processor',\n",
       " 'Redmi 9A (Sea Blue 2GB RAM 32GB Storage) | 2GHz Octa-core Helio G25 Processor | 5000 mAh Battery',\n",
       " 'Samsung Galaxy M11 (Black, 4GB RAM, 64GB Storage) with No Cost EMI/Additional Exchange Offers',\n",
       " 'Tecno Spark 7 (Magnet Black, 3GB RAM, 64 GB Storage) - 6000mAh Battery|16 MP Dual Camera| 6.52” Dot Notch Display',\n",
       " 'Vivo Y1s 32 GB, 2 GB RAM, Olive Black, Smartphone']"
      ]
     },
     "execution_count": 135,
     "metadata": {},
     "output_type": "execute_result"
    }
   ],
   "source": [
    "Product_name"
   ]
  },
  {
   "cell_type": "code",
   "execution_count": 136,
   "metadata": {},
   "outputs": [
    {
     "data": {
      "text/plain": [
       "['Visit the Samsung Store',\n",
       " 'Visit the Samsung Store',\n",
       " 'Visit the Samsung Store',\n",
       " 'Brand: Redmi',\n",
       " 'Brand: Redmi',\n",
       " 'Visit the Samsung Store',\n",
       " 'Visit the Panasonic Store',\n",
       " 'Visit the Oppo Store',\n",
       " 'Visit the Samsung Store',\n",
       " 'Brand: Redmi',\n",
       " 'Visit the Oppo Store',\n",
       " 'Visit the Oppo Store',\n",
       " 'Visit the Oppo Store',\n",
       " 'Brand: Redmi',\n",
       " 'Visit the Samsung Store',\n",
       " 'Brand: Redmi',\n",
       " 'Brand: Redmi',\n",
       " 'Brand: Redmi',\n",
       " 'Brand: Redmi',\n",
       " 'Brand: Redmi',\n",
       " 'Visit the Oppo Store',\n",
       " 'Visit the Oppo Store',\n",
       " 'Visit the Samsung Store',\n",
       " 'Visit the Oppo Store',\n",
       " 'Visit the Samsung Store',\n",
       " 'Brand: Redmi',\n",
       " 'Visit the Samsung Store',\n",
       " 'Visit the Oppo Store',\n",
       " 'Visit the Samsung Store',\n",
       " 'Visit the Samsung Store',\n",
       " 'Brand: Redmi',\n",
       " 'Visit the Samsung Store',\n",
       " 'Visit the Oppo Store',\n",
       " 'Visit the Tecno Store',\n",
       " 'Visit the Samsung Store',\n",
       " 'Visit the Tecno Store',\n",
       " 'Brand: Redmi',\n",
       " 'Brand: Redmi',\n",
       " 'Visit the Vivo Store',\n",
       " 'Visit the Vivo Store',\n",
       " 'Brand: itel',\n",
       " 'Visit the Micromax Store',\n",
       " 'Visit the Samsung Store',\n",
       " 'Brand: MI',\n",
       " 'Visit the Samsung Store',\n",
       " 'Visit the Samsung Store',\n",
       " 'Brand: Redmi',\n",
       " 'Visit the Oppo Store',\n",
       " 'Visit the Nokia Store',\n",
       " 'Visit the Oppo Store',\n",
       " 'Visit the Samsung Store',\n",
       " 'Brand: Redmi',\n",
       " 'Brand: Redmi',\n",
       " 'Visit the Panasonic Store',\n",
       " 'Brand: MI',\n",
       " 'Visit the Oppo Store',\n",
       " 'Visit the Samsung Store',\n",
       " 'Visit the Oppo Store',\n",
       " 'Visit the Oppo Store',\n",
       " 'Brand: KECHAODA',\n",
       " 'Brand: Redmi',\n",
       " 'Brand: Redmi',\n",
       " 'Brand: Redmi',\n",
       " 'Visit the Samsung Store',\n",
       " 'Visit the Tecno Store',\n",
       " 'Brand: Generic']"
      ]
     },
     "execution_count": 136,
     "metadata": {},
     "output_type": "execute_result"
    }
   ],
   "source": [
    "Brand_name"
   ]
  },
  {
   "cell_type": "code",
   "execution_count": 137,
   "metadata": {},
   "outputs": [
    {
     "data": {
      "text/plain": [
       "['4.2 out of 5',\n",
       " '4.3 out of 5',\n",
       " '4.3 out of 5',\n",
       " '4.2 out of 5',\n",
       " '4.2 out of 5',\n",
       " '4.3 out of 5',\n",
       " '3 out of 5',\n",
       " '4.2 out of 5',\n",
       " '4.3 out of 5',\n",
       " '4.2 out of 5',\n",
       " '4.1 out of 5',\n",
       " '4.1 out of 5',\n",
       " '4.2 out of 5',\n",
       " '4.3 out of 5',\n",
       " '4.2 out of 5',\n",
       " '4.2 out of 5',\n",
       " '4.3 out of 5',\n",
       " '4.2 out of 5',\n",
       " '4.2 out of 5',\n",
       " '4 out of 5',\n",
       " '4.2 out of 5',\n",
       " '3.9 out of 5',\n",
       " '4.2 out of 5',\n",
       " '4.2 out of 5',\n",
       " '4 out of 5',\n",
       " '4.2 out of 5',\n",
       " '4 out of 5',\n",
       " '4 out of 5',\n",
       " '4.2 out of 5',\n",
       " '3.8 out of 5',\n",
       " '4.2 out of 5',\n",
       " '4 out of 5',\n",
       " '3.9 out of 5',\n",
       " '3.9 out of 5',\n",
       " '4 out of 5',\n",
       " '3.9 out of 5',\n",
       " '4 out of 5',\n",
       " '4.2 out of 5',\n",
       " '4 out of 5',\n",
       " '4.1 out of 5',\n",
       " '3.8 out of 5',\n",
       " '3.8 out of 5',\n",
       " '4 out of 5',\n",
       " '4 out of 5',\n",
       " '4.2 out of 5',\n",
       " '4 out of 5',\n",
       " '4 out of 5',\n",
       " '3.4 out of 5',\n",
       " '3.5 out of 5',\n",
       " '3.4 out of 5',\n",
       " '4.2 out of 5',\n",
       " '4.2 out of 5',\n",
       " '4.3 out of 5',\n",
       " '3.4 out of 5',\n",
       " '4 out of 5',\n",
       " '3.4 out of 5',\n",
       " '3.8 out of 5',\n",
       " '4.2 out of 5',\n",
       " '3.4 out of 5',\n",
       " '3.8 out of 5',\n",
       " '4.2 out of 5',\n",
       " '4.2 out of 5',\n",
       " '4.2 out of 5',\n",
       " '4.1 out of 5',\n",
       " '3.9 out of 5',\n",
       " '-']"
      ]
     },
     "execution_count": 137,
     "metadata": {},
     "output_type": "execute_result"
    }
   ],
   "source": [
    "Ratings"
   ]
  },
  {
   "cell_type": "code",
   "execution_count": 138,
   "metadata": {},
   "outputs": [
    {
     "data": {
      "text/plain": [
       "['741 ratings',\n",
       " '182,526 ratings',\n",
       " '182,526 ratings',\n",
       " '37,547 ratings',\n",
       " '42,167 ratings',\n",
       " '182,526 ratings',\n",
       " '3,176 ratings',\n",
       " '11,830 ratings',\n",
       " '65,012 ratings',\n",
       " '28,064 ratings',\n",
       " '164 ratings',\n",
       " '220 ratings',\n",
       " '11,830 ratings',\n",
       " '58,196 ratings',\n",
       " '130,582 ratings',\n",
       " '42,167 ratings',\n",
       " '38,935 ratings',\n",
       " '37,547 ratings',\n",
       " '42,167 ratings',\n",
       " '20,616 ratings',\n",
       " '1,265 ratings',\n",
       " '318 ratings',\n",
       " '741 ratings',\n",
       " '1,265 ratings',\n",
       " '12,988 ratings',\n",
       " '42,167 ratings',\n",
       " '12,988 ratings',\n",
       " '2,448 ratings',\n",
       " '130,582 ratings',\n",
       " '7,582 ratings',\n",
       " '37,547 ratings',\n",
       " '12,988 ratings',\n",
       " '318 ratings',\n",
       " '159 ratings',\n",
       " '12,988 ratings',\n",
       " '159 ratings',\n",
       " '20,616 ratings',\n",
       " '28,064 ratings',\n",
       " '346 ratings',\n",
       " '307 ratings',\n",
       " '257 ratings',\n",
       " '2,413 ratings',\n",
       " '12,988 ratings',\n",
       " '82 ratings',\n",
       " '741 ratings',\n",
       " '12,988 ratings',\n",
       " '20,616 ratings',\n",
       " '7 ratings',\n",
       " '494 ratings',\n",
       " '7 ratings',\n",
       " '1,317 ratings',\n",
       " '19,918 ratings',\n",
       " '38,935 ratings',\n",
       " '1,029 ratings',\n",
       " '82 ratings',\n",
       " '7 ratings',\n",
       " '7,582 ratings',\n",
       " '11,830 ratings',\n",
       " '7 ratings',\n",
       " '160 ratings',\n",
       " '42,167 ratings',\n",
       " '37,547 ratings',\n",
       " '42,167 ratings',\n",
       " '1,274 ratings',\n",
       " '159 ratings',\n",
       " '-']"
      ]
     },
     "execution_count": 138,
     "metadata": {},
     "output_type": "execute_result"
    }
   ],
   "source": [
    "No_Ratings"
   ]
  },
  {
   "cell_type": "code",
   "execution_count": 139,
   "metadata": {},
   "outputs": [
    {
     "data": {
      "text/plain": [
       "['₹ 21,999.00',\n",
       " '₹ 14,999.00',\n",
       " '₹ 14,999.00',\n",
       " '₹ 8,799.00',\n",
       " '₹ 6,999.00',\n",
       " '₹ 14,999.00',\n",
       " '₹ 5,000.00',\n",
       " '₹ 10,990.00',\n",
       " '₹ 16,999.00',\n",
       " '₹ 12,999.00',\n",
       " '₹ 18,990.00',\n",
       " '₹ 21,490.00',\n",
       " '₹ 10,990.00',\n",
       " '₹ 10,999.00',\n",
       " '₹ 12,499.00',\n",
       " '-',\n",
       " '₹ 9,999.00',\n",
       " '₹ 9,999.00',\n",
       " '-',\n",
       " '-',\n",
       " '₹ 25,990.00',\n",
       " '₹ 17,990.00',\n",
       " '-',\n",
       " '₹ 25,990.00',\n",
       " '₹ 12,499.00',\n",
       " '₹ 7,499.00',\n",
       " '₹ 10,999.00',\n",
       " '₹ 16,990.00',\n",
       " '₹ 12,499.00',\n",
       " '₹ 7,999.00',\n",
       " '₹ 8,799.00',\n",
       " '₹ 12,499.00',\n",
       " '₹ 17,990.00',\n",
       " '₹ 8,499.00',\n",
       " '₹ 12,499.00',\n",
       " '₹ 8,499.00',\n",
       " '-',\n",
       " '₹ 9,999.00',\n",
       " '₹ 17,990.00',\n",
       " '₹ 16,490.00',\n",
       " '-',\n",
       " '-',\n",
       " '₹ 12,499.00',\n",
       " '-',\n",
       " '₹ 21,999.00',\n",
       " '₹ 10,999.00',\n",
       " '₹ 12,499.00',\n",
       " '-',\n",
       " '-',\n",
       " '-',\n",
       " '-',\n",
       " '₹ 12,999.00',\n",
       " '₹ 9,999.00',\n",
       " '-',\n",
       " '-',\n",
       " '-',\n",
       " '₹ 7,499.00',\n",
       " '₹ 9,990.00',\n",
       " '-',\n",
       " '-',\n",
       " '-',\n",
       " '₹ 8,799.00',\n",
       " '-',\n",
       " '-',\n",
       " '₹ 8,499.00',\n",
       " '-']"
      ]
     },
     "execution_count": 139,
     "metadata": {},
     "output_type": "execute_result"
    }
   ],
   "source": [
    "Price"
   ]
  },
  {
   "cell_type": "code",
   "execution_count": 140,
   "metadata": {},
   "outputs": [
    {
     "data": {
      "text/plain": [
       "['Sunday, May 30',\n",
       " 'Sunday, May 30',\n",
       " 'Sunday, May 30',\n",
       " 'Sunday, May 30',\n",
       " 'Sunday, May 30',\n",
       " 'Monday, May 31',\n",
       " 'Sunday, May 30',\n",
       " 'June 2 - 3',\n",
       " 'June 3 - 5',\n",
       " 'Sunday, May 30',\n",
       " 'Sunday, May 30',\n",
       " 'Sunday, May 30',\n",
       " 'Tuesday, June 1',\n",
       " 'Sunday, May 30',\n",
       " 'Sunday, May 30',\n",
       " 'Sunday, May 30',\n",
       " 'Sunday, May 30',\n",
       " 'Sunday, May 30',\n",
       " 'Sunday, May 30',\n",
       " 'Sunday, May 30',\n",
       " 'Sunday, May 30',\n",
       " 'Sunday, May 30',\n",
       " 'Sunday, May 30',\n",
       " 'Sunday, May 30',\n",
       " 'Sunday, May 30',\n",
       " 'Monday, May 31',\n",
       " 'May 29 - June 6',\n",
       " 'Sunday, May 30',\n",
       " 'Sunday, May 30',\n",
       " 'Sunday, May 30',\n",
       " 'Sunday, May 30',\n",
       " 'Tuesday, June 1',\n",
       " 'May 31 - June 2',\n",
       " 'Sunday, May 30',\n",
       " 'Tuesday, June 1',\n",
       " 'Sunday, May 30',\n",
       " 'Sunday, May 30',\n",
       " 'Sunday, May 30',\n",
       " 'Sunday, May 30',\n",
       " 'Sunday, May 30',\n",
       " 'Tuesday, June 1',\n",
       " 'Tuesday, June 1',\n",
       " 'Sunday, May 30',\n",
       " 'Sunday, May 30',\n",
       " 'Sunday, May 30',\n",
       " 'May 29 - June 6',\n",
       " 'Sunday, May 30',\n",
       " 'Sunday, May 30',\n",
       " 'Sunday, May 30',\n",
       " 'Sunday, May 30',\n",
       " 'Sunday, May 30',\n",
       " 'Sunday, May 30',\n",
       " 'Monday, May 31',\n",
       " '-',\n",
       " 'Sunday, May 30',\n",
       " 'Sunday, May 30',\n",
       " 'Sunday, May 30',\n",
       " 'Sunday, May 30',\n",
       " 'Sunday, May 30',\n",
       " 'Sunday, May 30',\n",
       " 'Sunday, May 30',\n",
       " 'Sunday, May 30',\n",
       " 'Sunday, May 30',\n",
       " 'Sunday, May 30',\n",
       " 'Sunday, May 30',\n",
       " 'June 4 - 7']"
      ]
     },
     "execution_count": 140,
     "metadata": {},
     "output_type": "execute_result"
    }
   ],
   "source": [
    "Expected_delivery"
   ]
  },
  {
   "cell_type": "code",
   "execution_count": 141,
   "metadata": {},
   "outputs": [
    {
     "data": {
      "text/plain": [
       "['7 Days Replacement',\n",
       " '7 Days Replacement',\n",
       " '7 Days Replacement',\n",
       " '7 Days Replacement',\n",
       " '7 Days Replacement',\n",
       " '7 Days Replacement',\n",
       " '7 Days Replacement',\n",
       " '7 Days Replacement',\n",
       " '7 Days Replacement',\n",
       " '7 Days Replacement',\n",
       " '7 Days Replacement',\n",
       " '7 Days Replacement',\n",
       " '7 Days Replacement',\n",
       " '7 Days Replacement',\n",
       " '7 Days Replacement',\n",
       " '7 Days Replacement',\n",
       " '7 Days Replacement',\n",
       " '7 Days Replacement',\n",
       " '7 Days Replacement',\n",
       " '7 Days Replacement',\n",
       " '7 Days Replacement',\n",
       " '7 Days Replacement',\n",
       " '7 Days Replacement',\n",
       " '7 Days Replacement',\n",
       " '7 Days Replacement',\n",
       " '7 Days Replacement',\n",
       " '7 Days Replacement',\n",
       " '7 Days Replacement',\n",
       " '7 Days Replacement',\n",
       " '7 Days Replacement',\n",
       " '7 Days Replacement',\n",
       " '7 Days Replacement',\n",
       " '7 Days Replacement',\n",
       " '7 Days Replacement',\n",
       " '7 Days Replacement',\n",
       " '7 Days Replacement',\n",
       " '7 Days Replacement',\n",
       " '7 Days Replacement',\n",
       " '7 Days Replacement',\n",
       " '7 Days Replacement',\n",
       " '7 Days Replacement',\n",
       " '7 Days Replacement',\n",
       " '7 Days Replacement',\n",
       " '7 Days Replacement',\n",
       " '7 Days Replacement',\n",
       " '7 Days Replacement',\n",
       " '7 Days Replacement',\n",
       " '7 Days Replacement',\n",
       " '7 Days Replacement',\n",
       " '7 Days Replacement',\n",
       " '7 Days Replacement',\n",
       " '7 Days Replacement',\n",
       " '7 Days Replacement',\n",
       " '7 Days Replacement',\n",
       " '7 Days Replacement',\n",
       " '7 Days Replacement',\n",
       " '7 Days Replacement',\n",
       " '7 Days Replacement',\n",
       " '7 Days Replacement',\n",
       " '7 Days Replacement',\n",
       " '7 Days Replacement',\n",
       " '7 Days Replacement',\n",
       " '7 Days Replacement',\n",
       " '7 Days Replacement',\n",
       " '7 Days Replacement',\n",
       " '7 Days Replacement']"
      ]
     },
     "execution_count": 141,
     "metadata": {},
     "output_type": "execute_result"
    }
   ],
   "source": [
    "Return_Exchange"
   ]
  },
  {
   "cell_type": "code",
   "execution_count": 142,
   "metadata": {},
   "outputs": [
    {
     "data": {
      "text/plain": [
       "['In stock.',\n",
       " 'In stock.',\n",
       " 'In stock.',\n",
       " 'In stock.',\n",
       " 'In stock.',\n",
       " 'Only 2 left in stock.',\n",
       " 'In stock.',\n",
       " '-',\n",
       " '-',\n",
       " 'In stock.',\n",
       " 'In stock.',\n",
       " 'In stock.',\n",
       " 'In stock.',\n",
       " 'In stock.',\n",
       " 'In stock.',\n",
       " 'In stock.',\n",
       " 'In stock.',\n",
       " 'In stock.',\n",
       " 'In stock.',\n",
       " 'In stock.',\n",
       " 'In stock.',\n",
       " 'In stock.',\n",
       " 'In stock.',\n",
       " 'In stock.',\n",
       " 'In stock.',\n",
       " 'In stock.',\n",
       " 'In stock.',\n",
       " 'In stock.',\n",
       " 'In stock.',\n",
       " 'In stock.',\n",
       " 'In stock.',\n",
       " 'In stock.',\n",
       " '-',\n",
       " 'In stock.',\n",
       " 'In stock.',\n",
       " 'In stock.',\n",
       " 'In stock.',\n",
       " 'In stock.',\n",
       " 'In stock.',\n",
       " 'In stock.',\n",
       " 'In stock.',\n",
       " 'In stock.',\n",
       " 'In stock.',\n",
       " 'In stock.',\n",
       " 'In stock.',\n",
       " 'In stock.',\n",
       " 'In stock.',\n",
       " 'In stock.',\n",
       " 'In stock.',\n",
       " 'In stock.',\n",
       " 'In stock.',\n",
       " 'In stock.',\n",
       " 'In stock.',\n",
       " '',\n",
       " 'In stock.',\n",
       " 'In stock.',\n",
       " 'In stock.',\n",
       " 'In stock.',\n",
       " 'In stock.',\n",
       " 'In stock.',\n",
       " 'In stock.',\n",
       " 'In stock.',\n",
       " 'In stock.',\n",
       " 'In stock.',\n",
       " 'In stock.',\n",
       " '-']"
      ]
     },
     "execution_count": 142,
     "metadata": {},
     "output_type": "execute_result"
    }
   ],
   "source": [
    "Availability"
   ]
  },
  {
   "cell_type": "code",
   "execution_count": 143,
   "metadata": {},
   "outputs": [
    {
     "data": {
      "text/plain": [
       "['About this item\\n48MP+8MP+5MP+5MP Quad camera setup-48MP (F 1.8) main camera + 8MP (F2.2) Ultra wide camera+ 5MP (F2.4) depth camera + 5MP (2.4) Macro Camera| 20MP (F2.2) front camera\\n16.77 centimeters (6.6-inch) Super AMOLED - infinity U-cut display, HD+ resolution with 720 x 1600 pixels resolution, 265 PPI with 16M colours\\nMemory, Storage & SIM: 6GB RAM | 128GB internal memory expandable up to 1TB| SIM 1 + Hybrid (SIM or MicroSD) Nano Sim\\nOneUI 3.1 | Android 11 operating system with Qualcomm Snapdragon 750G octa core (2x2.2 GHz Cortex A77, 6x1.8 GHz Cortex A55) 5G processor, protected by Knox security\\n5000mAH lithium-ion battery, 1 year manufacturer warranty for device and 6 months manufacturer warranty for in-box accessories including batteries from the date of purchase\\n› See more product details',\n",
       " 'About this item\\nQuad Camera Setup - 64MP (F1.8) Main Camera +8MP (F2.2) Ultra Wide Camera +5MP(F2.2) Depth Camera +5MP(F2.4) Macro Camera and 32MP (F2.0) front facing Camera\\n6.4-inch(16.21 centimeters) Super Amoled - Infinity U Cut Display , FHD+ Resolution (2340 x 1080) , 404 ppi pixel density and 16M color support\\nAndroid v10.0 operating system with 2.3GHz + 1.7GHz Exynos 9611 Octa core processor , 6GB RAM, 128GB internal memory expandable up to 512GB and dual SIM\\n6000 mAh Battery\\n1 year manufacturer warranty for device and 6 months manufacturer warranty for in-box accessories including batteries from the date of purchase\\nPlease contact Samsung helpline number 1800 407 267864 for any assistance related to device\\n› See more product details',\n",
       " 'About this item\\nQuad Camera Setup - 64MP (F1.8) Main Camera +8MP (F2.2) Ultra Wide Camera +5MP(F2.2) Depth Camera +5MP(F2.4) Macro Camera and 32MP (F2.0) front facing Camera\\n6.4-inch(16.21 centimeters) Super Amoled - Infinity U Cut Display , FHD+ Resolution (2340 x 1080) , 404 ppi pixel density and 16M color support\\nAndroid v10.0 operating system with 2.3GHz + 1.7GHz Exynos 9611 Octa core processor , 6GB RAM, 128GB internal memory expandable up to 512GB and dual SIM\\n6000 mAh Battery\\n1 year manufacturer warranty for device and 6 months manufacturer warranty for in-box accessories including batteries from the date of purchase\\nPlease contact Samsung helpline number 1800 407 267864 for any assistance related to device\\n› See more product details',\n",
       " 'About this item\\n13+2MP Rear camera with AI Portrait, AI scene recognition, HDR, Pro mode | 5MP front facing camera\\n16.58 centimeters (6.53-inch) HD+ multi-touch capacitive touchscreen with 1600 x 720 pixels resolution, 268 ppi pixel density, 20:9 aspect ratio\\nMemory, Storage & SIM: 4GB RAM | 64GB storage expandable up to 512GB| Dual SIM with dual standby (4G+4G)\\nAndroid v10 operating system with 2.3GHz Mediatek Helio G35 octa core processor\\n5000mAH lithium-polymer battery with 10W wired charger in-box\\n1 year manufacturer warranty for device and 6 months manufacturer warranty for in-box accessories including batteries from the date of purchase\\nBox also includes: Power adapter, USB cable, SIM eject tool, Warranty card, User guide\\n› See more product details',\n",
       " 'About this item\\nCountry Of Origin - India\\n13MP rear camera with AI portrait, AI scene recognition, HDR, pro mode | 5MP front camera. Hybrid Sim Slot : Yes\\n16.58 centimeters (6.53 inch) HD+ multi-touch capacitive touchscreen with 1600 x 720 pixels resolution, 268 ppi pixel density and 20:9 aspect ratio\\nMemory, Storage & SIM: 2GB RAM, 32GB internal memory expandable up to 512GB | Dual SIM (nano+nano) + Dedicated SD card slot\\nAndroid v10 operating system with upto 2.0GHz clock speed Mediatek Helio G25 octa core processor\\n5000mAH lithium-polymer large battery with 10W wired charger in-box\\n1 year manufacturer warranty for device and 6 months manufacturer warranty for in-box accessories including batteries from the date of purchase\\nBox also includes: Power adapter, USB cable, sim eject tool, warranty card and user guide\\n› See more product details',\n",
       " 'About this item\\nQuad Camera Setup - 64MP (F1.8) Main Camera +8MP (F2.2) Ultra Wide Camera +5MP(F2.2) Depth Camera +5MP(F2.4) Macro Camera and 32MP (F2.0) front facing Camera\\n6.4-inch(16.21 centimeters) Super Amoled - Infinity U Cut Display , FHD+ Resolution (2340 x 1080) , 404 ppi pixel density and 16M color support\\nAndroid v10.0 operating system with 2.3GHz + 1.7GHz Exynos 9611 Octa core processor , 6GB RAM, 128GB internal memory expandable up to 512GB and dual SIM\\n6000 mAh Battery\\n1 year manufacturer warranty for device and 6 months manufacturer warranty for in-box accessories including batteries from the date of purchase\\nPlease contact Samsung helpline number 1800 407 267864 for any assistance related to device\\n› See more product details',\n",
       " 'About this item\\n8 MP Primary Camera with LED Flash | 8\\u2009MP Front Camera with LED Flash\\n5.46 inches (13.89cm) | HD+, 1440 x 720 Pixel | IPS Display | Rear Finger print sensor\\n2GB RAM | 16GB internal memory expandable up to 256GB | Dual SIM (Nano+Micro)\\nAndroid Pie v9.0 Operating System with Quad-core 1.5Ghz MediaTek Prcocessor | 4000mAh Battery | OTG Compatible\\nMain Device (All-Inclusive Battery), Charger, Cable, Protective Screen Guard, Protective Case, SIM tooling pin, earphone, Quick Start Guide, Warranty card\\n› See more product details',\n",
       " 'About this item\\n12+2+2MP triple rear camera (12MP main camera+2MP macro lens+2MP depth camera) with Portrait bokeh, macro lens, dazzle color mode, AI beautification | 8MP front camera\\n16.5 centimeters (6.5-inch) waterdrop multi touch screen with an 89% screen to body ratio | 1600 x 720 pixels resolution, 269 ppi pixel density\\nMemory, Storage & SIM: 6GB RAM | 128GB internal memory expandable up to 256GB | Dual SIM (nano+nano) dual-standby (4G+4G)\\nAndroid Pie v9.0 based on ColorOS 6.1 operating system with 2.3GHz Mediatek 6765 octa core processor, IMG GE8320\\n4230mAH lithium-polymer battery providing talk-time of 45 hours and standby time of 450 hours\\n1 year manufacturer warranty for device and 6 months manufacturer warranty for in-box accessories including batteries from the date of purchase\\nBox also includes: USB cable, Sim tray ejecter, pre-applied screen protector and protective case, booklet with warranty card and quick guide. The box does not include earphones\\n› See more product details',\n",
       " 'About this item\\nQuad camera setup - 64MP (F1.8) main camera + 12MP (F2.2) ultra wide camera + 5MP (F2.4) depth camera + 5MP (F2.4) macro camera | 32MP (F2.2) front camera\\n16.4 centimeters (6.5-inch) super Amoled - Infinity-O display, FHD+ capacitive multi-touch touchscreen with 1080 x 2400 pixels resolution, 407 ppi pixel density and Contrast Ratio: 78960:1\\nMemory, Storage & SIM: 6GB RAM, 128GB internal memory expandable up to 512GB | Dual SIM (nano+nano) dual-standby (4G+4G)\\nAndroid v10.0 operating system with 1.7GHz+2.3GHz Exynos 9611 octa core processor\\n6000mAH lithium-ion battery with 5x fast charge | 25W Type-C fast charger in the box\\n1 year manufacturer warranty for device and 6 months manufacturer warranty for in-box accessories including batteries from the date of purchase\\nBox also includes: Travel adapter, USB Type-C to Type-C Cable, ejection pin and user manual\\nFast face unlock and fingerprint sensor | Dual SIM (nano+nano) with dual standby and dual VoLTE, Dedicated Sim slot\\n› See more product details',\n",
       " 'About this item\\nDisplay: FHD+ (1080x2340) Dot Notch display; 16.58 centimeters (6.53 inch); 19.5:9 aspect ratio\\nCamera: 48 MP Quad Rear camera with 8MP Ultra-wide, 2MP Macro and Portrait lens| 8 MP Front camera\\nBattery: 6000 mAh large battery with 18W fast charging support and Type-C connectivity\\nProcessor: Qualcomm Snapdragon 662 with Kryo 260 Octa-core; 11nm process; Up to 2.0GHz clock speed\\nMemory, Storage & SIM: 6GB RAM | 128GB UFS 2.2 storage expandable up to 512GB with dedicated SD card slot | Dual SIM (nano+nano) dual standby (4G+4G)\\n› See more product details',\n",
       " 'About this item\\n6.43\" Inch (16.3cm) FHD+ AMOLED Punch-hole Display with 2400x1080 pixels. Larger screen to body ratio of 90.8%.|In-Display Fingerprint 3.0.\\nQualcomm Snapdragon 662 GPU 610 at 950 MHz Support 4G sim| Powerful 2 GHz Octa-core processor, support LPDDR4X memory and latest UFS 2.1 storage\\n5000 mAh lithium polymer battery with 33W flash charging technology.\\n48MP Quad Camera ( 48MP Main + 2MP Wide Angle Macro + 2MP Macro Mono Lens) | 16MP Front Camera.\\nMemory, Storage & SIM: 6GB RAM | 128GB internal memory expandable up to 256GB | Dual SIM (nano+nano) dual-standby (4G+4G).| Color OS 11.1 based on Android v11.0 operating system.\\n6.43\" Inch (16.3cm) FHD+ AMOLED Punch-hole Display with 2400x1080 pixels. Larger screen to body ratio of 90.8%., In-Display Fingerprint 3.0.\\nQualcomm Snapdragon 662 GPU 610 at 950 MHz Support 4G sim, Powerful 2 GHz Octa-core processor, support LPDDR4X memory and latest UFS 2.1 storage\\nShow More',\n",
       " 'About this item\\n6.43\" Inch (16.3cm) FHD+ Super AMOLED Punch-hole Display with 2400x1080 pixels. Larger screen to body ratio of 90.8%.|In-Display Fingerprint 3.0.\\nAndroid v11 based ColorOS 11.1 operating system with 2.2GHz MediaTek Helio P95 octa core processor, IMG 9XM-HP8 GPU\\nMemory, Storage & SIM: 8GB RAM | 128GB internal memory can be expandable up to 256GB | Dual SIM (nano+nano) dual-standby (4G+4G)\\nBattery: 4310mAH lithium-polymer massive battery with 30W VOOC Flash Charge 4.0 | Super Night standby mode.\\n48MP Quad Camera ( 48MP Main + 8MP Wide Angle Macro + 2MP Portrait Mono Lens + 2MP Macro Mono Lens) | 16MP Front Camera.\\n› See more product details',\n",
       " 'About this item\\n12+2+2MP triple rear camera (12MP main camera+2MP macro lens+2MP depth camera) with Portrait bokeh, macro lens, dazzle color mode, AI beautification | 8MP front camera\\n16.5 centimeters (6.5-inch) waterdrop multi touch screen with an 89% screen to body ratio | 1600 x 720 pixels resolution, 269 ppi pixel density\\nMemory, Storage & SIM: 6GB RAM | 128GB internal memory expandable up to 256GB | Dual SIM (nano+nano) dual-standby (4G+4G)\\nAndroid Pie v9.0 based on ColorOS 6.1 operating system with 2.3GHz Mediatek 6765 octa core processor, IMG GE8320\\n4230mAH lithium-polymer battery providing talk-time of 45 hours and standby time of 450 hours\\n1 year manufacturer warranty for device and 6 months manufacturer warranty for in-box accessories including batteries from the date of purchase\\nBox also includes: USB cable, Sim tray ejecter, pre-applied screen protector and protective case, booklet with warranty card and quick guide. The box does not include earphones\\n› See more product details',\n",
       " 'About this item\\n48MP rear camera with ultra-wide, macro, depth sensor, portrait, night mode, ai scene recognition, hdr, pro mode | 13MP front camera\\n16.5862 centimeters (6.53-inch) FHD+ display with multi-touch capacitive touchscreen with 2340 x 1080 pixels resolution | 19.5:9 aspect ratio\\nMemory, Storage & SIM: 4GB RAM | 64GB internal memory expandable up to 512GB | Dual SIM (nano+nano) dual-standby (4G+4G)\\nAndroid v10 operating system with 2.0GHz Mediatek Helio G85 octa core processor with 12nm process, Helio G85\\n5020mAH lithium-polymer battery with 22.5W fast charger in-box | dedicated SD card support\\n1 year manufacturer warranty for device and 6 months manufacturer warranty for in-box accessories including batteries from the date of purchase\\nBox also includes: Power adapter, USB cable, SIM eject tool, Warranty card, User guide, Clear soft case\\n› See more product details',\n",
       " 'About this item\\nTriple Camera Setup - 48MP (F1.8) Main Camera +8MP (F2.2) Ultra Wide Camera +5MP(F2.2) Depth Camera and 20MP (F2.2) front facing Punch Hole Camera\\n6.4-inch(16.21 centimeters) Super Amoled - Infinity U Cut Display , FHD+ Resolution (2340 x 1080) , 404 ppi pixel density and 16M color support\\nAndroid 10.0 operating system with Exynos 9611,2.3GHz,1.7GHz Octa-Core processor, 4GB RAM, 64GB internal memory expandable up to 512GB and dual SIM\\n6000 mAh Battery\\n1 year manufacturer warranty for device and 6 months manufacturer warranty for in-box accessories including batteries from the date of purchase\\n› See more product details',\n",
       " 'About this item\\n13MP rear camera with AI portrait, AI scene recognition, HDR, pro mode | 5MP front camera. Supports 2.4G Wi-Fi\\n16.58 centimeters (6.53 inch) HD+ multi-touch capacitive touchscreen with 1600 x 720 pixels resolution, 268 ppi pixel density and 20:9 aspect ratio\\nMemory, Storage & SIM: 3GB RAM, 32GB internal memory expandable up to 512GB | Dual SIM (nano+nano) + Dedicated SD card slot\\nAndroid v10 operating system with upto 2.0GHz clock speed Mediatek Helio G25 octa core processor\\n5000mAH lithium-polymer large battery with 10W wired charger in-box\\n1 year manufacturer warranty for device and 6 months manufacturer warranty for in-box accessories including batteries from the date of purchase\\nBox also includes: Power adapter, USB cable, sim eject tool, warranty card and user guide\\n› See more product details',\n",
       " 'About this item\\n13MP quad rear camera, ultra-wide, macro, portrait, AI scene recognition, HDR, pro mode | 8 MP front camera\\n16.58 centimeters (6.53-inch) FHD+ capacitive multi-touch touchscreen with 2340 x 1080 pixels resolution, 394 ppi pixel density and 19.5:9 aspect ratio\\nMemory, Storage & SIM: 4GB | 64GB internal memory expandable up to 512GB | Dual SIM (nano+nano) + Dedicated SD card slot\\nAndroid v10 operating system with 2.0 GHz Mediatek Helio G80 octa core processor\\n5020 mAh large lithium-polymer battery with 18W charging support\\n1 year manufacturer warranty for device and 6 months manufacturer warranty for in-box accessories including batteries from the date of purchase\\nBox also includes: Power adapter, USB cable, SIM eject tool, warranty card, user guide, clear soft case\\n› See more product details',\n",
       " 'About this item\\n13+2MP dual camera with AI portrait, AI scene recognition, HDR, pro mode | 5MP front camera\\n16.58 centimeters (6.53 inch) HD+ multi-touch capacitive touchscreen with 1600 x 720 pixels resolution, 268 ppi pixel density and 20:9 aspect ratio\\nAndroid v10 operating system with upto 2.3GHz clock speed Mediatek Helio G35 octa core processor\\nMemory, Storage & SIM: 4GB RAM | 128GB internal memory expandable up to 512GB | Dual SIM (nano+nano) + Dedicated SD card slot\\n5000mAH lithium-polymer large battery with 10W wired charger in-box\\n1 year manufacturer warranty for device and 6 months manufacturer warranty for in-box accessories including batteries from the date of purchase\\nBox also includes: Power adapter, USB cable, sim eject tool, warranty card and user guide\\n› See more product details',\n",
       " 'About this item\\n13MP rear camera with AI portrait, AI scene recognition, HDR, pro mode | 5MP front camera\\n16.58 centimeters (6.53 inch) HD+ multi-touch capacitive touchscreen with 1600 x 720 pixels resolution, 268 ppi pixel density and 20:9 aspect ratio\\nMemory, Storage & SIM: 3GB RAM, 32GB internal memory expandable up to 512GB | Dual SIM (nano+nano) + Dedicated SD card slot\\nAndroid v10 operating system with upto 2.0GHz clock speed Mediatek Helio G25 octa core processor\\n5000mAH lithium-polymer large battery with 10W wired charger in-box\\n1 year manufacturer warranty for device and 6 months manufacturer warranty for in-box accessories including batteries from the date of purchase\\nBox also includes: Power adapter, USB cable, sim eject tool, warranty card and user guide\\n› See more product details',\n",
       " 'About this item\\nDisplay: FHD+ (1080x2400) AMOLED Dot display; 16.33 centimeters (6.43 inch); 20:9 aspect ratio\\nCamera: 48 MP Quad Rear camera with 8MP Ultra-wide, 2MP Macro and Portrait lens| 13 MP Front camera\\nBattery: 5000 mAh large battery with 33W fast charger in-box and Type-C connectivity\\nProcessor: Qualcomm Snapdragon 678 with Kryo 460 Octa-core; 11nm process; Up to 2.2GHz clock speed\\nMemory, Storage & SIM: 6GB RAM | 128GB UFS 2.2 storage expandable up to 512GB with dedicated SD card slot | Dual SIM (nano+nano) dual standby (4G+4G)\\n› See more product details',\n",
       " 'About this item\\n6.43\" inch (16.3cm) FHD+ Super AMOLED Punch-hole Display with 2400x1080 pixels. Larger Screen to Body ratio of 90.8%, In-display Fingerprint 3.0.\\nMediatek Dimensity 800U 5G Supports Dual 5G or 4G Sim. Powerful 2.4 ghz Octa-core Processor, Support LPDDR4x memory and latest UFS 2.1 storage.\\n4310 mAH Lithium Polymer Battery with 50W Flash Charging Technology.\\n48MP Quad Camera ( 48MP Main + 8MP wide angle macro + 2MP portrait mono lens + 2MP Macro mono lens) , 16MP Front Camera.\\nMemory, Storage & Sim: 8GB RAM ,128GB Internal Memory Expandable up to 256gb, Dual sim (nano+nano) dual-standby (5\\n1 Year Manufacturer Warranty for Device and 6 Months Manufacturer Warranty for in-box accessories including batteries from the date of purchase.\\n› See more product details',\n",
       " 'About this item\\n6.49\" Inch (16.5cm) FHD+ Punch-hole Display with 2400x1080 pixels. Larger screen to body ratio of 90.5%.|Side Fingerprint Sensor.\\nQualcomm Snapdragon 480 5G GPU 619 at 650 MHz Support 5G sim| Powerful 2 GHz Octa-core processor, support LPDDR4X memory and latest UFS 2.1 gear 3 storage\\n5000 mAh lithium polymer battery\\n48MP Quad Camera ( 48MP Main + 2MP Macro + 2MP Depth Lens) | 8MP Front Camera.\\nMemory, Storage & SIM: 6GB RAM | 128GB internal memory expandable up to 256GB | Dual SIM (nano+nano) dual-standby (5G+5G).| Color OS 11.1 based on Android v11.0 operating system.\\n› See more product details',\n",
       " 'About this item\\n48MP+8MP+5MP+5MP Quad camera setup-48MP (F 1.8) main camera + 8MP (F2.2) Ultra wide camera+ 5MP (F2.4) depth camera + 5MP (2.4) Macro Camera| 20MP (F2.2) front camera\\n16.77 centimeters (6.6-inch) Super AMOLED - infinity U-cut display, HD+ resolution with 720 x 1600 pixels resolution, 265 PPI with 16M colours\\nMemory, Storage & SIM: 6GB RAM | 128GB internal memory expandable up to 1TB| SIM 1 + Hybrid (SIM or MicroSD) Nano Sim\\nOneUI 3.1 | Android 11 operating system with Qualcomm Snapdragon 750G octa core (2x2.2 GHz Cortex A77, 6x1.8 GHz Cortex A55) 5G processor, protected by Knox security\\n5000mAH lithium-ion battery, 1 year manufacturer warranty for device and 6 months manufacturer warranty for in-box accessories including batteries from the date of purchase\\n› See more product details',\n",
       " 'About this item\\n6.43\" inch (16.3cm) FHD+ Super AMOLED Punch-hole Display with 2400x1080 pixels. Larger Screen to Body ratio of 90.8%, In-display Fingerprint 3.0.\\nMediatek Dimensity 800U 5G Supports Dual 5G or 4G Sim. Powerful 2.4 ghz Octa-core Processor, Support LPDDR4x memory and latest UFS 2.1 storage.\\n4310 mAH Lithium Polymer Battery with 50W Flash Charging Technology.\\n48MP Quad Camera ( 48MP Main + 8MP wide angle macro + 2MP portrait mono lens + 2MP Macro mono lens) - 16MP Front Camera.\\nMemory, Storage & Sim: 8GB RAM -128GB Internal Memory Expandable up to 256gb, Dual sim (nano+nano) dual-standby (5g+5g). ColorOS 11.1 based on android v11.0 operating system.\\n1 Year Manufacturer Warranty for Device and 6 Months Manufacturer Warranty for in-box accessories including batteries from the date of purchase.\\n› See more product details',\n",
       " 'About this item\\n48MP+5MP+2MP+2MP Quad camera setup- True 48MP (F 2.0) main camera + 5MP (F2.2) Ultra wide camera+ 2MP (F2.4) depth camera + 2MP (2.4) Macro Camera| 8MP (F2.2) front came\\nMemory, Storage & SIM: 6GB RAM | 128GB internal memory expandable up to 1TB| Dual SIM (nano+nano) dual-standby (4G+4\\n6000mAH lithium-ion battery, 1 year manufacturer warranty for device and 6 months manufacturer warranty for in-box accessories including batteries from the date of purchase\\nAndroid 11, v11.0 operating system,One UI 3.1, with 8nm Power Efficient Exynos850 (Octa Core 2.0GH\\n16.55 centimeters (6.5-inch) HD+ TFT LCD - infinity v-cut display,90Hz screen refresh rate, HD+ resolution with 720 x 1600 pixels resolution, 269 PPI with 16M color\\n› See more product details',\n",
       " 'About this item\\n13MP rear camera with AI portrait, AI scene recognition, HDR, pro mode | 5MP front camera\\n16.58 centimeters (6.53 inch) HD+ multi-touch capacitive touchscreen with 1600 x 720 pixels resolution, 268 ppi pixel density and 20:9 aspect ratio\\nMemory, Storage & SIM: 3GB RAM, 32GB internal memory expandable up to 512GB | Dual SIM (nano+nano) + Dedicated SD card slot\\nAndroid v10 operating system with upto 2.0GHz clock speed Mediatek Helio G25 octa core processor\\n5000mAH lithium-polymer large battery with 10W wired charger in-box\\n1 year manufacturer warranty for device and 6 months manufacturer warranty for in-box accessories including batteries from the date of purchase\\nBox also includes: Power adapter, USB cable, sim eject tool, warranty card and user guide\\n› See more product details',\n",
       " '48MP+5MP+2MP+2MP Quad camera setup- True 48MP (F 2.0) main camera + 5MP (F2.2) Ultra wide camera+ 2MP (F2.4) depth camera + 2MP (2.4) Macro Camera| 8MP (F2.2) front came\\n6000mAH lithium-ion battery, 1 year manufacturer warranty for device and 6 months manufacturer warranty for in-box accessories including batteries from the date of purchase\\nAndroid 11, v11.0 operating system,One UI 3.1, with 8nm Power Efficient Exynos850 (Octa Core 2.0GH\\n16.55 centimeters (6.5-inch) HD+ TFT LCD - infinity v-cut display,90Hz screen refresh rate, HD+ resolution with 720 x 1600 pixels resolution, 269 PPI with 16M color\\nMemory, Storage & SIM: 4GB RAM | 64GB internal memory expandable up to 1TB| Dual SIM (nano+nano) dual-standby (4G+4\\n› See more product details',\n",
       " 'About this item\\nMemory, Storage & SIM: 6GB RAM | 128GB internal memory 3-card slot can support up to 256GB | Dual SIM (nano+nano) dual-standby (4G+4\\n16MP main camera + 8MP wide angle camera + 2MP mono camera + 2MP mono rear camera with photo, video, panorama, portrait, night scenes, time-lapse photography, beauty selfies, etc. | 16MP front came\\n4015mAH massive lithium-polymer battery with 30W VOOC flash charge 4\\n1 year manufacturer warranty for device and 6 months manufacturer warranty for in-box accessories including batteries from the date of purchase\\nBox also includes: Adapter, data cable, sim card ejector tool, earphones, quick start guide and warranty ca\\n› See more product details',\n",
       " 'About this item\\nTriple Camera Setup - 48MP (F2.0) Main Camera +8MP (F2.2) Ultra Wide Camera +5MP(F2.2) Depth Camera and 20MP (F2.2) front facing Punch Hole Camera\\n6.4-inch(16.21 centimeters) Super Amoled - Infinity U Cut Display , FHD+ Resolution (2340 x 1080) , 404 ppi pixel density and 16M color support\\nAndroid 10.0 operating system with Exynos 9611,2.3GHz,1.7GHz Octa-Core processor, 4GB RAM, 64GB internal memory expandable up to 512GB and dual SIM\\n6000 mAh Battery\\n1 year manufacturer warranty for device and 6 months manufacturer warranty for in-box accessories including batteries from the date of purchase\\nIn case of any queries , kindly reach out to brand helpline number: 1800- 407-267-864\\n› See more product details',\n",
       " 'About this item\\n13MP+2MP Dual rear camera setup-13MP (F1.9) main camera + 2MP (2.4) Macro Camera| 5MP (F2.0) front camera\\n16.55 centimeters (6.5-inch) PLS TFT LCD - infinity v-cut display, HD+ resolution with 720 x 1600 pixels resolution, 269 PPI with 16M colours\\nMemory, Storage & SIM: 3GB RAM | 32GB internal memory expandable up to 1TB| Dual SIM (nano+nano) dual-standby (4G+4G)\\nAndroid Pie v10.0 operating system with 1.5GHz mediaTek |MT6739WW Quad core processor\\n5000mAH lithium-ion battery, 1 year manufacturer warranty for device and 6 months manufacturer warranty for in-box accessories including batteries from the date of purchase\\n› See more product details',\n",
       " 'About this item\\n13+2MP Rear camera with AI Portrait, AI scene recognition, HDR, Pro mode | 5MP front facing camera\\n16.58 centimeters (6.53-inch) HD+ multi-touch capacitive touchscreen with 1600 x 720 pixels resolution, 268 ppi pixel density, 20:9 aspect ratio\\nMemory, Storage & SIM: 4GB RAM | 64GB storage expandable up to 512GB| Dual SIM with dual standby (4G+4G)\\nAndroid v10 operating system with 2.3GHz Mediatek Helio G35 octa core processor\\n5000mAH lithium-polymer battery with 10W wired charger in-box\\n1 year manufacturer warranty for device and 6 months manufacturer warranty for in-box accessories including batteries from the date of purchase\\nBox also includes: Power adapter, USB cable, SIM eject tool, Warranty card, User guide\\n› See more product details',\n",
       " 'About this item\\n48MP+5MP+2MP+2MP Quad camera setup- True 48MP (F 2.0) main camera + 5MP (F2.2) Ultra wide camera+ 2MP (F2.4) depth camera + 2MP (2.4) Macro Camera| 8MP (F2.2) front came\\nMemory, Storage & SIM: 6GB RAM | 128GB internal memory expandable up to 1TB| Dual SIM (nano+nano) dual-standby (4G+4\\n6000mAH lithium-ion battery, 1 year manufacturer warranty for device and 6 months manufacturer warranty for in-box accessories including batteries from the date of purchase\\nAndroid 11, v11.0 operating system,One UI 3.1, with 8nm Power Efficient Exynos850 (Octa Core 2.0GH\\n16.55 centimeters (6.5-inch) HD+ TFT LCD - infinity v-cut display,90Hz screen refresh rate, HD+ resolution with 720 x 1600 pixels resolution, 269 PPI with 16M color\\n› See more product details',\n",
       " 'About this item\\n6.49\" Inch (16.5cm) FHD+ Punch-hole Display with 2400x1080 pixels. Larger screen to body ratio of 90.5%.|Side Fingerprint Sensor.\\nQualcomm Snapdragon 480 5G GPU 619 at 650 MHz Support 5G sim| Powerful 2 GHz Octa-core processor, support LPDDR4X memory and latest UFS 2.1 gear 3 storage\\n5000 mAh lithium polymer battery\\n48MP Quad Camera ( 48MP Main + 2MP Macro + 2MP Depth Lens) | 8MP Front Camera.\\nMemory, Storage & SIM: 6GB RAM | 128GB internal memory expandable up to 256GB | Dual SIM (nano+nano) dual-standby (5G+5G).| Color OS 11.1 based on Android v11.0 operating system.\\nConnector type: USB Type C\\n› See more product details',\n",
       " 'About this item\\n16MP AI dual rear Camera Quad Flash | 8MP Front Camera with dual front flash\\n6000mAh powerful battery with 41 days standby\\n6.52HD+Dot Notch Display | 20:9 wide aspect ratio\\n3GB RAM | 64GB storage expandable up to 256GB | Dual SIM 4G+4G\\n12 month warranty + One Time Screen Replacement for 100 days | Fast Fingerprint Sensor | Face Unlock\\n› See more product details',\n",
       " 'About this item\\n48MP+5MP+2MP+2MP Quad camera setup- True 48MP (F 2.0) main camera + 5MP (F2.2) Ultra wide camera+ 2MP (F2.4) depth camera + 2MP (2.4) Macro Camera| 8MP (F2.2) front came\\nMemory, Storage & SIM: 6GB RAM | 128GB internal memory expandable up to 1TB| Dual SIM (nano+nano) dual-standby (4G+4\\n6000mAH lithium-ion battery, 1 year manufacturer warranty for device and 6 months manufacturer warranty for in-box accessories including batteries from the date of purchase\\nAndroid 11, v11.0 operating system,One UI 3.1, with 8nm Power Efficient Exynos850 (Octa Core 2.0GH\\n16.55 centimeters (6.5-inch) HD+ TFT LCD - infinity v-cut display,90Hz screen refresh rate, HD+ resolution with 720 x 1600 pixels resolution, 269 PPI with 16M color\\n› See more product details',\n",
       " 'About this item\\n16MP AI dual rear Camera Quad Flash | 8MP Front Camera with dual front flash\\n6000mAh powerful battery with 41 days standby\\n6.52HD+Dot Notch Display | 20:9 wide aspect ratio\\n3GB RAM | 64GB storage expandable up to 256GB | Dual SIM 4G+4G\\n12 month warranty + One Time Screen Replacement for 100 days | Fast Fingerprint Sensor | Face Unlock\\n› See more product details',\n",
       " 'About this item\\nDisplay: FHD+ (1080x2400) AMOLED Dot display; 16.33 centimeters (6.43 inch); 20:9 aspect ratio\\nCamera: 48 MP Quad Rear camera with 8MP Ultra-wide, 2MP Macro and Portrait lens| 13 MP Front camera\\nBattery: 5000 mAh large battery with 33W fast charger in-box and Type-C connectivity\\nProcessor: Qualcomm Snapdragon 678 with Kryo 460 Octa-core; 11nm process; Up to 2.2GHz clock speed\\nMemory, Storage & SIM: 6GB RAM | 128GB UFS 2.2 storage expandable up to 512GB with dedicated SD card slot | Dual SIM (nano+nano) dual standby (4G+4G)\\n› See more product details',\n",
       " 'About this item\\n48MP quad rear camera, ultra-wide, macro mode, portrait, ai scene recognition, night mode, hdr, pro mode | 8MP front camera\\n16.58 centimeters (6.53 inch) FHD+ multi-touch capacitive touchscreen with 2340 x 1080 pixels resolution, 394 ppi pixel density and 19.5:9 aspect ratio\\nMemory, Storage & SIM: 4GB RAM | 64GB internal memory expandable up to 512GB | Dual SIM + Dedicated SD card slot\\nAndroid v10 operating system with upto 2.0GHz clock speed Qualcomm Snapdragon 662 octa core processor\\n6000mAH large lithium-polymer battery 18W charging support\\n1 year manufacturer warranty for device and 6 months manufacturer warranty for in-box accessories including batteries from the date of purchase\\nBox also includes: Power adapter, usb cable, SIM eject tool, warranty card, user guide and clear soft case\\n› See more product details',\n",
       " 'About this item\\n48MP+8MP+2MP rear camera | 16MP front camera\\n16.58 centimeters (6.58 inch) FHD+ display with 2408 x 1080 pixels resolution\\nMemory, Storage & SIM: 8GB RAM | 128GB internal memory expandable up to 1TB | Dual SIM (nano+nano) dual-standby (4G+4G)\\nFuntouch OS 11 based on Android 11 operating system with Qualcomm Snapdragon 662 octa core processor\\n5000mAH lithium-ion battery along with 18W fast charging (Type C). 1 year manufacturer warranty for device and 6 months manufacturer warranty for in-box accessories including batteries from the date of purchase. Box also includes: Handset, Earphones, Documentation, micro USB to USB cable (Type C), USB power adapter, sim ejector pin, protective case, protective film (1 applied)\\n› See more product details',\n",
       " 'About this item\\n48MP+2MP+2MP rear camera | 16MP front camera\\n16.71 centimeters (6.58 inch) FHD+ display with 2408 x 1080 pixels resolution\\nMemory, Storage & SIM: 6GB RAM | 128GB internal memory expandable up to 1TB | Dual SIM (nano+nano) dual-standby (4G+4G)\\nFuntouch OS 11 based on Android 11 operating system with Qualcomm Snapdragon 662 octa core processor\\n5000mAH lithium-ion battery (Type C). 1 year manufacturer warranty for device and 6 months manufacturer warranty for in-box accessories including batteries from the date of purchase. Box also includes: Handset, Earphones, Documentation, micro USB to USB cable (Type C), USB power adapter, sim ejector pin, protective case, protective film (1 applied)\\n› See more product details',\n",
       " 'About this item\\n6.1 inch HD+ IPS Waterdrop display for great viewing experience\\n2GB RAM for Fluidic Experience\\nDual Security- Fast Fingerprint sensor and Face unlock for enhanced security\\nHigh Capacity 3000 mAh battery with Super Power mode\\n5 MP Dual AI rear camera with flash\\n› See more product details',\n",
       " 'About this item\\nUltra Bright Torch\\nDual Sim\\nVideo Player & Music Player\\nAuto Call recording Folder Wise\\n› See more product details',\n",
       " 'About this item\\n48MP+5MP+2MP+2MP Quad camera setup- True 48MP (F 2.0) main camera + 5MP (F2.2) Ultra wide camera+ 2MP (F2.4) depth camera + 2MP (2.4) Macro Camera| 8MP (F2.2) front came\\nMemory, Storage & SIM: 6GB RAM | 128GB internal memory expandable up to 1TB| Dual SIM (nano+nano) dual-standby (4G+4\\n6000mAH lithium-ion battery, 1 year manufacturer warranty for device and 6 months manufacturer warranty for in-box accessories including batteries from the date of purchase\\nAndroid 11, v11.0 operating system,One UI 3.1, with 8nm Power Efficient Exynos850 (Octa Core 2.0GH\\n16.55 centimeters (6.5-inch) HD+ TFT LCD - infinity v-cut display,90Hz screen refresh rate, HD+ resolution with 720 x 1600 pixels resolution, 269 PPI with 16M color\\n› See more product details',\n",
       " 'About this item\\nQualcomm Snapdragon 888 5G with Kryo 680 Octa-core; 5nm process; Up to 2.84GHz clock speed; Liquidcool technology\\nCamera: 108 MP Triple Rear camera with 8MP Ultra-wide and 5MP Super macro | 20 MP Front camera\\nDisplay: 120Hz high refresh rate FHD+ (1080x2400) AMOLED Dot display; 16.9 centimeters (6.67 inch); 2.76mm ultra tiny punch hole; HDR 10+ support; 360Hz touch sampling, MEMC technology\\nBattery: 4520 mAH large battery with 33W fast charger in-box and Type-C connectivity\\nMemory, Storage & SIM: 8GB LPDDR5 RAM | 128GB UFS 3.1 storage\\n› See more product details',\n",
       " 'About this item\\n48MP+8MP+5MP+5MP Quad camera setup-48MP (F 1.8) main camera + 8MP (F2.2) Ultra wide camera+ 5MP (F2.4) depth camera + 5MP (2.4) Macro Camera| 20MP (F2.2) front camera\\n16.77 centimeters (6.6-inch) Super AMOLED - infinity U-cut display, HD+ resolution with 720 x 1600 pixels resolution, 265 PPI with 16M colours\\nMemory, Storage & SIM: 6GB RAM | 128GB internal memory expandable up to 1TB| SIM 1 + Hybrid (SIM or MicroSD) Nano Sim\\nOneUI 3.1 | Android 11 operating system with Qualcomm Snapdragon 750G octa core (2x2.2 GHz Cortex A77, 6x1.8 GHz Cortex A55) 5G processor, protected by Knox security\\n5000mAH lithium-ion battery, 1 year manufacturer warranty for device and 6 months manufacturer warranty for in-box accessories including batteries from the date of purchase\\n› See more product details',\n",
       " '48MP+5MP+2MP+2MP Quad camera setup- True 48MP (F 2.0) main camera + 5MP (F2.2) Ultra wide camera+ 2MP (F2.4) depth camera + 2MP (2.4) Macro Camera| 8MP (F2.2) front came\\n6000mAH lithium-ion battery, 1 year manufacturer warranty for device and 6 months manufacturer warranty for in-box accessories including batteries from the date of purchase\\nAndroid 11, v11.0 operating system,One UI 3.1, with 8nm Power Efficient Exynos850 (Octa Core 2.0GH\\n16.55 centimeters (6.5-inch) HD+ TFT LCD - infinity v-cut display,90Hz screen refresh rate, HD+ resolution with 720 x 1600 pixels resolution, 269 PPI with 16M color\\nMemory, Storage & SIM: 4GB RAM | 64GB internal memory expandable up to 1TB| Dual SIM (nano+nano) dual-standby (4G+4\\n› See more product details',\n",
       " 'About this item\\nDisplay: FHD+ (1080x2400) AMOLED Dot display; 16.33 centimeters (6.43 inch); 20:9 aspect ratio\\nCamera: 48 MP Quad Rear camera with 8MP Ultra-wide, 2MP Macro and Portrait lens| 13 MP Front camera\\nBattery: 5000 mAh large battery with 33W fast charger in-box and Type-C connectivity\\nProcessor: Qualcomm Snapdragon 678 with Kryo 460 Octa-core; 11nm process; Up to 2.2GHz clock speed\\nMemory, Storage & SIM: 4GB RAM | 64GB UFS 2.2 storage expandable up to 512GB with dedicated SD card slot | Dual SIM (nano+nano) dual standby (4G+4G)\\n› See more product details',\n",
       " 'About this item\\n6.51\" Inch (16.5cm) HD+ Punch-hole Display with 1600x720 pixels. Larger screen to body ratio of 89.2%.|Side Fingerprint Sensor.\\nMediaTek Helio P35 GPU IMG GE8320 @ 680 MHz| Powerful 2.3 GHz Octa-core processor, support LPDDR4X memory\\n5000 mAh lithium polymer battery\\n13MP Quad Camera ( 13MP Main + 2MP Macro + 2MP Bokeh Lens) | 16MP Front Camera.\\nMemory, Storage & SIM: 4GB RAM | 128GB internal memory expandable up to 256GB | Dual SIM (nano+nano) dual-standby (4G+4G).| Color OS 7.2 based on Android 10.0 operating system.\\n6.51\" Inch (16.5cm) HD+ Punch-hole Display with 1600x720 pixels. Larger screen to body ratio of 89.2%., Side Fingerprint Sensor.\\nMediaTek Helio P35 GPU IMG GE8320 @ 680 MHz, Powerful 2.3 GHz Octa-core processor, support LPDDR4X memory\\nShow More',\n",
       " 'About this item\\n15.21 centimeters (5.99 inch) HD+ experience youâ??ve been waiting for with 720 x 1440 pixels resolution\\nAndroid v10 operating system with 1.6GHz SC9863A octa core process\\nBox also includes: 5V/1A charger, micro USB cable, quick start guide and safety booklet\\nCapture quality HDR shots and Full HD videos using the 8MP rear camera, plus stunning selfies with the 5MP front camera | Get things done on the go with help from Google assistant\\nDesign thatâ??s dependable in the chaos and the calm, plus 1-year replacement guarantee if you need it.\\n› See more product details',\n",
       " 'About this item\\n6.51\" Inch (16.5cm) HD+ Puch-hole Display with 1600x720 pixels. Larger screen to body ratio of 89.2%., Side Fingerprint Sensor.\\nMediaTek Helio P35 GPU IMG GE8320 @ 680 MHz, Powerful 2.3 GHz Octa-core processor, support LPDDR4X @1600 Mhz memory\\n5000 mAh lithium polymer battery\\n13MP Quad Camera ( 13MP Main + 2MP Macro + 2MP Bokeh Lens), 16MP Front Camera.\\nMemory, Storage & SIM: 4GB RAM, 64GB internal memory expandable up to 256GB, Dual SIM (nano+nano) dual-standby (4G+4G)., Color OS 7.2 based on Android 10.0 operating system.\\n› See more product details',\n",
       " 'About this item\\n13MP (F1.8) main camera + 5MP (F2.2) ultra wide camera + 2MP (F2.4) depth rear camera | 8MP (F2.0) front facing punch hole camera\\n6.4-inch (16.24 centimeters) infinity-O display, HD+ capacitive multi-touch touchscreen with 720 x 1520 pixels resolution, 270 ppi | 16M color support\\nMemory, Storage & SIM: 4GB RAM | 64GB internal memory expandable up to 512GB | Dual SIM (nano+nano) dual-standby (4G+4G)\\nAndroid v10.0 operating system with 1.8GHz Qualcomm | SDM450-F01 octa core processor\\n5000mAH lithium-ion battery\\n1 year manufacturer warranty for device and 6 months manufacturer warranty for in-box accessories including batteries from the date of purchase\\nBox also includes: Travel adapter, USB cable and user manual. The box does not include earphones\\n› See more product details',\n",
       " 'About this item\\nCountry Of Origin - India\\n48MP rear camera with ultra-wide, super macro, portrait, night mode, 960fps slowmotion, AI scene recognition, pro color, HDR, pro mode | 16MP facing camera\\n16.9418 centimeters (6.67-inch) FHD+ full screen dot display LCD multi-touch capacitive touchscreen with 2400 x 1080 pixels resolution, 400 ppi pixel density and 20:9 aspect ratio | 2.5D curved glass\\nThe all-new Interstellar Black colour combines different hues of grey and blue together to deliver a shade that mesmerizes you\\nAndroid v10 operating system with 2.3GHz Qualcomm Snapdragon 720G with 8nm octa core processor\\nMemory, Storage & SIM: 4GB RAM | 64GB internal memory expandable up to 512GB with dedicated SD card slot | Dual SIM (nano+nano) dual-standby (4G+4G)\\n5020mAH lithium-polymer large battery providing talk-time of 29 hours and standby time of 492 hours | 18W fast charger in-box and Type-C connectivity\\nShow More',\n",
       " 'About this item\\n13MP quad rear camera, ultra-wide, macro, portrait, AI scene recognition, HDR, pro mode | 8 MP front camera\\n16.58 centimeters (6.53-inch) FHD+ capacitive multi-touch touchscreen with 2340 x 1080 pixels resolution, 394 ppi pixel density and 19.5:9 aspect ratio\\nMemory, Storage & SIM: 4GB | 64GB internal memory expandable up to 512GB | Dual SIM (nano+nano) + Dedicated SD card slot\\nAndroid v10 operating system with 2.0 GHz Mediatek Helio G80 octa core processor\\n5020 mAh large lithium-polymer battery with 18W charging support\\n1 year manufacturer warranty for device and 6 months manufacturer warranty for in-box accessories including batteries from the date of purchase\\nBox also includes: Power adapter, USB cable, SIM eject tool, warranty card, user guide, clear soft case\\n› See more product details',\n",
       " 'About this item\\n8 MP Primary Camera with Flash | 5\\u2009MP Front Camera\\n5.45 inches (13.84 cm) | 480\\u2009x\\u2009960\\u2009pixels | IPS Display\\n2GB RAM | 16GB internal memory expandable up to 256GB | Dual SIM (Nano+Micro)\\nAndroid Pie v9.0 Operating System with 1.5 GHz | 3000mAh Battery | OTG Compatible\\nBox Also Includes: Main Device (All-Inclusive Battery), Charger, Cable, Protective Screen Guard, Protective Case, SIM tooling pin, earphone, Quick Start Guide, Warranty card\\n› See more product details',\n",
       " 'About this item\\nQualcomm Snapdragon 888 5G with Kryo 680 Octa-core; 5nm process; Up to 2.84GHz clock speed; Liquidcool technology\\nCamera: 108 MP Triple Rear camera with 8MP Ultra-wide and 5MP Super macro | 20 MP Front camera\\nDisplay: 120Hz high refresh rate FHD+ (1080x2400) AMOLED Dot display; 16.9 centimeters (6.67 inch); 2.76mm ultra tiny punch hole; HDR 10+ support; 360Hz touch sampling, MEMC technology\\nBattery: 4520 mAH large battery with 33W fast charger in-box and Type-C connectivity\\nMemory, Storage & SIM: 8GB LPDDR5 RAM | 128GB UFS 3.1 storage\\n› See more product details',\n",
       " 'About this item\\n6.51\" Inch (16.5cm) HD+ Punch-hole Display with 1600x720 pixels. Larger screen to body ratio of 89.2%.|Side Fingerprint Sensor.\\nMediaTek Helio P35 GPU IMG GE8320 @ 680 MHz| Powerful 2.3 GHz Octa-core processor, support LPDDR4X memory\\n5000 mAh lithium polymer battery\\n13MP Quad Camera ( 13MP Main + 2MP Macro + 2MP Bokeh Lens) | 16MP Front Camera.\\nMemory, Storage & SIM: 4GB RAM | 128GB internal memory expandable up to 256GB | Dual SIM (nano+nano) dual-standby (4G+4G).| Color OS 7.2 based on Android 10.0 operating system.\\n6.51\" Inch (16.5cm) HD+ Punch-hole Display with 1600x720 pixels. Larger screen to body ratio of 89.2%., Side Fingerprint Sensor.\\nMediaTek Helio P35 GPU IMG GE8320 @ 680 MHz, Powerful 2.3 GHz Octa-core processor, support LPDDR4X memory\\nShow More',\n",
       " 'About this item\\n13MP+2MP Dual rear camera setup-13MP (F1.9) main camera + 2MP (2.4) Macro Camera| 5MP (F2.0) front camera\\n16.55 centimeters (6.5-inch) PLS TFT LCD - infinity v-cut display, HD+ resolution with 720 x 1600 pixels resolution, 269 PPI with 16M colours\\nMemory, Storage & SIM: 2GB RAM | 32GB internal memory expandable up to 1TB| Dual SIM (nano+nano) dual-standby (4G+4G)\\nAndroid Pie v10.0 operating system with 1.5GHz mediaTek |MT6739WW Quad core processor\\n5000mAH lithium-ion battery, 1 year manufacturer warranty for device and 6 months manufacturer warranty for in-box accessories including batteries from the date of purchase\\n› See more product details',\n",
       " 'About this item\\n12+2+2MP triple rear camera with portrait bokeh, macro lens, dazzle color mode, AI beautification | 8MP front camera with AI beautification\\n16.5 centimeters (6.5 Inch) waterdrop capacitive multi touchscreen with an 89% screen to body ratio | 1600 x 720 pixels resolution, 269 ppi pixel density\\nMemory, Storage & SIM: 4GB RAM | 64GB internal memory expandable up to 256GB | Dual SIM (nano+nano) dual-standby (4G+4G)\\nColorOS 6.1 operating system based on Android Pie v9.0 with 2.3GHz Mediatek P35 6765 octa core processor, MG GE8320 GPU\\n4230mAh lithium-polymer battery providing talk-time of 45 hours and standby time of 450 hours\\n1 year manufacturer warranty for device and 6 months manufacturer warranty for in-box accessories including batteries from the date of purchase\\nBox also includes: USB cable, sim tray ejector, pre-applied screen protector and protective case, booklet with warranty card and quick guide\\n› See more product details',\n",
       " 'About this item\\n6.51\" Inch (16.5cm) HD+ Punch-hole Display with 1600x720 pixels. Larger screen to body ratio of 89.2%.|Side Fingerprint Sensor.\\nMediaTek Helio P35 GPU IMG GE8320 @ 680 MHz| Powerful 2.3 GHz Octa-core processor, support LPDDR4X memory\\n5000 mAh lithium polymer battery\\n13MP Quad Camera ( 13MP Main + 2MP Macro + 2MP Bokeh Lens) | 16MP Front Camera.\\nMemory, Storage & SIM: 4GB RAM | 128GB internal memory expandable up to 256GB | Dual SIM (nano+nano) dual-standby (4G+4G).| Color OS 7.2 based on Android 10.0 operating system.\\n6.51\" Inch (16.5cm) HD+ Punch-hole Display with 1600x720 pixels. Larger screen to body ratio of 89.2%., Side Fingerprint Sensor.\\nMediaTek Helio P35 GPU IMG GE8320 @ 680 MHz, Powerful 2.3 GHz Octa-core processor, support LPDDR4X memory\\nShow More',\n",
       " 'About this item\\ndual sim dual standby multimedia:- mp3, mp4 , bt-v2.1 version also fm radio sound recorder , high energy polymer battery image viewer, video player audio player , world clock, ebook reader, alarm , file manager, remote notifier and more\\nbluetooth conectivity with apple samsung vivo oppo mi or any other samrt phone\\ncute look,loveable,impressing,sleek,slim,smallest,gifting phone\\nCamera description: Rear\\n› See more product details',\n",
       " 'About this item\\nCountry Of Origin - India\\n13MP rear camera with AI portrait, AI scene recognition, HDR, pro mode | 5MP front camera\\n16.58 centimeters (6.53 inch) HD+ multi-touch capacitive touchscreen with 1600 x 720 pixels resolution, 268 ppi pixel density and 20:9 aspect ratio\\nMemory, Storage & SIM: 2GB RAM, 32GB internal memory expandable up to 512GB | Dual SIM (nano+nano) + Dedicated SD card slot\\nAndroid v10 operating system with upto 2.0GHz clock speed Mediatek Helio G25 octa core processor\\n5000mAH lithium-polymer large battery with 10W wired charger in-box\\n1 year manufacturer warranty for device and 6 months manufacturer warranty for in-box accessories including batteries from the date of purchase\\nBox also includes: Power adapter, USB cable, sim eject tool, warranty card and user guide\\n› See more product details',\n",
       " 'About this item\\n13+2MP Rear camera with AI Portrait, AI scene recognition, HDR, Pro mode | 5MP front facing camera\\n16.58 centimeters (6.53-inch) HD+ multi-touch capacitive touchscreen with 1600 x 720 pixels resolution, 268 ppi pixel density, 20:9 aspect ratio\\nMemory, Storage & SIM: 4GB RAM | 64GB storage expandable up to 512GB| Dual SIM with dual standby (4G+4G)\\nAndroid v10 operating system with 2.3GHz Mediatek Helio G35 octa core processor\\n5000mAH lithium-polymer battery with 10W wired charger in-box\\n1 year manufacturer warranty for device and 6 months manufacturer warranty for in-box accessories including batteries from the date of purchase\\nBox also includes: Power adapter, USB cable, SIM eject tool, Warranty card, User guide\\n› See more product details',\n",
       " 'About this item\\nCountry Of Origin - India\\n13MP rear camera with AI portrait, AI scene recognition, HDR, pro mode | 5MP front camera\\n16.58 centimeters (6.53 inch) HD+ multi-touch capacitive touchscreen with 1600 x 720 pixels resolution, 268 ppi pixel density and 20:9 aspect ratio\\nMemory, Storage & SIM: 2GB RAM, 32GB internal memory expandable up to 512GB | Dual SIM (nano+nano) + Dedicated SD card slot\\nAndroid v10 operating system with upto 2.0GHz clock speed Mediatek Helio G25 octa core processor\\n5000mAH lithium-polymer large battery with 10W wired charger in-box\\n1 year manufacturer warranty for device and 6 months manufacturer warranty for in-box accessories including batteries from the date of purchase\\nBox also includes: Power adapter, USB cable, sim eject tool, warranty card and user guide\\n› See more product details',\n",
       " 'About this item\\n13MP (F1.8) main camera + 5MP (F2.2) ultra wide camera + 2MP (F2.4) depth rear camera | 8MP (F2.0) front facing punch hole camera\\n6.4-inch (16.24 centimeters) infinity-O display, HD+ capacitive multi-touch touchscreen with 720 x 1520 pixels resolution, 270 ppi | 16M color support\\nMemory, Storage & SIM: 4GB RAM | 64GB internal memory expandable up to 512GB | Dual SIM (nano+nano) dual-standby (4G+4G)\\nAndroid v10.0 operating system with 1.8GHz Qualcomm | SDM450-F01 octa core processor\\n5000mAH lithium-ion battery\\n1 year manufacturer warranty for device and 6 months manufacturer warranty for in-box accessories including batteries from the date of purchase\\nBox also includes: Travel adapter, USB cable and user manual. The box does not include earphones\\n› See more product details',\n",
       " 'About this item\\n16MP AI dual rear Camera Quad Flash, 8MP Front Camera with dual front flash\\n6000mAh powerful battery with 41 days standby\\n6.52HD+Dot Notch Display, 20:9 wide aspect ratio\\n3GB RAM, 64GB storage expandable up to 256GB, Dual SIM 4G+4G\\n12 month warranty + One Time Screen Replacement for 100 days, Fast Fingerprint Sensor, Face Unlock\\n› See more product details',\n",
       " 'About this item\\n15.79 cm (6.22 inch) HD+ Display\\nFuntouch OS 10.5 (Based on Android 10) Operating System\\nFront 5 MP, Rear 13 MP Camera\\nSlim Body, AI Face Beauty\\nOperating SystemAndroid 10 (Funtouch OS_10.5\\nScreen Resolution1520 × 720 - HD+\\nSelfie Camera5 MP\\nShow More']"
      ]
     },
     "execution_count": 143,
     "metadata": {},
     "output_type": "execute_result"
    }
   ],
   "source": [
    "Other_details"
   ]
  },
  {
   "cell_type": "code",
   "execution_count": 146,
   "metadata": {},
   "outputs": [],
   "source": [
    "Amazon_product_details=pd.DataFrame()"
   ]
  },
  {
   "cell_type": "code",
   "execution_count": 147,
   "metadata": {},
   "outputs": [],
   "source": [
    "Amazon_product_details['Product_url']=Product_urls\n",
    "Amazon_product_details['Brand name']=Brand_name\n",
    "Amazon_product_details['Name of the Product']=Product_name\n",
    "Amazon_product_details['Rating']=Ratings\n",
    "Amazon_product_details['No. of Ratings']=No_Ratings\n",
    "Amazon_product_details['Price']=Price\n",
    "Amazon_product_details['Return/Exchange']=Return_Exchange\n",
    "Amazon_product_details['Expected Delivery']=Expected_delivery\n",
    "Amazon_product_details['Availability']=Availability\n",
    "Amazon_product_details['Other Details']=Other_details\n",
    "\n"
   ]
  },
  {
   "cell_type": "code",
   "execution_count": 148,
   "metadata": {},
   "outputs": [
    {
     "data": {
      "text/html": [
       "<div>\n",
       "<style scoped>\n",
       "    .dataframe tbody tr th:only-of-type {\n",
       "        vertical-align: middle;\n",
       "    }\n",
       "\n",
       "    .dataframe tbody tr th {\n",
       "        vertical-align: top;\n",
       "    }\n",
       "\n",
       "    .dataframe thead th {\n",
       "        text-align: right;\n",
       "    }\n",
       "</style>\n",
       "<table border=\"1\" class=\"dataframe\">\n",
       "  <thead>\n",
       "    <tr style=\"text-align: right;\">\n",
       "      <th></th>\n",
       "      <th>Product_url</th>\n",
       "      <th>Brand name</th>\n",
       "      <th>Name of the Product</th>\n",
       "      <th>Rating</th>\n",
       "      <th>No. of Ratings</th>\n",
       "      <th>Price</th>\n",
       "      <th>Return/Exchange</th>\n",
       "      <th>Expected Delivery</th>\n",
       "      <th>Availability</th>\n",
       "      <th>Other Details</th>\n",
       "    </tr>\n",
       "  </thead>\n",
       "  <tbody>\n",
       "    <tr>\n",
       "      <th>0</th>\n",
       "      <td>https://www.amazon.in/gp/slredirect/picassoRed...</td>\n",
       "      <td>Visit the Samsung Store</td>\n",
       "      <td>Samsung Galaxy M42 5G (Prism Dot Black, 6GB RA...</td>\n",
       "      <td>4.2 out of 5</td>\n",
       "      <td>741 ratings</td>\n",
       "      <td>₹ 21,999.00</td>\n",
       "      <td>7 Days Replacement</td>\n",
       "      <td>Sunday, May 30</td>\n",
       "      <td>In stock.</td>\n",
       "      <td>About this item\\n48MP+8MP+5MP+5MP Quad camera ...</td>\n",
       "    </tr>\n",
       "    <tr>\n",
       "      <th>1</th>\n",
       "      <td>https://www.amazon.in/gp/slredirect/picassoRed...</td>\n",
       "      <td>Visit the Samsung Store</td>\n",
       "      <td>Samsung Galaxy M31 (Ocean Blue, 6GB RAM, 128GB...</td>\n",
       "      <td>4.3 out of 5</td>\n",
       "      <td>182,526 ratings</td>\n",
       "      <td>₹ 14,999.00</td>\n",
       "      <td>7 Days Replacement</td>\n",
       "      <td>Sunday, May 30</td>\n",
       "      <td>In stock.</td>\n",
       "      <td>About this item\\nQuad Camera Setup - 64MP (F1....</td>\n",
       "    </tr>\n",
       "    <tr>\n",
       "      <th>2</th>\n",
       "      <td>https://www.amazon.in/Samsung-Galaxy-Ocean-128...</td>\n",
       "      <td>Visit the Samsung Store</td>\n",
       "      <td>Samsung Galaxy M31 (Ocean Blue, 6GB RAM, 128GB...</td>\n",
       "      <td>4.3 out of 5</td>\n",
       "      <td>182,526 ratings</td>\n",
       "      <td>₹ 14,999.00</td>\n",
       "      <td>7 Days Replacement</td>\n",
       "      <td>Sunday, May 30</td>\n",
       "      <td>In stock.</td>\n",
       "      <td>About this item\\nQuad Camera Setup - 64MP (F1....</td>\n",
       "    </tr>\n",
       "    <tr>\n",
       "      <th>3</th>\n",
       "      <td>https://www.amazon.in/Redmi-Sky-Blue-64GB-Stor...</td>\n",
       "      <td>Brand: Redmi</td>\n",
       "      <td>Redmi 9 (Sky Blue, 4GB RAM, 64GB Storage)| 500...</td>\n",
       "      <td>4.2 out of 5</td>\n",
       "      <td>37,547 ratings</td>\n",
       "      <td>₹ 8,799.00</td>\n",
       "      <td>7 Days Replacement</td>\n",
       "      <td>Sunday, May 30</td>\n",
       "      <td>In stock.</td>\n",
       "      <td>About this item\\n13+2MP Rear camera with AI Po...</td>\n",
       "    </tr>\n",
       "    <tr>\n",
       "      <th>4</th>\n",
       "      <td>https://www.amazon.in/Redmi-9A-2GB-32GB-Storag...</td>\n",
       "      <td>Brand: Redmi</td>\n",
       "      <td>Redmi 9A (Nature Green, 2GB RAM, 32GB Storage)...</td>\n",
       "      <td>4.2 out of 5</td>\n",
       "      <td>42,167 ratings</td>\n",
       "      <td>₹ 6,999.00</td>\n",
       "      <td>7 Days Replacement</td>\n",
       "      <td>Sunday, May 30</td>\n",
       "      <td>In stock.</td>\n",
       "      <td>About this item\\nCountry Of Origin - India\\n13...</td>\n",
       "    </tr>\n",
       "    <tr>\n",
       "      <th>...</th>\n",
       "      <td>...</td>\n",
       "      <td>...</td>\n",
       "      <td>...</td>\n",
       "      <td>...</td>\n",
       "      <td>...</td>\n",
       "      <td>...</td>\n",
       "      <td>...</td>\n",
       "      <td>...</td>\n",
       "      <td>...</td>\n",
       "      <td>...</td>\n",
       "    </tr>\n",
       "    <tr>\n",
       "      <th>61</th>\n",
       "      <td>https://www.amazon.in/Redmi-Sporty-Orange-64GB...</td>\n",
       "      <td>Brand: Redmi</td>\n",
       "      <td>Redmi 9 (Sporty Orange, 4GB RAM, 64GB Storage)...</td>\n",
       "      <td>4.2 out of 5</td>\n",
       "      <td>37,547 ratings</td>\n",
       "      <td>₹ 8,799.00</td>\n",
       "      <td>7 Days Replacement</td>\n",
       "      <td>Sunday, May 30</td>\n",
       "      <td>In stock.</td>\n",
       "      <td>About this item\\n13+2MP Rear camera with AI Po...</td>\n",
       "    </tr>\n",
       "    <tr>\n",
       "      <th>62</th>\n",
       "      <td>https://www.amazon.in/Redmi-9A-2GB-32GB-Storag...</td>\n",
       "      <td>Brand: Redmi</td>\n",
       "      <td>Redmi 9A (Sea Blue 2GB RAM 32GB Storage) | 2GH...</td>\n",
       "      <td>4.2 out of 5</td>\n",
       "      <td>42,167 ratings</td>\n",
       "      <td>-</td>\n",
       "      <td>7 Days Replacement</td>\n",
       "      <td>Sunday, May 30</td>\n",
       "      <td>In stock.</td>\n",
       "      <td>About this item\\nCountry Of Origin - India\\n13...</td>\n",
       "    </tr>\n",
       "    <tr>\n",
       "      <th>63</th>\n",
       "      <td>https://www.amazon.in/Samsung-Galaxy-Storage-A...</td>\n",
       "      <td>Visit the Samsung Store</td>\n",
       "      <td>Samsung Galaxy M11 (Black, 4GB RAM, 64GB Stora...</td>\n",
       "      <td>4.1 out of 5</td>\n",
       "      <td>1,274 ratings</td>\n",
       "      <td>-</td>\n",
       "      <td>7 Days Replacement</td>\n",
       "      <td>Sunday, May 30</td>\n",
       "      <td>In stock.</td>\n",
       "      <td>About this item\\n13MP (F1.8) main camera + 5MP...</td>\n",
       "    </tr>\n",
       "    <tr>\n",
       "      <th>64</th>\n",
       "      <td>https://www.amazon.in/gp/slredirect/picassoRed...</td>\n",
       "      <td>Visit the Tecno Store</td>\n",
       "      <td>Tecno Spark 7 (Magnet Black, 3GB RAM, 64 GB St...</td>\n",
       "      <td>3.9 out of 5</td>\n",
       "      <td>159 ratings</td>\n",
       "      <td>₹ 8,499.00</td>\n",
       "      <td>7 Days Replacement</td>\n",
       "      <td>Sunday, May 30</td>\n",
       "      <td>In stock.</td>\n",
       "      <td>About this item\\n16MP AI dual rear Camera Quad...</td>\n",
       "    </tr>\n",
       "    <tr>\n",
       "      <th>65</th>\n",
       "      <td>https://www.amazon.in/gp/slredirect/picassoRed...</td>\n",
       "      <td>Brand: Generic</td>\n",
       "      <td>Vivo Y1s 32 GB, 2 GB RAM, Olive Black, Smartphone</td>\n",
       "      <td>-</td>\n",
       "      <td>-</td>\n",
       "      <td>-</td>\n",
       "      <td>7 Days Replacement</td>\n",
       "      <td>June 4 - 7</td>\n",
       "      <td>-</td>\n",
       "      <td>About this item\\n15.79 cm (6.22 inch) HD+ Disp...</td>\n",
       "    </tr>\n",
       "  </tbody>\n",
       "</table>\n",
       "<p>66 rows × 10 columns</p>\n",
       "</div>"
      ],
      "text/plain": [
       "                                          Product_url  \\\n",
       "0   https://www.amazon.in/gp/slredirect/picassoRed...   \n",
       "1   https://www.amazon.in/gp/slredirect/picassoRed...   \n",
       "2   https://www.amazon.in/Samsung-Galaxy-Ocean-128...   \n",
       "3   https://www.amazon.in/Redmi-Sky-Blue-64GB-Stor...   \n",
       "4   https://www.amazon.in/Redmi-9A-2GB-32GB-Storag...   \n",
       "..                                                ...   \n",
       "61  https://www.amazon.in/Redmi-Sporty-Orange-64GB...   \n",
       "62  https://www.amazon.in/Redmi-9A-2GB-32GB-Storag...   \n",
       "63  https://www.amazon.in/Samsung-Galaxy-Storage-A...   \n",
       "64  https://www.amazon.in/gp/slredirect/picassoRed...   \n",
       "65  https://www.amazon.in/gp/slredirect/picassoRed...   \n",
       "\n",
       "                 Brand name  \\\n",
       "0   Visit the Samsung Store   \n",
       "1   Visit the Samsung Store   \n",
       "2   Visit the Samsung Store   \n",
       "3              Brand: Redmi   \n",
       "4              Brand: Redmi   \n",
       "..                      ...   \n",
       "61             Brand: Redmi   \n",
       "62             Brand: Redmi   \n",
       "63  Visit the Samsung Store   \n",
       "64    Visit the Tecno Store   \n",
       "65           Brand: Generic   \n",
       "\n",
       "                                  Name of the Product        Rating  \\\n",
       "0   Samsung Galaxy M42 5G (Prism Dot Black, 6GB RA...  4.2 out of 5   \n",
       "1   Samsung Galaxy M31 (Ocean Blue, 6GB RAM, 128GB...  4.3 out of 5   \n",
       "2   Samsung Galaxy M31 (Ocean Blue, 6GB RAM, 128GB...  4.3 out of 5   \n",
       "3   Redmi 9 (Sky Blue, 4GB RAM, 64GB Storage)| 500...  4.2 out of 5   \n",
       "4   Redmi 9A (Nature Green, 2GB RAM, 32GB Storage)...  4.2 out of 5   \n",
       "..                                                ...           ...   \n",
       "61  Redmi 9 (Sporty Orange, 4GB RAM, 64GB Storage)...  4.2 out of 5   \n",
       "62  Redmi 9A (Sea Blue 2GB RAM 32GB Storage) | 2GH...  4.2 out of 5   \n",
       "63  Samsung Galaxy M11 (Black, 4GB RAM, 64GB Stora...  4.1 out of 5   \n",
       "64  Tecno Spark 7 (Magnet Black, 3GB RAM, 64 GB St...  3.9 out of 5   \n",
       "65  Vivo Y1s 32 GB, 2 GB RAM, Olive Black, Smartphone             -   \n",
       "\n",
       "     No. of Ratings        Price     Return/Exchange Expected Delivery  \\\n",
       "0       741 ratings  ₹ 21,999.00  7 Days Replacement    Sunday, May 30   \n",
       "1   182,526 ratings  ₹ 14,999.00  7 Days Replacement    Sunday, May 30   \n",
       "2   182,526 ratings  ₹ 14,999.00  7 Days Replacement    Sunday, May 30   \n",
       "3    37,547 ratings   ₹ 8,799.00  7 Days Replacement    Sunday, May 30   \n",
       "4    42,167 ratings   ₹ 6,999.00  7 Days Replacement    Sunday, May 30   \n",
       "..              ...          ...                 ...               ...   \n",
       "61   37,547 ratings   ₹ 8,799.00  7 Days Replacement    Sunday, May 30   \n",
       "62   42,167 ratings            -  7 Days Replacement    Sunday, May 30   \n",
       "63    1,274 ratings            -  7 Days Replacement    Sunday, May 30   \n",
       "64      159 ratings   ₹ 8,499.00  7 Days Replacement    Sunday, May 30   \n",
       "65                -            -  7 Days Replacement        June 4 - 7   \n",
       "\n",
       "   Availability                                      Other Details  \n",
       "0     In stock.  About this item\\n48MP+8MP+5MP+5MP Quad camera ...  \n",
       "1     In stock.  About this item\\nQuad Camera Setup - 64MP (F1....  \n",
       "2     In stock.  About this item\\nQuad Camera Setup - 64MP (F1....  \n",
       "3     In stock.  About this item\\n13+2MP Rear camera with AI Po...  \n",
       "4     In stock.  About this item\\nCountry Of Origin - India\\n13...  \n",
       "..          ...                                                ...  \n",
       "61    In stock.  About this item\\n13+2MP Rear camera with AI Po...  \n",
       "62    In stock.  About this item\\nCountry Of Origin - India\\n13...  \n",
       "63    In stock.  About this item\\n13MP (F1.8) main camera + 5MP...  \n",
       "64    In stock.  About this item\\n16MP AI dual rear Camera Quad...  \n",
       "65            -  About this item\\n15.79 cm (6.22 inch) HD+ Disp...  \n",
       "\n",
       "[66 rows x 10 columns]"
      ]
     },
     "execution_count": 148,
     "metadata": {},
     "output_type": "execute_result"
    }
   ],
   "source": [
    "Amazon_product_details"
   ]
  },
  {
   "cell_type": "code",
   "execution_count": 149,
   "metadata": {},
   "outputs": [],
   "source": [
    "Amazon_product_details.to_csv('Amazon_product_details.csv')"
   ]
  },
  {
   "cell_type": "markdown",
   "metadata": {},
   "source": [
    "    Q3.Write a python program to access the search bar and search button on images.google.com and \n",
    "scrape 100 images each for keywords ‘fruits’, ‘cars’ and ‘Machine Learning’.\n"
   ]
  },
  {
   "cell_type": "code",
   "execution_count": 308,
   "metadata": {},
   "outputs": [],
   "source": [
    "#Lets connect to webdriver\n",
    "driver=webdriver.Chrome(r\"C:/chromedriver\")"
   ]
  },
  {
   "cell_type": "code",
   "execution_count": 309,
   "metadata": {},
   "outputs": [],
   "source": [
    "#Opening the homepage\n",
    "driver.get(\"https://www.google.com/imghp?hl=EN\")"
   ]
  },
  {
   "cell_type": "code",
   "execution_count": 310,
   "metadata": {},
   "outputs": [],
   "source": [
    "search_bar3=driver.find_element_by_xpath(\"/html/body/div[2]/div[2]/div[2]/form/div[1]/div[1]/div[1]/div/div[2]/input\")"
   ]
  },
  {
   "cell_type": "code",
   "execution_count": 311,
   "metadata": {},
   "outputs": [],
   "source": [
    "#clearing the searchbar if any input is already there\n",
    "search_bar3.clear()\n",
    "search_bar3.send_keys('Fruits')\n",
    "time.sleep(4)\n",
    "search_button1=driver.find_element_by_xpath('//span[@class=\"z1asCe MZy1Rb\"]')\n",
    "search_button1.click()"
   ]
  },
  {
   "cell_type": "code",
   "execution_count": 302,
   "metadata": {},
   "outputs": [
    {
     "name": "stdout",
     "output_type": "stream",
     "text": [
      "start scrolling to generate more images on the page...\n"
     ]
    }
   ],
   "source": [
    "#Fetch all the urls for images\n",
    "Image_urls=[]\n",
    "for i in range(0,3):\n",
    "    for j in driver.find_elements_by_xpath('//img[@class=\"rg_i Q4LuWd\"]'):\n",
    "        source=(j.get_attribute('src'))\n",
    "        if source is not None:\n",
    "             if(source[0:4] == 'http'):\n",
    "                    if(len(Image_urls)< 100):\n",
    "                        print(\"start scrolling to generate more images on the page...\")\n",
    "                        for _ in range(100):\n",
    "                            driver.execute_script(\"window.scrollBy(0,10000)\")\n",
    "                            Image_urls.append(source)\n",
    "                    if(len(Image_urls)== 100):\n",
    "                        break\n",
    "        \n",
    "       "
   ]
  },
  {
   "cell_type": "code",
   "execution_count": 303,
   "metadata": {},
   "outputs": [
    {
     "data": {
      "text/plain": [
       "100"
      ]
     },
     "execution_count": 303,
     "metadata": {},
     "output_type": "execute_result"
    }
   ],
   "source": [
    "len(Image_urls)"
   ]
  },
  {
   "cell_type": "code",
   "execution_count": 304,
   "metadata": {},
   "outputs": [],
   "source": [
    "import urllib.request"
   ]
  },
  {
   "cell_type": "code",
   "execution_count": 305,
   "metadata": {},
   "outputs": [
    {
     "data": {
      "text/plain": [
       "['https://encrypted-tbn0.gstatic.com/images?q=tbn:ANd9GcSU8908ZiQ-8SkCe--IgWNFs9AnpUIRovgcfQ&usqp=CAU',\n",
       " 'https://encrypted-tbn0.gstatic.com/images?q=tbn:ANd9GcSU8908ZiQ-8SkCe--IgWNFs9AnpUIRovgcfQ&usqp=CAU',\n",
       " 'https://encrypted-tbn0.gstatic.com/images?q=tbn:ANd9GcSU8908ZiQ-8SkCe--IgWNFs9AnpUIRovgcfQ&usqp=CAU',\n",
       " 'https://encrypted-tbn0.gstatic.com/images?q=tbn:ANd9GcSU8908ZiQ-8SkCe--IgWNFs9AnpUIRovgcfQ&usqp=CAU',\n",
       " 'https://encrypted-tbn0.gstatic.com/images?q=tbn:ANd9GcSU8908ZiQ-8SkCe--IgWNFs9AnpUIRovgcfQ&usqp=CAU',\n",
       " 'https://encrypted-tbn0.gstatic.com/images?q=tbn:ANd9GcSU8908ZiQ-8SkCe--IgWNFs9AnpUIRovgcfQ&usqp=CAU',\n",
       " 'https://encrypted-tbn0.gstatic.com/images?q=tbn:ANd9GcSU8908ZiQ-8SkCe--IgWNFs9AnpUIRovgcfQ&usqp=CAU',\n",
       " 'https://encrypted-tbn0.gstatic.com/images?q=tbn:ANd9GcSU8908ZiQ-8SkCe--IgWNFs9AnpUIRovgcfQ&usqp=CAU',\n",
       " 'https://encrypted-tbn0.gstatic.com/images?q=tbn:ANd9GcSU8908ZiQ-8SkCe--IgWNFs9AnpUIRovgcfQ&usqp=CAU',\n",
       " 'https://encrypted-tbn0.gstatic.com/images?q=tbn:ANd9GcSU8908ZiQ-8SkCe--IgWNFs9AnpUIRovgcfQ&usqp=CAU',\n",
       " 'https://encrypted-tbn0.gstatic.com/images?q=tbn:ANd9GcSU8908ZiQ-8SkCe--IgWNFs9AnpUIRovgcfQ&usqp=CAU',\n",
       " 'https://encrypted-tbn0.gstatic.com/images?q=tbn:ANd9GcSU8908ZiQ-8SkCe--IgWNFs9AnpUIRovgcfQ&usqp=CAU',\n",
       " 'https://encrypted-tbn0.gstatic.com/images?q=tbn:ANd9GcSU8908ZiQ-8SkCe--IgWNFs9AnpUIRovgcfQ&usqp=CAU',\n",
       " 'https://encrypted-tbn0.gstatic.com/images?q=tbn:ANd9GcSU8908ZiQ-8SkCe--IgWNFs9AnpUIRovgcfQ&usqp=CAU',\n",
       " 'https://encrypted-tbn0.gstatic.com/images?q=tbn:ANd9GcSU8908ZiQ-8SkCe--IgWNFs9AnpUIRovgcfQ&usqp=CAU',\n",
       " 'https://encrypted-tbn0.gstatic.com/images?q=tbn:ANd9GcSU8908ZiQ-8SkCe--IgWNFs9AnpUIRovgcfQ&usqp=CAU',\n",
       " 'https://encrypted-tbn0.gstatic.com/images?q=tbn:ANd9GcSU8908ZiQ-8SkCe--IgWNFs9AnpUIRovgcfQ&usqp=CAU',\n",
       " 'https://encrypted-tbn0.gstatic.com/images?q=tbn:ANd9GcSU8908ZiQ-8SkCe--IgWNFs9AnpUIRovgcfQ&usqp=CAU',\n",
       " 'https://encrypted-tbn0.gstatic.com/images?q=tbn:ANd9GcSU8908ZiQ-8SkCe--IgWNFs9AnpUIRovgcfQ&usqp=CAU',\n",
       " 'https://encrypted-tbn0.gstatic.com/images?q=tbn:ANd9GcSU8908ZiQ-8SkCe--IgWNFs9AnpUIRovgcfQ&usqp=CAU',\n",
       " 'https://encrypted-tbn0.gstatic.com/images?q=tbn:ANd9GcSU8908ZiQ-8SkCe--IgWNFs9AnpUIRovgcfQ&usqp=CAU',\n",
       " 'https://encrypted-tbn0.gstatic.com/images?q=tbn:ANd9GcSU8908ZiQ-8SkCe--IgWNFs9AnpUIRovgcfQ&usqp=CAU',\n",
       " 'https://encrypted-tbn0.gstatic.com/images?q=tbn:ANd9GcSU8908ZiQ-8SkCe--IgWNFs9AnpUIRovgcfQ&usqp=CAU',\n",
       " 'https://encrypted-tbn0.gstatic.com/images?q=tbn:ANd9GcSU8908ZiQ-8SkCe--IgWNFs9AnpUIRovgcfQ&usqp=CAU',\n",
       " 'https://encrypted-tbn0.gstatic.com/images?q=tbn:ANd9GcSU8908ZiQ-8SkCe--IgWNFs9AnpUIRovgcfQ&usqp=CAU',\n",
       " 'https://encrypted-tbn0.gstatic.com/images?q=tbn:ANd9GcSU8908ZiQ-8SkCe--IgWNFs9AnpUIRovgcfQ&usqp=CAU',\n",
       " 'https://encrypted-tbn0.gstatic.com/images?q=tbn:ANd9GcSU8908ZiQ-8SkCe--IgWNFs9AnpUIRovgcfQ&usqp=CAU',\n",
       " 'https://encrypted-tbn0.gstatic.com/images?q=tbn:ANd9GcSU8908ZiQ-8SkCe--IgWNFs9AnpUIRovgcfQ&usqp=CAU',\n",
       " 'https://encrypted-tbn0.gstatic.com/images?q=tbn:ANd9GcSU8908ZiQ-8SkCe--IgWNFs9AnpUIRovgcfQ&usqp=CAU',\n",
       " 'https://encrypted-tbn0.gstatic.com/images?q=tbn:ANd9GcSU8908ZiQ-8SkCe--IgWNFs9AnpUIRovgcfQ&usqp=CAU',\n",
       " 'https://encrypted-tbn0.gstatic.com/images?q=tbn:ANd9GcSU8908ZiQ-8SkCe--IgWNFs9AnpUIRovgcfQ&usqp=CAU',\n",
       " 'https://encrypted-tbn0.gstatic.com/images?q=tbn:ANd9GcSU8908ZiQ-8SkCe--IgWNFs9AnpUIRovgcfQ&usqp=CAU',\n",
       " 'https://encrypted-tbn0.gstatic.com/images?q=tbn:ANd9GcSU8908ZiQ-8SkCe--IgWNFs9AnpUIRovgcfQ&usqp=CAU',\n",
       " 'https://encrypted-tbn0.gstatic.com/images?q=tbn:ANd9GcSU8908ZiQ-8SkCe--IgWNFs9AnpUIRovgcfQ&usqp=CAU',\n",
       " 'https://encrypted-tbn0.gstatic.com/images?q=tbn:ANd9GcSU8908ZiQ-8SkCe--IgWNFs9AnpUIRovgcfQ&usqp=CAU',\n",
       " 'https://encrypted-tbn0.gstatic.com/images?q=tbn:ANd9GcSU8908ZiQ-8SkCe--IgWNFs9AnpUIRovgcfQ&usqp=CAU',\n",
       " 'https://encrypted-tbn0.gstatic.com/images?q=tbn:ANd9GcSU8908ZiQ-8SkCe--IgWNFs9AnpUIRovgcfQ&usqp=CAU',\n",
       " 'https://encrypted-tbn0.gstatic.com/images?q=tbn:ANd9GcSU8908ZiQ-8SkCe--IgWNFs9AnpUIRovgcfQ&usqp=CAU',\n",
       " 'https://encrypted-tbn0.gstatic.com/images?q=tbn:ANd9GcSU8908ZiQ-8SkCe--IgWNFs9AnpUIRovgcfQ&usqp=CAU',\n",
       " 'https://encrypted-tbn0.gstatic.com/images?q=tbn:ANd9GcSU8908ZiQ-8SkCe--IgWNFs9AnpUIRovgcfQ&usqp=CAU',\n",
       " 'https://encrypted-tbn0.gstatic.com/images?q=tbn:ANd9GcSU8908ZiQ-8SkCe--IgWNFs9AnpUIRovgcfQ&usqp=CAU',\n",
       " 'https://encrypted-tbn0.gstatic.com/images?q=tbn:ANd9GcSU8908ZiQ-8SkCe--IgWNFs9AnpUIRovgcfQ&usqp=CAU',\n",
       " 'https://encrypted-tbn0.gstatic.com/images?q=tbn:ANd9GcSU8908ZiQ-8SkCe--IgWNFs9AnpUIRovgcfQ&usqp=CAU',\n",
       " 'https://encrypted-tbn0.gstatic.com/images?q=tbn:ANd9GcSU8908ZiQ-8SkCe--IgWNFs9AnpUIRovgcfQ&usqp=CAU',\n",
       " 'https://encrypted-tbn0.gstatic.com/images?q=tbn:ANd9GcSU8908ZiQ-8SkCe--IgWNFs9AnpUIRovgcfQ&usqp=CAU',\n",
       " 'https://encrypted-tbn0.gstatic.com/images?q=tbn:ANd9GcSU8908ZiQ-8SkCe--IgWNFs9AnpUIRovgcfQ&usqp=CAU',\n",
       " 'https://encrypted-tbn0.gstatic.com/images?q=tbn:ANd9GcSU8908ZiQ-8SkCe--IgWNFs9AnpUIRovgcfQ&usqp=CAU',\n",
       " 'https://encrypted-tbn0.gstatic.com/images?q=tbn:ANd9GcSU8908ZiQ-8SkCe--IgWNFs9AnpUIRovgcfQ&usqp=CAU',\n",
       " 'https://encrypted-tbn0.gstatic.com/images?q=tbn:ANd9GcSU8908ZiQ-8SkCe--IgWNFs9AnpUIRovgcfQ&usqp=CAU',\n",
       " 'https://encrypted-tbn0.gstatic.com/images?q=tbn:ANd9GcSU8908ZiQ-8SkCe--IgWNFs9AnpUIRovgcfQ&usqp=CAU',\n",
       " 'https://encrypted-tbn0.gstatic.com/images?q=tbn:ANd9GcSU8908ZiQ-8SkCe--IgWNFs9AnpUIRovgcfQ&usqp=CAU',\n",
       " 'https://encrypted-tbn0.gstatic.com/images?q=tbn:ANd9GcSU8908ZiQ-8SkCe--IgWNFs9AnpUIRovgcfQ&usqp=CAU',\n",
       " 'https://encrypted-tbn0.gstatic.com/images?q=tbn:ANd9GcSU8908ZiQ-8SkCe--IgWNFs9AnpUIRovgcfQ&usqp=CAU',\n",
       " 'https://encrypted-tbn0.gstatic.com/images?q=tbn:ANd9GcSU8908ZiQ-8SkCe--IgWNFs9AnpUIRovgcfQ&usqp=CAU',\n",
       " 'https://encrypted-tbn0.gstatic.com/images?q=tbn:ANd9GcSU8908ZiQ-8SkCe--IgWNFs9AnpUIRovgcfQ&usqp=CAU',\n",
       " 'https://encrypted-tbn0.gstatic.com/images?q=tbn:ANd9GcSU8908ZiQ-8SkCe--IgWNFs9AnpUIRovgcfQ&usqp=CAU',\n",
       " 'https://encrypted-tbn0.gstatic.com/images?q=tbn:ANd9GcSU8908ZiQ-8SkCe--IgWNFs9AnpUIRovgcfQ&usqp=CAU',\n",
       " 'https://encrypted-tbn0.gstatic.com/images?q=tbn:ANd9GcSU8908ZiQ-8SkCe--IgWNFs9AnpUIRovgcfQ&usqp=CAU',\n",
       " 'https://encrypted-tbn0.gstatic.com/images?q=tbn:ANd9GcSU8908ZiQ-8SkCe--IgWNFs9AnpUIRovgcfQ&usqp=CAU',\n",
       " 'https://encrypted-tbn0.gstatic.com/images?q=tbn:ANd9GcSU8908ZiQ-8SkCe--IgWNFs9AnpUIRovgcfQ&usqp=CAU',\n",
       " 'https://encrypted-tbn0.gstatic.com/images?q=tbn:ANd9GcSU8908ZiQ-8SkCe--IgWNFs9AnpUIRovgcfQ&usqp=CAU',\n",
       " 'https://encrypted-tbn0.gstatic.com/images?q=tbn:ANd9GcSU8908ZiQ-8SkCe--IgWNFs9AnpUIRovgcfQ&usqp=CAU',\n",
       " 'https://encrypted-tbn0.gstatic.com/images?q=tbn:ANd9GcSU8908ZiQ-8SkCe--IgWNFs9AnpUIRovgcfQ&usqp=CAU',\n",
       " 'https://encrypted-tbn0.gstatic.com/images?q=tbn:ANd9GcSU8908ZiQ-8SkCe--IgWNFs9AnpUIRovgcfQ&usqp=CAU',\n",
       " 'https://encrypted-tbn0.gstatic.com/images?q=tbn:ANd9GcSU8908ZiQ-8SkCe--IgWNFs9AnpUIRovgcfQ&usqp=CAU',\n",
       " 'https://encrypted-tbn0.gstatic.com/images?q=tbn:ANd9GcSU8908ZiQ-8SkCe--IgWNFs9AnpUIRovgcfQ&usqp=CAU',\n",
       " 'https://encrypted-tbn0.gstatic.com/images?q=tbn:ANd9GcSU8908ZiQ-8SkCe--IgWNFs9AnpUIRovgcfQ&usqp=CAU',\n",
       " 'https://encrypted-tbn0.gstatic.com/images?q=tbn:ANd9GcSU8908ZiQ-8SkCe--IgWNFs9AnpUIRovgcfQ&usqp=CAU',\n",
       " 'https://encrypted-tbn0.gstatic.com/images?q=tbn:ANd9GcSU8908ZiQ-8SkCe--IgWNFs9AnpUIRovgcfQ&usqp=CAU',\n",
       " 'https://encrypted-tbn0.gstatic.com/images?q=tbn:ANd9GcSU8908ZiQ-8SkCe--IgWNFs9AnpUIRovgcfQ&usqp=CAU',\n",
       " 'https://encrypted-tbn0.gstatic.com/images?q=tbn:ANd9GcSU8908ZiQ-8SkCe--IgWNFs9AnpUIRovgcfQ&usqp=CAU',\n",
       " 'https://encrypted-tbn0.gstatic.com/images?q=tbn:ANd9GcSU8908ZiQ-8SkCe--IgWNFs9AnpUIRovgcfQ&usqp=CAU',\n",
       " 'https://encrypted-tbn0.gstatic.com/images?q=tbn:ANd9GcSU8908ZiQ-8SkCe--IgWNFs9AnpUIRovgcfQ&usqp=CAU',\n",
       " 'https://encrypted-tbn0.gstatic.com/images?q=tbn:ANd9GcSU8908ZiQ-8SkCe--IgWNFs9AnpUIRovgcfQ&usqp=CAU',\n",
       " 'https://encrypted-tbn0.gstatic.com/images?q=tbn:ANd9GcSU8908ZiQ-8SkCe--IgWNFs9AnpUIRovgcfQ&usqp=CAU',\n",
       " 'https://encrypted-tbn0.gstatic.com/images?q=tbn:ANd9GcSU8908ZiQ-8SkCe--IgWNFs9AnpUIRovgcfQ&usqp=CAU',\n",
       " 'https://encrypted-tbn0.gstatic.com/images?q=tbn:ANd9GcSU8908ZiQ-8SkCe--IgWNFs9AnpUIRovgcfQ&usqp=CAU',\n",
       " 'https://encrypted-tbn0.gstatic.com/images?q=tbn:ANd9GcSU8908ZiQ-8SkCe--IgWNFs9AnpUIRovgcfQ&usqp=CAU',\n",
       " 'https://encrypted-tbn0.gstatic.com/images?q=tbn:ANd9GcSU8908ZiQ-8SkCe--IgWNFs9AnpUIRovgcfQ&usqp=CAU',\n",
       " 'https://encrypted-tbn0.gstatic.com/images?q=tbn:ANd9GcSU8908ZiQ-8SkCe--IgWNFs9AnpUIRovgcfQ&usqp=CAU',\n",
       " 'https://encrypted-tbn0.gstatic.com/images?q=tbn:ANd9GcSU8908ZiQ-8SkCe--IgWNFs9AnpUIRovgcfQ&usqp=CAU',\n",
       " 'https://encrypted-tbn0.gstatic.com/images?q=tbn:ANd9GcSU8908ZiQ-8SkCe--IgWNFs9AnpUIRovgcfQ&usqp=CAU',\n",
       " 'https://encrypted-tbn0.gstatic.com/images?q=tbn:ANd9GcSU8908ZiQ-8SkCe--IgWNFs9AnpUIRovgcfQ&usqp=CAU',\n",
       " 'https://encrypted-tbn0.gstatic.com/images?q=tbn:ANd9GcSU8908ZiQ-8SkCe--IgWNFs9AnpUIRovgcfQ&usqp=CAU',\n",
       " 'https://encrypted-tbn0.gstatic.com/images?q=tbn:ANd9GcSU8908ZiQ-8SkCe--IgWNFs9AnpUIRovgcfQ&usqp=CAU',\n",
       " 'https://encrypted-tbn0.gstatic.com/images?q=tbn:ANd9GcSU8908ZiQ-8SkCe--IgWNFs9AnpUIRovgcfQ&usqp=CAU',\n",
       " 'https://encrypted-tbn0.gstatic.com/images?q=tbn:ANd9GcSU8908ZiQ-8SkCe--IgWNFs9AnpUIRovgcfQ&usqp=CAU',\n",
       " 'https://encrypted-tbn0.gstatic.com/images?q=tbn:ANd9GcSU8908ZiQ-8SkCe--IgWNFs9AnpUIRovgcfQ&usqp=CAU',\n",
       " 'https://encrypted-tbn0.gstatic.com/images?q=tbn:ANd9GcSU8908ZiQ-8SkCe--IgWNFs9AnpUIRovgcfQ&usqp=CAU',\n",
       " 'https://encrypted-tbn0.gstatic.com/images?q=tbn:ANd9GcSU8908ZiQ-8SkCe--IgWNFs9AnpUIRovgcfQ&usqp=CAU',\n",
       " 'https://encrypted-tbn0.gstatic.com/images?q=tbn:ANd9GcSU8908ZiQ-8SkCe--IgWNFs9AnpUIRovgcfQ&usqp=CAU',\n",
       " 'https://encrypted-tbn0.gstatic.com/images?q=tbn:ANd9GcSU8908ZiQ-8SkCe--IgWNFs9AnpUIRovgcfQ&usqp=CAU',\n",
       " 'https://encrypted-tbn0.gstatic.com/images?q=tbn:ANd9GcSU8908ZiQ-8SkCe--IgWNFs9AnpUIRovgcfQ&usqp=CAU',\n",
       " 'https://encrypted-tbn0.gstatic.com/images?q=tbn:ANd9GcSU8908ZiQ-8SkCe--IgWNFs9AnpUIRovgcfQ&usqp=CAU',\n",
       " 'https://encrypted-tbn0.gstatic.com/images?q=tbn:ANd9GcSU8908ZiQ-8SkCe--IgWNFs9AnpUIRovgcfQ&usqp=CAU',\n",
       " 'https://encrypted-tbn0.gstatic.com/images?q=tbn:ANd9GcSU8908ZiQ-8SkCe--IgWNFs9AnpUIRovgcfQ&usqp=CAU',\n",
       " 'https://encrypted-tbn0.gstatic.com/images?q=tbn:ANd9GcSU8908ZiQ-8SkCe--IgWNFs9AnpUIRovgcfQ&usqp=CAU',\n",
       " 'https://encrypted-tbn0.gstatic.com/images?q=tbn:ANd9GcSU8908ZiQ-8SkCe--IgWNFs9AnpUIRovgcfQ&usqp=CAU',\n",
       " 'https://encrypted-tbn0.gstatic.com/images?q=tbn:ANd9GcSU8908ZiQ-8SkCe--IgWNFs9AnpUIRovgcfQ&usqp=CAU',\n",
       " 'https://encrypted-tbn0.gstatic.com/images?q=tbn:ANd9GcSU8908ZiQ-8SkCe--IgWNFs9AnpUIRovgcfQ&usqp=CAU']"
      ]
     },
     "execution_count": 305,
     "metadata": {},
     "output_type": "execute_result"
    }
   ],
   "source": [
    "Image_urls"
   ]
  },
  {
   "cell_type": "code",
   "execution_count": 306,
   "metadata": {},
   "outputs": [],
   "source": [
    "import requests"
   ]
  },
  {
   "cell_type": "code",
   "execution_count": 307,
   "metadata": {},
   "outputs": [
    {
     "name": "stdout",
     "output_type": "stream",
     "text": [
      "Downloading 0 of 100 images\n",
      "Downloading 1 of 100 images\n",
      "Downloading 2 of 100 images\n",
      "Downloading 3 of 100 images\n",
      "Downloading 4 of 100 images\n",
      "Downloading 5 of 100 images\n",
      "Downloading 6 of 100 images\n",
      "Downloading 7 of 100 images\n",
      "Downloading 8 of 100 images\n",
      "Downloading 9 of 100 images\n",
      "Downloading 10 of 100 images\n",
      "Downloading 11 of 100 images\n",
      "Downloading 12 of 100 images\n",
      "Downloading 13 of 100 images\n",
      "Downloading 14 of 100 images\n",
      "Downloading 15 of 100 images\n",
      "Downloading 16 of 100 images\n",
      "Downloading 17 of 100 images\n",
      "Downloading 18 of 100 images\n",
      "Downloading 19 of 100 images\n",
      "Downloading 20 of 100 images\n",
      "Downloading 21 of 100 images\n",
      "Downloading 22 of 100 images\n",
      "Downloading 23 of 100 images\n",
      "Downloading 24 of 100 images\n",
      "Downloading 25 of 100 images\n",
      "Downloading 26 of 100 images\n",
      "Downloading 27 of 100 images\n",
      "Downloading 28 of 100 images\n",
      "Downloading 29 of 100 images\n",
      "Downloading 30 of 100 images\n",
      "Downloading 31 of 100 images\n",
      "Downloading 32 of 100 images\n",
      "Downloading 33 of 100 images\n",
      "Downloading 34 of 100 images\n",
      "Downloading 35 of 100 images\n",
      "Downloading 36 of 100 images\n",
      "Downloading 37 of 100 images\n",
      "Downloading 38 of 100 images\n",
      "Downloading 39 of 100 images\n",
      "Downloading 40 of 100 images\n",
      "Downloading 41 of 100 images\n",
      "Downloading 42 of 100 images\n",
      "Downloading 43 of 100 images\n",
      "Downloading 44 of 100 images\n",
      "Downloading 45 of 100 images\n",
      "Downloading 46 of 100 images\n",
      "Downloading 47 of 100 images\n",
      "Downloading 48 of 100 images\n",
      "Downloading 49 of 100 images\n",
      "Downloading 50 of 100 images\n",
      "Downloading 51 of 100 images\n",
      "Downloading 52 of 100 images\n",
      "Downloading 53 of 100 images\n",
      "Downloading 54 of 100 images\n",
      "Downloading 55 of 100 images\n",
      "Downloading 56 of 100 images\n",
      "Downloading 57 of 100 images\n",
      "Downloading 58 of 100 images\n",
      "Downloading 59 of 100 images\n",
      "Downloading 60 of 100 images\n",
      "Downloading 61 of 100 images\n",
      "Downloading 62 of 100 images\n",
      "Downloading 63 of 100 images\n",
      "Downloading 64 of 100 images\n",
      "Downloading 65 of 100 images\n",
      "Downloading 66 of 100 images\n",
      "Downloading 67 of 100 images\n",
      "Downloading 68 of 100 images\n",
      "Downloading 69 of 100 images\n",
      "Downloading 70 of 100 images\n",
      "Downloading 71 of 100 images\n",
      "Downloading 72 of 100 images\n",
      "Downloading 73 of 100 images\n",
      "Downloading 74 of 100 images\n",
      "Downloading 75 of 100 images\n",
      "Downloading 76 of 100 images\n",
      "Downloading 77 of 100 images\n",
      "Downloading 78 of 100 images\n",
      "Downloading 79 of 100 images\n",
      "Downloading 80 of 100 images\n",
      "Downloading 81 of 100 images\n",
      "Downloading 82 of 100 images\n",
      "Downloading 83 of 100 images\n",
      "Downloading 84 of 100 images\n",
      "Downloading 85 of 100 images\n",
      "Downloading 86 of 100 images\n",
      "Downloading 87 of 100 images\n",
      "Downloading 88 of 100 images\n",
      "Downloading 89 of 100 images\n",
      "Downloading 90 of 100 images\n",
      "Downloading 91 of 100 images\n",
      "Downloading 92 of 100 images\n",
      "Downloading 93 of 100 images\n",
      "Downloading 94 of 100 images\n",
      "Downloading 95 of 100 images\n",
      "Downloading 96 of 100 images\n",
      "Downloading 97 of 100 images\n",
      "Downloading 98 of 100 images\n",
      "Downloading 99 of 100 images\n"
     ]
    }
   ],
   "source": [
    "for i in range(len(Image_urls)):\n",
    "    if i >= 100:\n",
    "        break\n",
    "    print(\"Downloading {0} of {1} images\" .format(i, 100))\n",
    "    response= requests.get(Image_urls[i])\n",
    "    file = open(r\"C:/downloads/img\"+str(i)+\".jpg\", \"wb\")\n",
    "    file.write(response.content)"
   ]
  },
  {
   "cell_type": "code",
   "execution_count": 324,
   "metadata": {},
   "outputs": [],
   "source": [
    "\n",
    "#Opening tab for scraping images of cars\n",
    "driver.get(\"https://www.google.com/imghp?hl=EN\")\n"
   ]
  },
  {
   "cell_type": "code",
   "execution_count": 325,
   "metadata": {},
   "outputs": [],
   "source": [
    "#location of search_bar\n",
    "search_bar3=driver.find_element_by_xpath(\"/html/body/div[2]/div[2]/div[2]/form/div[1]/div[1]/div[1]/div/div[2]/input\")\n"
   ]
  },
  {
   "cell_type": "code",
   "execution_count": 327,
   "metadata": {},
   "outputs": [],
   "source": [
    "search_bar3.clear()\n",
    "search_bar3.send_keys('cars')\n",
    "time.sleep(4)\n",
    "search_button1=driver.find_element_by_xpath('//span[@class=\"z1asCe MZy1Rb\"]')\n",
    "search_button1.click()"
   ]
  },
  {
   "cell_type": "code",
   "execution_count": 328,
   "metadata": {},
   "outputs": [
    {
     "name": "stdout",
     "output_type": "stream",
     "text": [
      "start scrolling to generate more images on the page...\n"
     ]
    }
   ],
   "source": [
    "#Fetch all the urls for first 100 images\n",
    "Image_urls=[]\n",
    "for i in range(0,3):\n",
    "    for j in driver.find_elements_by_xpath('//img[@class=\"rg_i Q4LuWd\"]'):\n",
    "        source=(j.get_attribute('src'))\n",
    "        if source is not None:\n",
    "             if(source[0:4] == 'http'):\n",
    "                    if(len(Image_urls)< 100):\n",
    "                        print(\"start scrolling to generate more images on the page...\")\n",
    "                        for _ in range(100):\n",
    "                            driver.execute_script(\"window.scrollBy(0,10000)\")\n",
    "                            Image_urls.append(source)\n",
    "                    if(len(Image_urls)== 100):\n",
    "                        break"
   ]
  },
  {
   "cell_type": "code",
   "execution_count": 329,
   "metadata": {},
   "outputs": [
    {
     "data": {
      "text/plain": [
       "100"
      ]
     },
     "execution_count": 329,
     "metadata": {},
     "output_type": "execute_result"
    }
   ],
   "source": [
    "len(Image_urls)"
   ]
  },
  {
   "cell_type": "code",
   "execution_count": 330,
   "metadata": {},
   "outputs": [
    {
     "data": {
      "text/plain": [
       "['https://encrypted-tbn0.gstatic.com/images?q=tbn:ANd9GcSpZ_PDUP9riLSxSoep77PZ9biFYtabFd31DQ&usqp=CAU',\n",
       " 'https://encrypted-tbn0.gstatic.com/images?q=tbn:ANd9GcSpZ_PDUP9riLSxSoep77PZ9biFYtabFd31DQ&usqp=CAU',\n",
       " 'https://encrypted-tbn0.gstatic.com/images?q=tbn:ANd9GcSpZ_PDUP9riLSxSoep77PZ9biFYtabFd31DQ&usqp=CAU',\n",
       " 'https://encrypted-tbn0.gstatic.com/images?q=tbn:ANd9GcSpZ_PDUP9riLSxSoep77PZ9biFYtabFd31DQ&usqp=CAU',\n",
       " 'https://encrypted-tbn0.gstatic.com/images?q=tbn:ANd9GcSpZ_PDUP9riLSxSoep77PZ9biFYtabFd31DQ&usqp=CAU',\n",
       " 'https://encrypted-tbn0.gstatic.com/images?q=tbn:ANd9GcSpZ_PDUP9riLSxSoep77PZ9biFYtabFd31DQ&usqp=CAU',\n",
       " 'https://encrypted-tbn0.gstatic.com/images?q=tbn:ANd9GcSpZ_PDUP9riLSxSoep77PZ9biFYtabFd31DQ&usqp=CAU',\n",
       " 'https://encrypted-tbn0.gstatic.com/images?q=tbn:ANd9GcSpZ_PDUP9riLSxSoep77PZ9biFYtabFd31DQ&usqp=CAU',\n",
       " 'https://encrypted-tbn0.gstatic.com/images?q=tbn:ANd9GcSpZ_PDUP9riLSxSoep77PZ9biFYtabFd31DQ&usqp=CAU',\n",
       " 'https://encrypted-tbn0.gstatic.com/images?q=tbn:ANd9GcSpZ_PDUP9riLSxSoep77PZ9biFYtabFd31DQ&usqp=CAU',\n",
       " 'https://encrypted-tbn0.gstatic.com/images?q=tbn:ANd9GcSpZ_PDUP9riLSxSoep77PZ9biFYtabFd31DQ&usqp=CAU',\n",
       " 'https://encrypted-tbn0.gstatic.com/images?q=tbn:ANd9GcSpZ_PDUP9riLSxSoep77PZ9biFYtabFd31DQ&usqp=CAU',\n",
       " 'https://encrypted-tbn0.gstatic.com/images?q=tbn:ANd9GcSpZ_PDUP9riLSxSoep77PZ9biFYtabFd31DQ&usqp=CAU',\n",
       " 'https://encrypted-tbn0.gstatic.com/images?q=tbn:ANd9GcSpZ_PDUP9riLSxSoep77PZ9biFYtabFd31DQ&usqp=CAU',\n",
       " 'https://encrypted-tbn0.gstatic.com/images?q=tbn:ANd9GcSpZ_PDUP9riLSxSoep77PZ9biFYtabFd31DQ&usqp=CAU',\n",
       " 'https://encrypted-tbn0.gstatic.com/images?q=tbn:ANd9GcSpZ_PDUP9riLSxSoep77PZ9biFYtabFd31DQ&usqp=CAU',\n",
       " 'https://encrypted-tbn0.gstatic.com/images?q=tbn:ANd9GcSpZ_PDUP9riLSxSoep77PZ9biFYtabFd31DQ&usqp=CAU',\n",
       " 'https://encrypted-tbn0.gstatic.com/images?q=tbn:ANd9GcSpZ_PDUP9riLSxSoep77PZ9biFYtabFd31DQ&usqp=CAU',\n",
       " 'https://encrypted-tbn0.gstatic.com/images?q=tbn:ANd9GcSpZ_PDUP9riLSxSoep77PZ9biFYtabFd31DQ&usqp=CAU',\n",
       " 'https://encrypted-tbn0.gstatic.com/images?q=tbn:ANd9GcSpZ_PDUP9riLSxSoep77PZ9biFYtabFd31DQ&usqp=CAU',\n",
       " 'https://encrypted-tbn0.gstatic.com/images?q=tbn:ANd9GcSpZ_PDUP9riLSxSoep77PZ9biFYtabFd31DQ&usqp=CAU',\n",
       " 'https://encrypted-tbn0.gstatic.com/images?q=tbn:ANd9GcSpZ_PDUP9riLSxSoep77PZ9biFYtabFd31DQ&usqp=CAU',\n",
       " 'https://encrypted-tbn0.gstatic.com/images?q=tbn:ANd9GcSpZ_PDUP9riLSxSoep77PZ9biFYtabFd31DQ&usqp=CAU',\n",
       " 'https://encrypted-tbn0.gstatic.com/images?q=tbn:ANd9GcSpZ_PDUP9riLSxSoep77PZ9biFYtabFd31DQ&usqp=CAU',\n",
       " 'https://encrypted-tbn0.gstatic.com/images?q=tbn:ANd9GcSpZ_PDUP9riLSxSoep77PZ9biFYtabFd31DQ&usqp=CAU',\n",
       " 'https://encrypted-tbn0.gstatic.com/images?q=tbn:ANd9GcSpZ_PDUP9riLSxSoep77PZ9biFYtabFd31DQ&usqp=CAU',\n",
       " 'https://encrypted-tbn0.gstatic.com/images?q=tbn:ANd9GcSpZ_PDUP9riLSxSoep77PZ9biFYtabFd31DQ&usqp=CAU',\n",
       " 'https://encrypted-tbn0.gstatic.com/images?q=tbn:ANd9GcSpZ_PDUP9riLSxSoep77PZ9biFYtabFd31DQ&usqp=CAU',\n",
       " 'https://encrypted-tbn0.gstatic.com/images?q=tbn:ANd9GcSpZ_PDUP9riLSxSoep77PZ9biFYtabFd31DQ&usqp=CAU',\n",
       " 'https://encrypted-tbn0.gstatic.com/images?q=tbn:ANd9GcSpZ_PDUP9riLSxSoep77PZ9biFYtabFd31DQ&usqp=CAU',\n",
       " 'https://encrypted-tbn0.gstatic.com/images?q=tbn:ANd9GcSpZ_PDUP9riLSxSoep77PZ9biFYtabFd31DQ&usqp=CAU',\n",
       " 'https://encrypted-tbn0.gstatic.com/images?q=tbn:ANd9GcSpZ_PDUP9riLSxSoep77PZ9biFYtabFd31DQ&usqp=CAU',\n",
       " 'https://encrypted-tbn0.gstatic.com/images?q=tbn:ANd9GcSpZ_PDUP9riLSxSoep77PZ9biFYtabFd31DQ&usqp=CAU',\n",
       " 'https://encrypted-tbn0.gstatic.com/images?q=tbn:ANd9GcSpZ_PDUP9riLSxSoep77PZ9biFYtabFd31DQ&usqp=CAU',\n",
       " 'https://encrypted-tbn0.gstatic.com/images?q=tbn:ANd9GcSpZ_PDUP9riLSxSoep77PZ9biFYtabFd31DQ&usqp=CAU',\n",
       " 'https://encrypted-tbn0.gstatic.com/images?q=tbn:ANd9GcSpZ_PDUP9riLSxSoep77PZ9biFYtabFd31DQ&usqp=CAU',\n",
       " 'https://encrypted-tbn0.gstatic.com/images?q=tbn:ANd9GcSpZ_PDUP9riLSxSoep77PZ9biFYtabFd31DQ&usqp=CAU',\n",
       " 'https://encrypted-tbn0.gstatic.com/images?q=tbn:ANd9GcSpZ_PDUP9riLSxSoep77PZ9biFYtabFd31DQ&usqp=CAU',\n",
       " 'https://encrypted-tbn0.gstatic.com/images?q=tbn:ANd9GcSpZ_PDUP9riLSxSoep77PZ9biFYtabFd31DQ&usqp=CAU',\n",
       " 'https://encrypted-tbn0.gstatic.com/images?q=tbn:ANd9GcSpZ_PDUP9riLSxSoep77PZ9biFYtabFd31DQ&usqp=CAU',\n",
       " 'https://encrypted-tbn0.gstatic.com/images?q=tbn:ANd9GcSpZ_PDUP9riLSxSoep77PZ9biFYtabFd31DQ&usqp=CAU',\n",
       " 'https://encrypted-tbn0.gstatic.com/images?q=tbn:ANd9GcSpZ_PDUP9riLSxSoep77PZ9biFYtabFd31DQ&usqp=CAU',\n",
       " 'https://encrypted-tbn0.gstatic.com/images?q=tbn:ANd9GcSpZ_PDUP9riLSxSoep77PZ9biFYtabFd31DQ&usqp=CAU',\n",
       " 'https://encrypted-tbn0.gstatic.com/images?q=tbn:ANd9GcSpZ_PDUP9riLSxSoep77PZ9biFYtabFd31DQ&usqp=CAU',\n",
       " 'https://encrypted-tbn0.gstatic.com/images?q=tbn:ANd9GcSpZ_PDUP9riLSxSoep77PZ9biFYtabFd31DQ&usqp=CAU',\n",
       " 'https://encrypted-tbn0.gstatic.com/images?q=tbn:ANd9GcSpZ_PDUP9riLSxSoep77PZ9biFYtabFd31DQ&usqp=CAU',\n",
       " 'https://encrypted-tbn0.gstatic.com/images?q=tbn:ANd9GcSpZ_PDUP9riLSxSoep77PZ9biFYtabFd31DQ&usqp=CAU',\n",
       " 'https://encrypted-tbn0.gstatic.com/images?q=tbn:ANd9GcSpZ_PDUP9riLSxSoep77PZ9biFYtabFd31DQ&usqp=CAU',\n",
       " 'https://encrypted-tbn0.gstatic.com/images?q=tbn:ANd9GcSpZ_PDUP9riLSxSoep77PZ9biFYtabFd31DQ&usqp=CAU',\n",
       " 'https://encrypted-tbn0.gstatic.com/images?q=tbn:ANd9GcSpZ_PDUP9riLSxSoep77PZ9biFYtabFd31DQ&usqp=CAU',\n",
       " 'https://encrypted-tbn0.gstatic.com/images?q=tbn:ANd9GcSpZ_PDUP9riLSxSoep77PZ9biFYtabFd31DQ&usqp=CAU',\n",
       " 'https://encrypted-tbn0.gstatic.com/images?q=tbn:ANd9GcSpZ_PDUP9riLSxSoep77PZ9biFYtabFd31DQ&usqp=CAU',\n",
       " 'https://encrypted-tbn0.gstatic.com/images?q=tbn:ANd9GcSpZ_PDUP9riLSxSoep77PZ9biFYtabFd31DQ&usqp=CAU',\n",
       " 'https://encrypted-tbn0.gstatic.com/images?q=tbn:ANd9GcSpZ_PDUP9riLSxSoep77PZ9biFYtabFd31DQ&usqp=CAU',\n",
       " 'https://encrypted-tbn0.gstatic.com/images?q=tbn:ANd9GcSpZ_PDUP9riLSxSoep77PZ9biFYtabFd31DQ&usqp=CAU',\n",
       " 'https://encrypted-tbn0.gstatic.com/images?q=tbn:ANd9GcSpZ_PDUP9riLSxSoep77PZ9biFYtabFd31DQ&usqp=CAU',\n",
       " 'https://encrypted-tbn0.gstatic.com/images?q=tbn:ANd9GcSpZ_PDUP9riLSxSoep77PZ9biFYtabFd31DQ&usqp=CAU',\n",
       " 'https://encrypted-tbn0.gstatic.com/images?q=tbn:ANd9GcSpZ_PDUP9riLSxSoep77PZ9biFYtabFd31DQ&usqp=CAU',\n",
       " 'https://encrypted-tbn0.gstatic.com/images?q=tbn:ANd9GcSpZ_PDUP9riLSxSoep77PZ9biFYtabFd31DQ&usqp=CAU',\n",
       " 'https://encrypted-tbn0.gstatic.com/images?q=tbn:ANd9GcSpZ_PDUP9riLSxSoep77PZ9biFYtabFd31DQ&usqp=CAU',\n",
       " 'https://encrypted-tbn0.gstatic.com/images?q=tbn:ANd9GcSpZ_PDUP9riLSxSoep77PZ9biFYtabFd31DQ&usqp=CAU',\n",
       " 'https://encrypted-tbn0.gstatic.com/images?q=tbn:ANd9GcSpZ_PDUP9riLSxSoep77PZ9biFYtabFd31DQ&usqp=CAU',\n",
       " 'https://encrypted-tbn0.gstatic.com/images?q=tbn:ANd9GcSpZ_PDUP9riLSxSoep77PZ9biFYtabFd31DQ&usqp=CAU',\n",
       " 'https://encrypted-tbn0.gstatic.com/images?q=tbn:ANd9GcSpZ_PDUP9riLSxSoep77PZ9biFYtabFd31DQ&usqp=CAU',\n",
       " 'https://encrypted-tbn0.gstatic.com/images?q=tbn:ANd9GcSpZ_PDUP9riLSxSoep77PZ9biFYtabFd31DQ&usqp=CAU',\n",
       " 'https://encrypted-tbn0.gstatic.com/images?q=tbn:ANd9GcSpZ_PDUP9riLSxSoep77PZ9biFYtabFd31DQ&usqp=CAU',\n",
       " 'https://encrypted-tbn0.gstatic.com/images?q=tbn:ANd9GcSpZ_PDUP9riLSxSoep77PZ9biFYtabFd31DQ&usqp=CAU',\n",
       " 'https://encrypted-tbn0.gstatic.com/images?q=tbn:ANd9GcSpZ_PDUP9riLSxSoep77PZ9biFYtabFd31DQ&usqp=CAU',\n",
       " 'https://encrypted-tbn0.gstatic.com/images?q=tbn:ANd9GcSpZ_PDUP9riLSxSoep77PZ9biFYtabFd31DQ&usqp=CAU',\n",
       " 'https://encrypted-tbn0.gstatic.com/images?q=tbn:ANd9GcSpZ_PDUP9riLSxSoep77PZ9biFYtabFd31DQ&usqp=CAU',\n",
       " 'https://encrypted-tbn0.gstatic.com/images?q=tbn:ANd9GcSpZ_PDUP9riLSxSoep77PZ9biFYtabFd31DQ&usqp=CAU',\n",
       " 'https://encrypted-tbn0.gstatic.com/images?q=tbn:ANd9GcSpZ_PDUP9riLSxSoep77PZ9biFYtabFd31DQ&usqp=CAU',\n",
       " 'https://encrypted-tbn0.gstatic.com/images?q=tbn:ANd9GcSpZ_PDUP9riLSxSoep77PZ9biFYtabFd31DQ&usqp=CAU',\n",
       " 'https://encrypted-tbn0.gstatic.com/images?q=tbn:ANd9GcSpZ_PDUP9riLSxSoep77PZ9biFYtabFd31DQ&usqp=CAU',\n",
       " 'https://encrypted-tbn0.gstatic.com/images?q=tbn:ANd9GcSpZ_PDUP9riLSxSoep77PZ9biFYtabFd31DQ&usqp=CAU',\n",
       " 'https://encrypted-tbn0.gstatic.com/images?q=tbn:ANd9GcSpZ_PDUP9riLSxSoep77PZ9biFYtabFd31DQ&usqp=CAU',\n",
       " 'https://encrypted-tbn0.gstatic.com/images?q=tbn:ANd9GcSpZ_PDUP9riLSxSoep77PZ9biFYtabFd31DQ&usqp=CAU',\n",
       " 'https://encrypted-tbn0.gstatic.com/images?q=tbn:ANd9GcSpZ_PDUP9riLSxSoep77PZ9biFYtabFd31DQ&usqp=CAU',\n",
       " 'https://encrypted-tbn0.gstatic.com/images?q=tbn:ANd9GcSpZ_PDUP9riLSxSoep77PZ9biFYtabFd31DQ&usqp=CAU',\n",
       " 'https://encrypted-tbn0.gstatic.com/images?q=tbn:ANd9GcSpZ_PDUP9riLSxSoep77PZ9biFYtabFd31DQ&usqp=CAU',\n",
       " 'https://encrypted-tbn0.gstatic.com/images?q=tbn:ANd9GcSpZ_PDUP9riLSxSoep77PZ9biFYtabFd31DQ&usqp=CAU',\n",
       " 'https://encrypted-tbn0.gstatic.com/images?q=tbn:ANd9GcSpZ_PDUP9riLSxSoep77PZ9biFYtabFd31DQ&usqp=CAU',\n",
       " 'https://encrypted-tbn0.gstatic.com/images?q=tbn:ANd9GcSpZ_PDUP9riLSxSoep77PZ9biFYtabFd31DQ&usqp=CAU',\n",
       " 'https://encrypted-tbn0.gstatic.com/images?q=tbn:ANd9GcSpZ_PDUP9riLSxSoep77PZ9biFYtabFd31DQ&usqp=CAU',\n",
       " 'https://encrypted-tbn0.gstatic.com/images?q=tbn:ANd9GcSpZ_PDUP9riLSxSoep77PZ9biFYtabFd31DQ&usqp=CAU',\n",
       " 'https://encrypted-tbn0.gstatic.com/images?q=tbn:ANd9GcSpZ_PDUP9riLSxSoep77PZ9biFYtabFd31DQ&usqp=CAU',\n",
       " 'https://encrypted-tbn0.gstatic.com/images?q=tbn:ANd9GcSpZ_PDUP9riLSxSoep77PZ9biFYtabFd31DQ&usqp=CAU',\n",
       " 'https://encrypted-tbn0.gstatic.com/images?q=tbn:ANd9GcSpZ_PDUP9riLSxSoep77PZ9biFYtabFd31DQ&usqp=CAU',\n",
       " 'https://encrypted-tbn0.gstatic.com/images?q=tbn:ANd9GcSpZ_PDUP9riLSxSoep77PZ9biFYtabFd31DQ&usqp=CAU',\n",
       " 'https://encrypted-tbn0.gstatic.com/images?q=tbn:ANd9GcSpZ_PDUP9riLSxSoep77PZ9biFYtabFd31DQ&usqp=CAU',\n",
       " 'https://encrypted-tbn0.gstatic.com/images?q=tbn:ANd9GcSpZ_PDUP9riLSxSoep77PZ9biFYtabFd31DQ&usqp=CAU',\n",
       " 'https://encrypted-tbn0.gstatic.com/images?q=tbn:ANd9GcSpZ_PDUP9riLSxSoep77PZ9biFYtabFd31DQ&usqp=CAU',\n",
       " 'https://encrypted-tbn0.gstatic.com/images?q=tbn:ANd9GcSpZ_PDUP9riLSxSoep77PZ9biFYtabFd31DQ&usqp=CAU',\n",
       " 'https://encrypted-tbn0.gstatic.com/images?q=tbn:ANd9GcSpZ_PDUP9riLSxSoep77PZ9biFYtabFd31DQ&usqp=CAU',\n",
       " 'https://encrypted-tbn0.gstatic.com/images?q=tbn:ANd9GcSpZ_PDUP9riLSxSoep77PZ9biFYtabFd31DQ&usqp=CAU',\n",
       " 'https://encrypted-tbn0.gstatic.com/images?q=tbn:ANd9GcSpZ_PDUP9riLSxSoep77PZ9biFYtabFd31DQ&usqp=CAU',\n",
       " 'https://encrypted-tbn0.gstatic.com/images?q=tbn:ANd9GcSpZ_PDUP9riLSxSoep77PZ9biFYtabFd31DQ&usqp=CAU',\n",
       " 'https://encrypted-tbn0.gstatic.com/images?q=tbn:ANd9GcSpZ_PDUP9riLSxSoep77PZ9biFYtabFd31DQ&usqp=CAU',\n",
       " 'https://encrypted-tbn0.gstatic.com/images?q=tbn:ANd9GcSpZ_PDUP9riLSxSoep77PZ9biFYtabFd31DQ&usqp=CAU',\n",
       " 'https://encrypted-tbn0.gstatic.com/images?q=tbn:ANd9GcSpZ_PDUP9riLSxSoep77PZ9biFYtabFd31DQ&usqp=CAU']"
      ]
     },
     "execution_count": 330,
     "metadata": {},
     "output_type": "execute_result"
    }
   ],
   "source": [
    "Image_urls"
   ]
  },
  {
   "cell_type": "code",
   "execution_count": 331,
   "metadata": {},
   "outputs": [
    {
     "name": "stdout",
     "output_type": "stream",
     "text": [
      "Downloading 0 of 100 images\n",
      "Downloading 1 of 100 images\n",
      "Downloading 2 of 100 images\n",
      "Downloading 3 of 100 images\n",
      "Downloading 4 of 100 images\n",
      "Downloading 5 of 100 images\n",
      "Downloading 6 of 100 images\n",
      "Downloading 7 of 100 images\n",
      "Downloading 8 of 100 images\n",
      "Downloading 9 of 100 images\n",
      "Downloading 10 of 100 images\n",
      "Downloading 11 of 100 images\n",
      "Downloading 12 of 100 images\n",
      "Downloading 13 of 100 images\n",
      "Downloading 14 of 100 images\n",
      "Downloading 15 of 100 images\n",
      "Downloading 16 of 100 images\n",
      "Downloading 17 of 100 images\n",
      "Downloading 18 of 100 images\n",
      "Downloading 19 of 100 images\n",
      "Downloading 20 of 100 images\n",
      "Downloading 21 of 100 images\n",
      "Downloading 22 of 100 images\n",
      "Downloading 23 of 100 images\n",
      "Downloading 24 of 100 images\n",
      "Downloading 25 of 100 images\n",
      "Downloading 26 of 100 images\n",
      "Downloading 27 of 100 images\n",
      "Downloading 28 of 100 images\n",
      "Downloading 29 of 100 images\n",
      "Downloading 30 of 100 images\n",
      "Downloading 31 of 100 images\n",
      "Downloading 32 of 100 images\n",
      "Downloading 33 of 100 images\n",
      "Downloading 34 of 100 images\n",
      "Downloading 35 of 100 images\n",
      "Downloading 36 of 100 images\n",
      "Downloading 37 of 100 images\n",
      "Downloading 38 of 100 images\n",
      "Downloading 39 of 100 images\n",
      "Downloading 40 of 100 images\n",
      "Downloading 41 of 100 images\n",
      "Downloading 42 of 100 images\n",
      "Downloading 43 of 100 images\n",
      "Downloading 44 of 100 images\n",
      "Downloading 45 of 100 images\n",
      "Downloading 46 of 100 images\n",
      "Downloading 47 of 100 images\n",
      "Downloading 48 of 100 images\n",
      "Downloading 49 of 100 images\n",
      "Downloading 50 of 100 images\n",
      "Downloading 51 of 100 images\n",
      "Downloading 52 of 100 images\n",
      "Downloading 53 of 100 images\n",
      "Downloading 54 of 100 images\n",
      "Downloading 55 of 100 images\n",
      "Downloading 56 of 100 images\n",
      "Downloading 57 of 100 images\n",
      "Downloading 58 of 100 images\n",
      "Downloading 59 of 100 images\n",
      "Downloading 60 of 100 images\n",
      "Downloading 61 of 100 images\n",
      "Downloading 62 of 100 images\n",
      "Downloading 63 of 100 images\n",
      "Downloading 64 of 100 images\n",
      "Downloading 65 of 100 images\n",
      "Downloading 66 of 100 images\n",
      "Downloading 67 of 100 images\n",
      "Downloading 68 of 100 images\n",
      "Downloading 69 of 100 images\n",
      "Downloading 70 of 100 images\n",
      "Downloading 71 of 100 images\n",
      "Downloading 72 of 100 images\n",
      "Downloading 73 of 100 images\n",
      "Downloading 74 of 100 images\n",
      "Downloading 75 of 100 images\n",
      "Downloading 76 of 100 images\n",
      "Downloading 77 of 100 images\n",
      "Downloading 78 of 100 images\n",
      "Downloading 79 of 100 images\n",
      "Downloading 80 of 100 images\n",
      "Downloading 81 of 100 images\n",
      "Downloading 82 of 100 images\n",
      "Downloading 83 of 100 images\n",
      "Downloading 84 of 100 images\n",
      "Downloading 85 of 100 images\n",
      "Downloading 86 of 100 images\n",
      "Downloading 87 of 100 images\n",
      "Downloading 88 of 100 images\n",
      "Downloading 89 of 100 images\n",
      "Downloading 90 of 100 images\n",
      "Downloading 91 of 100 images\n",
      "Downloading 92 of 100 images\n",
      "Downloading 93 of 100 images\n",
      "Downloading 94 of 100 images\n",
      "Downloading 95 of 100 images\n",
      "Downloading 96 of 100 images\n",
      "Downloading 97 of 100 images\n",
      "Downloading 98 of 100 images\n",
      "Downloading 99 of 100 images\n"
     ]
    }
   ],
   "source": [
    "for i in range(len(Image_urls)):\n",
    "    if i >= 100:\n",
    "        break\n",
    "    print(\"Downloading {0} of {1} images\" .format(i, 100))\n",
    "    response= requests.get(Image_urls[i])\n",
    "    file = open(r\"C:/downloads/Cars/car_img\"+str(i)+\".jpg\", \"wb\")\n",
    "    file.write(response.content)"
   ]
  },
  {
   "cell_type": "code",
   "execution_count": 332,
   "metadata": {},
   "outputs": [],
   "source": [
    "\n",
    "#Opening tab for scraping images of Machine learning\n",
    "driver.get(\"https://www.google.com/imghp?hl=EN\")\n"
   ]
  },
  {
   "cell_type": "code",
   "execution_count": 333,
   "metadata": {},
   "outputs": [],
   "source": [
    "#location of search_bar\n",
    "search_bar3=driver.find_element_by_xpath(\"/html/body/div[2]/div[2]/div[2]/form/div[1]/div[1]/div[1]/div/div[2]/input\")"
   ]
  },
  {
   "cell_type": "code",
   "execution_count": 334,
   "metadata": {},
   "outputs": [],
   "source": [
    "search_bar3.clear()\n",
    "search_bar3.send_keys('Machine Learning')\n",
    "time.sleep(4)\n",
    "search_button1=driver.find_element_by_xpath('//span[@class=\"z1asCe MZy1Rb\"]')\n",
    "search_button1.click()"
   ]
  },
  {
   "cell_type": "code",
   "execution_count": 335,
   "metadata": {},
   "outputs": [
    {
     "name": "stdout",
     "output_type": "stream",
     "text": [
      "start scrolling to generate more images on the page...\n"
     ]
    }
   ],
   "source": [
    "#Fetch all the urls for first 100 images of Machine learning\n",
    "Image_urls=[]\n",
    "for i in range(0,3):\n",
    "    for j in driver.find_elements_by_xpath('//img[@class=\"rg_i Q4LuWd\"]'):\n",
    "        source=(j.get_attribute('src'))\n",
    "        if source is not None:\n",
    "             if(source[0:4] == 'http'):\n",
    "                    if(len(Image_urls)< 100):\n",
    "                        print(\"start scrolling to generate more images on the page...\")\n",
    "                        for _ in range(100):\n",
    "                            driver.execute_script(\"window.scrollBy(0,10000)\")\n",
    "                            Image_urls.append(source)\n",
    "                    if(len(Image_urls)== 100):\n",
    "                        break"
   ]
  },
  {
   "cell_type": "code",
   "execution_count": 336,
   "metadata": {},
   "outputs": [
    {
     "data": {
      "text/plain": [
       "100"
      ]
     },
     "execution_count": 336,
     "metadata": {},
     "output_type": "execute_result"
    }
   ],
   "source": [
    "len(Image_urls)"
   ]
  },
  {
   "cell_type": "code",
   "execution_count": 337,
   "metadata": {},
   "outputs": [
    {
     "data": {
      "text/plain": [
       "['https://encrypted-tbn0.gstatic.com/images?q=tbn:ANd9GcSMFWgErcxBOju7NYcTXjCkOAcL_D7xVuskdw&usqp=CAU',\n",
       " 'https://encrypted-tbn0.gstatic.com/images?q=tbn:ANd9GcSMFWgErcxBOju7NYcTXjCkOAcL_D7xVuskdw&usqp=CAU',\n",
       " 'https://encrypted-tbn0.gstatic.com/images?q=tbn:ANd9GcSMFWgErcxBOju7NYcTXjCkOAcL_D7xVuskdw&usqp=CAU',\n",
       " 'https://encrypted-tbn0.gstatic.com/images?q=tbn:ANd9GcSMFWgErcxBOju7NYcTXjCkOAcL_D7xVuskdw&usqp=CAU',\n",
       " 'https://encrypted-tbn0.gstatic.com/images?q=tbn:ANd9GcSMFWgErcxBOju7NYcTXjCkOAcL_D7xVuskdw&usqp=CAU',\n",
       " 'https://encrypted-tbn0.gstatic.com/images?q=tbn:ANd9GcSMFWgErcxBOju7NYcTXjCkOAcL_D7xVuskdw&usqp=CAU',\n",
       " 'https://encrypted-tbn0.gstatic.com/images?q=tbn:ANd9GcSMFWgErcxBOju7NYcTXjCkOAcL_D7xVuskdw&usqp=CAU',\n",
       " 'https://encrypted-tbn0.gstatic.com/images?q=tbn:ANd9GcSMFWgErcxBOju7NYcTXjCkOAcL_D7xVuskdw&usqp=CAU',\n",
       " 'https://encrypted-tbn0.gstatic.com/images?q=tbn:ANd9GcSMFWgErcxBOju7NYcTXjCkOAcL_D7xVuskdw&usqp=CAU',\n",
       " 'https://encrypted-tbn0.gstatic.com/images?q=tbn:ANd9GcSMFWgErcxBOju7NYcTXjCkOAcL_D7xVuskdw&usqp=CAU',\n",
       " 'https://encrypted-tbn0.gstatic.com/images?q=tbn:ANd9GcSMFWgErcxBOju7NYcTXjCkOAcL_D7xVuskdw&usqp=CAU',\n",
       " 'https://encrypted-tbn0.gstatic.com/images?q=tbn:ANd9GcSMFWgErcxBOju7NYcTXjCkOAcL_D7xVuskdw&usqp=CAU',\n",
       " 'https://encrypted-tbn0.gstatic.com/images?q=tbn:ANd9GcSMFWgErcxBOju7NYcTXjCkOAcL_D7xVuskdw&usqp=CAU',\n",
       " 'https://encrypted-tbn0.gstatic.com/images?q=tbn:ANd9GcSMFWgErcxBOju7NYcTXjCkOAcL_D7xVuskdw&usqp=CAU',\n",
       " 'https://encrypted-tbn0.gstatic.com/images?q=tbn:ANd9GcSMFWgErcxBOju7NYcTXjCkOAcL_D7xVuskdw&usqp=CAU',\n",
       " 'https://encrypted-tbn0.gstatic.com/images?q=tbn:ANd9GcSMFWgErcxBOju7NYcTXjCkOAcL_D7xVuskdw&usqp=CAU',\n",
       " 'https://encrypted-tbn0.gstatic.com/images?q=tbn:ANd9GcSMFWgErcxBOju7NYcTXjCkOAcL_D7xVuskdw&usqp=CAU',\n",
       " 'https://encrypted-tbn0.gstatic.com/images?q=tbn:ANd9GcSMFWgErcxBOju7NYcTXjCkOAcL_D7xVuskdw&usqp=CAU',\n",
       " 'https://encrypted-tbn0.gstatic.com/images?q=tbn:ANd9GcSMFWgErcxBOju7NYcTXjCkOAcL_D7xVuskdw&usqp=CAU',\n",
       " 'https://encrypted-tbn0.gstatic.com/images?q=tbn:ANd9GcSMFWgErcxBOju7NYcTXjCkOAcL_D7xVuskdw&usqp=CAU',\n",
       " 'https://encrypted-tbn0.gstatic.com/images?q=tbn:ANd9GcSMFWgErcxBOju7NYcTXjCkOAcL_D7xVuskdw&usqp=CAU',\n",
       " 'https://encrypted-tbn0.gstatic.com/images?q=tbn:ANd9GcSMFWgErcxBOju7NYcTXjCkOAcL_D7xVuskdw&usqp=CAU',\n",
       " 'https://encrypted-tbn0.gstatic.com/images?q=tbn:ANd9GcSMFWgErcxBOju7NYcTXjCkOAcL_D7xVuskdw&usqp=CAU',\n",
       " 'https://encrypted-tbn0.gstatic.com/images?q=tbn:ANd9GcSMFWgErcxBOju7NYcTXjCkOAcL_D7xVuskdw&usqp=CAU',\n",
       " 'https://encrypted-tbn0.gstatic.com/images?q=tbn:ANd9GcSMFWgErcxBOju7NYcTXjCkOAcL_D7xVuskdw&usqp=CAU',\n",
       " 'https://encrypted-tbn0.gstatic.com/images?q=tbn:ANd9GcSMFWgErcxBOju7NYcTXjCkOAcL_D7xVuskdw&usqp=CAU',\n",
       " 'https://encrypted-tbn0.gstatic.com/images?q=tbn:ANd9GcSMFWgErcxBOju7NYcTXjCkOAcL_D7xVuskdw&usqp=CAU',\n",
       " 'https://encrypted-tbn0.gstatic.com/images?q=tbn:ANd9GcSMFWgErcxBOju7NYcTXjCkOAcL_D7xVuskdw&usqp=CAU',\n",
       " 'https://encrypted-tbn0.gstatic.com/images?q=tbn:ANd9GcSMFWgErcxBOju7NYcTXjCkOAcL_D7xVuskdw&usqp=CAU',\n",
       " 'https://encrypted-tbn0.gstatic.com/images?q=tbn:ANd9GcSMFWgErcxBOju7NYcTXjCkOAcL_D7xVuskdw&usqp=CAU',\n",
       " 'https://encrypted-tbn0.gstatic.com/images?q=tbn:ANd9GcSMFWgErcxBOju7NYcTXjCkOAcL_D7xVuskdw&usqp=CAU',\n",
       " 'https://encrypted-tbn0.gstatic.com/images?q=tbn:ANd9GcSMFWgErcxBOju7NYcTXjCkOAcL_D7xVuskdw&usqp=CAU',\n",
       " 'https://encrypted-tbn0.gstatic.com/images?q=tbn:ANd9GcSMFWgErcxBOju7NYcTXjCkOAcL_D7xVuskdw&usqp=CAU',\n",
       " 'https://encrypted-tbn0.gstatic.com/images?q=tbn:ANd9GcSMFWgErcxBOju7NYcTXjCkOAcL_D7xVuskdw&usqp=CAU',\n",
       " 'https://encrypted-tbn0.gstatic.com/images?q=tbn:ANd9GcSMFWgErcxBOju7NYcTXjCkOAcL_D7xVuskdw&usqp=CAU',\n",
       " 'https://encrypted-tbn0.gstatic.com/images?q=tbn:ANd9GcSMFWgErcxBOju7NYcTXjCkOAcL_D7xVuskdw&usqp=CAU',\n",
       " 'https://encrypted-tbn0.gstatic.com/images?q=tbn:ANd9GcSMFWgErcxBOju7NYcTXjCkOAcL_D7xVuskdw&usqp=CAU',\n",
       " 'https://encrypted-tbn0.gstatic.com/images?q=tbn:ANd9GcSMFWgErcxBOju7NYcTXjCkOAcL_D7xVuskdw&usqp=CAU',\n",
       " 'https://encrypted-tbn0.gstatic.com/images?q=tbn:ANd9GcSMFWgErcxBOju7NYcTXjCkOAcL_D7xVuskdw&usqp=CAU',\n",
       " 'https://encrypted-tbn0.gstatic.com/images?q=tbn:ANd9GcSMFWgErcxBOju7NYcTXjCkOAcL_D7xVuskdw&usqp=CAU',\n",
       " 'https://encrypted-tbn0.gstatic.com/images?q=tbn:ANd9GcSMFWgErcxBOju7NYcTXjCkOAcL_D7xVuskdw&usqp=CAU',\n",
       " 'https://encrypted-tbn0.gstatic.com/images?q=tbn:ANd9GcSMFWgErcxBOju7NYcTXjCkOAcL_D7xVuskdw&usqp=CAU',\n",
       " 'https://encrypted-tbn0.gstatic.com/images?q=tbn:ANd9GcSMFWgErcxBOju7NYcTXjCkOAcL_D7xVuskdw&usqp=CAU',\n",
       " 'https://encrypted-tbn0.gstatic.com/images?q=tbn:ANd9GcSMFWgErcxBOju7NYcTXjCkOAcL_D7xVuskdw&usqp=CAU',\n",
       " 'https://encrypted-tbn0.gstatic.com/images?q=tbn:ANd9GcSMFWgErcxBOju7NYcTXjCkOAcL_D7xVuskdw&usqp=CAU',\n",
       " 'https://encrypted-tbn0.gstatic.com/images?q=tbn:ANd9GcSMFWgErcxBOju7NYcTXjCkOAcL_D7xVuskdw&usqp=CAU',\n",
       " 'https://encrypted-tbn0.gstatic.com/images?q=tbn:ANd9GcSMFWgErcxBOju7NYcTXjCkOAcL_D7xVuskdw&usqp=CAU',\n",
       " 'https://encrypted-tbn0.gstatic.com/images?q=tbn:ANd9GcSMFWgErcxBOju7NYcTXjCkOAcL_D7xVuskdw&usqp=CAU',\n",
       " 'https://encrypted-tbn0.gstatic.com/images?q=tbn:ANd9GcSMFWgErcxBOju7NYcTXjCkOAcL_D7xVuskdw&usqp=CAU',\n",
       " 'https://encrypted-tbn0.gstatic.com/images?q=tbn:ANd9GcSMFWgErcxBOju7NYcTXjCkOAcL_D7xVuskdw&usqp=CAU',\n",
       " 'https://encrypted-tbn0.gstatic.com/images?q=tbn:ANd9GcSMFWgErcxBOju7NYcTXjCkOAcL_D7xVuskdw&usqp=CAU',\n",
       " 'https://encrypted-tbn0.gstatic.com/images?q=tbn:ANd9GcSMFWgErcxBOju7NYcTXjCkOAcL_D7xVuskdw&usqp=CAU',\n",
       " 'https://encrypted-tbn0.gstatic.com/images?q=tbn:ANd9GcSMFWgErcxBOju7NYcTXjCkOAcL_D7xVuskdw&usqp=CAU',\n",
       " 'https://encrypted-tbn0.gstatic.com/images?q=tbn:ANd9GcSMFWgErcxBOju7NYcTXjCkOAcL_D7xVuskdw&usqp=CAU',\n",
       " 'https://encrypted-tbn0.gstatic.com/images?q=tbn:ANd9GcSMFWgErcxBOju7NYcTXjCkOAcL_D7xVuskdw&usqp=CAU',\n",
       " 'https://encrypted-tbn0.gstatic.com/images?q=tbn:ANd9GcSMFWgErcxBOju7NYcTXjCkOAcL_D7xVuskdw&usqp=CAU',\n",
       " 'https://encrypted-tbn0.gstatic.com/images?q=tbn:ANd9GcSMFWgErcxBOju7NYcTXjCkOAcL_D7xVuskdw&usqp=CAU',\n",
       " 'https://encrypted-tbn0.gstatic.com/images?q=tbn:ANd9GcSMFWgErcxBOju7NYcTXjCkOAcL_D7xVuskdw&usqp=CAU',\n",
       " 'https://encrypted-tbn0.gstatic.com/images?q=tbn:ANd9GcSMFWgErcxBOju7NYcTXjCkOAcL_D7xVuskdw&usqp=CAU',\n",
       " 'https://encrypted-tbn0.gstatic.com/images?q=tbn:ANd9GcSMFWgErcxBOju7NYcTXjCkOAcL_D7xVuskdw&usqp=CAU',\n",
       " 'https://encrypted-tbn0.gstatic.com/images?q=tbn:ANd9GcSMFWgErcxBOju7NYcTXjCkOAcL_D7xVuskdw&usqp=CAU',\n",
       " 'https://encrypted-tbn0.gstatic.com/images?q=tbn:ANd9GcSMFWgErcxBOju7NYcTXjCkOAcL_D7xVuskdw&usqp=CAU',\n",
       " 'https://encrypted-tbn0.gstatic.com/images?q=tbn:ANd9GcSMFWgErcxBOju7NYcTXjCkOAcL_D7xVuskdw&usqp=CAU',\n",
       " 'https://encrypted-tbn0.gstatic.com/images?q=tbn:ANd9GcSMFWgErcxBOju7NYcTXjCkOAcL_D7xVuskdw&usqp=CAU',\n",
       " 'https://encrypted-tbn0.gstatic.com/images?q=tbn:ANd9GcSMFWgErcxBOju7NYcTXjCkOAcL_D7xVuskdw&usqp=CAU',\n",
       " 'https://encrypted-tbn0.gstatic.com/images?q=tbn:ANd9GcSMFWgErcxBOju7NYcTXjCkOAcL_D7xVuskdw&usqp=CAU',\n",
       " 'https://encrypted-tbn0.gstatic.com/images?q=tbn:ANd9GcSMFWgErcxBOju7NYcTXjCkOAcL_D7xVuskdw&usqp=CAU',\n",
       " 'https://encrypted-tbn0.gstatic.com/images?q=tbn:ANd9GcSMFWgErcxBOju7NYcTXjCkOAcL_D7xVuskdw&usqp=CAU',\n",
       " 'https://encrypted-tbn0.gstatic.com/images?q=tbn:ANd9GcSMFWgErcxBOju7NYcTXjCkOAcL_D7xVuskdw&usqp=CAU',\n",
       " 'https://encrypted-tbn0.gstatic.com/images?q=tbn:ANd9GcSMFWgErcxBOju7NYcTXjCkOAcL_D7xVuskdw&usqp=CAU',\n",
       " 'https://encrypted-tbn0.gstatic.com/images?q=tbn:ANd9GcSMFWgErcxBOju7NYcTXjCkOAcL_D7xVuskdw&usqp=CAU',\n",
       " 'https://encrypted-tbn0.gstatic.com/images?q=tbn:ANd9GcSMFWgErcxBOju7NYcTXjCkOAcL_D7xVuskdw&usqp=CAU',\n",
       " 'https://encrypted-tbn0.gstatic.com/images?q=tbn:ANd9GcSMFWgErcxBOju7NYcTXjCkOAcL_D7xVuskdw&usqp=CAU',\n",
       " 'https://encrypted-tbn0.gstatic.com/images?q=tbn:ANd9GcSMFWgErcxBOju7NYcTXjCkOAcL_D7xVuskdw&usqp=CAU',\n",
       " 'https://encrypted-tbn0.gstatic.com/images?q=tbn:ANd9GcSMFWgErcxBOju7NYcTXjCkOAcL_D7xVuskdw&usqp=CAU',\n",
       " 'https://encrypted-tbn0.gstatic.com/images?q=tbn:ANd9GcSMFWgErcxBOju7NYcTXjCkOAcL_D7xVuskdw&usqp=CAU',\n",
       " 'https://encrypted-tbn0.gstatic.com/images?q=tbn:ANd9GcSMFWgErcxBOju7NYcTXjCkOAcL_D7xVuskdw&usqp=CAU',\n",
       " 'https://encrypted-tbn0.gstatic.com/images?q=tbn:ANd9GcSMFWgErcxBOju7NYcTXjCkOAcL_D7xVuskdw&usqp=CAU',\n",
       " 'https://encrypted-tbn0.gstatic.com/images?q=tbn:ANd9GcSMFWgErcxBOju7NYcTXjCkOAcL_D7xVuskdw&usqp=CAU',\n",
       " 'https://encrypted-tbn0.gstatic.com/images?q=tbn:ANd9GcSMFWgErcxBOju7NYcTXjCkOAcL_D7xVuskdw&usqp=CAU',\n",
       " 'https://encrypted-tbn0.gstatic.com/images?q=tbn:ANd9GcSMFWgErcxBOju7NYcTXjCkOAcL_D7xVuskdw&usqp=CAU',\n",
       " 'https://encrypted-tbn0.gstatic.com/images?q=tbn:ANd9GcSMFWgErcxBOju7NYcTXjCkOAcL_D7xVuskdw&usqp=CAU',\n",
       " 'https://encrypted-tbn0.gstatic.com/images?q=tbn:ANd9GcSMFWgErcxBOju7NYcTXjCkOAcL_D7xVuskdw&usqp=CAU',\n",
       " 'https://encrypted-tbn0.gstatic.com/images?q=tbn:ANd9GcSMFWgErcxBOju7NYcTXjCkOAcL_D7xVuskdw&usqp=CAU',\n",
       " 'https://encrypted-tbn0.gstatic.com/images?q=tbn:ANd9GcSMFWgErcxBOju7NYcTXjCkOAcL_D7xVuskdw&usqp=CAU',\n",
       " 'https://encrypted-tbn0.gstatic.com/images?q=tbn:ANd9GcSMFWgErcxBOju7NYcTXjCkOAcL_D7xVuskdw&usqp=CAU',\n",
       " 'https://encrypted-tbn0.gstatic.com/images?q=tbn:ANd9GcSMFWgErcxBOju7NYcTXjCkOAcL_D7xVuskdw&usqp=CAU',\n",
       " 'https://encrypted-tbn0.gstatic.com/images?q=tbn:ANd9GcSMFWgErcxBOju7NYcTXjCkOAcL_D7xVuskdw&usqp=CAU',\n",
       " 'https://encrypted-tbn0.gstatic.com/images?q=tbn:ANd9GcSMFWgErcxBOju7NYcTXjCkOAcL_D7xVuskdw&usqp=CAU',\n",
       " 'https://encrypted-tbn0.gstatic.com/images?q=tbn:ANd9GcSMFWgErcxBOju7NYcTXjCkOAcL_D7xVuskdw&usqp=CAU',\n",
       " 'https://encrypted-tbn0.gstatic.com/images?q=tbn:ANd9GcSMFWgErcxBOju7NYcTXjCkOAcL_D7xVuskdw&usqp=CAU',\n",
       " 'https://encrypted-tbn0.gstatic.com/images?q=tbn:ANd9GcSMFWgErcxBOju7NYcTXjCkOAcL_D7xVuskdw&usqp=CAU',\n",
       " 'https://encrypted-tbn0.gstatic.com/images?q=tbn:ANd9GcSMFWgErcxBOju7NYcTXjCkOAcL_D7xVuskdw&usqp=CAU',\n",
       " 'https://encrypted-tbn0.gstatic.com/images?q=tbn:ANd9GcSMFWgErcxBOju7NYcTXjCkOAcL_D7xVuskdw&usqp=CAU',\n",
       " 'https://encrypted-tbn0.gstatic.com/images?q=tbn:ANd9GcSMFWgErcxBOju7NYcTXjCkOAcL_D7xVuskdw&usqp=CAU',\n",
       " 'https://encrypted-tbn0.gstatic.com/images?q=tbn:ANd9GcSMFWgErcxBOju7NYcTXjCkOAcL_D7xVuskdw&usqp=CAU',\n",
       " 'https://encrypted-tbn0.gstatic.com/images?q=tbn:ANd9GcSMFWgErcxBOju7NYcTXjCkOAcL_D7xVuskdw&usqp=CAU',\n",
       " 'https://encrypted-tbn0.gstatic.com/images?q=tbn:ANd9GcSMFWgErcxBOju7NYcTXjCkOAcL_D7xVuskdw&usqp=CAU',\n",
       " 'https://encrypted-tbn0.gstatic.com/images?q=tbn:ANd9GcSMFWgErcxBOju7NYcTXjCkOAcL_D7xVuskdw&usqp=CAU',\n",
       " 'https://encrypted-tbn0.gstatic.com/images?q=tbn:ANd9GcSMFWgErcxBOju7NYcTXjCkOAcL_D7xVuskdw&usqp=CAU']"
      ]
     },
     "execution_count": 337,
     "metadata": {},
     "output_type": "execute_result"
    }
   ],
   "source": [
    "Image_urls"
   ]
  },
  {
   "cell_type": "code",
   "execution_count": 338,
   "metadata": {},
   "outputs": [
    {
     "name": "stdout",
     "output_type": "stream",
     "text": [
      "Downloading 0 of 100 images\n",
      "Downloading 1 of 100 images\n",
      "Downloading 2 of 100 images\n",
      "Downloading 3 of 100 images\n",
      "Downloading 4 of 100 images\n",
      "Downloading 5 of 100 images\n",
      "Downloading 6 of 100 images\n",
      "Downloading 7 of 100 images\n",
      "Downloading 8 of 100 images\n",
      "Downloading 9 of 100 images\n",
      "Downloading 10 of 100 images\n",
      "Downloading 11 of 100 images\n",
      "Downloading 12 of 100 images\n",
      "Downloading 13 of 100 images\n",
      "Downloading 14 of 100 images\n",
      "Downloading 15 of 100 images\n",
      "Downloading 16 of 100 images\n",
      "Downloading 17 of 100 images\n",
      "Downloading 18 of 100 images\n",
      "Downloading 19 of 100 images\n",
      "Downloading 20 of 100 images\n",
      "Downloading 21 of 100 images\n",
      "Downloading 22 of 100 images\n",
      "Downloading 23 of 100 images\n",
      "Downloading 24 of 100 images\n",
      "Downloading 25 of 100 images\n",
      "Downloading 26 of 100 images\n",
      "Downloading 27 of 100 images\n",
      "Downloading 28 of 100 images\n",
      "Downloading 29 of 100 images\n",
      "Downloading 30 of 100 images\n",
      "Downloading 31 of 100 images\n",
      "Downloading 32 of 100 images\n",
      "Downloading 33 of 100 images\n",
      "Downloading 34 of 100 images\n",
      "Downloading 35 of 100 images\n",
      "Downloading 36 of 100 images\n",
      "Downloading 37 of 100 images\n",
      "Downloading 38 of 100 images\n",
      "Downloading 39 of 100 images\n",
      "Downloading 40 of 100 images\n",
      "Downloading 41 of 100 images\n",
      "Downloading 42 of 100 images\n",
      "Downloading 43 of 100 images\n",
      "Downloading 44 of 100 images\n",
      "Downloading 45 of 100 images\n",
      "Downloading 46 of 100 images\n",
      "Downloading 47 of 100 images\n",
      "Downloading 48 of 100 images\n",
      "Downloading 49 of 100 images\n",
      "Downloading 50 of 100 images\n",
      "Downloading 51 of 100 images\n",
      "Downloading 52 of 100 images\n",
      "Downloading 53 of 100 images\n",
      "Downloading 54 of 100 images\n",
      "Downloading 55 of 100 images\n",
      "Downloading 56 of 100 images\n",
      "Downloading 57 of 100 images\n",
      "Downloading 58 of 100 images\n",
      "Downloading 59 of 100 images\n",
      "Downloading 60 of 100 images\n",
      "Downloading 61 of 100 images\n",
      "Downloading 62 of 100 images\n",
      "Downloading 63 of 100 images\n",
      "Downloading 64 of 100 images\n",
      "Downloading 65 of 100 images\n",
      "Downloading 66 of 100 images\n",
      "Downloading 67 of 100 images\n",
      "Downloading 68 of 100 images\n",
      "Downloading 69 of 100 images\n",
      "Downloading 70 of 100 images\n",
      "Downloading 71 of 100 images\n",
      "Downloading 72 of 100 images\n",
      "Downloading 73 of 100 images\n",
      "Downloading 74 of 100 images\n",
      "Downloading 75 of 100 images\n",
      "Downloading 76 of 100 images\n",
      "Downloading 77 of 100 images\n",
      "Downloading 78 of 100 images\n",
      "Downloading 79 of 100 images\n",
      "Downloading 80 of 100 images\n",
      "Downloading 81 of 100 images\n",
      "Downloading 82 of 100 images\n",
      "Downloading 83 of 100 images\n",
      "Downloading 84 of 100 images\n",
      "Downloading 85 of 100 images\n",
      "Downloading 86 of 100 images\n",
      "Downloading 87 of 100 images\n",
      "Downloading 88 of 100 images\n",
      "Downloading 89 of 100 images\n",
      "Downloading 90 of 100 images\n",
      "Downloading 91 of 100 images\n",
      "Downloading 92 of 100 images\n",
      "Downloading 93 of 100 images\n",
      "Downloading 94 of 100 images\n",
      "Downloading 95 of 100 images\n",
      "Downloading 96 of 100 images\n",
      "Downloading 97 of 100 images\n",
      "Downloading 98 of 100 images\n",
      "Downloading 99 of 100 images\n"
     ]
    }
   ],
   "source": [
    "for i in range(len(Image_urls)):\n",
    "    if i >= 100:\n",
    "        break\n",
    "    print(\"Downloading {0} of {1} images\" .format(i, 100))\n",
    "    response= requests.get(Image_urls[i])\n",
    "    file = open(r\"C:/downloads/Machinelearning/ML_img\"+str(i)+\".jpg\", \"wb\")\n",
    "    file.write(response.content)"
   ]
  },
  {
   "cell_type": "markdown",
   "metadata": {},
   "source": [
    "4.Write a python program to search for a smartphone(e.g.: Oneplus Nord, pixel 4A, etc.) on \n",
    "www.flipkart.com and scrape following details for all the search results displayed on 1st page. \n",
    "Details to be scraped: “Brand Name”, “Smartphone name”, “Colour”, “RAM”, \n",
    "“Storage(ROM)”, “Primary Camera”, “Secondary Camera”, “Display Size”, “Display \n",
    "Resolution”, “Processor”, “Processor Cores”, “Battery Capacity”, “Price”, “Product URL”. \n",
    "Incase if any of the details is missing then replace it by “- “. Save your results in a dataframe \n",
    "and CSV.\n"
   ]
  },
  {
   "cell_type": "code",
   "execution_count": 126,
   "metadata": {},
   "outputs": [],
   "source": [
    "#Lets connect to webdriver\n",
    "driver=webdriver.Chrome(r\"C:/chromedriver\")"
   ]
  },
  {
   "cell_type": "code",
   "execution_count": 127,
   "metadata": {},
   "outputs": [],
   "source": [
    "#Opening tab for scraping details for smartphone\n",
    "driver.get(\"https://www.flipkart.com/\")"
   ]
  },
  {
   "cell_type": "code",
   "execution_count": 129,
   "metadata": {},
   "outputs": [],
   "source": [
    "login_button=driver.find_element_by_xpath('//input[@class=\"_2IX_2- VJZDxU\"]') "
   ]
  },
  {
   "cell_type": "code",
   "execution_count": 130,
   "metadata": {},
   "outputs": [],
   "source": [
    "login_button.send_keys('8123434373')"
   ]
  },
  {
   "cell_type": "code",
   "execution_count": 131,
   "metadata": {},
   "outputs": [],
   "source": [
    "login_password=driver.find_element_by_xpath('//input[@class=\"_2IX_2- _3mctLh VJZDxU\"]')  "
   ]
  },
  {
   "cell_type": "code",
   "execution_count": 132,
   "metadata": {},
   "outputs": [],
   "source": [
    "login_password.send_keys('8123434373')"
   ]
  },
  {
   "cell_type": "code",
   "execution_count": 133,
   "metadata": {},
   "outputs": [],
   "source": [
    "go_button=driver.find_element_by_xpath('/html/body/div[2]/div/div/div/div/div[2]/div/form/div[4]/button/span')"
   ]
  },
  {
   "cell_type": "code",
   "execution_count": 134,
   "metadata": {},
   "outputs": [],
   "source": [
    "go_button.click()"
   ]
  },
  {
   "cell_type": "code",
   "execution_count": 135,
   "metadata": {},
   "outputs": [],
   "source": [
    "Flipkart_searchbutton=driver.find_element_by_xpath('/html/body/div/div/div[1]/div[1]/div[2]/div[2]/form/div/div/input')"
   ]
  },
  {
   "cell_type": "code",
   "execution_count": 136,
   "metadata": {},
   "outputs": [],
   "source": [
    "Flipkart_searchbutton.send_keys('Oneplus Nord, pixel 4A')"
   ]
  },
  {
   "cell_type": "code",
   "execution_count": 137,
   "metadata": {},
   "outputs": [],
   "source": [
    "Flipkart_gobutton=driver.find_element_by_xpath('//button[@class=\"L0Z3Pu\"]')"
   ]
  },
  {
   "cell_type": "code",
   "execution_count": 138,
   "metadata": {},
   "outputs": [],
   "source": [
    "Flipkart_gobutton.click()"
   ]
  },
  {
   "cell_type": "code",
   "execution_count": 139,
   "metadata": {},
   "outputs": [],
   "source": [
    "#Fetch all the urls results displayed on 1st page\n",
    "Product_urls=[]\n",
    "for j in driver.find_elements_by_xpath('//a[@class=\"_1fQZEK\"]'):\n",
    "    Product_urls.append(j.get_attribute('href'))\n",
    "        "
   ]
  },
  {
   "cell_type": "code",
   "execution_count": 140,
   "metadata": {},
   "outputs": [
    {
     "data": {
      "text/plain": [
       "['https://www.flipkart.com/kall-k-8-new-k-8plus-red-16-gb/p/itmcf68105b24cdb?pid=MOBFHGK4MJFCYDGY&lid=LSTMOBFHGK4MJFCYDGY70OHGZ&marketplace=FLIPKART&q=Oneplus+Nord%2C+pixel+4A&store=tyy%2F4io&srno=s_1_1&otracker=search&otracker1=search&fm=SEARCH&iid=f405f4b0-ccca-40fb-bc1b-899c285bbac5.MOBFHGK4MJFCYDGY.SEARCH&ppt=clp&ppn=realme-x7-max-coming-soon-7rs67-29d9-store&ssid=9eneg6hvwg0000001622353394224&qH=51e22a8c2f127b5e',\n",
       " 'https://www.flipkart.com/micromax-canvas-2-plus-jet-black-32-gb/p/itmf943zdxvzj84r?pid=MOBFTUA3GJ9FZVKY&lid=LSTMOBFTUA3GJ9FZVKYP2JR8I&marketplace=FLIPKART&q=Oneplus+Nord%2C+pixel+4A&store=tyy%2F4io&srno=s_1_2&otracker=search&otracker1=search&fm=SEARCH&iid=f405f4b0-ccca-40fb-bc1b-899c285bbac5.MOBFTUA3GJ9FZVKY.SEARCH&ppt=clp&ppn=realme-x7-max-coming-soon-7rs67-29d9-store&ssid=9eneg6hvwg0000001622353394224&qH=51e22a8c2f127b5e',\n",
       " 'https://www.flipkart.com/samsung-galaxy-s10-plus-ceramic-white-1-tb/p/itmfdyp6yc3fu2fg?pid=MOBFDNMZC29CBUPF&lid=LSTMOBFDNMZC29CBUPFT0HVQQ&marketplace=FLIPKART&q=Oneplus+Nord%2C+pixel+4A&store=tyy%2F4io&srno=s_1_3&otracker=search&otracker1=search&fm=SEARCH&iid=f405f4b0-ccca-40fb-bc1b-899c285bbac5.MOBFDNMZC29CBUPF.SEARCH&ppt=clp&ppn=realme-x7-max-coming-soon-7rs67-29d9-store&ssid=9eneg6hvwg0000001622353394224&qH=51e22a8c2f127b5e',\n",
       " 'https://www.flipkart.com/lava-pixel-v2-plus-black-16-gb/p/itmf2jgahv25gutu?pid=MOBF2GDCJGHHXN6M&lid=LSTMOBF2GDCJGHHXN6M5BOQRA&marketplace=FLIPKART&q=Oneplus+Nord%2C+pixel+4A&store=tyy%2F4io&srno=s_1_4&otracker=search&otracker1=search&fm=SEARCH&iid=f405f4b0-ccca-40fb-bc1b-899c285bbac5.MOBF2GDCJGHHXN6M.SEARCH&ppt=clp&ppn=realme-x7-max-coming-soon-7rs67-29d9-store&ssid=9eneg6hvwg0000001622353394224&qH=51e22a8c2f127b5e',\n",
       " 'https://www.flipkart.com/lava-pixel-v2-plus-black-32-gb/p/itmexfz2feqcny25?pid=MOBEXFZ2DSJAPPHV&lid=LSTMOBEXFZ2DSJAPPHVDOBZDH&marketplace=FLIPKART&q=Oneplus+Nord%2C+pixel+4A&store=tyy%2F4io&srno=s_1_5&otracker=search&otracker1=search&fm=SEARCH&iid=f405f4b0-ccca-40fb-bc1b-899c285bbac5.MOBEXFZ2DSJAPPHV.SEARCH&ppt=clp&ppn=realme-x7-max-coming-soon-7rs67-29d9-store&ssid=9eneg6hvwg0000001622353394224&qH=51e22a8c2f127b5e',\n",
       " 'https://www.flipkart.com/micromax-bharat-4-plus-black-16-gb/p/itm489b353906344?pid=MOBFUFPMTHWBCTVW&lid=LSTMOBFUFPMTHWBCTVWKPLK9C&marketplace=FLIPKART&q=Oneplus+Nord%2C+pixel+4A&store=tyy%2F4io&srno=s_1_6&otracker=search&otracker1=search&fm=SEARCH&iid=f405f4b0-ccca-40fb-bc1b-899c285bbac5.MOBFUFPMTHWBCTVW.SEARCH&ppt=clp&ppn=realme-x7-max-coming-soon-7rs67-29d9-store&ssid=9eneg6hvwg0000001622353394224&qH=51e22a8c2f127b5e',\n",
       " 'https://www.flipkart.com/reach-cogent-orange-8-gb/p/itmemzfmcnm2qrem?pid=MOBEMZFM6QDHNCPF&lid=LSTMOBEMZFM6QDHNCPF3MZA2Q&marketplace=FLIPKART&q=Oneplus+Nord%2C+pixel+4A&store=tyy%2F4io&srno=s_1_7&otracker=search&otracker1=search&fm=SEARCH&iid=f405f4b0-ccca-40fb-bc1b-899c285bbac5.MOBEMZFM6QDHNCPF.SEARCH&ppt=clp&ppn=realme-x7-max-coming-soon-7rs67-29d9-store&ssid=9eneg6hvwg0000001622353394224&qH=51e22a8c2f127b5e',\n",
       " 'https://www.flipkart.com/nokia-5-1-plus-blue-64-gb/p/itmf9gavr3k5nxst?pid=MOBFNXECGBTZUAKJ&lid=LSTMOBFNXECGBTZUAKJHMK9VB&marketplace=FLIPKART&q=Oneplus+Nord%2C+pixel+4A&store=tyy%2F4io&srno=s_1_8&otracker=search&otracker1=search&fm=SEARCH&iid=f405f4b0-ccca-40fb-bc1b-899c285bbac5.MOBFNXECGBTZUAKJ.SEARCH&ppt=clp&ppn=realme-x7-max-coming-soon-7rs67-29d9-store&ssid=9eneg6hvwg0000001622353394224&qH=51e22a8c2f127b5e',\n",
       " 'https://www.flipkart.com/zopo-flash-x-plus-rose-gold-32-gb/p/itmetft7shutd7rj?pid=MOBEUHEZERPQKXBE&lid=LSTMOBEUHEZERPQKXBEY2JWCJ&marketplace=FLIPKART&q=Oneplus+Nord%2C+pixel+4A&store=tyy%2F4io&srno=s_1_9&otracker=search&otracker1=search&fm=SEARCH&iid=f405f4b0-ccca-40fb-bc1b-899c285bbac5.MOBEUHEZERPQKXBE.SEARCH&ppt=clp&ppn=realme-x7-max-coming-soon-7rs67-29d9-store&ssid=9eneg6hvwg0000001622353394224&qH=51e22a8c2f127b5e']"
      ]
     },
     "execution_count": 140,
     "metadata": {},
     "output_type": "execute_result"
    }
   ],
   "source": [
    "Product_urls"
   ]
  },
  {
   "cell_type": "code",
   "execution_count": 141,
   "metadata": {},
   "outputs": [
    {
     "data": {
      "text/plain": [
       "9"
      ]
     },
     "execution_count": 141,
     "metadata": {},
     "output_type": "execute_result"
    }
   ],
   "source": [
    "len(Product_urls)"
   ]
  },
  {
   "cell_type": "code",
   "execution_count": 142,
   "metadata": {},
   "outputs": [],
   "source": [
    "import time"
   ]
  },
  {
   "cell_type": "code",
   "execution_count": 194,
   "metadata": {},
   "outputs": [],
   "source": [
    "\n",
    "Brand_Name=[]\n",
    "Smartphone_name=[]\n",
    "Colour=[]\n",
    "RAM=[] \n",
    "Storage_ROM=[] \n",
    "Primary_Camera=[] \n",
    "Secondary_Camera=[] \n",
    "Display_Size=[]\n",
    "Display_Resolution=[] \n",
    "Processor=[] \n",
    "Processor_Cores=[]\n",
    "Battery_Capacity=[] \n",
    "Price=[] \n",
    "Product_URL=[]\n",
    "for i in Product_urls:\n",
    "    driver.get(i)\n",
    "    time.sleep(5)\n",
    "    try:\n",
    "        Brand_Name.append(driver.find_element_by_xpath('//span[@class=\"B_NuCI\"]').text) # Extracting Brand from xpath\n",
    "    except NoSuchElementException:\n",
    "        Brand_Name.append(\"-\")\n",
    "        \n",
    "    try:\n",
    "        Smartphone_name.append(driver.find_element_by_xpath('//div[@class=\"_3k-BhJ\"][1]/table/tbody/tr[3]/td[2]/ul/li').text)      # Extracting Smartphonename from xpath\n",
    "    except NoSuchElementException:\n",
    "        Smartphone_name.append('-')\n",
    "        \n",
    "    try:\n",
    "        Colour.append(driver.find_element_by_xpath('//div[@class=\"_3k-BhJ\"][1]/table/tbody/tr[4]/td[2]/ul/li').text)     # Extracting Colour from xpath\n",
    "    except NoSuchElementException:\n",
    "        Colour.append('-')\n",
    "        \n",
    "    try:\n",
    "        read_more = driver.find_element_by_xpath('//button[@class=\"_2KpZ6l _1FH0tX\"]')     # Button for expanding the specs\n",
    "        read_more.click()\n",
    "    except NoSuchElementException:\n",
    "        print(\"Exception Occured. Moving to next page\")\n",
    "        \n",
    "    try:\n",
    "        RAM.append(driver.find_element_by_xpath('//div[@class=\"_3k-BhJ\"][4]/table/tbody/tr[2]/td[2]/ul/li').text)     # Extracting Colour from xpath\n",
    "    except NoSuchElementException:\n",
    "        RAM.append('-')\n",
    "        \n",
    "    try:\n",
    "        Storage_ROM.append(driver.find_element_by_xpath('//div[@class=\"_3k-BhJ\"][4]/table/tbody/tr[1]/td[2]/ul/li').text)\n",
    "    except NoSuchElementException:\n",
    "        Storage_ROM.append('-')\n",
    "        \n",
    "    try: \n",
    "        Primary_Camera.append(driver.find_element_by_xpath('//div[@class=\"_3k-BhJ\"][5]/table/tbody/tr[1]/td[2]/ul/li').text)\n",
    "    except NoSuchElementException:\n",
    "         Primary_Camera.append('-')   \n",
    "    try:\n",
    "        Secondary_Camera.append(driver.find_element_by_xpath('//div[@class=\"_3k-BhJ\"][5]/table/tbody/tr[4]/td[2]/ul/li').text)\n",
    "    except NoSuchElementException:\n",
    "        Secondary_Camera.append('-')  \n",
    "        \n",
    "    try:\n",
    "        Display_Size.append(driver.find_element_by_xpath('//div[@class=\"_3k-BhJ\"][2]/table/tbody/tr[1]/td[2]/ul/li').text)\n",
    "    except NoSuchElementException:\n",
    "        Display_Size.append('-')  \n",
    "        \n",
    "    try:\n",
    "        Display_Resolution.append(driver.find_element_by_xpath('//div[@class=\"_3k-BhJ\"][2]/table/tbody/tr[2]/td[2]/ul/li').text)\n",
    "    except NoSuchElementException:\n",
    "         Display_Resolution.append('-') \n",
    "        \n",
    "    try:\n",
    "        Processor.append(driver.find_element_by_xpath('//div[@class=\"_3k-BhJ\"][3]/table/tbody/tr[1]/td[2]/ul/li').text)\n",
    "    except NoSuchElementException:\n",
    "         Processor.append('-')\n",
    "        \n",
    "    try:\n",
    "        Processor_Cores.append(driver.find_element_by_xpath('//div[@class=\"_3k-BhJ\"][3]/table/tbody/tr[2]/td[2]/ul/li').text)\n",
    "    except NoSuchElementException:\n",
    "         Processor_Cores.append('-')\n",
    "        \n",
    "    \n",
    "    try:\n",
    "        Battery_Capacity.append(driver.find_element_by_xpath('//div[@class=\"_3k-BhJ\"][7]/table/tbody/tr[1]/td[2]/ul/li').text)\n",
    "    except NoSuchElementException:\n",
    "         Battery_Capacity.append('-')\n",
    "        \n",
    "    try:\n",
    "        Price.append(driver.find_element_by_xpath('//div[@class=\"_30jeq3 _16Jk6d\"]').text)\n",
    "    except NoSuchElementException:\n",
    "         Price.append('-')\n",
    "        \n",
    "        \n",
    "        \n",
    "   "
   ]
  },
  {
   "cell_type": "code",
   "execution_count": 195,
   "metadata": {},
   "outputs": [
    {
     "data": {
      "text/plain": [
       "['2 GB', '3 GB', '12 GB', '2 GB', '3 GB', 'Quad Core', '1 GB', '6 GB', '3 GB']"
      ]
     },
     "execution_count": 195,
     "metadata": {},
     "output_type": "execute_result"
    }
   ],
   "source": [
    "RAM"
   ]
  },
  {
   "cell_type": "code",
   "execution_count": 196,
   "metadata": {},
   "outputs": [
    {
     "data": {
      "text/plain": [
       "['16 GB',\n",
       " '32 GB',\n",
       " '1 TB',\n",
       " '16 GB',\n",
       " '32 GB',\n",
       " 'Android Nougat 7.0',\n",
       " '8 GB',\n",
       " '64 GB',\n",
       " '32 GB']"
      ]
     },
     "execution_count": 196,
     "metadata": {},
     "output_type": "execute_result"
    }
   ],
   "source": [
    "Storage_ROM"
   ]
  },
  {
   "cell_type": "code",
   "execution_count": 197,
   "metadata": {},
   "outputs": [
    {
     "data": {
      "text/plain": [
       "['Yes',\n",
       " '13MP Rear Camera',\n",
       " 'Yes',\n",
       " '13MP + 13MP',\n",
       " 'Yes',\n",
       " '16 GB',\n",
       " '3.2MP Rear Camera',\n",
       " '13MP Rear Camera',\n",
       " 'Yes']"
      ]
     },
     "execution_count": 197,
     "metadata": {},
     "output_type": "execute_result"
    }
   ],
   "source": [
    "Primary_Camera"
   ]
  },
  {
   "cell_type": "code",
   "execution_count": 198,
   "metadata": {},
   "outputs": [
    {
     "data": {
      "text/plain": [
       "['Yes', '-', 'Yes', '-', '5MP Front Camera', '-', '-', '-', 'Yes']"
      ]
     },
     "execution_count": 198,
     "metadata": {},
     "output_type": "execute_result"
    }
   ],
   "source": [
    " Secondary_Camera"
   ]
  },
  {
   "cell_type": "code",
   "execution_count": 199,
   "metadata": {},
   "outputs": [
    {
     "data": {
      "text/plain": [
       "['13.97 cm (5.5 inch)',\n",
       " '14.48 cm (5.7 inch)',\n",
       " '16.26 cm (6.4 inch)',\n",
       " '12.7 cm (5 inch)',\n",
       " '12.7 cm (5 inch)',\n",
       " 'Handset,Battery,Charger,User Guide',\n",
       " '10.16 cm (4 inch)',\n",
       " '14.73 cm (5.8 inch)',\n",
       " '13.97 cm (5.5 inch)']"
      ]
     },
     "execution_count": 199,
     "metadata": {},
     "output_type": "execute_result"
    }
   ],
   "source": [
    " Display_Size"
   ]
  },
  {
   "cell_type": "code",
   "execution_count": 200,
   "metadata": {},
   "outputs": [
    {
     "data": {
      "text/plain": [
       "['480 x 960$$pixel',\n",
       " '720 x 1440$$pixel',\n",
       " '3040 x 1440 pixel',\n",
       " '1280 x 720 Pixels',\n",
       " '720 x 1280 Pixels',\n",
       " 'q440',\n",
       " '854 x 480 Pixel',\n",
       " '720 x 1520$$pixel',\n",
       " '1920 x 1080 Pixels']"
      ]
     },
     "execution_count": 200,
     "metadata": {},
     "output_type": "execute_result"
    }
   ],
   "source": [
    "Display_Resolution"
   ]
  },
  {
   "cell_type": "code",
   "execution_count": 201,
   "metadata": {},
   "outputs": [
    {
     "data": {
      "text/plain": [
       "['Quad Core',\n",
       " '1.3 GHz',\n",
       " 'Exynos 9 9820',\n",
       " 'Quad Core',\n",
       " 'Quad Core',\n",
       " '1280 x 720$$pixel',\n",
       " 'Quad Core',\n",
       " 'Octa Core',\n",
       " 'MT6753 64-bit']"
      ]
     },
     "execution_count": 201,
     "metadata": {},
     "output_type": "execute_result"
    }
   ],
   "source": [
    " Processor_Cores"
   ]
  },
  {
   "cell_type": "code",
   "execution_count": 202,
   "metadata": {},
   "outputs": [
    {
     "data": {
      "text/plain": [
       "['Android Marshmallow 6.0',\n",
       " 'Android Nougat 7',\n",
       " 'Android Pie 9.0',\n",
       " 'Android Lollipop 5.1',\n",
       " 'Android Lollipop 5.1.1',\n",
       " '12.7 cm (5 inch)',\n",
       " 'Android Lollipop 5.1',\n",
       " 'Android Oreo 8.1',\n",
       " 'Android Marshmallow 6']"
      ]
     },
     "execution_count": 202,
     "metadata": {},
     "output_type": "execute_result"
    }
   ],
   "source": [
    " Processor"
   ]
  },
  {
   "cell_type": "code",
   "execution_count": 203,
   "metadata": {},
   "outputs": [
    {
     "data": {
      "text/plain": [
       "['4G VOLTE, 3G, 2G',\n",
       " '4000 mAh',\n",
       " '3G, 4G, 2G',\n",
       " '3G, 4G, 2G',\n",
       " '3G, 4G, 2G',\n",
       " 'Yes',\n",
       " '2000 mAh',\n",
       " 'Yes',\n",
       " '3G, 4G VOLTE, 2G']"
      ]
     },
     "execution_count": 203,
     "metadata": {},
     "output_type": "execute_result"
    }
   ],
   "source": [
    "Battery_Capacity"
   ]
  },
  {
   "cell_type": "code",
   "execution_count": 204,
   "metadata": {},
   "outputs": [],
   "source": [
    "#To create a dataframe and then export to csv\n",
    "Phone_details=pd.DataFrame()\n",
    "Phone_details['Product_url']=Product_urls\n",
    "Phone_details['Brand_Name']=Brand_Name\n",
    "Phone_details['Smartphone_name']=Smartphone_name\n",
    "Phone_details['Colour']=Colour\n",
    "Phone_details['RAM']=RAM\n",
    "Phone_details['Storage(ROM)']=Storage_ROM\n",
    "Phone_details['Primary_Camera']=Primary_Camera\n",
    "Phone_details['Secondary_Camera']=Secondary_Camera\n",
    "Phone_details['Display_Size']=Display_Size\n",
    "Phone_details['Display_Resolution']=Display_Resolution\n",
    "Phone_details['Processor']=Processor\n",
    "Phone_details['Processor_Cores']= Processor_Cores\n",
    "Phone_details['Battery_Capacity']= Battery_Capacity\n",
    "Phone_details['Price']= Price"
   ]
  },
  {
   "cell_type": "code",
   "execution_count": 205,
   "metadata": {},
   "outputs": [
    {
     "data": {
      "text/html": [
       "<div>\n",
       "<style scoped>\n",
       "    .dataframe tbody tr th:only-of-type {\n",
       "        vertical-align: middle;\n",
       "    }\n",
       "\n",
       "    .dataframe tbody tr th {\n",
       "        vertical-align: top;\n",
       "    }\n",
       "\n",
       "    .dataframe thead th {\n",
       "        text-align: right;\n",
       "    }\n",
       "</style>\n",
       "<table border=\"1\" class=\"dataframe\">\n",
       "  <thead>\n",
       "    <tr style=\"text-align: right;\">\n",
       "      <th></th>\n",
       "      <th>Product_url</th>\n",
       "      <th>Brand_Name</th>\n",
       "      <th>Smartphone_name</th>\n",
       "      <th>Colour</th>\n",
       "      <th>RAM</th>\n",
       "      <th>Storage(ROM)</th>\n",
       "      <th>Primary_Camera</th>\n",
       "      <th>Secondary_Camera</th>\n",
       "      <th>Display_Size</th>\n",
       "      <th>Display_Resolution</th>\n",
       "      <th>Processor</th>\n",
       "      <th>Processor_Cores</th>\n",
       "      <th>Battery_Capacity</th>\n",
       "      <th>Price</th>\n",
       "    </tr>\n",
       "  </thead>\n",
       "  <tbody>\n",
       "    <tr>\n",
       "      <th>0</th>\n",
       "      <td>https://www.flipkart.com/kall-k-8-new-k-8plus-...</td>\n",
       "      <td>I Kall K 8 NEw / K-8Plus (Red, 16 GB)  (2 GB RAM)</td>\n",
       "      <td>K 8 NEw / K-8Plus</td>\n",
       "      <td>Red</td>\n",
       "      <td>2 GB</td>\n",
       "      <td>16 GB</td>\n",
       "      <td>Yes</td>\n",
       "      <td>Yes</td>\n",
       "      <td>13.97 cm (5.5 inch)</td>\n",
       "      <td>480 x 960$$pixel</td>\n",
       "      <td>Android Marshmallow 6.0</td>\n",
       "      <td>Quad Core</td>\n",
       "      <td>4G VOLTE, 3G, 2G</td>\n",
       "      <td>₹4,170</td>\n",
       "    </tr>\n",
       "    <tr>\n",
       "      <th>1</th>\n",
       "      <td>https://www.flipkart.com/micromax-canvas-2-plu...</td>\n",
       "      <td>Micromax CANVAS 2 PLUS (jet black, 32 GB)  (3 ...</td>\n",
       "      <td>CANVAS 2 PLUS</td>\n",
       "      <td>jet black</td>\n",
       "      <td>3 GB</td>\n",
       "      <td>32 GB</td>\n",
       "      <td>13MP Rear Camera</td>\n",
       "      <td>-</td>\n",
       "      <td>14.48 cm (5.7 inch)</td>\n",
       "      <td>720 x 1440$$pixel</td>\n",
       "      <td>Android Nougat 7</td>\n",
       "      <td>1.3 GHz</td>\n",
       "      <td>4000 mAh</td>\n",
       "      <td>₹8,499</td>\n",
       "    </tr>\n",
       "    <tr>\n",
       "      <th>2</th>\n",
       "      <td>https://www.flipkart.com/samsung-galaxy-s10-pl...</td>\n",
       "      <td>SAMSUNG Galaxy S10 Plus (Ceramic White, 1 TB) ...</td>\n",
       "      <td>Galaxy S10 Plus</td>\n",
       "      <td>Ceramic White</td>\n",
       "      <td>12 GB</td>\n",
       "      <td>1 TB</td>\n",
       "      <td>Yes</td>\n",
       "      <td>Yes</td>\n",
       "      <td>16.26 cm (6.4 inch)</td>\n",
       "      <td>3040 x 1440 pixel</td>\n",
       "      <td>Android Pie 9.0</td>\n",
       "      <td>Exynos 9 9820</td>\n",
       "      <td>3G, 4G, 2G</td>\n",
       "      <td>₹1,17,990</td>\n",
       "    </tr>\n",
       "    <tr>\n",
       "      <th>3</th>\n",
       "      <td>https://www.flipkart.com/lava-pixel-v2-plus-bl...</td>\n",
       "      <td>LAVA Pixel V2 Plus (Black, 16 GB)  (2 GB RAM)</td>\n",
       "      <td>Pixel V2 Plus</td>\n",
       "      <td>Black</td>\n",
       "      <td>2 GB</td>\n",
       "      <td>16 GB</td>\n",
       "      <td>13MP + 13MP</td>\n",
       "      <td>-</td>\n",
       "      <td>12.7 cm (5 inch)</td>\n",
       "      <td>1280 x 720 Pixels</td>\n",
       "      <td>Android Lollipop 5.1</td>\n",
       "      <td>Quad Core</td>\n",
       "      <td>3G, 4G, 2G</td>\n",
       "      <td>₹6,199</td>\n",
       "    </tr>\n",
       "    <tr>\n",
       "      <th>4</th>\n",
       "      <td>https://www.flipkart.com/lava-pixel-v2-plus-bl...</td>\n",
       "      <td>LAVA Pixel V2 Plus (Black, 32 GB)  (3 GB RAM)</td>\n",
       "      <td>Pixel V2 Plus</td>\n",
       "      <td>Black</td>\n",
       "      <td>3 GB</td>\n",
       "      <td>32 GB</td>\n",
       "      <td>Yes</td>\n",
       "      <td>5MP Front Camera</td>\n",
       "      <td>12.7 cm (5 inch)</td>\n",
       "      <td>720 x 1280 Pixels</td>\n",
       "      <td>Android Lollipop 5.1.1</td>\n",
       "      <td>Quad Core</td>\n",
       "      <td>3G, 4G, 2G</td>\n",
       "      <td>₹7,290</td>\n",
       "    </tr>\n",
       "    <tr>\n",
       "      <th>5</th>\n",
       "      <td>https://www.flipkart.com/micromax-bharat-4-plu...</td>\n",
       "      <td>Micromax Bharat 4 Plus (Black, 16 GB)  (2 GB RAM)</td>\n",
       "      <td>-</td>\n",
       "      <td>-</td>\n",
       "      <td>Quad Core</td>\n",
       "      <td>Android Nougat 7.0</td>\n",
       "      <td>16 GB</td>\n",
       "      <td>-</td>\n",
       "      <td>Handset,Battery,Charger,User Guide</td>\n",
       "      <td>q440</td>\n",
       "      <td>12.7 cm (5 inch)</td>\n",
       "      <td>1280 x 720$$pixel</td>\n",
       "      <td>Yes</td>\n",
       "      <td>₹4,960</td>\n",
       "    </tr>\n",
       "    <tr>\n",
       "      <th>6</th>\n",
       "      <td>https://www.flipkart.com/reach-cogent-orange-8...</td>\n",
       "      <td>Reach Cogent+ (Orange, 8 GB)  (1 GB RAM)</td>\n",
       "      <td>Cogent+</td>\n",
       "      <td>Orange</td>\n",
       "      <td>1 GB</td>\n",
       "      <td>8 GB</td>\n",
       "      <td>3.2MP Rear Camera</td>\n",
       "      <td>-</td>\n",
       "      <td>10.16 cm (4 inch)</td>\n",
       "      <td>854 x 480 Pixel</td>\n",
       "      <td>Android Lollipop 5.1</td>\n",
       "      <td>Quad Core</td>\n",
       "      <td>2000 mAh</td>\n",
       "      <td>₹2,290</td>\n",
       "    </tr>\n",
       "    <tr>\n",
       "      <th>7</th>\n",
       "      <td>https://www.flipkart.com/nokia-5-1-plus-blue-6...</td>\n",
       "      <td>Nokia 5.1 Plus (Blue, 64 GB)  (6 GB RAM)</td>\n",
       "      <td>5.1 Plus</td>\n",
       "      <td>Blue</td>\n",
       "      <td>6 GB</td>\n",
       "      <td>64 GB</td>\n",
       "      <td>13MP Rear Camera</td>\n",
       "      <td>-</td>\n",
       "      <td>14.73 cm (5.8 inch)</td>\n",
       "      <td>720 x 1520$$pixel</td>\n",
       "      <td>Android Oreo 8.1</td>\n",
       "      <td>Octa Core</td>\n",
       "      <td>Yes</td>\n",
       "      <td>₹9,900</td>\n",
       "    </tr>\n",
       "    <tr>\n",
       "      <th>8</th>\n",
       "      <td>https://www.flipkart.com/zopo-flash-x-plus-ros...</td>\n",
       "      <td>Zopo Flash X Plus (Rose Gold, 32 GB)  (3 GB RAM)</td>\n",
       "      <td>Flash X Plus</td>\n",
       "      <td>Rose Gold</td>\n",
       "      <td>3 GB</td>\n",
       "      <td>32 GB</td>\n",
       "      <td>Yes</td>\n",
       "      <td>Yes</td>\n",
       "      <td>13.97 cm (5.5 inch)</td>\n",
       "      <td>1920 x 1080 Pixels</td>\n",
       "      <td>Android Marshmallow 6</td>\n",
       "      <td>MT6753 64-bit</td>\n",
       "      <td>3G, 4G VOLTE, 2G</td>\n",
       "      <td>₹4,949</td>\n",
       "    </tr>\n",
       "  </tbody>\n",
       "</table>\n",
       "</div>"
      ],
      "text/plain": [
       "                                         Product_url  \\\n",
       "0  https://www.flipkart.com/kall-k-8-new-k-8plus-...   \n",
       "1  https://www.flipkart.com/micromax-canvas-2-plu...   \n",
       "2  https://www.flipkart.com/samsung-galaxy-s10-pl...   \n",
       "3  https://www.flipkart.com/lava-pixel-v2-plus-bl...   \n",
       "4  https://www.flipkart.com/lava-pixel-v2-plus-bl...   \n",
       "5  https://www.flipkart.com/micromax-bharat-4-plu...   \n",
       "6  https://www.flipkart.com/reach-cogent-orange-8...   \n",
       "7  https://www.flipkart.com/nokia-5-1-plus-blue-6...   \n",
       "8  https://www.flipkart.com/zopo-flash-x-plus-ros...   \n",
       "\n",
       "                                          Brand_Name    Smartphone_name  \\\n",
       "0  I Kall K 8 NEw / K-8Plus (Red, 16 GB)  (2 GB RAM)  K 8 NEw / K-8Plus   \n",
       "1  Micromax CANVAS 2 PLUS (jet black, 32 GB)  (3 ...      CANVAS 2 PLUS   \n",
       "2  SAMSUNG Galaxy S10 Plus (Ceramic White, 1 TB) ...    Galaxy S10 Plus   \n",
       "3      LAVA Pixel V2 Plus (Black, 16 GB)  (2 GB RAM)      Pixel V2 Plus   \n",
       "4      LAVA Pixel V2 Plus (Black, 32 GB)  (3 GB RAM)      Pixel V2 Plus   \n",
       "5  Micromax Bharat 4 Plus (Black, 16 GB)  (2 GB RAM)                  -   \n",
       "6           Reach Cogent+ (Orange, 8 GB)  (1 GB RAM)            Cogent+   \n",
       "7           Nokia 5.1 Plus (Blue, 64 GB)  (6 GB RAM)           5.1 Plus   \n",
       "8   Zopo Flash X Plus (Rose Gold, 32 GB)  (3 GB RAM)       Flash X Plus   \n",
       "\n",
       "          Colour        RAM        Storage(ROM)     Primary_Camera  \\\n",
       "0            Red       2 GB               16 GB                Yes   \n",
       "1      jet black       3 GB               32 GB   13MP Rear Camera   \n",
       "2  Ceramic White      12 GB                1 TB                Yes   \n",
       "3          Black       2 GB               16 GB        13MP + 13MP   \n",
       "4          Black       3 GB               32 GB                Yes   \n",
       "5              -  Quad Core  Android Nougat 7.0              16 GB   \n",
       "6         Orange       1 GB                8 GB  3.2MP Rear Camera   \n",
       "7           Blue       6 GB               64 GB   13MP Rear Camera   \n",
       "8      Rose Gold       3 GB               32 GB                Yes   \n",
       "\n",
       "   Secondary_Camera                        Display_Size  Display_Resolution  \\\n",
       "0               Yes                 13.97 cm (5.5 inch)    480 x 960$$pixel   \n",
       "1                 -                 14.48 cm (5.7 inch)   720 x 1440$$pixel   \n",
       "2               Yes                 16.26 cm (6.4 inch)   3040 x 1440 pixel   \n",
       "3                 -                    12.7 cm (5 inch)   1280 x 720 Pixels   \n",
       "4  5MP Front Camera                    12.7 cm (5 inch)   720 x 1280 Pixels   \n",
       "5                 -  Handset,Battery,Charger,User Guide                q440   \n",
       "6                 -                   10.16 cm (4 inch)     854 x 480 Pixel   \n",
       "7                 -                 14.73 cm (5.8 inch)   720 x 1520$$pixel   \n",
       "8               Yes                 13.97 cm (5.5 inch)  1920 x 1080 Pixels   \n",
       "\n",
       "                 Processor    Processor_Cores  Battery_Capacity      Price  \n",
       "0  Android Marshmallow 6.0          Quad Core  4G VOLTE, 3G, 2G     ₹4,170  \n",
       "1         Android Nougat 7            1.3 GHz          4000 mAh     ₹8,499  \n",
       "2          Android Pie 9.0      Exynos 9 9820        3G, 4G, 2G  ₹1,17,990  \n",
       "3     Android Lollipop 5.1          Quad Core        3G, 4G, 2G     ₹6,199  \n",
       "4   Android Lollipop 5.1.1          Quad Core        3G, 4G, 2G     ₹7,290  \n",
       "5         12.7 cm (5 inch)  1280 x 720$$pixel               Yes     ₹4,960  \n",
       "6     Android Lollipop 5.1          Quad Core          2000 mAh     ₹2,290  \n",
       "7         Android Oreo 8.1          Octa Core               Yes     ₹9,900  \n",
       "8    Android Marshmallow 6      MT6753 64-bit  3G, 4G VOLTE, 2G     ₹4,949  "
      ]
     },
     "execution_count": 205,
     "metadata": {},
     "output_type": "execute_result"
    }
   ],
   "source": [
    "Phone_details"
   ]
  },
  {
   "cell_type": "code",
   "execution_count": 206,
   "metadata": {},
   "outputs": [],
   "source": [
    "Phone_details.to_csv('Phone_details.csv')"
   ]
  },
  {
   "cell_type": "markdown",
   "metadata": {},
   "source": [
    "Q5.Write a program to scrap geospatial coordinates (latitude, longitude) of a city searched on \n",
    "google maps"
   ]
  },
  {
   "cell_type": "code",
   "execution_count": 78,
   "metadata": {},
   "outputs": [
    {
     "name": "stdout",
     "output_type": "stream",
     "text": [
      "Collecting geopy\n",
      "  Downloading geopy-2.1.0-py3-none-any.whl (112 kB)\n",
      "Collecting geographiclib<2,>=1.49\n",
      "  Downloading geographiclib-1.50-py3-none-any.whl (38 kB)\n",
      "Installing collected packages: geographiclib, geopy\n",
      "Successfully installed geographiclib-1.50 geopy-2.1.0\n"
     ]
    }
   ],
   "source": [
    "#!pip install geopy"
   ]
  },
  {
   "cell_type": "code",
   "execution_count": 80,
   "metadata": {},
   "outputs": [
    {
     "name": "stdout",
     "output_type": "stream",
     "text": [
      "latitude is :- 12.9791198 \n",
      "longtitude is:- 77.5912997\n"
     ]
    }
   ],
   "source": [
    "from geopy.geocoders import Nominatim\n",
    "geolocator = Nominatim(user_agent=\"my_user_agent\")\n",
    "city =\"Bangalore\"\n",
    "country =\"India\"\n",
    "loc = geolocator.geocode(city+','+ country)\n",
    "print(\"latitude is :-\" ,loc.latitude,\"\\nlongtitude is:-\" ,loc.longitude)"
   ]
  },
  {
   "cell_type": "markdown",
   "metadata": {},
   "source": [
    "OR use the below code in google maps to find the same"
   ]
  },
  {
   "cell_type": "code",
   "execution_count": 110,
   "metadata": {},
   "outputs": [],
   "source": [
    "#Trying to search it on googlemap as well\n",
    "#Lets connect to webdriver\n",
    "driver=webdriver.Chrome(r\"C:/chromedriver\")"
   ]
  },
  {
   "cell_type": "code",
   "execution_count": 111,
   "metadata": {},
   "outputs": [],
   "source": [
    "#Opening tab for scraping details for latitude and longitude from google maps\n",
    "driver.get(\"https://www.google.com/maps\")"
   ]
  },
  {
   "cell_type": "code",
   "execution_count": 112,
   "metadata": {},
   "outputs": [
    {
     "name": "stdout",
     "output_type": "stream",
     "text": [
      "Enter the City whose longitude or latitude you want to search:Delhi\n"
     ]
    }
   ],
   "source": [
    "#Checking with the user to input the keywords he/she wants to search\n",
    "\n",
    "user_inp=input('Enter the City whose longitude or latitude you want to search:')"
   ]
  },
  {
   "cell_type": "code",
   "execution_count": 113,
   "metadata": {},
   "outputs": [],
   "source": [
    "google_mapinput=driver.find_element_by_xpath('/html/body/jsl/div[3]/div[9]/div[3]/div[1]/div[1]/div[1]/div[2]/form/div/div[3]/div/input[1]')"
   ]
  },
  {
   "cell_type": "code",
   "execution_count": 114,
   "metadata": {},
   "outputs": [
    {
     "data": {
      "text/plain": [
       "<selenium.webdriver.remote.webelement.WebElement (session=\"abe2c57ad5c57eddf0370ec689107b52\", element=\"6af89a77-6524-4f8c-b051-d61ea1d0d7c3\")>"
      ]
     },
     "execution_count": 114,
     "metadata": {},
     "output_type": "execute_result"
    }
   ],
   "source": [
    "google_mapinput"
   ]
  },
  {
   "cell_type": "code",
   "execution_count": 116,
   "metadata": {},
   "outputs": [],
   "source": [
    "google_mapinput.send_keys(user_inp)"
   ]
  },
  {
   "cell_type": "code",
   "execution_count": 117,
   "metadata": {},
   "outputs": [],
   "source": [
    "google_search=driver.find_element_by_xpath('//button[@class=\"searchbox-searchbutton\"]')"
   ]
  },
  {
   "cell_type": "code",
   "execution_count": 118,
   "metadata": {},
   "outputs": [],
   "source": [
    "google_search.click()"
   ]
  },
  {
   "cell_type": "code",
   "execution_count": 119,
   "metadata": {},
   "outputs": [],
   "source": [
    "get_url = driver.current_url"
   ]
  },
  {
   "cell_type": "code",
   "execution_count": 120,
   "metadata": {},
   "outputs": [
    {
     "name": "stdout",
     "output_type": "stream",
     "text": [
      "https://www.google.com/maps/place/Delhi/@28.6466772,76.8130547,10z/data=!3m1!4b1!4m5!3m4!1s0x390cfd5b347eb62d:0x37205b715389640!8m2!3d28.7040592!4d77.1024902\n"
     ]
    }
   ],
   "source": [
    "print(get_url)"
   ]
  },
  {
   "cell_type": "code",
   "execution_count": 121,
   "metadata": {},
   "outputs": [],
   "source": [
    "import re"
   ]
  },
  {
   "cell_type": "code",
   "execution_count": 122,
   "metadata": {},
   "outputs": [],
   "source": [
    "latitude=re.findall('\\@(-?[\\d\\.]*)',get_url)"
   ]
  },
  {
   "cell_type": "code",
   "execution_count": 123,
   "metadata": {},
   "outputs": [
    {
     "data": {
      "text/plain": [
       "['28.6466772']"
      ]
     },
     "execution_count": 123,
     "metadata": {},
     "output_type": "execute_result"
    }
   ],
   "source": [
    "latitude"
   ]
  },
  {
   "cell_type": "code",
   "execution_count": 124,
   "metadata": {},
   "outputs": [],
   "source": [
    "longitude=re.findall('\\@[-?\\d\\.]*\\,([-?\\d\\.]*)',get_url)"
   ]
  },
  {
   "cell_type": "code",
   "execution_count": 125,
   "metadata": {},
   "outputs": [
    {
     "data": {
      "text/plain": [
       "['76.8130547']"
      ]
     },
     "execution_count": 125,
     "metadata": {},
     "output_type": "execute_result"
    }
   ],
   "source": [
    "longitude"
   ]
  },
  {
   "cell_type": "code",
   "execution_count": null,
   "metadata": {},
   "outputs": [],
   "source": []
  }
 ],
 "metadata": {
  "kernelspec": {
   "display_name": "Python 3",
   "language": "python",
   "name": "python3"
  },
  "language_info": {
   "codemirror_mode": {
    "name": "ipython",
    "version": 3
   },
   "file_extension": ".py",
   "mimetype": "text/x-python",
   "name": "python",
   "nbconvert_exporter": "python",
   "pygments_lexer": "ipython3",
   "version": "3.8.3"
  }
 },
 "nbformat": 4,
 "nbformat_minor": 4
}
