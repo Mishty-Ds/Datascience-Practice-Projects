{
 "cells": [
  {
   "cell_type": "markdown",
   "metadata": {},
   "source": [
    "Q1: Write a python program to scrape data for “Data Analyst” Job position in \n",
    "“Bangalore” location. You have to scrape the job-title, job-location, company_name,\n",
    "experience_required. You have to scrape first 10 jobs data."
   ]
  },
  {
   "cell_type": "code",
   "execution_count": 1,
   "metadata": {},
   "outputs": [],
   "source": [
    "import selenium\n",
    "import pandas as pd\n",
    "from selenium import webdriver"
   ]
  },
  {
   "cell_type": "code",
   "execution_count": 2,
   "metadata": {},
   "outputs": [],
   "source": [
    "#Lets connect to webdriver\n",
    "driver=webdriver.Chrome(r\"C:/chromedriver\")"
   ]
  },
  {
   "cell_type": "code",
   "execution_count": 6,
   "metadata": {},
   "outputs": [],
   "source": [
    "#Opening the homepage\n",
    "driver.get(\"https://www.naukri.com/\")"
   ]
  },
  {
   "cell_type": "code",
   "execution_count": 7,
   "metadata": {},
   "outputs": [
    {
     "data": {
      "text/plain": [
       "<selenium.webdriver.remote.webelement.WebElement (session=\"de71de05128097819bb957e52aac7502\", element=\"05f8c572-88ec-4874-9e1a-fe2ae1cdc432\")>"
      ]
     },
     "execution_count": 7,
     "metadata": {},
     "output_type": "execute_result"
    }
   ],
   "source": [
    "#finding element for job search bar\n",
    "search_job=driver.find_element_by_id('qsb-keyword-sugg')\n",
    "search_job"
   ]
  },
  {
   "cell_type": "code",
   "execution_count": 8,
   "metadata": {},
   "outputs": [],
   "source": [
    "#write on search bar\n",
    "search_job.send_keys(\"Data Analyst\")"
   ]
  },
  {
   "cell_type": "code",
   "execution_count": 10,
   "metadata": {},
   "outputs": [
    {
     "data": {
      "text/plain": [
       "<selenium.webdriver.remote.webelement.WebElement (session=\"de71de05128097819bb957e52aac7502\", element=\"e68d6c36-6b2d-4f4e-b6cb-ebcfd91a1061\")>"
      ]
     },
     "execution_count": 10,
     "metadata": {},
     "output_type": "execute_result"
    }
   ],
   "source": [
    "#find element by job location bar\n",
    "search_loc=driver.find_element_by_id('qsb-location-sugg')\n",
    "search_loc"
   ]
  },
  {
   "cell_type": "code",
   "execution_count": 11,
   "metadata": {},
   "outputs": [],
   "source": [
    "search_loc.send_keys(\"Bangalore\")"
   ]
  },
  {
   "cell_type": "code",
   "execution_count": 13,
   "metadata": {},
   "outputs": [],
   "source": [
    "# click using xpath function\n",
    "search_button=driver.find_element_by_xpath(\"//button[@class='btn']\")\n",
    "search_button.click()"
   ]
  },
  {
   "cell_type": "code",
   "execution_count": 78,
   "metadata": {},
   "outputs": [],
   "source": [
    "#Now extracting the job titles \n",
    "title_tags=driver.find_elements_by_xpath(\"//a[@class='title fw500 ellipsis']\")[:10]"
   ]
  },
  {
   "cell_type": "code",
   "execution_count": 79,
   "metadata": {},
   "outputs": [
    {
     "data": {
      "text/plain": [
       "[<selenium.webdriver.remote.webelement.WebElement (session=\"de71de05128097819bb957e52aac7502\", element=\"7f0c427e-defb-45af-91a8-1b274b02493c\")>,\n",
       " <selenium.webdriver.remote.webelement.WebElement (session=\"de71de05128097819bb957e52aac7502\", element=\"f5b968e8-747e-4ef9-b27f-a8f5d1fa8624\")>,\n",
       " <selenium.webdriver.remote.webelement.WebElement (session=\"de71de05128097819bb957e52aac7502\", element=\"977048fd-499c-42b7-8c03-d8f322a95221\")>,\n",
       " <selenium.webdriver.remote.webelement.WebElement (session=\"de71de05128097819bb957e52aac7502\", element=\"ade6c53a-ba7e-430c-8a33-860092abe760\")>,\n",
       " <selenium.webdriver.remote.webelement.WebElement (session=\"de71de05128097819bb957e52aac7502\", element=\"08f67038-2664-4abf-ab2a-c59837945064\")>,\n",
       " <selenium.webdriver.remote.webelement.WebElement (session=\"de71de05128097819bb957e52aac7502\", element=\"11675c66-400e-40f5-82b4-fbc101f5d821\")>,\n",
       " <selenium.webdriver.remote.webelement.WebElement (session=\"de71de05128097819bb957e52aac7502\", element=\"06f1df88-7c3b-4d63-8d73-a2ac2022ddb9\")>,\n",
       " <selenium.webdriver.remote.webelement.WebElement (session=\"de71de05128097819bb957e52aac7502\", element=\"92f8deb0-bd52-452a-a528-356636636f87\")>,\n",
       " <selenium.webdriver.remote.webelement.WebElement (session=\"de71de05128097819bb957e52aac7502\", element=\"ef22e664-479d-4f57-9a6f-7eb071b31d4b\")>,\n",
       " <selenium.webdriver.remote.webelement.WebElement (session=\"de71de05128097819bb957e52aac7502\", element=\"31e90a8b-e6be-405f-8112-fd074f3fb035\")>]"
      ]
     },
     "execution_count": 79,
     "metadata": {},
     "output_type": "execute_result"
    }
   ],
   "source": [
    "title_tags"
   ]
  },
  {
   "cell_type": "code",
   "execution_count": 80,
   "metadata": {},
   "outputs": [],
   "source": [
    "#Now the text of job title is inside the title tag extracted above and hence lets run a loop to iterate over the extracted tags\n",
    "\n",
    "job_title=[]\n",
    "for i in title_tags:\n",
    "    job_title.append(i.text)"
   ]
  },
  {
   "cell_type": "code",
   "execution_count": 81,
   "metadata": {},
   "outputs": [
    {
     "data": {
      "text/plain": [
       "['Data Scientist / Data Analyst -Business Analyst',\n",
       " 'Data Analyst',\n",
       " 'Data Analyst',\n",
       " 'Data Analyst',\n",
       " 'Hiring For Data Analyst/ MIS Reporting Analyst - Bangalore',\n",
       " 'Hiring Data Analysts For E commerce Platform || WFH',\n",
       " 'DA - Urgent Opening For Data Analyst BFSI Domain - Pan India',\n",
       " 'Data Analyst - Informatica MDM',\n",
       " 'Data Analyst',\n",
       " 'Assistant Vice President - MIS & Reporting ( Business Data Analyst)']"
      ]
     },
     "execution_count": 81,
     "metadata": {},
     "output_type": "execute_result"
    }
   ],
   "source": [
    "job_title"
   ]
  },
  {
   "cell_type": "code",
   "execution_count": 75,
   "metadata": {},
   "outputs": [
    {
     "data": {
      "text/plain": [
       "[<selenium.webdriver.remote.webelement.WebElement (session=\"de71de05128097819bb957e52aac7502\", element=\"f9eefaf0-32f2-45e1-a54a-8c7f9c99b03b\")>,\n",
       " <selenium.webdriver.remote.webelement.WebElement (session=\"de71de05128097819bb957e52aac7502\", element=\"7e599f4c-fb5f-47fd-a184-70bec7dc448b\")>,\n",
       " <selenium.webdriver.remote.webelement.WebElement (session=\"de71de05128097819bb957e52aac7502\", element=\"14f3f167-1b5e-4d0b-8c47-b87e9d874c46\")>,\n",
       " <selenium.webdriver.remote.webelement.WebElement (session=\"de71de05128097819bb957e52aac7502\", element=\"a5768c84-b6a9-4601-bd9e-1938cbaa9f08\")>,\n",
       " <selenium.webdriver.remote.webelement.WebElement (session=\"de71de05128097819bb957e52aac7502\", element=\"384f95cf-0945-46d1-984c-37bd26d83836\")>,\n",
       " <selenium.webdriver.remote.webelement.WebElement (session=\"de71de05128097819bb957e52aac7502\", element=\"31acf090-7964-42aa-b526-b5763f8edc13\")>,\n",
       " <selenium.webdriver.remote.webelement.WebElement (session=\"de71de05128097819bb957e52aac7502\", element=\"4b65006b-4450-4f4e-832d-bf40ab3c21e8\")>,\n",
       " <selenium.webdriver.remote.webelement.WebElement (session=\"de71de05128097819bb957e52aac7502\", element=\"1675d448-f688-4b2f-b189-791740d29abc\")>,\n",
       " <selenium.webdriver.remote.webelement.WebElement (session=\"de71de05128097819bb957e52aac7502\", element=\"21373667-75c9-471a-b565-920f2505ee33\")>,\n",
       " <selenium.webdriver.remote.webelement.WebElement (session=\"de71de05128097819bb957e52aac7502\", element=\"b89318e9-156e-44aa-9b38-2567cdc799d6\")>]"
      ]
     },
     "execution_count": 75,
     "metadata": {},
     "output_type": "execute_result"
    }
   ],
   "source": [
    "#Extracting the first 10 company_tags\n",
    "company_tags=driver.find_elements_by_xpath(\"//a[@class='subTitle ellipsis fleft']\")[:10]\n",
    "company_tags"
   ]
  },
  {
   "cell_type": "code",
   "execution_count": 76,
   "metadata": {},
   "outputs": [],
   "source": [
    "company_name=[]\n",
    "for i in company_tags:\n",
    "    company_name.append(i.text)"
   ]
  },
  {
   "cell_type": "code",
   "execution_count": 77,
   "metadata": {},
   "outputs": [
    {
     "data": {
      "text/plain": [
       "['Inflexion Analytix Private Limited',\n",
       " 'GlaxoSmithKline Pharmaceuticals Limited',\n",
       " 'Shell India Markets Private Limited',\n",
       " 'Applied Materials',\n",
       " 'PHARMACEUTICAL RESEARCH ASSOCIATES INDIA Pvt Ltd',\n",
       " 'Allegis Services India Pvt. Ltd.',\n",
       " 'Tata Consultancy Services Ltd.',\n",
       " 'Shell India Markets Private Limited',\n",
       " 'Shell India Markets Private Limited',\n",
       " 'INTERTRUSTVITEOS CORPORATE AND FUND SERVICES PVT. LTD.']"
      ]
     },
     "execution_count": 77,
     "metadata": {},
     "output_type": "execute_result"
    }
   ],
   "source": [
    "company_name"
   ]
  },
  {
   "cell_type": "code",
   "execution_count": 71,
   "metadata": {},
   "outputs": [],
   "source": [
    "#lets extract all the tags having experience related data\n",
    "experience_tags=driver.find_elements_by_xpath(\"//li[@class='fleft grey-text br2 placeHolderLi experience']//span\")[:10]"
   ]
  },
  {
   "cell_type": "code",
   "execution_count": 72,
   "metadata": {},
   "outputs": [
    {
     "data": {
      "text/plain": [
       "[<selenium.webdriver.remote.webelement.WebElement (session=\"de71de05128097819bb957e52aac7502\", element=\"0a8b9b15-a7cf-4079-9d7a-c4b1debaa393\")>,\n",
       " <selenium.webdriver.remote.webelement.WebElement (session=\"de71de05128097819bb957e52aac7502\", element=\"316fec7e-ada3-459e-9443-5ca888a5048d\")>,\n",
       " <selenium.webdriver.remote.webelement.WebElement (session=\"de71de05128097819bb957e52aac7502\", element=\"b782ffac-6877-43cf-904e-05b424d0f260\")>,\n",
       " <selenium.webdriver.remote.webelement.WebElement (session=\"de71de05128097819bb957e52aac7502\", element=\"5740dd9f-1118-4ae9-92d6-9dbdd396a078\")>,\n",
       " <selenium.webdriver.remote.webelement.WebElement (session=\"de71de05128097819bb957e52aac7502\", element=\"244137e0-8af6-473d-bacd-78790261faf9\")>,\n",
       " <selenium.webdriver.remote.webelement.WebElement (session=\"de71de05128097819bb957e52aac7502\", element=\"137ecaf6-47c5-40a3-bf65-46c518ed4ca5\")>,\n",
       " <selenium.webdriver.remote.webelement.WebElement (session=\"de71de05128097819bb957e52aac7502\", element=\"e76ccb29-7f42-4ede-b433-cf4e42c9344c\")>,\n",
       " <selenium.webdriver.remote.webelement.WebElement (session=\"de71de05128097819bb957e52aac7502\", element=\"657290e6-4764-477a-8068-e8e4fb12316b\")>,\n",
       " <selenium.webdriver.remote.webelement.WebElement (session=\"de71de05128097819bb957e52aac7502\", element=\"00c4223e-9445-44de-98dc-f1977ef77fd7\")>,\n",
       " <selenium.webdriver.remote.webelement.WebElement (session=\"de71de05128097819bb957e52aac7502\", element=\"0a441f6b-72a2-4507-8e79-6389614a0476\")>]"
      ]
     },
     "execution_count": 72,
     "metadata": {},
     "output_type": "execute_result"
    }
   ],
   "source": [
    "experience_tags"
   ]
  },
  {
   "cell_type": "code",
   "execution_count": 73,
   "metadata": {},
   "outputs": [],
   "source": [
    "#To extract the experience related text from the experience tags extracted above\n",
    "experience=[]\n",
    "for i in experience_tags:\n",
    "    experience.append(i.text)"
   ]
  },
  {
   "cell_type": "code",
   "execution_count": 74,
   "metadata": {},
   "outputs": [
    {
     "data": {
      "text/plain": [
       "['0-3 Yrs',\n",
       " '0-2 Yrs',\n",
       " '5-8 Yrs',\n",
       " '7-10 Yrs',\n",
       " '2-4 Yrs',\n",
       " '0-5 Yrs',\n",
       " '4-9 Yrs',\n",
       " '6-9 Yrs',\n",
       " '5-8 Yrs',\n",
       " '12-18 Yrs']"
      ]
     },
     "execution_count": 74,
     "metadata": {},
     "output_type": "execute_result"
    }
   ],
   "source": [
    "experience"
   ]
  },
  {
   "cell_type": "code",
   "execution_count": 34,
   "metadata": {},
   "outputs": [
    {
     "data": {
      "text/plain": [
       "['0-3 Yrs',\n",
       " '0-2 Yrs',\n",
       " '5-8 Yrs',\n",
       " '7-10 Yrs',\n",
       " '2-4 Yrs',\n",
       " '0-5 Yrs',\n",
       " '4-9 Yrs',\n",
       " '6-9 Yrs',\n",
       " '5-8 Yrs',\n",
       " '12-18 Yrs']"
      ]
     },
     "execution_count": 34,
     "metadata": {},
     "output_type": "execute_result"
    }
   ],
   "source": [
    "experience"
   ]
  },
  {
   "cell_type": "code",
   "execution_count": 65,
   "metadata": {},
   "outputs": [],
   "source": [
    "# to extract all html tags where we have location of job data\n",
    "location_tags=driver.find_elements_by_xpath(\"//li[@class='fleft grey-text br2 placeHolderLi location']/span\")[:10]"
   ]
  },
  {
   "cell_type": "code",
   "execution_count": 66,
   "metadata": {},
   "outputs": [
    {
     "data": {
      "text/plain": [
       "[<selenium.webdriver.remote.webelement.WebElement (session=\"de71de05128097819bb957e52aac7502\", element=\"157bd952-c534-4357-a77d-ccf2f760c75a\")>,\n",
       " <selenium.webdriver.remote.webelement.WebElement (session=\"de71de05128097819bb957e52aac7502\", element=\"345a50e7-2f5a-48ab-a630-d6446faf2c0d\")>,\n",
       " <selenium.webdriver.remote.webelement.WebElement (session=\"de71de05128097819bb957e52aac7502\", element=\"e2e844cf-6905-4679-8750-577a5f277a15\")>,\n",
       " <selenium.webdriver.remote.webelement.WebElement (session=\"de71de05128097819bb957e52aac7502\", element=\"aa9568a6-8e00-4803-bb7d-ac10d457f256\")>,\n",
       " <selenium.webdriver.remote.webelement.WebElement (session=\"de71de05128097819bb957e52aac7502\", element=\"11d0780b-d3f2-49af-b22d-e520deae9b48\")>,\n",
       " <selenium.webdriver.remote.webelement.WebElement (session=\"de71de05128097819bb957e52aac7502\", element=\"a57f1802-fbf4-49ae-9493-8f1070679b2b\")>,\n",
       " <selenium.webdriver.remote.webelement.WebElement (session=\"de71de05128097819bb957e52aac7502\", element=\"447092c0-6d29-4543-ac8b-24ddedbafa4c\")>,\n",
       " <selenium.webdriver.remote.webelement.WebElement (session=\"de71de05128097819bb957e52aac7502\", element=\"9f49ed22-ebfc-4052-8e64-f709586909b2\")>,\n",
       " <selenium.webdriver.remote.webelement.WebElement (session=\"de71de05128097819bb957e52aac7502\", element=\"a7ba9ad5-1528-4d6f-b35b-f126f40ffa6b\")>,\n",
       " <selenium.webdriver.remote.webelement.WebElement (session=\"de71de05128097819bb957e52aac7502\", element=\"ae71a31a-8452-4ef1-8f34-bf7014bcd96c\")>]"
      ]
     },
     "execution_count": 66,
     "metadata": {},
     "output_type": "execute_result"
    }
   ],
   "source": [
    "location_tags"
   ]
  },
  {
   "cell_type": "code",
   "execution_count": 69,
   "metadata": {},
   "outputs": [],
   "source": [
    "#to extract the text from the above extracted tags\n",
    "location=[]\n",
    "for i in location_tags:\n",
    "    location.append(i.text)"
   ]
  },
  {
   "cell_type": "code",
   "execution_count": 70,
   "metadata": {},
   "outputs": [
    {
     "data": {
      "text/plain": [
       "['Mumbai, Hyderabad/Secunderabad, Pune, Gurgaon/Gurugram, Chennai, Bangalore/Bengaluru',\n",
       " 'Bangalore/Bengaluru',\n",
       " 'Bangalore/Bengaluru',\n",
       " 'Bangalore/Bengaluru',\n",
       " 'Bangalore/Bengaluru',\n",
       " 'Bangalore/Bengaluru',\n",
       " 'Kolkata, Hyderabad/Secunderabad, Pune, Ahmedabad, Chennai, Bangalore/Bengaluru, Delhi / NCR, Mumbai (All Areas)',\n",
       " 'Bangalore/Bengaluru',\n",
       " 'Bangalore/Bengaluru',\n",
       " 'Mumbai, Bangalore/Bengaluru']"
      ]
     },
     "execution_count": 70,
     "metadata": {},
     "output_type": "execute_result"
    }
   ],
   "source": [
    "location"
   ]
  },
  {
   "cell_type": "code",
   "execution_count": 82,
   "metadata": {},
   "outputs": [],
   "source": [
    "#to put it in a dataframe\n",
    "jobs=pd.DataFrame({})"
   ]
  },
  {
   "cell_type": "code",
   "execution_count": 83,
   "metadata": {},
   "outputs": [],
   "source": [
    "jobs['job_title']=job_title"
   ]
  },
  {
   "cell_type": "code",
   "execution_count": 84,
   "metadata": {},
   "outputs": [],
   "source": [
    "jobs['company_name']=company_name"
   ]
  },
  {
   "cell_type": "code",
   "execution_count": 85,
   "metadata": {},
   "outputs": [],
   "source": [
    "jobs['experience required']=experience"
   ]
  },
  {
   "cell_type": "code",
   "execution_count": 86,
   "metadata": {},
   "outputs": [],
   "source": [
    "jobs['location']=location"
   ]
  },
  {
   "cell_type": "code",
   "execution_count": 87,
   "metadata": {},
   "outputs": [
    {
     "data": {
      "text/html": [
       "<div>\n",
       "<style scoped>\n",
       "    .dataframe tbody tr th:only-of-type {\n",
       "        vertical-align: middle;\n",
       "    }\n",
       "\n",
       "    .dataframe tbody tr th {\n",
       "        vertical-align: top;\n",
       "    }\n",
       "\n",
       "    .dataframe thead th {\n",
       "        text-align: right;\n",
       "    }\n",
       "</style>\n",
       "<table border=\"1\" class=\"dataframe\">\n",
       "  <thead>\n",
       "    <tr style=\"text-align: right;\">\n",
       "      <th></th>\n",
       "      <th>job_title</th>\n",
       "      <th>company_name</th>\n",
       "      <th>experience required</th>\n",
       "      <th>location</th>\n",
       "    </tr>\n",
       "  </thead>\n",
       "  <tbody>\n",
       "    <tr>\n",
       "      <th>0</th>\n",
       "      <td>Data Scientist / Data Analyst -Business Analyst</td>\n",
       "      <td>Inflexion Analytix Private Limited</td>\n",
       "      <td>0-3 Yrs</td>\n",
       "      <td>Mumbai, Hyderabad/Secunderabad, Pune, Gurgaon/...</td>\n",
       "    </tr>\n",
       "    <tr>\n",
       "      <th>1</th>\n",
       "      <td>Data Analyst</td>\n",
       "      <td>GlaxoSmithKline Pharmaceuticals Limited</td>\n",
       "      <td>0-2 Yrs</td>\n",
       "      <td>Bangalore/Bengaluru</td>\n",
       "    </tr>\n",
       "    <tr>\n",
       "      <th>2</th>\n",
       "      <td>Data Analyst</td>\n",
       "      <td>Shell India Markets Private Limited</td>\n",
       "      <td>5-8 Yrs</td>\n",
       "      <td>Bangalore/Bengaluru</td>\n",
       "    </tr>\n",
       "    <tr>\n",
       "      <th>3</th>\n",
       "      <td>Data Analyst</td>\n",
       "      <td>Applied Materials</td>\n",
       "      <td>7-10 Yrs</td>\n",
       "      <td>Bangalore/Bengaluru</td>\n",
       "    </tr>\n",
       "    <tr>\n",
       "      <th>4</th>\n",
       "      <td>Hiring For Data Analyst/ MIS Reporting Analyst...</td>\n",
       "      <td>PHARMACEUTICAL RESEARCH ASSOCIATES INDIA Pvt Ltd</td>\n",
       "      <td>2-4 Yrs</td>\n",
       "      <td>Bangalore/Bengaluru</td>\n",
       "    </tr>\n",
       "    <tr>\n",
       "      <th>5</th>\n",
       "      <td>Hiring Data Analysts For E commerce Platform |...</td>\n",
       "      <td>Allegis Services India Pvt. Ltd.</td>\n",
       "      <td>0-5 Yrs</td>\n",
       "      <td>Bangalore/Bengaluru</td>\n",
       "    </tr>\n",
       "    <tr>\n",
       "      <th>6</th>\n",
       "      <td>DA - Urgent Opening For Data Analyst BFSI Doma...</td>\n",
       "      <td>Tata Consultancy Services Ltd.</td>\n",
       "      <td>4-9 Yrs</td>\n",
       "      <td>Kolkata, Hyderabad/Secunderabad, Pune, Ahmedab...</td>\n",
       "    </tr>\n",
       "    <tr>\n",
       "      <th>7</th>\n",
       "      <td>Data Analyst - Informatica MDM</td>\n",
       "      <td>Shell India Markets Private Limited</td>\n",
       "      <td>6-9 Yrs</td>\n",
       "      <td>Bangalore/Bengaluru</td>\n",
       "    </tr>\n",
       "    <tr>\n",
       "      <th>8</th>\n",
       "      <td>Data Analyst</td>\n",
       "      <td>Shell India Markets Private Limited</td>\n",
       "      <td>5-8 Yrs</td>\n",
       "      <td>Bangalore/Bengaluru</td>\n",
       "    </tr>\n",
       "    <tr>\n",
       "      <th>9</th>\n",
       "      <td>Assistant Vice President - MIS &amp; Reporting ( B...</td>\n",
       "      <td>INTERTRUSTVITEOS CORPORATE AND FUND SERVICES P...</td>\n",
       "      <td>12-18 Yrs</td>\n",
       "      <td>Mumbai, Bangalore/Bengaluru</td>\n",
       "    </tr>\n",
       "  </tbody>\n",
       "</table>\n",
       "</div>"
      ],
      "text/plain": [
       "                                           job_title  \\\n",
       "0    Data Scientist / Data Analyst -Business Analyst   \n",
       "1                                       Data Analyst   \n",
       "2                                       Data Analyst   \n",
       "3                                       Data Analyst   \n",
       "4  Hiring For Data Analyst/ MIS Reporting Analyst...   \n",
       "5  Hiring Data Analysts For E commerce Platform |...   \n",
       "6  DA - Urgent Opening For Data Analyst BFSI Doma...   \n",
       "7                     Data Analyst - Informatica MDM   \n",
       "8                                       Data Analyst   \n",
       "9  Assistant Vice President - MIS & Reporting ( B...   \n",
       "\n",
       "                                        company_name experience required  \\\n",
       "0                 Inflexion Analytix Private Limited             0-3 Yrs   \n",
       "1            GlaxoSmithKline Pharmaceuticals Limited             0-2 Yrs   \n",
       "2                Shell India Markets Private Limited             5-8 Yrs   \n",
       "3                                  Applied Materials            7-10 Yrs   \n",
       "4   PHARMACEUTICAL RESEARCH ASSOCIATES INDIA Pvt Ltd             2-4 Yrs   \n",
       "5                   Allegis Services India Pvt. Ltd.             0-5 Yrs   \n",
       "6                     Tata Consultancy Services Ltd.             4-9 Yrs   \n",
       "7                Shell India Markets Private Limited             6-9 Yrs   \n",
       "8                Shell India Markets Private Limited             5-8 Yrs   \n",
       "9  INTERTRUSTVITEOS CORPORATE AND FUND SERVICES P...           12-18 Yrs   \n",
       "\n",
       "                                            location  \n",
       "0  Mumbai, Hyderabad/Secunderabad, Pune, Gurgaon/...  \n",
       "1                                Bangalore/Bengaluru  \n",
       "2                                Bangalore/Bengaluru  \n",
       "3                                Bangalore/Bengaluru  \n",
       "4                                Bangalore/Bengaluru  \n",
       "5                                Bangalore/Bengaluru  \n",
       "6  Kolkata, Hyderabad/Secunderabad, Pune, Ahmedab...  \n",
       "7                                Bangalore/Bengaluru  \n",
       "8                                Bangalore/Bengaluru  \n",
       "9                        Mumbai, Bangalore/Bengaluru  "
      ]
     },
     "execution_count": 87,
     "metadata": {},
     "output_type": "execute_result"
    }
   ],
   "source": [
    "jobs.head(10)"
   ]
  },
  {
   "cell_type": "markdown",
   "metadata": {},
   "source": [
    " Q2 Write a python program to scrape data for “Data Scientist” Job position in \n",
    "“Bangalore” location. You have to scrape the job-title, job-location,\n",
    "company_name, full job-description. You have to scrape first 10 jobs data"
   ]
  },
  {
   "cell_type": "code",
   "execution_count": 89,
   "metadata": {},
   "outputs": [],
   "source": [
    "#Opening the homepage\n",
    "driver.get(\"https://www.naukri.com/\")"
   ]
  },
  {
   "cell_type": "code",
   "execution_count": 90,
   "metadata": {},
   "outputs": [
    {
     "data": {
      "text/plain": [
       "<selenium.webdriver.remote.webelement.WebElement (session=\"de71de05128097819bb957e52aac7502\", element=\"27db204b-43cc-4bd3-aea2-c452a2a6c7b5\")>"
      ]
     },
     "execution_count": 90,
     "metadata": {},
     "output_type": "execute_result"
    }
   ],
   "source": [
    "#finding element for job search bar\n",
    "search_job=driver.find_element_by_id('qsb-keyword-sugg')\n",
    "search_job"
   ]
  },
  {
   "cell_type": "code",
   "execution_count": 91,
   "metadata": {},
   "outputs": [],
   "source": [
    "#write on search bar for Data scientist\n",
    "search_job.send_keys(\"Data Scientist\")"
   ]
  },
  {
   "cell_type": "code",
   "execution_count": 92,
   "metadata": {},
   "outputs": [
    {
     "data": {
      "text/plain": [
       "<selenium.webdriver.remote.webelement.WebElement (session=\"de71de05128097819bb957e52aac7502\", element=\"eef9b987-bf6d-48f8-8466-1778fe53904b\")>"
      ]
     },
     "execution_count": 92,
     "metadata": {},
     "output_type": "execute_result"
    }
   ],
   "source": [
    "#find element by job location bar\n",
    "search_loc=driver.find_element_by_id('qsb-location-sugg')\n",
    "search_loc"
   ]
  },
  {
   "cell_type": "code",
   "execution_count": 93,
   "metadata": {},
   "outputs": [],
   "source": [
    "search_loc.send_keys(\"Bangalore\")"
   ]
  },
  {
   "cell_type": "code",
   "execution_count": 94,
   "metadata": {},
   "outputs": [],
   "source": [
    "# click using xpath function\n",
    "search_button=driver.find_element_by_xpath(\"//button[@class='btn']\")\n",
    "search_button.click()"
   ]
  },
  {
   "cell_type": "code",
   "execution_count": 95,
   "metadata": {},
   "outputs": [],
   "source": [
    "#Now extracting the job titles \n",
    "title_tags=driver.find_elements_by_xpath(\"//a[@class='title fw500 ellipsis']\")[:10]"
   ]
  },
  {
   "cell_type": "code",
   "execution_count": 96,
   "metadata": {},
   "outputs": [],
   "source": [
    "#Now the text of job title is inside the title tag extracted above and hence lets run a loop to iterate over the extracted tags\n",
    "\n",
    "job_title=[]\n",
    "for i in title_tags:\n",
    "    job_title.append(i.text)"
   ]
  },
  {
   "cell_type": "code",
   "execution_count": 97,
   "metadata": {},
   "outputs": [
    {
     "data": {
      "text/plain": [
       "['Data Scientist / Data Analyst -Business Analyst',\n",
       " 'Senior Data Scientist | CES IT LTD | CMMI Level 5',\n",
       " 'Senior Data Scientist | CES IT LTD | CMMI Level 5',\n",
       " 'Analytics & AI Product Mgmt - Sr. Data Scientist',\n",
       " 'Senior Data Scientist',\n",
       " 'Senior Data Scientist, Modeling',\n",
       " 'Data Scientist - IBM Garage',\n",
       " 'Data Scientist',\n",
       " 'Data Scientist',\n",
       " 'Senior Data Scientist - Credit risk']"
      ]
     },
     "execution_count": 97,
     "metadata": {},
     "output_type": "execute_result"
    }
   ],
   "source": [
    "job_title"
   ]
  },
  {
   "cell_type": "code",
   "execution_count": 98,
   "metadata": {},
   "outputs": [],
   "source": [
    "# to extract first 10 html tags where we have location of job data for first 10 records\n",
    "location_tags=driver.find_elements_by_xpath(\"//li[@class='fleft grey-text br2 placeHolderLi location']/span\")[:10]"
   ]
  },
  {
   "cell_type": "code",
   "execution_count": 99,
   "metadata": {},
   "outputs": [],
   "source": [
    "#to extract the text from the above extracted tags\n",
    "location=[]\n",
    "for i in location_tags:\n",
    "    location.append(i.text)"
   ]
  },
  {
   "cell_type": "code",
   "execution_count": 100,
   "metadata": {},
   "outputs": [
    {
     "data": {
      "text/plain": [
       "['Mumbai, Hyderabad/Secunderabad, Pune, Gurgaon/Gurugram, Chennai, Bangalore/Bengaluru',\n",
       " 'Kolkata, Mumbai, Hyderabad/Secunderabad, Pune, Chennai, Bangalore/Bengaluru, Delhi / NCR',\n",
       " 'Kolkata, Mumbai, Hyderabad/Secunderabad, Pune, Chennai, Bangalore/Bengaluru, Delhi / NCR',\n",
       " 'Bangalore/Bengaluru',\n",
       " 'Pune, Chennai, Bangalore/Bengaluru',\n",
       " 'Kolkata, Gurgaon/Gurugram, Bangalore/Bengaluru, Vadodara, Mumbai (All Areas)',\n",
       " 'Noida, Hyderabad/Secunderabad, Bangalore/Bengaluru',\n",
       " 'Noida, Hyderabad/Secunderabad, Bangalore/Bengaluru',\n",
       " 'Noida, Hyderabad/Secunderabad, Bangalore/Bengaluru',\n",
       " 'Bangalore/Bengaluru']"
      ]
     },
     "execution_count": 100,
     "metadata": {},
     "output_type": "execute_result"
    }
   ],
   "source": [
    "location"
   ]
  },
  {
   "cell_type": "code",
   "execution_count": 101,
   "metadata": {},
   "outputs": [
    {
     "data": {
      "text/plain": [
       "[<selenium.webdriver.remote.webelement.WebElement (session=\"de71de05128097819bb957e52aac7502\", element=\"525d8743-419e-43d0-a2f9-a6fe711bd982\")>,\n",
       " <selenium.webdriver.remote.webelement.WebElement (session=\"de71de05128097819bb957e52aac7502\", element=\"44dbccb8-eb28-4f21-9def-fd2ec2e710b3\")>,\n",
       " <selenium.webdriver.remote.webelement.WebElement (session=\"de71de05128097819bb957e52aac7502\", element=\"9f31e114-a42c-4fd5-b215-4653f13fc503\")>,\n",
       " <selenium.webdriver.remote.webelement.WebElement (session=\"de71de05128097819bb957e52aac7502\", element=\"3729ab98-76ec-4743-94cc-31f3592868a6\")>,\n",
       " <selenium.webdriver.remote.webelement.WebElement (session=\"de71de05128097819bb957e52aac7502\", element=\"e3b2d81d-1fe5-4812-8820-d41f981a70f8\")>,\n",
       " <selenium.webdriver.remote.webelement.WebElement (session=\"de71de05128097819bb957e52aac7502\", element=\"cea27ae6-2d29-4d63-805e-f5b122cb5f11\")>,\n",
       " <selenium.webdriver.remote.webelement.WebElement (session=\"de71de05128097819bb957e52aac7502\", element=\"aaf288e2-6133-499f-8502-da19fe625960\")>,\n",
       " <selenium.webdriver.remote.webelement.WebElement (session=\"de71de05128097819bb957e52aac7502\", element=\"20a7e72a-18b1-4247-b038-0de55ef4a731\")>,\n",
       " <selenium.webdriver.remote.webelement.WebElement (session=\"de71de05128097819bb957e52aac7502\", element=\"a58bd1c9-8779-4116-91f4-f1655e3ca938\")>,\n",
       " <selenium.webdriver.remote.webelement.WebElement (session=\"de71de05128097819bb957e52aac7502\", element=\"21a2152d-95ba-4484-bc80-2216ecb5ef66\")>]"
      ]
     },
     "execution_count": 101,
     "metadata": {},
     "output_type": "execute_result"
    }
   ],
   "source": [
    "#Extracting the first 10 company_tags\n",
    "company_tags=driver.find_elements_by_xpath(\"//a[@class='subTitle ellipsis fleft']\")[:10]\n",
    "company_tags"
   ]
  },
  {
   "cell_type": "code",
   "execution_count": 102,
   "metadata": {},
   "outputs": [],
   "source": [
    "company_name=[]\n",
    "for i in company_tags:\n",
    "    company_name.append(i.text)"
   ]
  },
  {
   "cell_type": "code",
   "execution_count": 103,
   "metadata": {},
   "outputs": [
    {
     "data": {
      "text/plain": [
       "['Inflexion Analytix Private Limited',\n",
       " 'CES Ltd.',\n",
       " 'CES Ltd.',\n",
       " 'GlaxoSmithKline Pharmaceuticals Limited',\n",
       " 'Vijaya Management Services',\n",
       " 'Nielsen',\n",
       " 'IBM India Pvt. Limited',\n",
       " 'IBM India Pvt. Limited',\n",
       " 'IBM India Pvt. Limited',\n",
       " 'Scienaptic Systems']"
      ]
     },
     "execution_count": 103,
     "metadata": {},
     "output_type": "execute_result"
    }
   ],
   "source": [
    "company_name"
   ]
  },
  {
   "cell_type": "code",
   "execution_count": 110,
   "metadata": {},
   "outputs": [
    {
     "data": {
      "text/plain": [
       "[<selenium.webdriver.remote.webelement.WebElement (session=\"de71de05128097819bb957e52aac7502\", element=\"824a4617-79ba-4ce0-a3a2-6e9631f3e8ac\")>,\n",
       " <selenium.webdriver.remote.webelement.WebElement (session=\"de71de05128097819bb957e52aac7502\", element=\"a7dc56b4-5dbe-4f00-9d25-c3091116de4a\")>,\n",
       " <selenium.webdriver.remote.webelement.WebElement (session=\"de71de05128097819bb957e52aac7502\", element=\"ff08113b-1169-43b4-8cdc-5aa91660491b\")>,\n",
       " <selenium.webdriver.remote.webelement.WebElement (session=\"de71de05128097819bb957e52aac7502\", element=\"43ca3c30-3167-4dbe-965c-d804dedf0dca\")>,\n",
       " <selenium.webdriver.remote.webelement.WebElement (session=\"de71de05128097819bb957e52aac7502\", element=\"9b55a20b-9f4c-4143-ace6-7701cdd84fd8\")>,\n",
       " <selenium.webdriver.remote.webelement.WebElement (session=\"de71de05128097819bb957e52aac7502\", element=\"6a80182d-26a3-44bd-9a10-6cf171b7b99b\")>,\n",
       " <selenium.webdriver.remote.webelement.WebElement (session=\"de71de05128097819bb957e52aac7502\", element=\"c2cd72a7-0e2c-4bd2-ba2e-61f8af22b4c5\")>,\n",
       " <selenium.webdriver.remote.webelement.WebElement (session=\"de71de05128097819bb957e52aac7502\", element=\"064beb67-f506-4b7e-a023-c960b6f8edea\")>,\n",
       " <selenium.webdriver.remote.webelement.WebElement (session=\"de71de05128097819bb957e52aac7502\", element=\"26c39729-733a-46f8-8b05-99439bc9acf7\")>,\n",
       " <selenium.webdriver.remote.webelement.WebElement (session=\"de71de05128097819bb957e52aac7502\", element=\"26bdac8a-ba87-4983-99f4-275907140720\")>]"
      ]
     },
     "execution_count": 110,
     "metadata": {},
     "output_type": "execute_result"
    }
   ],
   "source": [
    "#Extracting the first 10 jobdescription_tags\n",
    "#jobdescription_tags=driver.find_elements_by_xpath(\"//div[@class='job-description fs12 grey-text']\")[:10]\n",
    "#jobdescription_tags"
   ]
  },
  {
   "cell_type": "code",
   "execution_count": 150,
   "metadata": {},
   "outputs": [],
   "source": [
    "job_descriptiontag2=driver.find_elements_by_xpath(\"//section[@class='job-desc']/div\")[:10]"
   ]
  },
  {
   "cell_type": "code",
   "execution_count": 147,
   "metadata": {},
   "outputs": [],
   "source": [
    "Job_Description=[]\n",
    "for i in job_descriptiontag2:\n",
    "    Job_Description.append(i.text)"
   ]
  },
  {
   "cell_type": "code",
   "execution_count": 151,
   "metadata": {},
   "outputs": [
    {
     "data": {
      "text/plain": [
       "[]"
      ]
     },
     "execution_count": 151,
     "metadata": {},
     "output_type": "execute_result"
    }
   ],
   "source": [
    "job_descriptiontag2"
   ]
  },
  {
   "cell_type": "code",
   "execution_count": 119,
   "metadata": {},
   "outputs": [],
   "source": [
    "#To put the scraped data of first 10 records in dataframe\n",
    "Datascience_jobs=pd.DataFrame({})"
   ]
  },
  {
   "cell_type": "code",
   "execution_count": 120,
   "metadata": {},
   "outputs": [],
   "source": [
    "Datascience_jobs['job_title']=job_title"
   ]
  },
  {
   "cell_type": "code",
   "execution_count": 121,
   "metadata": {},
   "outputs": [],
   "source": [
    "Datascience_jobs['job-location']=location"
   ]
  },
  {
   "cell_type": "code",
   "execution_count": 122,
   "metadata": {},
   "outputs": [],
   "source": [
    "Datascience_jobs['company_name']=company_name"
   ]
  },
  {
   "cell_type": "code",
   "execution_count": 123,
   "metadata": {},
   "outputs": [],
   "source": [
    "Datascience_jobs['Full job description']=Job_Description"
   ]
  },
  {
   "cell_type": "code",
   "execution_count": 124,
   "metadata": {},
   "outputs": [
    {
     "data": {
      "text/html": [
       "<div>\n",
       "<style scoped>\n",
       "    .dataframe tbody tr th:only-of-type {\n",
       "        vertical-align: middle;\n",
       "    }\n",
       "\n",
       "    .dataframe tbody tr th {\n",
       "        vertical-align: top;\n",
       "    }\n",
       "\n",
       "    .dataframe thead th {\n",
       "        text-align: right;\n",
       "    }\n",
       "</style>\n",
       "<table border=\"1\" class=\"dataframe\">\n",
       "  <thead>\n",
       "    <tr style=\"text-align: right;\">\n",
       "      <th></th>\n",
       "      <th>job_title</th>\n",
       "      <th>job-location</th>\n",
       "      <th>company_name</th>\n",
       "      <th>Full job description</th>\n",
       "    </tr>\n",
       "  </thead>\n",
       "  <tbody>\n",
       "    <tr>\n",
       "      <th>0</th>\n",
       "      <td>Data Scientist / Data Analyst -Business Analyst</td>\n",
       "      <td>Mumbai, Hyderabad/Secunderabad, Pune, Gurgaon/...</td>\n",
       "      <td>Inflexion Analytix Private Limited</td>\n",
       "      <td>Applications invited from all Freshers and exp...</td>\n",
       "    </tr>\n",
       "    <tr>\n",
       "      <th>1</th>\n",
       "      <td>Senior Data Scientist | CES IT LTD | CMMI Level 5</td>\n",
       "      <td>Kolkata, Mumbai, Hyderabad/Secunderabad, Pune,...</td>\n",
       "      <td>CES Ltd.</td>\n",
       "      <td>Must be extremely detail and technology-orient...</td>\n",
       "    </tr>\n",
       "    <tr>\n",
       "      <th>2</th>\n",
       "      <td>Senior Data Scientist | CES IT LTD | CMMI Level 5</td>\n",
       "      <td>Kolkata, Mumbai, Hyderabad/Secunderabad, Pune,...</td>\n",
       "      <td>CES Ltd.</td>\n",
       "      <td>Must be extremely detail and technology-orient...</td>\n",
       "    </tr>\n",
       "    <tr>\n",
       "      <th>3</th>\n",
       "      <td>Analytics &amp; AI Product Mgmt - Sr. Data Scientist</td>\n",
       "      <td>Bangalore/Bengaluru</td>\n",
       "      <td>GlaxoSmithKline Pharmaceuticals Limited</td>\n",
       "      <td>A higher degree (PhD preferred) in Engineering...</td>\n",
       "    </tr>\n",
       "    <tr>\n",
       "      <th>4</th>\n",
       "      <td>Senior Data Scientist</td>\n",
       "      <td>Pune, Chennai, Bangalore/Bengaluru</td>\n",
       "      <td>Vijaya Management Services</td>\n",
       "      <td>3+ years practical experience with advanced ma...</td>\n",
       "    </tr>\n",
       "    <tr>\n",
       "      <th>5</th>\n",
       "      <td>Senior Data Scientist, Modeling</td>\n",
       "      <td>Kolkata, Gurgaon/Gurugram, Bangalore/Bengaluru...</td>\n",
       "      <td>Nielsen</td>\n",
       "      <td>Masters degree in Economics, Mathematics, Stat...</td>\n",
       "    </tr>\n",
       "    <tr>\n",
       "      <th>6</th>\n",
       "      <td>Data Scientist - IBM Garage</td>\n",
       "      <td>Noida, Hyderabad/Secunderabad, Bangalore/Benga...</td>\n",
       "      <td>IBM India Pvt. Limited</td>\n",
       "      <td>Required Technical and Professional ExpertiseP...</td>\n",
       "    </tr>\n",
       "    <tr>\n",
       "      <th>7</th>\n",
       "      <td>Data Scientist</td>\n",
       "      <td>Noida, Hyderabad/Secunderabad, Bangalore/Benga...</td>\n",
       "      <td>IBM India Pvt. Limited</td>\n",
       "      <td>Should have hired and nurtured talent and grow...</td>\n",
       "    </tr>\n",
       "    <tr>\n",
       "      <th>8</th>\n",
       "      <td>Data Scientist</td>\n",
       "      <td>Noida, Hyderabad/Secunderabad, Bangalore/Benga...</td>\n",
       "      <td>IBM India Pvt. Limited</td>\n",
       "      <td>Should have hired and nurtured talent and grow...</td>\n",
       "    </tr>\n",
       "    <tr>\n",
       "      <th>9</th>\n",
       "      <td>Senior Data Scientist - Credit risk</td>\n",
       "      <td>Bangalore/Bengaluru</td>\n",
       "      <td>Scienaptic Systems</td>\n",
       "      <td>Responsibilities and duties Focus on developin...</td>\n",
       "    </tr>\n",
       "  </tbody>\n",
       "</table>\n",
       "</div>"
      ],
      "text/plain": [
       "                                           job_title  \\\n",
       "0    Data Scientist / Data Analyst -Business Analyst   \n",
       "1  Senior Data Scientist | CES IT LTD | CMMI Level 5   \n",
       "2  Senior Data Scientist | CES IT LTD | CMMI Level 5   \n",
       "3   Analytics & AI Product Mgmt - Sr. Data Scientist   \n",
       "4                              Senior Data Scientist   \n",
       "5                    Senior Data Scientist, Modeling   \n",
       "6                        Data Scientist - IBM Garage   \n",
       "7                                     Data Scientist   \n",
       "8                                     Data Scientist   \n",
       "9                Senior Data Scientist - Credit risk   \n",
       "\n",
       "                                        job-location  \\\n",
       "0  Mumbai, Hyderabad/Secunderabad, Pune, Gurgaon/...   \n",
       "1  Kolkata, Mumbai, Hyderabad/Secunderabad, Pune,...   \n",
       "2  Kolkata, Mumbai, Hyderabad/Secunderabad, Pune,...   \n",
       "3                                Bangalore/Bengaluru   \n",
       "4                 Pune, Chennai, Bangalore/Bengaluru   \n",
       "5  Kolkata, Gurgaon/Gurugram, Bangalore/Bengaluru...   \n",
       "6  Noida, Hyderabad/Secunderabad, Bangalore/Benga...   \n",
       "7  Noida, Hyderabad/Secunderabad, Bangalore/Benga...   \n",
       "8  Noida, Hyderabad/Secunderabad, Bangalore/Benga...   \n",
       "9                                Bangalore/Bengaluru   \n",
       "\n",
       "                              company_name  \\\n",
       "0       Inflexion Analytix Private Limited   \n",
       "1                                 CES Ltd.   \n",
       "2                                 CES Ltd.   \n",
       "3  GlaxoSmithKline Pharmaceuticals Limited   \n",
       "4               Vijaya Management Services   \n",
       "5                                  Nielsen   \n",
       "6                   IBM India Pvt. Limited   \n",
       "7                   IBM India Pvt. Limited   \n",
       "8                   IBM India Pvt. Limited   \n",
       "9                       Scienaptic Systems   \n",
       "\n",
       "                                Full job description  \n",
       "0  Applications invited from all Freshers and exp...  \n",
       "1  Must be extremely detail and technology-orient...  \n",
       "2  Must be extremely detail and technology-orient...  \n",
       "3  A higher degree (PhD preferred) in Engineering...  \n",
       "4  3+ years practical experience with advanced ma...  \n",
       "5  Masters degree in Economics, Mathematics, Stat...  \n",
       "6  Required Technical and Professional ExpertiseP...  \n",
       "7  Should have hired and nurtured talent and grow...  \n",
       "8  Should have hired and nurtured talent and grow...  \n",
       "9  Responsibilities and duties Focus on developin...  "
      ]
     },
     "execution_count": 124,
     "metadata": {},
     "output_type": "execute_result"
    }
   ],
   "source": [
    "Datascience_jobs"
   ]
  },
  {
   "cell_type": "code",
   "execution_count": null,
   "metadata": {},
   "outputs": [],
   "source": []
  }
 ],
 "metadata": {
  "kernelspec": {
   "display_name": "Python 3",
   "language": "python",
   "name": "python3"
  },
  "language_info": {
   "codemirror_mode": {
    "name": "ipython",
    "version": 3
   },
   "file_extension": ".py",
   "mimetype": "text/x-python",
   "name": "python",
   "nbconvert_exporter": "python",
   "pygments_lexer": "ipython3",
   "version": "3.8.3"
  }
 },
 "nbformat": 4,
 "nbformat_minor": 4
}
