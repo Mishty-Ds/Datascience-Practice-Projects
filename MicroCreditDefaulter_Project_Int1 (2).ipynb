{
 "cells": [
  {
   "cell_type": "code",
   "execution_count": 3,
   "metadata": {},
   "outputs": [],
   "source": [
    "#Import important Libraries"
   ]
  },
  {
   "cell_type": "code",
   "execution_count": 4,
   "metadata": {},
   "outputs": [],
   "source": [
    "import numpy as np\n",
    "import pandas as pd\n",
    "import matplotlib.pyplot as plt\n",
    "import seaborn as sns\n",
    "%matplotlib inline\n",
    "from matplotlib import pyplot as plt\n",
    "from matplotlib import style\n",
    "\n",
    "# Algorithms\n",
    "from sklearn import linear_model\n",
    "from sklearn.linear_model import LogisticRegression\n",
    "from sklearn.ensemble import RandomForestClassifier\n",
    "from sklearn.linear_model import Perceptron\n",
    "from sklearn.linear_model import SGDClassifier\n",
    "from sklearn.tree import DecisionTreeClassifier\n",
    "from sklearn.neighbors import KNeighborsClassifier\n",
    "from sklearn.svm import SVC, LinearSVC\n",
    "from sklearn.naive_bayes import GaussianNB"
   ]
  },
  {
   "cell_type": "code",
   "execution_count": 5,
   "metadata": {},
   "outputs": [],
   "source": [
    "#Import CSV"
   ]
  },
  {
   "cell_type": "code",
   "execution_count": 6,
   "metadata": {},
   "outputs": [],
   "source": [
    "df=pd.read_csv('microcredit.csv')"
   ]
  },
  {
   "cell_type": "code",
   "execution_count": 7,
   "metadata": {},
   "outputs": [],
   "source": [
    "#Data Exploration"
   ]
  },
  {
   "cell_type": "code",
   "execution_count": 8,
   "metadata": {},
   "outputs": [
    {
     "data": {
      "text/html": [
       "<div>\n",
       "<style scoped>\n",
       "    .dataframe tbody tr th:only-of-type {\n",
       "        vertical-align: middle;\n",
       "    }\n",
       "\n",
       "    .dataframe tbody tr th {\n",
       "        vertical-align: top;\n",
       "    }\n",
       "\n",
       "    .dataframe thead th {\n",
       "        text-align: right;\n",
       "    }\n",
       "</style>\n",
       "<table border=\"1\" class=\"dataframe\">\n",
       "  <thead>\n",
       "    <tr style=\"text-align: right;\">\n",
       "      <th></th>\n",
       "      <th>Unnamed: 0</th>\n",
       "      <th>label</th>\n",
       "      <th>msisdn</th>\n",
       "      <th>aon</th>\n",
       "      <th>daily_decr30</th>\n",
       "      <th>daily_decr90</th>\n",
       "      <th>rental30</th>\n",
       "      <th>rental90</th>\n",
       "      <th>last_rech_date_ma</th>\n",
       "      <th>last_rech_date_da</th>\n",
       "      <th>...</th>\n",
       "      <th>maxamnt_loans30</th>\n",
       "      <th>medianamnt_loans30</th>\n",
       "      <th>cnt_loans90</th>\n",
       "      <th>amnt_loans90</th>\n",
       "      <th>maxamnt_loans90</th>\n",
       "      <th>medianamnt_loans90</th>\n",
       "      <th>payback30</th>\n",
       "      <th>payback90</th>\n",
       "      <th>pcircle</th>\n",
       "      <th>pdate</th>\n",
       "    </tr>\n",
       "  </thead>\n",
       "  <tbody>\n",
       "    <tr>\n",
       "      <th>0</th>\n",
       "      <td>1</td>\n",
       "      <td>0</td>\n",
       "      <td>21408I70789</td>\n",
       "      <td>272.0</td>\n",
       "      <td>3055.050000</td>\n",
       "      <td>3065.150000</td>\n",
       "      <td>220.13</td>\n",
       "      <td>260.13</td>\n",
       "      <td>2.0</td>\n",
       "      <td>0.0</td>\n",
       "      <td>...</td>\n",
       "      <td>6.0</td>\n",
       "      <td>0.0</td>\n",
       "      <td>2.0</td>\n",
       "      <td>12</td>\n",
       "      <td>6</td>\n",
       "      <td>0.0</td>\n",
       "      <td>29.000000</td>\n",
       "      <td>29.000000</td>\n",
       "      <td>UPW</td>\n",
       "      <td>2016-07-20</td>\n",
       "    </tr>\n",
       "    <tr>\n",
       "      <th>1</th>\n",
       "      <td>2</td>\n",
       "      <td>1</td>\n",
       "      <td>76462I70374</td>\n",
       "      <td>712.0</td>\n",
       "      <td>12122.000000</td>\n",
       "      <td>12124.750000</td>\n",
       "      <td>3691.26</td>\n",
       "      <td>3691.26</td>\n",
       "      <td>20.0</td>\n",
       "      <td>0.0</td>\n",
       "      <td>...</td>\n",
       "      <td>12.0</td>\n",
       "      <td>0.0</td>\n",
       "      <td>1.0</td>\n",
       "      <td>12</td>\n",
       "      <td>12</td>\n",
       "      <td>0.0</td>\n",
       "      <td>0.000000</td>\n",
       "      <td>0.000000</td>\n",
       "      <td>UPW</td>\n",
       "      <td>2016-08-10</td>\n",
       "    </tr>\n",
       "    <tr>\n",
       "      <th>2</th>\n",
       "      <td>3</td>\n",
       "      <td>1</td>\n",
       "      <td>17943I70372</td>\n",
       "      <td>535.0</td>\n",
       "      <td>1398.000000</td>\n",
       "      <td>1398.000000</td>\n",
       "      <td>900.13</td>\n",
       "      <td>900.13</td>\n",
       "      <td>3.0</td>\n",
       "      <td>0.0</td>\n",
       "      <td>...</td>\n",
       "      <td>6.0</td>\n",
       "      <td>0.0</td>\n",
       "      <td>1.0</td>\n",
       "      <td>6</td>\n",
       "      <td>6</td>\n",
       "      <td>0.0</td>\n",
       "      <td>0.000000</td>\n",
       "      <td>0.000000</td>\n",
       "      <td>UPW</td>\n",
       "      <td>2016-08-19</td>\n",
       "    </tr>\n",
       "    <tr>\n",
       "      <th>3</th>\n",
       "      <td>4</td>\n",
       "      <td>1</td>\n",
       "      <td>55773I70781</td>\n",
       "      <td>241.0</td>\n",
       "      <td>21.228000</td>\n",
       "      <td>21.228000</td>\n",
       "      <td>159.42</td>\n",
       "      <td>159.42</td>\n",
       "      <td>41.0</td>\n",
       "      <td>0.0</td>\n",
       "      <td>...</td>\n",
       "      <td>6.0</td>\n",
       "      <td>0.0</td>\n",
       "      <td>2.0</td>\n",
       "      <td>12</td>\n",
       "      <td>6</td>\n",
       "      <td>0.0</td>\n",
       "      <td>0.000000</td>\n",
       "      <td>0.000000</td>\n",
       "      <td>UPW</td>\n",
       "      <td>2016-06-06</td>\n",
       "    </tr>\n",
       "    <tr>\n",
       "      <th>4</th>\n",
       "      <td>5</td>\n",
       "      <td>1</td>\n",
       "      <td>03813I82730</td>\n",
       "      <td>947.0</td>\n",
       "      <td>150.619333</td>\n",
       "      <td>150.619333</td>\n",
       "      <td>1098.90</td>\n",
       "      <td>1098.90</td>\n",
       "      <td>4.0</td>\n",
       "      <td>0.0</td>\n",
       "      <td>...</td>\n",
       "      <td>6.0</td>\n",
       "      <td>0.0</td>\n",
       "      <td>7.0</td>\n",
       "      <td>42</td>\n",
       "      <td>6</td>\n",
       "      <td>0.0</td>\n",
       "      <td>2.333333</td>\n",
       "      <td>2.333333</td>\n",
       "      <td>UPW</td>\n",
       "      <td>2016-06-22</td>\n",
       "    </tr>\n",
       "  </tbody>\n",
       "</table>\n",
       "<p>5 rows × 37 columns</p>\n",
       "</div>"
      ],
      "text/plain": [
       "   Unnamed: 0  label       msisdn    aon  daily_decr30  daily_decr90  \\\n",
       "0           1      0  21408I70789  272.0   3055.050000   3065.150000   \n",
       "1           2      1  76462I70374  712.0  12122.000000  12124.750000   \n",
       "2           3      1  17943I70372  535.0   1398.000000   1398.000000   \n",
       "3           4      1  55773I70781  241.0     21.228000     21.228000   \n",
       "4           5      1  03813I82730  947.0    150.619333    150.619333   \n",
       "\n",
       "   rental30  rental90  last_rech_date_ma  last_rech_date_da  ...  \\\n",
       "0    220.13    260.13                2.0                0.0  ...   \n",
       "1   3691.26   3691.26               20.0                0.0  ...   \n",
       "2    900.13    900.13                3.0                0.0  ...   \n",
       "3    159.42    159.42               41.0                0.0  ...   \n",
       "4   1098.90   1098.90                4.0                0.0  ...   \n",
       "\n",
       "   maxamnt_loans30  medianamnt_loans30  cnt_loans90  amnt_loans90  \\\n",
       "0              6.0                 0.0          2.0            12   \n",
       "1             12.0                 0.0          1.0            12   \n",
       "2              6.0                 0.0          1.0             6   \n",
       "3              6.0                 0.0          2.0            12   \n",
       "4              6.0                 0.0          7.0            42   \n",
       "\n",
       "   maxamnt_loans90  medianamnt_loans90  payback30  payback90  pcircle  \\\n",
       "0                6                 0.0  29.000000  29.000000      UPW   \n",
       "1               12                 0.0   0.000000   0.000000      UPW   \n",
       "2                6                 0.0   0.000000   0.000000      UPW   \n",
       "3                6                 0.0   0.000000   0.000000      UPW   \n",
       "4                6                 0.0   2.333333   2.333333      UPW   \n",
       "\n",
       "        pdate  \n",
       "0  2016-07-20  \n",
       "1  2016-08-10  \n",
       "2  2016-08-19  \n",
       "3  2016-06-06  \n",
       "4  2016-06-22  \n",
       "\n",
       "[5 rows x 37 columns]"
      ]
     },
     "execution_count": 8,
     "metadata": {},
     "output_type": "execute_result"
    }
   ],
   "source": [
    "df.head()"
   ]
  },
  {
   "cell_type": "code",
   "execution_count": 9,
   "metadata": {},
   "outputs": [],
   "source": [
    "#To remove the Unnamed column"
   ]
  },
  {
   "cell_type": "code",
   "execution_count": 10,
   "metadata": {},
   "outputs": [],
   "source": [
    "df=df.drop(['Unnamed: 0'],axis=1)"
   ]
  },
  {
   "cell_type": "code",
   "execution_count": 11,
   "metadata": {},
   "outputs": [
    {
     "data": {
      "text/html": [
       "<div>\n",
       "<style scoped>\n",
       "    .dataframe tbody tr th:only-of-type {\n",
       "        vertical-align: middle;\n",
       "    }\n",
       "\n",
       "    .dataframe tbody tr th {\n",
       "        vertical-align: top;\n",
       "    }\n",
       "\n",
       "    .dataframe thead th {\n",
       "        text-align: right;\n",
       "    }\n",
       "</style>\n",
       "<table border=\"1\" class=\"dataframe\">\n",
       "  <thead>\n",
       "    <tr style=\"text-align: right;\">\n",
       "      <th></th>\n",
       "      <th>label</th>\n",
       "      <th>msisdn</th>\n",
       "      <th>aon</th>\n",
       "      <th>daily_decr30</th>\n",
       "      <th>daily_decr90</th>\n",
       "      <th>rental30</th>\n",
       "      <th>rental90</th>\n",
       "      <th>last_rech_date_ma</th>\n",
       "      <th>last_rech_date_da</th>\n",
       "      <th>last_rech_amt_ma</th>\n",
       "      <th>...</th>\n",
       "      <th>maxamnt_loans30</th>\n",
       "      <th>medianamnt_loans30</th>\n",
       "      <th>cnt_loans90</th>\n",
       "      <th>amnt_loans90</th>\n",
       "      <th>maxamnt_loans90</th>\n",
       "      <th>medianamnt_loans90</th>\n",
       "      <th>payback30</th>\n",
       "      <th>payback90</th>\n",
       "      <th>pcircle</th>\n",
       "      <th>pdate</th>\n",
       "    </tr>\n",
       "  </thead>\n",
       "  <tbody>\n",
       "    <tr>\n",
       "      <th>0</th>\n",
       "      <td>0</td>\n",
       "      <td>21408I70789</td>\n",
       "      <td>272.0</td>\n",
       "      <td>3055.050000</td>\n",
       "      <td>3065.150000</td>\n",
       "      <td>220.13</td>\n",
       "      <td>260.13</td>\n",
       "      <td>2.0</td>\n",
       "      <td>0.0</td>\n",
       "      <td>1539</td>\n",
       "      <td>...</td>\n",
       "      <td>6.0</td>\n",
       "      <td>0.0</td>\n",
       "      <td>2.0</td>\n",
       "      <td>12</td>\n",
       "      <td>6</td>\n",
       "      <td>0.0</td>\n",
       "      <td>29.000000</td>\n",
       "      <td>29.000000</td>\n",
       "      <td>UPW</td>\n",
       "      <td>2016-07-20</td>\n",
       "    </tr>\n",
       "    <tr>\n",
       "      <th>1</th>\n",
       "      <td>1</td>\n",
       "      <td>76462I70374</td>\n",
       "      <td>712.0</td>\n",
       "      <td>12122.000000</td>\n",
       "      <td>12124.750000</td>\n",
       "      <td>3691.26</td>\n",
       "      <td>3691.26</td>\n",
       "      <td>20.0</td>\n",
       "      <td>0.0</td>\n",
       "      <td>5787</td>\n",
       "      <td>...</td>\n",
       "      <td>12.0</td>\n",
       "      <td>0.0</td>\n",
       "      <td>1.0</td>\n",
       "      <td>12</td>\n",
       "      <td>12</td>\n",
       "      <td>0.0</td>\n",
       "      <td>0.000000</td>\n",
       "      <td>0.000000</td>\n",
       "      <td>UPW</td>\n",
       "      <td>2016-08-10</td>\n",
       "    </tr>\n",
       "    <tr>\n",
       "      <th>2</th>\n",
       "      <td>1</td>\n",
       "      <td>17943I70372</td>\n",
       "      <td>535.0</td>\n",
       "      <td>1398.000000</td>\n",
       "      <td>1398.000000</td>\n",
       "      <td>900.13</td>\n",
       "      <td>900.13</td>\n",
       "      <td>3.0</td>\n",
       "      <td>0.0</td>\n",
       "      <td>1539</td>\n",
       "      <td>...</td>\n",
       "      <td>6.0</td>\n",
       "      <td>0.0</td>\n",
       "      <td>1.0</td>\n",
       "      <td>6</td>\n",
       "      <td>6</td>\n",
       "      <td>0.0</td>\n",
       "      <td>0.000000</td>\n",
       "      <td>0.000000</td>\n",
       "      <td>UPW</td>\n",
       "      <td>2016-08-19</td>\n",
       "    </tr>\n",
       "    <tr>\n",
       "      <th>3</th>\n",
       "      <td>1</td>\n",
       "      <td>55773I70781</td>\n",
       "      <td>241.0</td>\n",
       "      <td>21.228000</td>\n",
       "      <td>21.228000</td>\n",
       "      <td>159.42</td>\n",
       "      <td>159.42</td>\n",
       "      <td>41.0</td>\n",
       "      <td>0.0</td>\n",
       "      <td>947</td>\n",
       "      <td>...</td>\n",
       "      <td>6.0</td>\n",
       "      <td>0.0</td>\n",
       "      <td>2.0</td>\n",
       "      <td>12</td>\n",
       "      <td>6</td>\n",
       "      <td>0.0</td>\n",
       "      <td>0.000000</td>\n",
       "      <td>0.000000</td>\n",
       "      <td>UPW</td>\n",
       "      <td>2016-06-06</td>\n",
       "    </tr>\n",
       "    <tr>\n",
       "      <th>4</th>\n",
       "      <td>1</td>\n",
       "      <td>03813I82730</td>\n",
       "      <td>947.0</td>\n",
       "      <td>150.619333</td>\n",
       "      <td>150.619333</td>\n",
       "      <td>1098.90</td>\n",
       "      <td>1098.90</td>\n",
       "      <td>4.0</td>\n",
       "      <td>0.0</td>\n",
       "      <td>2309</td>\n",
       "      <td>...</td>\n",
       "      <td>6.0</td>\n",
       "      <td>0.0</td>\n",
       "      <td>7.0</td>\n",
       "      <td>42</td>\n",
       "      <td>6</td>\n",
       "      <td>0.0</td>\n",
       "      <td>2.333333</td>\n",
       "      <td>2.333333</td>\n",
       "      <td>UPW</td>\n",
       "      <td>2016-06-22</td>\n",
       "    </tr>\n",
       "    <tr>\n",
       "      <th>...</th>\n",
       "      <td>...</td>\n",
       "      <td>...</td>\n",
       "      <td>...</td>\n",
       "      <td>...</td>\n",
       "      <td>...</td>\n",
       "      <td>...</td>\n",
       "      <td>...</td>\n",
       "      <td>...</td>\n",
       "      <td>...</td>\n",
       "      <td>...</td>\n",
       "      <td>...</td>\n",
       "      <td>...</td>\n",
       "      <td>...</td>\n",
       "      <td>...</td>\n",
       "      <td>...</td>\n",
       "      <td>...</td>\n",
       "      <td>...</td>\n",
       "      <td>...</td>\n",
       "      <td>...</td>\n",
       "      <td>...</td>\n",
       "      <td>...</td>\n",
       "    </tr>\n",
       "    <tr>\n",
       "      <th>209588</th>\n",
       "      <td>1</td>\n",
       "      <td>22758I85348</td>\n",
       "      <td>404.0</td>\n",
       "      <td>151.872333</td>\n",
       "      <td>151.872333</td>\n",
       "      <td>1089.19</td>\n",
       "      <td>1089.19</td>\n",
       "      <td>1.0</td>\n",
       "      <td>0.0</td>\n",
       "      <td>4048</td>\n",
       "      <td>...</td>\n",
       "      <td>6.0</td>\n",
       "      <td>0.0</td>\n",
       "      <td>2.0</td>\n",
       "      <td>12</td>\n",
       "      <td>6</td>\n",
       "      <td>0.0</td>\n",
       "      <td>1.000000</td>\n",
       "      <td>1.000000</td>\n",
       "      <td>UPW</td>\n",
       "      <td>2016-06-17</td>\n",
       "    </tr>\n",
       "    <tr>\n",
       "      <th>209589</th>\n",
       "      <td>1</td>\n",
       "      <td>95583I84455</td>\n",
       "      <td>1075.0</td>\n",
       "      <td>36.936000</td>\n",
       "      <td>36.936000</td>\n",
       "      <td>1728.36</td>\n",
       "      <td>1728.36</td>\n",
       "      <td>4.0</td>\n",
       "      <td>0.0</td>\n",
       "      <td>773</td>\n",
       "      <td>...</td>\n",
       "      <td>6.0</td>\n",
       "      <td>0.0</td>\n",
       "      <td>3.0</td>\n",
       "      <td>18</td>\n",
       "      <td>6</td>\n",
       "      <td>0.0</td>\n",
       "      <td>1.000000</td>\n",
       "      <td>1.000000</td>\n",
       "      <td>UPW</td>\n",
       "      <td>2016-06-12</td>\n",
       "    </tr>\n",
       "    <tr>\n",
       "      <th>209590</th>\n",
       "      <td>1</td>\n",
       "      <td>28556I85350</td>\n",
       "      <td>1013.0</td>\n",
       "      <td>11843.111667</td>\n",
       "      <td>11904.350000</td>\n",
       "      <td>5861.83</td>\n",
       "      <td>8893.20</td>\n",
       "      <td>3.0</td>\n",
       "      <td>0.0</td>\n",
       "      <td>1539</td>\n",
       "      <td>...</td>\n",
       "      <td>12.0</td>\n",
       "      <td>0.0</td>\n",
       "      <td>6.0</td>\n",
       "      <td>54</td>\n",
       "      <td>12</td>\n",
       "      <td>0.0</td>\n",
       "      <td>4.000000</td>\n",
       "      <td>3.833333</td>\n",
       "      <td>UPW</td>\n",
       "      <td>2016-07-29</td>\n",
       "    </tr>\n",
       "    <tr>\n",
       "      <th>209591</th>\n",
       "      <td>1</td>\n",
       "      <td>59712I82733</td>\n",
       "      <td>1732.0</td>\n",
       "      <td>12488.228333</td>\n",
       "      <td>12574.370000</td>\n",
       "      <td>411.83</td>\n",
       "      <td>984.58</td>\n",
       "      <td>2.0</td>\n",
       "      <td>38.0</td>\n",
       "      <td>773</td>\n",
       "      <td>...</td>\n",
       "      <td>12.0</td>\n",
       "      <td>0.0</td>\n",
       "      <td>3.0</td>\n",
       "      <td>24</td>\n",
       "      <td>12</td>\n",
       "      <td>0.0</td>\n",
       "      <td>0.000000</td>\n",
       "      <td>10.500000</td>\n",
       "      <td>UPW</td>\n",
       "      <td>2016-07-25</td>\n",
       "    </tr>\n",
       "    <tr>\n",
       "      <th>209592</th>\n",
       "      <td>1</td>\n",
       "      <td>65061I85339</td>\n",
       "      <td>1581.0</td>\n",
       "      <td>4489.362000</td>\n",
       "      <td>4534.820000</td>\n",
       "      <td>483.92</td>\n",
       "      <td>631.20</td>\n",
       "      <td>13.0</td>\n",
       "      <td>0.0</td>\n",
       "      <td>7526</td>\n",
       "      <td>...</td>\n",
       "      <td>12.0</td>\n",
       "      <td>0.0</td>\n",
       "      <td>2.0</td>\n",
       "      <td>18</td>\n",
       "      <td>12</td>\n",
       "      <td>0.0</td>\n",
       "      <td>0.000000</td>\n",
       "      <td>0.000000</td>\n",
       "      <td>UPW</td>\n",
       "      <td>2016-07-07</td>\n",
       "    </tr>\n",
       "  </tbody>\n",
       "</table>\n",
       "<p>209593 rows × 36 columns</p>\n",
       "</div>"
      ],
      "text/plain": [
       "        label       msisdn     aon  daily_decr30  daily_decr90  rental30  \\\n",
       "0           0  21408I70789   272.0   3055.050000   3065.150000    220.13   \n",
       "1           1  76462I70374   712.0  12122.000000  12124.750000   3691.26   \n",
       "2           1  17943I70372   535.0   1398.000000   1398.000000    900.13   \n",
       "3           1  55773I70781   241.0     21.228000     21.228000    159.42   \n",
       "4           1  03813I82730   947.0    150.619333    150.619333   1098.90   \n",
       "...       ...          ...     ...           ...           ...       ...   \n",
       "209588      1  22758I85348   404.0    151.872333    151.872333   1089.19   \n",
       "209589      1  95583I84455  1075.0     36.936000     36.936000   1728.36   \n",
       "209590      1  28556I85350  1013.0  11843.111667  11904.350000   5861.83   \n",
       "209591      1  59712I82733  1732.0  12488.228333  12574.370000    411.83   \n",
       "209592      1  65061I85339  1581.0   4489.362000   4534.820000    483.92   \n",
       "\n",
       "        rental90  last_rech_date_ma  last_rech_date_da  last_rech_amt_ma  ...  \\\n",
       "0         260.13                2.0                0.0              1539  ...   \n",
       "1        3691.26               20.0                0.0              5787  ...   \n",
       "2         900.13                3.0                0.0              1539  ...   \n",
       "3         159.42               41.0                0.0               947  ...   \n",
       "4        1098.90                4.0                0.0              2309  ...   \n",
       "...          ...                ...                ...               ...  ...   \n",
       "209588   1089.19                1.0                0.0              4048  ...   \n",
       "209589   1728.36                4.0                0.0               773  ...   \n",
       "209590   8893.20                3.0                0.0              1539  ...   \n",
       "209591    984.58                2.0               38.0               773  ...   \n",
       "209592    631.20               13.0                0.0              7526  ...   \n",
       "\n",
       "        maxamnt_loans30  medianamnt_loans30  cnt_loans90  amnt_loans90  \\\n",
       "0                   6.0                 0.0          2.0            12   \n",
       "1                  12.0                 0.0          1.0            12   \n",
       "2                   6.0                 0.0          1.0             6   \n",
       "3                   6.0                 0.0          2.0            12   \n",
       "4                   6.0                 0.0          7.0            42   \n",
       "...                 ...                 ...          ...           ...   \n",
       "209588              6.0                 0.0          2.0            12   \n",
       "209589              6.0                 0.0          3.0            18   \n",
       "209590             12.0                 0.0          6.0            54   \n",
       "209591             12.0                 0.0          3.0            24   \n",
       "209592             12.0                 0.0          2.0            18   \n",
       "\n",
       "        maxamnt_loans90  medianamnt_loans90  payback30  payback90  pcircle  \\\n",
       "0                     6                 0.0  29.000000  29.000000      UPW   \n",
       "1                    12                 0.0   0.000000   0.000000      UPW   \n",
       "2                     6                 0.0   0.000000   0.000000      UPW   \n",
       "3                     6                 0.0   0.000000   0.000000      UPW   \n",
       "4                     6                 0.0   2.333333   2.333333      UPW   \n",
       "...                 ...                 ...        ...        ...      ...   \n",
       "209588                6                 0.0   1.000000   1.000000      UPW   \n",
       "209589                6                 0.0   1.000000   1.000000      UPW   \n",
       "209590               12                 0.0   4.000000   3.833333      UPW   \n",
       "209591               12                 0.0   0.000000  10.500000      UPW   \n",
       "209592               12                 0.0   0.000000   0.000000      UPW   \n",
       "\n",
       "             pdate  \n",
       "0       2016-07-20  \n",
       "1       2016-08-10  \n",
       "2       2016-08-19  \n",
       "3       2016-06-06  \n",
       "4       2016-06-22  \n",
       "...            ...  \n",
       "209588  2016-06-17  \n",
       "209589  2016-06-12  \n",
       "209590  2016-07-29  \n",
       "209591  2016-07-25  \n",
       "209592  2016-07-07  \n",
       "\n",
       "[209593 rows x 36 columns]"
      ]
     },
     "execution_count": 11,
     "metadata": {},
     "output_type": "execute_result"
    }
   ],
   "source": [
    "df"
   ]
  },
  {
   "cell_type": "code",
   "execution_count": 12,
   "metadata": {},
   "outputs": [],
   "source": [
    "#To understand the data shape"
   ]
  },
  {
   "cell_type": "code",
   "execution_count": 13,
   "metadata": {},
   "outputs": [
    {
     "data": {
      "text/plain": [
       "(209593, 36)"
      ]
     },
     "execution_count": 13,
     "metadata": {},
     "output_type": "execute_result"
    }
   ],
   "source": [
    "df.shape"
   ]
  },
  {
   "cell_type": "code",
   "execution_count": 14,
   "metadata": {},
   "outputs": [
    {
     "name": "stdout",
     "output_type": "stream",
     "text": [
      "<class 'pandas.core.frame.DataFrame'>\n",
      "RangeIndex: 209593 entries, 0 to 209592\n",
      "Data columns (total 36 columns):\n",
      " #   Column                Non-Null Count   Dtype  \n",
      "---  ------                --------------   -----  \n",
      " 0   label                 209593 non-null  int64  \n",
      " 1   msisdn                209593 non-null  object \n",
      " 2   aon                   209593 non-null  float64\n",
      " 3   daily_decr30          209593 non-null  float64\n",
      " 4   daily_decr90          209593 non-null  float64\n",
      " 5   rental30              209593 non-null  float64\n",
      " 6   rental90              209593 non-null  float64\n",
      " 7   last_rech_date_ma     209593 non-null  float64\n",
      " 8   last_rech_date_da     209593 non-null  float64\n",
      " 9   last_rech_amt_ma      209593 non-null  int64  \n",
      " 10  cnt_ma_rech30         209593 non-null  int64  \n",
      " 11  fr_ma_rech30          209593 non-null  float64\n",
      " 12  sumamnt_ma_rech30     209593 non-null  float64\n",
      " 13  medianamnt_ma_rech30  209593 non-null  float64\n",
      " 14  medianmarechprebal30  209593 non-null  float64\n",
      " 15  cnt_ma_rech90         209593 non-null  int64  \n",
      " 16  fr_ma_rech90          209593 non-null  int64  \n",
      " 17  sumamnt_ma_rech90     209593 non-null  int64  \n",
      " 18  medianamnt_ma_rech90  209593 non-null  float64\n",
      " 19  medianmarechprebal90  209593 non-null  float64\n",
      " 20  cnt_da_rech30         209593 non-null  float64\n",
      " 21  fr_da_rech30          209593 non-null  float64\n",
      " 22  cnt_da_rech90         209593 non-null  int64  \n",
      " 23  fr_da_rech90          209593 non-null  int64  \n",
      " 24  cnt_loans30           209593 non-null  int64  \n",
      " 25  amnt_loans30          209593 non-null  int64  \n",
      " 26  maxamnt_loans30       209593 non-null  float64\n",
      " 27  medianamnt_loans30    209593 non-null  float64\n",
      " 28  cnt_loans90           209593 non-null  float64\n",
      " 29  amnt_loans90          209593 non-null  int64  \n",
      " 30  maxamnt_loans90       209593 non-null  int64  \n",
      " 31  medianamnt_loans90    209593 non-null  float64\n",
      " 32  payback30             209593 non-null  float64\n",
      " 33  payback90             209593 non-null  float64\n",
      " 34  pcircle               209593 non-null  object \n",
      " 35  pdate                 209593 non-null  object \n",
      "dtypes: float64(21), int64(12), object(3)\n",
      "memory usage: 57.6+ MB\n"
     ]
    }
   ],
   "source": [
    "df.info()"
   ]
  },
  {
   "cell_type": "code",
   "execution_count": 15,
   "metadata": {},
   "outputs": [],
   "source": [
    "#Data Cleaning , analysis and visualization"
   ]
  },
  {
   "cell_type": "code",
   "execution_count": 16,
   "metadata": {},
   "outputs": [],
   "source": [
    "#As the problem has already stated that there are no Null values"
   ]
  },
  {
   "cell_type": "code",
   "execution_count": 17,
   "metadata": {},
   "outputs": [
    {
     "data": {
      "text/plain": [
       "label                   0\n",
       "msisdn                  0\n",
       "aon                     0\n",
       "daily_decr30            0\n",
       "daily_decr90            0\n",
       "rental30                0\n",
       "rental90                0\n",
       "last_rech_date_ma       0\n",
       "last_rech_date_da       0\n",
       "last_rech_amt_ma        0\n",
       "cnt_ma_rech30           0\n",
       "fr_ma_rech30            0\n",
       "sumamnt_ma_rech30       0\n",
       "medianamnt_ma_rech30    0\n",
       "medianmarechprebal30    0\n",
       "cnt_ma_rech90           0\n",
       "fr_ma_rech90            0\n",
       "sumamnt_ma_rech90       0\n",
       "medianamnt_ma_rech90    0\n",
       "medianmarechprebal90    0\n",
       "cnt_da_rech30           0\n",
       "fr_da_rech30            0\n",
       "cnt_da_rech90           0\n",
       "fr_da_rech90            0\n",
       "cnt_loans30             0\n",
       "amnt_loans30            0\n",
       "maxamnt_loans30         0\n",
       "medianamnt_loans30      0\n",
       "cnt_loans90             0\n",
       "amnt_loans90            0\n",
       "maxamnt_loans90         0\n",
       "medianamnt_loans90      0\n",
       "payback30               0\n",
       "payback90               0\n",
       "pcircle                 0\n",
       "pdate                   0\n",
       "dtype: int64"
      ]
     },
     "execution_count": 17,
     "metadata": {},
     "output_type": "execute_result"
    }
   ],
   "source": [
    "df.isnull().sum()"
   ]
  },
  {
   "cell_type": "code",
   "execution_count": 19,
   "metadata": {},
   "outputs": [
    {
     "data": {
      "text/html": [
       "<div>\n",
       "<style scoped>\n",
       "    .dataframe tbody tr th:only-of-type {\n",
       "        vertical-align: middle;\n",
       "    }\n",
       "\n",
       "    .dataframe tbody tr th {\n",
       "        vertical-align: top;\n",
       "    }\n",
       "\n",
       "    .dataframe thead th {\n",
       "        text-align: right;\n",
       "    }\n",
       "</style>\n",
       "<table border=\"1\" class=\"dataframe\">\n",
       "  <thead>\n",
       "    <tr style=\"text-align: right;\">\n",
       "      <th></th>\n",
       "      <th>label</th>\n",
       "      <th>aon</th>\n",
       "      <th>daily_decr30</th>\n",
       "      <th>daily_decr90</th>\n",
       "      <th>rental30</th>\n",
       "      <th>rental90</th>\n",
       "      <th>last_rech_date_ma</th>\n",
       "      <th>last_rech_date_da</th>\n",
       "      <th>last_rech_amt_ma</th>\n",
       "      <th>cnt_ma_rech30</th>\n",
       "      <th>...</th>\n",
       "      <th>cnt_loans30</th>\n",
       "      <th>amnt_loans30</th>\n",
       "      <th>maxamnt_loans30</th>\n",
       "      <th>medianamnt_loans30</th>\n",
       "      <th>cnt_loans90</th>\n",
       "      <th>amnt_loans90</th>\n",
       "      <th>maxamnt_loans90</th>\n",
       "      <th>medianamnt_loans90</th>\n",
       "      <th>payback30</th>\n",
       "      <th>payback90</th>\n",
       "    </tr>\n",
       "  </thead>\n",
       "  <tbody>\n",
       "    <tr>\n",
       "      <th>count</th>\n",
       "      <td>209593.000000</td>\n",
       "      <td>209593.000000</td>\n",
       "      <td>209593.000000</td>\n",
       "      <td>209593.000000</td>\n",
       "      <td>209593.000000</td>\n",
       "      <td>209593.000000</td>\n",
       "      <td>209593.000000</td>\n",
       "      <td>209593.000000</td>\n",
       "      <td>209593.000000</td>\n",
       "      <td>209593.000000</td>\n",
       "      <td>...</td>\n",
       "      <td>209593.000000</td>\n",
       "      <td>209593.000000</td>\n",
       "      <td>209593.000000</td>\n",
       "      <td>209593.000000</td>\n",
       "      <td>209593.000000</td>\n",
       "      <td>209593.000000</td>\n",
       "      <td>209593.000000</td>\n",
       "      <td>209593.000000</td>\n",
       "      <td>209593.000000</td>\n",
       "      <td>209593.000000</td>\n",
       "    </tr>\n",
       "    <tr>\n",
       "      <th>mean</th>\n",
       "      <td>0.875177</td>\n",
       "      <td>8112.343445</td>\n",
       "      <td>5381.402289</td>\n",
       "      <td>6082.515068</td>\n",
       "      <td>2692.581910</td>\n",
       "      <td>3483.406534</td>\n",
       "      <td>3755.847800</td>\n",
       "      <td>3712.202921</td>\n",
       "      <td>2064.452797</td>\n",
       "      <td>3.978057</td>\n",
       "      <td>...</td>\n",
       "      <td>2.758981</td>\n",
       "      <td>17.952021</td>\n",
       "      <td>274.658747</td>\n",
       "      <td>0.054029</td>\n",
       "      <td>18.520919</td>\n",
       "      <td>23.645398</td>\n",
       "      <td>6.703134</td>\n",
       "      <td>0.046077</td>\n",
       "      <td>3.398826</td>\n",
       "      <td>4.321485</td>\n",
       "    </tr>\n",
       "    <tr>\n",
       "      <th>std</th>\n",
       "      <td>0.330519</td>\n",
       "      <td>75696.082531</td>\n",
       "      <td>9220.623400</td>\n",
       "      <td>10918.812767</td>\n",
       "      <td>4308.586781</td>\n",
       "      <td>5770.461279</td>\n",
       "      <td>53905.892230</td>\n",
       "      <td>53374.833430</td>\n",
       "      <td>2370.786034</td>\n",
       "      <td>4.256090</td>\n",
       "      <td>...</td>\n",
       "      <td>2.554502</td>\n",
       "      <td>17.379741</td>\n",
       "      <td>4245.264648</td>\n",
       "      <td>0.218039</td>\n",
       "      <td>224.797423</td>\n",
       "      <td>26.469861</td>\n",
       "      <td>2.103864</td>\n",
       "      <td>0.200692</td>\n",
       "      <td>8.813729</td>\n",
       "      <td>10.308108</td>\n",
       "    </tr>\n",
       "    <tr>\n",
       "      <th>min</th>\n",
       "      <td>0.000000</td>\n",
       "      <td>-48.000000</td>\n",
       "      <td>-93.012667</td>\n",
       "      <td>-93.012667</td>\n",
       "      <td>-23737.140000</td>\n",
       "      <td>-24720.580000</td>\n",
       "      <td>-29.000000</td>\n",
       "      <td>-29.000000</td>\n",
       "      <td>0.000000</td>\n",
       "      <td>0.000000</td>\n",
       "      <td>...</td>\n",
       "      <td>0.000000</td>\n",
       "      <td>0.000000</td>\n",
       "      <td>0.000000</td>\n",
       "      <td>0.000000</td>\n",
       "      <td>0.000000</td>\n",
       "      <td>0.000000</td>\n",
       "      <td>0.000000</td>\n",
       "      <td>0.000000</td>\n",
       "      <td>0.000000</td>\n",
       "      <td>0.000000</td>\n",
       "    </tr>\n",
       "    <tr>\n",
       "      <th>25%</th>\n",
       "      <td>1.000000</td>\n",
       "      <td>246.000000</td>\n",
       "      <td>42.440000</td>\n",
       "      <td>42.692000</td>\n",
       "      <td>280.420000</td>\n",
       "      <td>300.260000</td>\n",
       "      <td>1.000000</td>\n",
       "      <td>0.000000</td>\n",
       "      <td>770.000000</td>\n",
       "      <td>1.000000</td>\n",
       "      <td>...</td>\n",
       "      <td>1.000000</td>\n",
       "      <td>6.000000</td>\n",
       "      <td>6.000000</td>\n",
       "      <td>0.000000</td>\n",
       "      <td>1.000000</td>\n",
       "      <td>6.000000</td>\n",
       "      <td>6.000000</td>\n",
       "      <td>0.000000</td>\n",
       "      <td>0.000000</td>\n",
       "      <td>0.000000</td>\n",
       "    </tr>\n",
       "    <tr>\n",
       "      <th>50%</th>\n",
       "      <td>1.000000</td>\n",
       "      <td>527.000000</td>\n",
       "      <td>1469.175667</td>\n",
       "      <td>1500.000000</td>\n",
       "      <td>1083.570000</td>\n",
       "      <td>1334.000000</td>\n",
       "      <td>3.000000</td>\n",
       "      <td>0.000000</td>\n",
       "      <td>1539.000000</td>\n",
       "      <td>3.000000</td>\n",
       "      <td>...</td>\n",
       "      <td>2.000000</td>\n",
       "      <td>12.000000</td>\n",
       "      <td>6.000000</td>\n",
       "      <td>0.000000</td>\n",
       "      <td>2.000000</td>\n",
       "      <td>12.000000</td>\n",
       "      <td>6.000000</td>\n",
       "      <td>0.000000</td>\n",
       "      <td>0.000000</td>\n",
       "      <td>1.666667</td>\n",
       "    </tr>\n",
       "    <tr>\n",
       "      <th>75%</th>\n",
       "      <td>1.000000</td>\n",
       "      <td>982.000000</td>\n",
       "      <td>7244.000000</td>\n",
       "      <td>7802.790000</td>\n",
       "      <td>3356.940000</td>\n",
       "      <td>4201.790000</td>\n",
       "      <td>7.000000</td>\n",
       "      <td>0.000000</td>\n",
       "      <td>2309.000000</td>\n",
       "      <td>5.000000</td>\n",
       "      <td>...</td>\n",
       "      <td>4.000000</td>\n",
       "      <td>24.000000</td>\n",
       "      <td>6.000000</td>\n",
       "      <td>0.000000</td>\n",
       "      <td>5.000000</td>\n",
       "      <td>30.000000</td>\n",
       "      <td>6.000000</td>\n",
       "      <td>0.000000</td>\n",
       "      <td>3.750000</td>\n",
       "      <td>4.500000</td>\n",
       "    </tr>\n",
       "    <tr>\n",
       "      <th>max</th>\n",
       "      <td>1.000000</td>\n",
       "      <td>999860.755168</td>\n",
       "      <td>265926.000000</td>\n",
       "      <td>320630.000000</td>\n",
       "      <td>198926.110000</td>\n",
       "      <td>200148.110000</td>\n",
       "      <td>998650.377733</td>\n",
       "      <td>999171.809410</td>\n",
       "      <td>55000.000000</td>\n",
       "      <td>203.000000</td>\n",
       "      <td>...</td>\n",
       "      <td>50.000000</td>\n",
       "      <td>306.000000</td>\n",
       "      <td>99864.560864</td>\n",
       "      <td>3.000000</td>\n",
       "      <td>4997.517944</td>\n",
       "      <td>438.000000</td>\n",
       "      <td>12.000000</td>\n",
       "      <td>3.000000</td>\n",
       "      <td>171.500000</td>\n",
       "      <td>171.500000</td>\n",
       "    </tr>\n",
       "  </tbody>\n",
       "</table>\n",
       "<p>8 rows × 33 columns</p>\n",
       "</div>"
      ],
      "text/plain": [
       "               label            aon   daily_decr30   daily_decr90  \\\n",
       "count  209593.000000  209593.000000  209593.000000  209593.000000   \n",
       "mean        0.875177    8112.343445    5381.402289    6082.515068   \n",
       "std         0.330519   75696.082531    9220.623400   10918.812767   \n",
       "min         0.000000     -48.000000     -93.012667     -93.012667   \n",
       "25%         1.000000     246.000000      42.440000      42.692000   \n",
       "50%         1.000000     527.000000    1469.175667    1500.000000   \n",
       "75%         1.000000     982.000000    7244.000000    7802.790000   \n",
       "max         1.000000  999860.755168  265926.000000  320630.000000   \n",
       "\n",
       "            rental30       rental90  last_rech_date_ma  last_rech_date_da  \\\n",
       "count  209593.000000  209593.000000      209593.000000      209593.000000   \n",
       "mean     2692.581910    3483.406534        3755.847800        3712.202921   \n",
       "std      4308.586781    5770.461279       53905.892230       53374.833430   \n",
       "min    -23737.140000  -24720.580000         -29.000000         -29.000000   \n",
       "25%       280.420000     300.260000           1.000000           0.000000   \n",
       "50%      1083.570000    1334.000000           3.000000           0.000000   \n",
       "75%      3356.940000    4201.790000           7.000000           0.000000   \n",
       "max    198926.110000  200148.110000      998650.377733      999171.809410   \n",
       "\n",
       "       last_rech_amt_ma  cnt_ma_rech30  ...    cnt_loans30   amnt_loans30  \\\n",
       "count     209593.000000  209593.000000  ...  209593.000000  209593.000000   \n",
       "mean        2064.452797       3.978057  ...       2.758981      17.952021   \n",
       "std         2370.786034       4.256090  ...       2.554502      17.379741   \n",
       "min            0.000000       0.000000  ...       0.000000       0.000000   \n",
       "25%          770.000000       1.000000  ...       1.000000       6.000000   \n",
       "50%         1539.000000       3.000000  ...       2.000000      12.000000   \n",
       "75%         2309.000000       5.000000  ...       4.000000      24.000000   \n",
       "max        55000.000000     203.000000  ...      50.000000     306.000000   \n",
       "\n",
       "       maxamnt_loans30  medianamnt_loans30    cnt_loans90   amnt_loans90  \\\n",
       "count    209593.000000       209593.000000  209593.000000  209593.000000   \n",
       "mean        274.658747            0.054029      18.520919      23.645398   \n",
       "std        4245.264648            0.218039     224.797423      26.469861   \n",
       "min           0.000000            0.000000       0.000000       0.000000   \n",
       "25%           6.000000            0.000000       1.000000       6.000000   \n",
       "50%           6.000000            0.000000       2.000000      12.000000   \n",
       "75%           6.000000            0.000000       5.000000      30.000000   \n",
       "max       99864.560864            3.000000    4997.517944     438.000000   \n",
       "\n",
       "       maxamnt_loans90  medianamnt_loans90      payback30      payback90  \n",
       "count    209593.000000       209593.000000  209593.000000  209593.000000  \n",
       "mean          6.703134            0.046077       3.398826       4.321485  \n",
       "std           2.103864            0.200692       8.813729      10.308108  \n",
       "min           0.000000            0.000000       0.000000       0.000000  \n",
       "25%           6.000000            0.000000       0.000000       0.000000  \n",
       "50%           6.000000            0.000000       0.000000       1.666667  \n",
       "75%           6.000000            0.000000       3.750000       4.500000  \n",
       "max          12.000000            3.000000     171.500000     171.500000  \n",
       "\n",
       "[8 rows x 33 columns]"
      ]
     },
     "execution_count": 19,
     "metadata": {},
     "output_type": "execute_result"
    }
   ],
   "source": [
    "df.describe()"
   ]
  },
  {
   "cell_type": "code",
   "execution_count": 20,
   "metadata": {},
   "outputs": [],
   "source": [
    "#From the above we can see that data is imbalanced and has outliers.Lets check it for few columns to visualise . we will work on scaling the data later"
   ]
  },
  {
   "cell_type": "code",
   "execution_count": 21,
   "metadata": {},
   "outputs": [
    {
     "data": {
      "text/plain": [
       "{'whiskers': [<matplotlib.lines.Line2D at 0x21601f8af40>,\n",
       "  <matplotlib.lines.Line2D at 0x21601fa02e0>],\n",
       " 'caps': [<matplotlib.lines.Line2D at 0x21601fa0670>,\n",
       "  <matplotlib.lines.Line2D at 0x21601fa09d0>],\n",
       " 'boxes': [<matplotlib.lines.Line2D at 0x21601f8abe0>],\n",
       " 'medians': [<matplotlib.lines.Line2D at 0x21601fa0d30>],\n",
       " 'fliers': [<matplotlib.lines.Line2D at 0x21601fa9070>],\n",
       " 'means': []}"
      ]
     },
     "execution_count": 21,
     "metadata": {},
     "output_type": "execute_result"
    },
    {
     "data": {
      "image/png": "[encoded data removed]",
      "text/plain": [
       "<Figure size 432x288 with 1 Axes>"
      ]
     },
     "metadata": {
      "needs_background": "light"
     },
     "output_type": "display_data"
    }
   ],
   "source": [
    "fig,ax=plt.subplots()\n",
    "ax.boxplot(df[\"aon\"])"
   ]
  },
  {
   "cell_type": "code",
   "execution_count": 22,
   "metadata": {},
   "outputs": [],
   "source": [
    "#To treat outliers"
   ]
  },
  {
   "cell_type": "code",
   "execution_count": 23,
   "metadata": {},
   "outputs": [],
   "source": [
    "median=df[\"aon\"].median()"
   ]
  },
  {
   "cell_type": "code",
   "execution_count": 24,
   "metadata": {},
   "outputs": [
    {
     "data": {
      "text/plain": [
       "527.0"
      ]
     },
     "execution_count": 24,
     "metadata": {},
     "output_type": "execute_result"
    }
   ],
   "source": [
    "median"
   ]
  },
  {
   "cell_type": "code",
   "execution_count": 32,
   "metadata": {},
   "outputs": [],
   "source": [
    "df[\"aon\"]=df[\"aon\"].mask(df[\"aon\"]>527.0,median)"
   ]
  },
  {
   "cell_type": "code",
   "execution_count": 26,
   "metadata": {},
   "outputs": [
    {
     "data": {
      "text/plain": [
       "{'whiskers': [<matplotlib.lines.Line2D at 0x21602077220>,\n",
       "  <matplotlib.lines.Line2D at 0x21602077580>],\n",
       " 'caps': [<matplotlib.lines.Line2D at 0x216020778e0>,\n",
       "  <matplotlib.lines.Line2D at 0x21602077c40>],\n",
       " 'boxes': [<matplotlib.lines.Line2D at 0x2160206ae80>],\n",
       " 'medians': [<matplotlib.lines.Line2D at 0x21602077fa0>],\n",
       " 'fliers': [<matplotlib.lines.Line2D at 0x2160207e2e0>],\n",
       " 'means': []}"
      ]
     },
     "execution_count": 26,
     "metadata": {},
     "output_type": "execute_result"
    },
    {
     "data": {
      "image/png": "[encoded data removed]",
      "text/plain": [
       "<Figure size 432x288 with 1 Axes>"
      ]
     },
     "metadata": {
      "needs_background": "light"
     },
     "output_type": "display_data"
    }
   ],
   "source": [
    "fig,ax=plt.subplots()\n",
    "ax.boxplot(df[\"aon\"])"
   ]
  },
  {
   "cell_type": "code",
   "execution_count": 27,
   "metadata": {},
   "outputs": [],
   "source": [
    "#We can see that outlier is removed hence we will proceed to check on other columns as well"
   ]
  },
  {
   "cell_type": "code",
   "execution_count": 28,
   "metadata": {},
   "outputs": [
    {
     "data": {
      "text/plain": [
       "{'whiskers': [<matplotlib.lines.Line2D at 0x216020cb820>,\n",
       "  <matplotlib.lines.Line2D at 0x216020cbb80>],\n",
       " 'caps': [<matplotlib.lines.Line2D at 0x216020cbee0>,\n",
       "  <matplotlib.lines.Line2D at 0x216020d6280>],\n",
       " 'boxes': [<matplotlib.lines.Line2D at 0x216020cb520>],\n",
       " 'medians': [<matplotlib.lines.Line2D at 0x216020d65e0>],\n",
       " 'fliers': [<matplotlib.lines.Line2D at 0x216020d68e0>],\n",
       " 'means': []}"
      ]
     },
     "execution_count": 28,
     "metadata": {},
     "output_type": "execute_result"
    },
    {
     "data": {
      "image/png": "[encoded data removed]",
      "text/plain": [
       "<Figure size 432x288 with 1 Axes>"
      ]
     },
     "metadata": {
      "needs_background": "light"
     },
     "output_type": "display_data"
    }
   ],
   "source": [
    "fig,ax=plt.subplots()\n",
    "ax.boxplot(df[\"daily_decr30\"])"
   ]
  },
  {
   "cell_type": "code",
   "execution_count": 29,
   "metadata": {},
   "outputs": [],
   "source": [
    "median1=df[\"daily_decr30\"].median()"
   ]
  },
  {
   "cell_type": "code",
   "execution_count": 30,
   "metadata": {},
   "outputs": [
    {
     "data": {
      "text/plain": [
       "1469.17566666667"
      ]
     },
     "execution_count": 30,
     "metadata": {},
     "output_type": "execute_result"
    }
   ],
   "source": [
    "median1"
   ]
  },
  {
   "cell_type": "code",
   "execution_count": 33,
   "metadata": {},
   "outputs": [],
   "source": [
    "df[\"daily_decr30\"]=df[\"daily_decr30\"].mask(df[\"daily_decr30\"]>1469.17566666667,median1)"
   ]
  },
  {
   "cell_type": "code",
   "execution_count": 34,
   "metadata": {},
   "outputs": [
    {
     "data": {
      "text/plain": [
       "{'whiskers': [<matplotlib.lines.Line2D at 0x21602175e50>,\n",
       "  <matplotlib.lines.Line2D at 0x216021831f0>],\n",
       " 'caps': [<matplotlib.lines.Line2D at 0x21602183550>,\n",
       "  <matplotlib.lines.Line2D at 0x216021838b0>],\n",
       " 'boxes': [<matplotlib.lines.Line2D at 0x21602175af0>],\n",
       " 'medians': [<matplotlib.lines.Line2D at 0x21602183c10>],\n",
       " 'fliers': [<matplotlib.lines.Line2D at 0x21602183f10>],\n",
       " 'means': []}"
      ]
     },
     "execution_count": 34,
     "metadata": {},
     "output_type": "execute_result"
    },
    {
     "data": {
      "image/png": "[encoded data removed]",
      "text/plain": [
       "<Figure size 432x288 with 1 Axes>"
      ]
     },
     "metadata": {
      "needs_background": "light"
     },
     "output_type": "display_data"
    }
   ],
   "source": [
    "fig,ax=plt.subplots()\n",
    "ax.boxplot(df[\"daily_decr30\"])"
   ]
  },
  {
   "cell_type": "code",
   "execution_count": 20,
   "metadata": {},
   "outputs": [
    {
     "data": {
      "text/plain": [
       "{'whiskers': [<matplotlib.lines.Line2D at 0x196c25b9d00>,\n",
       "  <matplotlib.lines.Line2D at 0x196c25c70a0>],\n",
       " 'caps': [<matplotlib.lines.Line2D at 0x196c25c7400>,\n",
       "  <matplotlib.lines.Line2D at 0x196c25c7760>],\n",
       " 'boxes': [<matplotlib.lines.Line2D at 0x196c25b99a0>],\n",
       " 'medians': [<matplotlib.lines.Line2D at 0x196c25c7ac0>],\n",
       " 'fliers': [<matplotlib.lines.Line2D at 0x196c25c7dc0>],\n",
       " 'means': []}"
      ]
     },
     "execution_count": 20,
     "metadata": {},
     "output_type": "execute_result"
    },
    {
     "data": {
      "image/png": "[encoded data removed]",
      "text/plain": [
       "<Figure size 432x288 with 1 Axes>"
      ]
     },
     "metadata": {
      "needs_background": "light"
     },
     "output_type": "display_data"
    }
   ],
   "source": [
    "fig,ax=plt.subplots()\n",
    "ax.boxplot(df[\"daily_decr30\"])"
   ]
  },
  {
   "cell_type": "code",
   "execution_count": 21,
   "metadata": {},
   "outputs": [
    {
     "data": {
      "text/plain": [
       "{'whiskers': [<matplotlib.lines.Line2D at 0x196c261c790>,\n",
       "  <matplotlib.lines.Line2D at 0x196c261caf0>],\n",
       " 'caps': [<matplotlib.lines.Line2D at 0x196c261ce50>,\n",
       "  <matplotlib.lines.Line2D at 0x196c26261f0>],\n",
       " 'boxes': [<matplotlib.lines.Line2D at 0x196c261c430>],\n",
       " 'medians': [<matplotlib.lines.Line2D at 0x196c2626550>],\n",
       " 'fliers': [<matplotlib.lines.Line2D at 0x196c2626850>],\n",
       " 'means': []}"
      ]
     },
     "execution_count": 21,
     "metadata": {},
     "output_type": "execute_result"
    },
    {
     "data": {
      "image/png": "[encoded data removed]",
      "text/plain": [
       "<Figure size 432x288 with 1 Axes>"
      ]
     },
     "metadata": {
      "needs_background": "light"
     },
     "output_type": "display_data"
    }
   ],
   "source": [
    "fig,ax=plt.subplots()\n",
    "ax.boxplot(df[\"daily_decr90\"])"
   ]
  },
  {
   "cell_type": "code",
   "execution_count": 35,
   "metadata": {},
   "outputs": [],
   "source": [
    "median2=df[\"daily_decr90\"].median()"
   ]
  },
  {
   "cell_type": "code",
   "execution_count": 36,
   "metadata": {},
   "outputs": [
    {
     "data": {
      "text/plain": [
       "1500.0"
      ]
     },
     "execution_count": 36,
     "metadata": {},
     "output_type": "execute_result"
    }
   ],
   "source": [
    "median2"
   ]
  },
  {
   "cell_type": "code",
   "execution_count": 37,
   "metadata": {},
   "outputs": [],
   "source": [
    "df[\"daily_decr90\"]=df[\"daily_decr90\"].mask(df[\"daily_decr90\"]>1500.0,median2)"
   ]
  },
  {
   "cell_type": "code",
   "execution_count": 38,
   "metadata": {},
   "outputs": [
    {
     "data": {
      "text/plain": [
       "{'whiskers': [<matplotlib.lines.Line2D at 0x216021d3dc0>,\n",
       "  <matplotlib.lines.Line2D at 0x216021e0160>],\n",
       " 'caps': [<matplotlib.lines.Line2D at 0x216021e04c0>,\n",
       "  <matplotlib.lines.Line2D at 0x216021e0820>],\n",
       " 'boxes': [<matplotlib.lines.Line2D at 0x216021d3a60>],\n",
       " 'medians': [<matplotlib.lines.Line2D at 0x216021e0b80>],\n",
       " 'fliers': [<matplotlib.lines.Line2D at 0x216021e0e80>],\n",
       " 'means': []}"
      ]
     },
     "execution_count": 38,
     "metadata": {},
     "output_type": "execute_result"
    },
    {
     "data": {
      "image/png": "[encoded data removed]",
      "text/plain": [
       "<Figure size 432x288 with 1 Axes>"
      ]
     },
     "metadata": {
      "needs_background": "light"
     },
     "output_type": "display_data"
    }
   ],
   "source": [
    "fig,ax=plt.subplots()\n",
    "ax.boxplot(df[\"daily_decr90\"])"
   ]
  },
  {
   "cell_type": "code",
   "execution_count": 22,
   "metadata": {},
   "outputs": [
    {
     "data": {
      "text/plain": [
       "{'whiskers': [<matplotlib.lines.Line2D at 0x196c267a4f0>,\n",
       "  <matplotlib.lines.Line2D at 0x196c267a850>],\n",
       " 'caps': [<matplotlib.lines.Line2D at 0x196c267abb0>,\n",
       "  <matplotlib.lines.Line2D at 0x196c267af10>],\n",
       " 'boxes': [<matplotlib.lines.Line2D at 0x196c267a190>],\n",
       " 'medians': [<matplotlib.lines.Line2D at 0x196c26852b0>],\n",
       " 'fliers': [<matplotlib.lines.Line2D at 0x196c26855b0>],\n",
       " 'means': []}"
      ]
     },
     "execution_count": 22,
     "metadata": {},
     "output_type": "execute_result"
    },
    {
     "data": {
      "image/png": "[encoded data removed]",
      "text/plain": [
       "<Figure size 432x288 with 1 Axes>"
      ]
     },
     "metadata": {
      "needs_background": "light"
     },
     "output_type": "display_data"
    }
   ],
   "source": [
    "fig,ax=plt.subplots()\n",
    "ax.boxplot(df[\"rental30\"])"
   ]
  },
  {
   "cell_type": "code",
   "execution_count": 93,
   "metadata": {},
   "outputs": [],
   "source": [
    "median12=df[\"rental30\"].median()"
   ]
  },
  {
   "cell_type": "code",
   "execution_count": 94,
   "metadata": {},
   "outputs": [
    {
     "data": {
      "text/plain": [
       "1083.57"
      ]
     },
     "execution_count": 94,
     "metadata": {},
     "output_type": "execute_result"
    }
   ],
   "source": [
    "median12"
   ]
  },
  {
   "cell_type": "code",
   "execution_count": 95,
   "metadata": {},
   "outputs": [],
   "source": [
    "df[\"rental30\"]=df[\"rental30\"].mask(df[\"rental30\"]>1083,median12)"
   ]
  },
  {
   "cell_type": "code",
   "execution_count": 96,
   "metadata": {},
   "outputs": [
    {
     "data": {
      "text/plain": [
       "{'whiskers': [<matplotlib.lines.Line2D at 0x21608ecd9a0>,\n",
       "  <matplotlib.lines.Line2D at 0x21608ecdd00>],\n",
       " 'caps': [<matplotlib.lines.Line2D at 0x21608eda0a0>,\n",
       "  <matplotlib.lines.Line2D at 0x21608eda400>],\n",
       " 'boxes': [<matplotlib.lines.Line2D at 0x21608ecd640>],\n",
       " 'medians': [<matplotlib.lines.Line2D at 0x21608eda760>],\n",
       " 'fliers': [<matplotlib.lines.Line2D at 0x21608edaa60>],\n",
       " 'means': []}"
      ]
     },
     "execution_count": 96,
     "metadata": {},
     "output_type": "execute_result"
    },
    {
     "data": {
      "image/png": "[encoded data removed]",
      "text/plain": [
       "<Figure size 432x288 with 1 Axes>"
      ]
     },
     "metadata": {
      "needs_background": "light"
     },
     "output_type": "display_data"
    }
   ],
   "source": [
    "fig,ax=plt.subplots()\n",
    "ax.boxplot(df[\"rental30\"])"
   ]
  },
  {
   "cell_type": "code",
   "execution_count": 23,
   "metadata": {},
   "outputs": [
    {
     "data": {
      "text/plain": [
       "{'whiskers': [<matplotlib.lines.Line2D at 0x196c257e730>,\n",
       "  <matplotlib.lines.Line2D at 0x196c25c7f70>],\n",
       " 'caps': [<matplotlib.lines.Line2D at 0x196c2594d90>,\n",
       "  <matplotlib.lines.Line2D at 0x196c25e21c0>],\n",
       " 'boxes': [<matplotlib.lines.Line2D at 0x196c257e7f0>],\n",
       " 'medians': [<matplotlib.lines.Line2D at 0x196c25e2dc0>],\n",
       " 'fliers': [<matplotlib.lines.Line2D at 0x196c24e9280>],\n",
       " 'means': []}"
      ]
     },
     "execution_count": 23,
     "metadata": {},
     "output_type": "execute_result"
    },
    {
     "data": {
      "image/png": "[encoded data removed]",
      "text/plain": [
       "<Figure size 432x288 with 1 Axes>"
      ]
     },
     "metadata": {
      "needs_background": "light"
     },
     "output_type": "display_data"
    }
   ],
   "source": [
    "fig,ax=plt.subplots()\n",
    "ax.boxplot(df[\"rental90\"])"
   ]
  },
  {
   "cell_type": "code",
   "execution_count": 97,
   "metadata": {},
   "outputs": [],
   "source": [
    "median13=df[\"rental90\"].median()"
   ]
  },
  {
   "cell_type": "code",
   "execution_count": 98,
   "metadata": {},
   "outputs": [
    {
     "data": {
      "text/plain": [
       "1334.0"
      ]
     },
     "execution_count": 98,
     "metadata": {},
     "output_type": "execute_result"
    }
   ],
   "source": [
    "median13"
   ]
  },
  {
   "cell_type": "code",
   "execution_count": 99,
   "metadata": {},
   "outputs": [],
   "source": [
    "df[\"rental90\"]=df[\"rental90\"].mask(df[\"rental90\"]>1334.0,median13)"
   ]
  },
  {
   "cell_type": "code",
   "execution_count": 100,
   "metadata": {},
   "outputs": [
    {
     "data": {
      "text/plain": [
       "{'whiskers': [<matplotlib.lines.Line2D at 0x21608f25820>,\n",
       "  <matplotlib.lines.Line2D at 0x21608f25b80>],\n",
       " 'caps': [<matplotlib.lines.Line2D at 0x21608f25ee0>,\n",
       "  <matplotlib.lines.Line2D at 0x21608f30280>],\n",
       " 'boxes': [<matplotlib.lines.Line2D at 0x21608f254c0>],\n",
       " 'medians': [<matplotlib.lines.Line2D at 0x21608f305e0>],\n",
       " 'fliers': [<matplotlib.lines.Line2D at 0x21608f308e0>],\n",
       " 'means': []}"
      ]
     },
     "execution_count": 100,
     "metadata": {},
     "output_type": "execute_result"
    },
    {
     "data": {
      "image/png": "[encoded data removed]",
      "text/plain": [
       "<Figure size 432x288 with 1 Axes>"
      ]
     },
     "metadata": {
      "needs_background": "light"
     },
     "output_type": "display_data"
    }
   ],
   "source": [
    "fig,ax=plt.subplots()\n",
    "ax.boxplot(df[\"rental90\"])"
   ]
  },
  {
   "cell_type": "code",
   "execution_count": 24,
   "metadata": {
    "scrolled": true
   },
   "outputs": [
    {
     "data": {
      "text/plain": [
       "{'whiskers': [<matplotlib.lines.Line2D at 0x196c27271c0>,\n",
       "  <matplotlib.lines.Line2D at 0x196c2727520>],\n",
       " 'caps': [<matplotlib.lines.Line2D at 0x196c2727880>,\n",
       "  <matplotlib.lines.Line2D at 0x196c2727be0>],\n",
       " 'boxes': [<matplotlib.lines.Line2D at 0x196c271ae20>],\n",
       " 'medians': [<matplotlib.lines.Line2D at 0x196c2727f40>],\n",
       " 'fliers': [<matplotlib.lines.Line2D at 0x196c2732280>],\n",
       " 'means': []}"
      ]
     },
     "execution_count": 24,
     "metadata": {},
     "output_type": "execute_result"
    },
    {
     "data": {
      "image/png": "[encoded data removed]",
      "text/plain": [
       "<Figure size 432x288 with 1 Axes>"
      ]
     },
     "metadata": {
      "needs_background": "light"
     },
     "output_type": "display_data"
    }
   ],
   "source": [
    "fig,ax=plt.subplots()\n",
    "ax.boxplot(df[\"last_rech_date_ma\"])"
   ]
  },
  {
   "cell_type": "code",
   "execution_count": 25,
   "metadata": {},
   "outputs": [
    {
     "data": {
      "text/plain": [
       "{'whiskers': [<matplotlib.lines.Line2D at 0x196c277a520>,\n",
       "  <matplotlib.lines.Line2D at 0x196c277a880>],\n",
       " 'caps': [<matplotlib.lines.Line2D at 0x196c277abe0>,\n",
       "  <matplotlib.lines.Line2D at 0x196c277af40>],\n",
       " 'boxes': [<matplotlib.lines.Line2D at 0x196c277a1c0>],\n",
       " 'medians': [<matplotlib.lines.Line2D at 0x196c27832e0>],\n",
       " 'fliers': [<matplotlib.lines.Line2D at 0x196c27835e0>],\n",
       " 'means': []}"
      ]
     },
     "execution_count": 25,
     "metadata": {},
     "output_type": "execute_result"
    },
    {
     "data": {
      "image/png": "[encoded data removed]",
      "text/plain": [
       "<Figure size 432x288 with 1 Axes>"
      ]
     },
     "metadata": {
      "needs_background": "light"
     },
     "output_type": "display_data"
    }
   ],
   "source": [
    "fig,ax=plt.subplots()\n",
    "ax.boxplot(df[\"last_rech_date_da\"])"
   ]
  },
  {
   "cell_type": "code",
   "execution_count": 26,
   "metadata": {},
   "outputs": [
    {
     "data": {
      "text/plain": [
       "{'whiskers': [<matplotlib.lines.Line2D at 0x196c27cba90>,\n",
       "  <matplotlib.lines.Line2D at 0x196c27cbdf0>],\n",
       " 'caps': [<matplotlib.lines.Line2D at 0x196c27d8190>,\n",
       "  <matplotlib.lines.Line2D at 0x196c27d84f0>],\n",
       " 'boxes': [<matplotlib.lines.Line2D at 0x196c27cb730>],\n",
       " 'medians': [<matplotlib.lines.Line2D at 0x196c27d8850>],\n",
       " 'fliers': [<matplotlib.lines.Line2D at 0x196c27d8b50>],\n",
       " 'means': []}"
      ]
     },
     "execution_count": 26,
     "metadata": {},
     "output_type": "execute_result"
    },
    {
     "data": {
      "image/png": "[encoded data removed]",
      "text/plain": [
       "<Figure size 432x288 with 1 Axes>"
      ]
     },
     "metadata": {
      "needs_background": "light"
     },
     "output_type": "display_data"
    }
   ],
   "source": [
    "fig,ax=plt.subplots()\n",
    "ax.boxplot(df[\"last_rech_amt_ma\"])"
   ]
  },
  {
   "cell_type": "code",
   "execution_count": 87,
   "metadata": {},
   "outputs": [],
   "source": [
    "median11=df[\"last_rech_amt_ma\"].median()"
   ]
  },
  {
   "cell_type": "code",
   "execution_count": 88,
   "metadata": {},
   "outputs": [
    {
     "data": {
      "text/plain": [
       "1539.0"
      ]
     },
     "execution_count": 88,
     "metadata": {},
     "output_type": "execute_result"
    }
   ],
   "source": [
    "median11"
   ]
  },
  {
   "cell_type": "code",
   "execution_count": 89,
   "metadata": {},
   "outputs": [],
   "source": [
    "df[\"last_rech_amt_ma\"]=df[\"last_rech_amt_ma\"].mask(df[\"last_rech_amt_ma\"]>1539.0,median11)"
   ]
  },
  {
   "cell_type": "code",
   "execution_count": 90,
   "metadata": {},
   "outputs": [
    {
     "data": {
      "text/plain": [
       "{'whiskers': [<matplotlib.lines.Line2D at 0x21608e566a0>,\n",
       "  <matplotlib.lines.Line2D at 0x21608e56a00>],\n",
       " 'caps': [<matplotlib.lines.Line2D at 0x21608e56d60>,\n",
       "  <matplotlib.lines.Line2D at 0x21608e4a100>],\n",
       " 'boxes': [<matplotlib.lines.Line2D at 0x21608e56340>],\n",
       " 'medians': [<matplotlib.lines.Line2D at 0x21608e4a460>],\n",
       " 'fliers': [<matplotlib.lines.Line2D at 0x21608e4a760>],\n",
       " 'means': []}"
      ]
     },
     "execution_count": 90,
     "metadata": {},
     "output_type": "execute_result"
    },
    {
     "data": {
      "image/png": "[encoded data removed]",
      "text/plain": [
       "<Figure size 432x288 with 1 Axes>"
      ]
     },
     "metadata": {
      "needs_background": "light"
     },
     "output_type": "display_data"
    }
   ],
   "source": [
    "fig,ax=plt.subplots()\n",
    "ax.boxplot(df[\"last_rech_amt_ma\"])"
   ]
  },
  {
   "cell_type": "code",
   "execution_count": 27,
   "metadata": {},
   "outputs": [
    {
     "data": {
      "text/plain": [
       "{'whiskers': [<matplotlib.lines.Line2D at 0x196c3180fa0>,\n",
       "  <matplotlib.lines.Line2D at 0x196c318d340>],\n",
       " 'caps': [<matplotlib.lines.Line2D at 0x196c318d6a0>,\n",
       "  <matplotlib.lines.Line2D at 0x196c318da00>],\n",
       " 'boxes': [<matplotlib.lines.Line2D at 0x196c3180c40>],\n",
       " 'medians': [<matplotlib.lines.Line2D at 0x196c318dd60>],\n",
       " 'fliers': [<matplotlib.lines.Line2D at 0x196c319a0a0>],\n",
       " 'means': []}"
      ]
     },
     "execution_count": 27,
     "metadata": {},
     "output_type": "execute_result"
    },
    {
     "data": {
      "image/png": "[encoded data removed]",
      "text/plain": [
       "<Figure size 432x288 with 1 Axes>"
      ]
     },
     "metadata": {
      "needs_background": "light"
     },
     "output_type": "display_data"
    }
   ],
   "source": [
    "fig,ax=plt.subplots()\n",
    "ax.boxplot(df[\"cnt_ma_rech30\"])"
   ]
  },
  {
   "cell_type": "code",
   "execution_count": 83,
   "metadata": {},
   "outputs": [],
   "source": [
    "median10=df['cnt_ma_rech30'].median()"
   ]
  },
  {
   "cell_type": "code",
   "execution_count": 84,
   "metadata": {},
   "outputs": [
    {
     "data": {
      "text/plain": [
       "3.0"
      ]
     },
     "execution_count": 84,
     "metadata": {},
     "output_type": "execute_result"
    }
   ],
   "source": [
    "median10"
   ]
  },
  {
   "cell_type": "code",
   "execution_count": 85,
   "metadata": {},
   "outputs": [],
   "source": [
    "df[\"cnt_ma_rech30\"]=df[\"cnt_ma_rech30\"].mask(df[\"cnt_ma_rech30\"]>3.0,median10)"
   ]
  },
  {
   "cell_type": "code",
   "execution_count": 86,
   "metadata": {},
   "outputs": [
    {
     "data": {
      "text/plain": [
       "{'whiskers': [<matplotlib.lines.Line2D at 0x21608e0ee20>,\n",
       "  <matplotlib.lines.Line2D at 0x21608e1c1c0>],\n",
       " 'caps': [<matplotlib.lines.Line2D at 0x21608e1c520>,\n",
       "  <matplotlib.lines.Line2D at 0x21608e1c880>],\n",
       " 'boxes': [<matplotlib.lines.Line2D at 0x21608e0eac0>],\n",
       " 'medians': [<matplotlib.lines.Line2D at 0x21608e1cbe0>],\n",
       " 'fliers': [<matplotlib.lines.Line2D at 0x21608e1cee0>],\n",
       " 'means': []}"
      ]
     },
     "execution_count": 86,
     "metadata": {},
     "output_type": "execute_result"
    },
    {
     "data": {
      "image/png": "[encoded data removed]",
      "text/plain": [
       "<Figure size 432x288 with 1 Axes>"
      ]
     },
     "metadata": {
      "needs_background": "light"
     },
     "output_type": "display_data"
    }
   ],
   "source": [
    "fig,ax=plt.subplots()\n",
    "ax.boxplot(df[\"cnt_ma_rech30\"])"
   ]
  },
  {
   "cell_type": "code",
   "execution_count": 28,
   "metadata": {},
   "outputs": [
    {
     "data": {
      "text/plain": [
       "{'whiskers': [<matplotlib.lines.Line2D at 0x196c31e7520>,\n",
       "  <matplotlib.lines.Line2D at 0x196c31e7880>],\n",
       " 'caps': [<matplotlib.lines.Line2D at 0x196c31e7be0>,\n",
       "  <matplotlib.lines.Line2D at 0x196c31e7f40>],\n",
       " 'boxes': [<matplotlib.lines.Line2D at 0x196c31e71c0>],\n",
       " 'medians': [<matplotlib.lines.Line2D at 0x196c31f22e0>],\n",
       " 'fliers': [<matplotlib.lines.Line2D at 0x196c31f25e0>],\n",
       " 'means': []}"
      ]
     },
     "execution_count": 28,
     "metadata": {},
     "output_type": "execute_result"
    },
    {
     "data": {
      "image/png": "[encoded data removed]",
      "text/plain": [
       "<Figure size 432x288 with 1 Axes>"
      ]
     },
     "metadata": {
      "needs_background": "light"
     },
     "output_type": "display_data"
    }
   ],
   "source": [
    "fig,ax=plt.subplots()\n",
    "ax.boxplot(df[\"cnt_loans30\"])"
   ]
  },
  {
   "cell_type": "code",
   "execution_count": 79,
   "metadata": {},
   "outputs": [],
   "source": [
    "median9=df[\"cnt_loans30\"].median()"
   ]
  },
  {
   "cell_type": "code",
   "execution_count": 80,
   "metadata": {},
   "outputs": [
    {
     "data": {
      "text/plain": [
       "2.0"
      ]
     },
     "execution_count": 80,
     "metadata": {},
     "output_type": "execute_result"
    }
   ],
   "source": [
    "median9"
   ]
  },
  {
   "cell_type": "code",
   "execution_count": 81,
   "metadata": {},
   "outputs": [],
   "source": [
    "df[\"cnt_loans30\"]=df[\"cnt_loans30\"].mask(df[\"cnt_loans30\"]>2.0,median9)"
   ]
  },
  {
   "cell_type": "code",
   "execution_count": 82,
   "metadata": {},
   "outputs": [
    {
     "data": {
      "text/plain": [
       "{'whiskers': [<matplotlib.lines.Line2D at 0x21608d99b50>,\n",
       "  <matplotlib.lines.Line2D at 0x21608d99eb0>],\n",
       " 'caps': [<matplotlib.lines.Line2D at 0x21608dc0250>,\n",
       "  <matplotlib.lines.Line2D at 0x21608dc05b0>],\n",
       " 'boxes': [<matplotlib.lines.Line2D at 0x21608d997f0>],\n",
       " 'medians': [<matplotlib.lines.Line2D at 0x21608dc0910>],\n",
       " 'fliers': [<matplotlib.lines.Line2D at 0x21608dc0c10>],\n",
       " 'means': []}"
      ]
     },
     "execution_count": 82,
     "metadata": {},
     "output_type": "execute_result"
    },
    {
     "data": {
      "image/png": "[encoded data removed]",
      "text/plain": [
       "<Figure size 432x288 with 1 Axes>"
      ]
     },
     "metadata": {
      "needs_background": "light"
     },
     "output_type": "display_data"
    }
   ],
   "source": [
    "fig,ax=plt.subplots()\n",
    "ax.boxplot(df[\"cnt_loans30\"])"
   ]
  },
  {
   "cell_type": "code",
   "execution_count": 29,
   "metadata": {},
   "outputs": [
    {
     "data": {
      "text/plain": [
       "{'whiskers': [<matplotlib.lines.Line2D at 0x196c323ba30>,\n",
       "  <matplotlib.lines.Line2D at 0x196c323bd90>],\n",
       " 'caps': [<matplotlib.lines.Line2D at 0x196c3248130>,\n",
       "  <matplotlib.lines.Line2D at 0x196c3248490>],\n",
       " 'boxes': [<matplotlib.lines.Line2D at 0x196c323b6d0>],\n",
       " 'medians': [<matplotlib.lines.Line2D at 0x196c32487f0>],\n",
       " 'fliers': [<matplotlib.lines.Line2D at 0x196c3248af0>],\n",
       " 'means': []}"
      ]
     },
     "execution_count": 29,
     "metadata": {},
     "output_type": "execute_result"
    },
    {
     "data": {
      "image/png": "[encoded data removed]",
      "text/plain": [
       "<Figure size 432x288 with 1 Axes>"
      ]
     },
     "metadata": {
      "needs_background": "light"
     },
     "output_type": "display_data"
    }
   ],
   "source": [
    "fig,ax=plt.subplots()\n",
    "ax.boxplot(df[\"amnt_loans30\"])"
   ]
  },
  {
   "cell_type": "code",
   "execution_count": 75,
   "metadata": {},
   "outputs": [],
   "source": [
    "median8=df['amnt_loans30'].median()"
   ]
  },
  {
   "cell_type": "code",
   "execution_count": 76,
   "metadata": {},
   "outputs": [
    {
     "data": {
      "text/plain": [
       "12.0"
      ]
     },
     "execution_count": 76,
     "metadata": {},
     "output_type": "execute_result"
    }
   ],
   "source": [
    "median8"
   ]
  },
  {
   "cell_type": "code",
   "execution_count": 77,
   "metadata": {},
   "outputs": [],
   "source": [
    "df[\"amnt_loans30\"]=df[\"amnt_loans30\"].mask(df[\"amnt_loans30\"]>12.0,median8)"
   ]
  },
  {
   "cell_type": "code",
   "execution_count": 78,
   "metadata": {},
   "outputs": [
    {
     "data": {
      "text/plain": [
       "{'whiskers': [<matplotlib.lines.Line2D at 0x21608d60280>,\n",
       "  <matplotlib.lines.Line2D at 0x21608d605e0>],\n",
       " 'caps': [<matplotlib.lines.Line2D at 0x21608d60940>,\n",
       "  <matplotlib.lines.Line2D at 0x21608d60ca0>],\n",
       " 'boxes': [<matplotlib.lines.Line2D at 0x21608d53ee0>],\n",
       " 'medians': [<matplotlib.lines.Line2D at 0x21608d6a040>],\n",
       " 'fliers': [<matplotlib.lines.Line2D at 0x21608d6a340>],\n",
       " 'means': []}"
      ]
     },
     "execution_count": 78,
     "metadata": {},
     "output_type": "execute_result"
    },
    {
     "data": {
      "image/png": "[encoded data removed]",
      "text/plain": [
       "<Figure size 432x288 with 1 Axes>"
      ]
     },
     "metadata": {
      "needs_background": "light"
     },
     "output_type": "display_data"
    }
   ],
   "source": [
    "fig,ax=plt.subplots()\n",
    "ax.boxplot(df[\"amnt_loans30\"])"
   ]
  },
  {
   "cell_type": "code",
   "execution_count": 30,
   "metadata": {},
   "outputs": [
    {
     "data": {
      "text/plain": [
       "{'whiskers': [<matplotlib.lines.Line2D at 0x196c329a4f0>,\n",
       "  <matplotlib.lines.Line2D at 0x196c329a850>],\n",
       " 'caps': [<matplotlib.lines.Line2D at 0x196c329abb0>,\n",
       "  <matplotlib.lines.Line2D at 0x196c329af10>],\n",
       " 'boxes': [<matplotlib.lines.Line2D at 0x196c329a190>],\n",
       " 'medians': [<matplotlib.lines.Line2D at 0x196c32a52b0>],\n",
       " 'fliers': [<matplotlib.lines.Line2D at 0x196c32a55b0>],\n",
       " 'means': []}"
      ]
     },
     "execution_count": 30,
     "metadata": {},
     "output_type": "execute_result"
    },
    {
     "data": {
      "image/png": "[encoded data removed]",
      "text/plain": [
       "<Figure size 432x288 with 1 Axes>"
      ]
     },
     "metadata": {
      "needs_background": "light"
     },
     "output_type": "display_data"
    }
   ],
   "source": [
    "fig,ax=plt.subplots()\n",
    "ax.boxplot(df[\"maxamnt_loans30\"])"
   ]
  },
  {
   "cell_type": "code",
   "execution_count": 74,
   "metadata": {},
   "outputs": [
    {
     "data": {
      "text/plain": [
       "{'whiskers': [<matplotlib.lines.Line2D at 0x21608cff940>,\n",
       "  <matplotlib.lines.Line2D at 0x21608cffca0>],\n",
       " 'caps': [<matplotlib.lines.Line2D at 0x21608d09040>,\n",
       "  <matplotlib.lines.Line2D at 0x21608d093a0>],\n",
       " 'boxes': [<matplotlib.lines.Line2D at 0x21608cff5e0>],\n",
       " 'medians': [<matplotlib.lines.Line2D at 0x21608d09700>],\n",
       " 'fliers': [<matplotlib.lines.Line2D at 0x21608d09a00>],\n",
       " 'means': []}"
      ]
     },
     "execution_count": 74,
     "metadata": {},
     "output_type": "execute_result"
    },
    {
     "data": {
      "image/png": "[encoded data removed]",
      "text/plain": [
       "<Figure size 432x288 with 1 Axes>"
      ]
     },
     "metadata": {
      "needs_background": "light"
     },
     "output_type": "display_data"
    }
   ],
   "source": [
    "fig,ax=plt.subplots()\n",
    "ax.boxplot(df[\"maxamnt_loans30\"])"
   ]
  },
  {
   "cell_type": "code",
   "execution_count": 31,
   "metadata": {},
   "outputs": [
    {
     "data": {
      "text/plain": [
       "{'whiskers': [<matplotlib.lines.Line2D at 0x196c32eea30>,\n",
       "  <matplotlib.lines.Line2D at 0x196c32eed90>],\n",
       " 'caps': [<matplotlib.lines.Line2D at 0x196c4eba130>,\n",
       "  <matplotlib.lines.Line2D at 0x196c4eba490>],\n",
       " 'boxes': [<matplotlib.lines.Line2D at 0x196c32ee6d0>],\n",
       " 'medians': [<matplotlib.lines.Line2D at 0x196c4eba7f0>],\n",
       " 'fliers': [<matplotlib.lines.Line2D at 0x196c4ebaaf0>],\n",
       " 'means': []}"
      ]
     },
     "execution_count": 31,
     "metadata": {},
     "output_type": "execute_result"
    },
    {
     "data": {
      "image/png": "[encoded data removed]",
      "text/plain": [
       "<Figure size 432x288 with 1 Axes>"
      ]
     },
     "metadata": {
      "needs_background": "light"
     },
     "output_type": "display_data"
    }
   ],
   "source": [
    "fig,ax=plt.subplots()\n",
    "ax.boxplot(df[\"cnt_loans90\"])"
   ]
  },
  {
   "cell_type": "code",
   "execution_count": 67,
   "metadata": {},
   "outputs": [],
   "source": [
    "median7=df[\"cnt_loans90\"].median()"
   ]
  },
  {
   "cell_type": "code",
   "execution_count": 68,
   "metadata": {},
   "outputs": [
    {
     "data": {
      "text/plain": [
       "2.0"
      ]
     },
     "execution_count": 68,
     "metadata": {},
     "output_type": "execute_result"
    }
   ],
   "source": [
    "median7"
   ]
  },
  {
   "cell_type": "code",
   "execution_count": 69,
   "metadata": {},
   "outputs": [],
   "source": [
    "df[\"cnt_loans90\"]=df[\"cnt_loans90\"].mask(df[\"cnt_loans90\"]>2.0,median7)"
   ]
  },
  {
   "cell_type": "code",
   "execution_count": 70,
   "metadata": {},
   "outputs": [
    {
     "data": {
      "text/plain": [
       "{'whiskers': [<matplotlib.lines.Line2D at 0x21608ca25b0>,\n",
       "  <matplotlib.lines.Line2D at 0x21608ca2910>],\n",
       " 'caps': [<matplotlib.lines.Line2D at 0x21608ca2c70>,\n",
       "  <matplotlib.lines.Line2D at 0x21608ca2fd0>],\n",
       " 'boxes': [<matplotlib.lines.Line2D at 0x21608ca2250>],\n",
       " 'medians': [<matplotlib.lines.Line2D at 0x21608cad370>],\n",
       " 'fliers': [<matplotlib.lines.Line2D at 0x21608cad670>],\n",
       " 'means': []}"
      ]
     },
     "execution_count": 70,
     "metadata": {},
     "output_type": "execute_result"
    },
    {
     "data": {
      "image/png": "[encoded data removed]",
      "text/plain": [
       "<Figure size 432x288 with 1 Axes>"
      ]
     },
     "metadata": {
      "needs_background": "light"
     },
     "output_type": "display_data"
    }
   ],
   "source": [
    "fig,ax=plt.subplots()\n",
    "ax.boxplot(df[\"cnt_loans90\"])"
   ]
  },
  {
   "cell_type": "code",
   "execution_count": 32,
   "metadata": {},
   "outputs": [
    {
     "data": {
      "text/plain": [
       "{'whiskers': [<matplotlib.lines.Line2D at 0x196c4f02f40>,\n",
       "  <matplotlib.lines.Line2D at 0x196c4f102e0>],\n",
       " 'caps': [<matplotlib.lines.Line2D at 0x196c4f10640>,\n",
       "  <matplotlib.lines.Line2D at 0x196c4f109a0>],\n",
       " 'boxes': [<matplotlib.lines.Line2D at 0x196c4f02be0>],\n",
       " 'medians': [<matplotlib.lines.Line2D at 0x196c4f10d00>],\n",
       " 'fliers': [<matplotlib.lines.Line2D at 0x196c4f1a040>],\n",
       " 'means': []}"
      ]
     },
     "execution_count": 32,
     "metadata": {},
     "output_type": "execute_result"
    },
    {
     "data": {
      "image/png": "[encoded data removed]",
      "text/plain": [
       "<Figure size 432x288 with 1 Axes>"
      ]
     },
     "metadata": {
      "needs_background": "light"
     },
     "output_type": "display_data"
    }
   ],
   "source": [
    "fig,ax=plt.subplots()\n",
    "ax.boxplot(df[\"amnt_loans90\"])"
   ]
  },
  {
   "cell_type": "code",
   "execution_count": 33,
   "metadata": {},
   "outputs": [
    {
     "data": {
      "text/plain": [
       "{'whiskers': [<matplotlib.lines.Line2D at 0x196c4f58ee0>,\n",
       "  <matplotlib.lines.Line2D at 0x196c4f65280>],\n",
       " 'caps': [<matplotlib.lines.Line2D at 0x196c4f655e0>,\n",
       "  <matplotlib.lines.Line2D at 0x196c4f65940>],\n",
       " 'boxes': [<matplotlib.lines.Line2D at 0x196c4f58b80>],\n",
       " 'medians': [<matplotlib.lines.Line2D at 0x196c4f65ca0>],\n",
       " 'fliers': [<matplotlib.lines.Line2D at 0x196c4f65fa0>],\n",
       " 'means': []}"
      ]
     },
     "execution_count": 33,
     "metadata": {},
     "output_type": "execute_result"
    },
    {
     "data": {
      "image/png": "[encoded data removed]",
      "text/plain": [
       "<Figure size 432x288 with 1 Axes>"
      ]
     },
     "metadata": {
      "needs_background": "light"
     },
     "output_type": "display_data"
    }
   ],
   "source": [
    "fig,ax=plt.subplots()\n",
    "ax.boxplot(df[\"maxamnt_loans90\"])"
   ]
  },
  {
   "cell_type": "code",
   "execution_count": 34,
   "metadata": {},
   "outputs": [
    {
     "data": {
      "text/plain": [
       "{'whiskers': [<matplotlib.lines.Line2D at 0x196c4fb7940>,\n",
       "  <matplotlib.lines.Line2D at 0x196c4fb7ca0>],\n",
       " 'caps': [<matplotlib.lines.Line2D at 0x196c4fc2040>,\n",
       "  <matplotlib.lines.Line2D at 0x196c4fc23a0>],\n",
       " 'boxes': [<matplotlib.lines.Line2D at 0x196c4fb75e0>],\n",
       " 'medians': [<matplotlib.lines.Line2D at 0x196c4fc2700>],\n",
       " 'fliers': [<matplotlib.lines.Line2D at 0x196c4fc2a00>],\n",
       " 'means': []}"
      ]
     },
     "execution_count": 34,
     "metadata": {},
     "output_type": "execute_result"
    },
    {
     "data": {
      "image/png": "[encoded data removed]",
      "text/plain": [
       "<Figure size 432x288 with 1 Axes>"
      ]
     },
     "metadata": {
      "needs_background": "light"
     },
     "output_type": "display_data"
    }
   ],
   "source": [
    "fig,ax=plt.subplots()\n",
    "ax.boxplot(df[\"payback30\"])"
   ]
  },
  {
   "cell_type": "code",
   "execution_count": 53,
   "metadata": {},
   "outputs": [],
   "source": [
    "median6=df[\"payback90\"].median()"
   ]
  },
  {
   "cell_type": "code",
   "execution_count": 54,
   "metadata": {},
   "outputs": [
    {
     "data": {
      "text/plain": [
       "1.6666666666666698"
      ]
     },
     "execution_count": 54,
     "metadata": {},
     "output_type": "execute_result"
    }
   ],
   "source": [
    "median6"
   ]
  },
  {
   "cell_type": "code",
   "execution_count": 55,
   "metadata": {},
   "outputs": [],
   "source": [
    "df[\"payback90\"]=df[\"payback90\"].mask(df[\"payback90\"]>1.66,median6)"
   ]
  },
  {
   "cell_type": "code",
   "execution_count": 56,
   "metadata": {},
   "outputs": [
    {
     "data": {
      "text/plain": [
       "{'whiskers': [<matplotlib.lines.Line2D at 0x216023a61f0>,\n",
       "  <matplotlib.lines.Line2D at 0x216023a6550>],\n",
       " 'caps': [<matplotlib.lines.Line2D at 0x216023a68b0>,\n",
       "  <matplotlib.lines.Line2D at 0x216023a6c10>],\n",
       " 'boxes': [<matplotlib.lines.Line2D at 0x21602397e50>],\n",
       " 'medians': [<matplotlib.lines.Line2D at 0x216023a6f70>],\n",
       " 'fliers': [<matplotlib.lines.Line2D at 0x216023ae2b0>],\n",
       " 'means': []}"
      ]
     },
     "execution_count": 56,
     "metadata": {},
     "output_type": "execute_result"
    },
    {
     "data": {
      "image/png": "[encoded data removed]",
      "text/plain": [
       "<Figure size 432x288 with 1 Axes>"
      ]
     },
     "metadata": {
      "needs_background": "light"
     },
     "output_type": "display_data"
    }
   ],
   "source": [
    "fig,ax=plt.subplots()\n",
    "ax.boxplot(df[\"payback90\"])"
   ]
  },
  {
   "cell_type": "code",
   "execution_count": 36,
   "metadata": {},
   "outputs": [],
   "source": [
    "#Lets also visualize on the target variable which is label in this case"
   ]
  },
  {
   "cell_type": "code",
   "execution_count": 101,
   "metadata": {},
   "outputs": [
    {
     "data": {
      "image/png": "[encoded data removed]",
      "text/plain": [
       "<Figure size 360x360 with 1 Axes>"
      ]
     },
     "metadata": {
      "needs_background": "light"
     },
     "output_type": "display_data"
    }
   ],
   "source": [
    "g=sns.catplot(x=\"label\",data=df,kind=\"count\",palette=\"PRGn\",alpha=1)\n",
    "g.set(xlabel=\"Label\",ylabel=\"Count\")\n",
    "plt.show()"
   ]
  },
  {
   "cell_type": "code",
   "execution_count": 38,
   "metadata": {},
   "outputs": [],
   "source": [
    "#Correlation matrix: To figure out which data is most closely related"
   ]
  },
  {
   "cell_type": "code",
   "execution_count": 102,
   "metadata": {},
   "outputs": [
    {
     "data": {
      "text/html": [
       "<div>\n",
       "<style scoped>\n",
       "    .dataframe tbody tr th:only-of-type {\n",
       "        vertical-align: middle;\n",
       "    }\n",
       "\n",
       "    .dataframe tbody tr th {\n",
       "        vertical-align: top;\n",
       "    }\n",
       "\n",
       "    .dataframe thead th {\n",
       "        text-align: right;\n",
       "    }\n",
       "</style>\n",
       "<table border=\"1\" class=\"dataframe\">\n",
       "  <thead>\n",
       "    <tr style=\"text-align: right;\">\n",
       "      <th></th>\n",
       "      <th>label</th>\n",
       "      <th>aon</th>\n",
       "      <th>daily_decr30</th>\n",
       "      <th>daily_decr90</th>\n",
       "      <th>rental30</th>\n",
       "      <th>rental90</th>\n",
       "      <th>last_rech_date_ma</th>\n",
       "      <th>last_rech_date_da</th>\n",
       "      <th>last_rech_amt_ma</th>\n",
       "      <th>cnt_ma_rech30</th>\n",
       "      <th>...</th>\n",
       "      <th>cnt_loans30</th>\n",
       "      <th>amnt_loans30</th>\n",
       "      <th>maxamnt_loans30</th>\n",
       "      <th>medianamnt_loans30</th>\n",
       "      <th>cnt_loans90</th>\n",
       "      <th>amnt_loans90</th>\n",
       "      <th>maxamnt_loans90</th>\n",
       "      <th>medianamnt_loans90</th>\n",
       "      <th>payback30</th>\n",
       "      <th>payback90</th>\n",
       "    </tr>\n",
       "  </thead>\n",
       "  <tbody>\n",
       "    <tr>\n",
       "      <th>label</th>\n",
       "      <td>1.000000</td>\n",
       "      <td>0.100957</td>\n",
       "      <td>0.182910</td>\n",
       "      <td>0.183819</td>\n",
       "      <td>0.106085</td>\n",
       "      <td>0.113230</td>\n",
       "      <td>0.037004</td>\n",
       "      <td>0.001711</td>\n",
       "      <td>0.275742</td>\n",
       "      <td>0.366925</td>\n",
       "      <td>...</td>\n",
       "      <td>0.241028</td>\n",
       "      <td>0.257536</td>\n",
       "      <td>-0.047352</td>\n",
       "      <td>0.044589</td>\n",
       "      <td>0.267074</td>\n",
       "      <td>0.199788</td>\n",
       "      <td>-0.037469</td>\n",
       "      <td>0.035747</td>\n",
       "      <td>NaN</td>\n",
       "      <td>0.281385</td>\n",
       "    </tr>\n",
       "    <tr>\n",
       "      <th>aon</th>\n",
       "      <td>0.100957</td>\n",
       "      <td>1.000000</td>\n",
       "      <td>0.102231</td>\n",
       "      <td>0.101988</td>\n",
       "      <td>0.062048</td>\n",
       "      <td>0.069372</td>\n",
       "      <td>0.032604</td>\n",
       "      <td>0.002271</td>\n",
       "      <td>0.090256</td>\n",
       "      <td>0.063430</td>\n",
       "      <td>...</td>\n",
       "      <td>0.090936</td>\n",
       "      <td>0.093648</td>\n",
       "      <td>0.000632</td>\n",
       "      <td>-0.005773</td>\n",
       "      <td>0.116982</td>\n",
       "      <td>0.099071</td>\n",
       "      <td>0.014474</td>\n",
       "      <td>-0.014204</td>\n",
       "      <td>NaN</td>\n",
       "      <td>0.137800</td>\n",
       "    </tr>\n",
       "    <tr>\n",
       "      <th>daily_decr30</th>\n",
       "      <td>0.182910</td>\n",
       "      <td>0.102231</td>\n",
       "      <td>1.000000</td>\n",
       "      <td>0.999331</td>\n",
       "      <td>0.442096</td>\n",
       "      <td>0.505741</td>\n",
       "      <td>0.160002</td>\n",
       "      <td>-0.001363</td>\n",
       "      <td>0.271157</td>\n",
       "      <td>0.344509</td>\n",
       "      <td>...</td>\n",
       "      <td>0.197808</td>\n",
       "      <td>0.252009</td>\n",
       "      <td>-0.097584</td>\n",
       "      <td>0.017473</td>\n",
       "      <td>0.294072</td>\n",
       "      <td>0.370709</td>\n",
       "      <td>-0.072907</td>\n",
       "      <td>-0.016060</td>\n",
       "      <td>NaN</td>\n",
       "      <td>0.350210</td>\n",
       "    </tr>\n",
       "    <tr>\n",
       "      <th>daily_decr90</th>\n",
       "      <td>0.183819</td>\n",
       "      <td>0.101988</td>\n",
       "      <td>0.999331</td>\n",
       "      <td>1.000000</td>\n",
       "      <td>0.442409</td>\n",
       "      <td>0.506619</td>\n",
       "      <td>0.160407</td>\n",
       "      <td>-0.001306</td>\n",
       "      <td>0.271939</td>\n",
       "      <td>0.343185</td>\n",
       "      <td>...</td>\n",
       "      <td>0.196198</td>\n",
       "      <td>0.250598</td>\n",
       "      <td>-0.100463</td>\n",
       "      <td>0.017719</td>\n",
       "      <td>0.293582</td>\n",
       "      <td>0.370646</td>\n",
       "      <td>-0.075221</td>\n",
       "      <td>-0.016116</td>\n",
       "      <td>NaN</td>\n",
       "      <td>0.350206</td>\n",
       "    </tr>\n",
       "    <tr>\n",
       "      <th>rental30</th>\n",
       "      <td>0.106085</td>\n",
       "      <td>0.062048</td>\n",
       "      <td>0.442096</td>\n",
       "      <td>0.442409</td>\n",
       "      <td>1.000000</td>\n",
       "      <td>0.965584</td>\n",
       "      <td>0.098786</td>\n",
       "      <td>0.002385</td>\n",
       "      <td>0.223696</td>\n",
       "      <td>0.380281</td>\n",
       "      <td>...</td>\n",
       "      <td>0.241788</td>\n",
       "      <td>0.257451</td>\n",
       "      <td>-0.036048</td>\n",
       "      <td>-0.030403</td>\n",
       "      <td>0.281616</td>\n",
       "      <td>0.329970</td>\n",
       "      <td>-0.028414</td>\n",
       "      <td>-0.052080</td>\n",
       "      <td>NaN</td>\n",
       "      <td>0.333667</td>\n",
       "    </tr>\n",
       "    <tr>\n",
       "      <th>rental90</th>\n",
       "      <td>0.113230</td>\n",
       "      <td>0.069372</td>\n",
       "      <td>0.505741</td>\n",
       "      <td>0.506619</td>\n",
       "      <td>0.965584</td>\n",
       "      <td>1.000000</td>\n",
       "      <td>0.115032</td>\n",
       "      <td>0.002166</td>\n",
       "      <td>0.232063</td>\n",
       "      <td>0.370178</td>\n",
       "      <td>...</td>\n",
       "      <td>0.228042</td>\n",
       "      <td>0.248381</td>\n",
       "      <td>-0.062166</td>\n",
       "      <td>-0.023420</td>\n",
       "      <td>0.285669</td>\n",
       "      <td>0.340559</td>\n",
       "      <td>-0.046561</td>\n",
       "      <td>-0.049604</td>\n",
       "      <td>NaN</td>\n",
       "      <td>0.343414</td>\n",
       "    </tr>\n",
       "    <tr>\n",
       "      <th>last_rech_date_ma</th>\n",
       "      <td>0.037004</td>\n",
       "      <td>0.032604</td>\n",
       "      <td>0.160002</td>\n",
       "      <td>0.160407</td>\n",
       "      <td>0.098786</td>\n",
       "      <td>0.115032</td>\n",
       "      <td>1.000000</td>\n",
       "      <td>0.001433</td>\n",
       "      <td>0.232706</td>\n",
       "      <td>0.125704</td>\n",
       "      <td>...</td>\n",
       "      <td>0.090458</td>\n",
       "      <td>0.095514</td>\n",
       "      <td>-0.030237</td>\n",
       "      <td>0.006108</td>\n",
       "      <td>0.123596</td>\n",
       "      <td>0.037166</td>\n",
       "      <td>-0.020972</td>\n",
       "      <td>-0.002194</td>\n",
       "      <td>NaN</td>\n",
       "      <td>0.092334</td>\n",
       "    </tr>\n",
       "    <tr>\n",
       "      <th>last_rech_date_da</th>\n",
       "      <td>0.001711</td>\n",
       "      <td>0.002271</td>\n",
       "      <td>-0.001363</td>\n",
       "      <td>-0.001306</td>\n",
       "      <td>0.002385</td>\n",
       "      <td>0.002166</td>\n",
       "      <td>0.001433</td>\n",
       "      <td>1.000000</td>\n",
       "      <td>-0.002282</td>\n",
       "      <td>0.001186</td>\n",
       "      <td>...</td>\n",
       "      <td>0.000970</td>\n",
       "      <td>0.000562</td>\n",
       "      <td>0.003949</td>\n",
       "      <td>0.000061</td>\n",
       "      <td>-0.000731</td>\n",
       "      <td>0.000519</td>\n",
       "      <td>0.001417</td>\n",
       "      <td>-0.002239</td>\n",
       "      <td>NaN</td>\n",
       "      <td>-0.000860</td>\n",
       "    </tr>\n",
       "    <tr>\n",
       "      <th>last_rech_amt_ma</th>\n",
       "      <td>0.275742</td>\n",
       "      <td>0.090256</td>\n",
       "      <td>0.271157</td>\n",
       "      <td>0.271939</td>\n",
       "      <td>0.223696</td>\n",
       "      <td>0.232063</td>\n",
       "      <td>0.232706</td>\n",
       "      <td>-0.002282</td>\n",
       "      <td>1.000000</td>\n",
       "      <td>0.454179</td>\n",
       "      <td>...</td>\n",
       "      <td>0.260377</td>\n",
       "      <td>0.273544</td>\n",
       "      <td>-0.030797</td>\n",
       "      <td>0.012452</td>\n",
       "      <td>0.305397</td>\n",
       "      <td>0.179270</td>\n",
       "      <td>-0.019277</td>\n",
       "      <td>-0.002172</td>\n",
       "      <td>NaN</td>\n",
       "      <td>0.279815</td>\n",
       "    </tr>\n",
       "    <tr>\n",
       "      <th>cnt_ma_rech30</th>\n",
       "      <td>0.366925</td>\n",
       "      <td>0.063430</td>\n",
       "      <td>0.344509</td>\n",
       "      <td>0.343185</td>\n",
       "      <td>0.380281</td>\n",
       "      <td>0.370178</td>\n",
       "      <td>0.125704</td>\n",
       "      <td>0.001186</td>\n",
       "      <td>0.454179</td>\n",
       "      <td>1.000000</td>\n",
       "      <td>...</td>\n",
       "      <td>0.589093</td>\n",
       "      <td>0.584215</td>\n",
       "      <td>0.039841</td>\n",
       "      <td>-0.045488</td>\n",
       "      <td>0.585808</td>\n",
       "      <td>0.449445</td>\n",
       "      <td>0.033224</td>\n",
       "      <td>-0.061017</td>\n",
       "      <td>NaN</td>\n",
       "      <td>0.617641</td>\n",
       "    </tr>\n",
       "    <tr>\n",
       "      <th>fr_ma_rech30</th>\n",
       "      <td>0.001330</td>\n",
       "      <td>0.002709</td>\n",
       "      <td>-0.000784</td>\n",
       "      <td>-0.000640</td>\n",
       "      <td>0.000414</td>\n",
       "      <td>0.000686</td>\n",
       "      <td>0.000204</td>\n",
       "      <td>0.001158</td>\n",
       "      <td>-0.000954</td>\n",
       "      <td>0.002861</td>\n",
       "      <td>...</td>\n",
       "      <td>0.004035</td>\n",
       "      <td>0.003575</td>\n",
       "      <td>-0.001492</td>\n",
       "      <td>-0.000331</td>\n",
       "      <td>0.004300</td>\n",
       "      <td>0.002634</td>\n",
       "      <td>-0.001727</td>\n",
       "      <td>-0.001292</td>\n",
       "      <td>NaN</td>\n",
       "      <td>0.003285</td>\n",
       "    </tr>\n",
       "    <tr>\n",
       "      <th>sumamnt_ma_rech30</th>\n",
       "      <td>0.202828</td>\n",
       "      <td>0.047432</td>\n",
       "      <td>0.268160</td>\n",
       "      <td>0.267438</td>\n",
       "      <td>0.217877</td>\n",
       "      <td>0.212580</td>\n",
       "      <td>0.019083</td>\n",
       "      <td>0.000046</td>\n",
       "      <td>0.338495</td>\n",
       "      <td>0.470806</td>\n",
       "      <td>...</td>\n",
       "      <td>0.307150</td>\n",
       "      <td>0.321874</td>\n",
       "      <td>0.020908</td>\n",
       "      <td>-0.034460</td>\n",
       "      <td>0.300348</td>\n",
       "      <td>0.484761</td>\n",
       "      <td>0.015316</td>\n",
       "      <td>-0.042244</td>\n",
       "      <td>NaN</td>\n",
       "      <td>0.326073</td>\n",
       "    </tr>\n",
       "    <tr>\n",
       "      <th>medianamnt_ma_rech30</th>\n",
       "      <td>0.141490</td>\n",
       "      <td>0.091504</td>\n",
       "      <td>0.165423</td>\n",
       "      <td>0.164926</td>\n",
       "      <td>0.079691</td>\n",
       "      <td>0.078110</td>\n",
       "      <td>0.080539</td>\n",
       "      <td>0.001037</td>\n",
       "      <td>0.459669</td>\n",
       "      <td>0.155473</td>\n",
       "      <td>...</td>\n",
       "      <td>0.053639</td>\n",
       "      <td>0.090080</td>\n",
       "      <td>-0.027145</td>\n",
       "      <td>0.032477</td>\n",
       "      <td>0.088956</td>\n",
       "      <td>0.014546</td>\n",
       "      <td>-0.015855</td>\n",
       "      <td>0.022692</td>\n",
       "      <td>NaN</td>\n",
       "      <td>0.057329</td>\n",
       "    </tr>\n",
       "    <tr>\n",
       "      <th>medianmarechprebal30</th>\n",
       "      <td>-0.004829</td>\n",
       "      <td>0.001739</td>\n",
       "      <td>0.000262</td>\n",
       "      <td>0.000246</td>\n",
       "      <td>-0.001279</td>\n",
       "      <td>-0.001636</td>\n",
       "      <td>0.001441</td>\n",
       "      <td>0.002849</td>\n",
       "      <td>-0.002386</td>\n",
       "      <td>-0.000807</td>\n",
       "      <td>...</td>\n",
       "      <td>-0.000555</td>\n",
       "      <td>-0.001355</td>\n",
       "      <td>-0.000341</td>\n",
       "      <td>-0.002289</td>\n",
       "      <td>0.000442</td>\n",
       "      <td>0.000736</td>\n",
       "      <td>0.000861</td>\n",
       "      <td>-0.001927</td>\n",
       "      <td>NaN</td>\n",
       "      <td>0.000465</td>\n",
       "    </tr>\n",
       "    <tr>\n",
       "      <th>cnt_ma_rech90</th>\n",
       "      <td>0.236392</td>\n",
       "      <td>0.034799</td>\n",
       "      <td>0.401111</td>\n",
       "      <td>0.401220</td>\n",
       "      <td>0.365262</td>\n",
       "      <td>0.377934</td>\n",
       "      <td>0.039854</td>\n",
       "      <td>0.001272</td>\n",
       "      <td>0.200648</td>\n",
       "      <td>0.553687</td>\n",
       "      <td>...</td>\n",
       "      <td>0.391959</td>\n",
       "      <td>0.392005</td>\n",
       "      <td>0.009958</td>\n",
       "      <td>-0.053637</td>\n",
       "      <td>0.399356</td>\n",
       "      <td>0.783419</td>\n",
       "      <td>0.012161</td>\n",
       "      <td>-0.072481</td>\n",
       "      <td>NaN</td>\n",
       "      <td>0.458535</td>\n",
       "    </tr>\n",
       "    <tr>\n",
       "      <th>fr_ma_rech90</th>\n",
       "      <td>0.084385</td>\n",
       "      <td>0.033147</td>\n",
       "      <td>0.015849</td>\n",
       "      <td>0.016279</td>\n",
       "      <td>-0.017968</td>\n",
       "      <td>-0.014851</td>\n",
       "      <td>0.024422</td>\n",
       "      <td>0.000798</td>\n",
       "      <td>0.179191</td>\n",
       "      <td>0.073201</td>\n",
       "      <td>...</td>\n",
       "      <td>0.042557</td>\n",
       "      <td>0.042280</td>\n",
       "      <td>-0.017608</td>\n",
       "      <td>0.020626</td>\n",
       "      <td>0.079128</td>\n",
       "      <td>-0.132035</td>\n",
       "      <td>-0.007096</td>\n",
       "      <td>0.016964</td>\n",
       "      <td>NaN</td>\n",
       "      <td>0.028951</td>\n",
       "    </tr>\n",
       "    <tr>\n",
       "      <th>sumamnt_ma_rech90</th>\n",
       "      <td>0.205793</td>\n",
       "      <td>0.061417</td>\n",
       "      <td>0.372728</td>\n",
       "      <td>0.372785</td>\n",
       "      <td>0.272623</td>\n",
       "      <td>0.281979</td>\n",
       "      <td>0.044026</td>\n",
       "      <td>-0.000414</td>\n",
       "      <td>0.327075</td>\n",
       "      <td>0.419274</td>\n",
       "      <td>...</td>\n",
       "      <td>0.274511</td>\n",
       "      <td>0.299272</td>\n",
       "      <td>-0.014610</td>\n",
       "      <td>-0.022133</td>\n",
       "      <td>0.295396</td>\n",
       "      <td>0.562609</td>\n",
       "      <td>-0.009124</td>\n",
       "      <td>-0.042386</td>\n",
       "      <td>NaN</td>\n",
       "      <td>0.330717</td>\n",
       "    </tr>\n",
       "    <tr>\n",
       "      <th>medianamnt_ma_rech90</th>\n",
       "      <td>0.120855</td>\n",
       "      <td>0.093469</td>\n",
       "      <td>0.147084</td>\n",
       "      <td>0.147556</td>\n",
       "      <td>0.043724</td>\n",
       "      <td>0.050242</td>\n",
       "      <td>0.096751</td>\n",
       "      <td>0.000219</td>\n",
       "      <td>0.463504</td>\n",
       "      <td>0.063751</td>\n",
       "      <td>...</td>\n",
       "      <td>-0.004376</td>\n",
       "      <td>0.032781</td>\n",
       "      <td>-0.049096</td>\n",
       "      <td>0.036475</td>\n",
       "      <td>0.030490</td>\n",
       "      <td>-0.023450</td>\n",
       "      <td>-0.040043</td>\n",
       "      <td>0.031696</td>\n",
       "      <td>NaN</td>\n",
       "      <td>0.000347</td>\n",
       "    </tr>\n",
       "    <tr>\n",
       "      <th>medianmarechprebal90</th>\n",
       "      <td>0.039300</td>\n",
       "      <td>0.020144</td>\n",
       "      <td>0.012196</td>\n",
       "      <td>0.012217</td>\n",
       "      <td>-0.002466</td>\n",
       "      <td>-0.000562</td>\n",
       "      <td>0.012177</td>\n",
       "      <td>0.004158</td>\n",
       "      <td>0.082642</td>\n",
       "      <td>0.012800</td>\n",
       "      <td>...</td>\n",
       "      <td>-0.040457</td>\n",
       "      <td>-0.022287</td>\n",
       "      <td>-0.023896</td>\n",
       "      <td>0.030534</td>\n",
       "      <td>-0.037621</td>\n",
       "      <td>-0.036412</td>\n",
       "      <td>-0.026858</td>\n",
       "      <td>0.032453</td>\n",
       "      <td>NaN</td>\n",
       "      <td>-0.049944</td>\n",
       "    </tr>\n",
       "    <tr>\n",
       "      <th>cnt_da_rech30</th>\n",
       "      <td>0.003827</td>\n",
       "      <td>0.000903</td>\n",
       "      <td>0.002211</td>\n",
       "      <td>0.002137</td>\n",
       "      <td>0.000699</td>\n",
       "      <td>-0.000576</td>\n",
       "      <td>0.004107</td>\n",
       "      <td>-0.003628</td>\n",
       "      <td>0.001367</td>\n",
       "      <td>0.005199</td>\n",
       "      <td>...</td>\n",
       "      <td>0.000868</td>\n",
       "      <td>0.000698</td>\n",
       "      <td>-0.000339</td>\n",
       "      <td>0.000049</td>\n",
       "      <td>0.002633</td>\n",
       "      <td>0.003369</td>\n",
       "      <td>-0.000578</td>\n",
       "      <td>-0.001365</td>\n",
       "      <td>NaN</td>\n",
       "      <td>0.003454</td>\n",
       "    </tr>\n",
       "    <tr>\n",
       "      <th>fr_da_rech30</th>\n",
       "      <td>-0.000027</td>\n",
       "      <td>-0.002411</td>\n",
       "      <td>-0.001739</td>\n",
       "      <td>-0.001744</td>\n",
       "      <td>-0.003229</td>\n",
       "      <td>-0.003025</td>\n",
       "      <td>-0.003364</td>\n",
       "      <td>-0.000074</td>\n",
       "      <td>-0.002843</td>\n",
       "      <td>0.000116</td>\n",
       "      <td>...</td>\n",
       "      <td>0.000782</td>\n",
       "      <td>0.000003</td>\n",
       "      <td>0.001561</td>\n",
       "      <td>-0.001141</td>\n",
       "      <td>-0.000264</td>\n",
       "      <td>-0.001593</td>\n",
       "      <td>-0.001278</td>\n",
       "      <td>-0.001623</td>\n",
       "      <td>NaN</td>\n",
       "      <td>-0.000542</td>\n",
       "    </tr>\n",
       "    <tr>\n",
       "      <th>cnt_da_rech90</th>\n",
       "      <td>0.002999</td>\n",
       "      <td>0.017815</td>\n",
       "      <td>0.051981</td>\n",
       "      <td>0.052028</td>\n",
       "      <td>0.042474</td>\n",
       "      <td>0.047140</td>\n",
       "      <td>0.011374</td>\n",
       "      <td>-0.001859</td>\n",
       "      <td>0.018909</td>\n",
       "      <td>0.016049</td>\n",
       "      <td>...</td>\n",
       "      <td>0.020133</td>\n",
       "      <td>0.022220</td>\n",
       "      <td>0.006767</td>\n",
       "      <td>-0.003351</td>\n",
       "      <td>0.023450</td>\n",
       "      <td>0.020909</td>\n",
       "      <td>0.006691</td>\n",
       "      <td>-0.003094</td>\n",
       "      <td>NaN</td>\n",
       "      <td>0.026042</td>\n",
       "    </tr>\n",
       "    <tr>\n",
       "      <th>fr_da_rech90</th>\n",
       "      <td>-0.005418</td>\n",
       "      <td>0.009143</td>\n",
       "      <td>0.030266</td>\n",
       "      <td>0.030349</td>\n",
       "      <td>0.031347</td>\n",
       "      <td>0.031610</td>\n",
       "      <td>0.005305</td>\n",
       "      <td>-0.000203</td>\n",
       "      <td>0.009060</td>\n",
       "      <td>0.004046</td>\n",
       "      <td>...</td>\n",
       "      <td>0.009667</td>\n",
       "      <td>0.012165</td>\n",
       "      <td>0.005659</td>\n",
       "      <td>-0.002234</td>\n",
       "      <td>0.012189</td>\n",
       "      <td>0.011501</td>\n",
       "      <td>0.004767</td>\n",
       "      <td>-0.000949</td>\n",
       "      <td>NaN</td>\n",
       "      <td>0.008527</td>\n",
       "    </tr>\n",
       "    <tr>\n",
       "      <th>cnt_loans30</th>\n",
       "      <td>0.241028</td>\n",
       "      <td>0.090936</td>\n",
       "      <td>0.197808</td>\n",
       "      <td>0.196198</td>\n",
       "      <td>0.241788</td>\n",
       "      <td>0.228042</td>\n",
       "      <td>0.090458</td>\n",
       "      <td>0.000970</td>\n",
       "      <td>0.260377</td>\n",
       "      <td>0.589093</td>\n",
       "      <td>...</td>\n",
       "      <td>1.000000</td>\n",
       "      <td>0.942512</td>\n",
       "      <td>0.374845</td>\n",
       "      <td>-0.053604</td>\n",
       "      <td>0.888474</td>\n",
       "      <td>0.497755</td>\n",
       "      <td>0.296610</td>\n",
       "      <td>-0.077046</td>\n",
       "      <td>NaN</td>\n",
       "      <td>0.707892</td>\n",
       "    </tr>\n",
       "    <tr>\n",
       "      <th>amnt_loans30</th>\n",
       "      <td>0.257536</td>\n",
       "      <td>0.093648</td>\n",
       "      <td>0.252009</td>\n",
       "      <td>0.250598</td>\n",
       "      <td>0.257451</td>\n",
       "      <td>0.248381</td>\n",
       "      <td>0.095514</td>\n",
       "      <td>0.000562</td>\n",
       "      <td>0.273544</td>\n",
       "      <td>0.584215</td>\n",
       "      <td>...</td>\n",
       "      <td>0.942512</td>\n",
       "      <td>1.000000</td>\n",
       "      <td>0.386584</td>\n",
       "      <td>-0.023572</td>\n",
       "      <td>0.851611</td>\n",
       "      <td>0.482570</td>\n",
       "      <td>0.305899</td>\n",
       "      <td>-0.049293</td>\n",
       "      <td>NaN</td>\n",
       "      <td>0.671310</td>\n",
       "    </tr>\n",
       "    <tr>\n",
       "      <th>maxamnt_loans30</th>\n",
       "      <td>-0.047352</td>\n",
       "      <td>0.000632</td>\n",
       "      <td>-0.097584</td>\n",
       "      <td>-0.100463</td>\n",
       "      <td>-0.036048</td>\n",
       "      <td>-0.062166</td>\n",
       "      <td>-0.030237</td>\n",
       "      <td>0.003949</td>\n",
       "      <td>-0.030797</td>\n",
       "      <td>0.039841</td>\n",
       "      <td>...</td>\n",
       "      <td>0.374845</td>\n",
       "      <td>0.386584</td>\n",
       "      <td>1.000000</td>\n",
       "      <td>0.031069</td>\n",
       "      <td>0.268620</td>\n",
       "      <td>0.091276</td>\n",
       "      <td>0.786565</td>\n",
       "      <td>0.015306</td>\n",
       "      <td>NaN</td>\n",
       "      <td>0.073769</td>\n",
       "    </tr>\n",
       "    <tr>\n",
       "      <th>medianamnt_loans30</th>\n",
       "      <td>0.044589</td>\n",
       "      <td>-0.005773</td>\n",
       "      <td>0.017473</td>\n",
       "      <td>0.017719</td>\n",
       "      <td>-0.030403</td>\n",
       "      <td>-0.023420</td>\n",
       "      <td>0.006108</td>\n",
       "      <td>0.000061</td>\n",
       "      <td>0.012452</td>\n",
       "      <td>-0.045488</td>\n",
       "      <td>...</td>\n",
       "      <td>-0.053604</td>\n",
       "      <td>-0.023572</td>\n",
       "      <td>0.031069</td>\n",
       "      <td>1.000000</td>\n",
       "      <td>-0.041257</td>\n",
       "      <td>-0.067580</td>\n",
       "      <td>0.024585</td>\n",
       "      <td>0.911604</td>\n",
       "      <td>NaN</td>\n",
       "      <td>-0.070160</td>\n",
       "    </tr>\n",
       "    <tr>\n",
       "      <th>cnt_loans90</th>\n",
       "      <td>0.267074</td>\n",
       "      <td>0.116982</td>\n",
       "      <td>0.294072</td>\n",
       "      <td>0.293582</td>\n",
       "      <td>0.281616</td>\n",
       "      <td>0.285669</td>\n",
       "      <td>0.123596</td>\n",
       "      <td>-0.000731</td>\n",
       "      <td>0.305397</td>\n",
       "      <td>0.585808</td>\n",
       "      <td>...</td>\n",
       "      <td>0.888474</td>\n",
       "      <td>0.851611</td>\n",
       "      <td>0.268620</td>\n",
       "      <td>-0.041257</td>\n",
       "      <td>1.000000</td>\n",
       "      <td>0.490657</td>\n",
       "      <td>0.319799</td>\n",
       "      <td>-0.076096</td>\n",
       "      <td>NaN</td>\n",
       "      <td>0.756772</td>\n",
       "    </tr>\n",
       "    <tr>\n",
       "      <th>amnt_loans90</th>\n",
       "      <td>0.199788</td>\n",
       "      <td>0.099071</td>\n",
       "      <td>0.370709</td>\n",
       "      <td>0.370646</td>\n",
       "      <td>0.329970</td>\n",
       "      <td>0.340559</td>\n",
       "      <td>0.037166</td>\n",
       "      <td>0.000519</td>\n",
       "      <td>0.179270</td>\n",
       "      <td>0.449445</td>\n",
       "      <td>...</td>\n",
       "      <td>0.497755</td>\n",
       "      <td>0.482570</td>\n",
       "      <td>0.091276</td>\n",
       "      <td>-0.067580</td>\n",
       "      <td>0.490657</td>\n",
       "      <td>1.000000</td>\n",
       "      <td>0.088628</td>\n",
       "      <td>-0.095160</td>\n",
       "      <td>NaN</td>\n",
       "      <td>0.552274</td>\n",
       "    </tr>\n",
       "    <tr>\n",
       "      <th>maxamnt_loans90</th>\n",
       "      <td>-0.037469</td>\n",
       "      <td>0.014474</td>\n",
       "      <td>-0.072907</td>\n",
       "      <td>-0.075221</td>\n",
       "      <td>-0.028414</td>\n",
       "      <td>-0.046561</td>\n",
       "      <td>-0.020972</td>\n",
       "      <td>0.001417</td>\n",
       "      <td>-0.019277</td>\n",
       "      <td>0.033224</td>\n",
       "      <td>...</td>\n",
       "      <td>0.296610</td>\n",
       "      <td>0.305899</td>\n",
       "      <td>0.786565</td>\n",
       "      <td>0.024585</td>\n",
       "      <td>0.319799</td>\n",
       "      <td>0.088628</td>\n",
       "      <td>1.000000</td>\n",
       "      <td>0.022779</td>\n",
       "      <td>NaN</td>\n",
       "      <td>0.102263</td>\n",
       "    </tr>\n",
       "    <tr>\n",
       "      <th>medianamnt_loans90</th>\n",
       "      <td>0.035747</td>\n",
       "      <td>-0.014204</td>\n",
       "      <td>-0.016060</td>\n",
       "      <td>-0.016116</td>\n",
       "      <td>-0.052080</td>\n",
       "      <td>-0.049604</td>\n",
       "      <td>-0.002194</td>\n",
       "      <td>-0.002239</td>\n",
       "      <td>-0.002172</td>\n",
       "      <td>-0.061017</td>\n",
       "      <td>...</td>\n",
       "      <td>-0.077046</td>\n",
       "      <td>-0.049293</td>\n",
       "      <td>0.015306</td>\n",
       "      <td>0.911604</td>\n",
       "      <td>-0.076096</td>\n",
       "      <td>-0.095160</td>\n",
       "      <td>0.022779</td>\n",
       "      <td>1.000000</td>\n",
       "      <td>NaN</td>\n",
       "      <td>-0.110139</td>\n",
       "    </tr>\n",
       "    <tr>\n",
       "      <th>payback30</th>\n",
       "      <td>NaN</td>\n",
       "      <td>NaN</td>\n",
       "      <td>NaN</td>\n",
       "      <td>NaN</td>\n",
       "      <td>NaN</td>\n",
       "      <td>NaN</td>\n",
       "      <td>NaN</td>\n",
       "      <td>NaN</td>\n",
       "      <td>NaN</td>\n",
       "      <td>NaN</td>\n",
       "      <td>...</td>\n",
       "      <td>NaN</td>\n",
       "      <td>NaN</td>\n",
       "      <td>NaN</td>\n",
       "      <td>NaN</td>\n",
       "      <td>NaN</td>\n",
       "      <td>NaN</td>\n",
       "      <td>NaN</td>\n",
       "      <td>NaN</td>\n",
       "      <td>NaN</td>\n",
       "      <td>NaN</td>\n",
       "    </tr>\n",
       "    <tr>\n",
       "      <th>payback90</th>\n",
       "      <td>0.281385</td>\n",
       "      <td>0.137800</td>\n",
       "      <td>0.350210</td>\n",
       "      <td>0.350206</td>\n",
       "      <td>0.333667</td>\n",
       "      <td>0.343414</td>\n",
       "      <td>0.092334</td>\n",
       "      <td>-0.000860</td>\n",
       "      <td>0.279815</td>\n",
       "      <td>0.617641</td>\n",
       "      <td>...</td>\n",
       "      <td>0.707892</td>\n",
       "      <td>0.671310</td>\n",
       "      <td>0.073769</td>\n",
       "      <td>-0.070160</td>\n",
       "      <td>0.756772</td>\n",
       "      <td>0.552274</td>\n",
       "      <td>0.102263</td>\n",
       "      <td>-0.110139</td>\n",
       "      <td>NaN</td>\n",
       "      <td>1.000000</td>\n",
       "    </tr>\n",
       "  </tbody>\n",
       "</table>\n",
       "<p>33 rows × 33 columns</p>\n",
       "</div>"
      ],
      "text/plain": [
       "                         label       aon  daily_decr30  daily_decr90  \\\n",
       "label                 1.000000  0.100957      0.182910      0.183819   \n",
       "aon                   0.100957  1.000000      0.102231      0.101988   \n",
       "daily_decr30          0.182910  0.102231      1.000000      0.999331   \n",
       "daily_decr90          0.183819  0.101988      0.999331      1.000000   \n",
       "rental30              0.106085  0.062048      0.442096      0.442409   \n",
       "rental90              0.113230  0.069372      0.505741      0.506619   \n",
       "last_rech_date_ma     0.037004  0.032604      0.160002      0.160407   \n",
       "last_rech_date_da     0.001711  0.002271     -0.001363     -0.001306   \n",
       "last_rech_amt_ma      0.275742  0.090256      0.271157      0.271939   \n",
       "cnt_ma_rech30         0.366925  0.063430      0.344509      0.343185   \n",
       "fr_ma_rech30          0.001330  0.002709     -0.000784     -0.000640   \n",
       "sumamnt_ma_rech30     0.202828  0.047432      0.268160      0.267438   \n",
       "medianamnt_ma_rech30  0.141490  0.091504      0.165423      0.164926   \n",
       "medianmarechprebal30 -0.004829  0.001739      0.000262      0.000246   \n",
       "cnt_ma_rech90         0.236392  0.034799      0.401111      0.401220   \n",
       "fr_ma_rech90          0.084385  0.033147      0.015849      0.016279   \n",
       "sumamnt_ma_rech90     0.205793  0.061417      0.372728      0.372785   \n",
       "medianamnt_ma_rech90  0.120855  0.093469      0.147084      0.147556   \n",
       "medianmarechprebal90  0.039300  0.020144      0.012196      0.012217   \n",
       "cnt_da_rech30         0.003827  0.000903      0.002211      0.002137   \n",
       "fr_da_rech30         -0.000027 -0.002411     -0.001739     -0.001744   \n",
       "cnt_da_rech90         0.002999  0.017815      0.051981      0.052028   \n",
       "fr_da_rech90         -0.005418  0.009143      0.030266      0.030349   \n",
       "cnt_loans30           0.241028  0.090936      0.197808      0.196198   \n",
       "amnt_loans30          0.257536  0.093648      0.252009      0.250598   \n",
       "maxamnt_loans30      -0.047352  0.000632     -0.097584     -0.100463   \n",
       "medianamnt_loans30    0.044589 -0.005773      0.017473      0.017719   \n",
       "cnt_loans90           0.267074  0.116982      0.294072      0.293582   \n",
       "amnt_loans90          0.199788  0.099071      0.370709      0.370646   \n",
       "maxamnt_loans90      -0.037469  0.014474     -0.072907     -0.075221   \n",
       "medianamnt_loans90    0.035747 -0.014204     -0.016060     -0.016116   \n",
       "payback30                  NaN       NaN           NaN           NaN   \n",
       "payback90             0.281385  0.137800      0.350210      0.350206   \n",
       "\n",
       "                      rental30  rental90  last_rech_date_ma  \\\n",
       "label                 0.106085  0.113230           0.037004   \n",
       "aon                   0.062048  0.069372           0.032604   \n",
       "daily_decr30          0.442096  0.505741           0.160002   \n",
       "daily_decr90          0.442409  0.506619           0.160407   \n",
       "rental30              1.000000  0.965584           0.098786   \n",
       "rental90              0.965584  1.000000           0.115032   \n",
       "last_rech_date_ma     0.098786  0.115032           1.000000   \n",
       "last_rech_date_da     0.002385  0.002166           0.001433   \n",
       "last_rech_amt_ma      0.223696  0.232063           0.232706   \n",
       "cnt_ma_rech30         0.380281  0.370178           0.125704   \n",
       "fr_ma_rech30          0.000414  0.000686           0.000204   \n",
       "sumamnt_ma_rech30     0.217877  0.212580           0.019083   \n",
       "medianamnt_ma_rech30  0.079691  0.078110           0.080539   \n",
       "medianmarechprebal30 -0.001279 -0.001636           0.001441   \n",
       "cnt_ma_rech90         0.365262  0.377934           0.039854   \n",
       "fr_ma_rech90         -0.017968 -0.014851           0.024422   \n",
       "sumamnt_ma_rech90     0.272623  0.281979           0.044026   \n",
       "medianamnt_ma_rech90  0.043724  0.050242           0.096751   \n",
       "medianmarechprebal90 -0.002466 -0.000562           0.012177   \n",
       "cnt_da_rech30         0.000699 -0.000576           0.004107   \n",
       "fr_da_rech30         -0.003229 -0.003025          -0.003364   \n",
       "cnt_da_rech90         0.042474  0.047140           0.011374   \n",
       "fr_da_rech90          0.031347  0.031610           0.005305   \n",
       "cnt_loans30           0.241788  0.228042           0.090458   \n",
       "amnt_loans30          0.257451  0.248381           0.095514   \n",
       "maxamnt_loans30      -0.036048 -0.062166          -0.030237   \n",
       "medianamnt_loans30   -0.030403 -0.023420           0.006108   \n",
       "cnt_loans90           0.281616  0.285669           0.123596   \n",
       "amnt_loans90          0.329970  0.340559           0.037166   \n",
       "maxamnt_loans90      -0.028414 -0.046561          -0.020972   \n",
       "medianamnt_loans90   -0.052080 -0.049604          -0.002194   \n",
       "payback30                  NaN       NaN                NaN   \n",
       "payback90             0.333667  0.343414           0.092334   \n",
       "\n",
       "                      last_rech_date_da  last_rech_amt_ma  cnt_ma_rech30  ...  \\\n",
       "label                          0.001711          0.275742       0.366925  ...   \n",
       "aon                            0.002271          0.090256       0.063430  ...   \n",
       "daily_decr30                  -0.001363          0.271157       0.344509  ...   \n",
       "daily_decr90                  -0.001306          0.271939       0.343185  ...   \n",
       "rental30                       0.002385          0.223696       0.380281  ...   \n",
       "rental90                       0.002166          0.232063       0.370178  ...   \n",
       "last_rech_date_ma              0.001433          0.232706       0.125704  ...   \n",
       "last_rech_date_da              1.000000         -0.002282       0.001186  ...   \n",
       "last_rech_amt_ma              -0.002282          1.000000       0.454179  ...   \n",
       "cnt_ma_rech30                  0.001186          0.454179       1.000000  ...   \n",
       "fr_ma_rech30                   0.001158         -0.000954       0.002861  ...   \n",
       "sumamnt_ma_rech30              0.000046          0.338495       0.470806  ...   \n",
       "medianamnt_ma_rech30           0.001037          0.459669       0.155473  ...   \n",
       "medianmarechprebal30           0.002849         -0.002386      -0.000807  ...   \n",
       "cnt_ma_rech90                  0.001272          0.200648       0.553687  ...   \n",
       "fr_ma_rech90                   0.000798          0.179191       0.073201  ...   \n",
       "sumamnt_ma_rech90             -0.000414          0.327075       0.419274  ...   \n",
       "medianamnt_ma_rech90           0.000219          0.463504       0.063751  ...   \n",
       "medianmarechprebal90           0.004158          0.082642       0.012800  ...   \n",
       "cnt_da_rech30                 -0.003628          0.001367       0.005199  ...   \n",
       "fr_da_rech30                  -0.000074         -0.002843       0.000116  ...   \n",
       "cnt_da_rech90                 -0.001859          0.018909       0.016049  ...   \n",
       "fr_da_rech90                  -0.000203          0.009060       0.004046  ...   \n",
       "cnt_loans30                    0.000970          0.260377       0.589093  ...   \n",
       "amnt_loans30                   0.000562          0.273544       0.584215  ...   \n",
       "maxamnt_loans30                0.003949         -0.030797       0.039841  ...   \n",
       "medianamnt_loans30             0.000061          0.012452      -0.045488  ...   \n",
       "cnt_loans90                   -0.000731          0.305397       0.585808  ...   \n",
       "amnt_loans90                   0.000519          0.179270       0.449445  ...   \n",
       "maxamnt_loans90                0.001417         -0.019277       0.033224  ...   \n",
       "medianamnt_loans90            -0.002239         -0.002172      -0.061017  ...   \n",
       "payback30                           NaN               NaN            NaN  ...   \n",
       "payback90                     -0.000860          0.279815       0.617641  ...   \n",
       "\n",
       "                      cnt_loans30  amnt_loans30  maxamnt_loans30  \\\n",
       "label                    0.241028      0.257536        -0.047352   \n",
       "aon                      0.090936      0.093648         0.000632   \n",
       "daily_decr30             0.197808      0.252009        -0.097584   \n",
       "daily_decr90             0.196198      0.250598        -0.100463   \n",
       "rental30                 0.241788      0.257451        -0.036048   \n",
       "rental90                 0.228042      0.248381        -0.062166   \n",
       "last_rech_date_ma        0.090458      0.095514        -0.030237   \n",
       "last_rech_date_da        0.000970      0.000562         0.003949   \n",
       "last_rech_amt_ma         0.260377      0.273544        -0.030797   \n",
       "cnt_ma_rech30            0.589093      0.584215         0.039841   \n",
       "fr_ma_rech30             0.004035      0.003575        -0.001492   \n",
       "sumamnt_ma_rech30        0.307150      0.321874         0.020908   \n",
       "medianamnt_ma_rech30     0.053639      0.090080        -0.027145   \n",
       "medianmarechprebal30    -0.000555     -0.001355        -0.000341   \n",
       "cnt_ma_rech90            0.391959      0.392005         0.009958   \n",
       "fr_ma_rech90             0.042557      0.042280        -0.017608   \n",
       "sumamnt_ma_rech90        0.274511      0.299272        -0.014610   \n",
       "medianamnt_ma_rech90    -0.004376      0.032781        -0.049096   \n",
       "medianmarechprebal90    -0.040457     -0.022287        -0.023896   \n",
       "cnt_da_rech30            0.000868      0.000698        -0.000339   \n",
       "fr_da_rech30             0.000782      0.000003         0.001561   \n",
       "cnt_da_rech90            0.020133      0.022220         0.006767   \n",
       "fr_da_rech90             0.009667      0.012165         0.005659   \n",
       "cnt_loans30              1.000000      0.942512         0.374845   \n",
       "amnt_loans30             0.942512      1.000000         0.386584   \n",
       "maxamnt_loans30          0.374845      0.386584         1.000000   \n",
       "medianamnt_loans30      -0.053604     -0.023572         0.031069   \n",
       "cnt_loans90              0.888474      0.851611         0.268620   \n",
       "amnt_loans90             0.497755      0.482570         0.091276   \n",
       "maxamnt_loans90          0.296610      0.305899         0.786565   \n",
       "medianamnt_loans90      -0.077046     -0.049293         0.015306   \n",
       "payback30                     NaN           NaN              NaN   \n",
       "payback90                0.707892      0.671310         0.073769   \n",
       "\n",
       "                      medianamnt_loans30  cnt_loans90  amnt_loans90  \\\n",
       "label                           0.044589     0.267074      0.199788   \n",
       "aon                            -0.005773     0.116982      0.099071   \n",
       "daily_decr30                    0.017473     0.294072      0.370709   \n",
       "daily_decr90                    0.017719     0.293582      0.370646   \n",
       "rental30                       -0.030403     0.281616      0.329970   \n",
       "rental90                       -0.023420     0.285669      0.340559   \n",
       "last_rech_date_ma               0.006108     0.123596      0.037166   \n",
       "last_rech_date_da               0.000061    -0.000731      0.000519   \n",
       "last_rech_amt_ma                0.012452     0.305397      0.179270   \n",
       "cnt_ma_rech30                  -0.045488     0.585808      0.449445   \n",
       "fr_ma_rech30                   -0.000331     0.004300      0.002634   \n",
       "sumamnt_ma_rech30              -0.034460     0.300348      0.484761   \n",
       "medianamnt_ma_rech30            0.032477     0.088956      0.014546   \n",
       "medianmarechprebal30           -0.002289     0.000442      0.000736   \n",
       "cnt_ma_rech90                  -0.053637     0.399356      0.783419   \n",
       "fr_ma_rech90                    0.020626     0.079128     -0.132035   \n",
       "sumamnt_ma_rech90              -0.022133     0.295396      0.562609   \n",
       "medianamnt_ma_rech90            0.036475     0.030490     -0.023450   \n",
       "medianmarechprebal90            0.030534    -0.037621     -0.036412   \n",
       "cnt_da_rech30                   0.000049     0.002633      0.003369   \n",
       "fr_da_rech30                   -0.001141    -0.000264     -0.001593   \n",
       "cnt_da_rech90                  -0.003351     0.023450      0.020909   \n",
       "fr_da_rech90                   -0.002234     0.012189      0.011501   \n",
       "cnt_loans30                    -0.053604     0.888474      0.497755   \n",
       "amnt_loans30                   -0.023572     0.851611      0.482570   \n",
       "maxamnt_loans30                 0.031069     0.268620      0.091276   \n",
       "medianamnt_loans30              1.000000    -0.041257     -0.067580   \n",
       "cnt_loans90                    -0.041257     1.000000      0.490657   \n",
       "amnt_loans90                   -0.067580     0.490657      1.000000   \n",
       "maxamnt_loans90                 0.024585     0.319799      0.088628   \n",
       "medianamnt_loans90              0.911604    -0.076096     -0.095160   \n",
       "payback30                            NaN          NaN           NaN   \n",
       "payback90                      -0.070160     0.756772      0.552274   \n",
       "\n",
       "                      maxamnt_loans90  medianamnt_loans90  payback30  \\\n",
       "label                       -0.037469            0.035747        NaN   \n",
       "aon                          0.014474           -0.014204        NaN   \n",
       "daily_decr30                -0.072907           -0.016060        NaN   \n",
       "daily_decr90                -0.075221           -0.016116        NaN   \n",
       "rental30                    -0.028414           -0.052080        NaN   \n",
       "rental90                    -0.046561           -0.049604        NaN   \n",
       "last_rech_date_ma           -0.020972           -0.002194        NaN   \n",
       "last_rech_date_da            0.001417           -0.002239        NaN   \n",
       "last_rech_amt_ma            -0.019277           -0.002172        NaN   \n",
       "cnt_ma_rech30                0.033224           -0.061017        NaN   \n",
       "fr_ma_rech30                -0.001727           -0.001292        NaN   \n",
       "sumamnt_ma_rech30            0.015316           -0.042244        NaN   \n",
       "medianamnt_ma_rech30        -0.015855            0.022692        NaN   \n",
       "medianmarechprebal30         0.000861           -0.001927        NaN   \n",
       "cnt_ma_rech90                0.012161           -0.072481        NaN   \n",
       "fr_ma_rech90                -0.007096            0.016964        NaN   \n",
       "sumamnt_ma_rech90           -0.009124           -0.042386        NaN   \n",
       "medianamnt_ma_rech90        -0.040043            0.031696        NaN   \n",
       "medianmarechprebal90        -0.026858            0.032453        NaN   \n",
       "cnt_da_rech30               -0.000578           -0.001365        NaN   \n",
       "fr_da_rech30                -0.001278           -0.001623        NaN   \n",
       "cnt_da_rech90                0.006691           -0.003094        NaN   \n",
       "fr_da_rech90                 0.004767           -0.000949        NaN   \n",
       "cnt_loans30                  0.296610           -0.077046        NaN   \n",
       "amnt_loans30                 0.305899           -0.049293        NaN   \n",
       "maxamnt_loans30              0.786565            0.015306        NaN   \n",
       "medianamnt_loans30           0.024585            0.911604        NaN   \n",
       "cnt_loans90                  0.319799           -0.076096        NaN   \n",
       "amnt_loans90                 0.088628           -0.095160        NaN   \n",
       "maxamnt_loans90              1.000000            0.022779        NaN   \n",
       "medianamnt_loans90           0.022779            1.000000        NaN   \n",
       "payback30                         NaN                 NaN        NaN   \n",
       "payback90                    0.102263           -0.110139        NaN   \n",
       "\n",
       "                      payback90  \n",
       "label                  0.281385  \n",
       "aon                    0.137800  \n",
       "daily_decr30           0.350210  \n",
       "daily_decr90           0.350206  \n",
       "rental30               0.333667  \n",
       "rental90               0.343414  \n",
       "last_rech_date_ma      0.092334  \n",
       "last_rech_date_da     -0.000860  \n",
       "last_rech_amt_ma       0.279815  \n",
       "cnt_ma_rech30          0.617641  \n",
       "fr_ma_rech30           0.003285  \n",
       "sumamnt_ma_rech30      0.326073  \n",
       "medianamnt_ma_rech30   0.057329  \n",
       "medianmarechprebal30   0.000465  \n",
       "cnt_ma_rech90          0.458535  \n",
       "fr_ma_rech90           0.028951  \n",
       "sumamnt_ma_rech90      0.330717  \n",
       "medianamnt_ma_rech90   0.000347  \n",
       "medianmarechprebal90  -0.049944  \n",
       "cnt_da_rech30          0.003454  \n",
       "fr_da_rech30          -0.000542  \n",
       "cnt_da_rech90          0.026042  \n",
       "fr_da_rech90           0.008527  \n",
       "cnt_loans30            0.707892  \n",
       "amnt_loans30           0.671310  \n",
       "maxamnt_loans30        0.073769  \n",
       "medianamnt_loans30    -0.070160  \n",
       "cnt_loans90            0.756772  \n",
       "amnt_loans90           0.552274  \n",
       "maxamnt_loans90        0.102263  \n",
       "medianamnt_loans90    -0.110139  \n",
       "payback30                   NaN  \n",
       "payback90              1.000000  \n",
       "\n",
       "[33 rows x 33 columns]"
      ]
     },
     "execution_count": 102,
     "metadata": {},
     "output_type": "execute_result"
    }
   ],
   "source": [
    "df.corr()"
   ]
  },
  {
   "cell_type": "code",
   "execution_count": 103,
   "metadata": {},
   "outputs": [
    {
     "data": {
      "text/plain": [
       "<matplotlib.axes._subplots.AxesSubplot at 0x21608ee4970>"
      ]
     },
     "execution_count": 103,
     "metadata": {},
     "output_type": "execute_result"
    },
    {
     "data": {
      "image/png": "[encoded data removed]",
      "text/plain": [
       "<Figure size 2160x1080 with 2 Axes>"
      ]
     },
     "metadata": {
      "needs_background": "light"
     },
     "output_type": "display_data"
    }
   ],
   "source": [
    "plt.figure(figsize=(30,15))\n",
    "sns.heatmap(df.corr(),annot=True,linewidth=.5,linecolor=\"black\",fmt='.2f')"
   ]
  },
  {
   "cell_type": "code",
   "execution_count": 104,
   "metadata": {},
   "outputs": [],
   "source": [
    "#Since we have around 36 features its important for us to select the most important ones and also few of them are redundant.From the correlation matrix above selecting the below important columns"
   ]
  },
  {
   "cell_type": "code",
   "execution_count": 105,
   "metadata": {},
   "outputs": [],
   "source": [
    "#Normalizing the data because of the outliers.Also after checking the correlation. filtering out the most important columns"
   ]
  },
  {
   "cell_type": "code",
   "execution_count": 106,
   "metadata": {},
   "outputs": [],
   "source": [
    " num = df._get_numeric_data()"
   ]
  },
  {
   "cell_type": "code",
   "execution_count": 107,
   "metadata": {},
   "outputs": [],
   "source": [
    "num[num < 0] = 0"
   ]
  },
  {
   "cell_type": "code",
   "execution_count": 108,
   "metadata": {},
   "outputs": [],
   "source": [
    "Xsel=num\n",
    "Ysel=df.iloc[:,0]"
   ]
  },
  {
   "cell_type": "code",
   "execution_count": 109,
   "metadata": {},
   "outputs": [],
   "source": [
    "Xsel.__delitem__('label')"
   ]
  },
  {
   "cell_type": "code",
   "execution_count": 110,
   "metadata": {},
   "outputs": [],
   "source": [
    "from sklearn.feature_selection import SelectKBest\n",
    "from sklearn.feature_selection import chi2\n",
    "from sklearn.feature_selection import mutual_info_classif"
   ]
  },
  {
   "cell_type": "code",
   "execution_count": 111,
   "metadata": {},
   "outputs": [],
   "source": [
    "bestfeatures=SelectKBest(score_func=chi2,k=20)"
   ]
  },
  {
   "cell_type": "code",
   "execution_count": 112,
   "metadata": {},
   "outputs": [],
   "source": [
    "fit=bestfeatures.fit(Xsel,Ysel)"
   ]
  },
  {
   "cell_type": "code",
   "execution_count": 113,
   "metadata": {},
   "outputs": [],
   "source": [
    "datascores=pd.DataFrame(fit.scores_)\n",
    "datacolumns=pd.DataFrame(Xsel.columns)"
   ]
  },
  {
   "cell_type": "code",
   "execution_count": 114,
   "metadata": {},
   "outputs": [
    {
     "data": {
      "text/html": [
       "<div>\n",
       "<style scoped>\n",
       "    .dataframe tbody tr th:only-of-type {\n",
       "        vertical-align: middle;\n",
       "    }\n",
       "\n",
       "    .dataframe tbody tr th {\n",
       "        vertical-align: top;\n",
       "    }\n",
       "\n",
       "    .dataframe thead th {\n",
       "        text-align: right;\n",
       "    }\n",
       "</style>\n",
       "<table border=\"1\" class=\"dataframe\">\n",
       "  <thead>\n",
       "    <tr style=\"text-align: right;\">\n",
       "      <th></th>\n",
       "      <th>Specs</th>\n",
       "      <th>Score</th>\n",
       "    </tr>\n",
       "  </thead>\n",
       "  <tbody>\n",
       "    <tr>\n",
       "      <th>0</th>\n",
       "      <td>aon</td>\n",
       "      <td>1.428917e+05</td>\n",
       "    </tr>\n",
       "    <tr>\n",
       "      <th>1</th>\n",
       "      <td>daily_decr30</td>\n",
       "      <td>3.869485e+06</td>\n",
       "    </tr>\n",
       "    <tr>\n",
       "      <th>2</th>\n",
       "      <td>daily_decr90</td>\n",
       "      <td>3.996579e+06</td>\n",
       "    </tr>\n",
       "    <tr>\n",
       "      <th>3</th>\n",
       "      <td>rental30</td>\n",
       "      <td>7.351336e+05</td>\n",
       "    </tr>\n",
       "    <tr>\n",
       "      <th>4</th>\n",
       "      <td>rental90</td>\n",
       "      <td>1.038521e+06</td>\n",
       "    </tr>\n",
       "    <tr>\n",
       "      <th>5</th>\n",
       "      <td>last_rech_date_ma</td>\n",
       "      <td>1.798743e+03</td>\n",
       "    </tr>\n",
       "    <tr>\n",
       "      <th>6</th>\n",
       "      <td>last_rech_date_da</td>\n",
       "      <td>4.709099e+05</td>\n",
       "    </tr>\n",
       "    <tr>\n",
       "      <th>7</th>\n",
       "      <td>last_rech_amt_ma</td>\n",
       "      <td>3.722331e+06</td>\n",
       "    </tr>\n",
       "    <tr>\n",
       "      <th>8</th>\n",
       "      <td>cnt_ma_rech30</td>\n",
       "      <td>1.673328e+04</td>\n",
       "    </tr>\n",
       "    <tr>\n",
       "      <th>9</th>\n",
       "      <td>fr_ma_rech30</td>\n",
       "      <td>2.855480e+05</td>\n",
       "    </tr>\n",
       "    <tr>\n",
       "      <th>10</th>\n",
       "      <td>sumamnt_ma_rech30</td>\n",
       "      <td>1.150615e+08</td>\n",
       "    </tr>\n",
       "    <tr>\n",
       "      <th>11</th>\n",
       "      <td>medianamnt_ma_rech30</td>\n",
       "      <td>9.926066e+06</td>\n",
       "    </tr>\n",
       "    <tr>\n",
       "      <th>12</th>\n",
       "      <td>medianmarechprebal30</td>\n",
       "      <td>3.710055e+06</td>\n",
       "    </tr>\n",
       "    <tr>\n",
       "      <th>13</th>\n",
       "      <td>cnt_ma_rech90</td>\n",
       "      <td>9.596558e+04</td>\n",
       "    </tr>\n",
       "    <tr>\n",
       "      <th>14</th>\n",
       "      <td>fr_ma_rech90</td>\n",
       "      <td>3.065728e+04</td>\n",
       "    </tr>\n",
       "    <tr>\n",
       "      <th>15</th>\n",
       "      <td>sumamnt_ma_rech90</td>\n",
       "      <td>2.034930e+08</td>\n",
       "    </tr>\n",
       "    <tr>\n",
       "      <th>16</th>\n",
       "      <td>medianamnt_ma_rech90</td>\n",
       "      <td>7.114564e+06</td>\n",
       "    </tr>\n",
       "    <tr>\n",
       "      <th>17</th>\n",
       "      <td>medianmarechprebal90</td>\n",
       "      <td>4.467902e+05</td>\n",
       "    </tr>\n",
       "    <tr>\n",
       "      <th>18</th>\n",
       "      <td>cnt_da_rech30</td>\n",
       "      <td>2.046707e+05</td>\n",
       "    </tr>\n",
       "    <tr>\n",
       "      <th>19</th>\n",
       "      <td>fr_da_rech30</td>\n",
       "      <td>1.141614e+02</td>\n",
       "    </tr>\n",
       "    <tr>\n",
       "      <th>20</th>\n",
       "      <td>cnt_da_rech90</td>\n",
       "      <td>7.178564e+00</td>\n",
       "    </tr>\n",
       "    <tr>\n",
       "      <th>21</th>\n",
       "      <td>fr_da_rech90</td>\n",
       "      <td>1.218178e+02</td>\n",
       "    </tr>\n",
       "    <tr>\n",
       "      <th>22</th>\n",
       "      <td>cnt_loans30</td>\n",
       "      <td>2.140015e+03</td>\n",
       "    </tr>\n",
       "    <tr>\n",
       "      <th>23</th>\n",
       "      <td>amnt_loans30</td>\n",
       "      <td>1.406758e+04</td>\n",
       "    </tr>\n",
       "    <tr>\n",
       "      <th>24</th>\n",
       "      <td>maxamnt_loans30</td>\n",
       "      <td>4.364242e+01</td>\n",
       "    </tr>\n",
       "    <tr>\n",
       "      <th>25</th>\n",
       "      <td>medianamnt_loans30</td>\n",
       "      <td>3.666720e+02</td>\n",
       "    </tr>\n",
       "    <tr>\n",
       "      <th>26</th>\n",
       "      <td>cnt_loans90</td>\n",
       "      <td>2.323089e+03</td>\n",
       "    </tr>\n",
       "    <tr>\n",
       "      <th>27</th>\n",
       "      <td>amnt_loans90</td>\n",
       "      <td>2.478972e+05</td>\n",
       "    </tr>\n",
       "    <tr>\n",
       "      <th>28</th>\n",
       "      <td>maxamnt_loans90</td>\n",
       "      <td>1.720931e+01</td>\n",
       "    </tr>\n",
       "    <tr>\n",
       "      <th>29</th>\n",
       "      <td>medianamnt_loans90</td>\n",
       "      <td>2.341087e+02</td>\n",
       "    </tr>\n",
       "    <tr>\n",
       "      <th>30</th>\n",
       "      <td>payback30</td>\n",
       "      <td>NaN</td>\n",
       "    </tr>\n",
       "    <tr>\n",
       "      <th>31</th>\n",
       "      <td>payback90</td>\n",
       "      <td>1.255250e+04</td>\n",
       "    </tr>\n",
       "  </tbody>\n",
       "</table>\n",
       "</div>"
      ],
      "text/plain": [
       "                   Specs         Score\n",
       "0                    aon  1.428917e+05\n",
       "1           daily_decr30  3.869485e+06\n",
       "2           daily_decr90  3.996579e+06\n",
       "3               rental30  7.351336e+05\n",
       "4               rental90  1.038521e+06\n",
       "5      last_rech_date_ma  1.798743e+03\n",
       "6      last_rech_date_da  4.709099e+05\n",
       "7       last_rech_amt_ma  3.722331e+06\n",
       "8          cnt_ma_rech30  1.673328e+04\n",
       "9           fr_ma_rech30  2.855480e+05\n",
       "10     sumamnt_ma_rech30  1.150615e+08\n",
       "11  medianamnt_ma_rech30  9.926066e+06\n",
       "12  medianmarechprebal30  3.710055e+06\n",
       "13         cnt_ma_rech90  9.596558e+04\n",
       "14          fr_ma_rech90  3.065728e+04\n",
       "15     sumamnt_ma_rech90  2.034930e+08\n",
       "16  medianamnt_ma_rech90  7.114564e+06\n",
       "17  medianmarechprebal90  4.467902e+05\n",
       "18         cnt_da_rech30  2.046707e+05\n",
       "19          fr_da_rech30  1.141614e+02\n",
       "20         cnt_da_rech90  7.178564e+00\n",
       "21          fr_da_rech90  1.218178e+02\n",
       "22           cnt_loans30  2.140015e+03\n",
       "23          amnt_loans30  1.406758e+04\n",
       "24       maxamnt_loans30  4.364242e+01\n",
       "25    medianamnt_loans30  3.666720e+02\n",
       "26           cnt_loans90  2.323089e+03\n",
       "27          amnt_loans90  2.478972e+05\n",
       "28       maxamnt_loans90  1.720931e+01\n",
       "29    medianamnt_loans90  2.341087e+02\n",
       "30             payback30           NaN\n",
       "31             payback90  1.255250e+04"
      ]
     },
     "execution_count": 114,
     "metadata": {},
     "output_type": "execute_result"
    }
   ],
   "source": [
    "featureScores=pd.concat([datacolumns,datascores],axis=1)\n",
    "featureScores.columns=['Specs','Score']\n",
    "featureScores"
   ]
  },
  {
   "cell_type": "code",
   "execution_count": 115,
   "metadata": {},
   "outputs": [],
   "source": [
    "colnames=[\"label\",\"sumamnt_ma_rech90\",\"daily_decr90\",\"sumamnt_ma_rech30\",\"daily_decr30\",\"rental90\",\"medianamnt_ma_rech30\",\"last_rech_amt_ma\",\"medianamnt_ma_rech90\",\"rental30\",\"medianmarechprebal30\",\"aon\",\"medianmarechprebal90\",\"amnt_loans90\",\"cnt_da_rech30\",\"amnt_loans30\",\"cnt_ma_rech90\",\"cnt_ma_rech30\",\"last_rech_date_ma\",\"fr_ma_rech30\",\"fr_ma_rech90\"]"
   ]
  },
  {
   "cell_type": "code",
   "execution_count": 116,
   "metadata": {},
   "outputs": [],
   "source": [
    "#Visualizing the distribution of each variable"
   ]
  },
  {
   "cell_type": "code",
   "execution_count": 117,
   "metadata": {},
   "outputs": [
    {
     "data": {
      "image/png": "[encoded data removed]",
      "text/plain": [
       "<Figure size 432x288 with 12 Axes>"
      ]
     },
     "metadata": {
      "needs_background": "light"
     },
     "output_type": "display_data"
    }
   ],
   "source": [
    "hist = df.iloc[:,0:12].hist()"
   ]
  },
  {
   "cell_type": "code",
   "execution_count": 118,
   "metadata": {},
   "outputs": [
    {
     "data": {
      "image/png": "[encoded data removed]",
      "text/plain": [
       "<Figure size 432x288 with 16 Axes>"
      ]
     },
     "metadata": {
      "needs_background": "light"
     },
     "output_type": "display_data"
    }
   ],
   "source": [
    "hist = df.iloc[:,12:25].hist()"
   ]
  },
  {
   "cell_type": "code",
   "execution_count": 119,
   "metadata": {},
   "outputs": [
    {
     "data": {
      "image/png": "[encoded data removed]",
      "text/plain": [
       "<Figure size 432x288 with 9 Axes>"
      ]
     },
     "metadata": {
      "needs_background": "light"
     },
     "output_type": "display_data"
    }
   ],
   "source": [
    "\n",
    "hist = df.iloc[:,25:35].hist()"
   ]
  },
  {
   "cell_type": "code",
   "execution_count": 120,
   "metadata": {},
   "outputs": [
    {
     "data": {
      "text/html": [
       "<div>\n",
       "<style scoped>\n",
       "    .dataframe tbody tr th:only-of-type {\n",
       "        vertical-align: middle;\n",
       "    }\n",
       "\n",
       "    .dataframe tbody tr th {\n",
       "        vertical-align: top;\n",
       "    }\n",
       "\n",
       "    .dataframe thead th {\n",
       "        text-align: right;\n",
       "    }\n",
       "</style>\n",
       "<table border=\"1\" class=\"dataframe\">\n",
       "  <thead>\n",
       "    <tr style=\"text-align: right;\">\n",
       "      <th></th>\n",
       "      <th>sumamnt_ma_rech90</th>\n",
       "      <th>daily_decr90</th>\n",
       "      <th>sumamnt_ma_rech30</th>\n",
       "      <th>daily_decr30</th>\n",
       "      <th>rental90</th>\n",
       "      <th>medianamnt_ma_rech30</th>\n",
       "      <th>last_rech_amt_ma</th>\n",
       "      <th>medianamnt_ma_rech90</th>\n",
       "      <th>rental30</th>\n",
       "      <th>medianmarechprebal30</th>\n",
       "      <th>aon</th>\n",
       "      <th>medianmarechprebal90</th>\n",
       "      <th>amnt_loans90</th>\n",
       "      <th>cnt_da_rech30</th>\n",
       "      <th>amnt_loans30</th>\n",
       "      <th>cnt_ma_rech90</th>\n",
       "      <th>cnt_ma_rech30</th>\n",
       "      <th>last_rech_date_ma</th>\n",
       "      <th>fr_ma_rech30</th>\n",
       "      <th>fr_ma_rech90</th>\n",
       "    </tr>\n",
       "  </thead>\n",
       "  <tbody>\n",
       "    <tr>\n",
       "      <th>0</th>\n",
       "      <td>3078</td>\n",
       "      <td>1500.000000</td>\n",
       "      <td>3078.0</td>\n",
       "      <td>1469.175667</td>\n",
       "      <td>260.13</td>\n",
       "      <td>1539.0</td>\n",
       "      <td>1539</td>\n",
       "      <td>1539.0</td>\n",
       "      <td>220.13</td>\n",
       "      <td>7.50</td>\n",
       "      <td>272.0</td>\n",
       "      <td>7.50</td>\n",
       "      <td>12</td>\n",
       "      <td>0.0</td>\n",
       "      <td>12</td>\n",
       "      <td>2</td>\n",
       "      <td>2</td>\n",
       "      <td>2.0</td>\n",
       "      <td>21.0</td>\n",
       "      <td>21</td>\n",
       "    </tr>\n",
       "    <tr>\n",
       "      <th>1</th>\n",
       "      <td>5787</td>\n",
       "      <td>1500.000000</td>\n",
       "      <td>5787.0</td>\n",
       "      <td>1469.175667</td>\n",
       "      <td>1334.00</td>\n",
       "      <td>5787.0</td>\n",
       "      <td>1539</td>\n",
       "      <td>5787.0</td>\n",
       "      <td>1083.57</td>\n",
       "      <td>61.04</td>\n",
       "      <td>527.0</td>\n",
       "      <td>61.04</td>\n",
       "      <td>12</td>\n",
       "      <td>0.0</td>\n",
       "      <td>12</td>\n",
       "      <td>1</td>\n",
       "      <td>1</td>\n",
       "      <td>3.0</td>\n",
       "      <td>0.0</td>\n",
       "      <td>0</td>\n",
       "    </tr>\n",
       "    <tr>\n",
       "      <th>2</th>\n",
       "      <td>1539</td>\n",
       "      <td>1398.000000</td>\n",
       "      <td>1539.0</td>\n",
       "      <td>1398.000000</td>\n",
       "      <td>900.13</td>\n",
       "      <td>1539.0</td>\n",
       "      <td>1539</td>\n",
       "      <td>1539.0</td>\n",
       "      <td>900.13</td>\n",
       "      <td>66.32</td>\n",
       "      <td>527.0</td>\n",
       "      <td>66.32</td>\n",
       "      <td>6</td>\n",
       "      <td>0.0</td>\n",
       "      <td>6</td>\n",
       "      <td>1</td>\n",
       "      <td>1</td>\n",
       "      <td>3.0</td>\n",
       "      <td>0.0</td>\n",
       "      <td>0</td>\n",
       "    </tr>\n",
       "    <tr>\n",
       "      <th>3</th>\n",
       "      <td>947</td>\n",
       "      <td>21.228000</td>\n",
       "      <td>0.0</td>\n",
       "      <td>21.228000</td>\n",
       "      <td>159.42</td>\n",
       "      <td>0.0</td>\n",
       "      <td>947</td>\n",
       "      <td>947.0</td>\n",
       "      <td>159.42</td>\n",
       "      <td>0.00</td>\n",
       "      <td>241.0</td>\n",
       "      <td>2.50</td>\n",
       "      <td>12</td>\n",
       "      <td>0.0</td>\n",
       "      <td>12</td>\n",
       "      <td>1</td>\n",
       "      <td>0</td>\n",
       "      <td>3.0</td>\n",
       "      <td>0.0</td>\n",
       "      <td>0</td>\n",
       "    </tr>\n",
       "    <tr>\n",
       "      <th>4</th>\n",
       "      <td>23496</td>\n",
       "      <td>150.619333</td>\n",
       "      <td>20029.0</td>\n",
       "      <td>150.619333</td>\n",
       "      <td>1098.90</td>\n",
       "      <td>2309.0</td>\n",
       "      <td>1539</td>\n",
       "      <td>2888.0</td>\n",
       "      <td>1083.57</td>\n",
       "      <td>29.00</td>\n",
       "      <td>527.0</td>\n",
       "      <td>35.00</td>\n",
       "      <td>42</td>\n",
       "      <td>0.0</td>\n",
       "      <td>12</td>\n",
       "      <td>8</td>\n",
       "      <td>3</td>\n",
       "      <td>3.0</td>\n",
       "      <td>2.0</td>\n",
       "      <td>2</td>\n",
       "    </tr>\n",
       "  </tbody>\n",
       "</table>\n",
       "</div>"
      ],
      "text/plain": [
       "   sumamnt_ma_rech90  daily_decr90  sumamnt_ma_rech30  daily_decr30  rental90  \\\n",
       "0               3078   1500.000000             3078.0   1469.175667    260.13   \n",
       "1               5787   1500.000000             5787.0   1469.175667   1334.00   \n",
       "2               1539   1398.000000             1539.0   1398.000000    900.13   \n",
       "3                947     21.228000                0.0     21.228000    159.42   \n",
       "4              23496    150.619333            20029.0    150.619333   1098.90   \n",
       "\n",
       "   medianamnt_ma_rech30  last_rech_amt_ma  medianamnt_ma_rech90  rental30  \\\n",
       "0                1539.0              1539                1539.0    220.13   \n",
       "1                5787.0              1539                5787.0   1083.57   \n",
       "2                1539.0              1539                1539.0    900.13   \n",
       "3                   0.0               947                 947.0    159.42   \n",
       "4                2309.0              1539                2888.0   1083.57   \n",
       "\n",
       "   medianmarechprebal30    aon  medianmarechprebal90  amnt_loans90  \\\n",
       "0                  7.50  272.0                  7.50            12   \n",
       "1                 61.04  527.0                 61.04            12   \n",
       "2                 66.32  527.0                 66.32             6   \n",
       "3                  0.00  241.0                  2.50            12   \n",
       "4                 29.00  527.0                 35.00            42   \n",
       "\n",
       "   cnt_da_rech30  amnt_loans30  cnt_ma_rech90  cnt_ma_rech30  \\\n",
       "0            0.0            12              2              2   \n",
       "1            0.0            12              1              1   \n",
       "2            0.0             6              1              1   \n",
       "3            0.0            12              1              0   \n",
       "4            0.0            12              8              3   \n",
       "\n",
       "   last_rech_date_ma  fr_ma_rech30  fr_ma_rech90  \n",
       "0                2.0          21.0            21  \n",
       "1                3.0           0.0             0  \n",
       "2                3.0           0.0             0  \n",
       "3                3.0           0.0             0  \n",
       "4                3.0           2.0             2  "
      ]
     },
     "execution_count": 120,
     "metadata": {},
     "output_type": "execute_result"
    }
   ],
   "source": [
    "df=df[colnames]\n",
    "df1=df.iloc[:,1:]   #does not include Target variable \"Label\"\n",
    "df1.head()"
   ]
  },
  {
   "cell_type": "code",
   "execution_count": 121,
   "metadata": {},
   "outputs": [],
   "source": [
    "\n",
    "from sklearn.preprocessing import MinMaxScaler\n",
    "\n",
    "scaler = MinMaxScaler() \n",
    "scaled_values = scaler.fit_transform(df1) \n",
    "df1.loc[:,:] = scaled_values"
   ]
  },
  {
   "cell_type": "code",
   "execution_count": 122,
   "metadata": {},
   "outputs": [],
   "source": [
    "#Model Building"
   ]
  },
  {
   "cell_type": "code",
   "execution_count": 123,
   "metadata": {},
   "outputs": [],
   "source": [
    "from sklearn.model_selection import train_test_split"
   ]
  },
  {
   "cell_type": "code",
   "execution_count": 124,
   "metadata": {},
   "outputs": [],
   "source": [
    "X = df1\n"
   ]
  },
  {
   "cell_type": "code",
   "execution_count": 125,
   "metadata": {},
   "outputs": [],
   "source": [
    "y=df['label']"
   ]
  },
  {
   "cell_type": "code",
   "execution_count": 126,
   "metadata": {},
   "outputs": [
    {
     "data": {
      "text/html": [
       "<div>\n",
       "<style scoped>\n",
       "    .dataframe tbody tr th:only-of-type {\n",
       "        vertical-align: middle;\n",
       "    }\n",
       "\n",
       "    .dataframe tbody tr th {\n",
       "        vertical-align: top;\n",
       "    }\n",
       "\n",
       "    .dataframe thead th {\n",
       "        text-align: right;\n",
       "    }\n",
       "</style>\n",
       "<table border=\"1\" class=\"dataframe\">\n",
       "  <thead>\n",
       "    <tr style=\"text-align: right;\">\n",
       "      <th></th>\n",
       "      <th>sumamnt_ma_rech90</th>\n",
       "      <th>daily_decr90</th>\n",
       "      <th>sumamnt_ma_rech30</th>\n",
       "      <th>daily_decr30</th>\n",
       "      <th>rental90</th>\n",
       "      <th>medianamnt_ma_rech30</th>\n",
       "      <th>last_rech_amt_ma</th>\n",
       "      <th>medianamnt_ma_rech90</th>\n",
       "      <th>rental30</th>\n",
       "      <th>medianmarechprebal30</th>\n",
       "      <th>aon</th>\n",
       "      <th>medianmarechprebal90</th>\n",
       "      <th>amnt_loans90</th>\n",
       "      <th>cnt_da_rech30</th>\n",
       "      <th>amnt_loans30</th>\n",
       "      <th>cnt_ma_rech90</th>\n",
       "      <th>cnt_ma_rech30</th>\n",
       "      <th>last_rech_date_ma</th>\n",
       "      <th>fr_ma_rech30</th>\n",
       "      <th>fr_ma_rech90</th>\n",
       "    </tr>\n",
       "  </thead>\n",
       "  <tbody>\n",
       "    <tr>\n",
       "      <th>0</th>\n",
       "      <td>0.003230</td>\n",
       "      <td>1.000000</td>\n",
       "      <td>0.003800</td>\n",
       "      <td>1.000000</td>\n",
       "      <td>0.195000</td>\n",
       "      <td>0.027982</td>\n",
       "      <td>1.000000</td>\n",
       "      <td>0.027982</td>\n",
       "      <td>0.203153</td>\n",
       "      <td>0.000008</td>\n",
       "      <td>0.516129</td>\n",
       "      <td>0.000181</td>\n",
       "      <td>0.027397</td>\n",
       "      <td>0.0</td>\n",
       "      <td>1.0</td>\n",
       "      <td>0.005952</td>\n",
       "      <td>0.666667</td>\n",
       "      <td>0.666667</td>\n",
       "      <td>0.000021</td>\n",
       "      <td>0.238636</td>\n",
       "    </tr>\n",
       "    <tr>\n",
       "      <th>1</th>\n",
       "      <td>0.006072</td>\n",
       "      <td>1.000000</td>\n",
       "      <td>0.007144</td>\n",
       "      <td>1.000000</td>\n",
       "      <td>1.000000</td>\n",
       "      <td>0.105218</td>\n",
       "      <td>1.000000</td>\n",
       "      <td>0.105218</td>\n",
       "      <td>1.000000</td>\n",
       "      <td>0.000061</td>\n",
       "      <td>1.000000</td>\n",
       "      <td>0.001472</td>\n",
       "      <td>0.027397</td>\n",
       "      <td>0.0</td>\n",
       "      <td>1.0</td>\n",
       "      <td>0.002976</td>\n",
       "      <td>0.333333</td>\n",
       "      <td>1.000000</td>\n",
       "      <td>0.000000</td>\n",
       "      <td>0.000000</td>\n",
       "    </tr>\n",
       "    <tr>\n",
       "      <th>2</th>\n",
       "      <td>0.001615</td>\n",
       "      <td>0.932000</td>\n",
       "      <td>0.001900</td>\n",
       "      <td>0.951554</td>\n",
       "      <td>0.674760</td>\n",
       "      <td>0.027982</td>\n",
       "      <td>1.000000</td>\n",
       "      <td>0.027982</td>\n",
       "      <td>0.830708</td>\n",
       "      <td>0.000066</td>\n",
       "      <td>1.000000</td>\n",
       "      <td>0.001600</td>\n",
       "      <td>0.013699</td>\n",
       "      <td>0.0</td>\n",
       "      <td>0.5</td>\n",
       "      <td>0.002976</td>\n",
       "      <td>0.333333</td>\n",
       "      <td>1.000000</td>\n",
       "      <td>0.000000</td>\n",
       "      <td>0.000000</td>\n",
       "    </tr>\n",
       "    <tr>\n",
       "      <th>3</th>\n",
       "      <td>0.000994</td>\n",
       "      <td>0.014152</td>\n",
       "      <td>0.000000</td>\n",
       "      <td>0.014449</td>\n",
       "      <td>0.119505</td>\n",
       "      <td>0.000000</td>\n",
       "      <td>0.615335</td>\n",
       "      <td>0.017218</td>\n",
       "      <td>0.147125</td>\n",
       "      <td>0.000000</td>\n",
       "      <td>0.457306</td>\n",
       "      <td>0.000060</td>\n",
       "      <td>0.027397</td>\n",
       "      <td>0.0</td>\n",
       "      <td>1.0</td>\n",
       "      <td>0.002976</td>\n",
       "      <td>0.000000</td>\n",
       "      <td>1.000000</td>\n",
       "      <td>0.000000</td>\n",
       "      <td>0.000000</td>\n",
       "    </tr>\n",
       "    <tr>\n",
       "      <th>4</th>\n",
       "      <td>0.024654</td>\n",
       "      <td>0.100413</td>\n",
       "      <td>0.024724</td>\n",
       "      <td>0.102520</td>\n",
       "      <td>0.823763</td>\n",
       "      <td>0.041982</td>\n",
       "      <td>1.000000</td>\n",
       "      <td>0.052509</td>\n",
       "      <td>1.000000</td>\n",
       "      <td>0.000029</td>\n",
       "      <td>1.000000</td>\n",
       "      <td>0.000844</td>\n",
       "      <td>0.095890</td>\n",
       "      <td>0.0</td>\n",
       "      <td>1.0</td>\n",
       "      <td>0.023810</td>\n",
       "      <td>1.000000</td>\n",
       "      <td>1.000000</td>\n",
       "      <td>0.000002</td>\n",
       "      <td>0.022727</td>\n",
       "    </tr>\n",
       "  </tbody>\n",
       "</table>\n",
       "</div>"
      ],
      "text/plain": [
       "   sumamnt_ma_rech90  daily_decr90  sumamnt_ma_rech30  daily_decr30  rental90  \\\n",
       "0           0.003230      1.000000           0.003800      1.000000  0.195000   \n",
       "1           0.006072      1.000000           0.007144      1.000000  1.000000   \n",
       "2           0.001615      0.932000           0.001900      0.951554  0.674760   \n",
       "3           0.000994      0.014152           0.000000      0.014449  0.119505   \n",
       "4           0.024654      0.100413           0.024724      0.102520  0.823763   \n",
       "\n",
       "   medianamnt_ma_rech30  last_rech_amt_ma  medianamnt_ma_rech90  rental30  \\\n",
       "0              0.027982          1.000000              0.027982  0.203153   \n",
       "1              0.105218          1.000000              0.105218  1.000000   \n",
       "2              0.027982          1.000000              0.027982  0.830708   \n",
       "3              0.000000          0.615335              0.017218  0.147125   \n",
       "4              0.041982          1.000000              0.052509  1.000000   \n",
       "\n",
       "   medianmarechprebal30       aon  medianmarechprebal90  amnt_loans90  \\\n",
       "0              0.000008  0.516129              0.000181      0.027397   \n",
       "1              0.000061  1.000000              0.001472      0.027397   \n",
       "2              0.000066  1.000000              0.001600      0.013699   \n",
       "3              0.000000  0.457306              0.000060      0.027397   \n",
       "4              0.000029  1.000000              0.000844      0.095890   \n",
       "\n",
       "   cnt_da_rech30  amnt_loans30  cnt_ma_rech90  cnt_ma_rech30  \\\n",
       "0            0.0           1.0       0.005952       0.666667   \n",
       "1            0.0           1.0       0.002976       0.333333   \n",
       "2            0.0           0.5       0.002976       0.333333   \n",
       "3            0.0           1.0       0.002976       0.000000   \n",
       "4            0.0           1.0       0.023810       1.000000   \n",
       "\n",
       "   last_rech_date_ma  fr_ma_rech30  fr_ma_rech90  \n",
       "0           0.666667      0.000021      0.238636  \n",
       "1           1.000000      0.000000      0.000000  \n",
       "2           1.000000      0.000000      0.000000  \n",
       "3           1.000000      0.000000      0.000000  \n",
       "4           1.000000      0.000002      0.022727  "
      ]
     },
     "execution_count": 126,
     "metadata": {},
     "output_type": "execute_result"
    }
   ],
   "source": [
    "X.head()"
   ]
  },
  {
   "cell_type": "code",
   "execution_count": 127,
   "metadata": {},
   "outputs": [
    {
     "data": {
      "text/plain": [
       "0    0\n",
       "1    1\n",
       "2    1\n",
       "3    1\n",
       "4    1\n",
       "Name: label, dtype: int64"
      ]
     },
     "execution_count": 127,
     "metadata": {},
     "output_type": "execute_result"
    }
   ],
   "source": [
    "y.head()"
   ]
  },
  {
   "cell_type": "code",
   "execution_count": 128,
   "metadata": {},
   "outputs": [],
   "source": [
    "#Splitting the data"
   ]
  },
  {
   "cell_type": "code",
   "execution_count": 129,
   "metadata": {},
   "outputs": [],
   "source": [
    "X_train, X_test, y_train, y_test = train_test_split(X, y, test_size=0.33, random_state=42)"
   ]
  },
  {
   "cell_type": "code",
   "execution_count": 130,
   "metadata": {},
   "outputs": [],
   "source": [
    "#Random Forest:\n",
    "\n",
    "random_forest = RandomForestClassifier(n_estimators=100)\n",
    "random_forest.fit(X_train, y_train)\n",
    "\n",
    "Y_prediction = random_forest.predict(X_test)\n",
    "\n",
    "random_forest.score(X_train, y_train)\n",
    "acc_random_forest = round(random_forest.score(X_train, y_train) * 100, 2)"
   ]
  },
  {
   "cell_type": "code",
   "execution_count": 131,
   "metadata": {},
   "outputs": [
    {
     "name": "stderr",
     "output_type": "stream",
     "text": [
      "C:\\Users\\sarmi\\anaconda3\\lib\\site-packages\\sklearn\\linear_model\\_logistic.py:763: ConvergenceWarning: lbfgs failed to converge (status=1):\n",
      "STOP: TOTAL NO. of ITERATIONS REACHED LIMIT.\n",
      "\n",
      "Increase the number of iterations (max_iter) or scale the data as shown in:\n",
      "    https://scikit-learn.org/stable/modules/preprocessing.html\n",
      "Please also refer to the documentation for alternative solver options:\n",
      "    https://scikit-learn.org/stable/modules/linear_model.html#logistic-regression\n",
      "  n_iter_i = _check_optimize_result(\n"
     ]
    }
   ],
   "source": [
    "#Logistic Regression \n",
    "\n",
    "logreg = LogisticRegression()\n",
    "logreg.fit(X_train, y_train)\n",
    "\n",
    "Y_pred = logreg.predict(X_test)\n",
    "\n",
    "acc_log = round(logreg.score(X_train, y_train) * 100, 2)"
   ]
  },
  {
   "cell_type": "code",
   "execution_count": 132,
   "metadata": {},
   "outputs": [],
   "source": [
    "#Gaussian Naive Bayes:\n",
    "gaussian = GaussianNB() \n",
    "gaussian.fit(X_train, y_train)  \n",
    "Y_pred = gaussian.predict(X_test)  \n",
    "acc_gaussian = round(gaussian.score(X_train, y_train) * 100, 2)"
   ]
  },
  {
   "cell_type": "code",
   "execution_count": 133,
   "metadata": {},
   "outputs": [],
   "source": [
    "#Decision Tree\n",
    "\n",
    "decision_tree = DecisionTreeClassifier() \n",
    "decision_tree.fit(X_train, y_train)  \n",
    "Y_pred = decision_tree.predict(X_test)  \n",
    "acc_decision_tree = round(decision_tree.score(X_train, y_train) * 100, 2)"
   ]
  },
  {
   "cell_type": "code",
   "execution_count": 134,
   "metadata": {},
   "outputs": [
    {
     "data": {
      "text/html": [
       "<div>\n",
       "<style scoped>\n",
       "    .dataframe tbody tr th:only-of-type {\n",
       "        vertical-align: middle;\n",
       "    }\n",
       "\n",
       "    .dataframe tbody tr th {\n",
       "        vertical-align: top;\n",
       "    }\n",
       "\n",
       "    .dataframe thead th {\n",
       "        text-align: right;\n",
       "    }\n",
       "</style>\n",
       "<table border=\"1\" class=\"dataframe\">\n",
       "  <thead>\n",
       "    <tr style=\"text-align: right;\">\n",
       "      <th></th>\n",
       "      <th>Model</th>\n",
       "    </tr>\n",
       "    <tr>\n",
       "      <th>Score</th>\n",
       "      <th></th>\n",
       "    </tr>\n",
       "  </thead>\n",
       "  <tbody>\n",
       "    <tr>\n",
       "      <th>99.70</th>\n",
       "      <td>Random Forest</td>\n",
       "    </tr>\n",
       "    <tr>\n",
       "      <th>99.70</th>\n",
       "      <td>Decision Tree</td>\n",
       "    </tr>\n",
       "    <tr>\n",
       "      <th>87.74</th>\n",
       "      <td>Logistic Regression</td>\n",
       "    </tr>\n",
       "    <tr>\n",
       "      <th>70.96</th>\n",
       "      <td>Naive Bayes</td>\n",
       "    </tr>\n",
       "  </tbody>\n",
       "</table>\n",
       "</div>"
      ],
      "text/plain": [
       "                     Model\n",
       "Score                     \n",
       "99.70        Random Forest\n",
       "99.70        Decision Tree\n",
       "87.74  Logistic Regression\n",
       "70.96          Naive Bayes"
      ]
     },
     "execution_count": 134,
     "metadata": {},
     "output_type": "execute_result"
    }
   ],
   "source": [
    "#Looping to find the best Model\n",
    "results = pd.DataFrame({\n",
    "    'Model': [ 'Logistic Regression', \n",
    "              'Random Forest', 'Naive Bayes', \n",
    "              'Decision Tree'],\n",
    "    'Score': [  acc_log, \n",
    "              acc_random_forest, acc_gaussian,  \n",
    "              acc_decision_tree]})\n",
    "result_df = results.sort_values(by='Score', ascending=False)\n",
    "result_df = result_df.set_index('Score')\n",
    "result_df.head(9)"
   ]
  },
  {
   "cell_type": "code",
   "execution_count": 135,
   "metadata": {},
   "outputs": [],
   "source": [
    "#Among the above models we can see that decision tree and Random forest are performing the best however we will do further evaluations to understand the best model "
   ]
  },
  {
   "cell_type": "code",
   "execution_count": 136,
   "metadata": {},
   "outputs": [],
   "source": [
    "#From the above we visualization and distribution we can see that the dataset is not balanced and since the target variable is not so balanced we will try to increase the count of minority"
   ]
  },
  {
   "cell_type": "code",
   "execution_count": 65,
   "metadata": {},
   "outputs": [],
   "source": [
    "#!pip install imblearn"
   ]
  },
  {
   "cell_type": "code",
   "execution_count": 66,
   "metadata": {},
   "outputs": [],
   "source": [
    "#!pip install -U imbalanced-learn\n"
   ]
  },
  {
   "cell_type": "code",
   "execution_count": 67,
   "metadata": {},
   "outputs": [],
   "source": [
    "#!pip install delayed"
   ]
  },
  {
   "cell_type": "code",
   "execution_count": 137,
   "metadata": {},
   "outputs": [],
   "source": [
    "from imblearn.over_sampling import SMOTE"
   ]
  },
  {
   "cell_type": "code",
   "execution_count": 69,
   "metadata": {},
   "outputs": [],
   "source": [
    "#conda install scikit-learn -c conda-forge "
   ]
  },
  {
   "cell_type": "code",
   "execution_count": 138,
   "metadata": {},
   "outputs": [
    {
     "name": "stdout",
     "output_type": "stream",
     "text": [
      "Before OverSampling, counts of label '1': 122957\n",
      "Before OverSampling, counts of label '0': 17470 \n",
      "\n"
     ]
    }
   ],
   "source": [
    "print(\"Before OverSampling, counts of label '1': {}\".format(sum(y_train == 1))) \n",
    "print(\"Before OverSampling, counts of label '0': {} \\n\".format(sum(y_train == 0))) "
   ]
  },
  {
   "cell_type": "code",
   "execution_count": 139,
   "metadata": {},
   "outputs": [],
   "source": [
    "sm = SMOTE(random_state =0) "
   ]
  },
  {
   "cell_type": "code",
   "execution_count": 140,
   "metadata": {},
   "outputs": [],
   "source": [
    "X_train_res, y_train_res =sm.fit_resample(X_train, y_train.ravel()) "
   ]
  },
  {
   "cell_type": "code",
   "execution_count": 141,
   "metadata": {},
   "outputs": [
    {
     "name": "stdout",
     "output_type": "stream",
     "text": [
      "After OverSampling, the shape of train_X: (245914, 20)\n",
      "After OverSampling, the shape of train_y: (245914,) \n",
      "\n",
      "After OverSampling, counts of label '1': 122957\n",
      "After OverSampling, counts of label '0': 122957\n"
     ]
    }
   ],
   "source": [
    "print('After OverSampling, the shape of train_X: {}'.format(X_train_res.shape)) \n",
    "print('After OverSampling, the shape of train_y: {} \\n'.format(y_train_res.shape)) \n",
    "  \n",
    "print(\"After OverSampling, counts of label '1': {}\".format(sum(y_train_res == 1))) \n",
    "print(\"After OverSampling, counts of label '0': {}\".format(sum(y_train_res == 0)))"
   ]
  },
  {
   "cell_type": "code",
   "execution_count": 142,
   "metadata": {},
   "outputs": [],
   "source": [
    "#Now the dataset looks balanced"
   ]
  },
  {
   "cell_type": "code",
   "execution_count": 143,
   "metadata": {},
   "outputs": [],
   "source": [
    "\n",
    "#Lets run the models with the balanced dataset"
   ]
  },
  {
   "cell_type": "code",
   "execution_count": 144,
   "metadata": {},
   "outputs": [],
   "source": [
    "#Logistic regression1"
   ]
  },
  {
   "cell_type": "code",
   "execution_count": 145,
   "metadata": {},
   "outputs": [],
   "source": [
    "lr1 = LogisticRegression(solver='lbfgs', max_iter=400) \n",
    "lr1.fit(X_train_res, y_train_res.ravel()) \n",
    "predictions = lr1.predict(X_test)"
   ]
  },
  {
   "cell_type": "code",
   "execution_count": 146,
   "metadata": {},
   "outputs": [],
   "source": [
    "acc_log1 = round(lr1.score(X_train_res, y_train_res) * 100, 2)"
   ]
  },
  {
   "cell_type": "code",
   "execution_count": 147,
   "metadata": {},
   "outputs": [],
   "source": [
    "#Random forest"
   ]
  },
  {
   "cell_type": "code",
   "execution_count": 148,
   "metadata": {},
   "outputs": [],
   "source": [
    "\n",
    "random_forest1 = RandomForestClassifier(n_estimators=100)\n",
    "random_forest1.fit(X_train_res, y_train_res)\n",
    "\n",
    "Y_prediction = random_forest1.predict(X_test)\n",
    "\n",
    "random_forest1.score(X_train_res, y_train_res)\n",
    "acc_random_forest1 = round(random_forest1.score(X_train_res, y_train_res) * 100, 2)"
   ]
  },
  {
   "cell_type": "code",
   "execution_count": 149,
   "metadata": {},
   "outputs": [],
   "source": [
    "#Gaussian Naive Bayes"
   ]
  },
  {
   "cell_type": "code",
   "execution_count": 150,
   "metadata": {},
   "outputs": [],
   "source": [
    "gaussian1 = GaussianNB() \n",
    "gaussian1.fit(X_train_res, y_train_res)  \n",
    "Y_pred = gaussian1.predict(X_test)  \n",
    "acc_gaussian1 = round(gaussian1.score(X_train_res, y_train_res) * 100, 2)"
   ]
  },
  {
   "cell_type": "code",
   "execution_count": 151,
   "metadata": {},
   "outputs": [],
   "source": [
    "#Decision Tree classifier"
   ]
  },
  {
   "cell_type": "code",
   "execution_count": 152,
   "metadata": {},
   "outputs": [],
   "source": [
    "decision_tree1 = DecisionTreeClassifier() \n",
    "decision_tree1.fit(X_train_res, y_train_res)  \n",
    "Y_pred = decision_tree1.predict(X_test)  \n",
    "acc_decision_tree1 = round(decision_tree1.score(X_train_res, y_train_res) * 100, 2)"
   ]
  },
  {
   "cell_type": "code",
   "execution_count": 153,
   "metadata": {},
   "outputs": [
    {
     "data": {
      "text/html": [
       "<div>\n",
       "<style scoped>\n",
       "    .dataframe tbody tr th:only-of-type {\n",
       "        vertical-align: middle;\n",
       "    }\n",
       "\n",
       "    .dataframe tbody tr th {\n",
       "        vertical-align: top;\n",
       "    }\n",
       "\n",
       "    .dataframe thead th {\n",
       "        text-align: right;\n",
       "    }\n",
       "</style>\n",
       "<table border=\"1\" class=\"dataframe\">\n",
       "  <thead>\n",
       "    <tr style=\"text-align: right;\">\n",
       "      <th></th>\n",
       "      <th>Model</th>\n",
       "    </tr>\n",
       "    <tr>\n",
       "      <th>Score</th>\n",
       "      <th></th>\n",
       "    </tr>\n",
       "  </thead>\n",
       "  <tbody>\n",
       "    <tr>\n",
       "      <th>99.78</th>\n",
       "      <td>Decision Tree</td>\n",
       "    </tr>\n",
       "    <tr>\n",
       "      <th>99.76</th>\n",
       "      <td>Random Forest</td>\n",
       "    </tr>\n",
       "    <tr>\n",
       "      <th>76.17</th>\n",
       "      <td>Logistic Regression</td>\n",
       "    </tr>\n",
       "    <tr>\n",
       "      <th>72.26</th>\n",
       "      <td>Naive Bayes</td>\n",
       "    </tr>\n",
       "  </tbody>\n",
       "</table>\n",
       "</div>"
      ],
      "text/plain": [
       "                     Model\n",
       "Score                     \n",
       "99.78        Decision Tree\n",
       "99.76        Random Forest\n",
       "76.17  Logistic Regression\n",
       "72.26          Naive Bayes"
      ]
     },
     "execution_count": 153,
     "metadata": {},
     "output_type": "execute_result"
    }
   ],
   "source": [
    "#Looping to find the best Model\n",
    "results = pd.DataFrame({\n",
    "    'Model': [ 'Logistic Regression', \n",
    "              'Random Forest', 'Naive Bayes', \n",
    "              'Decision Tree'],\n",
    "    'Score': [  acc_log1, \n",
    "              acc_random_forest1, acc_gaussian1,  \n",
    "              acc_decision_tree1]})\n",
    "result_df = results.sort_values(by='Score', ascending=False)\n",
    "result_df = result_df.set_index('Score')\n",
    "result_df.head(9)"
   ]
  },
  {
   "cell_type": "code",
   "execution_count": 154,
   "metadata": {},
   "outputs": [],
   "source": [
    "#We still see that decision tree and random forest performing the best among the model.Lets do a further evaluation on the same"
   ]
  },
  {
   "cell_type": "code",
   "execution_count": 155,
   "metadata": {},
   "outputs": [
    {
     "name": "stdout",
     "output_type": "stream",
     "text": [
      "Scores: [0.79867437 0.89488452 0.95714053 0.95518868 0.95656948 0.9578301\n",
      " 0.95632548 0.95717946 0.95539018 0.9568948 ]\n",
      "Mean: 0.9346077593912663\n",
      "Standard Deviation: 0.04890652343050934\n"
     ]
    }
   ],
   "source": [
    "from sklearn.model_selection import cross_val_score\n",
    "rf = RandomForestClassifier(n_estimators=100)\n",
    "scores = cross_val_score(rf, X_train_res, y_train_res, cv=10, scoring = \"accuracy\")\n",
    "print(\"Scores:\", scores)\n",
    "print(\"Mean:\", scores.mean())\n",
    "print(\"Standard Deviation:\", scores.std())"
   ]
  },
  {
   "cell_type": "code",
   "execution_count": 156,
   "metadata": {},
   "outputs": [
    {
     "name": "stdout",
     "output_type": "stream",
     "text": [
      "Scores: [0.7741542  0.85653871 0.91090599 0.90830351 0.91277297 0.91147168\n",
      " 0.90626652 0.91187833 0.90996706 0.91293563]\n",
      "Mean: 0.89151945873528\n",
      "Standard Deviation: 0.042351537925899733\n"
     ]
    }
   ],
   "source": [
    "from sklearn.model_selection import cross_val_score\n",
    "dtc = DecisionTreeClassifier()\n",
    "scores = cross_val_score(dtc, X_train_res, y_train_res, cv=10, scoring = \"accuracy\")\n",
    "print(\"Scores:\", scores)\n",
    "print(\"Mean:\", scores.mean())\n",
    "print(\"Standard Deviation:\", scores.std())"
   ]
  },
  {
   "cell_type": "code",
   "execution_count": 157,
   "metadata": {},
   "outputs": [],
   "source": [
    "#From the above we can see that Random forest is performing better with percentage of 93.4 % where as decision tree is only 89.15%"
   ]
  },
  {
   "cell_type": "code",
   "execution_count": 158,
   "metadata": {},
   "outputs": [],
   "source": [
    "#Feature importance"
   ]
  },
  {
   "cell_type": "code",
   "execution_count": 159,
   "metadata": {},
   "outputs": [
    {
     "data": {
      "text/html": [
       "<div>\n",
       "<style scoped>\n",
       "    .dataframe tbody tr th:only-of-type {\n",
       "        vertical-align: middle;\n",
       "    }\n",
       "\n",
       "    .dataframe tbody tr th {\n",
       "        vertical-align: top;\n",
       "    }\n",
       "\n",
       "    .dataframe thead th {\n",
       "        text-align: right;\n",
       "    }\n",
       "</style>\n",
       "<table border=\"1\" class=\"dataframe\">\n",
       "  <thead>\n",
       "    <tr style=\"text-align: right;\">\n",
       "      <th></th>\n",
       "      <th>importance</th>\n",
       "    </tr>\n",
       "    <tr>\n",
       "      <th>feature</th>\n",
       "      <th></th>\n",
       "    </tr>\n",
       "  </thead>\n",
       "  <tbody>\n",
       "    <tr>\n",
       "      <th>daily_decr90</th>\n",
       "      <td>0.183</td>\n",
       "    </tr>\n",
       "    <tr>\n",
       "      <th>daily_decr30</th>\n",
       "      <td>0.127</td>\n",
       "    </tr>\n",
       "    <tr>\n",
       "      <th>aon</th>\n",
       "      <td>0.078</td>\n",
       "    </tr>\n",
       "    <tr>\n",
       "      <th>medianmarechprebal90</th>\n",
       "      <td>0.075</td>\n",
       "    </tr>\n",
       "    <tr>\n",
       "      <th>sumamnt_ma_rech90</th>\n",
       "      <td>0.066</td>\n",
       "    </tr>\n",
       "    <tr>\n",
       "      <th>medianmarechprebal30</th>\n",
       "      <td>0.063</td>\n",
       "    </tr>\n",
       "    <tr>\n",
       "      <th>rental90</th>\n",
       "      <td>0.057</td>\n",
       "    </tr>\n",
       "    <tr>\n",
       "      <th>rental30</th>\n",
       "      <td>0.055</td>\n",
       "    </tr>\n",
       "    <tr>\n",
       "      <th>sumamnt_ma_rech30</th>\n",
       "      <td>0.050</td>\n",
       "    </tr>\n",
       "    <tr>\n",
       "      <th>cnt_ma_rech90</th>\n",
       "      <td>0.044</td>\n",
       "    </tr>\n",
       "    <tr>\n",
       "      <th>fr_ma_rech90</th>\n",
       "      <td>0.034</td>\n",
       "    </tr>\n",
       "    <tr>\n",
       "      <th>medianamnt_ma_rech30</th>\n",
       "      <td>0.028</td>\n",
       "    </tr>\n",
       "    <tr>\n",
       "      <th>medianamnt_ma_rech90</th>\n",
       "      <td>0.028</td>\n",
       "    </tr>\n",
       "    <tr>\n",
       "      <th>amnt_loans90</th>\n",
       "      <td>0.025</td>\n",
       "    </tr>\n",
       "    <tr>\n",
       "      <th>fr_ma_rech30</th>\n",
       "      <td>0.023</td>\n",
       "    </tr>\n",
       "  </tbody>\n",
       "</table>\n",
       "</div>"
      ],
      "text/plain": [
       "                      importance\n",
       "feature                         \n",
       "daily_decr90               0.183\n",
       "daily_decr30               0.127\n",
       "aon                        0.078\n",
       "medianmarechprebal90       0.075\n",
       "sumamnt_ma_rech90          0.066\n",
       "medianmarechprebal30       0.063\n",
       "rental90                   0.057\n",
       "rental30                   0.055\n",
       "sumamnt_ma_rech30          0.050\n",
       "cnt_ma_rech90              0.044\n",
       "fr_ma_rech90               0.034\n",
       "medianamnt_ma_rech30       0.028\n",
       "medianamnt_ma_rech90       0.028\n",
       "amnt_loans90               0.025\n",
       "fr_ma_rech30               0.023"
      ]
     },
     "execution_count": 159,
     "metadata": {},
     "output_type": "execute_result"
    }
   ],
   "source": [
    "importances = pd.DataFrame({'feature':X_train_res.columns,'importance':np.round(random_forest.feature_importances_,3)})\n",
    "importances = importances.sort_values('importance',ascending=False).set_index('feature')\n",
    "importances.head(15)"
   ]
  },
  {
   "cell_type": "code",
   "execution_count": 98,
   "metadata": {},
   "outputs": [],
   "source": [
    "##Hyperparameter tuning"
   ]
  },
  {
   "cell_type": "markdown",
   "metadata": {},
   "source": [
    "param_grid = { \"criterion\" : [\"gini\", \"entropy\"], \"min_samples_leaf\" : [1, 5, 10, 25, 50, 70], \"min_samples_split\" : [2, 4, 10, 12, 16, 18, 25, 35], \"n_estimators\": [100, 400, 700, 1000, 1500]} from sklearn.model_selection import GridSearchCV, cross_val_score rf = RandomForestClassifier(n_estimators=100, max_features='auto', oob_score=True, random_state=1, n_jobs=-1) clf = GridSearchCV(estimator=rf, param_grid=param_grid, n_jobs=-1) clf.fit(X_train, y_train) clf.bestparams"
   ]
  },
  {
   "cell_type": "code",
   "execution_count": 160,
   "metadata": {},
   "outputs": [
    {
     "name": "stdout",
     "output_type": "stream",
     "text": [
      "oob score: 93.27 %\n"
     ]
    }
   ],
   "source": [
    "# Random Forest\n",
    "random_forest = RandomForestClassifier(criterion = \"gini\", \n",
    "                                       min_samples_leaf = 1, \n",
    "                                       min_samples_split = 10,   \n",
    "                                       n_estimators=100, \n",
    "                                       max_features='auto', \n",
    "                                       oob_score=True, \n",
    "                                       random_state=1, \n",
    "                                       n_jobs=-1)\n",
    "\n",
    "random_forest.fit(X_train_res, y_train_res)\n",
    "Y_prediction = random_forest.predict(X_test)\n",
    "\n",
    "random_forest.score(X_train_res, y_train_res)\n",
    "\n",
    "print(\"oob score:\", round(random_forest.oob_score_, 4)*100, \"%\")"
   ]
  },
  {
   "cell_type": "code",
   "execution_count": 161,
   "metadata": {},
   "outputs": [
    {
     "data": {
      "text/plain": [
       "array([[112363,  10594],\n",
       "       [  8294, 114663]], dtype=int64)"
      ]
     },
     "execution_count": 161,
     "metadata": {},
     "output_type": "execute_result"
    }
   ],
   "source": [
    "#Further evaluation\n",
    "#Confusion Matrix:\n",
    "from sklearn.model_selection import cross_val_predict\n",
    "from sklearn.metrics import confusion_matrix\n",
    "predictions = cross_val_predict(random_forest, X_train_res, y_train_res, cv=3)\n",
    "confusion_matrix(y_train_res, predictions)"
   ]
  },
  {
   "cell_type": "code",
   "execution_count": 162,
   "metadata": {},
   "outputs": [
    {
     "name": "stdout",
     "output_type": "stream",
     "text": [
      "Precision: 0.9154218925888373\n",
      "Recall: 0.9325455240449914\n"
     ]
    }
   ],
   "source": [
    "#Precision and Recall:\n",
    "from sklearn.metrics import precision_score, recall_score\n",
    "\n",
    "print(\"Precision:\", precision_score(y_train_res, predictions))\n",
    "print(\"Recall:\",recall_score(y_train_res, predictions))"
   ]
  },
  {
   "cell_type": "code",
   "execution_count": 163,
   "metadata": {},
   "outputs": [
    {
     "data": {
      "text/plain": [
       "0.9239043728395658"
      ]
     },
     "execution_count": 163,
     "metadata": {},
     "output_type": "execute_result"
    }
   ],
   "source": [
    "from sklearn.metrics import f1_score\n",
    "f1_score(y_train_res, predictions)"
   ]
  },
  {
   "cell_type": "code",
   "execution_count": 164,
   "metadata": {},
   "outputs": [
    {
     "data": {
      "image/png": "[encoded data removed]",
      "text/plain": [
       "<Figure size 1008x504 with 1 Axes>"
      ]
     },
     "metadata": {
      "needs_background": "light"
     },
     "output_type": "display_data"
    }
   ],
   "source": [
    "\n",
    "#ROC-AUC Curve\n",
    "\n",
    "from sklearn.metrics import roc_curve\n",
    "# compute true positive rate and false positive rate\n",
    "false_positive_rate, true_positive_rate, thresholds = roc_curve(y_train_res, predictions)\n",
    "# plotting them against each other\n",
    "def plot_roc_curve(false_positive_rate, true_positive_rate, label=None):\n",
    "    plt.plot(false_positive_rate, true_positive_rate, linewidth=2, label=label)\n",
    "    plt.plot([0, 1], [0, 1], 'r', linewidth=4)\n",
    "    plt.axis([0, 1, 0, 1])\n",
    "    plt.xlabel('False Positive Rate (FPR)', fontsize=16)\n",
    "    plt.ylabel('True Positive Rate (TPR)', fontsize=16)\n",
    "\n",
    "plt.figure(figsize=(14, 7))\n",
    "plot_roc_curve(false_positive_rate, true_positive_rate)\n",
    "plt.show()"
   ]
  },
  {
   "cell_type": "code",
   "execution_count": 165,
   "metadata": {},
   "outputs": [
    {
     "name": "stdout",
     "output_type": "stream",
     "text": [
      "ROC-AUC-Score: 0.9231926608489147\n"
     ]
    }
   ],
   "source": [
    "from sklearn.metrics import roc_auc_score\n",
    "r_a_score = roc_auc_score(y_train_res, predictions)\n",
    "print(\"ROC-AUC-Score:\", r_a_score)"
   ]
  },
  {
   "cell_type": "code",
   "execution_count": 166,
   "metadata": {},
   "outputs": [],
   "source": [
    "#Model Saving\n",
    "\n",
    "import pickle\n",
    "filename='Microcreditdefaulter_Status.pkl'\n",
    "pickle.dump(random_forest,open(filename,'wb'))"
   ]
  },
  {
   "cell_type": "code",
   "execution_count": 167,
   "metadata": {},
   "outputs": [
    {
     "data": {
      "text/html": [
       "<div>\n",
       "<style scoped>\n",
       "    .dataframe tbody tr th:only-of-type {\n",
       "        vertical-align: middle;\n",
       "    }\n",
       "\n",
       "    .dataframe tbody tr th {\n",
       "        vertical-align: top;\n",
       "    }\n",
       "\n",
       "    .dataframe thead th {\n",
       "        text-align: right;\n",
       "    }\n",
       "</style>\n",
       "<table border=\"1\" class=\"dataframe\">\n",
       "  <thead>\n",
       "    <tr style=\"text-align: right;\">\n",
       "      <th></th>\n",
       "      <th>Original</th>\n",
       "      <th>predicted</th>\n",
       "    </tr>\n",
       "  </thead>\n",
       "  <tbody>\n",
       "    <tr>\n",
       "      <th>0</th>\n",
       "      <td>1</td>\n",
       "      <td>1</td>\n",
       "    </tr>\n",
       "    <tr>\n",
       "      <th>1</th>\n",
       "      <td>1</td>\n",
       "      <td>0</td>\n",
       "    </tr>\n",
       "    <tr>\n",
       "      <th>2</th>\n",
       "      <td>1</td>\n",
       "      <td>1</td>\n",
       "    </tr>\n",
       "    <tr>\n",
       "      <th>3</th>\n",
       "      <td>1</td>\n",
       "      <td>1</td>\n",
       "    </tr>\n",
       "    <tr>\n",
       "      <th>4</th>\n",
       "      <td>1</td>\n",
       "      <td>1</td>\n",
       "    </tr>\n",
       "    <tr>\n",
       "      <th>...</th>\n",
       "      <td>...</td>\n",
       "      <td>...</td>\n",
       "    </tr>\n",
       "    <tr>\n",
       "      <th>69161</th>\n",
       "      <td>1</td>\n",
       "      <td>1</td>\n",
       "    </tr>\n",
       "    <tr>\n",
       "      <th>69162</th>\n",
       "      <td>0</td>\n",
       "      <td>1</td>\n",
       "    </tr>\n",
       "    <tr>\n",
       "      <th>69163</th>\n",
       "      <td>1</td>\n",
       "      <td>1</td>\n",
       "    </tr>\n",
       "    <tr>\n",
       "      <th>69164</th>\n",
       "      <td>0</td>\n",
       "      <td>1</td>\n",
       "    </tr>\n",
       "    <tr>\n",
       "      <th>69165</th>\n",
       "      <td>1</td>\n",
       "      <td>1</td>\n",
       "    </tr>\n",
       "  </tbody>\n",
       "</table>\n",
       "<p>69166 rows × 2 columns</p>\n",
       "</div>"
      ],
      "text/plain": [
       "       Original  predicted\n",
       "0             1          1\n",
       "1             1          0\n",
       "2             1          1\n",
       "3             1          1\n",
       "4             1          1\n",
       "...         ...        ...\n",
       "69161         1          1\n",
       "69162         0          1\n",
       "69163         1          1\n",
       "69164         0          1\n",
       "69165         1          1\n",
       "\n",
       "[69166 rows x 2 columns]"
      ]
     },
     "execution_count": 167,
     "metadata": {},
     "output_type": "execute_result"
    }
   ],
   "source": [
    "#Conclusion\n",
    "a=np.array(y_test)\n",
    "predicted=np.array(random_forest1.predict(X_test))\n",
    "df_com=pd.DataFrame({\"Original\":a,\"predicted\":predicted},index=range(len(a)))\n",
    "df_com"
   ]
  },
  {
   "cell_type": "code",
   "execution_count": null,
   "metadata": {},
   "outputs": [],
   "source": [
    "#Randomforest classifier performed the best and hence has been chosen as the model."
   ]
  }
 ],
 "metadata": {
  "kernelspec": {
   "display_name": "Python 3",
   "language": "python",
   "name": "python3"
  },
  "language_info": {
   "codemirror_mode": {
    "name": "ipython",
    "version": 3
   },
   "file_extension": ".py",
   "mimetype": "text/x-python",
   "name": "python",
   "nbconvert_exporter": "python",
   "pygments_lexer": "ipython3",
   "version": "3.8.3"
  }
 },
 "nbformat": 4,
 "nbformat_minor": 4
}
