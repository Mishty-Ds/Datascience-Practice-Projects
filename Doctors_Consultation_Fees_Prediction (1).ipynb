{
 "cells": [
  {
   "cell_type": "code",
   "execution_count": 413,
   "metadata": {},
   "outputs": [],
   "source": [
    "#importing libraries"
   ]
  },
  {
   "cell_type": "code",
   "execution_count": 414,
   "metadata": {},
   "outputs": [],
   "source": [
    "import numpy as np\n",
    "import pandas as pd\n",
    "import seaborn as sns\n",
    "import matplotlib.pyplot as plt"
   ]
  },
  {
   "cell_type": "code",
   "execution_count": 415,
   "metadata": {},
   "outputs": [],
   "source": [
    "#Reading excel\n",
    "df=pd.read_excel('Final_Train.Xlsx')"
   ]
  },
  {
   "cell_type": "code",
   "execution_count": 416,
   "metadata": {},
   "outputs": [],
   "source": [
    "test=pd.read_excel('Final_Test.Xlsx')"
   ]
  },
  {
   "cell_type": "code",
   "execution_count": 417,
   "metadata": {},
   "outputs": [
    {
     "data": {
      "text/html": [
       "<div>\n",
       "<style scoped>\n",
       "    .dataframe tbody tr th:only-of-type {\n",
       "        vertical-align: middle;\n",
       "    }\n",
       "\n",
       "    .dataframe tbody tr th {\n",
       "        vertical-align: top;\n",
       "    }\n",
       "\n",
       "    .dataframe thead th {\n",
       "        text-align: right;\n",
       "    }\n",
       "</style>\n",
       "<table border=\"1\" class=\"dataframe\">\n",
       "  <thead>\n",
       "    <tr style=\"text-align: right;\">\n",
       "      <th></th>\n",
       "      <th>Qualification</th>\n",
       "      <th>Experience</th>\n",
       "      <th>Rating</th>\n",
       "      <th>Place</th>\n",
       "      <th>Profile</th>\n",
       "      <th>Miscellaneous_Info</th>\n",
       "      <th>Fees</th>\n",
       "    </tr>\n",
       "  </thead>\n",
       "  <tbody>\n",
       "    <tr>\n",
       "      <th>0</th>\n",
       "      <td>BHMS, MD - Homeopathy</td>\n",
       "      <td>24 years experience</td>\n",
       "      <td>100%</td>\n",
       "      <td>Kakkanad, Ernakulam</td>\n",
       "      <td>Homeopath</td>\n",
       "      <td>100% 16 Feedback Kakkanad, Ernakulam</td>\n",
       "      <td>100</td>\n",
       "    </tr>\n",
       "    <tr>\n",
       "      <th>1</th>\n",
       "      <td>BAMS, MD - Ayurveda Medicine</td>\n",
       "      <td>12 years experience</td>\n",
       "      <td>98%</td>\n",
       "      <td>Whitefield, Bangalore</td>\n",
       "      <td>Ayurveda</td>\n",
       "      <td>98% 76 Feedback Whitefield, Bangalore</td>\n",
       "      <td>350</td>\n",
       "    </tr>\n",
       "    <tr>\n",
       "      <th>2</th>\n",
       "      <td>MBBS, MS - Otorhinolaryngology</td>\n",
       "      <td>9 years experience</td>\n",
       "      <td>NaN</td>\n",
       "      <td>Mathikere - BEL, Bangalore</td>\n",
       "      <td>ENT Specialist</td>\n",
       "      <td>NaN</td>\n",
       "      <td>300</td>\n",
       "    </tr>\n",
       "    <tr>\n",
       "      <th>3</th>\n",
       "      <td>BSc - Zoology, BAMS</td>\n",
       "      <td>12 years experience</td>\n",
       "      <td>NaN</td>\n",
       "      <td>Bannerghatta Road, Bangalore</td>\n",
       "      <td>Ayurveda</td>\n",
       "      <td>Bannerghatta Road, Bangalore ₹250 Available on...</td>\n",
       "      <td>250</td>\n",
       "    </tr>\n",
       "    <tr>\n",
       "      <th>4</th>\n",
       "      <td>BAMS</td>\n",
       "      <td>20 years experience</td>\n",
       "      <td>100%</td>\n",
       "      <td>Keelkattalai, Chennai</td>\n",
       "      <td>Ayurveda</td>\n",
       "      <td>100% 4 Feedback Keelkattalai, Chennai</td>\n",
       "      <td>250</td>\n",
       "    </tr>\n",
       "    <tr>\n",
       "      <th>...</th>\n",
       "      <td>...</td>\n",
       "      <td>...</td>\n",
       "      <td>...</td>\n",
       "      <td>...</td>\n",
       "      <td>...</td>\n",
       "      <td>...</td>\n",
       "      <td>...</td>\n",
       "    </tr>\n",
       "    <tr>\n",
       "      <th>5956</th>\n",
       "      <td>MBBS, MS - ENT</td>\n",
       "      <td>19 years experience</td>\n",
       "      <td>98%</td>\n",
       "      <td>Basavanagudi, Bangalore</td>\n",
       "      <td>ENT Specialist</td>\n",
       "      <td>98% 45 Feedback Basavanagudi, Bangalore</td>\n",
       "      <td>300</td>\n",
       "    </tr>\n",
       "    <tr>\n",
       "      <th>5957</th>\n",
       "      <td>MBBS</td>\n",
       "      <td>33 years experience</td>\n",
       "      <td>NaN</td>\n",
       "      <td>Nungambakkam, Chennai</td>\n",
       "      <td>General Medicine</td>\n",
       "      <td>NaN</td>\n",
       "      <td>100</td>\n",
       "    </tr>\n",
       "    <tr>\n",
       "      <th>5958</th>\n",
       "      <td>MBBS</td>\n",
       "      <td>41 years experience</td>\n",
       "      <td>97%</td>\n",
       "      <td>Greater Kailash Part 2, Delhi</td>\n",
       "      <td>General Medicine</td>\n",
       "      <td>97% 11 Feedback Greater Kailash Part 2, Delhi</td>\n",
       "      <td>600</td>\n",
       "    </tr>\n",
       "    <tr>\n",
       "      <th>5959</th>\n",
       "      <td>MBBS, MD - General Medicine</td>\n",
       "      <td>15 years experience</td>\n",
       "      <td>90%</td>\n",
       "      <td>Vileparle West, Mumbai</td>\n",
       "      <td>General Medicine</td>\n",
       "      <td>General Medical Consultation Viral Fever Treat...</td>\n",
       "      <td>100</td>\n",
       "    </tr>\n",
       "    <tr>\n",
       "      <th>5960</th>\n",
       "      <td>BDS, MDS - Orthodontics</td>\n",
       "      <td>17 years experience</td>\n",
       "      <td>100%</td>\n",
       "      <td>Pitampura, Delhi</td>\n",
       "      <td>Dentist</td>\n",
       "      <td>Acrylic Partial Denture Crowns and Bridges Fix...</td>\n",
       "      <td>200</td>\n",
       "    </tr>\n",
       "  </tbody>\n",
       "</table>\n",
       "<p>5961 rows × 7 columns</p>\n",
       "</div>"
      ],
      "text/plain": [
       "                       Qualification           Experience Rating  \\\n",
       "0              BHMS, MD - Homeopathy  24 years experience   100%   \n",
       "1       BAMS, MD - Ayurveda Medicine  12 years experience    98%   \n",
       "2     MBBS, MS - Otorhinolaryngology   9 years experience    NaN   \n",
       "3                BSc - Zoology, BAMS  12 years experience    NaN   \n",
       "4                               BAMS  20 years experience   100%   \n",
       "...                              ...                  ...    ...   \n",
       "5956                  MBBS, MS - ENT  19 years experience    98%   \n",
       "5957                            MBBS  33 years experience    NaN   \n",
       "5958                            MBBS  41 years experience    97%   \n",
       "5959     MBBS, MD - General Medicine  15 years experience    90%   \n",
       "5960         BDS, MDS - Orthodontics  17 years experience   100%   \n",
       "\n",
       "                              Place           Profile  \\\n",
       "0               Kakkanad, Ernakulam         Homeopath   \n",
       "1             Whitefield, Bangalore          Ayurveda   \n",
       "2        Mathikere - BEL, Bangalore    ENT Specialist   \n",
       "3      Bannerghatta Road, Bangalore          Ayurveda   \n",
       "4             Keelkattalai, Chennai          Ayurveda   \n",
       "...                             ...               ...   \n",
       "5956        Basavanagudi, Bangalore    ENT Specialist   \n",
       "5957          Nungambakkam, Chennai  General Medicine   \n",
       "5958  Greater Kailash Part 2, Delhi  General Medicine   \n",
       "5959         Vileparle West, Mumbai  General Medicine   \n",
       "5960               Pitampura, Delhi           Dentist   \n",
       "\n",
       "                                     Miscellaneous_Info  Fees  \n",
       "0                  100% 16 Feedback Kakkanad, Ernakulam   100  \n",
       "1                 98% 76 Feedback Whitefield, Bangalore   350  \n",
       "2                                                   NaN   300  \n",
       "3     Bannerghatta Road, Bangalore ₹250 Available on...   250  \n",
       "4                 100% 4 Feedback Keelkattalai, Chennai   250  \n",
       "...                                                 ...   ...  \n",
       "5956            98% 45 Feedback Basavanagudi, Bangalore   300  \n",
       "5957                                                NaN   100  \n",
       "5958      97% 11 Feedback Greater Kailash Part 2, Delhi   600  \n",
       "5959  General Medical Consultation Viral Fever Treat...   100  \n",
       "5960  Acrylic Partial Denture Crowns and Bridges Fix...   200  \n",
       "\n",
       "[5961 rows x 7 columns]"
      ]
     },
     "execution_count": 417,
     "metadata": {},
     "output_type": "execute_result"
    }
   ],
   "source": [
    "df"
   ]
  },
  {
   "cell_type": "code",
   "execution_count": 418,
   "metadata": {},
   "outputs": [
    {
     "name": "stdout",
     "output_type": "stream",
     "text": [
      "<class 'pandas.core.frame.DataFrame'>\n",
      "RangeIndex: 5961 entries, 0 to 5960\n",
      "Data columns (total 7 columns):\n",
      " #   Column              Non-Null Count  Dtype \n",
      "---  ------              --------------  ----- \n",
      " 0   Qualification       5961 non-null   object\n",
      " 1   Experience          5961 non-null   object\n",
      " 2   Rating              2659 non-null   object\n",
      " 3   Place               5936 non-null   object\n",
      " 4   Profile             5961 non-null   object\n",
      " 5   Miscellaneous_Info  3341 non-null   object\n",
      " 6   Fees                5961 non-null   int64 \n",
      "dtypes: int64(1), object(6)\n",
      "memory usage: 326.1+ KB\n"
     ]
    }
   ],
   "source": [
    "df.info()"
   ]
  },
  {
   "cell_type": "code",
   "execution_count": 419,
   "metadata": {},
   "outputs": [],
   "source": [
    "#We need to build a model which can predict the fees "
   ]
  },
  {
   "cell_type": "code",
   "execution_count": 420,
   "metadata": {},
   "outputs": [],
   "source": [
    "#Data exploration and preprocessing"
   ]
  },
  {
   "cell_type": "code",
   "execution_count": 421,
   "metadata": {},
   "outputs": [
    {
     "data": {
      "text/plain": [
       "950"
      ]
     },
     "execution_count": 421,
     "metadata": {},
     "output_type": "execute_result"
    }
   ],
   "source": [
    "#to see the highest fees paid\n",
    "df['Fees'].max()"
   ]
  },
  {
   "cell_type": "code",
   "execution_count": 422,
   "metadata": {},
   "outputs": [
    {
     "data": {
      "text/html": [
       "<div>\n",
       "<style scoped>\n",
       "    .dataframe tbody tr th:only-of-type {\n",
       "        vertical-align: middle;\n",
       "    }\n",
       "\n",
       "    .dataframe tbody tr th {\n",
       "        vertical-align: top;\n",
       "    }\n",
       "\n",
       "    .dataframe thead th {\n",
       "        text-align: right;\n",
       "    }\n",
       "</style>\n",
       "<table border=\"1\" class=\"dataframe\">\n",
       "  <thead>\n",
       "    <tr style=\"text-align: right;\">\n",
       "      <th></th>\n",
       "      <th>Qualification</th>\n",
       "      <th>Experience</th>\n",
       "      <th>Rating</th>\n",
       "      <th>Place</th>\n",
       "      <th>Profile</th>\n",
       "      <th>Miscellaneous_Info</th>\n",
       "      <th>Fees</th>\n",
       "    </tr>\n",
       "  </thead>\n",
       "  <tbody>\n",
       "    <tr>\n",
       "      <th>293</th>\n",
       "      <td>MBBS, MD - Internal Medicine, FRCP</td>\n",
       "      <td>29 years experience</td>\n",
       "      <td>100%</td>\n",
       "      <td>Adyar, Chennai</td>\n",
       "      <td>General Medicine</td>\n",
       "      <td>100% 175 Feedback Adyar, Chennai</td>\n",
       "      <td>950</td>\n",
       "    </tr>\n",
       "  </tbody>\n",
       "</table>\n",
       "</div>"
      ],
      "text/plain": [
       "                          Qualification           Experience Rating  \\\n",
       "293  MBBS, MD - Internal Medicine, FRCP  29 years experience   100%   \n",
       "\n",
       "              Place           Profile                Miscellaneous_Info  Fees  \n",
       "293  Adyar, Chennai  General Medicine  100% 175 Feedback Adyar, Chennai   950  "
      ]
     },
     "execution_count": 422,
     "metadata": {},
     "output_type": "execute_result"
    }
   ],
   "source": [
    "df[df['Fees']== 950]"
   ]
  },
  {
   "cell_type": "code",
   "execution_count": 423,
   "metadata": {},
   "outputs": [],
   "source": [
    "#Lets change the experience into numerical variable by splitting the data with help of split function"
   ]
  },
  {
   "cell_type": "code",
   "execution_count": 424,
   "metadata": {},
   "outputs": [],
   "source": [
    "#Clean experience field\n",
    "def changeexperience(x):\n",
    "    exp=x.split(' ')\n",
    "    return exp[0]"
   ]
  },
  {
   "cell_type": "code",
   "execution_count": 425,
   "metadata": {},
   "outputs": [],
   "source": [
    "df['Experience']=df['Experience'].apply(changeexperience)"
   ]
  },
  {
   "cell_type": "code",
   "execution_count": 426,
   "metadata": {},
   "outputs": [
    {
     "data": {
      "text/plain": [
       "0    24\n",
       "1    12\n",
       "2     9\n",
       "3    12\n",
       "4    20\n",
       "Name: Experience, dtype: object"
      ]
     },
     "execution_count": 426,
     "metadata": {},
     "output_type": "execute_result"
    }
   ],
   "source": [
    "df['Experience'].head(5)"
   ]
  },
  {
   "cell_type": "code",
   "execution_count": 427,
   "metadata": {},
   "outputs": [],
   "source": [
    "test['Experience']=test['Experience'].apply(changeexperience)"
   ]
  },
  {
   "cell_type": "code",
   "execution_count": 428,
   "metadata": {},
   "outputs": [
    {
     "data": {
      "text/plain": [
       "0    35\n",
       "1    31\n",
       "2    40\n",
       "3     0\n",
       "4    16\n",
       "Name: Experience, dtype: object"
      ]
     },
     "execution_count": 428,
     "metadata": {},
     "output_type": "execute_result"
    }
   ],
   "source": [
    "test['Experience'].head(5)"
   ]
  },
  {
   "cell_type": "code",
   "execution_count": 429,
   "metadata": {},
   "outputs": [
    {
     "data": {
      "text/html": [
       "<div>\n",
       "<style scoped>\n",
       "    .dataframe tbody tr th:only-of-type {\n",
       "        vertical-align: middle;\n",
       "    }\n",
       "\n",
       "    .dataframe tbody tr th {\n",
       "        vertical-align: top;\n",
       "    }\n",
       "\n",
       "    .dataframe thead th {\n",
       "        text-align: right;\n",
       "    }\n",
       "</style>\n",
       "<table border=\"1\" class=\"dataframe\">\n",
       "  <thead>\n",
       "    <tr style=\"text-align: right;\">\n",
       "      <th></th>\n",
       "      <th>Qualification</th>\n",
       "      <th>Experience</th>\n",
       "      <th>Rating</th>\n",
       "      <th>Place</th>\n",
       "      <th>Profile</th>\n",
       "      <th>Miscellaneous_Info</th>\n",
       "      <th>Fees</th>\n",
       "    </tr>\n",
       "  </thead>\n",
       "  <tbody>\n",
       "    <tr>\n",
       "      <th>0</th>\n",
       "      <td>BHMS, MD - Homeopathy</td>\n",
       "      <td>24</td>\n",
       "      <td>100%</td>\n",
       "      <td>Kakkanad, Ernakulam</td>\n",
       "      <td>Homeopath</td>\n",
       "      <td>100% 16 Feedback Kakkanad, Ernakulam</td>\n",
       "      <td>100</td>\n",
       "    </tr>\n",
       "    <tr>\n",
       "      <th>1</th>\n",
       "      <td>BAMS, MD - Ayurveda Medicine</td>\n",
       "      <td>12</td>\n",
       "      <td>98%</td>\n",
       "      <td>Whitefield, Bangalore</td>\n",
       "      <td>Ayurveda</td>\n",
       "      <td>98% 76 Feedback Whitefield, Bangalore</td>\n",
       "      <td>350</td>\n",
       "    </tr>\n",
       "    <tr>\n",
       "      <th>2</th>\n",
       "      <td>MBBS, MS - Otorhinolaryngology</td>\n",
       "      <td>9</td>\n",
       "      <td>NaN</td>\n",
       "      <td>Mathikere - BEL, Bangalore</td>\n",
       "      <td>ENT Specialist</td>\n",
       "      <td>NaN</td>\n",
       "      <td>300</td>\n",
       "    </tr>\n",
       "    <tr>\n",
       "      <th>3</th>\n",
       "      <td>BSc - Zoology, BAMS</td>\n",
       "      <td>12</td>\n",
       "      <td>NaN</td>\n",
       "      <td>Bannerghatta Road, Bangalore</td>\n",
       "      <td>Ayurveda</td>\n",
       "      <td>Bannerghatta Road, Bangalore ₹250 Available on...</td>\n",
       "      <td>250</td>\n",
       "    </tr>\n",
       "    <tr>\n",
       "      <th>4</th>\n",
       "      <td>BAMS</td>\n",
       "      <td>20</td>\n",
       "      <td>100%</td>\n",
       "      <td>Keelkattalai, Chennai</td>\n",
       "      <td>Ayurveda</td>\n",
       "      <td>100% 4 Feedback Keelkattalai, Chennai</td>\n",
       "      <td>250</td>\n",
       "    </tr>\n",
       "  </tbody>\n",
       "</table>\n",
       "</div>"
      ],
      "text/plain": [
       "                    Qualification Experience Rating  \\\n",
       "0           BHMS, MD - Homeopathy         24   100%   \n",
       "1    BAMS, MD - Ayurveda Medicine         12    98%   \n",
       "2  MBBS, MS - Otorhinolaryngology          9    NaN   \n",
       "3             BSc - Zoology, BAMS         12    NaN   \n",
       "4                            BAMS         20   100%   \n",
       "\n",
       "                          Place         Profile  \\\n",
       "0           Kakkanad, Ernakulam       Homeopath   \n",
       "1         Whitefield, Bangalore        Ayurveda   \n",
       "2    Mathikere - BEL, Bangalore  ENT Specialist   \n",
       "3  Bannerghatta Road, Bangalore        Ayurveda   \n",
       "4         Keelkattalai, Chennai        Ayurveda   \n",
       "\n",
       "                                  Miscellaneous_Info  Fees  \n",
       "0               100% 16 Feedback Kakkanad, Ernakulam   100  \n",
       "1              98% 76 Feedback Whitefield, Bangalore   350  \n",
       "2                                                NaN   300  \n",
       "3  Bannerghatta Road, Bangalore ₹250 Available on...   250  \n",
       "4              100% 4 Feedback Keelkattalai, Chennai   250  "
      ]
     },
     "execution_count": 429,
     "metadata": {},
     "output_type": "execute_result"
    }
   ],
   "source": [
    "df.head()"
   ]
  },
  {
   "cell_type": "code",
   "execution_count": 430,
   "metadata": {},
   "outputs": [],
   "source": [
    "#There looks no relevant information in miscellaneous info hence lets drop it"
   ]
  },
  {
   "cell_type": "code",
   "execution_count": 431,
   "metadata": {},
   "outputs": [],
   "source": [
    "df.drop('Miscellaneous_Info',axis=1,inplace=True)"
   ]
  },
  {
   "cell_type": "code",
   "execution_count": 432,
   "metadata": {},
   "outputs": [],
   "source": [
    "\n",
    "test.drop('Miscellaneous_Info',axis=1,inplace=True)"
   ]
  },
  {
   "cell_type": "code",
   "execution_count": 433,
   "metadata": {},
   "outputs": [
    {
     "data": {
      "text/plain": [
       "1420"
      ]
     },
     "execution_count": 433,
     "metadata": {},
     "output_type": "execute_result"
    }
   ],
   "source": [
    "df['Qualification'].nunique()"
   ]
  },
  {
   "cell_type": "code",
   "execution_count": 434,
   "metadata": {},
   "outputs": [
    {
     "data": {
      "text/plain": [
       "0             BHMS, MD - Homeopathy\n",
       "1      BAMS, MD - Ayurveda Medicine\n",
       "2    MBBS, MS - Otorhinolaryngology\n",
       "3               BSc - Zoology, BAMS\n",
       "4                              BAMS\n",
       "Name: Qualification, dtype: object"
      ]
     },
     "execution_count": 434,
     "metadata": {},
     "output_type": "execute_result"
    }
   ],
   "source": [
    "df['Qualification'].head()"
   ]
  },
  {
   "cell_type": "code",
   "execution_count": 435,
   "metadata": {},
   "outputs": [],
   "source": [
    "#Define function to remove inconsistencies in the data"
   ]
  },
  {
   "cell_type": "code",
   "execution_count": 436,
   "metadata": {},
   "outputs": [],
   "source": [
    "def changequal(x):\n",
    "    var1=x.split(' ')#splitting on basis of ' '\n",
    "    var2=x.split(',')#Further splitting on basis of ','\n",
    "    if ',' not in x:\n",
    "        return var1[0]\n",
    "    else:\n",
    "        return var2[0]"
   ]
  },
  {
   "cell_type": "code",
   "execution_count": 437,
   "metadata": {},
   "outputs": [],
   "source": [
    "df['Qualification']=df['Qualification'].apply(changequal)\n"
   ]
  },
  {
   "cell_type": "code",
   "execution_count": 438,
   "metadata": {},
   "outputs": [
    {
     "data": {
      "text/html": [
       "<div>\n",
       "<style scoped>\n",
       "    .dataframe tbody tr th:only-of-type {\n",
       "        vertical-align: middle;\n",
       "    }\n",
       "\n",
       "    .dataframe tbody tr th {\n",
       "        vertical-align: top;\n",
       "    }\n",
       "\n",
       "    .dataframe thead th {\n",
       "        text-align: right;\n",
       "    }\n",
       "</style>\n",
       "<table border=\"1\" class=\"dataframe\">\n",
       "  <thead>\n",
       "    <tr style=\"text-align: right;\">\n",
       "      <th></th>\n",
       "      <th>Qualification</th>\n",
       "      <th>Experience</th>\n",
       "      <th>Rating</th>\n",
       "      <th>Place</th>\n",
       "      <th>Profile</th>\n",
       "      <th>Fees</th>\n",
       "    </tr>\n",
       "  </thead>\n",
       "  <tbody>\n",
       "    <tr>\n",
       "      <th>0</th>\n",
       "      <td>BHMS</td>\n",
       "      <td>24</td>\n",
       "      <td>100%</td>\n",
       "      <td>Kakkanad, Ernakulam</td>\n",
       "      <td>Homeopath</td>\n",
       "      <td>100</td>\n",
       "    </tr>\n",
       "    <tr>\n",
       "      <th>1</th>\n",
       "      <td>BAMS</td>\n",
       "      <td>12</td>\n",
       "      <td>98%</td>\n",
       "      <td>Whitefield, Bangalore</td>\n",
       "      <td>Ayurveda</td>\n",
       "      <td>350</td>\n",
       "    </tr>\n",
       "    <tr>\n",
       "      <th>2</th>\n",
       "      <td>MBBS</td>\n",
       "      <td>9</td>\n",
       "      <td>NaN</td>\n",
       "      <td>Mathikere - BEL, Bangalore</td>\n",
       "      <td>ENT Specialist</td>\n",
       "      <td>300</td>\n",
       "    </tr>\n",
       "    <tr>\n",
       "      <th>3</th>\n",
       "      <td>BSc - Zoology</td>\n",
       "      <td>12</td>\n",
       "      <td>NaN</td>\n",
       "      <td>Bannerghatta Road, Bangalore</td>\n",
       "      <td>Ayurveda</td>\n",
       "      <td>250</td>\n",
       "    </tr>\n",
       "    <tr>\n",
       "      <th>4</th>\n",
       "      <td>BAMS</td>\n",
       "      <td>20</td>\n",
       "      <td>100%</td>\n",
       "      <td>Keelkattalai, Chennai</td>\n",
       "      <td>Ayurveda</td>\n",
       "      <td>250</td>\n",
       "    </tr>\n",
       "  </tbody>\n",
       "</table>\n",
       "</div>"
      ],
      "text/plain": [
       "   Qualification Experience Rating                         Place  \\\n",
       "0           BHMS         24   100%           Kakkanad, Ernakulam   \n",
       "1           BAMS         12    98%         Whitefield, Bangalore   \n",
       "2           MBBS          9    NaN    Mathikere - BEL, Bangalore   \n",
       "3  BSc - Zoology         12    NaN  Bannerghatta Road, Bangalore   \n",
       "4           BAMS         20   100%         Keelkattalai, Chennai   \n",
       "\n",
       "          Profile  Fees  \n",
       "0       Homeopath   100  \n",
       "1        Ayurveda   350  \n",
       "2  ENT Specialist   300  \n",
       "3        Ayurveda   250  \n",
       "4        Ayurveda   250  "
      ]
     },
     "execution_count": 438,
     "metadata": {},
     "output_type": "execute_result"
    }
   ],
   "source": [
    "df.head(5)"
   ]
  },
  {
   "cell_type": "code",
   "execution_count": 439,
   "metadata": {},
   "outputs": [],
   "source": [
    "#I can further see few records which still have values like Bsc-Zoology . To remove the '-'"
   ]
  },
  {
   "cell_type": "code",
   "execution_count": 440,
   "metadata": {},
   "outputs": [],
   "source": [
    "def removehyphen(x):\n",
    "    var3=x.split('-')\n",
    "    if '-' in x:\n",
    "        return var3[0]\n",
    "    else:\n",
    "        return x"
   ]
  },
  {
   "cell_type": "code",
   "execution_count": 441,
   "metadata": {},
   "outputs": [],
   "source": [
    "\n",
    "df['Qualification']=df['Qualification'].apply(removehyphen)"
   ]
  },
  {
   "cell_type": "code",
   "execution_count": 442,
   "metadata": {},
   "outputs": [
    {
     "data": {
      "text/plain": [
       "0    BHMS\n",
       "1    BAMS\n",
       "2    MBBS\n",
       "3    BSc \n",
       "4    BAMS\n",
       "Name: Qualification, dtype: object"
      ]
     },
     "execution_count": 442,
     "metadata": {},
     "output_type": "execute_result"
    }
   ],
   "source": [
    "df['Qualification'].head()"
   ]
  },
  {
   "cell_type": "code",
   "execution_count": 443,
   "metadata": {},
   "outputs": [],
   "source": [
    "#Applying the same transformation to test dataset"
   ]
  },
  {
   "cell_type": "code",
   "execution_count": 444,
   "metadata": {},
   "outputs": [],
   "source": [
    "test['Qualification']=test['Qualification'].apply(changequal)"
   ]
  },
  {
   "cell_type": "code",
   "execution_count": 445,
   "metadata": {},
   "outputs": [],
   "source": [
    "test['Qualification']=test['Qualification'].apply(removehyphen)"
   ]
  },
  {
   "cell_type": "code",
   "execution_count": 446,
   "metadata": {},
   "outputs": [
    {
     "data": {
      "text/plain": [
       "MBBS                                                                   865\n",
       "BDS                                                                    371\n",
       "BHMS                                                                   232\n",
       "BAMS                                                                   228\n",
       "MD                                                                      74\n",
       "MDS                                                                     48\n",
       "MS                                                                      31\n",
       "MD                                                                      18\n",
       "MDS                                                                     13\n",
       "DDVL                                                                    13\n",
       "DNB                                                                     13\n",
       "DHMS (Diploma in Homeopathic Medicine and Surgery)                       7\n",
       "Get                                                                      6\n",
       "B.Sc                                                                     6\n",
       "Diploma in Otorhinolaryngology (DLO)                                     6\n",
       "LCEH                                                                     5\n",
       "MS                                                                       5\n",
       "DHMS                                                                     4\n",
       "BSc                                                                      3\n",
       "Diploma                                                                  2\n",
       "Diploma in Dermatology                                                   2\n",
       "DM                                                                       2\n",
       "BSc                                                                      2\n",
       "BSAM                                                                     2\n",
       "FWFO                                                                     1\n",
       "DVD                                                                      1\n",
       "FRCP                                                                     1\n",
       "Certificate in Dental Implants                                           1\n",
       "PhD                                                                      1\n",
       "Diploma in Cardiology                                                    1\n",
       "M.S. (Ayurved) Stri Roga & Prasuti Tantra                                1\n",
       "Diploma in Hospital Administration                                       1\n",
       "DPM (Psychiatry)                                                         1\n",
       "MRCGP                                                                    1\n",
       "FICD                                                                     1\n",
       "FRCS                                                                     1\n",
       "Doctor                                                                   1\n",
       "Diploma in Aesthetic Medicine                                            1\n",
       "DMS                                                                      1\n",
       "Post Graduate Diploma in Diabetology (PGDD)(Madras Medical College)      1\n",
       "Fellowship in Aesthetic Medicine                                         1\n",
       "M.D. (Ayu.)                                                              1\n",
       "DEHM                                                                     1\n",
       "Diploma in ENT                                                           1\n",
       "FPFA                                                                     1\n",
       "DO                                                                       1\n",
       "BPTh/BPT                                                                 1\n",
       "MRCS (UK)                                                                1\n",
       "MRCP (UK)                                                                1\n",
       "FAMS                                                                     1\n",
       "Certification in Aesthetic Dentistry                                     1\n",
       "Diploma in Child Health (DCH)                                            1\n",
       "Post Graduate Certificate in Endodontics (PGCE)                          1\n",
       "Name: Qualification, dtype: int64"
      ]
     },
     "execution_count": 446,
     "metadata": {},
     "output_type": "execute_result"
    }
   ],
   "source": [
    "test['Qualification'].value_counts()\n"
   ]
  },
  {
   "cell_type": "code",
   "execution_count": 447,
   "metadata": {},
   "outputs": [],
   "source": [
    "#To further remove the inconsistensies in data .First using strip to split from the character and then renaming using the loop for the already abbreviated\n"
   ]
  },
  {
   "cell_type": "code",
   "execution_count": 448,
   "metadata": {},
   "outputs": [],
   "source": [
    "   def cleanqual(x):\n",
    "    var=x.strip('.')\n",
    "    tab= var.lower()\n",
    "    mylist=['bsc','diploma','certifi','doctor']\n",
    "    if mylist[0] in tab:\n",
    "        return 'BSC'\n",
    "    elif mylist[1] in tab:\n",
    "        return 'Diploma'\n",
    "    elif mylist[2] in tab:\n",
    "        return 'Certification'\n",
    "    elif mylist[3] in tab:\n",
    "        return 'PhD'\n",
    "    else:\n",
    "        return x\n"
   ]
  },
  {
   "cell_type": "code",
   "execution_count": 449,
   "metadata": {},
   "outputs": [],
   "source": [
    "test['Qualification']=test['Qualification'].apply(cleanqual)"
   ]
  },
  {
   "cell_type": "code",
   "execution_count": 450,
   "metadata": {},
   "outputs": [
    {
     "data": {
      "text/plain": [
       "0    MBBS\n",
       "1    MBBS\n",
       "2    MBBS\n",
       "3    BAMS\n",
       "4     BDS\n",
       "Name: Qualification, dtype: object"
      ]
     },
     "execution_count": 450,
     "metadata": {},
     "output_type": "execute_result"
    }
   ],
   "source": [
    "test['Qualification'].head(5)"
   ]
  },
  {
   "cell_type": "code",
   "execution_count": 451,
   "metadata": {},
   "outputs": [],
   "source": [
    "df['Qualification']=df['Qualification'].apply(cleanqual)"
   ]
  },
  {
   "cell_type": "code",
   "execution_count": 452,
   "metadata": {},
   "outputs": [
    {
     "data": {
      "text/plain": [
       "0    BHMS\n",
       "1    BAMS\n",
       "2    MBBS\n",
       "3     BSC\n",
       "4    BAMS\n",
       "Name: Qualification, dtype: object"
      ]
     },
     "execution_count": 452,
     "metadata": {},
     "output_type": "execute_result"
    }
   ],
   "source": [
    "df['Qualification'].head(5)"
   ]
  },
  {
   "cell_type": "code",
   "execution_count": 453,
   "metadata": {},
   "outputs": [],
   "source": [
    "#Clean place"
   ]
  },
  {
   "cell_type": "code",
   "execution_count": 454,
   "metadata": {},
   "outputs": [],
   "source": [
    "import re\n",
    "def clean_place(x):\n",
    "    x = str(x).lower()\n",
    "    x = re.sub(r'[^a-z0-9]', ' ', x)\n",
    "    x = re.sub(r'\\s+', ' ', x)\n",
    "    return x"
   ]
  },
  {
   "cell_type": "code",
   "execution_count": 455,
   "metadata": {},
   "outputs": [],
   "source": [
    "df['Place'].fillna('missing', inplace=True)\n",
    "test['Place'].fillna('missing', inplace=True)\n",
    "df['Place'] = df['Place'].apply(clean_place)\n",
    "test['Place'] = test['Place'].apply(clean_place)"
   ]
  },
  {
   "cell_type": "code",
   "execution_count": 456,
   "metadata": {},
   "outputs": [
    {
     "data": {
      "text/plain": [
       "0             kakkanad ernakulam\n",
       "1           whitefield bangalore\n",
       "2        mathikere bel bangalore\n",
       "3    bannerghatta road bangalore\n",
       "4           keelkattalai chennai\n",
       "Name: Place, dtype: object"
      ]
     },
     "execution_count": 456,
     "metadata": {},
     "output_type": "execute_result"
    }
   ],
   "source": [
    "df['Place'].head(5)"
   ]
  },
  {
   "cell_type": "code",
   "execution_count": 457,
   "metadata": {},
   "outputs": [
    {
     "data": {
      "text/plain": [
       "Qualification       0\n",
       "Experience          0\n",
       "Rating           3302\n",
       "Place               0\n",
       "Profile             0\n",
       "Fees                0\n",
       "dtype: int64"
      ]
     },
     "execution_count": 457,
     "metadata": {},
     "output_type": "execute_result"
    }
   ],
   "source": [
    "#Check on missing values or null\n",
    "df.isnull().sum()"
   ]
  },
  {
   "cell_type": "code",
   "execution_count": 458,
   "metadata": {},
   "outputs": [
    {
     "data": {
      "text/plain": [
       "True"
      ]
     },
     "execution_count": 458,
     "metadata": {},
     "output_type": "execute_result"
    }
   ],
   "source": [
    "#hence lets process data to handle nulls in rating \n",
    "\n",
    "df['Rating'].isnull().any()"
   ]
  },
  {
   "cell_type": "code",
   "execution_count": 459,
   "metadata": {},
   "outputs": [
    {
     "data": {
      "text/plain": [
       "0    100%\n",
       "1     98%\n",
       "2     NaN\n",
       "3     NaN\n",
       "4    100%\n",
       "Name: Rating, dtype: object"
      ]
     },
     "execution_count": 459,
     "metadata": {},
     "output_type": "execute_result"
    }
   ],
   "source": [
    "df['Rating'].head(5)"
   ]
  },
  {
   "cell_type": "code",
   "execution_count": 460,
   "metadata": {},
   "outputs": [],
   "source": [
    "df['Rating'].fillna('0%', inplace=True)\n",
    "test['Rating'].fillna('0%', inplace=True)"
   ]
  },
  {
   "cell_type": "code",
   "execution_count": 461,
   "metadata": {},
   "outputs": [
    {
     "data": {
      "text/plain": [
       "0    100%\n",
       "1     98%\n",
       "2      0%\n",
       "3      0%\n",
       "4    100%\n",
       "Name: Rating, dtype: object"
      ]
     },
     "execution_count": 461,
     "metadata": {},
     "output_type": "execute_result"
    }
   ],
   "source": [
    "df['Rating'].head(5)"
   ]
  },
  {
   "cell_type": "code",
   "execution_count": 462,
   "metadata": {},
   "outputs": [],
   "source": [
    "#clean data and remove the % to convert to numerical data\n",
    "def removepercent(x):\n",
    "    var4=x.split('%')\n",
    "    if '%' in x:\n",
    "        return var4[0]\n",
    "    else:\n",
    "        return x\n",
    "\n",
    "\n"
   ]
  },
  {
   "cell_type": "code",
   "execution_count": 463,
   "metadata": {},
   "outputs": [],
   "source": [
    "df['Rating'] = df['Rating'].apply(removepercent)\n",
    "\n",
    "\n",
    "test['Rating'] = test['Rating'].apply(removepercent)"
   ]
  },
  {
   "cell_type": "code",
   "execution_count": 464,
   "metadata": {},
   "outputs": [
    {
     "data": {
      "text/plain": [
       "0    100\n",
       "1     98\n",
       "2      0\n",
       "3      0\n",
       "4    100\n",
       "Name: Rating, dtype: object"
      ]
     },
     "execution_count": 464,
     "metadata": {},
     "output_type": "execute_result"
    }
   ],
   "source": [
    "df['Rating'].head(5)"
   ]
  },
  {
   "cell_type": "code",
   "execution_count": 465,
   "metadata": {},
   "outputs": [
    {
     "data": {
      "text/plain": [
       "0      0\n",
       "1      0\n",
       "2     70\n",
       "3      0\n",
       "4    100\n",
       "Name: Rating, dtype: object"
      ]
     },
     "execution_count": 465,
     "metadata": {},
     "output_type": "execute_result"
    }
   ],
   "source": [
    "test['Rating'].head(5)"
   ]
  },
  {
   "cell_type": "code",
   "execution_count": 466,
   "metadata": {},
   "outputs": [
    {
     "data": {
      "text/plain": [
       "hsr layout bangalore          75\n",
       "andheri west mumbai           70\n",
       "dwarka delhi                  67\n",
       "banjara hills hyderabad       64\n",
       "mulund west mumbai            54\n",
       "                              ..\n",
       "kuppakonanpudur coimbatore     1\n",
       "vileparle mumbai               1\n",
       "vasant enclave delhi           1\n",
       "jeevan park delhi              1\n",
       "koovappady ernakulam           1\n",
       "Name: Place, Length: 877, dtype: int64"
      ]
     },
     "execution_count": 466,
     "metadata": {},
     "output_type": "execute_result"
    }
   ],
   "source": [
    "df['Place'].value_counts()"
   ]
  },
  {
   "cell_type": "code",
   "execution_count": 467,
   "metadata": {},
   "outputs": [],
   "source": [
    "#We can see that the place has a area and city, lets get it city basis to have a better vision by city"
   ]
  },
  {
   "cell_type": "code",
   "execution_count": 468,
   "metadata": {},
   "outputs": [],
   "source": [
    "def Place(x):\n",
    "    var5=str(x).split(' ')\n",
    "    return var5[-1]"
   ]
  },
  {
   "cell_type": "code",
   "execution_count": 469,
   "metadata": {},
   "outputs": [],
   "source": [
    "df['Place']=df['Place'].apply(Place)"
   ]
  },
  {
   "cell_type": "code",
   "execution_count": 470,
   "metadata": {},
   "outputs": [],
   "source": [
    "test['Place']=test['Place'].apply(Place)"
   ]
  },
  {
   "cell_type": "code",
   "execution_count": 471,
   "metadata": {},
   "outputs": [
    {
     "data": {
      "text/plain": [
       "0    ernakulam\n",
       "1    bangalore\n",
       "2    bangalore\n",
       "3    bangalore\n",
       "4      chennai\n",
       "Name: Place, dtype: object"
      ]
     },
     "execution_count": 471,
     "metadata": {},
     "output_type": "execute_result"
    }
   ],
   "source": [
    "df['Place'].head(5)"
   ]
  },
  {
   "cell_type": "code",
   "execution_count": 472,
   "metadata": {},
   "outputs": [
    {
     "data": {
      "text/plain": [
       "0       mumbai\n",
       "1    hyderabad\n",
       "2      chennai\n",
       "3        delhi\n",
       "4    bangalore\n",
       "Name: Place, dtype: object"
      ]
     },
     "execution_count": 472,
     "metadata": {},
     "output_type": "execute_result"
    }
   ],
   "source": [
    "test['Place'].head(5)"
   ]
  },
  {
   "cell_type": "code",
   "execution_count": 473,
   "metadata": {},
   "outputs": [],
   "source": [
    "#converting categorical variables to meaningful numbers"
   ]
  },
  {
   "cell_type": "code",
   "execution_count": 474,
   "metadata": {},
   "outputs": [
    {
     "data": {
      "text/plain": [
       "'0'"
      ]
     },
     "execution_count": 474,
     "metadata": {},
     "output_type": "execute_result"
    }
   ],
   "source": [
    "df['Rating'].min()"
   ]
  },
  {
   "cell_type": "code",
   "execution_count": 475,
   "metadata": {},
   "outputs": [
    {
     "data": {
      "text/plain": [
       "0    100\n",
       "1     98\n",
       "2      0\n",
       "3      0\n",
       "4    100\n",
       "Name: Rating, dtype: object"
      ]
     },
     "execution_count": 475,
     "metadata": {},
     "output_type": "execute_result"
    }
   ],
   "source": [
    "df['Rating'].head(5)"
   ]
  },
  {
   "cell_type": "code",
   "execution_count": 476,
   "metadata": {},
   "outputs": [],
   "source": [
    "#If there's rating till 100 so 50 would be mean .Lets also check the fees "
   ]
  },
  {
   "cell_type": "code",
   "execution_count": 477,
   "metadata": {},
   "outputs": [],
   "source": [
    "df['Rating']=df['Rating'].astype(int)\n",
    "\n",
    "test['Rating']=test['Rating'].astype(int)"
   ]
  },
  {
   "cell_type": "code",
   "execution_count": 478,
   "metadata": {},
   "outputs": [
    {
     "data": {
      "text/html": [
       "<div>\n",
       "<style scoped>\n",
       "    .dataframe tbody tr th:only-of-type {\n",
       "        vertical-align: middle;\n",
       "    }\n",
       "\n",
       "    .dataframe tbody tr th {\n",
       "        vertical-align: top;\n",
       "    }\n",
       "\n",
       "    .dataframe thead th {\n",
       "        text-align: right;\n",
       "    }\n",
       "</style>\n",
       "<table border=\"1\" class=\"dataframe\">\n",
       "  <thead>\n",
       "    <tr style=\"text-align: right;\">\n",
       "      <th></th>\n",
       "      <th>Qualification</th>\n",
       "      <th>Experience</th>\n",
       "      <th>Rating</th>\n",
       "      <th>Place</th>\n",
       "      <th>Profile</th>\n",
       "      <th>Fees</th>\n",
       "    </tr>\n",
       "  </thead>\n",
       "  <tbody>\n",
       "    <tr>\n",
       "      <th>2</th>\n",
       "      <td>MBBS</td>\n",
       "      <td>9</td>\n",
       "      <td>0</td>\n",
       "      <td>bangalore</td>\n",
       "      <td>ENT Specialist</td>\n",
       "      <td>300</td>\n",
       "    </tr>\n",
       "    <tr>\n",
       "      <th>3</th>\n",
       "      <td>BSC</td>\n",
       "      <td>12</td>\n",
       "      <td>0</td>\n",
       "      <td>bangalore</td>\n",
       "      <td>Ayurveda</td>\n",
       "      <td>250</td>\n",
       "    </tr>\n",
       "    <tr>\n",
       "      <th>5</th>\n",
       "      <td>BAMS</td>\n",
       "      <td>8</td>\n",
       "      <td>0</td>\n",
       "      <td>chennai</td>\n",
       "      <td>Ayurveda</td>\n",
       "      <td>100</td>\n",
       "    </tr>\n",
       "    <tr>\n",
       "      <th>6</th>\n",
       "      <td>BHMS</td>\n",
       "      <td>42</td>\n",
       "      <td>0</td>\n",
       "      <td>delhi</td>\n",
       "      <td>Homeopath</td>\n",
       "      <td>200</td>\n",
       "    </tr>\n",
       "    <tr>\n",
       "      <th>8</th>\n",
       "      <td>MBBS</td>\n",
       "      <td>14</td>\n",
       "      <td>0</td>\n",
       "      <td>hyderabad</td>\n",
       "      <td>General Medicine</td>\n",
       "      <td>100</td>\n",
       "    </tr>\n",
       "    <tr>\n",
       "      <th>...</th>\n",
       "      <td>...</td>\n",
       "      <td>...</td>\n",
       "      <td>...</td>\n",
       "      <td>...</td>\n",
       "      <td>...</td>\n",
       "      <td>...</td>\n",
       "    </tr>\n",
       "    <tr>\n",
       "      <th>5951</th>\n",
       "      <td>BDS</td>\n",
       "      <td>4</td>\n",
       "      <td>0</td>\n",
       "      <td>bangalore</td>\n",
       "      <td>Dentist</td>\n",
       "      <td>200</td>\n",
       "    </tr>\n",
       "    <tr>\n",
       "      <th>5952</th>\n",
       "      <td>MBBS</td>\n",
       "      <td>47</td>\n",
       "      <td>0</td>\n",
       "      <td>mumbai</td>\n",
       "      <td>General Medicine</td>\n",
       "      <td>100</td>\n",
       "    </tr>\n",
       "    <tr>\n",
       "      <th>5954</th>\n",
       "      <td>BHMS</td>\n",
       "      <td>31</td>\n",
       "      <td>0</td>\n",
       "      <td>delhi</td>\n",
       "      <td>Homeopath</td>\n",
       "      <td>300</td>\n",
       "    </tr>\n",
       "    <tr>\n",
       "      <th>5955</th>\n",
       "      <td>MD</td>\n",
       "      <td>10</td>\n",
       "      <td>0</td>\n",
       "      <td>delhi</td>\n",
       "      <td>Homeopath</td>\n",
       "      <td>300</td>\n",
       "    </tr>\n",
       "    <tr>\n",
       "      <th>5957</th>\n",
       "      <td>MBBS</td>\n",
       "      <td>33</td>\n",
       "      <td>0</td>\n",
       "      <td>chennai</td>\n",
       "      <td>General Medicine</td>\n",
       "      <td>100</td>\n",
       "    </tr>\n",
       "  </tbody>\n",
       "</table>\n",
       "<p>3310 rows × 6 columns</p>\n",
       "</div>"
      ],
      "text/plain": [
       "     Qualification Experience  Rating      Place           Profile  Fees\n",
       "2             MBBS          9       0  bangalore    ENT Specialist   300\n",
       "3              BSC         12       0  bangalore          Ayurveda   250\n",
       "5             BAMS          8       0    chennai          Ayurveda   100\n",
       "6             BHMS         42       0      delhi         Homeopath   200\n",
       "8             MBBS         14       0  hyderabad  General Medicine   100\n",
       "...            ...        ...     ...        ...               ...   ...\n",
       "5951           BDS          4       0  bangalore           Dentist   200\n",
       "5952          MBBS         47       0     mumbai  General Medicine   100\n",
       "5954          BHMS         31       0      delhi         Homeopath   300\n",
       "5955            MD         10       0      delhi         Homeopath   300\n",
       "5957          MBBS         33       0    chennai  General Medicine   100\n",
       "\n",
       "[3310 rows x 6 columns]"
      ]
     },
     "execution_count": 478,
     "metadata": {},
     "output_type": "execute_result"
    }
   ],
   "source": [
    "df[df['Rating']<50]"
   ]
  },
  {
   "cell_type": "code",
   "execution_count": 479,
   "metadata": {},
   "outputs": [],
   "source": [
    "#Correlation matrix "
   ]
  },
  {
   "cell_type": "code",
   "execution_count": 480,
   "metadata": {},
   "outputs": [],
   "source": [
    "#To see correlation among various variables"
   ]
  },
  {
   "cell_type": "code",
   "execution_count": 481,
   "metadata": {},
   "outputs": [
    {
     "data": {
      "text/html": [
       "<div>\n",
       "<style scoped>\n",
       "    .dataframe tbody tr th:only-of-type {\n",
       "        vertical-align: middle;\n",
       "    }\n",
       "\n",
       "    .dataframe tbody tr th {\n",
       "        vertical-align: top;\n",
       "    }\n",
       "\n",
       "    .dataframe thead th {\n",
       "        text-align: right;\n",
       "    }\n",
       "</style>\n",
       "<table border=\"1\" class=\"dataframe\">\n",
       "  <thead>\n",
       "    <tr style=\"text-align: right;\">\n",
       "      <th></th>\n",
       "      <th>Rating</th>\n",
       "      <th>Fees</th>\n",
       "    </tr>\n",
       "  </thead>\n",
       "  <tbody>\n",
       "    <tr>\n",
       "      <th>Rating</th>\n",
       "      <td>1.000000</td>\n",
       "      <td>0.153273</td>\n",
       "    </tr>\n",
       "    <tr>\n",
       "      <th>Fees</th>\n",
       "      <td>0.153273</td>\n",
       "      <td>1.000000</td>\n",
       "    </tr>\n",
       "  </tbody>\n",
       "</table>\n",
       "</div>"
      ],
      "text/plain": [
       "          Rating      Fees\n",
       "Rating  1.000000  0.153273\n",
       "Fees    0.153273  1.000000"
      ]
     },
     "execution_count": 481,
     "metadata": {},
     "output_type": "execute_result"
    }
   ],
   "source": [
    "df.corr()"
   ]
  },
  {
   "cell_type": "code",
   "execution_count": 482,
   "metadata": {},
   "outputs": [
    {
     "data": {
      "text/html": [
       "<div>\n",
       "<style scoped>\n",
       "    .dataframe tbody tr th:only-of-type {\n",
       "        vertical-align: middle;\n",
       "    }\n",
       "\n",
       "    .dataframe tbody tr th {\n",
       "        vertical-align: top;\n",
       "    }\n",
       "\n",
       "    .dataframe thead th {\n",
       "        text-align: right;\n",
       "    }\n",
       "</style>\n",
       "<table border=\"1\" class=\"dataframe\">\n",
       "  <thead>\n",
       "    <tr style=\"text-align: right;\">\n",
       "      <th></th>\n",
       "      <th>Qualification</th>\n",
       "      <th>Experience</th>\n",
       "      <th>Rating</th>\n",
       "      <th>Place</th>\n",
       "      <th>Profile</th>\n",
       "      <th>Fees</th>\n",
       "    </tr>\n",
       "  </thead>\n",
       "  <tbody>\n",
       "    <tr>\n",
       "      <th>0</th>\n",
       "      <td>BHMS</td>\n",
       "      <td>24</td>\n",
       "      <td>100</td>\n",
       "      <td>ernakulam</td>\n",
       "      <td>Homeopath</td>\n",
       "      <td>100</td>\n",
       "    </tr>\n",
       "    <tr>\n",
       "      <th>1</th>\n",
       "      <td>BAMS</td>\n",
       "      <td>12</td>\n",
       "      <td>98</td>\n",
       "      <td>bangalore</td>\n",
       "      <td>Ayurveda</td>\n",
       "      <td>350</td>\n",
       "    </tr>\n",
       "    <tr>\n",
       "      <th>2</th>\n",
       "      <td>MBBS</td>\n",
       "      <td>9</td>\n",
       "      <td>0</td>\n",
       "      <td>bangalore</td>\n",
       "      <td>ENT Specialist</td>\n",
       "      <td>300</td>\n",
       "    </tr>\n",
       "    <tr>\n",
       "      <th>3</th>\n",
       "      <td>BSC</td>\n",
       "      <td>12</td>\n",
       "      <td>0</td>\n",
       "      <td>bangalore</td>\n",
       "      <td>Ayurveda</td>\n",
       "      <td>250</td>\n",
       "    </tr>\n",
       "    <tr>\n",
       "      <th>4</th>\n",
       "      <td>BAMS</td>\n",
       "      <td>20</td>\n",
       "      <td>100</td>\n",
       "      <td>chennai</td>\n",
       "      <td>Ayurveda</td>\n",
       "      <td>250</td>\n",
       "    </tr>\n",
       "    <tr>\n",
       "      <th>...</th>\n",
       "      <td>...</td>\n",
       "      <td>...</td>\n",
       "      <td>...</td>\n",
       "      <td>...</td>\n",
       "      <td>...</td>\n",
       "      <td>...</td>\n",
       "    </tr>\n",
       "    <tr>\n",
       "      <th>5956</th>\n",
       "      <td>MBBS</td>\n",
       "      <td>19</td>\n",
       "      <td>98</td>\n",
       "      <td>bangalore</td>\n",
       "      <td>ENT Specialist</td>\n",
       "      <td>300</td>\n",
       "    </tr>\n",
       "    <tr>\n",
       "      <th>5957</th>\n",
       "      <td>MBBS</td>\n",
       "      <td>33</td>\n",
       "      <td>0</td>\n",
       "      <td>chennai</td>\n",
       "      <td>General Medicine</td>\n",
       "      <td>100</td>\n",
       "    </tr>\n",
       "    <tr>\n",
       "      <th>5958</th>\n",
       "      <td>MBBS</td>\n",
       "      <td>41</td>\n",
       "      <td>97</td>\n",
       "      <td>delhi</td>\n",
       "      <td>General Medicine</td>\n",
       "      <td>600</td>\n",
       "    </tr>\n",
       "    <tr>\n",
       "      <th>5959</th>\n",
       "      <td>MBBS</td>\n",
       "      <td>15</td>\n",
       "      <td>90</td>\n",
       "      <td>mumbai</td>\n",
       "      <td>General Medicine</td>\n",
       "      <td>100</td>\n",
       "    </tr>\n",
       "    <tr>\n",
       "      <th>5960</th>\n",
       "      <td>BDS</td>\n",
       "      <td>17</td>\n",
       "      <td>100</td>\n",
       "      <td>delhi</td>\n",
       "      <td>Dentist</td>\n",
       "      <td>200</td>\n",
       "    </tr>\n",
       "  </tbody>\n",
       "</table>\n",
       "<p>5961 rows × 6 columns</p>\n",
       "</div>"
      ],
      "text/plain": [
       "     Qualification Experience  Rating      Place           Profile  Fees\n",
       "0             BHMS         24     100  ernakulam         Homeopath   100\n",
       "1             BAMS         12      98  bangalore          Ayurveda   350\n",
       "2             MBBS          9       0  bangalore    ENT Specialist   300\n",
       "3              BSC         12       0  bangalore          Ayurveda   250\n",
       "4             BAMS         20     100    chennai          Ayurveda   250\n",
       "...            ...        ...     ...        ...               ...   ...\n",
       "5956          MBBS         19      98  bangalore    ENT Specialist   300\n",
       "5957          MBBS         33       0    chennai  General Medicine   100\n",
       "5958          MBBS         41      97      delhi  General Medicine   600\n",
       "5959          MBBS         15      90     mumbai  General Medicine   100\n",
       "5960           BDS         17     100      delhi           Dentist   200\n",
       "\n",
       "[5961 rows x 6 columns]"
      ]
     },
     "execution_count": 482,
     "metadata": {},
     "output_type": "execute_result"
    }
   ],
   "source": [
    "df"
   ]
  },
  {
   "cell_type": "code",
   "execution_count": 483,
   "metadata": {},
   "outputs": [],
   "source": [
    "#LAets plot a graph to understand "
   ]
  },
  {
   "cell_type": "code",
   "execution_count": 484,
   "metadata": {},
   "outputs": [
    {
     "data": {
      "text/plain": [
       "<matplotlib.collections.PathCollection at 0x14bbe77b970>"
      ]
     },
     "execution_count": 484,
     "metadata": {},
     "output_type": "execute_result"
    },
    {
     "data": {
      "image/png": "[encoded data removed]",
      "text/plain": [
       "<Figure size 432x288 with 1 Axes>"
      ]
     },
     "metadata": {
      "needs_background": "light"
     },
     "output_type": "display_data"
    }
   ],
   "source": [
    "plt.scatter(df['Rating'],df['Fees'])"
   ]
  },
  {
   "cell_type": "code",
   "execution_count": 485,
   "metadata": {},
   "outputs": [
    {
     "data": {
      "text/plain": [
       "Place\n",
       "bangalore             328.842607\n",
       "chennai               283.602339\n",
       "coimbatore            154.298246\n",
       "delhi                 362.911392\n",
       "e                     250.000000\n",
       "ernakulam             188.431373\n",
       "hyderabad             307.507886\n",
       "missing               102.000000\n",
       "mumbai                308.292863\n",
       "thiruvananthapuram    167.267442\n",
       "Name: Fees, dtype: float64"
      ]
     },
     "execution_count": 485,
     "metadata": {},
     "output_type": "execute_result"
    }
   ],
   "source": [
    "# lets plot the graph between places and how it impacts fees taken by doctor\n",
    "\n",
    "df.groupby('Place')['Fees'].mean()"
   ]
  },
  {
   "cell_type": "code",
   "execution_count": 486,
   "metadata": {},
   "outputs": [],
   "source": [
    "#Lets do similar exercise with rating"
   ]
  },
  {
   "cell_type": "code",
   "execution_count": 487,
   "metadata": {},
   "outputs": [
    {
     "data": {
      "text/plain": [
       "0    100\n",
       "1     98\n",
       "2      0\n",
       "3      0\n",
       "4    100\n",
       "Name: Rating, dtype: int32"
      ]
     },
     "execution_count": 487,
     "metadata": {},
     "output_type": "execute_result"
    }
   ],
   "source": [
    "df['Rating'].head(5)"
   ]
  },
  {
   "cell_type": "code",
   "execution_count": 488,
   "metadata": {},
   "outputs": [],
   "source": [
    "#Since max rating is 100 hence assuming 50 as mean "
   ]
  },
  {
   "cell_type": "code",
   "execution_count": 489,
   "metadata": {},
   "outputs": [],
   "source": [
    "def rating(x):\n",
    "    if x<=50: #50 because of max rating is 100\n",
    "        return 1 #because of the meaningful magnitude\n",
    "    if x>50:\n",
    "        return 2"
   ]
  },
  {
   "cell_type": "code",
   "execution_count": 490,
   "metadata": {},
   "outputs": [],
   "source": [
    "df['Rating']=df['Rating'].apply(rating)"
   ]
  },
  {
   "cell_type": "code",
   "execution_count": 491,
   "metadata": {},
   "outputs": [],
   "source": [
    "test['Rating']=test['Rating'].apply(rating)"
   ]
  },
  {
   "cell_type": "code",
   "execution_count": 492,
   "metadata": {},
   "outputs": [],
   "source": [
    "#Now lets understand relation between rating and fees"
   ]
  },
  {
   "cell_type": "code",
   "execution_count": 493,
   "metadata": {},
   "outputs": [
    {
     "data": {
      "text/plain": [
       "Rating\n",
       "1    280.487311\n",
       "2    342.227461\n",
       "Name: Fees, dtype: float64"
      ]
     },
     "execution_count": 493,
     "metadata": {},
     "output_type": "execute_result"
    }
   ],
   "source": [
    "df.groupby('Rating')['Fees'].mean()"
   ]
  },
  {
   "cell_type": "code",
   "execution_count": 494,
   "metadata": {},
   "outputs": [
    {
     "data": {
      "text/plain": [
       "1    0.555276\n",
       "2    0.444724\n",
       "Name: Rating, dtype: float64"
      ]
     },
     "execution_count": 494,
     "metadata": {},
     "output_type": "execute_result"
    }
   ],
   "source": [
    "df['Rating'].value_counts(normalize=True)"
   ]
  },
  {
   "cell_type": "code",
   "execution_count": 495,
   "metadata": {},
   "outputs": [],
   "source": [
    "#Lets look at the feature Experience"
   ]
  },
  {
   "cell_type": "code",
   "execution_count": 496,
   "metadata": {},
   "outputs": [
    {
     "data": {
      "text/plain": [
       "'0'"
      ]
     },
     "execution_count": 496,
     "metadata": {},
     "output_type": "execute_result"
    }
   ],
   "source": [
    "df['Experience'].min()"
   ]
  },
  {
   "cell_type": "code",
   "execution_count": 497,
   "metadata": {},
   "outputs": [
    {
     "data": {
      "text/plain": [
       "'9'"
      ]
     },
     "execution_count": 497,
     "metadata": {},
     "output_type": "execute_result"
    }
   ],
   "source": [
    "df['Experience'].max()"
   ]
  },
  {
   "cell_type": "code",
   "execution_count": 498,
   "metadata": {},
   "outputs": [],
   "source": [
    "df['Experience']=df['Experience'].astype(int)\n",
    "\n",
    "test['Experience']=test['Experience'].astype(int)"
   ]
  },
  {
   "cell_type": "code",
   "execution_count": 499,
   "metadata": {},
   "outputs": [],
   "source": [
    "def experience(x):\n",
    "    if x<=5:  #because the max experience is 9\n",
    "        return 1 #for meaningful magnitude\n",
    "    if x>5:\n",
    "        return 2\n",
    "   "
   ]
  },
  {
   "cell_type": "code",
   "execution_count": 500,
   "metadata": {},
   "outputs": [],
   "source": [
    "df['Experience']=df['Experience'].apply(experience)"
   ]
  },
  {
   "cell_type": "code",
   "execution_count": 501,
   "metadata": {},
   "outputs": [],
   "source": [
    "test['Experience']=test['Experience'].apply(experience)"
   ]
  },
  {
   "cell_type": "code",
   "execution_count": 502,
   "metadata": {},
   "outputs": [
    {
     "data": {
      "text/plain": [
       "2    0.904378\n",
       "1    0.095622\n",
       "Name: Experience, dtype: float64"
      ]
     },
     "execution_count": 502,
     "metadata": {},
     "output_type": "execute_result"
    }
   ],
   "source": [
    "df['Experience'].value_counts(normalize=True)"
   ]
  },
  {
   "cell_type": "code",
   "execution_count": 503,
   "metadata": {},
   "outputs": [],
   "source": [
    "#Only 1 value so no further processing"
   ]
  },
  {
   "cell_type": "code",
   "execution_count": 504,
   "metadata": {},
   "outputs": [],
   "source": [
    "#Data Visualization"
   ]
  },
  {
   "cell_type": "code",
   "execution_count": 505,
   "metadata": {},
   "outputs": [],
   "source": [
    "place=df.groupby('Place')['Fees'].mean()"
   ]
  },
  {
   "cell_type": "code",
   "execution_count": 506,
   "metadata": {},
   "outputs": [],
   "source": [
    "df['Place']=df['Place'].map(place)"
   ]
  },
  {
   "cell_type": "code",
   "execution_count": 507,
   "metadata": {},
   "outputs": [],
   "source": [
    "test['Place']=test['Place'].map(place)"
   ]
  },
  {
   "cell_type": "code",
   "execution_count": 508,
   "metadata": {},
   "outputs": [
    {
     "data": {
      "text/html": [
       "<div>\n",
       "<style scoped>\n",
       "    .dataframe tbody tr th:only-of-type {\n",
       "        vertical-align: middle;\n",
       "    }\n",
       "\n",
       "    .dataframe tbody tr th {\n",
       "        vertical-align: top;\n",
       "    }\n",
       "\n",
       "    .dataframe thead th {\n",
       "        text-align: right;\n",
       "    }\n",
       "</style>\n",
       "<table border=\"1\" class=\"dataframe\">\n",
       "  <thead>\n",
       "    <tr style=\"text-align: right;\">\n",
       "      <th></th>\n",
       "      <th>Qualification</th>\n",
       "      <th>Experience</th>\n",
       "      <th>Rating</th>\n",
       "      <th>Place</th>\n",
       "      <th>Profile</th>\n",
       "      <th>Fees</th>\n",
       "    </tr>\n",
       "  </thead>\n",
       "  <tbody>\n",
       "    <tr>\n",
       "      <th>0</th>\n",
       "      <td>BHMS</td>\n",
       "      <td>2</td>\n",
       "      <td>2</td>\n",
       "      <td>188.431373</td>\n",
       "      <td>Homeopath</td>\n",
       "      <td>100</td>\n",
       "    </tr>\n",
       "    <tr>\n",
       "      <th>1</th>\n",
       "      <td>BAMS</td>\n",
       "      <td>2</td>\n",
       "      <td>2</td>\n",
       "      <td>328.842607</td>\n",
       "      <td>Ayurveda</td>\n",
       "      <td>350</td>\n",
       "    </tr>\n",
       "    <tr>\n",
       "      <th>2</th>\n",
       "      <td>MBBS</td>\n",
       "      <td>2</td>\n",
       "      <td>1</td>\n",
       "      <td>328.842607</td>\n",
       "      <td>ENT Specialist</td>\n",
       "      <td>300</td>\n",
       "    </tr>\n",
       "    <tr>\n",
       "      <th>3</th>\n",
       "      <td>BSC</td>\n",
       "      <td>2</td>\n",
       "      <td>1</td>\n",
       "      <td>328.842607</td>\n",
       "      <td>Ayurveda</td>\n",
       "      <td>250</td>\n",
       "    </tr>\n",
       "    <tr>\n",
       "      <th>4</th>\n",
       "      <td>BAMS</td>\n",
       "      <td>2</td>\n",
       "      <td>2</td>\n",
       "      <td>283.602339</td>\n",
       "      <td>Ayurveda</td>\n",
       "      <td>250</td>\n",
       "    </tr>\n",
       "  </tbody>\n",
       "</table>\n",
       "</div>"
      ],
      "text/plain": [
       "  Qualification  Experience  Rating       Place         Profile  Fees\n",
       "0          BHMS           2       2  188.431373       Homeopath   100\n",
       "1          BAMS           2       2  328.842607        Ayurveda   350\n",
       "2          MBBS           2       1  328.842607  ENT Specialist   300\n",
       "3           BSC           2       1  328.842607        Ayurveda   250\n",
       "4          BAMS           2       2  283.602339        Ayurveda   250"
      ]
     },
     "execution_count": 508,
     "metadata": {},
     "output_type": "execute_result"
    }
   ],
   "source": [
    "df.head()"
   ]
  },
  {
   "cell_type": "code",
   "execution_count": 509,
   "metadata": {},
   "outputs": [],
   "source": [
    "profile=df.groupby('Profile')['Fees'].mean()"
   ]
  },
  {
   "cell_type": "code",
   "execution_count": 510,
   "metadata": {},
   "outputs": [],
   "source": [
    "df['Profile']=df['Profile'].map(profile)"
   ]
  },
  {
   "cell_type": "code",
   "execution_count": 511,
   "metadata": {},
   "outputs": [],
   "source": [
    "\n",
    "test['Profile']=test['Profile'].map(profile)"
   ]
  },
  {
   "cell_type": "code",
   "execution_count": 512,
   "metadata": {},
   "outputs": [],
   "source": [
    "qualification=df.groupby('Qualification')['Fees'].mean()"
   ]
  },
  {
   "cell_type": "code",
   "execution_count": 513,
   "metadata": {},
   "outputs": [],
   "source": [
    "df['Qualification']=df['Qualification'].map(qualification)"
   ]
  },
  {
   "cell_type": "code",
   "execution_count": 514,
   "metadata": {},
   "outputs": [],
   "source": [
    "test['Qualification']=test['Qualification'].map(qualification)"
   ]
  },
  {
   "cell_type": "code",
   "execution_count": 515,
   "metadata": {},
   "outputs": [
    {
     "data": {
      "text/plain": [
       "<matplotlib.axes._subplots.AxesSubplot at 0x14bbe7846d0>"
      ]
     },
     "execution_count": 515,
     "metadata": {},
     "output_type": "execute_result"
    },
    {
     "data": {
      "image/png": "[encoded data removed]",
      "text/plain": [
       "<Figure size 432x288 with 1 Axes>"
      ]
     },
     "metadata": {
      "needs_background": "light"
     },
     "output_type": "display_data"
    }
   ],
   "source": [
    "df['Fees'].hist()"
   ]
  },
  {
   "cell_type": "code",
   "execution_count": 516,
   "metadata": {},
   "outputs": [
    {
     "data": {
      "text/plain": [
       "0    100\n",
       "1    350\n",
       "2    300\n",
       "3    250\n",
       "4    250\n",
       "Name: Fees, dtype: int64"
      ]
     },
     "execution_count": 516,
     "metadata": {},
     "output_type": "execute_result"
    }
   ],
   "source": [
    "df['Fees'].head(5)"
   ]
  },
  {
   "cell_type": "code",
   "execution_count": 379,
   "metadata": {},
   "outputs": [],
   "source": [
    "#Building Model"
   ]
  },
  {
   "cell_type": "code",
   "execution_count": 380,
   "metadata": {},
   "outputs": [],
   "source": [
    "#Splitting the data"
   ]
  },
  {
   "cell_type": "code",
   "execution_count": 517,
   "metadata": {},
   "outputs": [],
   "source": [
    "X=df.drop('Fees',axis=1)\n",
    "y=df['Fees']"
   ]
  },
  {
   "cell_type": "code",
   "execution_count": 518,
   "metadata": {},
   "outputs": [],
   "source": [
    "from sklearn.model_selection import train_test_split"
   ]
  },
  {
   "cell_type": "code",
   "execution_count": 519,
   "metadata": {},
   "outputs": [],
   "source": [
    "X_train, X_test, y_train, y_test = train_test_split(X, y, test_size=0.30, random_state=101)"
   ]
  },
  {
   "cell_type": "code",
   "execution_count": 520,
   "metadata": {},
   "outputs": [
    {
     "data": {
      "text/plain": [
       "((4172, 5), (4172,), (1789, 5), (1789,))"
      ]
     },
     "execution_count": 520,
     "metadata": {},
     "output_type": "execute_result"
    }
   ],
   "source": [
    "X_train.shape, y_train.shape, X_test.shape, y_test.shape"
   ]
  },
  {
   "cell_type": "code",
   "execution_count": 521,
   "metadata": {},
   "outputs": [
    {
     "data": {
      "text/plain": [
       "Index(['Qualification', 'Experience', 'Rating', 'Place', 'Profile'], dtype='object')"
      ]
     },
     "execution_count": 521,
     "metadata": {},
     "output_type": "execute_result"
    }
   ],
   "source": [
    "X_train.columns"
   ]
  },
  {
   "cell_type": "code",
   "execution_count": 522,
   "metadata": {},
   "outputs": [],
   "source": [
    "#!pip install xgboost"
   ]
  },
  {
   "cell_type": "code",
   "execution_count": 523,
   "metadata": {},
   "outputs": [],
   "source": [
    "# from sklearn.preprocessing import StandardScaler\n",
    "\n",
    "\n",
    "from sklearn.preprocessing import StandardScaler\n",
    "from sklearn.neighbors import KNeighborsRegressor\n",
    "from sklearn.preprocessing import PolynomialFeatures\n",
    "from sklearn.metrics import mean_squared_error, r2_score\n"
   ]
  },
  {
   "cell_type": "code",
   "execution_count": 524,
   "metadata": {},
   "outputs": [],
   "source": [
    "scaler = StandardScaler()\n",
    "X_train = scaler.fit_transform(X_train)"
   ]
  },
  {
   "cell_type": "code",
   "execution_count": 525,
   "metadata": {},
   "outputs": [],
   "source": [
    "#Using SVR\n",
    "#First splitting the training set and running a mock analysis on that and then training df_train and predicting from data of df_test"
   ]
  },
  {
   "cell_type": "code",
   "execution_count": 526,
   "metadata": {},
   "outputs": [],
   "source": [
    "from sklearn.svm import SVR\n",
    "reg = SVR(gamma = 0.1)\n",
    "reg.fit(X_train,y_train)\n",
    "ans = reg.predict(scaler.transform(X_test))"
   ]
  },
  {
   "cell_type": "code",
   "execution_count": 527,
   "metadata": {},
   "outputs": [],
   "source": [
    "#Function to define score"
   ]
  },
  {
   "cell_type": "code",
   "execution_count": 528,
   "metadata": {},
   "outputs": [],
   "source": [
    "def score(y_pred,y):\n",
    "    y_pred = np.log(y_pred)\n",
    "    y = np.log(y)\n",
    "    return 1 - ((np.sum((y_pred-y)**2))/len(y))**1/2"
   ]
  },
  {
   "cell_type": "code",
   "execution_count": 529,
   "metadata": {},
   "outputs": [
    {
     "data": {
      "text/plain": [
       "0.7975988847008451"
      ]
     },
     "execution_count": 529,
     "metadata": {},
     "output_type": "execute_result"
    }
   ],
   "source": [
    "score(ans,y_test)\n"
   ]
  },
  {
   "cell_type": "code",
   "execution_count": 530,
   "metadata": {},
   "outputs": [],
   "source": [
    "from sklearn.metrics import make_scorer, mean_squared_error, r2_score\n",
    "scorer = make_scorer(score,greater_is_better=True)"
   ]
  },
  {
   "cell_type": "code",
   "execution_count": 531,
   "metadata": {},
   "outputs": [],
   "source": [
    "from sklearn.model_selection import GridSearchCV\n",
    "\n",
    "parameters = {\"C\":[0.1,1,10],\"kernel\":[\"linear\",\"rbf\",\"poly\"]}\n",
    "reg2 = GridSearchCV(reg,param_grid=parameters,scoring=scorer, n_jobs=-1,cv=4)"
   ]
  },
  {
   "cell_type": "code",
   "execution_count": 532,
   "metadata": {},
   "outputs": [
    {
     "data": {
      "text/plain": [
       "GridSearchCV(cv=4, estimator=SVR(gamma=0.1), n_jobs=-1,\n",
       "             param_grid={'C': [0.1, 1, 10],\n",
       "                         'kernel': ['linear', 'rbf', 'poly']},\n",
       "             scoring=make_scorer(score))"
      ]
     },
     "execution_count": 532,
     "metadata": {},
     "output_type": "execute_result"
    }
   ],
   "source": [
    "reg2.fit(X_train,y_train)"
   ]
  },
  {
   "cell_type": "code",
   "execution_count": 533,
   "metadata": {},
   "outputs": [],
   "source": [
    "ans2 = reg2.predict(scaler.transform(X_test))"
   ]
  },
  {
   "cell_type": "code",
   "execution_count": 534,
   "metadata": {},
   "outputs": [
    {
     "data": {
      "text/plain": [
       "0.7981923402594158"
      ]
     },
     "execution_count": 534,
     "metadata": {},
     "output_type": "execute_result"
    }
   ],
   "source": [
    "score(ans2, y_test)"
   ]
  },
  {
   "cell_type": "code",
   "execution_count": 535,
   "metadata": {},
   "outputs": [],
   "source": [
    "X_test=test[~test.isin([np.nan, np.inf, -np.inf]).any(1)]"
   ]
  },
  {
   "cell_type": "code",
   "execution_count": 536,
   "metadata": {},
   "outputs": [],
   "source": [
    "from sklearn.model_selection import GridSearchCV\n",
    "\n",
    "scaler = StandardScaler()\n",
    "X = scaler.fit_transform(df.drop('Fees',axis=1))\n",
    "y = df['Fees']\n",
    "X_test = scaler.transform(X_test)\n",
    "\n",
    "reg3 = SVR(gamma = 0.1)\n",
    "# reg3.fit(X_train,y_train)\n",
    "\n",
    "parameters = {\"C\":[0.1,1,10],\"kernel\":[\"linear\",\"rbf\",\"poly\"]}\n",
    "reg4 = GridSearchCV(reg3,param_grid=parameters,scoring='r2', n_jobs=-1,cv=4)\n",
    "reg4.fit(X,y)\n",
    "ans = reg4.predict(X_test)"
   ]
  },
  {
   "cell_type": "code",
   "execution_count": 537,
   "metadata": {},
   "outputs": [
    {
     "name": "stdout",
     "output_type": "stream",
     "text": [
      "Training data score 0.7990844831533821\n"
     ]
    }
   ],
   "source": [
    "#Training data score\n",
    "ansX = reg4.predict(X)\n",
    "print(\"Training data score {}\".format(score(y, ansX)))"
   ]
  },
  {
   "cell_type": "code",
   "execution_count": 538,
   "metadata": {},
   "outputs": [],
   "source": [
    "#Predicted fees with SVR "
   ]
  },
  {
   "cell_type": "code",
   "execution_count": 539,
   "metadata": {},
   "outputs": [
    {
     "data": {
      "text/plain": [
       "array([291.61202105, 337.32802383, 375.50261908, 226.68252879,\n",
       "       250.10011113, 222.04439417, 399.90048864, 236.86940064,\n",
       "       320.66240621, 294.64540786])"
      ]
     },
     "execution_count": 539,
     "metadata": {},
     "output_type": "execute_result"
    }
   ],
   "source": [
    "s = pd.Series(ans)\n",
    "s.values[:10]"
   ]
  },
  {
   "cell_type": "code",
   "execution_count": 540,
   "metadata": {},
   "outputs": [],
   "source": [
    "#Using KNN Regressor"
   ]
  },
  {
   "cell_type": "code",
   "execution_count": 541,
   "metadata": {},
   "outputs": [],
   "source": [
    "#First splitting the training set and running a mock analysis on that and then training df_train and predicting from data of df_test¶"
   ]
  },
  {
   "cell_type": "code",
   "execution_count": 542,
   "metadata": {},
   "outputs": [],
   "source": [
    "from sklearn.model_selection import train_test_split\n",
    "X=df.drop('Fees',axis=1)\n",
    "y = df['Fees']\n",
    "\n",
    "X_train, X_test, y_train, y_test = train_test_split(X,y,test_size=0.2)\n",
    "\n",
    "poly = PolynomialFeatures(2)"
   ]
  },
  {
   "cell_type": "code",
   "execution_count": 543,
   "metadata": {},
   "outputs": [],
   "source": [
    "scaler = StandardScaler()\n",
    "X_train = scaler.fit_transform(X_train)\n",
    "X_train_2 = poly.fit_transform(X_train)"
   ]
  },
  {
   "cell_type": "code",
   "execution_count": 545,
   "metadata": {},
   "outputs": [
    {
     "data": {
      "text/plain": [
       "KNeighborsRegressor(n_neighbors=20)"
      ]
     },
     "execution_count": 545,
     "metadata": {},
     "output_type": "execute_result"
    }
   ],
   "source": [
    "neigh = KNeighborsRegressor(n_neighbors=20)\n",
    "neigh.fit(X_train_2, y_train)"
   ]
  },
  {
   "cell_type": "code",
   "execution_count": 546,
   "metadata": {},
   "outputs": [],
   "source": [
    "X_test = scaler.transform(X_test)\n",
    "X_test_2 = poly.transform(X_test)\n",
    "ans = neigh.predict(X_test_2)"
   ]
  },
  {
   "cell_type": "code",
   "execution_count": 547,
   "metadata": {},
   "outputs": [
    {
     "data": {
      "text/plain": [
       "0.8068139746800869"
      ]
     },
     "execution_count": 547,
     "metadata": {},
     "output_type": "execute_result"
    }
   ],
   "source": [
    "score(ans,y_test)"
   ]
  },
  {
   "cell_type": "code",
   "execution_count": 549,
   "metadata": {},
   "outputs": [],
   "source": [
    "# from sklearn.model_selection import GridSearchCV\n",
    "\n",
    "scaler = StandardScaler()\n",
    "X = scaler.fit_transform(df.drop('Fees',axis=1))\n",
    "y = df['Fees']\n",
    "X_test = scaler.transform(test)\n",
    "\n",
    "neigh = KNeighborsRegressor(n_neighbors=20)\n",
    "neigh.fit(X, y)\n",
    "\n",
    "ans = neigh.predict(X)"
   ]
  },
  {
   "cell_type": "code",
   "execution_count": 550,
   "metadata": {},
   "outputs": [
    {
     "data": {
      "text/plain": [
       "0.7940989340850593"
      ]
     },
     "execution_count": 550,
     "metadata": {},
     "output_type": "execute_result"
    }
   ],
   "source": [
    "score(ans,y)"
   ]
  },
  {
   "cell_type": "code",
   "execution_count": 552,
   "metadata": {},
   "outputs": [],
   "source": [
    "X_test1=test[~test.isin([np.nan, np.inf, -np.inf]).any(1)]"
   ]
  },
  {
   "cell_type": "code",
   "execution_count": 553,
   "metadata": {},
   "outputs": [
    {
     "data": {
      "text/plain": [
       "GridSearchCV(cv=4, estimator=KNeighborsRegressor(), n_jobs=-1,\n",
       "             param_grid={'n_neighbors': array([ 2,  3,  4,  5,  6,  7,  8,  9, 10, 11, 12, 13, 14, 15, 16, 17, 18,\n",
       "       19])},\n",
       "             scoring=make_scorer(score))"
      ]
     },
     "execution_count": 553,
     "metadata": {},
     "output_type": "execute_result"
    }
   ],
   "source": [
    "scaler = StandardScaler()\n",
    "poly = PolynomialFeatures(3)\n",
    "\n",
    "\n",
    "X = scaler.fit_transform(df.drop('Fees',axis=1))\n",
    "X_2 = poly.fit_transform(X)\n",
    "y = df['Fees']\n",
    "X_test = scaler.transform(X_test1)\n",
    "X_test_2 = poly.transform(X_test)\n",
    "\n",
    "neigh = KNeighborsRegressor()\n",
    "parameters = {'n_neighbors':np.arange(2,20)}\n",
    "\n",
    "reg = GridSearchCV(neigh,param_grid=parameters,scoring=scorer, n_jobs=-1,cv=4)\n",
    "reg.fit(X_2,y)"
   ]
  },
  {
   "cell_type": "code",
   "execution_count": 554,
   "metadata": {},
   "outputs": [
    {
     "name": "stdout",
     "output_type": "stream",
     "text": [
      "Traing data score 0.7970507474888564\n"
     ]
    }
   ],
   "source": [
    "ans = reg.predict(X_2)\n",
    "print(\"Traing data score {}\".format(score(ans,y)))"
   ]
  },
  {
   "cell_type": "code",
   "execution_count": 555,
   "metadata": {},
   "outputs": [],
   "source": [
    "#Predicted fees with KNN Regressor"
   ]
  },
  {
   "cell_type": "code",
   "execution_count": 556,
   "metadata": {},
   "outputs": [],
   "source": [
    "ans = reg.predict(X_test_2)"
   ]
  },
  {
   "cell_type": "code",
   "execution_count": 557,
   "metadata": {},
   "outputs": [
    {
     "data": {
      "text/plain": [
       "array([189.47368421, 396.31578947, 397.36842105, 244.73684211,\n",
       "       273.68421053, 221.05263158, 455.26315789, 205.26315789,\n",
       "       357.89473684, 252.63157895])"
      ]
     },
     "execution_count": 557,
     "metadata": {},
     "output_type": "execute_result"
    }
   ],
   "source": [
    "s = pd.Series(ans)\n",
    "s.values[:10]"
   ]
  },
  {
   "cell_type": "code",
   "execution_count": 558,
   "metadata": {},
   "outputs": [],
   "source": [
    "#Model saving . As per scores obtained SVR looks to be the best hoever other models are close by"
   ]
  },
  {
   "cell_type": "code",
   "execution_count": 559,
   "metadata": {},
   "outputs": [],
   "source": [
    "import pickle\n",
    "filename='Doctor-con.pkl'\n",
    "pickle.dump(reg,open(filename,'wb'))"
   ]
  },
  {
   "cell_type": "code",
   "execution_count": 565,
   "metadata": {},
   "outputs": [],
   "source": [
    "from pandas import ExcelWriter\n"
   ]
  },
  {
   "cell_type": "code",
   "execution_count": 566,
   "metadata": {},
   "outputs": [],
   "source": [
    "df_sub = pd.DataFrame(data=ans, columns=['Fees'])\n",
    "writer = pd.ExcelWriter('outputdoctor.X)\n",
    "df_sub.to_excel(writer, encoding='utf8', index=False)\n",
    "writer.save()"
   ]
  },
  {
   "cell_type": "code",
   "execution_count": null,
   "metadata": {},
   "outputs": [],
   "source": []
  }
 ],
 "metadata": {
  "kernelspec": {
   "display_name": "Python 3",
   "language": "python",
   "name": "python3"
  },
  "language_info": {
   "codemirror_mode": {
    "name": "ipython",
    "version": 3
   },
   "file_extension": ".py",
   "mimetype": "text/x-python",
   "name": "python",
   "nbconvert_exporter": "python",
   "pygments_lexer": "ipython3",
   "version": "3.8.3"
  }
 },
 "nbformat": 4,
 "nbformat_minor": 4
}
